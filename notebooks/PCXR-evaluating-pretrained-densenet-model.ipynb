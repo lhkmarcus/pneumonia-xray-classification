{
 "cells": [
  {
   "attachments": {},
   "cell_type": "markdown",
   "metadata": {},
   "source": [
    "# DenseNet-169 for Multi-class Classification of CXR Images\n",
    "\n",
    "### Objectives\n",
    "\n",
    "The aim of this notebook is to train variations of the DenseNet arhictecture on the Chest X-ray (Pneumonia) data set sourced from Kaggle. The images are composed of CXR scans representing normal lungs, bacterial pneumonia, and viral pneumonia.\n",
    "\n",
    "A variable classification head will be built on top of the chosen network, in which varying hyperparameters will be configured and evaluated. The experiment tracking will be conducted with the *Weights and Biases* platform. The optimal model will be selected based on a trade-off evaluation between **MCC score** and **validation loss**. \n",
    "\n",
    "### Machine Configurations\n",
    "\n",
    "`GPU` : NVIDIA GeForce RTX 4090;\n",
    "`CPU` : AMD Ryzen 7 3700X 8-Core Processor;\n",
    "`VRAM` : 24.0 GB"
   ]
  },
  {
   "cell_type": "markdown",
   "metadata": {},
   "source": [
    "### Load all required libraries:"
   ]
  },
  {
   "cell_type": "code",
   "execution_count": 1,
   "metadata": {},
   "outputs": [
    {
     "name": "stdout",
     "output_type": "stream",
     "text": [
      "TensorFlow version :  2.10.1\n",
      "[PhysicalDevice(name='/physical_device:GPU:0', device_type='GPU')]\n",
      "Memory growth set.\n"
     ]
    }
   ],
   "source": [
    "import os\n",
    "import matplotlib.pyplot as plt\n",
    "\n",
    "import numpy as np\n",
    "from sklearn.metrics import f1_score, matthews_corrcoef\n",
    "\n",
    "import tensorflow as tf\n",
    "\n",
    "# Suppress TensorFlow messages:\n",
    "os.environ[\"TF_CPP_MIN_LOG_LEVEL\"] = \"3\"\n",
    "import logging\n",
    "logger = tf.get_logger()\n",
    "logger.setLevel(logging.ERROR)\n",
    "\n",
    "print(\"TensorFlow version : \", tf.__version__)  # check TensorFlow version\n",
    "gpu = tf.config.list_physical_devices(\"GPU\")    # check if TensorFlow is using the GPU\n",
    "print(gpu)\n",
    "\n",
    "# Enable memory growth for GPU:\n",
    "try:\n",
    "   tf.config.experimental.set_memory_growth(gpu[0], True)\n",
    "   print(\"Memory growth set.\")\n",
    "except:\n",
    "    print(\"GPU runtime already initialised.\")"
   ]
  },
  {
   "cell_type": "markdown",
   "metadata": {},
   "source": [
    "### Configure experiment:"
   ]
  },
  {
   "cell_type": "code",
   "execution_count": 2,
   "metadata": {},
   "outputs": [
    {
     "name": "stdout",
     "output_type": "stream",
     "text": [
      "env: \"WANDB_NOTEBOOK_NAME\"=\"PCXR-evaluating-pretrained-cnn-model\"\n"
     ]
    },
    {
     "name": "stderr",
     "output_type": "stream",
     "text": [
      "Failed to detect the name of this notebook, you can set it manually with the WANDB_NOTEBOOK_NAME environment variable to enable code saving.\n",
      "\u001b[34m\u001b[1mwandb\u001b[0m: Currently logged in as: \u001b[33mmarcus-lim\u001b[0m. Use \u001b[1m`wandb login --relogin`\u001b[0m to force relogin\n"
     ]
    },
    {
     "data": {
      "text/plain": [
       "True"
      ]
     },
     "execution_count": 2,
     "metadata": {},
     "output_type": "execute_result"
    }
   ],
   "source": [
    "# Configure notebook name for WandB:\n",
    "%env \"WANDB_NOTEBOOK_NAME\" \"PCXR-evaluating-pretrained-cnn-model\"\n",
    "import wandb\n",
    "from wandb.keras import WandbMetricsLogger\n",
    "wandb.login()"
   ]
  },
  {
   "cell_type": "code",
   "execution_count": 3,
   "metadata": {},
   "outputs": [],
   "source": [
    "# Choose method for hyperparameter selection:\n",
    "sweep_config = {\n",
    "    \"method\": \"bayes\"\n",
    "    }"
   ]
  },
  {
   "cell_type": "code",
   "execution_count": 4,
   "metadata": {},
   "outputs": [],
   "source": [
    "# Establish objective to optimise:\n",
    "metric = {\n",
    "    \"name\": \"val_loss\",\n",
    "    \"goal\": \"minimize\"   \n",
    "    }\n",
    "\n",
    "sweep_config[\"metric\"] = metric"
   ]
  },
  {
   "cell_type": "code",
   "execution_count": 5,
   "metadata": {},
   "outputs": [],
   "source": [
    "# Choose hyperparameters to sweep:\n",
    "param_dict = {\n",
    "    \"optimiser\": {\n",
    "        \"values\": [\"adam\", \"sgd\"]\n",
    "        },\n",
    "    \"fc_layer_size_1\": {\n",
    "        \"values\": [16, 32, 64, 128, 256, 512]\n",
    "        },\n",
    "    \"fc_layer_size_2\": {\n",
    "        \"values\": [16, 32, 64, 128, 256, 512]\n",
    "        },\n",
    "    \"dropout_1\": {\n",
    "        \"values\": [0.2, 0.6, 0.8]\n",
    "        },\n",
    "    \"dropout_2\": {\n",
    "        \"values\": [0.2, 0.6, 0.8]\n",
    "        },\n",
    "    \"dropout_3\": {\n",
    "        \"values\": [0.2, 0.6, 0.8]\n",
    "        },\n",
    "    }\n",
    "\n",
    "sweep_config[\"parameters\"] = param_dict"
   ]
  },
  {
   "cell_type": "code",
   "execution_count": 6,
   "metadata": {},
   "outputs": [],
   "source": [
    "# Instantiate constant value for epoch:\n",
    "param_dict.update({\n",
    "    \"epochs\": {\n",
    "        \"value\": 10},\n",
    "    \"batch_size\": {\n",
    "        \"value\": 32}\n",
    "    })"
   ]
  },
  {
   "cell_type": "code",
   "execution_count": 7,
   "metadata": {},
   "outputs": [],
   "source": [
    "# Use uniform distribution for learning rate:\n",
    "param_dict.update({\n",
    "    \"learning_rate\": {\n",
    "        \"distribution\": \"uniform\",\n",
    "        \"min\": 0.0001,\n",
    "        \"max\": 0.005\n",
    "      }\n",
    "    })"
   ]
  },
  {
   "cell_type": "code",
   "execution_count": 8,
   "metadata": {},
   "outputs": [
    {
     "name": "stdout",
     "output_type": "stream",
     "text": [
      "{'method': 'bayes',\n",
      " 'metric': {'goal': 'minimize', 'name': 'val_loss'},\n",
      " 'parameters': {'batch_size': {'value': 32},\n",
      "                'dropout_1': {'values': [0.2, 0.6, 0.8]},\n",
      "                'dropout_2': {'values': [0.2, 0.6, 0.8]},\n",
      "                'dropout_3': {'values': [0.2, 0.6, 0.8]},\n",
      "                'epochs': {'value': 10},\n",
      "                'fc_layer_size_1': {'values': [16, 32, 64, 128, 256, 512]},\n",
      "                'fc_layer_size_2': {'values': [16, 32, 64, 128, 256, 512]},\n",
      "                'learning_rate': {'distribution': 'uniform',\n",
      "                                  'max': 0.005,\n",
      "                                  'min': 0.0001},\n",
      "                'optimiser': {'values': ['adam', 'sgd']}}}\n"
     ]
    }
   ],
   "source": [
    "import pprint\n",
    "\n",
    "pprint.pprint(sweep_config)"
   ]
  },
  {
   "cell_type": "markdown",
   "metadata": {},
   "source": [
    "### Load data:"
   ]
  },
  {
   "cell_type": "code",
   "execution_count": 9,
   "metadata": {},
   "outputs": [],
   "source": [
    "def build_datasets(train_dir=\"..\\\\artifacts\\\\train\",\n",
    "                   test_dir=\"..\\\\artifacts\\\\test\",\n",
    "                   class_names=[\"normal\", \"bacteria\", \"virus\"],\n",
    "                   image_size=(300, 300),\n",
    "                   batch_size=32,\n",
    "                   val_split=0.2):\n",
    "    \n",
    "    train_ds, valid_ds = tf.keras.utils.image_dataset_from_directory(\n",
    "        directory=train_dir,\n",
    "        label_mode=\"int\",\n",
    "        class_names=class_names,\n",
    "        batch_size=batch_size,\n",
    "        image_size=image_size,\n",
    "        shuffle=True,\n",
    "        seed=42,\n",
    "        validation_split=val_split,\n",
    "        subset=\"both\")\n",
    "\n",
    "    test_ds = tf.keras.utils.image_dataset_from_directory(\n",
    "        directory=test_dir,\n",
    "        label_mode=\"int\",\n",
    "        class_names=class_names,\n",
    "        batch_size=batch_size,\n",
    "        image_size=image_size,\n",
    "        shuffle=True,\n",
    "        seed=42,\n",
    "        subset=None)\n",
    "\n",
    "    return (train_ds, valid_ds, test_ds)"
   ]
  },
  {
   "cell_type": "markdown",
   "metadata": {},
   "source": [
    "### Construct network:"
   ]
  },
  {
   "cell_type": "code",
   "execution_count": 10,
   "metadata": {},
   "outputs": [],
   "source": [
    "def build_base_model(img_shape=(300, 300, 3), network=\"densenet-169\"):\n",
    "\n",
    "    if network == \"densenet-121\":\n",
    "        return tf.keras.applications.densenet.DenseNet121(\n",
    "            input_shape=img_shape,\n",
    "            include_top=False,\n",
    "            weights=\"imagenet\")\n",
    "    \n",
    "    if network == \"densenet-169\":\n",
    "        return tf.keras.applications.densenet.DenseNet169(\n",
    "            input_shape=img_shape,\n",
    "            include_top=False,\n",
    "            weights=\"imagenet\")\n",
    "    \n",
    "    if network == \"densenet-201\":\n",
    "        return tf.keras.applications.densenet.DenseNet201(\n",
    "            input_shape=img_shape,\n",
    "            include_top=False,\n",
    "            weights=\"imagenet\")"
   ]
  },
  {
   "cell_type": "code",
   "execution_count": 20,
   "metadata": {},
   "outputs": [],
   "source": [
    "def build_network(network=\"densenet-169\", fc_layer_size_1=64, fc_layer_size_2=64, \n",
    "                  dropout_1=0.2, dropout_2=0.2, dropout_3=0.2):\n",
    "\n",
    "    # Construct base model (default is DenseNet-169)\n",
    "    IMG_SHAPE = (300, 300, 3)\n",
    "    base_model = build_base_model(img_shape=IMG_SHAPE, network=network)\n",
    "\n",
    "    # Freeze convolutional base\n",
    "    base_model.trainable = False\n",
    "\n",
    "    inputs = tf.keras.Input(shape=IMG_SHAPE)\n",
    "\n",
    "    # Add an augmentation layer for additional training data\n",
    "    augment_layer = tf.keras.Sequential([\n",
    "        tf.keras.layers.RandomContrast(factor=0.2, seed=42),\n",
    "        tf.keras.layers.RandomBrightness(factor=0.2, seed=42),\n",
    "        tf.keras.layers.RandomRotation(factor=0.01, seed=42)\n",
    "    ])\n",
    "\n",
    "    # Establish base model architecture:\n",
    "    x = augment_layer(inputs)\n",
    "    x = tf.keras.applications.densenet.preprocess_input(x)\n",
    "    x = base_model(x, training=False)    # Prevent training of BN layers\n",
    "\n",
    "    # Add custom classification head:\n",
    "    x = tf.keras.layers.MaxPooling2D(input_shape=(1664,))(x)\n",
    "    x = tf.keras.layers.Dropout(dropout_1)(x)  # Prevent overfitting\n",
    "    x = tf.keras.layers.Dense(fc_layer_size_1, activation=\"relu\")(x)\n",
    "    x = tf.keras.layers.BatchNormalization()(x)\n",
    "    x = tf.keras.layers.Dropout(dropout_2)(x)\n",
    "\n",
    "    x = tf.keras.layers.GlobalAveragePooling2D()(x)\n",
    "    x = tf.keras.layers.Dropout(dropout_3)(x)\n",
    "\n",
    "    x = tf.keras.layers.Dense(fc_layer_size_2, activation=\"relu\")(x)\n",
    "    outputs = tf.keras.layers.Dense(3, activation=\"softmax\")(x)\n",
    "    return tf.keras.Model(inputs, outputs)"
   ]
  },
  {
   "cell_type": "markdown",
   "metadata": {},
   "source": [
    "### Define optimiser:"
   ]
  },
  {
   "cell_type": "code",
   "execution_count": 21,
   "metadata": {},
   "outputs": [],
   "source": [
    "def build_optimiser(learning_rate=0.0001, optimiser=\"adam\"):\n",
    "    if optimiser.lower() == \"adam\":\n",
    "        return tf.keras.optimizers.Adam(learning_rate=learning_rate)\n",
    "    if optimiser.lower() == \"sgd\":\n",
    "        return tf.keras.optimizers.SGD(learning_rate=learning_rate)"
   ]
  },
  {
   "cell_type": "markdown",
   "metadata": {},
   "source": [
    "### Create callback to log custom metrics:"
   ]
  },
  {
   "cell_type": "code",
   "execution_count": 13,
   "metadata": {},
   "outputs": [],
   "source": [
    "# Compute MCC, F1, and AUC scores and log in WandB:\n",
    "class CustomLogCallback(tf.keras.callbacks.Callback):\n",
    "    def __init__(self, model, x_val, y_val):\n",
    "        super().__init__()\n",
    "        self.model = model\n",
    "        self.x_val = x_val\n",
    "        self.y_val = y_val\n",
    "\n",
    "        # Instantiate metrics:\n",
    "        self._mcc = tf.keras.metrics.Mean(name=\"mcc\")\n",
    "        self._f1score = tf.keras.metrics.Mean(name=\"f1_score\")\n",
    "        self._aucroc = tf.keras.metrics.AUC(name=\"auc_roc\")\n",
    "\n",
    "        self.epoch = 0\n",
    "\n",
    "    def on_epoch_end(self, epoch, logs=None):\n",
    "        self.epoch += 1\n",
    "\n",
    "        # Reset values to 0 for each metric:\n",
    "        self._mcc.reset_state()\n",
    "        self._f1score.reset_state()\n",
    "        self._aucroc.reset_state()\n",
    "\n",
    "        print(\"Generating predictions and computing metrics for Epoch {} \".format(self.epoch))\n",
    "        predictions = self.model.predict(self.x_val)\n",
    "\n",
    "        # Compute values for each metric:\n",
    "        f1score = f1_score(self.y_val, np.argmax(predictions, axis=-1),\n",
    "                           average=None)\n",
    "        mcc = matthews_corrcoef(self.y_val, np.argmax(predictions, axis=-1))\n",
    "\n",
    "        # Update each metric with respective values:\n",
    "        self._mcc.update_state(mcc)\n",
    "        self._f1score.update_state(f1score)\n",
    "        self._aucroc.update_state(self.y_val, np.argmax(predictions, axis=-1))\n",
    "\n",
    "        print(\"training loss : {} , training acc : {} , mcc score : {}\".format(\n",
    "            logs[\"loss\"], logs[\"accuracy\"], self._mcc.result().numpy()\n",
    "        ))\n",
    "        print(\"aucroc score  : {} , f1 score     : {} \".format(\n",
    "            self._aucroc.result().numpy(), self._f1score.result().numpy()\n",
    "        ))\n",
    "\n",
    "        # Log metrics to WandB:\n",
    "        wandb.log({\"mcc\": self._mcc.result().numpy(),\n",
    "                   \"fmeasure\": self._f1score.result().numpy(),\n",
    "                   \"auc_roc\": self._aucroc.result().numpy()})"
   ]
  },
  {
   "cell_type": "markdown",
   "metadata": {},
   "source": [
    "### Create training function:"
   ]
  },
  {
   "cell_type": "code",
   "execution_count": 22,
   "metadata": {},
   "outputs": [
    {
     "name": "stdout",
     "output_type": "stream",
     "text": [
      "Found 4684 files belonging to 3 classes.\n",
      "Using 3748 files for training.\n",
      "Using 936 files for validation.\n",
      "Found 1172 files belonging to 3 classes.\n"
     ]
    }
   ],
   "source": [
    "# Build data sets outside of train function:\n",
    "train_ds, valid_ds, _ = build_datasets(batch_size=None)\n",
    "\n",
    "# Convert validation data to arrays for custom metric computation:\n",
    "x_val = np.reshape(np.concatenate([x for x, _ in valid_ds], axis=0), (936, 300, 300, 3))\n",
    "y_val = np.concatenate(np.reshape([y for _, y in valid_ds], (1, 936)), axis=0)\n",
    "\n",
    "def train(model, train_dir=\"..\\\\artifacts\\\\train\", batch_size=32, \n",
    "          epochs=10, learning_rate=0.0001, optimiser_name=\"adam\"):\n",
    "\n",
    "    tf.keras.backend.clear_session()\n",
    "    train_ds, valid_ds, _ = build_datasets(train_dir=train_dir, batch_size=batch_size)\n",
    "\n",
    "    AUTOTUNE = tf.data.AUTOTUNE\n",
    "\n",
    "    train_ds = train_ds.prefetch(buffer_size=AUTOTUNE)\n",
    "    valid_ds = valid_ds.prefetch(buffer_size=AUTOTUNE)\n",
    "    \n",
    "    optimiser = build_optimiser(learning_rate=learning_rate, optimiser=optimiser_name)\n",
    "\n",
    "    # Compile model:\n",
    "    model.compile(optimizer=optimiser,\n",
    "                  loss=tf.keras.losses.SparseCategoricalCrossentropy(from_logits=False),\n",
    "                  metrics=[\"accuracy\"])\n",
    "    \n",
    "    # Fit model:\n",
    "    # Configure callbacks:\n",
    "    callbacks = [CustomLogCallback(model, x_val, y_val),\n",
    "                 wandb.keras.WandbMetricsLogger()]\n",
    "                 \n",
    "    # Train model:\n",
    "    model.fit(train_ds, \n",
    "              epochs=epochs,\n",
    "              validation_data=valid_ds, \n",
    "              callbacks=callbacks, \n",
    "              verbose=0)"
   ]
  },
  {
   "cell_type": "markdown",
   "metadata": {},
   "source": [
    "# **DenseNet-169 Sweep (unenhanced):**"
   ]
  },
  {
   "cell_type": "markdown",
   "metadata": {},
   "source": [
    "### Create sweep training function:"
   ]
  },
  {
   "cell_type": "code",
   "execution_count": 19,
   "metadata": {},
   "outputs": [],
   "source": [
    "train_dir = \"..\\\\artifacts\\\\train\"\n",
    "network = \"densenet-169\"\n",
    "\n",
    "def sweep_train(config_defaults=None):\n",
    "    \n",
    "    # Initialise wandb and start run:\n",
    "    with wandb.init(config=config_defaults):\n",
    "        \n",
    "        wandb.config.architecture = \"DenseNet\"\n",
    "        wandb.config.dataset = \"Chest X-Ray Images (Pneumonia)\"\n",
    "        wandb.config.num_classes = 3\n",
    "        wandb.notes = \"Sweeping through DenseNet model variations\"\n",
    "\n",
    "        model = build_network(network=network,\n",
    "                              fc_layer_size_1=wandb.config.fc_layer_size_1,\n",
    "                              fc_layer_size_2=wandb.config.fc_layer_size_2,\n",
    "                              dropout_1=wandb.config.dropout_1,\n",
    "                              dropout_2=wandb.config.dropout_2,\n",
    "                              dropout_3=wandb.config.dropout_3)\n",
    "\n",
    "        train(model=model,\n",
    "              train_dir=train_dir,\n",
    "              batch_size=wandb.config.batch_size,\n",
    "              epochs=wandb.config.epochs, \n",
    "              learning_rate=wandb.config.learning_rate,\n",
    "              optimiser_name=wandb.config.optimiser)"
   ]
  },
  {
   "cell_type": "markdown",
   "metadata": {},
   "source": [
    "### Initialise sweep and run agent:"
   ]
  },
  {
   "cell_type": "code",
   "execution_count": 17,
   "metadata": {},
   "outputs": [
    {
     "name": "stdout",
     "output_type": "stream",
     "text": [
      "Create sweep with ID: 8ib2hshg\n",
      "Sweep URL: https://wandb.ai/marcus-lim/PCXR-DenseNet-169-Evaluation/sweeps/8ib2hshg\n"
     ]
    }
   ],
   "source": [
    "sweep_id = wandb.sweep(sweep_config, project=\"PCXR-DenseNet-169-Evaluation\")"
   ]
  },
  {
   "cell_type": "code",
   "execution_count": 18,
   "metadata": {},
   "outputs": [
    {
     "name": "stderr",
     "output_type": "stream",
     "text": [
      "\u001b[34m\u001b[1mwandb\u001b[0m: Agent Starting Run: orybdmqy with config:\n",
      "\u001b[34m\u001b[1mwandb\u001b[0m: \tbatch_size: 32\n",
      "\u001b[34m\u001b[1mwandb\u001b[0m: \tdropout_1: 0.8\n",
      "\u001b[34m\u001b[1mwandb\u001b[0m: \tdropout_2: 0.8\n",
      "\u001b[34m\u001b[1mwandb\u001b[0m: \tdropout_3: 0.8\n",
      "\u001b[34m\u001b[1mwandb\u001b[0m: \tepochs: 10\n",
      "\u001b[34m\u001b[1mwandb\u001b[0m: \tfc_layer_size_1: 256\n",
      "\u001b[34m\u001b[1mwandb\u001b[0m: \tfc_layer_size_2: 256\n",
      "\u001b[34m\u001b[1mwandb\u001b[0m: \tlearning_rate: 0.0012589019710188153\n",
      "\u001b[34m\u001b[1mwandb\u001b[0m: \toptimiser: adam\n",
      "Failed to detect the name of this notebook, you can set it manually with the WANDB_NOTEBOOK_NAME environment variable to enable code saving.\n"
     ]
    },
    {
     "data": {
      "text/html": [
       "wandb version 0.15.10 is available!  To upgrade, please run:\n",
       " $ pip install wandb --upgrade"
      ],
      "text/plain": [
       "<IPython.core.display.HTML object>"
      ]
     },
     "metadata": {},
     "output_type": "display_data"
    },
    {
     "data": {
      "text/html": [
       "Tracking run with wandb version 0.15.5"
      ],
      "text/plain": [
       "<IPython.core.display.HTML object>"
      ]
     },
     "metadata": {},
     "output_type": "display_data"
    },
    {
     "data": {
      "text/html": [
       "Run data is saved locally in <code>c:\\Users\\User\\Projects\\pneumonia-xray-classification\\notebooks\\wandb\\run-20230916_014853-orybdmqy</code>"
      ],
      "text/plain": [
       "<IPython.core.display.HTML object>"
      ]
     },
     "metadata": {},
     "output_type": "display_data"
    },
    {
     "data": {
      "text/html": [
       "Syncing run <strong><a href='https://wandb.ai/marcus-lim/PCXR-DenseNet-169-Evaluation/runs/orybdmqy' target=\"_blank\">chocolate-sweep-1</a></strong> to <a href='https://wandb.ai/marcus-lim/PCXR-DenseNet-169-Evaluation' target=\"_blank\">Weights & Biases</a> (<a href='https://wandb.me/run' target=\"_blank\">docs</a>)<br/>Sweep page: <a href='https://wandb.ai/marcus-lim/PCXR-DenseNet-169-Evaluation/sweeps/8ib2hshg' target=\"_blank\">https://wandb.ai/marcus-lim/PCXR-DenseNet-169-Evaluation/sweeps/8ib2hshg</a>"
      ],
      "text/plain": [
       "<IPython.core.display.HTML object>"
      ]
     },
     "metadata": {},
     "output_type": "display_data"
    },
    {
     "data": {
      "text/html": [
       " View project at <a href='https://wandb.ai/marcus-lim/PCXR-DenseNet-169-Evaluation' target=\"_blank\">https://wandb.ai/marcus-lim/PCXR-DenseNet-169-Evaluation</a>"
      ],
      "text/plain": [
       "<IPython.core.display.HTML object>"
      ]
     },
     "metadata": {},
     "output_type": "display_data"
    },
    {
     "data": {
      "text/html": [
       " View sweep at <a href='https://wandb.ai/marcus-lim/PCXR-DenseNet-169-Evaluation/sweeps/8ib2hshg' target=\"_blank\">https://wandb.ai/marcus-lim/PCXR-DenseNet-169-Evaluation/sweeps/8ib2hshg</a>"
      ],
      "text/plain": [
       "<IPython.core.display.HTML object>"
      ]
     },
     "metadata": {},
     "output_type": "display_data"
    },
    {
     "data": {
      "text/html": [
       " View run at <a href='https://wandb.ai/marcus-lim/PCXR-DenseNet-169-Evaluation/runs/orybdmqy' target=\"_blank\">https://wandb.ai/marcus-lim/PCXR-DenseNet-169-Evaluation/runs/orybdmqy</a>"
      ],
      "text/plain": [
       "<IPython.core.display.HTML object>"
      ]
     },
     "metadata": {},
     "output_type": "display_data"
    },
    {
     "name": "stdout",
     "output_type": "stream",
     "text": [
      "Found 4684 files belonging to 3 classes.\n",
      "Using 3748 files for training.\n",
      "Using 936 files for validation.\n",
      "Found 1172 files belonging to 3 classes.\n",
      "Generating predictions and computing metrics for Epoch 1 \n",
      "30/30 [==============================] - 4s 71ms/step\n",
      "training loss : 1.0229718685150146 , training acc : 0.5448238849639893 , mcc score : 0.581060528755188\n",
      "aucroc score  : 0.8908283710479736 , f1 score     : 0.658346951007843 \n",
      "Generating predictions and computing metrics for Epoch 2 \n",
      "30/30 [==============================] - 2s 70ms/step\n",
      "training loss : 0.8477164506912231 , training acc : 0.6200640201568604 , mcc score : 0.6144558787345886\n",
      "aucroc score  : 0.9071005582809448 , f1 score     : 0.7198393940925598 \n",
      "Generating predictions and computing metrics for Epoch 3 \n",
      "30/30 [==============================] - 2s 69ms/step\n",
      "training loss : 0.7462443709373474 , training acc : 0.6707577109336853 , mcc score : 0.6158942580223083\n",
      "aucroc score  : 0.9093195199966431 , f1 score     : 0.7257828712463379 \n",
      "Generating predictions and computing metrics for Epoch 4 \n",
      "30/30 [==============================] - 2s 70ms/step\n",
      "training loss : 0.72447270154953 , training acc : 0.6827641129493713 , mcc score : 0.6191918849945068\n",
      "aucroc score  : 0.9054734110832214 , f1 score     : 0.7258433699607849 \n",
      "Generating predictions and computing metrics for Epoch 5 \n",
      "30/30 [==============================] - 2s 70ms/step\n",
      "training loss : 0.6957341432571411 , training acc : 0.7009071707725525 , mcc score : 0.6187240481376648\n",
      "aucroc score  : 0.9073964953422546 , f1 score     : 0.7250555157661438 \n",
      "Generating predictions and computing metrics for Epoch 6 \n",
      "30/30 [==============================] - 2s 69ms/step\n",
      "training loss : 0.6823483109474182 , training acc : 0.7091782093048096 , mcc score : 0.6211836934089661\n",
      "aucroc score  : 0.906360924243927 , f1 score     : 0.7311250567436218 \n",
      "Generating predictions and computing metrics for Epoch 7 \n",
      "30/30 [==============================] - 2s 69ms/step\n",
      "training loss : 0.6544461846351624 , training acc : 0.7147812247276306 , mcc score : 0.628486692905426\n",
      "aucroc score  : 0.9131656885147095 , f1 score     : 0.7333315014839172 \n",
      "Generating predictions and computing metrics for Epoch 8 \n",
      "30/30 [==============================] - 2s 69ms/step\n",
      "training loss : 0.6629135012626648 , training acc : 0.7105122804641724 , mcc score : 0.6343053579330444\n",
      "aucroc score  : 0.9140532612800598 , f1 score     : 0.7406590580940247 \n",
      "Generating predictions and computing metrics for Epoch 9 \n",
      "30/30 [==============================] - 2s 71ms/step\n",
      "training loss : 0.6591877937316895 , training acc : 0.7099786400794983 , mcc score : 0.6338678598403931\n",
      "aucroc score  : 0.9156804084777832 , f1 score     : 0.7384437918663025 \n",
      "Generating predictions and computing metrics for Epoch 10 \n",
      "30/30 [==============================] - 2s 69ms/step\n",
      "training loss : 0.6396864652633667 , training acc : 0.7369263768196106 , mcc score : 0.6278042793273926\n",
      "aucroc score  : 0.9106508493423462 , f1 score     : 0.736203134059906 \n"
     ]
    },
    {
     "data": {
      "text/html": [
       "Waiting for W&B process to finish... <strong style=\"color:green\">(success).</strong>"
      ],
      "text/plain": [
       "<IPython.core.display.HTML object>"
      ]
     },
     "metadata": {},
     "output_type": "display_data"
    },
    {
     "data": {
      "text/html": [
       "<style>\n",
       "    table.wandb td:nth-child(1) { padding: 0 10px; text-align: left ; width: auto;} td:nth-child(2) {text-align: left ; width: 100%}\n",
       "    .wandb-row { display: flex; flex-direction: row; flex-wrap: wrap; justify-content: flex-start; width: 100% }\n",
       "    .wandb-col { display: flex; flex-direction: column; flex-basis: 100%; flex: 1; padding: 10px; }\n",
       "    </style>\n",
       "<div class=\"wandb-row\"><div class=\"wandb-col\"><h3>Run history:</h3><br/><table class=\"wandb\"><tr><td>auc_roc</td><td>▁▆▆▅▆▅▇██▇</td></tr><tr><td>epoch/accuracy</td><td>▁▄▆▆▇▇▇▇▇█</td></tr><tr><td>epoch/epoch</td><td>▁▂▃▃▄▅▆▆▇█</td></tr><tr><td>epoch/learning_rate</td><td>▁▁▁▁▁▁▁▁▁▁</td></tr><tr><td>epoch/loss</td><td>█▅▃▃▂▂▁▁▁▁</td></tr><tr><td>epoch/val_accuracy</td><td>▁▆▆▆▅▆▇██▇</td></tr><tr><td>epoch/val_loss</td><td>█▅▄▅▅▄▂▂▁▁</td></tr><tr><td>fmeasure</td><td>▁▆▇▇▇▇▇███</td></tr><tr><td>mcc</td><td>▁▅▆▆▆▆▇██▇</td></tr></table><br/></div><div class=\"wandb-col\"><h3>Run summary:</h3><br/><table class=\"wandb\"><tr><td>auc_roc</td><td>0.91065</td></tr><tr><td>epoch/accuracy</td><td>0.73693</td></tr><tr><td>epoch/epoch</td><td>9</td></tr><tr><td>epoch/learning_rate</td><td>0.00126</td></tr><tr><td>epoch/loss</td><td>0.63969</td></tr><tr><td>epoch/val_accuracy</td><td>0.75962</td></tr><tr><td>epoch/val_loss</td><td>0.55738</td></tr><tr><td>fmeasure</td><td>0.7362</td></tr><tr><td>mcc</td><td>0.6278</td></tr></table><br/></div></div>"
      ],
      "text/plain": [
       "<IPython.core.display.HTML object>"
      ]
     },
     "metadata": {},
     "output_type": "display_data"
    },
    {
     "data": {
      "text/html": [
       " View run <strong style=\"color:#cdcd00\">chocolate-sweep-1</strong> at: <a href='https://wandb.ai/marcus-lim/PCXR-DenseNet-169-Evaluation/runs/orybdmqy' target=\"_blank\">https://wandb.ai/marcus-lim/PCXR-DenseNet-169-Evaluation/runs/orybdmqy</a><br/>Synced 5 W&B file(s), 0 media file(s), 0 artifact file(s) and 0 other file(s)"
      ],
      "text/plain": [
       "<IPython.core.display.HTML object>"
      ]
     },
     "metadata": {},
     "output_type": "display_data"
    },
    {
     "data": {
      "text/html": [
       "Find logs at: <code>.\\wandb\\run-20230916_014853-orybdmqy\\logs</code>"
      ],
      "text/plain": [
       "<IPython.core.display.HTML object>"
      ]
     },
     "metadata": {},
     "output_type": "display_data"
    },
    {
     "name": "stderr",
     "output_type": "stream",
     "text": [
      "\u001b[34m\u001b[1mwandb\u001b[0m: Sweep Agent: Waiting for job.\n",
      "\u001b[34m\u001b[1mwandb\u001b[0m: Job received.\n",
      "\u001b[34m\u001b[1mwandb\u001b[0m: Agent Starting Run: zpk07j50 with config:\n",
      "\u001b[34m\u001b[1mwandb\u001b[0m: \tbatch_size: 32\n",
      "\u001b[34m\u001b[1mwandb\u001b[0m: \tdropout_1: 0.2\n",
      "\u001b[34m\u001b[1mwandb\u001b[0m: \tdropout_2: 0.6\n",
      "\u001b[34m\u001b[1mwandb\u001b[0m: \tdropout_3: 0.8\n",
      "\u001b[34m\u001b[1mwandb\u001b[0m: \tepochs: 10\n",
      "\u001b[34m\u001b[1mwandb\u001b[0m: \tfc_layer_size_1: 256\n",
      "\u001b[34m\u001b[1mwandb\u001b[0m: \tfc_layer_size_2: 32\n",
      "\u001b[34m\u001b[1mwandb\u001b[0m: \tlearning_rate: 0.0024459066191745613\n",
      "\u001b[34m\u001b[1mwandb\u001b[0m: \toptimiser: sgd\n",
      "Failed to detect the name of this notebook, you can set it manually with the WANDB_NOTEBOOK_NAME environment variable to enable code saving.\n"
     ]
    },
    {
     "data": {
      "text/html": [
       "wandb version 0.15.10 is available!  To upgrade, please run:\n",
       " $ pip install wandb --upgrade"
      ],
      "text/plain": [
       "<IPython.core.display.HTML object>"
      ]
     },
     "metadata": {},
     "output_type": "display_data"
    },
    {
     "data": {
      "text/html": [
       "Tracking run with wandb version 0.15.5"
      ],
      "text/plain": [
       "<IPython.core.display.HTML object>"
      ]
     },
     "metadata": {},
     "output_type": "display_data"
    },
    {
     "data": {
      "text/html": [
       "Run data is saved locally in <code>c:\\Users\\User\\Projects\\pneumonia-xray-classification\\notebooks\\wandb\\run-20230916_020111-zpk07j50</code>"
      ],
      "text/plain": [
       "<IPython.core.display.HTML object>"
      ]
     },
     "metadata": {},
     "output_type": "display_data"
    },
    {
     "data": {
      "text/html": [
       "Syncing run <strong><a href='https://wandb.ai/marcus-lim/PCXR-DenseNet-169-Evaluation/runs/zpk07j50' target=\"_blank\">soft-sweep-2</a></strong> to <a href='https://wandb.ai/marcus-lim/PCXR-DenseNet-169-Evaluation' target=\"_blank\">Weights & Biases</a> (<a href='https://wandb.me/run' target=\"_blank\">docs</a>)<br/>Sweep page: <a href='https://wandb.ai/marcus-lim/PCXR-DenseNet-169-Evaluation/sweeps/8ib2hshg' target=\"_blank\">https://wandb.ai/marcus-lim/PCXR-DenseNet-169-Evaluation/sweeps/8ib2hshg</a>"
      ],
      "text/plain": [
       "<IPython.core.display.HTML object>"
      ]
     },
     "metadata": {},
     "output_type": "display_data"
    },
    {
     "data": {
      "text/html": [
       " View project at <a href='https://wandb.ai/marcus-lim/PCXR-DenseNet-169-Evaluation' target=\"_blank\">https://wandb.ai/marcus-lim/PCXR-DenseNet-169-Evaluation</a>"
      ],
      "text/plain": [
       "<IPython.core.display.HTML object>"
      ]
     },
     "metadata": {},
     "output_type": "display_data"
    },
    {
     "data": {
      "text/html": [
       " View sweep at <a href='https://wandb.ai/marcus-lim/PCXR-DenseNet-169-Evaluation/sweeps/8ib2hshg' target=\"_blank\">https://wandb.ai/marcus-lim/PCXR-DenseNet-169-Evaluation/sweeps/8ib2hshg</a>"
      ],
      "text/plain": [
       "<IPython.core.display.HTML object>"
      ]
     },
     "metadata": {},
     "output_type": "display_data"
    },
    {
     "data": {
      "text/html": [
       " View run at <a href='https://wandb.ai/marcus-lim/PCXR-DenseNet-169-Evaluation/runs/zpk07j50' target=\"_blank\">https://wandb.ai/marcus-lim/PCXR-DenseNet-169-Evaluation/runs/zpk07j50</a>"
      ],
      "text/plain": [
       "<IPython.core.display.HTML object>"
      ]
     },
     "metadata": {},
     "output_type": "display_data"
    },
    {
     "name": "stdout",
     "output_type": "stream",
     "text": [
      "Found 4684 files belonging to 3 classes.\n",
      "Using 3748 files for training.\n",
      "Using 936 files for validation.\n",
      "Found 1172 files belonging to 3 classes.\n",
      "Generating predictions and computing metrics for Epoch 1 \n",
      "30/30 [==============================] - 4s 72ms/step\n",
      "training loss : 1.2755179405212402 , training acc : 0.41462114453315735 , mcc score : 0.5366719365119934\n",
      "aucroc score  : 0.8825443387031555 , f1 score     : 0.6647999882698059 \n",
      "Generating predictions and computing metrics for Epoch 2 \n",
      "30/30 [==============================] - 2s 69ms/step\n",
      "training loss : 0.939624547958374 , training acc : 0.5715048313140869 , mcc score : 0.5770829916000366\n",
      "aucroc score  : 0.8914201259613037 , f1 score     : 0.6597205400466919 \n",
      "Generating predictions and computing metrics for Epoch 3 \n",
      "30/30 [==============================] - 2s 70ms/step\n",
      "training loss : 0.8756446242332458 , training acc : 0.6192635893821716 , mcc score : 0.6019359827041626\n",
      "aucroc score  : 0.9017751812934875 , f1 score     : 0.6952491402626038 \n",
      "Generating predictions and computing metrics for Epoch 4 \n",
      "30/30 [==============================] - 2s 69ms/step\n",
      "training loss : 0.8016300201416016 , training acc : 0.6563500761985779 , mcc score : 0.6191933751106262\n",
      "aucroc score  : 0.9143491387367249 , f1 score     : 0.7158706784248352 \n",
      "Generating predictions and computing metrics for Epoch 5 \n",
      "30/30 [==============================] - 2s 69ms/step\n",
      "training loss : 0.7728133797645569 , training acc : 0.6678228378295898 , mcc score : 0.6246386766433716\n",
      "aucroc score  : 0.9124260544776917 , f1 score     : 0.7235217094421387 \n",
      "Generating predictions and computing metrics for Epoch 6 \n",
      "30/30 [==============================] - 2s 69ms/step\n",
      "training loss : 0.7405681610107422 , training acc : 0.6894343495368958 , mcc score : 0.6261292695999146\n",
      "aucroc score  : 0.9158284068107605 , f1 score     : 0.7236921191215515 \n",
      "Generating predictions and computing metrics for Epoch 7 \n",
      "30/30 [==============================] - 2s 69ms/step\n",
      "training loss : 0.7255919575691223 , training acc : 0.6862326860427856 , mcc score : 0.6279047727584839\n",
      "aucroc score  : 0.9158284068107605 , f1 score     : 0.7253223061561584 \n",
      "Generating predictions and computing metrics for Epoch 8 \n",
      "30/30 [==============================] - 3s 87ms/step\n",
      "training loss : 0.7056882381439209 , training acc : 0.6969050168991089 , mcc score : 0.6253839135169983\n",
      "aucroc score  : 0.9084319472312927 , f1 score     : 0.7241700291633606 \n",
      "Generating predictions and computing metrics for Epoch 9 \n",
      "30/30 [==============================] - 2s 69ms/step\n",
      "training loss : 0.6905171871185303 , training acc : 0.7046424746513367 , mcc score : 0.635875403881073\n",
      "aucroc score  : 0.9187869429588318 , f1 score     : 0.734032154083252 \n",
      "Generating predictions and computing metrics for Epoch 10 \n",
      "30/30 [==============================] - 2s 69ms/step\n",
      "training loss : 0.6820423007011414 , training acc : 0.7129135727882385 , mcc score : 0.6370453834533691\n",
      "aucroc score  : 0.918343186378479 , f1 score     : 0.7366002202033997 \n"
     ]
    },
    {
     "data": {
      "text/html": [
       "Waiting for W&B process to finish... <strong style=\"color:green\">(success).</strong>"
      ],
      "text/plain": [
       "<IPython.core.display.HTML object>"
      ]
     },
     "metadata": {},
     "output_type": "display_data"
    },
    {
     "data": {
      "text/html": [
       "<style>\n",
       "    table.wandb td:nth-child(1) { padding: 0 10px; text-align: left ; width: auto;} td:nth-child(2) {text-align: left ; width: 100%}\n",
       "    .wandb-row { display: flex; flex-direction: row; flex-wrap: wrap; justify-content: flex-start; width: 100% }\n",
       "    .wandb-col { display: flex; flex-direction: column; flex-basis: 100%; flex: 1; padding: 10px; }\n",
       "    </style>\n",
       "<div class=\"wandb-row\"><div class=\"wandb-col\"><h3>Run history:</h3><br/><table class=\"wandb\"><tr><td>auc_roc</td><td>▁▃▅▇▇▇▇▆██</td></tr><tr><td>epoch/accuracy</td><td>▁▅▆▇▇▇▇███</td></tr><tr><td>epoch/epoch</td><td>▁▂▃▃▄▅▆▆▇█</td></tr><tr><td>epoch/learning_rate</td><td>▁▁▁▁▁▁▁▁▁▁</td></tr><tr><td>epoch/loss</td><td>█▄▃▂▂▂▂▁▁▁</td></tr><tr><td>epoch/val_accuracy</td><td>▁▃▅▇▇▇▇▇██</td></tr><tr><td>epoch/val_loss</td><td>█▅▃▂▂▂▂▂▁▁</td></tr><tr><td>fmeasure</td><td>▁▁▄▆▇▇▇▇██</td></tr><tr><td>mcc</td><td>▁▄▆▇▇▇▇▇██</td></tr></table><br/></div><div class=\"wandb-col\"><h3>Run summary:</h3><br/><table class=\"wandb\"><tr><td>auc_roc</td><td>0.91834</td></tr><tr><td>epoch/accuracy</td><td>0.71291</td></tr><tr><td>epoch/epoch</td><td>9</td></tr><tr><td>epoch/learning_rate</td><td>0.00245</td></tr><tr><td>epoch/loss</td><td>0.68204</td></tr><tr><td>epoch/val_accuracy</td><td>0.76709</td></tr><tr><td>epoch/val_loss</td><td>0.56943</td></tr><tr><td>fmeasure</td><td>0.7366</td></tr><tr><td>mcc</td><td>0.63705</td></tr></table><br/></div></div>"
      ],
      "text/plain": [
       "<IPython.core.display.HTML object>"
      ]
     },
     "metadata": {},
     "output_type": "display_data"
    },
    {
     "data": {
      "text/html": [
       " View run <strong style=\"color:#cdcd00\">soft-sweep-2</strong> at: <a href='https://wandb.ai/marcus-lim/PCXR-DenseNet-169-Evaluation/runs/zpk07j50' target=\"_blank\">https://wandb.ai/marcus-lim/PCXR-DenseNet-169-Evaluation/runs/zpk07j50</a><br/>Synced 5 W&B file(s), 0 media file(s), 0 artifact file(s) and 0 other file(s)"
      ],
      "text/plain": [
       "<IPython.core.display.HTML object>"
      ]
     },
     "metadata": {},
     "output_type": "display_data"
    },
    {
     "data": {
      "text/html": [
       "Find logs at: <code>.\\wandb\\run-20230916_020111-zpk07j50\\logs</code>"
      ],
      "text/plain": [
       "<IPython.core.display.HTML object>"
      ]
     },
     "metadata": {},
     "output_type": "display_data"
    },
    {
     "name": "stderr",
     "output_type": "stream",
     "text": [
      "\u001b[34m\u001b[1mwandb\u001b[0m: Agent Starting Run: gsrdfmbe with config:\n",
      "\u001b[34m\u001b[1mwandb\u001b[0m: \tbatch_size: 32\n",
      "\u001b[34m\u001b[1mwandb\u001b[0m: \tdropout_1: 0.2\n",
      "\u001b[34m\u001b[1mwandb\u001b[0m: \tdropout_2: 0.6\n",
      "\u001b[34m\u001b[1mwandb\u001b[0m: \tdropout_3: 0.8\n",
      "\u001b[34m\u001b[1mwandb\u001b[0m: \tepochs: 10\n",
      "\u001b[34m\u001b[1mwandb\u001b[0m: \tfc_layer_size_1: 256\n",
      "\u001b[34m\u001b[1mwandb\u001b[0m: \tfc_layer_size_2: 256\n",
      "\u001b[34m\u001b[1mwandb\u001b[0m: \tlearning_rate: 0.0017536576826685398\n",
      "\u001b[34m\u001b[1mwandb\u001b[0m: \toptimiser: adam\n",
      "Failed to detect the name of this notebook, you can set it manually with the WANDB_NOTEBOOK_NAME environment variable to enable code saving.\n"
     ]
    },
    {
     "data": {
      "text/html": [
       "wandb version 0.15.10 is available!  To upgrade, please run:\n",
       " $ pip install wandb --upgrade"
      ],
      "text/plain": [
       "<IPython.core.display.HTML object>"
      ]
     },
     "metadata": {},
     "output_type": "display_data"
    },
    {
     "data": {
      "text/html": [
       "Tracking run with wandb version 0.15.5"
      ],
      "text/plain": [
       "<IPython.core.display.HTML object>"
      ]
     },
     "metadata": {},
     "output_type": "display_data"
    },
    {
     "data": {
      "text/html": [
       "Run data is saved locally in <code>c:\\Users\\User\\Projects\\pneumonia-xray-classification\\notebooks\\wandb\\run-20230916_021326-gsrdfmbe</code>"
      ],
      "text/plain": [
       "<IPython.core.display.HTML object>"
      ]
     },
     "metadata": {},
     "output_type": "display_data"
    },
    {
     "data": {
      "text/html": [
       "Syncing run <strong><a href='https://wandb.ai/marcus-lim/PCXR-DenseNet-169-Evaluation/runs/gsrdfmbe' target=\"_blank\">trim-sweep-3</a></strong> to <a href='https://wandb.ai/marcus-lim/PCXR-DenseNet-169-Evaluation' target=\"_blank\">Weights & Biases</a> (<a href='https://wandb.me/run' target=\"_blank\">docs</a>)<br/>Sweep page: <a href='https://wandb.ai/marcus-lim/PCXR-DenseNet-169-Evaluation/sweeps/8ib2hshg' target=\"_blank\">https://wandb.ai/marcus-lim/PCXR-DenseNet-169-Evaluation/sweeps/8ib2hshg</a>"
      ],
      "text/plain": [
       "<IPython.core.display.HTML object>"
      ]
     },
     "metadata": {},
     "output_type": "display_data"
    },
    {
     "data": {
      "text/html": [
       " View project at <a href='https://wandb.ai/marcus-lim/PCXR-DenseNet-169-Evaluation' target=\"_blank\">https://wandb.ai/marcus-lim/PCXR-DenseNet-169-Evaluation</a>"
      ],
      "text/plain": [
       "<IPython.core.display.HTML object>"
      ]
     },
     "metadata": {},
     "output_type": "display_data"
    },
    {
     "data": {
      "text/html": [
       " View sweep at <a href='https://wandb.ai/marcus-lim/PCXR-DenseNet-169-Evaluation/sweeps/8ib2hshg' target=\"_blank\">https://wandb.ai/marcus-lim/PCXR-DenseNet-169-Evaluation/sweeps/8ib2hshg</a>"
      ],
      "text/plain": [
       "<IPython.core.display.HTML object>"
      ]
     },
     "metadata": {},
     "output_type": "display_data"
    },
    {
     "data": {
      "text/html": [
       " View run at <a href='https://wandb.ai/marcus-lim/PCXR-DenseNet-169-Evaluation/runs/gsrdfmbe' target=\"_blank\">https://wandb.ai/marcus-lim/PCXR-DenseNet-169-Evaluation/runs/gsrdfmbe</a>"
      ],
      "text/plain": [
       "<IPython.core.display.HTML object>"
      ]
     },
     "metadata": {},
     "output_type": "display_data"
    },
    {
     "name": "stdout",
     "output_type": "stream",
     "text": [
      "Found 4684 files belonging to 3 classes.\n",
      "Using 3748 files for training.\n",
      "Using 936 files for validation.\n",
      "Found 1172 files belonging to 3 classes.\n",
      "Generating predictions and computing metrics for Epoch 1 \n",
      "30/30 [==============================] - 4s 72ms/step\n",
      "training loss : 0.742468535900116 , training acc : 0.692369282245636 , mcc score : 0.6384162902832031\n",
      "aucroc score  : 0.9291420578956604 , f1 score     : 0.755303144454956 \n",
      "Generating predictions and computing metrics for Epoch 2 \n",
      "30/30 [==============================] - 2s 71ms/step\n",
      "training loss : 0.617584764957428 , training acc : 0.7478655576705933 , mcc score : 0.6711272597312927\n",
      "aucroc score  : 0.939792811870575 , f1 score     : 0.7587257027626038 \n",
      "Generating predictions and computing metrics for Epoch 3 \n",
      "30/30 [==============================] - 2s 69ms/step\n",
      "training loss : 0.5668087601661682 , training acc : 0.7598719596862793 , mcc score : 0.6731085181236267\n",
      "aucroc score  : 0.9291419982910156 , f1 score     : 0.7719249129295349 \n",
      "Generating predictions and computing metrics for Epoch 4 \n",
      "30/30 [==============================] - 2s 69ms/step\n",
      "training loss : 0.5334451198577881 , training acc : 0.7756136655807495 , mcc score : 0.6594934463500977\n",
      "aucroc score  : 0.923372745513916 , f1 score     : 0.75724858045578 \n",
      "Generating predictions and computing metrics for Epoch 5 \n",
      "30/30 [==============================] - 2s 70ms/step\n",
      "training loss : 0.537202775478363 , training acc : 0.777214527130127 , mcc score : 0.6693611741065979\n",
      "aucroc score  : 0.9313609004020691 , f1 score     : 0.7617197632789612 \n",
      "Generating predictions and computing metrics for Epoch 6 \n",
      "30/30 [==============================] - 2s 69ms/step\n",
      "training loss : 0.5241987705230713 , training acc : 0.7860192060470581 , mcc score : 0.6823599338531494\n",
      "aucroc score  : 0.9337278008460999 , f1 score     : 0.7771546244621277 \n",
      "Generating predictions and computing metrics for Epoch 7 \n",
      "30/30 [==============================] - 2s 69ms/step\n",
      "training loss : 0.5187844634056091 , training acc : 0.785485565662384 , mcc score : 0.691898763179779\n",
      "aucroc score  : 0.939792811870575 , f1 score     : 0.7810098528862 \n",
      "Generating predictions and computing metrics for Epoch 8 \n",
      "30/30 [==============================] - 2s 69ms/step\n",
      "training loss : 0.518052339553833 , training acc : 0.7876200675964355 , mcc score : 0.6693096160888672\n",
      "aucroc score  : 0.9309171438217163 , f1 score     : 0.7727740406990051 \n",
      "Generating predictions and computing metrics for Epoch 9 \n",
      "30/30 [==============================] - 2s 70ms/step\n",
      "training loss : 0.5105761885643005 , training acc : 0.7870864272117615 , mcc score : 0.6724982261657715\n",
      "aucroc score  : 0.9349112510681152 , f1 score     : 0.7714017033576965 \n",
      "Generating predictions and computing metrics for Epoch 10 \n",
      "30/30 [==============================] - 3s 91ms/step\n",
      "training loss : 0.4910218119621277 , training acc : 0.7980256080627441 , mcc score : 0.6931423544883728\n",
      "aucroc score  : 0.9383136034011841 , f1 score     : 0.7861043810844421 \n"
     ]
    },
    {
     "data": {
      "text/html": [
       "Waiting for W&B process to finish... <strong style=\"color:green\">(success).</strong>"
      ],
      "text/plain": [
       "<IPython.core.display.HTML object>"
      ]
     },
     "metadata": {},
     "output_type": "display_data"
    },
    {
     "data": {
      "text/html": [
       "<style>\n",
       "    table.wandb td:nth-child(1) { padding: 0 10px; text-align: left ; width: auto;} td:nth-child(2) {text-align: left ; width: 100%}\n",
       "    .wandb-row { display: flex; flex-direction: row; flex-wrap: wrap; justify-content: flex-start; width: 100% }\n",
       "    .wandb-col { display: flex; flex-direction: column; flex-basis: 100%; flex: 1; padding: 10px; }\n",
       "    </style>\n",
       "<div class=\"wandb-row\"><div class=\"wandb-col\"><h3>Run history:</h3><br/><table class=\"wandb\"><tr><td>auc_roc</td><td>▃█▃▁▄▅█▄▆▇</td></tr><tr><td>epoch/accuracy</td><td>▁▅▅▇▇▇▇▇▇█</td></tr><tr><td>epoch/epoch</td><td>▁▂▃▃▄▅▆▆▇█</td></tr><tr><td>epoch/learning_rate</td><td>▁▁▁▁▁▁▁▁▁▁</td></tr><tr><td>epoch/loss</td><td>█▅▃▂▂▂▂▂▂▁</td></tr><tr><td>epoch/val_accuracy</td><td>▁▆▆▄▆▇█▅▆█</td></tr><tr><td>epoch/val_loss</td><td>█▂▄▇▂▃▁▄▂▁</td></tr><tr><td>fmeasure</td><td>▁▂▅▁▂▆▇▅▅█</td></tr><tr><td>mcc</td><td>▁▅▅▄▅▇█▅▅█</td></tr></table><br/></div><div class=\"wandb-col\"><h3>Run summary:</h3><br/><table class=\"wandb\"><tr><td>auc_roc</td><td>0.93831</td></tr><tr><td>epoch/accuracy</td><td>0.79803</td></tr><tr><td>epoch/epoch</td><td>9</td></tr><tr><td>epoch/learning_rate</td><td>0.00175</td></tr><tr><td>epoch/loss</td><td>0.49102</td></tr><tr><td>epoch/val_accuracy</td><td>0.80556</td></tr><tr><td>epoch/val_loss</td><td>0.49517</td></tr><tr><td>fmeasure</td><td>0.7861</td></tr><tr><td>mcc</td><td>0.69314</td></tr></table><br/></div></div>"
      ],
      "text/plain": [
       "<IPython.core.display.HTML object>"
      ]
     },
     "metadata": {},
     "output_type": "display_data"
    },
    {
     "data": {
      "text/html": [
       " View run <strong style=\"color:#cdcd00\">trim-sweep-3</strong> at: <a href='https://wandb.ai/marcus-lim/PCXR-DenseNet-169-Evaluation/runs/gsrdfmbe' target=\"_blank\">https://wandb.ai/marcus-lim/PCXR-DenseNet-169-Evaluation/runs/gsrdfmbe</a><br/>Synced 5 W&B file(s), 0 media file(s), 0 artifact file(s) and 0 other file(s)"
      ],
      "text/plain": [
       "<IPython.core.display.HTML object>"
      ]
     },
     "metadata": {},
     "output_type": "display_data"
    },
    {
     "data": {
      "text/html": [
       "Find logs at: <code>.\\wandb\\run-20230916_021326-gsrdfmbe\\logs</code>"
      ],
      "text/plain": [
       "<IPython.core.display.HTML object>"
      ]
     },
     "metadata": {},
     "output_type": "display_data"
    },
    {
     "name": "stderr",
     "output_type": "stream",
     "text": [
      "\u001b[34m\u001b[1mwandb\u001b[0m: Sweep Agent: Waiting for job.\n",
      "\u001b[34m\u001b[1mwandb\u001b[0m: Job received.\n",
      "\u001b[34m\u001b[1mwandb\u001b[0m: Agent Starting Run: kyfe1gm1 with config:\n",
      "\u001b[34m\u001b[1mwandb\u001b[0m: \tbatch_size: 32\n",
      "\u001b[34m\u001b[1mwandb\u001b[0m: \tdropout_1: 0.2\n",
      "\u001b[34m\u001b[1mwandb\u001b[0m: \tdropout_2: 0.2\n",
      "\u001b[34m\u001b[1mwandb\u001b[0m: \tdropout_3: 0.8\n",
      "\u001b[34m\u001b[1mwandb\u001b[0m: \tepochs: 10\n",
      "\u001b[34m\u001b[1mwandb\u001b[0m: \tfc_layer_size_1: 128\n",
      "\u001b[34m\u001b[1mwandb\u001b[0m: \tfc_layer_size_2: 512\n",
      "\u001b[34m\u001b[1mwandb\u001b[0m: \tlearning_rate: 0.0033531010773282404\n",
      "\u001b[34m\u001b[1mwandb\u001b[0m: \toptimiser: sgd\n",
      "Failed to detect the name of this notebook, you can set it manually with the WANDB_NOTEBOOK_NAME environment variable to enable code saving.\n"
     ]
    },
    {
     "data": {
      "text/html": [
       "wandb version 0.15.10 is available!  To upgrade, please run:\n",
       " $ pip install wandb --upgrade"
      ],
      "text/plain": [
       "<IPython.core.display.HTML object>"
      ]
     },
     "metadata": {},
     "output_type": "display_data"
    },
    {
     "data": {
      "text/html": [
       "Tracking run with wandb version 0.15.5"
      ],
      "text/plain": [
       "<IPython.core.display.HTML object>"
      ]
     },
     "metadata": {},
     "output_type": "display_data"
    },
    {
     "data": {
      "text/html": [
       "Run data is saved locally in <code>c:\\Users\\User\\Projects\\pneumonia-xray-classification\\notebooks\\wandb\\run-20230916_022538-kyfe1gm1</code>"
      ],
      "text/plain": [
       "<IPython.core.display.HTML object>"
      ]
     },
     "metadata": {},
     "output_type": "display_data"
    },
    {
     "data": {
      "text/html": [
       "Syncing run <strong><a href='https://wandb.ai/marcus-lim/PCXR-DenseNet-169-Evaluation/runs/kyfe1gm1' target=\"_blank\">floral-sweep-4</a></strong> to <a href='https://wandb.ai/marcus-lim/PCXR-DenseNet-169-Evaluation' target=\"_blank\">Weights & Biases</a> (<a href='https://wandb.me/run' target=\"_blank\">docs</a>)<br/>Sweep page: <a href='https://wandb.ai/marcus-lim/PCXR-DenseNet-169-Evaluation/sweeps/8ib2hshg' target=\"_blank\">https://wandb.ai/marcus-lim/PCXR-DenseNet-169-Evaluation/sweeps/8ib2hshg</a>"
      ],
      "text/plain": [
       "<IPython.core.display.HTML object>"
      ]
     },
     "metadata": {},
     "output_type": "display_data"
    },
    {
     "data": {
      "text/html": [
       " View project at <a href='https://wandb.ai/marcus-lim/PCXR-DenseNet-169-Evaluation' target=\"_blank\">https://wandb.ai/marcus-lim/PCXR-DenseNet-169-Evaluation</a>"
      ],
      "text/plain": [
       "<IPython.core.display.HTML object>"
      ]
     },
     "metadata": {},
     "output_type": "display_data"
    },
    {
     "data": {
      "text/html": [
       " View sweep at <a href='https://wandb.ai/marcus-lim/PCXR-DenseNet-169-Evaluation/sweeps/8ib2hshg' target=\"_blank\">https://wandb.ai/marcus-lim/PCXR-DenseNet-169-Evaluation/sweeps/8ib2hshg</a>"
      ],
      "text/plain": [
       "<IPython.core.display.HTML object>"
      ]
     },
     "metadata": {},
     "output_type": "display_data"
    },
    {
     "data": {
      "text/html": [
       " View run at <a href='https://wandb.ai/marcus-lim/PCXR-DenseNet-169-Evaluation/runs/kyfe1gm1' target=\"_blank\">https://wandb.ai/marcus-lim/PCXR-DenseNet-169-Evaluation/runs/kyfe1gm1</a>"
      ],
      "text/plain": [
       "<IPython.core.display.HTML object>"
      ]
     },
     "metadata": {},
     "output_type": "display_data"
    },
    {
     "name": "stdout",
     "output_type": "stream",
     "text": [
      "Found 4684 files belonging to 3 classes.\n",
      "Using 3748 files for training.\n",
      "Using 936 files for validation.\n",
      "Found 1172 files belonging to 3 classes.\n",
      "Generating predictions and computing metrics for Epoch 1 \n",
      "30/30 [==============================] - 4s 74ms/step\n",
      "training loss : 1.0256866216659546 , training acc : 0.5053361654281616 , mcc score : 0.4617750644683838\n",
      "aucroc score  : 0.7887574434280396 , f1 score     : 0.5623332262039185 \n",
      "Generating predictions and computing metrics for Epoch 2 \n",
      "30/30 [==============================] - 2s 69ms/step\n",
      "training loss : 0.8728671669960022 , training acc : 0.6120597720146179 , mcc score : 0.5768118500709534\n",
      "aucroc score  : 0.8726330995559692 , f1 score     : 0.6850448250770569 \n",
      "Generating predictions and computing metrics for Epoch 3 \n",
      "30/30 [==============================] - 2s 70ms/step\n",
      "training loss : 0.8078383803367615 , training acc : 0.6555496454238892 , mcc score : 0.6101897358894348\n",
      "aucroc score  : 0.889349102973938 , f1 score     : 0.7152361869812012 \n",
      "Generating predictions and computing metrics for Epoch 4 \n",
      "30/30 [==============================] - 2s 69ms/step\n",
      "training loss : 0.7514232397079468 , training acc : 0.6800960302352905 , mcc score : 0.6207928657531738\n",
      "aucroc score  : 0.899408221244812 , f1 score     : 0.7234638333320618 \n",
      "Generating predictions and computing metrics for Epoch 5 \n",
      "30/30 [==============================] - 2s 70ms/step\n",
      "training loss : 0.7188093662261963 , training acc : 0.6995730996131897 , mcc score : 0.6263272762298584\n",
      "aucroc score  : 0.9057692289352417 , f1 score     : 0.7328346371650696 \n",
      "Generating predictions and computing metrics for Epoch 6 \n",
      "30/30 [==============================] - 2s 69ms/step\n",
      "training loss : 0.6931338906288147 , training acc : 0.710779070854187 , mcc score : 0.6311441659927368\n",
      "aucroc score  : 0.9121301770210266 , f1 score     : 0.7379803657531738 \n",
      "Generating predictions and computing metrics for Epoch 7 \n",
      "30/30 [==============================] - 2s 69ms/step\n",
      "training loss : 0.6713026762008667 , training acc : 0.7075773477554321 , mcc score : 0.6366659998893738\n",
      "aucroc score  : 0.9196745157241821 , f1 score     : 0.7436991333961487 \n",
      "Generating predictions and computing metrics for Epoch 8 \n",
      "30/30 [==============================] - 2s 69ms/step\n",
      "training loss : 0.6609022617340088 , training acc : 0.7193169593811035 , mcc score : 0.6389392614364624\n",
      "aucroc score  : 0.9215975999832153 , f1 score     : 0.7450447678565979 \n",
      "Generating predictions and computing metrics for Epoch 9 \n",
      "30/30 [==============================] - 2s 69ms/step\n",
      "training loss : 0.6443867683410645 , training acc : 0.726520836353302 , mcc score : 0.6421067714691162\n",
      "aucroc score  : 0.9201183319091797 , f1 score     : 0.7469882965087891 \n",
      "Generating predictions and computing metrics for Epoch 10 \n",
      "30/30 [==============================] - 2s 69ms/step\n",
      "training loss : 0.6329813599586487 , training acc : 0.7337246537208557 , mcc score : 0.6451733708381653\n",
      "aucroc score  : 0.9208580255508423 , f1 score     : 0.7488541603088379 \n"
     ]
    },
    {
     "data": {
      "text/html": [
       "Waiting for W&B process to finish... <strong style=\"color:green\">(success).</strong>"
      ],
      "text/plain": [
       "<IPython.core.display.HTML object>"
      ]
     },
     "metadata": {},
     "output_type": "display_data"
    },
    {
     "data": {
      "text/html": [
       "<style>\n",
       "    table.wandb td:nth-child(1) { padding: 0 10px; text-align: left ; width: auto;} td:nth-child(2) {text-align: left ; width: 100%}\n",
       "    .wandb-row { display: flex; flex-direction: row; flex-wrap: wrap; justify-content: flex-start; width: 100% }\n",
       "    .wandb-col { display: flex; flex-direction: column; flex-basis: 100%; flex: 1; padding: 10px; }\n",
       "    </style>\n",
       "<div class=\"wandb-row\"><div class=\"wandb-col\"><h3>Run history:</h3><br/><table class=\"wandb\"><tr><td>auc_roc</td><td>▁▅▆▇▇█████</td></tr><tr><td>epoch/accuracy</td><td>▁▄▆▆▇▇▇███</td></tr><tr><td>epoch/epoch</td><td>▁▂▃▃▄▅▆▆▇█</td></tr><tr><td>epoch/learning_rate</td><td>▁▁▁▁▁▁▁▁▁▁</td></tr><tr><td>epoch/loss</td><td>█▅▄▃▃▂▂▁▁▁</td></tr><tr><td>epoch/val_accuracy</td><td>▁▅▇▇▇▇████</td></tr><tr><td>epoch/val_loss</td><td>█▅▄▃▂▂▂▁▁▁</td></tr><tr><td>fmeasure</td><td>▁▆▇▇▇█████</td></tr><tr><td>mcc</td><td>▁▅▇▇▇▇████</td></tr></table><br/></div><div class=\"wandb-col\"><h3>Run summary:</h3><br/><table class=\"wandb\"><tr><td>auc_roc</td><td>0.92086</td></tr><tr><td>epoch/accuracy</td><td>0.73372</td></tr><tr><td>epoch/epoch</td><td>9</td></tr><tr><td>epoch/learning_rate</td><td>0.00335</td></tr><tr><td>epoch/loss</td><td>0.63298</td></tr><tr><td>epoch/val_accuracy</td><td>0.7735</td></tr><tr><td>epoch/val_loss</td><td>0.57543</td></tr><tr><td>fmeasure</td><td>0.74885</td></tr><tr><td>mcc</td><td>0.64517</td></tr></table><br/></div></div>"
      ],
      "text/plain": [
       "<IPython.core.display.HTML object>"
      ]
     },
     "metadata": {},
     "output_type": "display_data"
    },
    {
     "data": {
      "text/html": [
       " View run <strong style=\"color:#cdcd00\">floral-sweep-4</strong> at: <a href='https://wandb.ai/marcus-lim/PCXR-DenseNet-169-Evaluation/runs/kyfe1gm1' target=\"_blank\">https://wandb.ai/marcus-lim/PCXR-DenseNet-169-Evaluation/runs/kyfe1gm1</a><br/>Synced 5 W&B file(s), 0 media file(s), 0 artifact file(s) and 0 other file(s)"
      ],
      "text/plain": [
       "<IPython.core.display.HTML object>"
      ]
     },
     "metadata": {},
     "output_type": "display_data"
    },
    {
     "data": {
      "text/html": [
       "Find logs at: <code>.\\wandb\\run-20230916_022538-kyfe1gm1\\logs</code>"
      ],
      "text/plain": [
       "<IPython.core.display.HTML object>"
      ]
     },
     "metadata": {},
     "output_type": "display_data"
    },
    {
     "name": "stderr",
     "output_type": "stream",
     "text": [
      "\u001b[34m\u001b[1mwandb\u001b[0m: Sweep Agent: Waiting for job.\n",
      "\u001b[34m\u001b[1mwandb\u001b[0m: Job received.\n",
      "\u001b[34m\u001b[1mwandb\u001b[0m: Agent Starting Run: we14wysv with config:\n",
      "\u001b[34m\u001b[1mwandb\u001b[0m: \tbatch_size: 32\n",
      "\u001b[34m\u001b[1mwandb\u001b[0m: \tdropout_1: 0.2\n",
      "\u001b[34m\u001b[1mwandb\u001b[0m: \tdropout_2: 0.6\n",
      "\u001b[34m\u001b[1mwandb\u001b[0m: \tdropout_3: 0.2\n",
      "\u001b[34m\u001b[1mwandb\u001b[0m: \tepochs: 10\n",
      "\u001b[34m\u001b[1mwandb\u001b[0m: \tfc_layer_size_1: 32\n",
      "\u001b[34m\u001b[1mwandb\u001b[0m: \tfc_layer_size_2: 512\n",
      "\u001b[34m\u001b[1mwandb\u001b[0m: \tlearning_rate: 0.004133715046779216\n",
      "\u001b[34m\u001b[1mwandb\u001b[0m: \toptimiser: adam\n",
      "Failed to detect the name of this notebook, you can set it manually with the WANDB_NOTEBOOK_NAME environment variable to enable code saving.\n"
     ]
    },
    {
     "data": {
      "text/html": [
       "wandb version 0.15.10 is available!  To upgrade, please run:\n",
       " $ pip install wandb --upgrade"
      ],
      "text/plain": [
       "<IPython.core.display.HTML object>"
      ]
     },
     "metadata": {},
     "output_type": "display_data"
    },
    {
     "data": {
      "text/html": [
       "Tracking run with wandb version 0.15.5"
      ],
      "text/plain": [
       "<IPython.core.display.HTML object>"
      ]
     },
     "metadata": {},
     "output_type": "display_data"
    },
    {
     "data": {
      "text/html": [
       "Run data is saved locally in <code>c:\\Users\\User\\Projects\\pneumonia-xray-classification\\notebooks\\wandb\\run-20230916_023747-we14wysv</code>"
      ],
      "text/plain": [
       "<IPython.core.display.HTML object>"
      ]
     },
     "metadata": {},
     "output_type": "display_data"
    },
    {
     "data": {
      "text/html": [
       "Syncing run <strong><a href='https://wandb.ai/marcus-lim/PCXR-DenseNet-169-Evaluation/runs/we14wysv' target=\"_blank\">ruby-sweep-5</a></strong> to <a href='https://wandb.ai/marcus-lim/PCXR-DenseNet-169-Evaluation' target=\"_blank\">Weights & Biases</a> (<a href='https://wandb.me/run' target=\"_blank\">docs</a>)<br/>Sweep page: <a href='https://wandb.ai/marcus-lim/PCXR-DenseNet-169-Evaluation/sweeps/8ib2hshg' target=\"_blank\">https://wandb.ai/marcus-lim/PCXR-DenseNet-169-Evaluation/sweeps/8ib2hshg</a>"
      ],
      "text/plain": [
       "<IPython.core.display.HTML object>"
      ]
     },
     "metadata": {},
     "output_type": "display_data"
    },
    {
     "data": {
      "text/html": [
       " View project at <a href='https://wandb.ai/marcus-lim/PCXR-DenseNet-169-Evaluation' target=\"_blank\">https://wandb.ai/marcus-lim/PCXR-DenseNet-169-Evaluation</a>"
      ],
      "text/plain": [
       "<IPython.core.display.HTML object>"
      ]
     },
     "metadata": {},
     "output_type": "display_data"
    },
    {
     "data": {
      "text/html": [
       " View sweep at <a href='https://wandb.ai/marcus-lim/PCXR-DenseNet-169-Evaluation/sweeps/8ib2hshg' target=\"_blank\">https://wandb.ai/marcus-lim/PCXR-DenseNet-169-Evaluation/sweeps/8ib2hshg</a>"
      ],
      "text/plain": [
       "<IPython.core.display.HTML object>"
      ]
     },
     "metadata": {},
     "output_type": "display_data"
    },
    {
     "data": {
      "text/html": [
       " View run at <a href='https://wandb.ai/marcus-lim/PCXR-DenseNet-169-Evaluation/runs/we14wysv' target=\"_blank\">https://wandb.ai/marcus-lim/PCXR-DenseNet-169-Evaluation/runs/we14wysv</a>"
      ],
      "text/plain": [
       "<IPython.core.display.HTML object>"
      ]
     },
     "metadata": {},
     "output_type": "display_data"
    },
    {
     "name": "stdout",
     "output_type": "stream",
     "text": [
      "Found 4684 files belonging to 3 classes.\n",
      "Using 3748 files for training.\n",
      "Using 936 files for validation.\n",
      "Found 1172 files belonging to 3 classes.\n",
      "Generating predictions and computing metrics for Epoch 1 \n",
      "30/30 [==============================] - 4s 74ms/step\n",
      "training loss : 0.5986855626106262 , training acc : 0.7574706673622131 , mcc score : 0.6782338619232178\n",
      "aucroc score  : 0.9288461804389954 , f1 score     : 0.7618712782859802 \n",
      "Generating predictions and computing metrics for Epoch 2 \n",
      "30/30 [==============================] - 2s 69ms/step\n",
      "training loss : 0.5213389992713928 , training acc : 0.7897545099258423 , mcc score : 0.6403843760490417\n",
      "aucroc score  : 0.9062129259109497 , f1 score     : 0.720515787601471 \n",
      "Generating predictions and computing metrics for Epoch 3 \n",
      "30/30 [==============================] - 2s 69ms/step\n",
      "training loss : 0.5030367970466614 , training acc : 0.7921558022499084 , mcc score : 0.6496855020523071\n",
      "aucroc score  : 0.9384615421295166 , f1 score     : 0.7292222380638123 \n",
      "Generating predictions and computing metrics for Epoch 4 \n",
      "30/30 [==============================] - 2s 69ms/step\n",
      "training loss : 0.47476157546043396 , training acc : 0.8057630658149719 , mcc score : 0.7063053846359253\n",
      "aucroc score  : 0.9386094808578491 , f1 score     : 0.79539555311203 \n",
      "Generating predictions and computing metrics for Epoch 5 \n",
      "30/30 [==============================] - 2s 67ms/step\n",
      "training loss : 0.4669848382472992 , training acc : 0.812700092792511 , mcc score : 0.6914678812026978\n",
      "aucroc score  : 0.9383136630058289 , f1 score     : 0.7719277739524841 \n",
      "Generating predictions and computing metrics for Epoch 6 \n",
      "30/30 [==============================] - 2s 68ms/step\n",
      "training loss : 0.4635198414325714 , training acc : 0.8049626350402832 , mcc score : 0.6999577283859253\n",
      "aucroc score  : 0.942307710647583 , f1 score     : 0.7888219356536865 \n",
      "Generating predictions and computing metrics for Epoch 7 \n",
      "30/30 [==============================] - 2s 67ms/step\n",
      "training loss : 0.45762917399406433 , training acc : 0.8089647889137268 , mcc score : 0.6832149028778076\n",
      "aucroc score  : 0.9344674348831177 , f1 score     : 0.7797642350196838 \n",
      "Generating predictions and computing metrics for Epoch 8 \n",
      "30/30 [==============================] - 2s 67ms/step\n",
      "training loss : 0.4497481882572174 , training acc : 0.8164354562759399 , mcc score : 0.7051840424537659\n",
      "aucroc score  : 0.9426035284996033 , f1 score     : 0.7917717099189758 \n",
      "Generating predictions and computing metrics for Epoch 9 \n",
      "30/30 [==============================] - 2s 67ms/step\n",
      "training loss : 0.45392847061157227 , training acc : 0.8137673139572144 , mcc score : 0.6750520467758179\n",
      "aucroc score  : 0.938017725944519 , f1 score     : 0.7767135500907898 \n",
      "Generating predictions and computing metrics for Epoch 10 \n",
      "30/30 [==============================] - 2s 67ms/step\n",
      "training loss : 0.44228395819664 , training acc : 0.817769467830658 , mcc score : 0.6769514083862305\n",
      "aucroc score  : 0.9454142451286316 , f1 score     : 0.754856288433075 \n"
     ]
    },
    {
     "data": {
      "text/html": [
       "Waiting for W&B process to finish... <strong style=\"color:green\">(success).</strong>"
      ],
      "text/plain": [
       "<IPython.core.display.HTML object>"
      ]
     },
     "metadata": {},
     "output_type": "display_data"
    },
    {
     "data": {
      "text/html": [
       "<style>\n",
       "    table.wandb td:nth-child(1) { padding: 0 10px; text-align: left ; width: auto;} td:nth-child(2) {text-align: left ; width: 100%}\n",
       "    .wandb-row { display: flex; flex-direction: row; flex-wrap: wrap; justify-content: flex-start; width: 100% }\n",
       "    .wandb-col { display: flex; flex-direction: column; flex-basis: 100%; flex: 1; padding: 10px; }\n",
       "    </style>\n",
       "<div class=\"wandb-row\"><div class=\"wandb-col\"><h3>Run history:</h3><br/><table class=\"wandb\"><tr><td>auc_roc</td><td>▅▁▇▇▇▇▆▇▇█</td></tr><tr><td>epoch/accuracy</td><td>▁▅▅▇▇▇▇███</td></tr><tr><td>epoch/epoch</td><td>▁▂▃▃▄▅▆▆▇█</td></tr><tr><td>epoch/learning_rate</td><td>▁▁▁▁▁▁▁▁▁▁</td></tr><tr><td>epoch/loss</td><td>█▅▄▂▂▂▂▁▂▁</td></tr><tr><td>epoch/val_accuracy</td><td>▅▁▂█▆▇▅█▄▅</td></tr><tr><td>epoch/val_loss</td><td>▃▆█▂▂▁▄▁▄▄</td></tr><tr><td>fmeasure</td><td>▅▁▂█▆▇▇█▆▄</td></tr><tr><td>mcc</td><td>▅▁▂█▆▇▆█▅▅</td></tr></table><br/></div><div class=\"wandb-col\"><h3>Run summary:</h3><br/><table class=\"wandb\"><tr><td>auc_roc</td><td>0.94541</td></tr><tr><td>epoch/accuracy</td><td>0.81777</td></tr><tr><td>epoch/epoch</td><td>9</td></tr><tr><td>epoch/learning_rate</td><td>0.00413</td></tr><tr><td>epoch/loss</td><td>0.44228</td></tr><tr><td>epoch/val_accuracy</td><td>0.79487</td></tr><tr><td>epoch/val_loss</td><td>0.52676</td></tr><tr><td>fmeasure</td><td>0.75486</td></tr><tr><td>mcc</td><td>0.67695</td></tr></table><br/></div></div>"
      ],
      "text/plain": [
       "<IPython.core.display.HTML object>"
      ]
     },
     "metadata": {},
     "output_type": "display_data"
    },
    {
     "data": {
      "text/html": [
       " View run <strong style=\"color:#cdcd00\">ruby-sweep-5</strong> at: <a href='https://wandb.ai/marcus-lim/PCXR-DenseNet-169-Evaluation/runs/we14wysv' target=\"_blank\">https://wandb.ai/marcus-lim/PCXR-DenseNet-169-Evaluation/runs/we14wysv</a><br/>Synced 5 W&B file(s), 0 media file(s), 0 artifact file(s) and 0 other file(s)"
      ],
      "text/plain": [
       "<IPython.core.display.HTML object>"
      ]
     },
     "metadata": {},
     "output_type": "display_data"
    },
    {
     "data": {
      "text/html": [
       "Find logs at: <code>.\\wandb\\run-20230916_023747-we14wysv\\logs</code>"
      ],
      "text/plain": [
       "<IPython.core.display.HTML object>"
      ]
     },
     "metadata": {},
     "output_type": "display_data"
    },
    {
     "name": "stderr",
     "output_type": "stream",
     "text": [
      "\u001b[34m\u001b[1mwandb\u001b[0m: Agent Starting Run: 632br98q with config:\n",
      "\u001b[34m\u001b[1mwandb\u001b[0m: \tbatch_size: 32\n",
      "\u001b[34m\u001b[1mwandb\u001b[0m: \tdropout_1: 0.8\n",
      "\u001b[34m\u001b[1mwandb\u001b[0m: \tdropout_2: 0.2\n",
      "\u001b[34m\u001b[1mwandb\u001b[0m: \tdropout_3: 0.8\n",
      "\u001b[34m\u001b[1mwandb\u001b[0m: \tepochs: 10\n",
      "\u001b[34m\u001b[1mwandb\u001b[0m: \tfc_layer_size_1: 64\n",
      "\u001b[34m\u001b[1mwandb\u001b[0m: \tfc_layer_size_2: 64\n",
      "\u001b[34m\u001b[1mwandb\u001b[0m: \tlearning_rate: 0.0010997355399317904\n",
      "\u001b[34m\u001b[1mwandb\u001b[0m: \toptimiser: sgd\n",
      "Failed to detect the name of this notebook, you can set it manually with the WANDB_NOTEBOOK_NAME environment variable to enable code saving.\n"
     ]
    },
    {
     "data": {
      "text/html": [
       "wandb version 0.15.10 is available!  To upgrade, please run:\n",
       " $ pip install wandb --upgrade"
      ],
      "text/plain": [
       "<IPython.core.display.HTML object>"
      ]
     },
     "metadata": {},
     "output_type": "display_data"
    },
    {
     "data": {
      "text/html": [
       "Tracking run with wandb version 0.15.5"
      ],
      "text/plain": [
       "<IPython.core.display.HTML object>"
      ]
     },
     "metadata": {},
     "output_type": "display_data"
    },
    {
     "data": {
      "text/html": [
       "Run data is saved locally in <code>c:\\Users\\User\\Projects\\pneumonia-xray-classification\\notebooks\\wandb\\run-20230916_024946-632br98q</code>"
      ],
      "text/plain": [
       "<IPython.core.display.HTML object>"
      ]
     },
     "metadata": {},
     "output_type": "display_data"
    },
    {
     "data": {
      "text/html": [
       "Syncing run <strong><a href='https://wandb.ai/marcus-lim/PCXR-DenseNet-169-Evaluation/runs/632br98q' target=\"_blank\">stoic-sweep-6</a></strong> to <a href='https://wandb.ai/marcus-lim/PCXR-DenseNet-169-Evaluation' target=\"_blank\">Weights & Biases</a> (<a href='https://wandb.me/run' target=\"_blank\">docs</a>)<br/>Sweep page: <a href='https://wandb.ai/marcus-lim/PCXR-DenseNet-169-Evaluation/sweeps/8ib2hshg' target=\"_blank\">https://wandb.ai/marcus-lim/PCXR-DenseNet-169-Evaluation/sweeps/8ib2hshg</a>"
      ],
      "text/plain": [
       "<IPython.core.display.HTML object>"
      ]
     },
     "metadata": {},
     "output_type": "display_data"
    },
    {
     "data": {
      "text/html": [
       " View project at <a href='https://wandb.ai/marcus-lim/PCXR-DenseNet-169-Evaluation' target=\"_blank\">https://wandb.ai/marcus-lim/PCXR-DenseNet-169-Evaluation</a>"
      ],
      "text/plain": [
       "<IPython.core.display.HTML object>"
      ]
     },
     "metadata": {},
     "output_type": "display_data"
    },
    {
     "data": {
      "text/html": [
       " View sweep at <a href='https://wandb.ai/marcus-lim/PCXR-DenseNet-169-Evaluation/sweeps/8ib2hshg' target=\"_blank\">https://wandb.ai/marcus-lim/PCXR-DenseNet-169-Evaluation/sweeps/8ib2hshg</a>"
      ],
      "text/plain": [
       "<IPython.core.display.HTML object>"
      ]
     },
     "metadata": {},
     "output_type": "display_data"
    },
    {
     "data": {
      "text/html": [
       " View run at <a href='https://wandb.ai/marcus-lim/PCXR-DenseNet-169-Evaluation/runs/632br98q' target=\"_blank\">https://wandb.ai/marcus-lim/PCXR-DenseNet-169-Evaluation/runs/632br98q</a>"
      ],
      "text/plain": [
       "<IPython.core.display.HTML object>"
      ]
     },
     "metadata": {},
     "output_type": "display_data"
    },
    {
     "name": "stdout",
     "output_type": "stream",
     "text": [
      "Found 4684 files belonging to 3 classes.\n",
      "Using 3748 files for training.\n",
      "Using 936 files for validation.\n",
      "Found 1172 files belonging to 3 classes.\n",
      "Generating predictions and computing metrics for Epoch 1 \n",
      "30/30 [==============================] - 4s 68ms/step\n",
      "training loss : 1.318817377090454 , training acc : 0.2852187752723694 , mcc score : -0.027150271460413933\n",
      "aucroc score  : 0.49955618381500244 , f1 score     : 0.14473316073417664 \n",
      "Generating predictions and computing metrics for Epoch 2 \n",
      "30/30 [==============================] - 2s 67ms/step\n",
      "training loss : 1.2137562036514282 , training acc : 0.3193703293800354 , mcc score : 0.14695028960704803\n",
      "aucroc score  : 0.5708580017089844 , f1 score     : 0.27305105328559875 \n",
      "Generating predictions and computing metrics for Epoch 3 \n",
      "30/30 [==============================] - 2s 67ms/step\n",
      "training loss : 1.1443955898284912 , training acc : 0.3748666048049927 , mcc score : 0.32872292399406433\n",
      "aucroc score  : 0.7187870144844055 , f1 score     : 0.42549943923950195 \n",
      "Generating predictions and computing metrics for Epoch 4 \n",
      "30/30 [==============================] - 2s 67ms/step\n",
      "training loss : 1.087934970855713 , training acc : 0.42902880907058716 , mcc score : 0.35595256090164185\n",
      "aucroc score  : 0.7292899489402771 , f1 score     : 0.44435563683509827 \n",
      "Generating predictions and computing metrics for Epoch 5 \n",
      "30/30 [==============================] - 2s 67ms/step\n",
      "training loss : 1.073375940322876 , training acc : 0.4405016005039215 , mcc score : 0.344165563583374\n",
      "aucroc score  : 0.7155325412750244 , f1 score     : 0.43563833832740784 \n",
      "Generating predictions and computing metrics for Epoch 6 \n",
      "30/30 [==============================] - 2s 67ms/step\n",
      "training loss : 1.043225884437561 , training acc : 0.47545358538627625 , mcc score : 0.3524940609931946\n",
      "aucroc score  : 0.7131657004356384 , f1 score     : 0.4355579912662506 \n",
      "Generating predictions and computing metrics for Epoch 7 \n",
      "30/30 [==============================] - 2s 79ms/step\n",
      "training loss : 1.02693510055542 , training acc : 0.48719316720962524 , mcc score : 0.36280691623687744\n",
      "aucroc score  : 0.7273668646812439 , f1 score     : 0.44224223494529724 \n",
      "Generating predictions and computing metrics for Epoch 8 \n",
      "30/30 [==============================] - 2s 69ms/step\n",
      "training loss : 1.017540454864502 , training acc : 0.5034685134887695 , mcc score : 0.37343811988830566\n",
      "aucroc score  : 0.7396450042724609 , f1 score     : 0.44942808151245117 \n",
      "Generating predictions and computing metrics for Epoch 9 \n",
      "30/30 [==============================] - 2s 69ms/step\n",
      "training loss : 0.9979473948478699 , training acc : 0.5130736231803894 , mcc score : 0.3859732747077942\n",
      "aucroc score  : 0.7551774978637695 , f1 score     : 0.4583943784236908 \n",
      "Generating predictions and computing metrics for Epoch 10 \n",
      "30/30 [==============================] - 2s 69ms/step\n",
      "training loss : 0.9856422543525696 , training acc : 0.5296158194541931 , mcc score : 0.3989138603210449\n",
      "aucroc score  : 0.7634615302085876 , f1 score     : 0.46461740136146545 \n"
     ]
    },
    {
     "data": {
      "text/html": [
       "Waiting for W&B process to finish... <strong style=\"color:green\">(success).</strong>"
      ],
      "text/plain": [
       "<IPython.core.display.HTML object>"
      ]
     },
     "metadata": {},
     "output_type": "display_data"
    },
    {
     "data": {
      "text/html": [
       "<style>\n",
       "    table.wandb td:nth-child(1) { padding: 0 10px; text-align: left ; width: auto;} td:nth-child(2) {text-align: left ; width: 100%}\n",
       "    .wandb-row { display: flex; flex-direction: row; flex-wrap: wrap; justify-content: flex-start; width: 100% }\n",
       "    .wandb-col { display: flex; flex-direction: column; flex-basis: 100%; flex: 1; padding: 10px; }\n",
       "    </style>\n",
       "<div class=\"wandb-row\"><div class=\"wandb-col\"><h3>Run history:</h3><br/><table class=\"wandb\"><tr><td>auc_roc</td><td>▁▃▇▇▇▇▇▇██</td></tr><tr><td>epoch/accuracy</td><td>▁▂▄▅▅▆▇▇██</td></tr><tr><td>epoch/epoch</td><td>▁▂▃▃▄▅▆▆▇█</td></tr><tr><td>epoch/learning_rate</td><td>▁▁▁▁▁▁▁▁▁▁</td></tr><tr><td>epoch/loss</td><td>█▆▄▃▃▂▂▂▁▁</td></tr><tr><td>epoch/val_accuracy</td><td>▁▃▇█▇█████</td></tr><tr><td>epoch/val_loss</td><td>█▆▅▄▃▃▂▂▁▁</td></tr><tr><td>fmeasure</td><td>▁▄▇█▇▇████</td></tr><tr><td>mcc</td><td>▁▄▇▇▇▇▇███</td></tr></table><br/></div><div class=\"wandb-col\"><h3>Run summary:</h3><br/><table class=\"wandb\"><tr><td>auc_roc</td><td>0.76346</td></tr><tr><td>epoch/accuracy</td><td>0.52962</td></tr><tr><td>epoch/epoch</td><td>9</td></tr><tr><td>epoch/learning_rate</td><td>0.0011</td></tr><tr><td>epoch/loss</td><td>0.98564</td></tr><tr><td>epoch/val_accuracy</td><td>0.62393</td></tr><tr><td>epoch/val_loss</td><td>0.91482</td></tr><tr><td>fmeasure</td><td>0.46462</td></tr><tr><td>mcc</td><td>0.39891</td></tr></table><br/></div></div>"
      ],
      "text/plain": [
       "<IPython.core.display.HTML object>"
      ]
     },
     "metadata": {},
     "output_type": "display_data"
    },
    {
     "data": {
      "text/html": [
       " View run <strong style=\"color:#cdcd00\">stoic-sweep-6</strong> at: <a href='https://wandb.ai/marcus-lim/PCXR-DenseNet-169-Evaluation/runs/632br98q' target=\"_blank\">https://wandb.ai/marcus-lim/PCXR-DenseNet-169-Evaluation/runs/632br98q</a><br/>Synced 5 W&B file(s), 0 media file(s), 0 artifact file(s) and 0 other file(s)"
      ],
      "text/plain": [
       "<IPython.core.display.HTML object>"
      ]
     },
     "metadata": {},
     "output_type": "display_data"
    },
    {
     "data": {
      "text/html": [
       "Find logs at: <code>.\\wandb\\run-20230916_024946-632br98q\\logs</code>"
      ],
      "text/plain": [
       "<IPython.core.display.HTML object>"
      ]
     },
     "metadata": {},
     "output_type": "display_data"
    },
    {
     "name": "stderr",
     "output_type": "stream",
     "text": [
      "\u001b[34m\u001b[1mwandb\u001b[0m: Sweep Agent: Waiting for job.\n",
      "\u001b[34m\u001b[1mwandb\u001b[0m: Job received.\n",
      "\u001b[34m\u001b[1mwandb\u001b[0m: Agent Starting Run: 2wgvqv52 with config:\n",
      "\u001b[34m\u001b[1mwandb\u001b[0m: \tbatch_size: 32\n",
      "\u001b[34m\u001b[1mwandb\u001b[0m: \tdropout_1: 0.6\n",
      "\u001b[34m\u001b[1mwandb\u001b[0m: \tdropout_2: 0.2\n",
      "\u001b[34m\u001b[1mwandb\u001b[0m: \tdropout_3: 0.6\n",
      "\u001b[34m\u001b[1mwandb\u001b[0m: \tepochs: 10\n",
      "\u001b[34m\u001b[1mwandb\u001b[0m: \tfc_layer_size_1: 32\n",
      "\u001b[34m\u001b[1mwandb\u001b[0m: \tfc_layer_size_2: 128\n",
      "\u001b[34m\u001b[1mwandb\u001b[0m: \tlearning_rate: 0.003688468791592297\n",
      "\u001b[34m\u001b[1mwandb\u001b[0m: \toptimiser: adam\n",
      "Failed to detect the name of this notebook, you can set it manually with the WANDB_NOTEBOOK_NAME environment variable to enable code saving.\n"
     ]
    },
    {
     "data": {
      "text/html": [
       "wandb version 0.15.10 is available!  To upgrade, please run:\n",
       " $ pip install wandb --upgrade"
      ],
      "text/plain": [
       "<IPython.core.display.HTML object>"
      ]
     },
     "metadata": {},
     "output_type": "display_data"
    },
    {
     "data": {
      "text/html": [
       "Tracking run with wandb version 0.15.5"
      ],
      "text/plain": [
       "<IPython.core.display.HTML object>"
      ]
     },
     "metadata": {},
     "output_type": "display_data"
    },
    {
     "data": {
      "text/html": [
       "Run data is saved locally in <code>c:\\Users\\User\\Projects\\pneumonia-xray-classification\\notebooks\\wandb\\run-20230916_030151-2wgvqv52</code>"
      ],
      "text/plain": [
       "<IPython.core.display.HTML object>"
      ]
     },
     "metadata": {},
     "output_type": "display_data"
    },
    {
     "data": {
      "text/html": [
       "Syncing run <strong><a href='https://wandb.ai/marcus-lim/PCXR-DenseNet-169-Evaluation/runs/2wgvqv52' target=\"_blank\">wild-sweep-7</a></strong> to <a href='https://wandb.ai/marcus-lim/PCXR-DenseNet-169-Evaluation' target=\"_blank\">Weights & Biases</a> (<a href='https://wandb.me/run' target=\"_blank\">docs</a>)<br/>Sweep page: <a href='https://wandb.ai/marcus-lim/PCXR-DenseNet-169-Evaluation/sweeps/8ib2hshg' target=\"_blank\">https://wandb.ai/marcus-lim/PCXR-DenseNet-169-Evaluation/sweeps/8ib2hshg</a>"
      ],
      "text/plain": [
       "<IPython.core.display.HTML object>"
      ]
     },
     "metadata": {},
     "output_type": "display_data"
    },
    {
     "data": {
      "text/html": [
       " View project at <a href='https://wandb.ai/marcus-lim/PCXR-DenseNet-169-Evaluation' target=\"_blank\">https://wandb.ai/marcus-lim/PCXR-DenseNet-169-Evaluation</a>"
      ],
      "text/plain": [
       "<IPython.core.display.HTML object>"
      ]
     },
     "metadata": {},
     "output_type": "display_data"
    },
    {
     "data": {
      "text/html": [
       " View sweep at <a href='https://wandb.ai/marcus-lim/PCXR-DenseNet-169-Evaluation/sweeps/8ib2hshg' target=\"_blank\">https://wandb.ai/marcus-lim/PCXR-DenseNet-169-Evaluation/sweeps/8ib2hshg</a>"
      ],
      "text/plain": [
       "<IPython.core.display.HTML object>"
      ]
     },
     "metadata": {},
     "output_type": "display_data"
    },
    {
     "data": {
      "text/html": [
       " View run at <a href='https://wandb.ai/marcus-lim/PCXR-DenseNet-169-Evaluation/runs/2wgvqv52' target=\"_blank\">https://wandb.ai/marcus-lim/PCXR-DenseNet-169-Evaluation/runs/2wgvqv52</a>"
      ],
      "text/plain": [
       "<IPython.core.display.HTML object>"
      ]
     },
     "metadata": {},
     "output_type": "display_data"
    },
    {
     "name": "stdout",
     "output_type": "stream",
     "text": [
      "Found 4684 files belonging to 3 classes.\n",
      "Using 3748 files for training.\n",
      "Using 936 files for validation.\n",
      "Found 1172 files belonging to 3 classes.\n",
      "Generating predictions and computing metrics for Epoch 1 \n",
      "30/30 [==============================] - 4s 72ms/step\n",
      "training loss : 0.6639346480369568 , training acc : 0.7102454900741577 , mcc score : 0.6441687941551208\n",
      "aucroc score  : 0.9028106331825256 , f1 score     : 0.743785560131073 \n",
      "Generating predictions and computing metrics for Epoch 2 \n",
      "30/30 [==============================] - 2s 71ms/step\n",
      "training loss : 0.5662837028503418 , training acc : 0.7644076943397522 , mcc score : 0.6880682110786438\n",
      "aucroc score  : 0.9371301531791687 , f1 score     : 0.7687235474586487 \n",
      "Generating predictions and computing metrics for Epoch 3 \n",
      "30/30 [==============================] - 2s 69ms/step\n",
      "training loss : 0.5485498905181885 , training acc : 0.7758804559707642 , mcc score : 0.68406081199646\n",
      "aucroc score  : 0.9383136034011841 , f1 score     : 0.7811823487281799 \n",
      "Generating predictions and computing metrics for Epoch 4 \n",
      "30/30 [==============================] - 2s 69ms/step\n",
      "training loss : 0.5269449353218079 , training acc : 0.7849519848823547 , mcc score : 0.6555301547050476\n",
      "aucroc score  : 0.9252958297729492 , f1 score     : 0.7631545066833496 \n",
      "Generating predictions and computing metrics for Epoch 5 \n",
      "30/30 [==============================] - 2s 69ms/step\n",
      "training loss : 0.5276490449905396 , training acc : 0.7774813175201416 , mcc score : 0.6777830123901367\n",
      "aucroc score  : 0.9218934774398804 , f1 score     : 0.7792776226997375 \n",
      "Generating predictions and computing metrics for Epoch 6 \n",
      "30/30 [==============================] - 2s 69ms/step\n",
      "training loss : 0.5325434803962708 , training acc : 0.7798826098442078 , mcc score : 0.6857264637947083\n",
      "aucroc score  : 0.9399408102035522 , f1 score     : 0.7847263216972351 \n",
      "Generating predictions and computing metrics for Epoch 7 \n",
      "30/30 [==============================] - 2s 70ms/step\n",
      "training loss : 0.5080190896987915 , training acc : 0.7937566637992859 , mcc score : 0.6754423975944519\n",
      "aucroc score  : 0.9338757395744324 , f1 score     : 0.7688177227973938 \n",
      "Generating predictions and computing metrics for Epoch 8 \n",
      "30/30 [==============================] - 2s 69ms/step\n",
      "training loss : 0.5129838585853577 , training acc : 0.7988260388374329 , mcc score : 0.6949855089187622\n",
      "aucroc score  : 0.9421597719192505 , f1 score     : 0.7921969890594482 \n",
      "Generating predictions and computing metrics for Epoch 9 \n",
      "30/30 [==============================] - 2s 69ms/step\n",
      "training loss : 0.5134166479110718 , training acc : 0.7929562330245972 , mcc score : 0.6884227991104126\n",
      "aucroc score  : 0.9269230961799622 , f1 score     : 0.7839453220367432 \n",
      "Generating predictions and computing metrics for Epoch 10 \n",
      "30/30 [==============================] - 2s 70ms/step\n",
      "training loss : 0.4959411323070526 , training acc : 0.7993596792221069 , mcc score : 0.6773929595947266\n",
      "aucroc score  : 0.937425971031189 , f1 score     : 0.7605664134025574 \n"
     ]
    },
    {
     "data": {
      "text/html": [
       "Waiting for W&B process to finish... <strong style=\"color:green\">(success).</strong>"
      ],
      "text/plain": [
       "<IPython.core.display.HTML object>"
      ]
     },
     "metadata": {},
     "output_type": "display_data"
    },
    {
     "data": {
      "text/html": [
       "<style>\n",
       "    table.wandb td:nth-child(1) { padding: 0 10px; text-align: left ; width: auto;} td:nth-child(2) {text-align: left ; width: 100%}\n",
       "    .wandb-row { display: flex; flex-direction: row; flex-wrap: wrap; justify-content: flex-start; width: 100% }\n",
       "    .wandb-col { display: flex; flex-direction: column; flex-basis: 100%; flex: 1; padding: 10px; }\n",
       "    </style>\n",
       "<div class=\"wandb-row\"><div class=\"wandb-col\"><h3>Run history:</h3><br/><table class=\"wandb\"><tr><td>auc_roc</td><td>▁▇▇▅▄█▇█▅▇</td></tr><tr><td>epoch/accuracy</td><td>▁▅▆▇▆▆██▇█</td></tr><tr><td>epoch/epoch</td><td>▁▂▃▃▄▅▆▆▇█</td></tr><tr><td>epoch/learning_rate</td><td>▁▁▁▁▁▁▁▁▁▁</td></tr><tr><td>epoch/loss</td><td>█▄▃▂▂▃▂▂▂▁</td></tr><tr><td>epoch/val_accuracy</td><td>▂█▇▁▆▇▅██▆</td></tr><tr><td>epoch/val_loss</td><td>▇▃▃█▃▃▆▄▁▂</td></tr><tr><td>fmeasure</td><td>▁▅▆▄▆▇▅█▇▃</td></tr><tr><td>mcc</td><td>▁▇▆▃▆▇▅█▇▆</td></tr></table><br/></div><div class=\"wandb-col\"><h3>Run summary:</h3><br/><table class=\"wandb\"><tr><td>auc_roc</td><td>0.93743</td></tr><tr><td>epoch/accuracy</td><td>0.79936</td></tr><tr><td>epoch/epoch</td><td>9</td></tr><tr><td>epoch/learning_rate</td><td>0.00369</td></tr><tr><td>epoch/loss</td><td>0.49594</td></tr><tr><td>epoch/val_accuracy</td><td>0.79701</td></tr><tr><td>epoch/val_loss</td><td>0.49989</td></tr><tr><td>fmeasure</td><td>0.76057</td></tr><tr><td>mcc</td><td>0.67739</td></tr></table><br/></div></div>"
      ],
      "text/plain": [
       "<IPython.core.display.HTML object>"
      ]
     },
     "metadata": {},
     "output_type": "display_data"
    },
    {
     "data": {
      "text/html": [
       " View run <strong style=\"color:#cdcd00\">wild-sweep-7</strong> at: <a href='https://wandb.ai/marcus-lim/PCXR-DenseNet-169-Evaluation/runs/2wgvqv52' target=\"_blank\">https://wandb.ai/marcus-lim/PCXR-DenseNet-169-Evaluation/runs/2wgvqv52</a><br/>Synced 5 W&B file(s), 0 media file(s), 0 artifact file(s) and 0 other file(s)"
      ],
      "text/plain": [
       "<IPython.core.display.HTML object>"
      ]
     },
     "metadata": {},
     "output_type": "display_data"
    },
    {
     "data": {
      "text/html": [
       "Find logs at: <code>.\\wandb\\run-20230916_030151-2wgvqv52\\logs</code>"
      ],
      "text/plain": [
       "<IPython.core.display.HTML object>"
      ]
     },
     "metadata": {},
     "output_type": "display_data"
    },
    {
     "name": "stderr",
     "output_type": "stream",
     "text": [
      "\u001b[34m\u001b[1mwandb\u001b[0m: Agent Starting Run: ylmoirad with config:\n",
      "\u001b[34m\u001b[1mwandb\u001b[0m: \tbatch_size: 32\n",
      "\u001b[34m\u001b[1mwandb\u001b[0m: \tdropout_1: 0.8\n",
      "\u001b[34m\u001b[1mwandb\u001b[0m: \tdropout_2: 0.2\n",
      "\u001b[34m\u001b[1mwandb\u001b[0m: \tdropout_3: 0.2\n",
      "\u001b[34m\u001b[1mwandb\u001b[0m: \tepochs: 10\n",
      "\u001b[34m\u001b[1mwandb\u001b[0m: \tfc_layer_size_1: 128\n",
      "\u001b[34m\u001b[1mwandb\u001b[0m: \tfc_layer_size_2: 256\n",
      "\u001b[34m\u001b[1mwandb\u001b[0m: \tlearning_rate: 0.0024725773772644234\n",
      "\u001b[34m\u001b[1mwandb\u001b[0m: \toptimiser: sgd\n",
      "Failed to detect the name of this notebook, you can set it manually with the WANDB_NOTEBOOK_NAME environment variable to enable code saving.\n"
     ]
    },
    {
     "data": {
      "text/html": [
       "wandb version 0.15.10 is available!  To upgrade, please run:\n",
       " $ pip install wandb --upgrade"
      ],
      "text/plain": [
       "<IPython.core.display.HTML object>"
      ]
     },
     "metadata": {},
     "output_type": "display_data"
    },
    {
     "data": {
      "text/html": [
       "Tracking run with wandb version 0.15.5"
      ],
      "text/plain": [
       "<IPython.core.display.HTML object>"
      ]
     },
     "metadata": {},
     "output_type": "display_data"
    },
    {
     "data": {
      "text/html": [
       "Run data is saved locally in <code>c:\\Users\\User\\Projects\\pneumonia-xray-classification\\notebooks\\wandb\\run-20230916_031357-ylmoirad</code>"
      ],
      "text/plain": [
       "<IPython.core.display.HTML object>"
      ]
     },
     "metadata": {},
     "output_type": "display_data"
    },
    {
     "data": {
      "text/html": [
       "Syncing run <strong><a href='https://wandb.ai/marcus-lim/PCXR-DenseNet-169-Evaluation/runs/ylmoirad' target=\"_blank\">astral-sweep-8</a></strong> to <a href='https://wandb.ai/marcus-lim/PCXR-DenseNet-169-Evaluation' target=\"_blank\">Weights & Biases</a> (<a href='https://wandb.me/run' target=\"_blank\">docs</a>)<br/>Sweep page: <a href='https://wandb.ai/marcus-lim/PCXR-DenseNet-169-Evaluation/sweeps/8ib2hshg' target=\"_blank\">https://wandb.ai/marcus-lim/PCXR-DenseNet-169-Evaluation/sweeps/8ib2hshg</a>"
      ],
      "text/plain": [
       "<IPython.core.display.HTML object>"
      ]
     },
     "metadata": {},
     "output_type": "display_data"
    },
    {
     "data": {
      "text/html": [
       " View project at <a href='https://wandb.ai/marcus-lim/PCXR-DenseNet-169-Evaluation' target=\"_blank\">https://wandb.ai/marcus-lim/PCXR-DenseNet-169-Evaluation</a>"
      ],
      "text/plain": [
       "<IPython.core.display.HTML object>"
      ]
     },
     "metadata": {},
     "output_type": "display_data"
    },
    {
     "data": {
      "text/html": [
       " View sweep at <a href='https://wandb.ai/marcus-lim/PCXR-DenseNet-169-Evaluation/sweeps/8ib2hshg' target=\"_blank\">https://wandb.ai/marcus-lim/PCXR-DenseNet-169-Evaluation/sweeps/8ib2hshg</a>"
      ],
      "text/plain": [
       "<IPython.core.display.HTML object>"
      ]
     },
     "metadata": {},
     "output_type": "display_data"
    },
    {
     "data": {
      "text/html": [
       " View run at <a href='https://wandb.ai/marcus-lim/PCXR-DenseNet-169-Evaluation/runs/ylmoirad' target=\"_blank\">https://wandb.ai/marcus-lim/PCXR-DenseNet-169-Evaluation/runs/ylmoirad</a>"
      ],
      "text/plain": [
       "<IPython.core.display.HTML object>"
      ]
     },
     "metadata": {},
     "output_type": "display_data"
    },
    {
     "name": "stdout",
     "output_type": "stream",
     "text": [
      "Found 4684 files belonging to 3 classes.\n",
      "Using 3748 files for training.\n",
      "Using 936 files for validation.\n",
      "Found 1172 files belonging to 3 classes.\n",
      "Generating predictions and computing metrics for Epoch 1 \n",
      "30/30 [==============================] - 4s 73ms/step\n",
      "training loss : 1.0759072303771973 , training acc : 0.41728922724723816 , mcc score : 0.25046664476394653\n",
      "aucroc score  : 0.6921597719192505 , f1 score     : 0.41099512577056885 \n",
      "Generating predictions and computing metrics for Epoch 2 \n",
      "30/30 [==============================] - 2s 69ms/step\n",
      "training loss : 1.0089305639266968 , training acc : 0.5189434289932251 , mcc score : 0.3415148854255676\n",
      "aucroc score  : 0.7073964476585388 , f1 score     : 0.4279661178588867 \n",
      "Generating predictions and computing metrics for Epoch 3 \n",
      "30/30 [==============================] - 2s 69ms/step\n",
      "training loss : 0.9560555815696716 , training acc : 0.5693703293800354 , mcc score : 0.4254257380962372\n",
      "aucroc score  : 0.7899408340454102 , f1 score     : 0.4800080358982086 \n",
      "Generating predictions and computing metrics for Epoch 4 \n",
      "30/30 [==============================] - 2s 69ms/step\n",
      "training loss : 0.9083734750747681 , training acc : 0.6109925508499146 , mcc score : 0.4595679044723511\n",
      "aucroc score  : 0.8362426161766052 , f1 score     : 0.5015997886657715 \n",
      "Generating predictions and computing metrics for Epoch 5 \n",
      "30/30 [==============================] - 2s 69ms/step\n",
      "training loss : 0.8751145005226135 , training acc : 0.6347385048866272 , mcc score : 0.5020116567611694\n",
      "aucroc score  : 0.872633159160614 , f1 score     : 0.5347501635551453 \n",
      "Generating predictions and computing metrics for Epoch 6 \n",
      "30/30 [==============================] - 2s 69ms/step\n",
      "training loss : 0.8376919627189636 , training acc : 0.643009603023529 , mcc score : 0.5004636645317078\n",
      "aucroc score  : 0.8695266246795654 , f1 score     : 0.5500631928443909 \n",
      "Generating predictions and computing metrics for Epoch 7 \n",
      "30/30 [==============================] - 2s 69ms/step\n",
      "training loss : 0.8129838705062866 , training acc : 0.6611526012420654 , mcc score : 0.5213193297386169\n",
      "aucroc score  : 0.8815089464187622 , f1 score     : 0.5832222700119019 \n",
      "Generating predictions and computing metrics for Epoch 8 \n",
      "30/30 [==============================] - 2s 69ms/step\n",
      "training loss : 0.7860605716705322 , training acc : 0.676627516746521 , mcc score : 0.5409481525421143\n",
      "aucroc score  : 0.8862426280975342 , f1 score     : 0.6073624491691589 \n",
      "Generating predictions and computing metrics for Epoch 9 \n",
      "30/30 [==============================] - 2s 67ms/step\n",
      "training loss : 0.7738084197044373 , training acc : 0.6811633110046387 , mcc score : 0.549107015132904\n",
      "aucroc score  : 0.8908283710479736 , f1 score     : 0.6357046961784363 \n",
      "Generating predictions and computing metrics for Epoch 10 \n",
      "30/30 [==============================] - 3s 83ms/step\n",
      "training loss : 0.7482913136482239 , training acc : 0.692369282245636 , mcc score : 0.5743207335472107\n",
      "aucroc score  : 0.8988165855407715 , f1 score     : 0.6718280911445618 \n"
     ]
    },
    {
     "data": {
      "text/html": [
       "Waiting for W&B process to finish... <strong style=\"color:green\">(success).</strong>"
      ],
      "text/plain": [
       "<IPython.core.display.HTML object>"
      ]
     },
     "metadata": {},
     "output_type": "display_data"
    },
    {
     "data": {
      "text/html": [
       "<style>\n",
       "    table.wandb td:nth-child(1) { padding: 0 10px; text-align: left ; width: auto;} td:nth-child(2) {text-align: left ; width: 100%}\n",
       "    .wandb-row { display: flex; flex-direction: row; flex-wrap: wrap; justify-content: flex-start; width: 100% }\n",
       "    .wandb-col { display: flex; flex-direction: column; flex-basis: 100%; flex: 1; padding: 10px; }\n",
       "    </style>\n",
       "<div class=\"wandb-row\"><div class=\"wandb-col\"><h3>Run history:</h3><br/><table class=\"wandb\"><tr><td>auc_roc</td><td>▁▂▄▆▇▇▇███</td></tr><tr><td>epoch/accuracy</td><td>▁▄▅▆▇▇▇███</td></tr><tr><td>epoch/epoch</td><td>▁▂▃▃▄▅▆▆▇█</td></tr><tr><td>epoch/learning_rate</td><td>▁▁▁▁▁▁▁▁▁▁</td></tr><tr><td>epoch/loss</td><td>█▇▅▄▄▃▂▂▂▁</td></tr><tr><td>epoch/val_accuracy</td><td>▁▂▄▅▆▆▇▇▇█</td></tr><tr><td>epoch/val_loss</td><td>█▇▆▅▄▃▃▂▁▁</td></tr><tr><td>fmeasure</td><td>▁▁▃▃▄▅▆▆▇█</td></tr><tr><td>mcc</td><td>▁▃▅▆▆▆▇▇▇█</td></tr></table><br/></div><div class=\"wandb-col\"><h3>Run summary:</h3><br/><table class=\"wandb\"><tr><td>auc_roc</td><td>0.89882</td></tr><tr><td>epoch/accuracy</td><td>0.69237</td></tr><tr><td>epoch/epoch</td><td>9</td></tr><tr><td>epoch/learning_rate</td><td>0.00247</td></tr><tr><td>epoch/loss</td><td>0.74829</td></tr><tr><td>epoch/val_accuracy</td><td>0.7297</td></tr><tr><td>epoch/val_loss</td><td>0.70926</td></tr><tr><td>fmeasure</td><td>0.67183</td></tr><tr><td>mcc</td><td>0.57432</td></tr></table><br/></div></div>"
      ],
      "text/plain": [
       "<IPython.core.display.HTML object>"
      ]
     },
     "metadata": {},
     "output_type": "display_data"
    },
    {
     "data": {
      "text/html": [
       " View run <strong style=\"color:#cdcd00\">astral-sweep-8</strong> at: <a href='https://wandb.ai/marcus-lim/PCXR-DenseNet-169-Evaluation/runs/ylmoirad' target=\"_blank\">https://wandb.ai/marcus-lim/PCXR-DenseNet-169-Evaluation/runs/ylmoirad</a><br/>Synced 5 W&B file(s), 0 media file(s), 0 artifact file(s) and 0 other file(s)"
      ],
      "text/plain": [
       "<IPython.core.display.HTML object>"
      ]
     },
     "metadata": {},
     "output_type": "display_data"
    },
    {
     "data": {
      "text/html": [
       "Find logs at: <code>.\\wandb\\run-20230916_031357-ylmoirad\\logs</code>"
      ],
      "text/plain": [
       "<IPython.core.display.HTML object>"
      ]
     },
     "metadata": {},
     "output_type": "display_data"
    },
    {
     "name": "stderr",
     "output_type": "stream",
     "text": [
      "\u001b[34m\u001b[1mwandb\u001b[0m: Sweep Agent: Waiting for job.\n",
      "\u001b[34m\u001b[1mwandb\u001b[0m: Job received.\n",
      "\u001b[34m\u001b[1mwandb\u001b[0m: Agent Starting Run: r0rrzsnr with config:\n",
      "\u001b[34m\u001b[1mwandb\u001b[0m: \tbatch_size: 32\n",
      "\u001b[34m\u001b[1mwandb\u001b[0m: \tdropout_1: 0.6\n",
      "\u001b[34m\u001b[1mwandb\u001b[0m: \tdropout_2: 0.6\n",
      "\u001b[34m\u001b[1mwandb\u001b[0m: \tdropout_3: 0.6\n",
      "\u001b[34m\u001b[1mwandb\u001b[0m: \tepochs: 10\n",
      "\u001b[34m\u001b[1mwandb\u001b[0m: \tfc_layer_size_1: 64\n",
      "\u001b[34m\u001b[1mwandb\u001b[0m: \tfc_layer_size_2: 64\n",
      "\u001b[34m\u001b[1mwandb\u001b[0m: \tlearning_rate: 0.0029372229832682617\n",
      "\u001b[34m\u001b[1mwandb\u001b[0m: \toptimiser: sgd\n",
      "Failed to detect the name of this notebook, you can set it manually with the WANDB_NOTEBOOK_NAME environment variable to enable code saving.\n"
     ]
    },
    {
     "data": {
      "text/html": [
       "wandb version 0.15.10 is available!  To upgrade, please run:\n",
       " $ pip install wandb --upgrade"
      ],
      "text/plain": [
       "<IPython.core.display.HTML object>"
      ]
     },
     "metadata": {},
     "output_type": "display_data"
    },
    {
     "data": {
      "text/html": [
       "Tracking run with wandb version 0.15.5"
      ],
      "text/plain": [
       "<IPython.core.display.HTML object>"
      ]
     },
     "metadata": {},
     "output_type": "display_data"
    },
    {
     "data": {
      "text/html": [
       "Run data is saved locally in <code>c:\\Users\\User\\Projects\\pneumonia-xray-classification\\notebooks\\wandb\\run-20230916_032610-r0rrzsnr</code>"
      ],
      "text/plain": [
       "<IPython.core.display.HTML object>"
      ]
     },
     "metadata": {},
     "output_type": "display_data"
    },
    {
     "data": {
      "text/html": [
       "Syncing run <strong><a href='https://wandb.ai/marcus-lim/PCXR-DenseNet-169-Evaluation/runs/r0rrzsnr' target=\"_blank\">deft-sweep-9</a></strong> to <a href='https://wandb.ai/marcus-lim/PCXR-DenseNet-169-Evaluation' target=\"_blank\">Weights & Biases</a> (<a href='https://wandb.me/run' target=\"_blank\">docs</a>)<br/>Sweep page: <a href='https://wandb.ai/marcus-lim/PCXR-DenseNet-169-Evaluation/sweeps/8ib2hshg' target=\"_blank\">https://wandb.ai/marcus-lim/PCXR-DenseNet-169-Evaluation/sweeps/8ib2hshg</a>"
      ],
      "text/plain": [
       "<IPython.core.display.HTML object>"
      ]
     },
     "metadata": {},
     "output_type": "display_data"
    },
    {
     "data": {
      "text/html": [
       " View project at <a href='https://wandb.ai/marcus-lim/PCXR-DenseNet-169-Evaluation' target=\"_blank\">https://wandb.ai/marcus-lim/PCXR-DenseNet-169-Evaluation</a>"
      ],
      "text/plain": [
       "<IPython.core.display.HTML object>"
      ]
     },
     "metadata": {},
     "output_type": "display_data"
    },
    {
     "data": {
      "text/html": [
       " View sweep at <a href='https://wandb.ai/marcus-lim/PCXR-DenseNet-169-Evaluation/sweeps/8ib2hshg' target=\"_blank\">https://wandb.ai/marcus-lim/PCXR-DenseNet-169-Evaluation/sweeps/8ib2hshg</a>"
      ],
      "text/plain": [
       "<IPython.core.display.HTML object>"
      ]
     },
     "metadata": {},
     "output_type": "display_data"
    },
    {
     "data": {
      "text/html": [
       " View run at <a href='https://wandb.ai/marcus-lim/PCXR-DenseNet-169-Evaluation/runs/r0rrzsnr' target=\"_blank\">https://wandb.ai/marcus-lim/PCXR-DenseNet-169-Evaluation/runs/r0rrzsnr</a>"
      ],
      "text/plain": [
       "<IPython.core.display.HTML object>"
      ]
     },
     "metadata": {},
     "output_type": "display_data"
    },
    {
     "name": "stdout",
     "output_type": "stream",
     "text": [
      "Found 4684 files belonging to 3 classes.\n",
      "Using 3748 files for training.\n",
      "Using 936 files for validation.\n",
      "Found 1172 files belonging to 3 classes.\n",
      "Generating predictions and computing metrics for Epoch 1 \n",
      "30/30 [==============================] - 4s 71ms/step\n",
      "training loss : 1.1322736740112305 , training acc : 0.3938100337982178 , mcc score : 0.4280644655227661\n",
      "aucroc score  : 0.7724851965904236 , f1 score     : 0.556308388710022 \n",
      "Generating predictions and computing metrics for Epoch 2 \n",
      "30/30 [==============================] - 2s 68ms/step\n",
      "training loss : 1.0078612565994263 , training acc : 0.5130736231803894 , mcc score : 0.48611268401145935\n",
      "aucroc score  : 0.7829881310462952 , f1 score     : 0.6283107399940491 \n",
      "Generating predictions and computing metrics for Epoch 3 \n",
      "30/30 [==============================] - 2s 68ms/step\n",
      "training loss : 0.9323237538337708 , training acc : 0.5765741467475891 , mcc score : 0.5323805212974548\n",
      "aucroc score  : 0.8139052391052246 , f1 score     : 0.6580000519752502 \n",
      "Generating predictions and computing metrics for Epoch 4 \n",
      "30/30 [==============================] - 2s 67ms/step\n",
      "training loss : 0.8729437589645386 , training acc : 0.6123265624046326 , mcc score : 0.5764883160591125\n",
      "aucroc score  : 0.860946774482727 , f1 score     : 0.6940776705741882 \n",
      "Generating predictions and computing metrics for Epoch 5 \n",
      "30/30 [==============================] - 2s 69ms/step\n",
      "training loss : 0.8500518798828125 , training acc : 0.6379402279853821 , mcc score : 0.5948634147644043\n",
      "aucroc score  : 0.8748520612716675 , f1 score     : 0.7082507610321045 \n",
      "Generating predictions and computing metrics for Epoch 6 \n",
      "30/30 [==============================] - 2s 69ms/step\n",
      "training loss : 0.8123815655708313 , training acc : 0.6494130492210388 , mcc score : 0.5928519368171692\n",
      "aucroc score  : 0.8744083046913147 , f1 score     : 0.7067622542381287 \n",
      "Generating predictions and computing metrics for Epoch 7 \n",
      "30/30 [==============================] - 2s 68ms/step\n",
      "training loss : 0.7817798852920532 , training acc : 0.6678228378295898 , mcc score : 0.6091650724411011\n",
      "aucroc score  : 0.8859467506408691 , f1 score     : 0.716580867767334 \n",
      "Generating predictions and computing metrics for Epoch 8 \n",
      "30/30 [==============================] - 2s 68ms/step\n",
      "training loss : 0.7759556770324707 , training acc : 0.6696904897689819 , mcc score : 0.6110225319862366\n",
      "aucroc score  : 0.8859467506408691 , f1 score     : 0.7159607410430908 \n",
      "Generating predictions and computing metrics for Epoch 9 \n",
      "30/30 [==============================] - 2s 68ms/step\n",
      "training loss : 0.7642648220062256 , training acc : 0.6854322552680969 , mcc score : 0.6253271698951721\n",
      "aucroc score  : 0.8982248306274414 , f1 score     : 0.7296639084815979 \n",
      "Generating predictions and computing metrics for Epoch 10 \n",
      "30/30 [==============================] - 2s 68ms/step\n",
      "training loss : 0.7515789866447449 , training acc : 0.6760939359664917 , mcc score : 0.6341753005981445\n",
      "aucroc score  : 0.9001478552818298 , f1 score     : 0.7349702715873718 \n"
     ]
    },
    {
     "data": {
      "text/html": [
       "Waiting for W&B process to finish... <strong style=\"color:green\">(success).</strong>"
      ],
      "text/plain": [
       "<IPython.core.display.HTML object>"
      ]
     },
     "metadata": {},
     "output_type": "display_data"
    },
    {
     "data": {
      "text/html": [
       "<style>\n",
       "    table.wandb td:nth-child(1) { padding: 0 10px; text-align: left ; width: auto;} td:nth-child(2) {text-align: left ; width: 100%}\n",
       "    .wandb-row { display: flex; flex-direction: row; flex-wrap: wrap; justify-content: flex-start; width: 100% }\n",
       "    .wandb-col { display: flex; flex-direction: column; flex-basis: 100%; flex: 1; padding: 10px; }\n",
       "    </style>\n",
       "<div class=\"wandb-row\"><div class=\"wandb-col\"><h3>Run history:</h3><br/><table class=\"wandb\"><tr><td>auc_roc</td><td>▁▂▃▆▇▇▇▇██</td></tr><tr><td>epoch/accuracy</td><td>▁▄▅▆▇▇████</td></tr><tr><td>epoch/epoch</td><td>▁▂▃▃▄▅▆▆▇█</td></tr><tr><td>epoch/learning_rate</td><td>▁▁▁▁▁▁▁▁▁▁</td></tr><tr><td>epoch/loss</td><td>█▆▄▃▃▂▂▁▁▁</td></tr><tr><td>epoch/val_accuracy</td><td>▁▄▅▆▇▇▇▇██</td></tr><tr><td>epoch/val_loss</td><td>█▆▅▄▃▃▂▂▁▁</td></tr><tr><td>fmeasure</td><td>▁▄▅▆▇▇▇▇██</td></tr><tr><td>mcc</td><td>▁▃▅▆▇▇▇▇██</td></tr></table><br/></div><div class=\"wandb-col\"><h3>Run summary:</h3><br/><table class=\"wandb\"><tr><td>auc_roc</td><td>0.90015</td></tr><tr><td>epoch/accuracy</td><td>0.67609</td></tr><tr><td>epoch/epoch</td><td>9</td></tr><tr><td>epoch/learning_rate</td><td>0.00294</td></tr><tr><td>epoch/loss</td><td>0.75158</td></tr><tr><td>epoch/val_accuracy</td><td>0.7703</td></tr><tr><td>epoch/val_loss</td><td>0.62997</td></tr><tr><td>fmeasure</td><td>0.73497</td></tr><tr><td>mcc</td><td>0.63418</td></tr></table><br/></div></div>"
      ],
      "text/plain": [
       "<IPython.core.display.HTML object>"
      ]
     },
     "metadata": {},
     "output_type": "display_data"
    },
    {
     "data": {
      "text/html": [
       " View run <strong style=\"color:#cdcd00\">deft-sweep-9</strong> at: <a href='https://wandb.ai/marcus-lim/PCXR-DenseNet-169-Evaluation/runs/r0rrzsnr' target=\"_blank\">https://wandb.ai/marcus-lim/PCXR-DenseNet-169-Evaluation/runs/r0rrzsnr</a><br/>Synced 5 W&B file(s), 0 media file(s), 0 artifact file(s) and 0 other file(s)"
      ],
      "text/plain": [
       "<IPython.core.display.HTML object>"
      ]
     },
     "metadata": {},
     "output_type": "display_data"
    },
    {
     "data": {
      "text/html": [
       "Find logs at: <code>.\\wandb\\run-20230916_032610-r0rrzsnr\\logs</code>"
      ],
      "text/plain": [
       "<IPython.core.display.HTML object>"
      ]
     },
     "metadata": {},
     "output_type": "display_data"
    },
    {
     "name": "stderr",
     "output_type": "stream",
     "text": [
      "\u001b[34m\u001b[1mwandb\u001b[0m: Sweep Agent: Waiting for job.\n",
      "\u001b[34m\u001b[1mwandb\u001b[0m: Job received.\n",
      "\u001b[34m\u001b[1mwandb\u001b[0m: Agent Starting Run: 5lel11vt with config:\n",
      "\u001b[34m\u001b[1mwandb\u001b[0m: \tbatch_size: 32\n",
      "\u001b[34m\u001b[1mwandb\u001b[0m: \tdropout_1: 0.2\n",
      "\u001b[34m\u001b[1mwandb\u001b[0m: \tdropout_2: 0.8\n",
      "\u001b[34m\u001b[1mwandb\u001b[0m: \tdropout_3: 0.6\n",
      "\u001b[34m\u001b[1mwandb\u001b[0m: \tepochs: 10\n",
      "\u001b[34m\u001b[1mwandb\u001b[0m: \tfc_layer_size_1: 128\n",
      "\u001b[34m\u001b[1mwandb\u001b[0m: \tfc_layer_size_2: 256\n",
      "\u001b[34m\u001b[1mwandb\u001b[0m: \tlearning_rate: 0.0021632393245109276\n",
      "\u001b[34m\u001b[1mwandb\u001b[0m: \toptimiser: sgd\n",
      "Failed to detect the name of this notebook, you can set it manually with the WANDB_NOTEBOOK_NAME environment variable to enable code saving.\n"
     ]
    },
    {
     "data": {
      "text/html": [
       "wandb version 0.15.10 is available!  To upgrade, please run:\n",
       " $ pip install wandb --upgrade"
      ],
      "text/plain": [
       "<IPython.core.display.HTML object>"
      ]
     },
     "metadata": {},
     "output_type": "display_data"
    },
    {
     "data": {
      "text/html": [
       "Tracking run with wandb version 0.15.5"
      ],
      "text/plain": [
       "<IPython.core.display.HTML object>"
      ]
     },
     "metadata": {},
     "output_type": "display_data"
    },
    {
     "data": {
      "text/html": [
       "Run data is saved locally in <code>c:\\Users\\User\\Projects\\pneumonia-xray-classification\\notebooks\\wandb\\run-20230916_033817-5lel11vt</code>"
      ],
      "text/plain": [
       "<IPython.core.display.HTML object>"
      ]
     },
     "metadata": {},
     "output_type": "display_data"
    },
    {
     "data": {
      "text/html": [
       "Syncing run <strong><a href='https://wandb.ai/marcus-lim/PCXR-DenseNet-169-Evaluation/runs/5lel11vt' target=\"_blank\">fallen-sweep-10</a></strong> to <a href='https://wandb.ai/marcus-lim/PCXR-DenseNet-169-Evaluation' target=\"_blank\">Weights & Biases</a> (<a href='https://wandb.me/run' target=\"_blank\">docs</a>)<br/>Sweep page: <a href='https://wandb.ai/marcus-lim/PCXR-DenseNet-169-Evaluation/sweeps/8ib2hshg' target=\"_blank\">https://wandb.ai/marcus-lim/PCXR-DenseNet-169-Evaluation/sweeps/8ib2hshg</a>"
      ],
      "text/plain": [
       "<IPython.core.display.HTML object>"
      ]
     },
     "metadata": {},
     "output_type": "display_data"
    },
    {
     "data": {
      "text/html": [
       " View project at <a href='https://wandb.ai/marcus-lim/PCXR-DenseNet-169-Evaluation' target=\"_blank\">https://wandb.ai/marcus-lim/PCXR-DenseNet-169-Evaluation</a>"
      ],
      "text/plain": [
       "<IPython.core.display.HTML object>"
      ]
     },
     "metadata": {},
     "output_type": "display_data"
    },
    {
     "data": {
      "text/html": [
       " View sweep at <a href='https://wandb.ai/marcus-lim/PCXR-DenseNet-169-Evaluation/sweeps/8ib2hshg' target=\"_blank\">https://wandb.ai/marcus-lim/PCXR-DenseNet-169-Evaluation/sweeps/8ib2hshg</a>"
      ],
      "text/plain": [
       "<IPython.core.display.HTML object>"
      ]
     },
     "metadata": {},
     "output_type": "display_data"
    },
    {
     "data": {
      "text/html": [
       " View run at <a href='https://wandb.ai/marcus-lim/PCXR-DenseNet-169-Evaluation/runs/5lel11vt' target=\"_blank\">https://wandb.ai/marcus-lim/PCXR-DenseNet-169-Evaluation/runs/5lel11vt</a>"
      ],
      "text/plain": [
       "<IPython.core.display.HTML object>"
      ]
     },
     "metadata": {},
     "output_type": "display_data"
    },
    {
     "name": "stdout",
     "output_type": "stream",
     "text": [
      "Found 4684 files belonging to 3 classes.\n",
      "Using 3748 files for training.\n",
      "Using 936 files for validation.\n",
      "Found 1172 files belonging to 3 classes.\n",
      "Generating predictions and computing metrics for Epoch 1 \n",
      "30/30 [==============================] - 4s 68ms/step\n",
      "training loss : 1.107440710067749 , training acc : 0.44343650341033936 , mcc score : 0.5015901923179626\n",
      "aucroc score  : 0.82899409532547 , f1 score     : 0.6526917815208435 \n",
      "Generating predictions and computing metrics for Epoch 2 \n",
      "30/30 [==============================] - 2s 67ms/step\n",
      "training loss : 0.946591317653656 , training acc : 0.567769467830658 , mcc score : 0.5648017525672913\n",
      "aucroc score  : 0.8671597838401794 , f1 score     : 0.6852501034736633 \n",
      "Generating predictions and computing metrics for Epoch 3 \n",
      "30/30 [==============================] - 2s 67ms/step\n",
      "training loss : 0.8691345453262329 , training acc : 0.6115261316299438 , mcc score : 0.5888792872428894\n",
      "aucroc score  : 0.8758875727653503 , f1 score     : 0.7098389267921448 \n",
      "Generating predictions and computing metrics for Epoch 4 \n",
      "30/30 [==============================] - 2s 67ms/step\n",
      "training loss : 0.813805341720581 , training acc : 0.6515474915504456 , mcc score : 0.6186599135398865\n",
      "aucroc score  : 0.8992603421211243 , f1 score     : 0.7316715121269226 \n",
      "Generating predictions and computing metrics for Epoch 5 \n",
      "30/30 [==============================] - 2s 67ms/step\n",
      "training loss : 0.7822310328483582 , training acc : 0.665154755115509 , mcc score : 0.6360403895378113\n",
      "aucroc score  : 0.9106508493423462 , f1 score     : 0.7451880574226379 \n",
      "Generating predictions and computing metrics for Epoch 6 \n",
      "30/30 [==============================] - 2s 67ms/step\n",
      "training loss : 0.7581047415733337 , training acc : 0.6776947975158691 , mcc score : 0.6323258280754089\n",
      "aucroc score  : 0.9105029702186584 , f1 score     : 0.7409754395484924 \n",
      "Generating predictions and computing metrics for Epoch 7 \n",
      "30/30 [==============================] - 2s 67ms/step\n",
      "training loss : 0.7169149518013 , training acc : 0.699306309223175 , mcc score : 0.649467408657074\n",
      "aucroc score  : 0.9171597957611084 , f1 score     : 0.7522432208061218 \n",
      "Generating predictions and computing metrics for Epoch 8 \n",
      "30/30 [==============================] - 3s 83ms/step\n",
      "training loss : 0.7156288623809814 , training acc : 0.6921024322509766 , mcc score : 0.6428843140602112\n",
      "aucroc score  : 0.9161242246627808 , f1 score     : 0.7485882639884949 \n",
      "Generating predictions and computing metrics for Epoch 9 \n",
      "30/30 [==============================] - 2s 67ms/step\n",
      "training loss : 0.6811935305595398 , training acc : 0.7099786400794983 , mcc score : 0.6464861035346985\n",
      "aucroc score  : 0.9153846502304077 , f1 score     : 0.7507880330085754 \n",
      "Generating predictions and computing metrics for Epoch 10 \n",
      "30/30 [==============================] - 2s 67ms/step\n",
      "training loss : 0.6666858196258545 , training acc : 0.7182497382164001 , mcc score : 0.6512421369552612\n",
      "aucroc score  : 0.9199703931808472 , f1 score     : 0.7535327076911926 \n"
     ]
    },
    {
     "data": {
      "text/html": [
       "Waiting for W&B process to finish... <strong style=\"color:green\">(success).</strong>"
      ],
      "text/plain": [
       "<IPython.core.display.HTML object>"
      ]
     },
     "metadata": {},
     "output_type": "display_data"
    },
    {
     "data": {
      "text/html": [
       "<style>\n",
       "    table.wandb td:nth-child(1) { padding: 0 10px; text-align: left ; width: auto;} td:nth-child(2) {text-align: left ; width: 100%}\n",
       "    .wandb-row { display: flex; flex-direction: row; flex-wrap: wrap; justify-content: flex-start; width: 100% }\n",
       "    .wandb-col { display: flex; flex-direction: column; flex-basis: 100%; flex: 1; padding: 10px; }\n",
       "    </style>\n",
       "<div class=\"wandb-row\"><div class=\"wandb-col\"><h3>Run history:</h3><br/><table class=\"wandb\"><tr><td>auc_roc</td><td>▁▄▅▆▇▇████</td></tr><tr><td>epoch/accuracy</td><td>▁▄▅▆▇▇█▇██</td></tr><tr><td>epoch/epoch</td><td>▁▂▃▃▄▅▆▆▇█</td></tr><tr><td>epoch/learning_rate</td><td>▁▁▁▁▁▁▁▁▁▁</td></tr><tr><td>epoch/loss</td><td>█▅▄▃▃▂▂▂▁▁</td></tr><tr><td>epoch/val_accuracy</td><td>▁▄▅▆▇▇████</td></tr><tr><td>epoch/val_loss</td><td>█▅▄▃▃▂▂▁▁▁</td></tr><tr><td>fmeasure</td><td>▁▃▅▆▇▇████</td></tr><tr><td>mcc</td><td>▁▄▅▆▇▇████</td></tr></table><br/></div><div class=\"wandb-col\"><h3>Run summary:</h3><br/><table class=\"wandb\"><tr><td>auc_roc</td><td>0.91997</td></tr><tr><td>epoch/accuracy</td><td>0.71825</td></tr><tr><td>epoch/epoch</td><td>9</td></tr><tr><td>epoch/learning_rate</td><td>0.00216</td></tr><tr><td>epoch/loss</td><td>0.66669</td></tr><tr><td>epoch/val_accuracy</td><td>0.77564</td></tr><tr><td>epoch/val_loss</td><td>0.6081</td></tr><tr><td>fmeasure</td><td>0.75353</td></tr><tr><td>mcc</td><td>0.65124</td></tr></table><br/></div></div>"
      ],
      "text/plain": [
       "<IPython.core.display.HTML object>"
      ]
     },
     "metadata": {},
     "output_type": "display_data"
    },
    {
     "data": {
      "text/html": [
       " View run <strong style=\"color:#cdcd00\">fallen-sweep-10</strong> at: <a href='https://wandb.ai/marcus-lim/PCXR-DenseNet-169-Evaluation/runs/5lel11vt' target=\"_blank\">https://wandb.ai/marcus-lim/PCXR-DenseNet-169-Evaluation/runs/5lel11vt</a><br/>Synced 5 W&B file(s), 0 media file(s), 0 artifact file(s) and 0 other file(s)"
      ],
      "text/plain": [
       "<IPython.core.display.HTML object>"
      ]
     },
     "metadata": {},
     "output_type": "display_data"
    },
    {
     "data": {
      "text/html": [
       "Find logs at: <code>.\\wandb\\run-20230916_033817-5lel11vt\\logs</code>"
      ],
      "text/plain": [
       "<IPython.core.display.HTML object>"
      ]
     },
     "metadata": {},
     "output_type": "display_data"
    },
    {
     "name": "stderr",
     "output_type": "stream",
     "text": [
      "\u001b[34m\u001b[1mwandb\u001b[0m: Agent Starting Run: davhqbzb with config:\n",
      "\u001b[34m\u001b[1mwandb\u001b[0m: \tbatch_size: 32\n",
      "\u001b[34m\u001b[1mwandb\u001b[0m: \tdropout_1: 0.2\n",
      "\u001b[34m\u001b[1mwandb\u001b[0m: \tdropout_2: 0.2\n",
      "\u001b[34m\u001b[1mwandb\u001b[0m: \tdropout_3: 0.8\n",
      "\u001b[34m\u001b[1mwandb\u001b[0m: \tepochs: 10\n",
      "\u001b[34m\u001b[1mwandb\u001b[0m: \tfc_layer_size_1: 16\n",
      "\u001b[34m\u001b[1mwandb\u001b[0m: \tfc_layer_size_2: 32\n",
      "\u001b[34m\u001b[1mwandb\u001b[0m: \tlearning_rate: 0.004525291616059795\n",
      "\u001b[34m\u001b[1mwandb\u001b[0m: \toptimiser: sgd\n",
      "Failed to detect the name of this notebook, you can set it manually with the WANDB_NOTEBOOK_NAME environment variable to enable code saving.\n"
     ]
    },
    {
     "data": {
      "text/html": [
       "wandb version 0.15.10 is available!  To upgrade, please run:\n",
       " $ pip install wandb --upgrade"
      ],
      "text/plain": [
       "<IPython.core.display.HTML object>"
      ]
     },
     "metadata": {},
     "output_type": "display_data"
    },
    {
     "data": {
      "text/html": [
       "Tracking run with wandb version 0.15.5"
      ],
      "text/plain": [
       "<IPython.core.display.HTML object>"
      ]
     },
     "metadata": {},
     "output_type": "display_data"
    },
    {
     "data": {
      "text/html": [
       "Run data is saved locally in <code>c:\\Users\\User\\Projects\\pneumonia-xray-classification\\notebooks\\wandb\\run-20230916_035011-davhqbzb</code>"
      ],
      "text/plain": [
       "<IPython.core.display.HTML object>"
      ]
     },
     "metadata": {},
     "output_type": "display_data"
    },
    {
     "data": {
      "text/html": [
       "Syncing run <strong><a href='https://wandb.ai/marcus-lim/PCXR-DenseNet-169-Evaluation/runs/davhqbzb' target=\"_blank\">sweet-sweep-11</a></strong> to <a href='https://wandb.ai/marcus-lim/PCXR-DenseNet-169-Evaluation' target=\"_blank\">Weights & Biases</a> (<a href='https://wandb.me/run' target=\"_blank\">docs</a>)<br/>Sweep page: <a href='https://wandb.ai/marcus-lim/PCXR-DenseNet-169-Evaluation/sweeps/8ib2hshg' target=\"_blank\">https://wandb.ai/marcus-lim/PCXR-DenseNet-169-Evaluation/sweeps/8ib2hshg</a>"
      ],
      "text/plain": [
       "<IPython.core.display.HTML object>"
      ]
     },
     "metadata": {},
     "output_type": "display_data"
    },
    {
     "data": {
      "text/html": [
       " View project at <a href='https://wandb.ai/marcus-lim/PCXR-DenseNet-169-Evaluation' target=\"_blank\">https://wandb.ai/marcus-lim/PCXR-DenseNet-169-Evaluation</a>"
      ],
      "text/plain": [
       "<IPython.core.display.HTML object>"
      ]
     },
     "metadata": {},
     "output_type": "display_data"
    },
    {
     "data": {
      "text/html": [
       " View sweep at <a href='https://wandb.ai/marcus-lim/PCXR-DenseNet-169-Evaluation/sweeps/8ib2hshg' target=\"_blank\">https://wandb.ai/marcus-lim/PCXR-DenseNet-169-Evaluation/sweeps/8ib2hshg</a>"
      ],
      "text/plain": [
       "<IPython.core.display.HTML object>"
      ]
     },
     "metadata": {},
     "output_type": "display_data"
    },
    {
     "data": {
      "text/html": [
       " View run at <a href='https://wandb.ai/marcus-lim/PCXR-DenseNet-169-Evaluation/runs/davhqbzb' target=\"_blank\">https://wandb.ai/marcus-lim/PCXR-DenseNet-169-Evaluation/runs/davhqbzb</a>"
      ],
      "text/plain": [
       "<IPython.core.display.HTML object>"
      ]
     },
     "metadata": {},
     "output_type": "display_data"
    },
    {
     "name": "stdout",
     "output_type": "stream",
     "text": [
      "Found 4684 files belonging to 3 classes.\n",
      "Using 3748 files for training.\n",
      "Using 936 files for validation.\n",
      "Found 1172 files belonging to 3 classes.\n",
      "Generating predictions and computing metrics for Epoch 1 \n",
      "30/30 [==============================] - 4s 70ms/step\n",
      "training loss : 1.082598090171814 , training acc : 0.42315900325775146 , mcc score : 0.3814472258090973\n",
      "aucroc score  : 0.8005917072296143 , f1 score     : 0.5526106953620911 \n",
      "Generating predictions and computing metrics for Epoch 2 \n",
      "30/30 [==============================] - 2s 67ms/step\n",
      "training loss : 0.9637845754623413 , training acc : 0.535485565662384 , mcc score : 0.542879581451416\n",
      "aucroc score  : 0.8710059523582458 , f1 score     : 0.618934690952301 \n",
      "Generating predictions and computing metrics for Epoch 3 \n",
      "30/30 [==============================] - 2s 67ms/step\n",
      "training loss : 0.9046259522438049 , training acc : 0.5877801775932312 , mcc score : 0.55690997838974\n",
      "aucroc score  : 0.8967455625534058 , f1 score     : 0.6211124658584595 \n",
      "Generating predictions and computing metrics for Epoch 4 \n",
      "30/30 [==============================] - 2s 67ms/step\n",
      "training loss : 0.865685224533081 , training acc : 0.6133937835693359 , mcc score : 0.5818421244621277\n",
      "aucroc score  : 0.8968935012817383 , f1 score     : 0.675355851650238 \n",
      "Generating predictions and computing metrics for Epoch 5 \n",
      "30/30 [==============================] - 2s 67ms/step\n",
      "training loss : 0.8337452411651611 , training acc : 0.6280683279037476 , mcc score : 0.6025552153587341\n",
      "aucroc score  : 0.9091716408729553 , f1 score     : 0.6788055300712585 \n",
      "Generating predictions and computing metrics for Epoch 6 \n",
      "30/30 [==============================] - 2s 67ms/step\n",
      "training loss : 0.8177940249443054 , training acc : 0.6320704221725464 , mcc score : 0.6081367135047913\n",
      "aucroc score  : 0.9161242842674255 , f1 score     : 0.711683452129364 \n",
      "Generating predictions and computing metrics for Epoch 7 \n",
      "30/30 [==============================] - 2s 67ms/step\n",
      "training loss : 0.7846547365188599 , training acc : 0.6539487838745117 , mcc score : 0.6262251734733582\n",
      "aucroc score  : 0.9229289889335632 , f1 score     : 0.7166520953178406 \n",
      "Generating predictions and computing metrics for Epoch 8 \n",
      "30/30 [==============================] - 2s 67ms/step\n",
      "training loss : 0.7680334448814392 , training acc : 0.6630202531814575 , mcc score : 0.6317160725593567\n",
      "aucroc score  : 0.9260355234146118 , f1 score     : 0.7211374640464783 \n",
      "Generating predictions and computing metrics for Epoch 9 \n",
      "30/30 [==============================] - 2s 68ms/step\n",
      "training loss : 0.7594066858291626 , training acc : 0.6592849493026733 , mcc score : 0.634607195854187\n",
      "aucroc score  : 0.9267751574516296 , f1 score     : 0.7288851141929626 \n",
      "Generating predictions and computing metrics for Epoch 10 \n",
      "30/30 [==============================] - 2s 67ms/step\n",
      "training loss : 0.7483649253845215 , training acc : 0.6710245609283447 , mcc score : 0.6458721160888672\n",
      "aucroc score  : 0.9292899370193481 , f1 score     : 0.7393212914466858 \n"
     ]
    },
    {
     "data": {
      "text/html": [
       "Waiting for W&B process to finish... <strong style=\"color:green\">(success).</strong>"
      ],
      "text/plain": [
       "<IPython.core.display.HTML object>"
      ]
     },
     "metadata": {},
     "output_type": "display_data"
    },
    {
     "data": {
      "text/html": [
       "<style>\n",
       "    table.wandb td:nth-child(1) { padding: 0 10px; text-align: left ; width: auto;} td:nth-child(2) {text-align: left ; width: 100%}\n",
       "    .wandb-row { display: flex; flex-direction: row; flex-wrap: wrap; justify-content: flex-start; width: 100% }\n",
       "    .wandb-col { display: flex; flex-direction: column; flex-basis: 100%; flex: 1; padding: 10px; }\n",
       "    </style>\n",
       "<div class=\"wandb-row\"><div class=\"wandb-col\"><h3>Run history:</h3><br/><table class=\"wandb\"><tr><td>auc_roc</td><td>▁▅▆▆▇▇████</td></tr><tr><td>epoch/accuracy</td><td>▁▄▆▆▇▇████</td></tr><tr><td>epoch/epoch</td><td>▁▂▃▃▄▅▆▆▇█</td></tr><tr><td>epoch/learning_rate</td><td>▁▁▁▁▁▁▁▁▁▁</td></tr><tr><td>epoch/loss</td><td>█▆▄▃▃▂▂▁▁▁</td></tr><tr><td>epoch/val_accuracy</td><td>▁▅▅▆▇▇▇███</td></tr><tr><td>epoch/val_loss</td><td>█▅▄▃▃▂▂▂▁▁</td></tr><tr><td>fmeasure</td><td>▁▃▄▆▆▇▇▇██</td></tr><tr><td>mcc</td><td>▁▅▆▆▇▇▇███</td></tr></table><br/></div><div class=\"wandb-col\"><h3>Run summary:</h3><br/><table class=\"wandb\"><tr><td>auc_roc</td><td>0.92929</td></tr><tr><td>epoch/accuracy</td><td>0.67102</td></tr><tr><td>epoch/epoch</td><td>9</td></tr><tr><td>epoch/learning_rate</td><td>0.00453</td></tr><tr><td>epoch/loss</td><td>0.74836</td></tr><tr><td>epoch/val_accuracy</td><td>0.77671</td></tr><tr><td>epoch/val_loss</td><td>0.5846</td></tr><tr><td>fmeasure</td><td>0.73932</td></tr><tr><td>mcc</td><td>0.64587</td></tr></table><br/></div></div>"
      ],
      "text/plain": [
       "<IPython.core.display.HTML object>"
      ]
     },
     "metadata": {},
     "output_type": "display_data"
    },
    {
     "data": {
      "text/html": [
       " View run <strong style=\"color:#cdcd00\">sweet-sweep-11</strong> at: <a href='https://wandb.ai/marcus-lim/PCXR-DenseNet-169-Evaluation/runs/davhqbzb' target=\"_blank\">https://wandb.ai/marcus-lim/PCXR-DenseNet-169-Evaluation/runs/davhqbzb</a><br/>Synced 5 W&B file(s), 0 media file(s), 0 artifact file(s) and 0 other file(s)"
      ],
      "text/plain": [
       "<IPython.core.display.HTML object>"
      ]
     },
     "metadata": {},
     "output_type": "display_data"
    },
    {
     "data": {
      "text/html": [
       "Find logs at: <code>.\\wandb\\run-20230916_035011-davhqbzb\\logs</code>"
      ],
      "text/plain": [
       "<IPython.core.display.HTML object>"
      ]
     },
     "metadata": {},
     "output_type": "display_data"
    },
    {
     "name": "stderr",
     "output_type": "stream",
     "text": [
      "\u001b[34m\u001b[1mwandb\u001b[0m: Sweep Agent: Waiting for job.\n",
      "\u001b[34m\u001b[1mwandb\u001b[0m: Job received.\n",
      "\u001b[34m\u001b[1mwandb\u001b[0m: Agent Starting Run: o5mmmq4u with config:\n",
      "\u001b[34m\u001b[1mwandb\u001b[0m: \tbatch_size: 32\n",
      "\u001b[34m\u001b[1mwandb\u001b[0m: \tdropout_1: 0.2\n",
      "\u001b[34m\u001b[1mwandb\u001b[0m: \tdropout_2: 0.8\n",
      "\u001b[34m\u001b[1mwandb\u001b[0m: \tdropout_3: 0.2\n",
      "\u001b[34m\u001b[1mwandb\u001b[0m: \tepochs: 10\n",
      "\u001b[34m\u001b[1mwandb\u001b[0m: \tfc_layer_size_1: 256\n",
      "\u001b[34m\u001b[1mwandb\u001b[0m: \tfc_layer_size_2: 32\n",
      "\u001b[34m\u001b[1mwandb\u001b[0m: \tlearning_rate: 0.0035559282263591895\n",
      "\u001b[34m\u001b[1mwandb\u001b[0m: \toptimiser: sgd\n",
      "Failed to detect the name of this notebook, you can set it manually with the WANDB_NOTEBOOK_NAME environment variable to enable code saving.\n"
     ]
    },
    {
     "data": {
      "text/html": [
       "wandb version 0.15.10 is available!  To upgrade, please run:\n",
       " $ pip install wandb --upgrade"
      ],
      "text/plain": [
       "<IPython.core.display.HTML object>"
      ]
     },
     "metadata": {},
     "output_type": "display_data"
    },
    {
     "data": {
      "text/html": [
       "Tracking run with wandb version 0.15.5"
      ],
      "text/plain": [
       "<IPython.core.display.HTML object>"
      ]
     },
     "metadata": {},
     "output_type": "display_data"
    },
    {
     "data": {
      "text/html": [
       "Run data is saved locally in <code>c:\\Users\\User\\Projects\\pneumonia-xray-classification\\notebooks\\wandb\\run-20230916_040215-o5mmmq4u</code>"
      ],
      "text/plain": [
       "<IPython.core.display.HTML object>"
      ]
     },
     "metadata": {},
     "output_type": "display_data"
    },
    {
     "data": {
      "text/html": [
       "Syncing run <strong><a href='https://wandb.ai/marcus-lim/PCXR-DenseNet-169-Evaluation/runs/o5mmmq4u' target=\"_blank\">lemon-sweep-12</a></strong> to <a href='https://wandb.ai/marcus-lim/PCXR-DenseNet-169-Evaluation' target=\"_blank\">Weights & Biases</a> (<a href='https://wandb.me/run' target=\"_blank\">docs</a>)<br/>Sweep page: <a href='https://wandb.ai/marcus-lim/PCXR-DenseNet-169-Evaluation/sweeps/8ib2hshg' target=\"_blank\">https://wandb.ai/marcus-lim/PCXR-DenseNet-169-Evaluation/sweeps/8ib2hshg</a>"
      ],
      "text/plain": [
       "<IPython.core.display.HTML object>"
      ]
     },
     "metadata": {},
     "output_type": "display_data"
    },
    {
     "data": {
      "text/html": [
       " View project at <a href='https://wandb.ai/marcus-lim/PCXR-DenseNet-169-Evaluation' target=\"_blank\">https://wandb.ai/marcus-lim/PCXR-DenseNet-169-Evaluation</a>"
      ],
      "text/plain": [
       "<IPython.core.display.HTML object>"
      ]
     },
     "metadata": {},
     "output_type": "display_data"
    },
    {
     "data": {
      "text/html": [
       " View sweep at <a href='https://wandb.ai/marcus-lim/PCXR-DenseNet-169-Evaluation/sweeps/8ib2hshg' target=\"_blank\">https://wandb.ai/marcus-lim/PCXR-DenseNet-169-Evaluation/sweeps/8ib2hshg</a>"
      ],
      "text/plain": [
       "<IPython.core.display.HTML object>"
      ]
     },
     "metadata": {},
     "output_type": "display_data"
    },
    {
     "data": {
      "text/html": [
       " View run at <a href='https://wandb.ai/marcus-lim/PCXR-DenseNet-169-Evaluation/runs/o5mmmq4u' target=\"_blank\">https://wandb.ai/marcus-lim/PCXR-DenseNet-169-Evaluation/runs/o5mmmq4u</a>"
      ],
      "text/plain": [
       "<IPython.core.display.HTML object>"
      ]
     },
     "metadata": {},
     "output_type": "display_data"
    },
    {
     "name": "stdout",
     "output_type": "stream",
     "text": [
      "Found 4684 files belonging to 3 classes.\n",
      "Using 3748 files for training.\n",
      "Using 936 files for validation.\n",
      "Found 1172 files belonging to 3 classes.\n",
      "Generating predictions and computing metrics for Epoch 1 \n",
      "30/30 [==============================] - 4s 68ms/step\n",
      "training loss : 0.9950748085975647 , training acc : 0.5128068327903748 , mcc score : 0.5762118101119995\n",
      "aucroc score  : 0.8772189021110535 , f1 score     : 0.7076326012611389 \n",
      "Generating predictions and computing metrics for Epoch 2 \n",
      "30/30 [==============================] - 2s 67ms/step\n",
      "training loss : 0.763202428817749 , training acc : 0.666488766670227 , mcc score : 0.6094939112663269\n",
      "aucroc score  : 0.9076922535896301 , f1 score     : 0.7285733222961426 \n",
      "Generating predictions and computing metrics for Epoch 3 \n",
      "30/30 [==============================] - 2s 67ms/step\n",
      "training loss : 0.6958020925521851 , training acc : 0.7046424746513367 , mcc score : 0.6364756226539612\n",
      "aucroc score  : 0.913017749786377 , f1 score     : 0.7441394329071045 \n",
      "Generating predictions and computing metrics for Epoch 4 \n",
      "30/30 [==============================] - 2s 68ms/step\n",
      "training loss : 0.6550507545471191 , training acc : 0.7273212671279907 , mcc score : 0.6421635150909424\n",
      "aucroc score  : 0.9164201021194458 , f1 score     : 0.7500761151313782 \n",
      "Generating predictions and computing metrics for Epoch 5 \n",
      "30/30 [==============================] - 2s 70ms/step\n",
      "training loss : 0.6286571621894836 , training acc : 0.7433297634124756 , mcc score : 0.6424322724342346\n",
      "aucroc score  : 0.9190828204154968 , f1 score     : 0.7509557604789734 \n",
      "Generating predictions and computing metrics for Epoch 6 \n",
      "30/30 [==============================] - 2s 67ms/step\n",
      "training loss : 0.6161380410194397 , training acc : 0.7446638345718384 , mcc score : 0.6450495719909668\n",
      "aucroc score  : 0.9192306995391846 , f1 score     : 0.7529638409614563 \n",
      "Generating predictions and computing metrics for Epoch 7 \n",
      "30/30 [==============================] - 2s 67ms/step\n",
      "training loss : 0.5932580232620239 , training acc : 0.7529348731040955 , mcc score : 0.658381462097168\n",
      "aucroc score  : 0.9239644408226013 , f1 score     : 0.7580726742744446 \n",
      "Generating predictions and computing metrics for Epoch 8 \n",
      "30/30 [==============================] - 2s 67ms/step\n",
      "training loss : 0.5856983065605164 , training acc : 0.7577374577522278 , mcc score : 0.6443244814872742\n",
      "aucroc score  : 0.9164201021194458 , f1 score     : 0.7526023983955383 \n",
      "Generating predictions and computing metrics for Epoch 9 \n",
      "30/30 [==============================] - 2s 67ms/step\n",
      "training loss : 0.5696484446525574 , training acc : 0.7665421366691589 , mcc score : 0.6599878072738647\n",
      "aucroc score  : 0.9238165616989136 , f1 score     : 0.7622814774513245 \n",
      "Generating predictions and computing metrics for Epoch 10 \n",
      "30/30 [==============================] - 2s 67ms/step\n",
      "training loss : 0.5600870847702026 , training acc : 0.7700106501579285 , mcc score : 0.6665318012237549\n",
      "aucroc score  : 0.925591766834259 , f1 score     : 0.7674655318260193 \n"
     ]
    },
    {
     "data": {
      "text/html": [
       "Waiting for W&B process to finish... <strong style=\"color:green\">(success).</strong>"
      ],
      "text/plain": [
       "<IPython.core.display.HTML object>"
      ]
     },
     "metadata": {},
     "output_type": "display_data"
    },
    {
     "data": {
      "text/html": [
       "<style>\n",
       "    table.wandb td:nth-child(1) { padding: 0 10px; text-align: left ; width: auto;} td:nth-child(2) {text-align: left ; width: 100%}\n",
       "    .wandb-row { display: flex; flex-direction: row; flex-wrap: wrap; justify-content: flex-start; width: 100% }\n",
       "    .wandb-col { display: flex; flex-direction: column; flex-basis: 100%; flex: 1; padding: 10px; }\n",
       "    </style>\n",
       "<div class=\"wandb-row\"><div class=\"wandb-col\"><h3>Run history:</h3><br/><table class=\"wandb\"><tr><td>auc_roc</td><td>▁▅▆▇▇▇█▇██</td></tr><tr><td>epoch/accuracy</td><td>▁▅▆▇▇▇████</td></tr><tr><td>epoch/epoch</td><td>▁▂▃▃▄▅▆▆▇█</td></tr><tr><td>epoch/learning_rate</td><td>▁▁▁▁▁▁▁▁▁▁</td></tr><tr><td>epoch/loss</td><td>█▄▃▃▂▂▂▁▁▁</td></tr><tr><td>epoch/val_accuracy</td><td>▁▄▆▆▆▇▇▇██</td></tr><tr><td>epoch/val_loss</td><td>█▄▃▂▂▂▁▁▁▁</td></tr><tr><td>fmeasure</td><td>▁▃▅▆▆▆▇▆▇█</td></tr><tr><td>mcc</td><td>▁▄▆▆▆▆▇▆▇█</td></tr></table><br/></div><div class=\"wandb-col\"><h3>Run summary:</h3><br/><table class=\"wandb\"><tr><td>auc_roc</td><td>0.92559</td></tr><tr><td>epoch/accuracy</td><td>0.77001</td></tr><tr><td>epoch/epoch</td><td>9</td></tr><tr><td>epoch/learning_rate</td><td>0.00356</td></tr><tr><td>epoch/loss</td><td>0.56009</td></tr><tr><td>epoch/val_accuracy</td><td>0.78953</td></tr><tr><td>epoch/val_loss</td><td>0.51142</td></tr><tr><td>fmeasure</td><td>0.76747</td></tr><tr><td>mcc</td><td>0.66653</td></tr></table><br/></div></div>"
      ],
      "text/plain": [
       "<IPython.core.display.HTML object>"
      ]
     },
     "metadata": {},
     "output_type": "display_data"
    },
    {
     "data": {
      "text/html": [
       " View run <strong style=\"color:#cdcd00\">lemon-sweep-12</strong> at: <a href='https://wandb.ai/marcus-lim/PCXR-DenseNet-169-Evaluation/runs/o5mmmq4u' target=\"_blank\">https://wandb.ai/marcus-lim/PCXR-DenseNet-169-Evaluation/runs/o5mmmq4u</a><br/>Synced 5 W&B file(s), 0 media file(s), 0 artifact file(s) and 0 other file(s)"
      ],
      "text/plain": [
       "<IPython.core.display.HTML object>"
      ]
     },
     "metadata": {},
     "output_type": "display_data"
    },
    {
     "data": {
      "text/html": [
       "Find logs at: <code>.\\wandb\\run-20230916_040215-o5mmmq4u\\logs</code>"
      ],
      "text/plain": [
       "<IPython.core.display.HTML object>"
      ]
     },
     "metadata": {},
     "output_type": "display_data"
    },
    {
     "name": "stderr",
     "output_type": "stream",
     "text": [
      "\u001b[34m\u001b[1mwandb\u001b[0m: Agent Starting Run: e7x9nd4c with config:\n",
      "\u001b[34m\u001b[1mwandb\u001b[0m: \tbatch_size: 32\n",
      "\u001b[34m\u001b[1mwandb\u001b[0m: \tdropout_1: 0.6\n",
      "\u001b[34m\u001b[1mwandb\u001b[0m: \tdropout_2: 0.6\n",
      "\u001b[34m\u001b[1mwandb\u001b[0m: \tdropout_3: 0.8\n",
      "\u001b[34m\u001b[1mwandb\u001b[0m: \tepochs: 10\n",
      "\u001b[34m\u001b[1mwandb\u001b[0m: \tfc_layer_size_1: 64\n",
      "\u001b[34m\u001b[1mwandb\u001b[0m: \tfc_layer_size_2: 32\n",
      "\u001b[34m\u001b[1mwandb\u001b[0m: \tlearning_rate: 0.0015920166512180896\n",
      "\u001b[34m\u001b[1mwandb\u001b[0m: \toptimiser: sgd\n",
      "Failed to detect the name of this notebook, you can set it manually with the WANDB_NOTEBOOK_NAME environment variable to enable code saving.\n"
     ]
    },
    {
     "data": {
      "text/html": [
       "wandb version 0.15.10 is available!  To upgrade, please run:\n",
       " $ pip install wandb --upgrade"
      ],
      "text/plain": [
       "<IPython.core.display.HTML object>"
      ]
     },
     "metadata": {},
     "output_type": "display_data"
    },
    {
     "data": {
      "text/html": [
       "Tracking run with wandb version 0.15.5"
      ],
      "text/plain": [
       "<IPython.core.display.HTML object>"
      ]
     },
     "metadata": {},
     "output_type": "display_data"
    },
    {
     "data": {
      "text/html": [
       "Run data is saved locally in <code>c:\\Users\\User\\Projects\\pneumonia-xray-classification\\notebooks\\wandb\\run-20230916_041414-e7x9nd4c</code>"
      ],
      "text/plain": [
       "<IPython.core.display.HTML object>"
      ]
     },
     "metadata": {},
     "output_type": "display_data"
    },
    {
     "data": {
      "text/html": [
       "Syncing run <strong><a href='https://wandb.ai/marcus-lim/PCXR-DenseNet-169-Evaluation/runs/e7x9nd4c' target=\"_blank\">frosty-sweep-13</a></strong> to <a href='https://wandb.ai/marcus-lim/PCXR-DenseNet-169-Evaluation' target=\"_blank\">Weights & Biases</a> (<a href='https://wandb.me/run' target=\"_blank\">docs</a>)<br/>Sweep page: <a href='https://wandb.ai/marcus-lim/PCXR-DenseNet-169-Evaluation/sweeps/8ib2hshg' target=\"_blank\">https://wandb.ai/marcus-lim/PCXR-DenseNet-169-Evaluation/sweeps/8ib2hshg</a>"
      ],
      "text/plain": [
       "<IPython.core.display.HTML object>"
      ]
     },
     "metadata": {},
     "output_type": "display_data"
    },
    {
     "data": {
      "text/html": [
       " View project at <a href='https://wandb.ai/marcus-lim/PCXR-DenseNet-169-Evaluation' target=\"_blank\">https://wandb.ai/marcus-lim/PCXR-DenseNet-169-Evaluation</a>"
      ],
      "text/plain": [
       "<IPython.core.display.HTML object>"
      ]
     },
     "metadata": {},
     "output_type": "display_data"
    },
    {
     "data": {
      "text/html": [
       " View sweep at <a href='https://wandb.ai/marcus-lim/PCXR-DenseNet-169-Evaluation/sweeps/8ib2hshg' target=\"_blank\">https://wandb.ai/marcus-lim/PCXR-DenseNet-169-Evaluation/sweeps/8ib2hshg</a>"
      ],
      "text/plain": [
       "<IPython.core.display.HTML object>"
      ]
     },
     "metadata": {},
     "output_type": "display_data"
    },
    {
     "data": {
      "text/html": [
       " View run at <a href='https://wandb.ai/marcus-lim/PCXR-DenseNet-169-Evaluation/runs/e7x9nd4c' target=\"_blank\">https://wandb.ai/marcus-lim/PCXR-DenseNet-169-Evaluation/runs/e7x9nd4c</a>"
      ],
      "text/plain": [
       "<IPython.core.display.HTML object>"
      ]
     },
     "metadata": {},
     "output_type": "display_data"
    },
    {
     "name": "stdout",
     "output_type": "stream",
     "text": [
      "Found 4684 files belonging to 3 classes.\n",
      "Using 3748 files for training.\n",
      "Using 936 files for validation.\n",
      "Found 1172 files belonging to 3 classes.\n",
      "Generating predictions and computing metrics for Epoch 1 \n",
      "30/30 [==============================] - 4s 71ms/step\n",
      "training loss : 1.370333194732666 , training acc : 0.30389541387557983 , mcc score : 0.18210925161838531\n",
      "aucroc score  : 0.5994082689285278 , f1 score     : 0.3592202365398407 \n",
      "Generating predictions and computing metrics for Epoch 2 \n",
      "30/30 [==============================] - 2s 68ms/step\n",
      "training loss : 1.1971608400344849 , training acc : 0.3788687288761139 , mcc score : 0.3549518287181854\n",
      "aucroc score  : 0.7276627421379089 , f1 score     : 0.4539487659931183 \n",
      "Generating predictions and computing metrics for Epoch 3 \n",
      "30/30 [==============================] - 2s 67ms/step\n",
      "training loss : 1.1177369356155396 , training acc : 0.4399679899215698 , mcc score : 0.36131852865219116\n",
      "aucroc score  : 0.733284056186676 , f1 score     : 0.4525160789489746 \n",
      "Generating predictions and computing metrics for Epoch 4 \n",
      "30/30 [==============================] - 2s 67ms/step\n",
      "training loss : 1.0497410297393799 , training acc : 0.47732123732566833 , mcc score : 0.374937504529953\n",
      "aucroc score  : 0.7467455267906189 , f1 score     : 0.4565538465976715 \n",
      "Generating predictions and computing metrics for Epoch 5 \n",
      "30/30 [==============================] - 2s 75ms/step\n",
      "training loss : 1.0126352310180664 , training acc : 0.511472761631012 , mcc score : 0.42010262608528137\n",
      "aucroc score  : 0.790680468082428 , f1 score     : 0.48138177394866943 \n",
      "Generating predictions and computing metrics for Epoch 6 \n",
      "30/30 [==============================] - 2s 68ms/step\n",
      "training loss : 0.9661639332771301 , training acc : 0.5418890118598938 , mcc score : 0.45004308223724365\n",
      "aucroc score  : 0.8134615421295166 , f1 score     : 0.49812695384025574 \n",
      "Generating predictions and computing metrics for Epoch 7 \n",
      "30/30 [==============================] - 2s 67ms/step\n",
      "training loss : 0.9485145211219788 , training acc : 0.5568302869796753 , mcc score : 0.4646250903606415\n",
      "aucroc score  : 0.8221893310546875 , f1 score     : 0.5091590881347656 \n",
      "Generating predictions and computing metrics for Epoch 8 \n",
      "30/30 [==============================] - 2s 67ms/step\n",
      "training loss : 0.919255256652832 , training acc : 0.5709711909294128 , mcc score : 0.47643980383872986\n",
      "aucroc score  : 0.8396449685096741 , f1 score     : 0.522136390209198 \n",
      "Generating predictions and computing metrics for Epoch 9 \n",
      "30/30 [==============================] - 2s 68ms/step\n",
      "training loss : 0.9129071235656738 , training acc : 0.5808430910110474 , mcc score : 0.4811267852783203\n",
      "aucroc score  : 0.8430473208427429 , f1 score     : 0.5299530625343323 \n",
      "Generating predictions and computing metrics for Epoch 10 \n",
      "30/30 [==============================] - 2s 68ms/step\n",
      "training loss : 0.8961239457130432 , training acc : 0.5891141891479492 , mcc score : 0.5067580938339233\n",
      "aucroc score  : 0.8602071404457092 , f1 score     : 0.5470514893531799 \n"
     ]
    },
    {
     "data": {
      "text/html": [
       "Waiting for W&B process to finish... <strong style=\"color:green\">(success).</strong>"
      ],
      "text/plain": [
       "<IPython.core.display.HTML object>"
      ]
     },
     "metadata": {},
     "output_type": "display_data"
    },
    {
     "data": {
      "text/html": [
       "<style>\n",
       "    table.wandb td:nth-child(1) { padding: 0 10px; text-align: left ; width: auto;} td:nth-child(2) {text-align: left ; width: 100%}\n",
       "    .wandb-row { display: flex; flex-direction: row; flex-wrap: wrap; justify-content: flex-start; width: 100% }\n",
       "    .wandb-col { display: flex; flex-direction: column; flex-basis: 100%; flex: 1; padding: 10px; }\n",
       "    </style>\n",
       "<div class=\"wandb-row\"><div class=\"wandb-col\"><h3>Run history:</h3><br/><table class=\"wandb\"><tr><td>auc_roc</td><td>▁▄▅▅▆▇▇▇██</td></tr><tr><td>epoch/accuracy</td><td>▁▃▄▅▆▇▇███</td></tr><tr><td>epoch/epoch</td><td>▁▂▃▃▄▅▆▆▇█</td></tr><tr><td>epoch/learning_rate</td><td>▁▁▁▁▁▁▁▁▁▁</td></tr><tr><td>epoch/loss</td><td>█▅▄▃▃▂▂▁▁▁</td></tr><tr><td>epoch/val_accuracy</td><td>▁▆▆▆▇▇▇███</td></tr><tr><td>epoch/val_loss</td><td>█▆▅▄▃▃▂▂▁▁</td></tr><tr><td>fmeasure</td><td>▁▅▄▅▆▆▇▇▇█</td></tr><tr><td>mcc</td><td>▁▅▅▅▆▇▇▇▇█</td></tr></table><br/></div><div class=\"wandb-col\"><h3>Run summary:</h3><br/><table class=\"wandb\"><tr><td>auc_roc</td><td>0.86021</td></tr><tr><td>epoch/accuracy</td><td>0.58911</td></tr><tr><td>epoch/epoch</td><td>9</td></tr><tr><td>epoch/learning_rate</td><td>0.00159</td></tr><tr><td>epoch/loss</td><td>0.89612</td></tr><tr><td>epoch/val_accuracy</td><td>0.6859</td></tr><tr><td>epoch/val_loss</td><td>0.75071</td></tr><tr><td>fmeasure</td><td>0.54705</td></tr><tr><td>mcc</td><td>0.50676</td></tr></table><br/></div></div>"
      ],
      "text/plain": [
       "<IPython.core.display.HTML object>"
      ]
     },
     "metadata": {},
     "output_type": "display_data"
    },
    {
     "data": {
      "text/html": [
       " View run <strong style=\"color:#cdcd00\">frosty-sweep-13</strong> at: <a href='https://wandb.ai/marcus-lim/PCXR-DenseNet-169-Evaluation/runs/e7x9nd4c' target=\"_blank\">https://wandb.ai/marcus-lim/PCXR-DenseNet-169-Evaluation/runs/e7x9nd4c</a><br/>Synced 5 W&B file(s), 0 media file(s), 0 artifact file(s) and 0 other file(s)"
      ],
      "text/plain": [
       "<IPython.core.display.HTML object>"
      ]
     },
     "metadata": {},
     "output_type": "display_data"
    },
    {
     "data": {
      "text/html": [
       "Find logs at: <code>.\\wandb\\run-20230916_041414-e7x9nd4c\\logs</code>"
      ],
      "text/plain": [
       "<IPython.core.display.HTML object>"
      ]
     },
     "metadata": {},
     "output_type": "display_data"
    },
    {
     "name": "stderr",
     "output_type": "stream",
     "text": [
      "\u001b[34m\u001b[1mwandb\u001b[0m: Agent Starting Run: x5g84mxr with config:\n",
      "\u001b[34m\u001b[1mwandb\u001b[0m: \tbatch_size: 32\n",
      "\u001b[34m\u001b[1mwandb\u001b[0m: \tdropout_1: 0.2\n",
      "\u001b[34m\u001b[1mwandb\u001b[0m: \tdropout_2: 0.2\n",
      "\u001b[34m\u001b[1mwandb\u001b[0m: \tdropout_3: 0.2\n",
      "\u001b[34m\u001b[1mwandb\u001b[0m: \tepochs: 10\n",
      "\u001b[34m\u001b[1mwandb\u001b[0m: \tfc_layer_size_1: 32\n",
      "\u001b[34m\u001b[1mwandb\u001b[0m: \tfc_layer_size_2: 512\n",
      "\u001b[34m\u001b[1mwandb\u001b[0m: \tlearning_rate: 0.003485792668294137\n",
      "\u001b[34m\u001b[1mwandb\u001b[0m: \toptimiser: adam\n",
      "Failed to detect the name of this notebook, you can set it manually with the WANDB_NOTEBOOK_NAME environment variable to enable code saving.\n"
     ]
    },
    {
     "data": {
      "text/html": [
       "wandb version 0.15.10 is available!  To upgrade, please run:\n",
       " $ pip install wandb --upgrade"
      ],
      "text/plain": [
       "<IPython.core.display.HTML object>"
      ]
     },
     "metadata": {},
     "output_type": "display_data"
    },
    {
     "data": {
      "text/html": [
       "Tracking run with wandb version 0.15.5"
      ],
      "text/plain": [
       "<IPython.core.display.HTML object>"
      ]
     },
     "metadata": {},
     "output_type": "display_data"
    },
    {
     "data": {
      "text/html": [
       "Run data is saved locally in <code>c:\\Users\\User\\Projects\\pneumonia-xray-classification\\notebooks\\wandb\\run-20230916_042607-x5g84mxr</code>"
      ],
      "text/plain": [
       "<IPython.core.display.HTML object>"
      ]
     },
     "metadata": {},
     "output_type": "display_data"
    },
    {
     "data": {
      "text/html": [
       "Syncing run <strong><a href='https://wandb.ai/marcus-lim/PCXR-DenseNet-169-Evaluation/runs/x5g84mxr' target=\"_blank\">honest-sweep-14</a></strong> to <a href='https://wandb.ai/marcus-lim/PCXR-DenseNet-169-Evaluation' target=\"_blank\">Weights & Biases</a> (<a href='https://wandb.me/run' target=\"_blank\">docs</a>)<br/>Sweep page: <a href='https://wandb.ai/marcus-lim/PCXR-DenseNet-169-Evaluation/sweeps/8ib2hshg' target=\"_blank\">https://wandb.ai/marcus-lim/PCXR-DenseNet-169-Evaluation/sweeps/8ib2hshg</a>"
      ],
      "text/plain": [
       "<IPython.core.display.HTML object>"
      ]
     },
     "metadata": {},
     "output_type": "display_data"
    },
    {
     "data": {
      "text/html": [
       " View project at <a href='https://wandb.ai/marcus-lim/PCXR-DenseNet-169-Evaluation' target=\"_blank\">https://wandb.ai/marcus-lim/PCXR-DenseNet-169-Evaluation</a>"
      ],
      "text/plain": [
       "<IPython.core.display.HTML object>"
      ]
     },
     "metadata": {},
     "output_type": "display_data"
    },
    {
     "data": {
      "text/html": [
       " View sweep at <a href='https://wandb.ai/marcus-lim/PCXR-DenseNet-169-Evaluation/sweeps/8ib2hshg' target=\"_blank\">https://wandb.ai/marcus-lim/PCXR-DenseNet-169-Evaluation/sweeps/8ib2hshg</a>"
      ],
      "text/plain": [
       "<IPython.core.display.HTML object>"
      ]
     },
     "metadata": {},
     "output_type": "display_data"
    },
    {
     "data": {
      "text/html": [
       " View run at <a href='https://wandb.ai/marcus-lim/PCXR-DenseNet-169-Evaluation/runs/x5g84mxr' target=\"_blank\">https://wandb.ai/marcus-lim/PCXR-DenseNet-169-Evaluation/runs/x5g84mxr</a>"
      ],
      "text/plain": [
       "<IPython.core.display.HTML object>"
      ]
     },
     "metadata": {},
     "output_type": "display_data"
    },
    {
     "name": "stdout",
     "output_type": "stream",
     "text": [
      "Found 4684 files belonging to 3 classes.\n",
      "Using 3748 files for training.\n",
      "Using 936 files for validation.\n",
      "Found 1172 files belonging to 3 classes.\n",
      "Generating predictions and computing metrics for Epoch 1 \n",
      "30/30 [==============================] - 4s 70ms/step\n",
      "training loss : 0.5802415013313293 , training acc : 0.7692102193832397 , mcc score : 0.6306846141815186\n",
      "aucroc score  : 0.8825443387031555 , f1 score     : 0.749248743057251 \n",
      "Generating predictions and computing metrics for Epoch 2 \n",
      "30/30 [==============================] - 2s 67ms/step\n",
      "training loss : 0.49216434359550476 , training acc : 0.7977588176727295 , mcc score : 0.614674985408783\n",
      "aucroc score  : 0.9124259948730469 , f1 score     : 0.7097964882850647 \n",
      "Generating predictions and computing metrics for Epoch 3 \n",
      "30/30 [==============================] - 2s 67ms/step\n",
      "training loss : 0.4702549874782562 , training acc : 0.806296706199646 , mcc score : 0.6857388615608215\n",
      "aucroc score  : 0.9383136630058289 , f1 score     : 0.7780795097351074 \n",
      "Generating predictions and computing metrics for Epoch 4 \n",
      "30/30 [==============================] - 2s 67ms/step\n",
      "training loss : 0.4449603855609894 , training acc : 0.8151013851165771 , mcc score : 0.6769812703132629\n",
      "aucroc score  : 0.9316567778587341 , f1 score     : 0.7765226364135742 \n",
      "Generating predictions and computing metrics for Epoch 5 \n",
      "30/30 [==============================] - 2s 67ms/step\n",
      "training loss : 0.4434623122215271 , training acc : 0.8172358870506287 , mcc score : 0.6843081712722778\n",
      "aucroc score  : 0.9365384578704834 , f1 score     : 0.7638205885887146 \n",
      "Generating predictions and computing metrics for Epoch 6 \n",
      "30/30 [==============================] - 2s 67ms/step\n",
      "training loss : 0.4347732663154602 , training acc : 0.829775869846344 , mcc score : 0.5937368273735046\n",
      "aucroc score  : 0.896301805973053 , f1 score     : 0.7084221839904785 \n",
      "Generating predictions and computing metrics for Epoch 7 \n",
      "30/30 [==============================] - 2s 68ms/step\n",
      "training loss : 0.42981860041618347 , training acc : 0.8169690370559692 , mcc score : 0.6929502487182617\n",
      "aucroc score  : 0.9387574195861816 , f1 score     : 0.7801644206047058 \n",
      "Generating predictions and computing metrics for Epoch 8 \n",
      "30/30 [==============================] - 2s 67ms/step\n",
      "training loss : 0.42027559876441956 , training acc : 0.8220384120941162 , mcc score : 0.6265290975570679\n",
      "aucroc score  : 0.88165682554245 , f1 score     : 0.7458637356758118 \n",
      "Generating predictions and computing metrics for Epoch 9 \n",
      "30/30 [==============================] - 2s 67ms/step\n",
      "training loss : 0.41088491678237915 , training acc : 0.8268409967422485 , mcc score : 0.698986291885376\n",
      "aucroc score  : 0.9393491148948669 , f1 score     : 0.7909269332885742 \n",
      "Generating predictions and computing metrics for Epoch 10 \n",
      "30/30 [==============================] - 2s 67ms/step\n",
      "training loss : 0.398006409406662 , training acc : 0.8287086486816406 , mcc score : 0.6845957040786743\n",
      "aucroc score  : 0.931952714920044 , f1 score     : 0.782977283000946 \n"
     ]
    },
    {
     "data": {
      "text/html": [
       "Waiting for W&B process to finish... <strong style=\"color:green\">(success).</strong>"
      ],
      "text/plain": [
       "<IPython.core.display.HTML object>"
      ]
     },
     "metadata": {},
     "output_type": "display_data"
    },
    {
     "data": {
      "text/html": [
       "<style>\n",
       "    table.wandb td:nth-child(1) { padding: 0 10px; text-align: left ; width: auto;} td:nth-child(2) {text-align: left ; width: 100%}\n",
       "    .wandb-row { display: flex; flex-direction: row; flex-wrap: wrap; justify-content: flex-start; width: 100% }\n",
       "    .wandb-col { display: flex; flex-direction: column; flex-basis: 100%; flex: 1; padding: 10px; }\n",
       "    </style>\n",
       "<div class=\"wandb-row\"><div class=\"wandb-col\"><h3>Run history:</h3><br/><table class=\"wandb\"><tr><td>auc_roc</td><td>▁▅█▇█▃█▁█▇</td></tr><tr><td>epoch/accuracy</td><td>▁▄▅▆▇█▇▇██</td></tr><tr><td>epoch/epoch</td><td>▁▂▃▃▄▅▆▆▇█</td></tr><tr><td>epoch/learning_rate</td><td>▁▁▁▁▁▁▁▁▁▁</td></tr><tr><td>epoch/loss</td><td>█▅▄▃▃▂▂▂▁▁</td></tr><tr><td>epoch/val_accuracy</td><td>▅▄▇▇▇▁█▃█▇</td></tr><tr><td>epoch/val_loss</td><td>▃▅▁▁▄█▁▃▂▃</td></tr><tr><td>fmeasure</td><td>▄▁▇▇▆▁▇▄█▇</td></tr><tr><td>mcc</td><td>▃▂▇▇▇▁█▃█▇</td></tr></table><br/></div><div class=\"wandb-col\"><h3>Run summary:</h3><br/><table class=\"wandb\"><tr><td>auc_roc</td><td>0.93195</td></tr><tr><td>epoch/accuracy</td><td>0.82871</td></tr><tr><td>epoch/epoch</td><td>9</td></tr><tr><td>epoch/learning_rate</td><td>0.00349</td></tr><tr><td>epoch/loss</td><td>0.39801</td></tr><tr><td>epoch/val_accuracy</td><td>0.79167</td></tr><tr><td>epoch/val_loss</td><td>0.58221</td></tr><tr><td>fmeasure</td><td>0.78298</td></tr><tr><td>mcc</td><td>0.6846</td></tr></table><br/></div></div>"
      ],
      "text/plain": [
       "<IPython.core.display.HTML object>"
      ]
     },
     "metadata": {},
     "output_type": "display_data"
    },
    {
     "data": {
      "text/html": [
       " View run <strong style=\"color:#cdcd00\">honest-sweep-14</strong> at: <a href='https://wandb.ai/marcus-lim/PCXR-DenseNet-169-Evaluation/runs/x5g84mxr' target=\"_blank\">https://wandb.ai/marcus-lim/PCXR-DenseNet-169-Evaluation/runs/x5g84mxr</a><br/>Synced 5 W&B file(s), 0 media file(s), 0 artifact file(s) and 0 other file(s)"
      ],
      "text/plain": [
       "<IPython.core.display.HTML object>"
      ]
     },
     "metadata": {},
     "output_type": "display_data"
    },
    {
     "data": {
      "text/html": [
       "Find logs at: <code>.\\wandb\\run-20230916_042607-x5g84mxr\\logs</code>"
      ],
      "text/plain": [
       "<IPython.core.display.HTML object>"
      ]
     },
     "metadata": {},
     "output_type": "display_data"
    },
    {
     "name": "stderr",
     "output_type": "stream",
     "text": [
      "\u001b[34m\u001b[1mwandb\u001b[0m: Agent Starting Run: 8a4vt2z8 with config:\n",
      "\u001b[34m\u001b[1mwandb\u001b[0m: \tbatch_size: 32\n",
      "\u001b[34m\u001b[1mwandb\u001b[0m: \tdropout_1: 0.6\n",
      "\u001b[34m\u001b[1mwandb\u001b[0m: \tdropout_2: 0.8\n",
      "\u001b[34m\u001b[1mwandb\u001b[0m: \tdropout_3: 0.8\n",
      "\u001b[34m\u001b[1mwandb\u001b[0m: \tepochs: 10\n",
      "\u001b[34m\u001b[1mwandb\u001b[0m: \tfc_layer_size_1: 64\n",
      "\u001b[34m\u001b[1mwandb\u001b[0m: \tfc_layer_size_2: 128\n",
      "\u001b[34m\u001b[1mwandb\u001b[0m: \tlearning_rate: 0.0042291362245936515\n",
      "\u001b[34m\u001b[1mwandb\u001b[0m: \toptimiser: sgd\n",
      "Failed to detect the name of this notebook, you can set it manually with the WANDB_NOTEBOOK_NAME environment variable to enable code saving.\n"
     ]
    },
    {
     "data": {
      "text/html": [
       "wandb version 0.15.10 is available!  To upgrade, please run:\n",
       " $ pip install wandb --upgrade"
      ],
      "text/plain": [
       "<IPython.core.display.HTML object>"
      ]
     },
     "metadata": {},
     "output_type": "display_data"
    },
    {
     "data": {
      "text/html": [
       "Tracking run with wandb version 0.15.5"
      ],
      "text/plain": [
       "<IPython.core.display.HTML object>"
      ]
     },
     "metadata": {},
     "output_type": "display_data"
    },
    {
     "data": {
      "text/html": [
       "Run data is saved locally in <code>c:\\Users\\User\\Projects\\pneumonia-xray-classification\\notebooks\\wandb\\run-20230916_043811-8a4vt2z8</code>"
      ],
      "text/plain": [
       "<IPython.core.display.HTML object>"
      ]
     },
     "metadata": {},
     "output_type": "display_data"
    },
    {
     "data": {
      "text/html": [
       "Syncing run <strong><a href='https://wandb.ai/marcus-lim/PCXR-DenseNet-169-Evaluation/runs/8a4vt2z8' target=\"_blank\">winter-sweep-15</a></strong> to <a href='https://wandb.ai/marcus-lim/PCXR-DenseNet-169-Evaluation' target=\"_blank\">Weights & Biases</a> (<a href='https://wandb.me/run' target=\"_blank\">docs</a>)<br/>Sweep page: <a href='https://wandb.ai/marcus-lim/PCXR-DenseNet-169-Evaluation/sweeps/8ib2hshg' target=\"_blank\">https://wandb.ai/marcus-lim/PCXR-DenseNet-169-Evaluation/sweeps/8ib2hshg</a>"
      ],
      "text/plain": [
       "<IPython.core.display.HTML object>"
      ]
     },
     "metadata": {},
     "output_type": "display_data"
    },
    {
     "data": {
      "text/html": [
       " View project at <a href='https://wandb.ai/marcus-lim/PCXR-DenseNet-169-Evaluation' target=\"_blank\">https://wandb.ai/marcus-lim/PCXR-DenseNet-169-Evaluation</a>"
      ],
      "text/plain": [
       "<IPython.core.display.HTML object>"
      ]
     },
     "metadata": {},
     "output_type": "display_data"
    },
    {
     "data": {
      "text/html": [
       " View sweep at <a href='https://wandb.ai/marcus-lim/PCXR-DenseNet-169-Evaluation/sweeps/8ib2hshg' target=\"_blank\">https://wandb.ai/marcus-lim/PCXR-DenseNet-169-Evaluation/sweeps/8ib2hshg</a>"
      ],
      "text/plain": [
       "<IPython.core.display.HTML object>"
      ]
     },
     "metadata": {},
     "output_type": "display_data"
    },
    {
     "data": {
      "text/html": [
       " View run at <a href='https://wandb.ai/marcus-lim/PCXR-DenseNet-169-Evaluation/runs/8a4vt2z8' target=\"_blank\">https://wandb.ai/marcus-lim/PCXR-DenseNet-169-Evaluation/runs/8a4vt2z8</a>"
      ],
      "text/plain": [
       "<IPython.core.display.HTML object>"
      ]
     },
     "metadata": {},
     "output_type": "display_data"
    },
    {
     "name": "stdout",
     "output_type": "stream",
     "text": [
      "Found 4684 files belonging to 3 classes.\n",
      "Using 3748 files for training.\n",
      "Using 936 files for validation.\n",
      "Found 1172 files belonging to 3 classes.\n",
      "Generating predictions and computing metrics for Epoch 1 \n",
      "30/30 [==============================] - 4s 68ms/step\n",
      "training loss : 1.1519752740859985 , training acc : 0.4356990456581116 , mcc score : 0.4845172166824341\n",
      "aucroc score  : 0.7903846502304077 , f1 score     : 0.6462052464485168 \n",
      "Generating predictions and computing metrics for Epoch 2 \n",
      "30/30 [==============================] - 2s 67ms/step\n",
      "training loss : 1.0748330354690552 , training acc : 0.4730522930622101 , mcc score : 0.5110874176025391\n",
      "aucroc score  : 0.8378698229789734 , f1 score     : 0.6252020597457886 \n",
      "Generating predictions and computing metrics for Epoch 3 \n",
      "30/30 [==============================] - 2s 67ms/step\n",
      "training loss : 0.993842601776123 , training acc : 0.5256136655807495 , mcc score : 0.5022842884063721\n",
      "aucroc score  : 0.8341715931892395 , f1 score     : 0.6054803133010864 \n",
      "Generating predictions and computing metrics for Epoch 4 \n",
      "30/30 [==============================] - 2s 67ms/step\n",
      "training loss : 0.9562841653823853 , training acc : 0.540554940700531 , mcc score : 0.5364817380905151\n",
      "aucroc score  : 0.8655325174331665 , f1 score     : 0.6306815147399902 \n",
      "Generating predictions and computing metrics for Epoch 5 \n",
      "30/30 [==============================] - 2s 67ms/step\n",
      "training loss : 0.914535641670227 , training acc : 0.5637673139572144 , mcc score : 0.5582162141799927\n",
      "aucroc score  : 0.8838757276535034 , f1 score     : 0.6497085094451904 \n",
      "Generating predictions and computing metrics for Epoch 6 \n",
      "30/30 [==============================] - 2s 67ms/step\n",
      "training loss : 0.8837071657180786 , training acc : 0.5939167737960815 , mcc score : 0.56512451171875\n",
      "aucroc score  : 0.8914201259613037 , f1 score     : 0.6510425806045532 \n",
      "Generating predictions and computing metrics for Epoch 7 \n",
      "30/30 [==============================] - 2s 68ms/step\n",
      "training loss : 0.8799058794975281 , training acc : 0.5981857180595398 , mcc score : 0.5768682360649109\n",
      "aucroc score  : 0.8927515149116516 , f1 score     : 0.6743280291557312 \n",
      "Generating predictions and computing metrics for Epoch 8 \n",
      "30/30 [==============================] - 2s 67ms/step\n",
      "training loss : 0.8775209784507751 , training acc : 0.590448260307312 , mcc score : 0.5927184820175171\n",
      "aucroc score  : 0.9019230604171753 , f1 score     : 0.67800372838974 \n",
      "Generating predictions and computing metrics for Epoch 9 \n",
      "30/30 [==============================] - 2s 67ms/step\n",
      "training loss : 0.8527269959449768 , training acc : 0.6035218834877014 , mcc score : 0.5805580615997314\n",
      "aucroc score  : 0.9034023284912109 , f1 score     : 0.6620202660560608 \n",
      "Generating predictions and computing metrics for Epoch 10 \n",
      "30/30 [==============================] - 2s 67ms/step\n",
      "training loss : 0.8421695828437805 , training acc : 0.6173959374427795 , mcc score : 0.5845827460289001\n",
      "aucroc score  : 0.9039940237998962 , f1 score     : 0.65864497423172 \n"
     ]
    },
    {
     "data": {
      "text/html": [
       "Waiting for W&B process to finish... <strong style=\"color:green\">(success).</strong>"
      ],
      "text/plain": [
       "<IPython.core.display.HTML object>"
      ]
     },
     "metadata": {},
     "output_type": "display_data"
    },
    {
     "data": {
      "text/html": [
       "<style>\n",
       "    table.wandb td:nth-child(1) { padding: 0 10px; text-align: left ; width: auto;} td:nth-child(2) {text-align: left ; width: 100%}\n",
       "    .wandb-row { display: flex; flex-direction: row; flex-wrap: wrap; justify-content: flex-start; width: 100% }\n",
       "    .wandb-col { display: flex; flex-direction: column; flex-basis: 100%; flex: 1; padding: 10px; }\n",
       "    </style>\n",
       "<div class=\"wandb-row\"><div class=\"wandb-col\"><h3>Run history:</h3><br/><table class=\"wandb\"><tr><td>auc_roc</td><td>▁▄▄▆▇▇▇███</td></tr><tr><td>epoch/accuracy</td><td>▁▂▄▅▆▇▇▇▇█</td></tr><tr><td>epoch/epoch</td><td>▁▂▃▃▄▅▆▆▇█</td></tr><tr><td>epoch/learning_rate</td><td>▁▁▁▁▁▁▁▁▁▁</td></tr><tr><td>epoch/loss</td><td>█▆▄▄▃▂▂▂▁▁</td></tr><tr><td>epoch/val_accuracy</td><td>▁▃▂▅▆▆▇█▇▇</td></tr><tr><td>epoch/val_loss</td><td>█▆▅▄▃▂▂▂▁▁</td></tr><tr><td>fmeasure</td><td>▅▃▁▃▅▅██▆▆</td></tr><tr><td>mcc</td><td>▁▃▂▄▆▆▇█▇▇</td></tr></table><br/></div><div class=\"wandb-col\"><h3>Run summary:</h3><br/><table class=\"wandb\"><tr><td>auc_roc</td><td>0.90399</td></tr><tr><td>epoch/accuracy</td><td>0.6174</td></tr><tr><td>epoch/epoch</td><td>9</td></tr><tr><td>epoch/learning_rate</td><td>0.00423</td></tr><tr><td>epoch/loss</td><td>0.84217</td></tr><tr><td>epoch/val_accuracy</td><td>0.73397</td></tr><tr><td>epoch/val_loss</td><td>0.65677</td></tr><tr><td>fmeasure</td><td>0.65864</td></tr><tr><td>mcc</td><td>0.58458</td></tr></table><br/></div></div>"
      ],
      "text/plain": [
       "<IPython.core.display.HTML object>"
      ]
     },
     "metadata": {},
     "output_type": "display_data"
    },
    {
     "data": {
      "text/html": [
       " View run <strong style=\"color:#cdcd00\">winter-sweep-15</strong> at: <a href='https://wandb.ai/marcus-lim/PCXR-DenseNet-169-Evaluation/runs/8a4vt2z8' target=\"_blank\">https://wandb.ai/marcus-lim/PCXR-DenseNet-169-Evaluation/runs/8a4vt2z8</a><br/>Synced 5 W&B file(s), 0 media file(s), 0 artifact file(s) and 0 other file(s)"
      ],
      "text/plain": [
       "<IPython.core.display.HTML object>"
      ]
     },
     "metadata": {},
     "output_type": "display_data"
    },
    {
     "data": {
      "text/html": [
       "Find logs at: <code>.\\wandb\\run-20230916_043811-8a4vt2z8\\logs</code>"
      ],
      "text/plain": [
       "<IPython.core.display.HTML object>"
      ]
     },
     "metadata": {},
     "output_type": "display_data"
    },
    {
     "name": "stderr",
     "output_type": "stream",
     "text": [
      "\u001b[34m\u001b[1mwandb\u001b[0m: Agent Starting Run: kur05ke7 with config:\n",
      "\u001b[34m\u001b[1mwandb\u001b[0m: \tbatch_size: 32\n",
      "\u001b[34m\u001b[1mwandb\u001b[0m: \tdropout_1: 0.6\n",
      "\u001b[34m\u001b[1mwandb\u001b[0m: \tdropout_2: 0.8\n",
      "\u001b[34m\u001b[1mwandb\u001b[0m: \tdropout_3: 0.2\n",
      "\u001b[34m\u001b[1mwandb\u001b[0m: \tepochs: 10\n",
      "\u001b[34m\u001b[1mwandb\u001b[0m: \tfc_layer_size_1: 256\n",
      "\u001b[34m\u001b[1mwandb\u001b[0m: \tfc_layer_size_2: 32\n",
      "\u001b[34m\u001b[1mwandb\u001b[0m: \tlearning_rate: 0.004114911102250512\n",
      "\u001b[34m\u001b[1mwandb\u001b[0m: \toptimiser: adam\n",
      "Failed to detect the name of this notebook, you can set it manually with the WANDB_NOTEBOOK_NAME environment variable to enable code saving.\n"
     ]
    },
    {
     "data": {
      "text/html": [
       "wandb version 0.15.10 is available!  To upgrade, please run:\n",
       " $ pip install wandb --upgrade"
      ],
      "text/plain": [
       "<IPython.core.display.HTML object>"
      ]
     },
     "metadata": {},
     "output_type": "display_data"
    },
    {
     "data": {
      "text/html": [
       "Tracking run with wandb version 0.15.5"
      ],
      "text/plain": [
       "<IPython.core.display.HTML object>"
      ]
     },
     "metadata": {},
     "output_type": "display_data"
    },
    {
     "data": {
      "text/html": [
       "Run data is saved locally in <code>c:\\Users\\User\\Projects\\pneumonia-xray-classification\\notebooks\\wandb\\run-20230916_045005-kur05ke7</code>"
      ],
      "text/plain": [
       "<IPython.core.display.HTML object>"
      ]
     },
     "metadata": {},
     "output_type": "display_data"
    },
    {
     "data": {
      "text/html": [
       "Syncing run <strong><a href='https://wandb.ai/marcus-lim/PCXR-DenseNet-169-Evaluation/runs/kur05ke7' target=\"_blank\">daily-sweep-16</a></strong> to <a href='https://wandb.ai/marcus-lim/PCXR-DenseNet-169-Evaluation' target=\"_blank\">Weights & Biases</a> (<a href='https://wandb.me/run' target=\"_blank\">docs</a>)<br/>Sweep page: <a href='https://wandb.ai/marcus-lim/PCXR-DenseNet-169-Evaluation/sweeps/8ib2hshg' target=\"_blank\">https://wandb.ai/marcus-lim/PCXR-DenseNet-169-Evaluation/sweeps/8ib2hshg</a>"
      ],
      "text/plain": [
       "<IPython.core.display.HTML object>"
      ]
     },
     "metadata": {},
     "output_type": "display_data"
    },
    {
     "data": {
      "text/html": [
       " View project at <a href='https://wandb.ai/marcus-lim/PCXR-DenseNet-169-Evaluation' target=\"_blank\">https://wandb.ai/marcus-lim/PCXR-DenseNet-169-Evaluation</a>"
      ],
      "text/plain": [
       "<IPython.core.display.HTML object>"
      ]
     },
     "metadata": {},
     "output_type": "display_data"
    },
    {
     "data": {
      "text/html": [
       " View sweep at <a href='https://wandb.ai/marcus-lim/PCXR-DenseNet-169-Evaluation/sweeps/8ib2hshg' target=\"_blank\">https://wandb.ai/marcus-lim/PCXR-DenseNet-169-Evaluation/sweeps/8ib2hshg</a>"
      ],
      "text/plain": [
       "<IPython.core.display.HTML object>"
      ]
     },
     "metadata": {},
     "output_type": "display_data"
    },
    {
     "data": {
      "text/html": [
       " View run at <a href='https://wandb.ai/marcus-lim/PCXR-DenseNet-169-Evaluation/runs/kur05ke7' target=\"_blank\">https://wandb.ai/marcus-lim/PCXR-DenseNet-169-Evaluation/runs/kur05ke7</a>"
      ],
      "text/plain": [
       "<IPython.core.display.HTML object>"
      ]
     },
     "metadata": {},
     "output_type": "display_data"
    },
    {
     "name": "stdout",
     "output_type": "stream",
     "text": [
      "Found 4684 files belonging to 3 classes.\n",
      "Using 3748 files for training.\n",
      "Using 936 files for validation.\n",
      "Found 1172 files belonging to 3 classes.\n",
      "Generating predictions and computing metrics for Epoch 1 \n",
      "30/30 [==============================] - 4s 70ms/step\n",
      "training loss : 0.6232342720031738 , training acc : 0.7353255152702332 , mcc score : 0.6661779880523682\n",
      "aucroc score  : 0.9318046569824219 , f1 score     : 0.7646928429603577 \n",
      "Generating predictions and computing metrics for Epoch 2 \n",
      "30/30 [==============================] - 2s 67ms/step\n",
      "training loss : 0.5436022281646729 , training acc : 0.7804162502288818 , mcc score : 0.6465771198272705\n",
      "aucroc score  : 0.9292898774147034 , f1 score     : 0.7364874482154846 \n",
      "Generating predictions and computing metrics for Epoch 3 \n",
      "30/30 [==============================] - 2s 67ms/step\n",
      "training loss : 0.5270183086395264 , training acc : 0.7822839021682739 , mcc score : 0.6824995279312134\n",
      "aucroc score  : 0.930325448513031 , f1 score     : 0.7776753902435303 \n",
      "Generating predictions and computing metrics for Epoch 4 \n",
      "30/30 [==============================] - 2s 67ms/step\n",
      "training loss : 0.4941636919975281 , training acc : 0.7969583868980408 , mcc score : 0.6594657897949219\n",
      "aucroc score  : 0.9344674348831177 , f1 score     : 0.7453081607818604 \n",
      "Generating predictions and computing metrics for Epoch 5 \n",
      "30/30 [==============================] - 2s 67ms/step\n",
      "training loss : 0.5074349641799927 , training acc : 0.7953575253486633 , mcc score : 0.682103157043457\n",
      "aucroc score  : 0.9359467029571533 , f1 score     : 0.7659828662872314 \n",
      "Generating predictions and computing metrics for Epoch 6 \n",
      "30/30 [==============================] - 2s 67ms/step\n",
      "training loss : 0.49529752135276794 , training acc : 0.7990928292274475 , mcc score : 0.6798750758171082\n",
      "aucroc score  : 0.939792811870575 , f1 score     : 0.7646534442901611 \n",
      "Generating predictions and computing metrics for Epoch 7 \n",
      "30/30 [==============================] - 2s 67ms/step\n",
      "training loss : 0.4882242977619171 , training acc : 0.7924226522445679 , mcc score : 0.6893869638442993\n",
      "aucroc score  : 0.9406805038452148 , f1 score     : 0.7718827128410339 \n",
      "Generating predictions and computing metrics for Epoch 8 \n",
      "30/30 [==============================] - 2s 68ms/step\n",
      "training loss : 0.4852833151817322 , training acc : 0.7998932600021362 , mcc score : 0.6852917075157166\n",
      "aucroc score  : 0.9402366876602173 , f1 score     : 0.7646195888519287 \n",
      "Generating predictions and computing metrics for Epoch 9 \n",
      "30/30 [==============================] - 2s 68ms/step\n",
      "training loss : 0.48341166973114014 , training acc : 0.7988260388374329 , mcc score : 0.6758231520652771\n",
      "aucroc score  : 0.9343194961547852 , f1 score     : 0.768238365650177 \n",
      "Generating predictions and computing metrics for Epoch 10 \n",
      "30/30 [==============================] - 2s 67ms/step\n",
      "training loss : 0.46076956391334534 , training acc : 0.8116328716278076 , mcc score : 0.6884234547615051\n",
      "aucroc score  : 0.9352070689201355 , f1 score     : 0.7765049934387207 \n"
     ]
    },
    {
     "data": {
      "text/html": [
       "Waiting for W&B process to finish... <strong style=\"color:green\">(success).</strong>"
      ],
      "text/plain": [
       "<IPython.core.display.HTML object>"
      ]
     },
     "metadata": {},
     "output_type": "display_data"
    },
    {
     "data": {
      "text/html": [
       "<style>\n",
       "    table.wandb td:nth-child(1) { padding: 0 10px; text-align: left ; width: auto;} td:nth-child(2) {text-align: left ; width: 100%}\n",
       "    .wandb-row { display: flex; flex-direction: row; flex-wrap: wrap; justify-content: flex-start; width: 100% }\n",
       "    .wandb-col { display: flex; flex-direction: column; flex-basis: 100%; flex: 1; padding: 10px; }\n",
       "    </style>\n",
       "<div class=\"wandb-row\"><div class=\"wandb-col\"><h3>Run history:</h3><br/><table class=\"wandb\"><tr><td>auc_roc</td><td>▃▁▂▄▅▇██▄▅</td></tr><tr><td>epoch/accuracy</td><td>▁▅▅▇▇▇▆▇▇█</td></tr><tr><td>epoch/epoch</td><td>▁▂▃▃▄▅▆▆▇█</td></tr><tr><td>epoch/learning_rate</td><td>▁▁▁▁▁▁▁▁▁▁</td></tr><tr><td>epoch/loss</td><td>█▅▄▂▃▂▂▂▂▁</td></tr><tr><td>epoch/val_accuracy</td><td>▅▁▇▃▇▆█▇▆█</td></tr><tr><td>epoch/val_loss</td><td>█▆▁▄▂▂▁▁▃▃</td></tr><tr><td>fmeasure</td><td>▆▁█▂▆▆▇▆▆█</td></tr><tr><td>mcc</td><td>▄▁▇▃▇▆█▇▆█</td></tr></table><br/></div><div class=\"wandb-col\"><h3>Run summary:</h3><br/><table class=\"wandb\"><tr><td>auc_roc</td><td>0.93521</td></tr><tr><td>epoch/accuracy</td><td>0.81163</td></tr><tr><td>epoch/epoch</td><td>9</td></tr><tr><td>epoch/learning_rate</td><td>0.00411</td></tr><tr><td>epoch/loss</td><td>0.46077</td></tr><tr><td>epoch/val_accuracy</td><td>0.80449</td></tr><tr><td>epoch/val_loss</td><td>0.50731</td></tr><tr><td>fmeasure</td><td>0.7765</td></tr><tr><td>mcc</td><td>0.68842</td></tr></table><br/></div></div>"
      ],
      "text/plain": [
       "<IPython.core.display.HTML object>"
      ]
     },
     "metadata": {},
     "output_type": "display_data"
    },
    {
     "data": {
      "text/html": [
       " View run <strong style=\"color:#cdcd00\">daily-sweep-16</strong> at: <a href='https://wandb.ai/marcus-lim/PCXR-DenseNet-169-Evaluation/runs/kur05ke7' target=\"_blank\">https://wandb.ai/marcus-lim/PCXR-DenseNet-169-Evaluation/runs/kur05ke7</a><br/>Synced 5 W&B file(s), 0 media file(s), 0 artifact file(s) and 0 other file(s)"
      ],
      "text/plain": [
       "<IPython.core.display.HTML object>"
      ]
     },
     "metadata": {},
     "output_type": "display_data"
    },
    {
     "data": {
      "text/html": [
       "Find logs at: <code>.\\wandb\\run-20230916_045005-kur05ke7\\logs</code>"
      ],
      "text/plain": [
       "<IPython.core.display.HTML object>"
      ]
     },
     "metadata": {},
     "output_type": "display_data"
    },
    {
     "name": "stderr",
     "output_type": "stream",
     "text": [
      "\u001b[34m\u001b[1mwandb\u001b[0m: Agent Starting Run: i51w4uhs with config:\n",
      "\u001b[34m\u001b[1mwandb\u001b[0m: \tbatch_size: 32\n",
      "\u001b[34m\u001b[1mwandb\u001b[0m: \tdropout_1: 0.8\n",
      "\u001b[34m\u001b[1mwandb\u001b[0m: \tdropout_2: 0.8\n",
      "\u001b[34m\u001b[1mwandb\u001b[0m: \tdropout_3: 0.6\n",
      "\u001b[34m\u001b[1mwandb\u001b[0m: \tepochs: 10\n",
      "\u001b[34m\u001b[1mwandb\u001b[0m: \tfc_layer_size_1: 256\n",
      "\u001b[34m\u001b[1mwandb\u001b[0m: \tfc_layer_size_2: 512\n",
      "\u001b[34m\u001b[1mwandb\u001b[0m: \tlearning_rate: 0.0025996104485796687\n",
      "\u001b[34m\u001b[1mwandb\u001b[0m: \toptimiser: sgd\n",
      "Failed to detect the name of this notebook, you can set it manually with the WANDB_NOTEBOOK_NAME environment variable to enable code saving.\n"
     ]
    },
    {
     "data": {
      "text/html": [
       "wandb version 0.15.10 is available!  To upgrade, please run:\n",
       " $ pip install wandb --upgrade"
      ],
      "text/plain": [
       "<IPython.core.display.HTML object>"
      ]
     },
     "metadata": {},
     "output_type": "display_data"
    },
    {
     "data": {
      "text/html": [
       "Tracking run with wandb version 0.15.5"
      ],
      "text/plain": [
       "<IPython.core.display.HTML object>"
      ]
     },
     "metadata": {},
     "output_type": "display_data"
    },
    {
     "data": {
      "text/html": [
       "Run data is saved locally in <code>c:\\Users\\User\\Projects\\pneumonia-xray-classification\\notebooks\\wandb\\run-20230916_050205-i51w4uhs</code>"
      ],
      "text/plain": [
       "<IPython.core.display.HTML object>"
      ]
     },
     "metadata": {},
     "output_type": "display_data"
    },
    {
     "data": {
      "text/html": [
       "Syncing run <strong><a href='https://wandb.ai/marcus-lim/PCXR-DenseNet-169-Evaluation/runs/i51w4uhs' target=\"_blank\">polar-sweep-17</a></strong> to <a href='https://wandb.ai/marcus-lim/PCXR-DenseNet-169-Evaluation' target=\"_blank\">Weights & Biases</a> (<a href='https://wandb.me/run' target=\"_blank\">docs</a>)<br/>Sweep page: <a href='https://wandb.ai/marcus-lim/PCXR-DenseNet-169-Evaluation/sweeps/8ib2hshg' target=\"_blank\">https://wandb.ai/marcus-lim/PCXR-DenseNet-169-Evaluation/sweeps/8ib2hshg</a>"
      ],
      "text/plain": [
       "<IPython.core.display.HTML object>"
      ]
     },
     "metadata": {},
     "output_type": "display_data"
    },
    {
     "data": {
      "text/html": [
       " View project at <a href='https://wandb.ai/marcus-lim/PCXR-DenseNet-169-Evaluation' target=\"_blank\">https://wandb.ai/marcus-lim/PCXR-DenseNet-169-Evaluation</a>"
      ],
      "text/plain": [
       "<IPython.core.display.HTML object>"
      ]
     },
     "metadata": {},
     "output_type": "display_data"
    },
    {
     "data": {
      "text/html": [
       " View sweep at <a href='https://wandb.ai/marcus-lim/PCXR-DenseNet-169-Evaluation/sweeps/8ib2hshg' target=\"_blank\">https://wandb.ai/marcus-lim/PCXR-DenseNet-169-Evaluation/sweeps/8ib2hshg</a>"
      ],
      "text/plain": [
       "<IPython.core.display.HTML object>"
      ]
     },
     "metadata": {},
     "output_type": "display_data"
    },
    {
     "data": {
      "text/html": [
       " View run at <a href='https://wandb.ai/marcus-lim/PCXR-DenseNet-169-Evaluation/runs/i51w4uhs' target=\"_blank\">https://wandb.ai/marcus-lim/PCXR-DenseNet-169-Evaluation/runs/i51w4uhs</a>"
      ],
      "text/plain": [
       "<IPython.core.display.HTML object>"
      ]
     },
     "metadata": {},
     "output_type": "display_data"
    },
    {
     "name": "stdout",
     "output_type": "stream",
     "text": [
      "Found 4684 files belonging to 3 classes.\n",
      "Using 3748 files for training.\n",
      "Using 936 files for validation.\n",
      "Found 1172 files belonging to 3 classes.\n",
      "Generating predictions and computing metrics for Epoch 1 \n",
      "30/30 [==============================] - 4s 70ms/step\n",
      "training loss : 1.1634846925735474 , training acc : 0.380736380815506 , mcc score : 0.22665970027446747\n",
      "aucroc score  : 0.6306213140487671 , f1 score     : 0.3737979233264923 \n",
      "Generating predictions and computing metrics for Epoch 2 \n",
      "30/30 [==============================] - 2s 67ms/step\n",
      "training loss : 1.0945498943328857 , training acc : 0.44210246205329895 , mcc score : 0.4236663281917572\n",
      "aucroc score  : 0.7565088868141174 , f1 score     : 0.5669328570365906 \n",
      "Generating predictions and computing metrics for Epoch 3 \n",
      "30/30 [==============================] - 2s 67ms/step\n",
      "training loss : 1.0479611158370972 , training acc : 0.47945570945739746 , mcc score : 0.44714030623435974\n",
      "aucroc score  : 0.7519230842590332 , f1 score     : 0.5981912016868591 \n",
      "Generating predictions and computing metrics for Epoch 4 \n",
      "30/30 [==============================] - 2s 68ms/step\n",
      "training loss : 1.0019620656967163 , training acc : 0.5069370269775391 , mcc score : 0.4932742118835449\n",
      "aucroc score  : 0.8128697872161865 , f1 score     : 0.6189792156219482 \n",
      "Generating predictions and computing metrics for Epoch 5 \n",
      "30/30 [==============================] - 2s 67ms/step\n",
      "training loss : 0.9731685519218445 , training acc : 0.5370864272117615 , mcc score : 0.5634859204292297\n",
      "aucroc score  : 0.865384578704834 , f1 score     : 0.6812653541564941 \n",
      "Generating predictions and computing metrics for Epoch 6 \n",
      "30/30 [==============================] - 2s 67ms/step\n",
      "training loss : 0.9420343041419983 , training acc : 0.5538954138755798 , mcc score : 0.5970211625099182\n",
      "aucroc score  : 0.8822485208511353 , f1 score     : 0.7165989875793457 \n",
      "Generating predictions and computing metrics for Epoch 7 \n",
      "30/30 [==============================] - 2s 67ms/step\n",
      "training loss : 0.9305442571640015 , training acc : 0.5586979985237122 , mcc score : 0.5951262712478638\n",
      "aucroc score  : 0.8877218961715698 , f1 score     : 0.7157831788063049 \n",
      "Generating predictions and computing metrics for Epoch 8 \n",
      "30/30 [==============================] - 2s 67ms/step\n",
      "training loss : 0.8958473801612854 , training acc : 0.5885805487632751 , mcc score : 0.595274031162262\n",
      "aucroc score  : 0.8883135914802551 , f1 score     : 0.7142884135246277 \n",
      "Generating predictions and computing metrics for Epoch 9 \n",
      "30/30 [==============================] - 2s 67ms/step\n",
      "training loss : 0.9011576771736145 , training acc : 0.5859124660491943 , mcc score : 0.5965559482574463\n",
      "aucroc score  : 0.8887574076652527 , f1 score     : 0.712522566318512 \n",
      "Generating predictions and computing metrics for Epoch 10 \n",
      "30/30 [==============================] - 2s 67ms/step\n",
      "training loss : 0.8744738698005676 , training acc : 0.5997865796089172 , mcc score : 0.6005801558494568\n",
      "aucroc score  : 0.8943787217140198 , f1 score     : 0.7109925150871277 \n"
     ]
    },
    {
     "data": {
      "text/html": [
       "Waiting for W&B process to finish... <strong style=\"color:green\">(success).</strong>"
      ],
      "text/plain": [
       "<IPython.core.display.HTML object>"
      ]
     },
     "metadata": {},
     "output_type": "display_data"
    },
    {
     "data": {
      "text/html": [
       "<style>\n",
       "    table.wandb td:nth-child(1) { padding: 0 10px; text-align: left ; width: auto;} td:nth-child(2) {text-align: left ; width: 100%}\n",
       "    .wandb-row { display: flex; flex-direction: row; flex-wrap: wrap; justify-content: flex-start; width: 100% }\n",
       "    .wandb-col { display: flex; flex-direction: column; flex-basis: 100%; flex: 1; padding: 10px; }\n",
       "    </style>\n",
       "<div class=\"wandb-row\"><div class=\"wandb-col\"><h3>Run history:</h3><br/><table class=\"wandb\"><tr><td>auc_roc</td><td>▁▄▄▆▇█████</td></tr><tr><td>epoch/accuracy</td><td>▁▃▄▅▆▇▇███</td></tr><tr><td>epoch/epoch</td><td>▁▂▃▃▄▅▆▆▇█</td></tr><tr><td>epoch/learning_rate</td><td>▁▁▁▁▁▁▁▁▁▁</td></tr><tr><td>epoch/loss</td><td>█▆▅▄▃▃▂▂▂▁</td></tr><tr><td>epoch/val_accuracy</td><td>▁▅▅▆▇█████</td></tr><tr><td>epoch/val_loss</td><td>█▇▆▅▄▃▃▂▂▁</td></tr><tr><td>fmeasure</td><td>▁▅▆▆▇█████</td></tr><tr><td>mcc</td><td>▁▅▅▆▇█████</td></tr></table><br/></div><div class=\"wandb-col\"><h3>Run summary:</h3><br/><table class=\"wandb\"><tr><td>auc_roc</td><td>0.89438</td></tr><tr><td>epoch/accuracy</td><td>0.59979</td></tr><tr><td>epoch/epoch</td><td>9</td></tr><tr><td>epoch/learning_rate</td><td>0.0026</td></tr><tr><td>epoch/loss</td><td>0.87447</td></tr><tr><td>epoch/val_accuracy</td><td>0.74573</td></tr><tr><td>epoch/val_loss</td><td>0.7533</td></tr><tr><td>fmeasure</td><td>0.71099</td></tr><tr><td>mcc</td><td>0.60058</td></tr></table><br/></div></div>"
      ],
      "text/plain": [
       "<IPython.core.display.HTML object>"
      ]
     },
     "metadata": {},
     "output_type": "display_data"
    },
    {
     "data": {
      "text/html": [
       " View run <strong style=\"color:#cdcd00\">polar-sweep-17</strong> at: <a href='https://wandb.ai/marcus-lim/PCXR-DenseNet-169-Evaluation/runs/i51w4uhs' target=\"_blank\">https://wandb.ai/marcus-lim/PCXR-DenseNet-169-Evaluation/runs/i51w4uhs</a><br/>Synced 5 W&B file(s), 0 media file(s), 0 artifact file(s) and 0 other file(s)"
      ],
      "text/plain": [
       "<IPython.core.display.HTML object>"
      ]
     },
     "metadata": {},
     "output_type": "display_data"
    },
    {
     "data": {
      "text/html": [
       "Find logs at: <code>.\\wandb\\run-20230916_050205-i51w4uhs\\logs</code>"
      ],
      "text/plain": [
       "<IPython.core.display.HTML object>"
      ]
     },
     "metadata": {},
     "output_type": "display_data"
    },
    {
     "name": "stderr",
     "output_type": "stream",
     "text": [
      "\u001b[34m\u001b[1mwandb\u001b[0m: Agent Starting Run: epo08z2c with config:\n",
      "\u001b[34m\u001b[1mwandb\u001b[0m: \tbatch_size: 32\n",
      "\u001b[34m\u001b[1mwandb\u001b[0m: \tdropout_1: 0.8\n",
      "\u001b[34m\u001b[1mwandb\u001b[0m: \tdropout_2: 0.8\n",
      "\u001b[34m\u001b[1mwandb\u001b[0m: \tdropout_3: 0.2\n",
      "\u001b[34m\u001b[1mwandb\u001b[0m: \tepochs: 10\n",
      "\u001b[34m\u001b[1mwandb\u001b[0m: \tfc_layer_size_1: 64\n",
      "\u001b[34m\u001b[1mwandb\u001b[0m: \tfc_layer_size_2: 128\n",
      "\u001b[34m\u001b[1mwandb\u001b[0m: \tlearning_rate: 0.0006174645197718632\n",
      "\u001b[34m\u001b[1mwandb\u001b[0m: \toptimiser: sgd\n",
      "Failed to detect the name of this notebook, you can set it manually with the WANDB_NOTEBOOK_NAME environment variable to enable code saving.\n"
     ]
    },
    {
     "data": {
      "text/html": [
       "wandb version 0.15.10 is available!  To upgrade, please run:\n",
       " $ pip install wandb --upgrade"
      ],
      "text/plain": [
       "<IPython.core.display.HTML object>"
      ]
     },
     "metadata": {},
     "output_type": "display_data"
    },
    {
     "data": {
      "text/html": [
       "Tracking run with wandb version 0.15.5"
      ],
      "text/plain": [
       "<IPython.core.display.HTML object>"
      ]
     },
     "metadata": {},
     "output_type": "display_data"
    },
    {
     "data": {
      "text/html": [
       "Run data is saved locally in <code>c:\\Users\\User\\Projects\\pneumonia-xray-classification\\notebooks\\wandb\\run-20230916_051357-epo08z2c</code>"
      ],
      "text/plain": [
       "<IPython.core.display.HTML object>"
      ]
     },
     "metadata": {},
     "output_type": "display_data"
    },
    {
     "data": {
      "text/html": [
       "Syncing run <strong><a href='https://wandb.ai/marcus-lim/PCXR-DenseNet-169-Evaluation/runs/epo08z2c' target=\"_blank\">ancient-sweep-18</a></strong> to <a href='https://wandb.ai/marcus-lim/PCXR-DenseNet-169-Evaluation' target=\"_blank\">Weights & Biases</a> (<a href='https://wandb.me/run' target=\"_blank\">docs</a>)<br/>Sweep page: <a href='https://wandb.ai/marcus-lim/PCXR-DenseNet-169-Evaluation/sweeps/8ib2hshg' target=\"_blank\">https://wandb.ai/marcus-lim/PCXR-DenseNet-169-Evaluation/sweeps/8ib2hshg</a>"
      ],
      "text/plain": [
       "<IPython.core.display.HTML object>"
      ]
     },
     "metadata": {},
     "output_type": "display_data"
    },
    {
     "data": {
      "text/html": [
       " View project at <a href='https://wandb.ai/marcus-lim/PCXR-DenseNet-169-Evaluation' target=\"_blank\">https://wandb.ai/marcus-lim/PCXR-DenseNet-169-Evaluation</a>"
      ],
      "text/plain": [
       "<IPython.core.display.HTML object>"
      ]
     },
     "metadata": {},
     "output_type": "display_data"
    },
    {
     "data": {
      "text/html": [
       " View sweep at <a href='https://wandb.ai/marcus-lim/PCXR-DenseNet-169-Evaluation/sweeps/8ib2hshg' target=\"_blank\">https://wandb.ai/marcus-lim/PCXR-DenseNet-169-Evaluation/sweeps/8ib2hshg</a>"
      ],
      "text/plain": [
       "<IPython.core.display.HTML object>"
      ]
     },
     "metadata": {},
     "output_type": "display_data"
    },
    {
     "data": {
      "text/html": [
       " View run at <a href='https://wandb.ai/marcus-lim/PCXR-DenseNet-169-Evaluation/runs/epo08z2c' target=\"_blank\">https://wandb.ai/marcus-lim/PCXR-DenseNet-169-Evaluation/runs/epo08z2c</a>"
      ],
      "text/plain": [
       "<IPython.core.display.HTML object>"
      ]
     },
     "metadata": {},
     "output_type": "display_data"
    },
    {
     "name": "stdout",
     "output_type": "stream",
     "text": [
      "Found 4684 files belonging to 3 classes.\n",
      "Using 3748 files for training.\n",
      "Using 936 files for validation.\n",
      "Found 1172 files belonging to 3 classes.\n",
      "Generating predictions and computing metrics for Epoch 1 \n",
      "30/30 [==============================] - 4s 69ms/step\n",
      "training loss : 1.117738127708435 , training acc : 0.41728922724723816 , mcc score : 0.059409722685813904\n",
      "aucroc score  : 0.49644970893859863 , f1 score     : 0.30042970180511475 \n",
      "Generating predictions and computing metrics for Epoch 2 \n",
      "30/30 [==============================] - 2s 67ms/step\n",
      "training loss : 1.1102821826934814 , training acc : 0.4143543243408203 , mcc score : 0.13371892273426056\n",
      "aucroc score  : 0.5 , f1 score     : 0.32500800490379333 \n",
      "Generating predictions and computing metrics for Epoch 3 \n",
      "30/30 [==============================] - 2s 67ms/step\n",
      "training loss : 1.1021312475204468 , training acc : 0.42582711577415466 , mcc score : 0.13545387983322144\n",
      "aucroc score  : 0.5 , f1 score     : 0.31999683380126953 \n",
      "Generating predictions and computing metrics for Epoch 4 \n",
      "30/30 [==============================] - 2s 68ms/step\n",
      "training loss : 1.090620756149292 , training acc : 0.4338313639163971 , mcc score : 0.1398167759180069\n",
      "aucroc score  : 0.5 , f1 score     : 0.3171001374721527 \n",
      "Generating predictions and computing metrics for Epoch 5 \n",
      "30/30 [==============================] - 2s 67ms/step\n",
      "training loss : 1.0903292894363403 , training acc : 0.4338313639163971 , mcc score : 0.14931651949882507\n",
      "aucroc score  : 0.5 , f1 score     : 0.3193783462047577 \n",
      "Generating predictions and computing metrics for Epoch 6 \n",
      "30/30 [==============================] - 2s 68ms/step\n",
      "training loss : 1.054567813873291 , training acc : 0.4647812247276306 , mcc score : 0.15044011175632477\n",
      "aucroc score  : 0.5019230842590332 , f1 score     : 0.31881406903266907 \n",
      "Generating predictions and computing metrics for Epoch 7 \n",
      "30/30 [==============================] - 2s 67ms/step\n",
      "training loss : 1.0577479600906372 , training acc : 0.45837780833244324 , mcc score : 0.158774733543396\n",
      "aucroc score  : 0.5076923370361328 , f1 score     : 0.32666119933128357 \n",
      "Generating predictions and computing metrics for Epoch 8 \n",
      "30/30 [==============================] - 2s 67ms/step\n",
      "training loss : 1.0508915185928345 , training acc : 0.46371397376060486 , mcc score : 0.1670321226119995\n",
      "aucroc score  : 0.5107988715171814 , f1 score     : 0.33373144268989563 \n",
      "Generating predictions and computing metrics for Epoch 9 \n",
      "30/30 [==============================] - 2s 67ms/step\n",
      "training loss : 1.0474807024002075 , training acc : 0.4645144045352936 , mcc score : 0.17329587042331696\n",
      "aucroc score  : 0.51967453956604 , f1 score     : 0.3422173261642456 \n",
      "Generating predictions and computing metrics for Epoch 10 \n",
      "30/30 [==============================] - 2s 67ms/step\n",
      "training loss : 1.0376707315444946 , training acc : 0.47278547286987305 , mcc score : 0.20014266669750214\n",
      "aucroc score  : 0.5400887727737427 , f1 score     : 0.3690793514251709 \n"
     ]
    },
    {
     "data": {
      "text/html": [
       "Waiting for W&B process to finish... <strong style=\"color:green\">(success).</strong>"
      ],
      "text/plain": [
       "<IPython.core.display.HTML object>"
      ]
     },
     "metadata": {},
     "output_type": "display_data"
    },
    {
     "data": {
      "text/html": [
       "<style>\n",
       "    table.wandb td:nth-child(1) { padding: 0 10px; text-align: left ; width: auto;} td:nth-child(2) {text-align: left ; width: 100%}\n",
       "    .wandb-row { display: flex; flex-direction: row; flex-wrap: wrap; justify-content: flex-start; width: 100% }\n",
       "    .wandb-col { display: flex; flex-direction: column; flex-basis: 100%; flex: 1; padding: 10px; }\n",
       "    </style>\n",
       "<div class=\"wandb-row\"><div class=\"wandb-col\"><h3>Run history:</h3><br/><table class=\"wandb\"><tr><td>auc_roc</td><td>▁▂▂▂▂▂▃▃▅█</td></tr><tr><td>epoch/accuracy</td><td>▁▁▂▃▃▇▆▇▇█</td></tr><tr><td>epoch/epoch</td><td>▁▂▃▃▄▅▆▆▇█</td></tr><tr><td>epoch/learning_rate</td><td>▁▁▁▁▁▁▁▁▁▁</td></tr><tr><td>epoch/loss</td><td>█▇▇▆▆▂▃▂▂▁</td></tr><tr><td>epoch/val_accuracy</td><td>▁▄▅▅▆▆▆▇▇█</td></tr><tr><td>epoch/val_loss</td><td>█▇▆▅▅▄▃▂▂▁</td></tr><tr><td>fmeasure</td><td>▁▄▃▃▃▃▄▄▅█</td></tr><tr><td>mcc</td><td>▁▅▅▅▅▆▆▆▇█</td></tr></table><br/></div><div class=\"wandb-col\"><h3>Run summary:</h3><br/><table class=\"wandb\"><tr><td>auc_roc</td><td>0.54009</td></tr><tr><td>epoch/accuracy</td><td>0.47279</td></tr><tr><td>epoch/epoch</td><td>9</td></tr><tr><td>epoch/learning_rate</td><td>0.00062</td></tr><tr><td>epoch/loss</td><td>1.03767</td></tr><tr><td>epoch/val_accuracy</td><td>0.52778</td></tr><tr><td>epoch/val_loss</td><td>0.99211</td></tr><tr><td>fmeasure</td><td>0.36908</td></tr><tr><td>mcc</td><td>0.20014</td></tr></table><br/></div></div>"
      ],
      "text/plain": [
       "<IPython.core.display.HTML object>"
      ]
     },
     "metadata": {},
     "output_type": "display_data"
    },
    {
     "data": {
      "text/html": [
       " View run <strong style=\"color:#cdcd00\">ancient-sweep-18</strong> at: <a href='https://wandb.ai/marcus-lim/PCXR-DenseNet-169-Evaluation/runs/epo08z2c' target=\"_blank\">https://wandb.ai/marcus-lim/PCXR-DenseNet-169-Evaluation/runs/epo08z2c</a><br/>Synced 5 W&B file(s), 0 media file(s), 0 artifact file(s) and 0 other file(s)"
      ],
      "text/plain": [
       "<IPython.core.display.HTML object>"
      ]
     },
     "metadata": {},
     "output_type": "display_data"
    },
    {
     "data": {
      "text/html": [
       "Find logs at: <code>.\\wandb\\run-20230916_051357-epo08z2c\\logs</code>"
      ],
      "text/plain": [
       "<IPython.core.display.HTML object>"
      ]
     },
     "metadata": {},
     "output_type": "display_data"
    },
    {
     "name": "stderr",
     "output_type": "stream",
     "text": [
      "\u001b[34m\u001b[1mwandb\u001b[0m: Agent Starting Run: 0mhs7r11 with config:\n",
      "\u001b[34m\u001b[1mwandb\u001b[0m: \tbatch_size: 32\n",
      "\u001b[34m\u001b[1mwandb\u001b[0m: \tdropout_1: 0.6\n",
      "\u001b[34m\u001b[1mwandb\u001b[0m: \tdropout_2: 0.2\n",
      "\u001b[34m\u001b[1mwandb\u001b[0m: \tdropout_3: 0.6\n",
      "\u001b[34m\u001b[1mwandb\u001b[0m: \tepochs: 10\n",
      "\u001b[34m\u001b[1mwandb\u001b[0m: \tfc_layer_size_1: 64\n",
      "\u001b[34m\u001b[1mwandb\u001b[0m: \tfc_layer_size_2: 128\n",
      "\u001b[34m\u001b[1mwandb\u001b[0m: \tlearning_rate: 0.00014414544150977038\n",
      "\u001b[34m\u001b[1mwandb\u001b[0m: \toptimiser: sgd\n",
      "Failed to detect the name of this notebook, you can set it manually with the WANDB_NOTEBOOK_NAME environment variable to enable code saving.\n"
     ]
    },
    {
     "data": {
      "text/html": [
       "wandb version 0.15.10 is available!  To upgrade, please run:\n",
       " $ pip install wandb --upgrade"
      ],
      "text/plain": [
       "<IPython.core.display.HTML object>"
      ]
     },
     "metadata": {},
     "output_type": "display_data"
    },
    {
     "data": {
      "text/html": [
       "Tracking run with wandb version 0.15.5"
      ],
      "text/plain": [
       "<IPython.core.display.HTML object>"
      ]
     },
     "metadata": {},
     "output_type": "display_data"
    },
    {
     "data": {
      "text/html": [
       "Run data is saved locally in <code>c:\\Users\\User\\Projects\\pneumonia-xray-classification\\notebooks\\wandb\\run-20230916_052551-0mhs7r11</code>"
      ],
      "text/plain": [
       "<IPython.core.display.HTML object>"
      ]
     },
     "metadata": {},
     "output_type": "display_data"
    },
    {
     "data": {
      "text/html": [
       "Syncing run <strong><a href='https://wandb.ai/marcus-lim/PCXR-DenseNet-169-Evaluation/runs/0mhs7r11' target=\"_blank\">stilted-sweep-19</a></strong> to <a href='https://wandb.ai/marcus-lim/PCXR-DenseNet-169-Evaluation' target=\"_blank\">Weights & Biases</a> (<a href='https://wandb.me/run' target=\"_blank\">docs</a>)<br/>Sweep page: <a href='https://wandb.ai/marcus-lim/PCXR-DenseNet-169-Evaluation/sweeps/8ib2hshg' target=\"_blank\">https://wandb.ai/marcus-lim/PCXR-DenseNet-169-Evaluation/sweeps/8ib2hshg</a>"
      ],
      "text/plain": [
       "<IPython.core.display.HTML object>"
      ]
     },
     "metadata": {},
     "output_type": "display_data"
    },
    {
     "data": {
      "text/html": [
       " View project at <a href='https://wandb.ai/marcus-lim/PCXR-DenseNet-169-Evaluation' target=\"_blank\">https://wandb.ai/marcus-lim/PCXR-DenseNet-169-Evaluation</a>"
      ],
      "text/plain": [
       "<IPython.core.display.HTML object>"
      ]
     },
     "metadata": {},
     "output_type": "display_data"
    },
    {
     "data": {
      "text/html": [
       " View sweep at <a href='https://wandb.ai/marcus-lim/PCXR-DenseNet-169-Evaluation/sweeps/8ib2hshg' target=\"_blank\">https://wandb.ai/marcus-lim/PCXR-DenseNet-169-Evaluation/sweeps/8ib2hshg</a>"
      ],
      "text/plain": [
       "<IPython.core.display.HTML object>"
      ]
     },
     "metadata": {},
     "output_type": "display_data"
    },
    {
     "data": {
      "text/html": [
       " View run at <a href='https://wandb.ai/marcus-lim/PCXR-DenseNet-169-Evaluation/runs/0mhs7r11' target=\"_blank\">https://wandb.ai/marcus-lim/PCXR-DenseNet-169-Evaluation/runs/0mhs7r11</a>"
      ],
      "text/plain": [
       "<IPython.core.display.HTML object>"
      ]
     },
     "metadata": {},
     "output_type": "display_data"
    },
    {
     "name": "stdout",
     "output_type": "stream",
     "text": [
      "Found 4684 files belonging to 3 classes.\n",
      "Using 3748 files for training.\n",
      "Using 936 files for validation.\n",
      "Found 1172 files belonging to 3 classes.\n",
      "Generating predictions and computing metrics for Epoch 1 \n",
      "30/30 [==============================] - 4s 69ms/step\n",
      "training loss : 1.1149847507476807 , training acc : 0.3679295480251312 , mcc score : 0.0444701611995697\n",
      "aucroc score  : 0.5267751216888428 , f1 score     : 0.3550430238246918 \n",
      "Generating predictions and computing metrics for Epoch 2 \n",
      "30/30 [==============================] - 2s 68ms/step\n",
      "training loss : 1.1111574172973633 , training acc : 0.37193170189857483 , mcc score : 0.03940188139677048\n",
      "aucroc score  : 0.5331361293792725 , f1 score     : 0.34320497512817383 \n",
      "Generating predictions and computing metrics for Epoch 3 \n",
      "30/30 [==============================] - 2s 67ms/step\n",
      "training loss : 1.098605751991272 , training acc : 0.38500532507896423 , mcc score : 0.02396547608077526\n",
      "aucroc score  : 0.5235207080841064 , f1 score     : 0.3217291831970215 \n",
      "Generating predictions and computing metrics for Epoch 4 \n",
      "30/30 [==============================] - 2s 68ms/step\n",
      "training loss : 1.0994610786437988 , training acc : 0.38500532507896423 , mcc score : 0.02111460641026497\n",
      "aucroc score  : 0.5226331353187561 , f1 score     : 0.3158627450466156 \n",
      "Generating predictions and computing metrics for Epoch 5 \n",
      "30/30 [==============================] - 2s 68ms/step\n",
      "training loss : 1.0869778394699097 , training acc : 0.4018143117427826 , mcc score : 0.03779953345656395\n",
      "aucroc score  : 0.5294378399848938 , f1 score     : 0.3247019052505493 \n",
      "Generating predictions and computing metrics for Epoch 6 \n",
      "30/30 [==============================] - 2s 68ms/step\n",
      "training loss : 1.0811680555343628 , training acc : 0.4175560176372528 , mcc score : 0.05792372301220894\n",
      "aucroc score  : 0.5309171676635742 , f1 score     : 0.3308035135269165 \n",
      "Generating predictions and computing metrics for Epoch 7 \n",
      "30/30 [==============================] - 2s 69ms/step\n",
      "training loss : 1.0761948823928833 , training acc : 0.4167556166648865 , mcc score : 0.08055923879146576\n",
      "aucroc score  : 0.5362426042556763 , f1 score     : 0.34197285771369934 \n",
      "Generating predictions and computing metrics for Epoch 8 \n",
      "30/30 [==============================] - 2s 68ms/step\n",
      "training loss : 1.0715798139572144 , training acc : 0.42636072635650635 , mcc score : 0.0843571200966835\n",
      "aucroc score  : 0.5431952476501465 , f1 score     : 0.34699559211730957 \n",
      "Generating predictions and computing metrics for Epoch 9 \n",
      "30/30 [==============================] - 2s 68ms/step\n",
      "training loss : 1.064202070236206 , training acc : 0.43943437933921814 , mcc score : 0.10046006739139557\n",
      "aucroc score  : 0.5489645004272461 , f1 score     : 0.35649606585502625 \n",
      "Generating predictions and computing metrics for Epoch 10 \n",
      "30/30 [==============================] - 2s 67ms/step\n",
      "training loss : 1.0571832656860352 , training acc : 0.44610458612442017 , mcc score : 0.1159730926156044\n",
      "aucroc score  : 0.5571005940437317 , f1 score     : 0.3676522970199585 \n"
     ]
    },
    {
     "data": {
      "text/html": [
       "Waiting for W&B process to finish... <strong style=\"color:green\">(success).</strong>"
      ],
      "text/plain": [
       "<IPython.core.display.HTML object>"
      ]
     },
     "metadata": {},
     "output_type": "display_data"
    },
    {
     "data": {
      "text/html": [
       "<style>\n",
       "    table.wandb td:nth-child(1) { padding: 0 10px; text-align: left ; width: auto;} td:nth-child(2) {text-align: left ; width: 100%}\n",
       "    .wandb-row { display: flex; flex-direction: row; flex-wrap: wrap; justify-content: flex-start; width: 100% }\n",
       "    .wandb-col { display: flex; flex-direction: column; flex-basis: 100%; flex: 1; padding: 10px; }\n",
       "    </style>\n",
       "<div class=\"wandb-row\"><div class=\"wandb-col\"><h3>Run history:</h3><br/><table class=\"wandb\"><tr><td>auc_roc</td><td>▂▃▁▁▂▃▄▅▆█</td></tr><tr><td>epoch/accuracy</td><td>▁▁▃▃▄▅▅▆▇█</td></tr><tr><td>epoch/epoch</td><td>▁▂▃▃▄▅▆▆▇█</td></tr><tr><td>epoch/learning_rate</td><td>▁▁▁▁▁▁▁▁▁▁</td></tr><tr><td>epoch/loss</td><td>██▆▆▅▄▃▃▂▁</td></tr><tr><td>epoch/val_accuracy</td><td>▁▃▃▃▄▅▆▇▇█</td></tr><tr><td>epoch/val_loss</td><td>█▇▆▅▄▄▃▂▂▁</td></tr><tr><td>fmeasure</td><td>▆▅▂▁▂▃▅▅▆█</td></tr><tr><td>mcc</td><td>▃▂▁▁▂▄▅▆▇█</td></tr></table><br/></div><div class=\"wandb-col\"><h3>Run summary:</h3><br/><table class=\"wandb\"><tr><td>auc_roc</td><td>0.5571</td></tr><tr><td>epoch/accuracy</td><td>0.4461</td></tr><tr><td>epoch/epoch</td><td>9</td></tr><tr><td>epoch/learning_rate</td><td>0.00014</td></tr><tr><td>epoch/loss</td><td>1.05718</td></tr><tr><td>epoch/val_accuracy</td><td>0.47329</td></tr><tr><td>epoch/val_loss</td><td>1.02985</td></tr><tr><td>fmeasure</td><td>0.36765</td></tr><tr><td>mcc</td><td>0.11597</td></tr></table><br/></div></div>"
      ],
      "text/plain": [
       "<IPython.core.display.HTML object>"
      ]
     },
     "metadata": {},
     "output_type": "display_data"
    },
    {
     "data": {
      "text/html": [
       " View run <strong style=\"color:#cdcd00\">stilted-sweep-19</strong> at: <a href='https://wandb.ai/marcus-lim/PCXR-DenseNet-169-Evaluation/runs/0mhs7r11' target=\"_blank\">https://wandb.ai/marcus-lim/PCXR-DenseNet-169-Evaluation/runs/0mhs7r11</a><br/>Synced 5 W&B file(s), 0 media file(s), 0 artifact file(s) and 0 other file(s)"
      ],
      "text/plain": [
       "<IPython.core.display.HTML object>"
      ]
     },
     "metadata": {},
     "output_type": "display_data"
    },
    {
     "data": {
      "text/html": [
       "Find logs at: <code>.\\wandb\\run-20230916_052551-0mhs7r11\\logs</code>"
      ],
      "text/plain": [
       "<IPython.core.display.HTML object>"
      ]
     },
     "metadata": {},
     "output_type": "display_data"
    },
    {
     "name": "stderr",
     "output_type": "stream",
     "text": [
      "\u001b[34m\u001b[1mwandb\u001b[0m: Agent Starting Run: b9sj36yx with config:\n",
      "\u001b[34m\u001b[1mwandb\u001b[0m: \tbatch_size: 32\n",
      "\u001b[34m\u001b[1mwandb\u001b[0m: \tdropout_1: 0.6\n",
      "\u001b[34m\u001b[1mwandb\u001b[0m: \tdropout_2: 0.2\n",
      "\u001b[34m\u001b[1mwandb\u001b[0m: \tdropout_3: 0.6\n",
      "\u001b[34m\u001b[1mwandb\u001b[0m: \tepochs: 10\n",
      "\u001b[34m\u001b[1mwandb\u001b[0m: \tfc_layer_size_1: 512\n",
      "\u001b[34m\u001b[1mwandb\u001b[0m: \tfc_layer_size_2: 64\n",
      "\u001b[34m\u001b[1mwandb\u001b[0m: \tlearning_rate: 0.0006890876440633475\n",
      "\u001b[34m\u001b[1mwandb\u001b[0m: \toptimiser: sgd\n",
      "Failed to detect the name of this notebook, you can set it manually with the WANDB_NOTEBOOK_NAME environment variable to enable code saving.\n"
     ]
    },
    {
     "data": {
      "text/html": [
       "wandb version 0.15.10 is available!  To upgrade, please run:\n",
       " $ pip install wandb --upgrade"
      ],
      "text/plain": [
       "<IPython.core.display.HTML object>"
      ]
     },
     "metadata": {},
     "output_type": "display_data"
    },
    {
     "data": {
      "text/html": [
       "Tracking run with wandb version 0.15.5"
      ],
      "text/plain": [
       "<IPython.core.display.HTML object>"
      ]
     },
     "metadata": {},
     "output_type": "display_data"
    },
    {
     "data": {
      "text/html": [
       "Run data is saved locally in <code>c:\\Users\\User\\Projects\\pneumonia-xray-classification\\notebooks\\wandb\\run-20230916_053754-b9sj36yx</code>"
      ],
      "text/plain": [
       "<IPython.core.display.HTML object>"
      ]
     },
     "metadata": {},
     "output_type": "display_data"
    },
    {
     "data": {
      "text/html": [
       "Syncing run <strong><a href='https://wandb.ai/marcus-lim/PCXR-DenseNet-169-Evaluation/runs/b9sj36yx' target=\"_blank\">laced-sweep-20</a></strong> to <a href='https://wandb.ai/marcus-lim/PCXR-DenseNet-169-Evaluation' target=\"_blank\">Weights & Biases</a> (<a href='https://wandb.me/run' target=\"_blank\">docs</a>)<br/>Sweep page: <a href='https://wandb.ai/marcus-lim/PCXR-DenseNet-169-Evaluation/sweeps/8ib2hshg' target=\"_blank\">https://wandb.ai/marcus-lim/PCXR-DenseNet-169-Evaluation/sweeps/8ib2hshg</a>"
      ],
      "text/plain": [
       "<IPython.core.display.HTML object>"
      ]
     },
     "metadata": {},
     "output_type": "display_data"
    },
    {
     "data": {
      "text/html": [
       " View project at <a href='https://wandb.ai/marcus-lim/PCXR-DenseNet-169-Evaluation' target=\"_blank\">https://wandb.ai/marcus-lim/PCXR-DenseNet-169-Evaluation</a>"
      ],
      "text/plain": [
       "<IPython.core.display.HTML object>"
      ]
     },
     "metadata": {},
     "output_type": "display_data"
    },
    {
     "data": {
      "text/html": [
       " View sweep at <a href='https://wandb.ai/marcus-lim/PCXR-DenseNet-169-Evaluation/sweeps/8ib2hshg' target=\"_blank\">https://wandb.ai/marcus-lim/PCXR-DenseNet-169-Evaluation/sweeps/8ib2hshg</a>"
      ],
      "text/plain": [
       "<IPython.core.display.HTML object>"
      ]
     },
     "metadata": {},
     "output_type": "display_data"
    },
    {
     "data": {
      "text/html": [
       " View run at <a href='https://wandb.ai/marcus-lim/PCXR-DenseNet-169-Evaluation/runs/b9sj36yx' target=\"_blank\">https://wandb.ai/marcus-lim/PCXR-DenseNet-169-Evaluation/runs/b9sj36yx</a>"
      ],
      "text/plain": [
       "<IPython.core.display.HTML object>"
      ]
     },
     "metadata": {},
     "output_type": "display_data"
    },
    {
     "name": "stdout",
     "output_type": "stream",
     "text": [
      "Found 4684 files belonging to 3 classes.\n",
      "Using 3748 files for training.\n",
      "Using 936 files for validation.\n",
      "Found 1172 files belonging to 3 classes.\n",
      "Generating predictions and computing metrics for Epoch 1 \n",
      "30/30 [==============================] - 4s 69ms/step\n",
      "training loss : 1.3806086778640747 , training acc : 0.2806830406188965 , mcc score : 0.09996356815099716\n",
      "aucroc score  : 0.5541419982910156 , f1 score     : 0.3084995746612549 \n",
      "Generating predictions and computing metrics for Epoch 2 \n",
      "30/30 [==============================] - 2s 67ms/step\n",
      "training loss : 1.206249713897705 , training acc : 0.3487193286418915 , mcc score : 0.3252253532409668\n",
      "aucroc score  : 0.6881656646728516 , f1 score     : 0.5045039653778076 \n",
      "Generating predictions and computing metrics for Epoch 3 \n",
      "30/30 [==============================] - 2s 67ms/step\n",
      "training loss : 1.1048911809921265 , training acc : 0.41915687918663025 , mcc score : 0.45997437834739685\n",
      "aucroc score  : 0.8017750978469849 , f1 score     : 0.6221519112586975 \n",
      "Generating predictions and computing metrics for Epoch 4 \n",
      "30/30 [==============================] - 2s 67ms/step\n",
      "training loss : 1.0126992464065552 , training acc : 0.48399147391319275 , mcc score : 0.5288363695144653\n",
      "aucroc score  : 0.8328403234481812 , f1 score     : 0.673416793346405 \n",
      "Generating predictions and computing metrics for Epoch 5 \n",
      "30/30 [==============================] - 2s 67ms/step\n",
      "training loss : 0.9396783113479614 , training acc : 0.5522945523262024 , mcc score : 0.5653707981109619\n",
      "aucroc score  : 0.8647928833961487 , f1 score     : 0.6963436007499695 \n",
      "Generating predictions and computing metrics for Epoch 6 \n",
      "30/30 [==============================] - 2s 67ms/step\n",
      "training loss : 0.8978743553161621 , training acc : 0.5973852872848511 , mcc score : 0.5890676379203796\n",
      "aucroc score  : 0.8912721872329712 , f1 score     : 0.709988534450531 \n",
      "Generating predictions and computing metrics for Epoch 7 \n",
      "30/30 [==============================] - 2s 67ms/step\n",
      "training loss : 0.8651584982872009 , training acc : 0.6109925508499146 , mcc score : 0.6099517345428467\n",
      "aucroc score  : 0.9013313055038452 , f1 score     : 0.7196258902549744 \n",
      "Generating predictions and computing metrics for Epoch 8 \n",
      "30/30 [==============================] - 2s 67ms/step\n",
      "training loss : 0.8385966420173645 , training acc : 0.63607257604599 , mcc score : 0.6184417009353638\n",
      "aucroc score  : 0.9025148153305054 , f1 score     : 0.7252423167228699 \n",
      "Generating predictions and computing metrics for Epoch 9 \n",
      "30/30 [==============================] - 2s 67ms/step\n",
      "training loss : 0.8132913112640381 , training acc : 0.647545337677002 , mcc score : 0.618796169757843\n",
      "aucroc score  : 0.9068048000335693 , f1 score     : 0.7231642603874207 \n",
      "Generating predictions and computing metrics for Epoch 10 \n",
      "30/30 [==============================] - 2s 68ms/step\n",
      "training loss : 0.7884352803230286 , training acc : 0.6648879647254944 , mcc score : 0.622438371181488\n",
      "aucroc score  : 0.908727765083313 , f1 score     : 0.7258951663970947 \n"
     ]
    },
    {
     "data": {
      "text/html": [
       "Waiting for W&B process to finish... <strong style=\"color:green\">(success).</strong>"
      ],
      "text/plain": [
       "<IPython.core.display.HTML object>"
      ]
     },
     "metadata": {},
     "output_type": "display_data"
    },
    {
     "data": {
      "text/html": [
       "<style>\n",
       "    table.wandb td:nth-child(1) { padding: 0 10px; text-align: left ; width: auto;} td:nth-child(2) {text-align: left ; width: 100%}\n",
       "    .wandb-row { display: flex; flex-direction: row; flex-wrap: wrap; justify-content: flex-start; width: 100% }\n",
       "    .wandb-col { display: flex; flex-direction: column; flex-basis: 100%; flex: 1; padding: 10px; }\n",
       "    </style>\n",
       "<div class=\"wandb-row\"><div class=\"wandb-col\"><h3>Run history:</h3><br/><table class=\"wandb\"><tr><td>auc_roc</td><td>▁▄▆▇▇█████</td></tr><tr><td>epoch/accuracy</td><td>▁▂▄▅▆▇▇▇██</td></tr><tr><td>epoch/epoch</td><td>▁▂▃▃▄▅▆▆▇█</td></tr><tr><td>epoch/learning_rate</td><td>▁▁▁▁▁▁▁▁▁▁</td></tr><tr><td>epoch/loss</td><td>█▆▅▄▃▂▂▂▁▁</td></tr><tr><td>epoch/val_accuracy</td><td>▁▄▆▇▇█████</td></tr><tr><td>epoch/val_loss</td><td>█▆▅▄▃▂▂▂▁▁</td></tr><tr><td>fmeasure</td><td>▁▄▆▇██████</td></tr><tr><td>mcc</td><td>▁▄▆▇▇█████</td></tr></table><br/></div><div class=\"wandb-col\"><h3>Run summary:</h3><br/><table class=\"wandb\"><tr><td>auc_roc</td><td>0.90873</td></tr><tr><td>epoch/accuracy</td><td>0.66489</td></tr><tr><td>epoch/epoch</td><td>9</td></tr><tr><td>epoch/learning_rate</td><td>0.00069</td></tr><tr><td>epoch/loss</td><td>0.78844</td></tr><tr><td>epoch/val_accuracy</td><td>0.75855</td></tr><tr><td>epoch/val_loss</td><td>0.70961</td></tr><tr><td>fmeasure</td><td>0.7259</td></tr><tr><td>mcc</td><td>0.62244</td></tr></table><br/></div></div>"
      ],
      "text/plain": [
       "<IPython.core.display.HTML object>"
      ]
     },
     "metadata": {},
     "output_type": "display_data"
    },
    {
     "data": {
      "text/html": [
       " View run <strong style=\"color:#cdcd00\">laced-sweep-20</strong> at: <a href='https://wandb.ai/marcus-lim/PCXR-DenseNet-169-Evaluation/runs/b9sj36yx' target=\"_blank\">https://wandb.ai/marcus-lim/PCXR-DenseNet-169-Evaluation/runs/b9sj36yx</a><br/>Synced 5 W&B file(s), 0 media file(s), 0 artifact file(s) and 0 other file(s)"
      ],
      "text/plain": [
       "<IPython.core.display.HTML object>"
      ]
     },
     "metadata": {},
     "output_type": "display_data"
    },
    {
     "data": {
      "text/html": [
       "Find logs at: <code>.\\wandb\\run-20230916_053754-b9sj36yx\\logs</code>"
      ],
      "text/plain": [
       "<IPython.core.display.HTML object>"
      ]
     },
     "metadata": {},
     "output_type": "display_data"
    },
    {
     "name": "stderr",
     "output_type": "stream",
     "text": [
      "\u001b[34m\u001b[1mwandb\u001b[0m: Agent Starting Run: 2p0dghxy with config:\n",
      "\u001b[34m\u001b[1mwandb\u001b[0m: \tbatch_size: 32\n",
      "\u001b[34m\u001b[1mwandb\u001b[0m: \tdropout_1: 0.8\n",
      "\u001b[34m\u001b[1mwandb\u001b[0m: \tdropout_2: 0.8\n",
      "\u001b[34m\u001b[1mwandb\u001b[0m: \tdropout_3: 0.6\n",
      "\u001b[34m\u001b[1mwandb\u001b[0m: \tepochs: 10\n",
      "\u001b[34m\u001b[1mwandb\u001b[0m: \tfc_layer_size_1: 256\n",
      "\u001b[34m\u001b[1mwandb\u001b[0m: \tfc_layer_size_2: 16\n",
      "\u001b[34m\u001b[1mwandb\u001b[0m: \tlearning_rate: 0.000927523512503749\n",
      "\u001b[34m\u001b[1mwandb\u001b[0m: \toptimiser: adam\n",
      "Failed to detect the name of this notebook, you can set it manually with the WANDB_NOTEBOOK_NAME environment variable to enable code saving.\n"
     ]
    },
    {
     "data": {
      "text/html": [
       "wandb version 0.15.10 is available!  To upgrade, please run:\n",
       " $ pip install wandb --upgrade"
      ],
      "text/plain": [
       "<IPython.core.display.HTML object>"
      ]
     },
     "metadata": {},
     "output_type": "display_data"
    },
    {
     "data": {
      "text/html": [
       "Tracking run with wandb version 0.15.5"
      ],
      "text/plain": [
       "<IPython.core.display.HTML object>"
      ]
     },
     "metadata": {},
     "output_type": "display_data"
    },
    {
     "data": {
      "text/html": [
       "Run data is saved locally in <code>c:\\Users\\User\\Projects\\pneumonia-xray-classification\\notebooks\\wandb\\run-20230916_054951-2p0dghxy</code>"
      ],
      "text/plain": [
       "<IPython.core.display.HTML object>"
      ]
     },
     "metadata": {},
     "output_type": "display_data"
    },
    {
     "data": {
      "text/html": [
       "Syncing run <strong><a href='https://wandb.ai/marcus-lim/PCXR-DenseNet-169-Evaluation/runs/2p0dghxy' target=\"_blank\">ethereal-sweep-21</a></strong> to <a href='https://wandb.ai/marcus-lim/PCXR-DenseNet-169-Evaluation' target=\"_blank\">Weights & Biases</a> (<a href='https://wandb.me/run' target=\"_blank\">docs</a>)<br/>Sweep page: <a href='https://wandb.ai/marcus-lim/PCXR-DenseNet-169-Evaluation/sweeps/8ib2hshg' target=\"_blank\">https://wandb.ai/marcus-lim/PCXR-DenseNet-169-Evaluation/sweeps/8ib2hshg</a>"
      ],
      "text/plain": [
       "<IPython.core.display.HTML object>"
      ]
     },
     "metadata": {},
     "output_type": "display_data"
    },
    {
     "data": {
      "text/html": [
       " View project at <a href='https://wandb.ai/marcus-lim/PCXR-DenseNet-169-Evaluation' target=\"_blank\">https://wandb.ai/marcus-lim/PCXR-DenseNet-169-Evaluation</a>"
      ],
      "text/plain": [
       "<IPython.core.display.HTML object>"
      ]
     },
     "metadata": {},
     "output_type": "display_data"
    },
    {
     "data": {
      "text/html": [
       " View sweep at <a href='https://wandb.ai/marcus-lim/PCXR-DenseNet-169-Evaluation/sweeps/8ib2hshg' target=\"_blank\">https://wandb.ai/marcus-lim/PCXR-DenseNet-169-Evaluation/sweeps/8ib2hshg</a>"
      ],
      "text/plain": [
       "<IPython.core.display.HTML object>"
      ]
     },
     "metadata": {},
     "output_type": "display_data"
    },
    {
     "data": {
      "text/html": [
       " View run at <a href='https://wandb.ai/marcus-lim/PCXR-DenseNet-169-Evaluation/runs/2p0dghxy' target=\"_blank\">https://wandb.ai/marcus-lim/PCXR-DenseNet-169-Evaluation/runs/2p0dghxy</a>"
      ],
      "text/plain": [
       "<IPython.core.display.HTML object>"
      ]
     },
     "metadata": {},
     "output_type": "display_data"
    },
    {
     "name": "stdout",
     "output_type": "stream",
     "text": [
      "Found 4684 files belonging to 3 classes.\n",
      "Using 3748 files for training.\n",
      "Using 936 files for validation.\n",
      "Found 1172 files belonging to 3 classes.\n",
      "Generating predictions and computing metrics for Epoch 1 \n",
      "30/30 [==============================] - 4s 71ms/step\n",
      "training loss : 1.0202648639678955 , training acc : 0.5418890118598938 , mcc score : 0.6101733446121216\n",
      "aucroc score  : 0.9005916714668274 , f1 score     : 0.7035861611366272 \n",
      "Generating predictions and computing metrics for Epoch 2 \n",
      "30/30 [==============================] - 2s 68ms/step\n",
      "training loss : 0.7548222541809082 , training acc : 0.6736926436424255 , mcc score : 0.6287204623222351\n",
      "aucroc score  : 0.9130178093910217 , f1 score     : 0.7163161635398865 \n",
      "Generating predictions and computing metrics for Epoch 3 \n",
      "30/30 [==============================] - 2s 67ms/step\n",
      "training loss : 0.6826972365379333 , training acc : 0.7078441977500916 , mcc score : 0.6461146473884583\n",
      "aucroc score  : 0.9251478910446167 , f1 score     : 0.7408568263053894 \n",
      "Generating predictions and computing metrics for Epoch 4 \n",
      "30/30 [==============================] - 2s 68ms/step\n",
      "training loss : 0.659500241279602 , training acc : 0.7166488766670227 , mcc score : 0.6473352909088135\n",
      "aucroc score  : 0.9201183319091797 , f1 score     : 0.7479869723320007 \n",
      "Generating predictions and computing metrics for Epoch 5 \n",
      "30/30 [==============================] - 2s 68ms/step\n",
      "training loss : 0.6238425970077515 , training acc : 0.7305229306221008 , mcc score : 0.646252453327179\n",
      "aucroc score  : 0.9215976595878601 , f1 score     : 0.7450920939445496 \n",
      "Generating predictions and computing metrics for Epoch 6 \n",
      "30/30 [==============================] - 2s 67ms/step\n",
      "training loss : 0.6243691444396973 , training acc : 0.7315901517868042 , mcc score : 0.6466109156608582\n",
      "aucroc score  : 0.9208579063415527 , f1 score     : 0.7464902400970459 \n",
      "Generating predictions and computing metrics for Epoch 7 \n",
      "30/30 [==============================] - 2s 67ms/step\n",
      "training loss : 0.6279953718185425 , training acc : 0.7318570017814636 , mcc score : 0.6520026326179504\n",
      "aucroc score  : 0.9284023642539978 , f1 score     : 0.7450805306434631 \n",
      "Generating predictions and computing metrics for Epoch 8 \n",
      "30/30 [==============================] - 2s 67ms/step\n",
      "training loss : 0.600220263004303 , training acc : 0.7483991384506226 , mcc score : 0.6514186263084412\n",
      "aucroc score  : 0.9307692050933838 , f1 score     : 0.7454094886779785 \n",
      "Generating predictions and computing metrics for Epoch 9 \n",
      "30/30 [==============================] - 2s 69ms/step\n",
      "training loss : 0.5917969346046448 , training acc : 0.7409284710884094 , mcc score : 0.6530216932296753\n",
      "aucroc score  : 0.9255917072296143 , f1 score     : 0.750058650970459 \n",
      "Generating predictions and computing metrics for Epoch 10 \n",
      "30/30 [==============================] - 2s 68ms/step\n",
      "training loss : 0.5690531134605408 , training acc : 0.7625400424003601 , mcc score : 0.6546034216880798\n",
      "aucroc score  : 0.9263313412666321 , f1 score     : 0.7517860531806946 \n"
     ]
    },
    {
     "data": {
      "text/html": [
       "Waiting for W&B process to finish... <strong style=\"color:green\">(success).</strong>"
      ],
      "text/plain": [
       "<IPython.core.display.HTML object>"
      ]
     },
     "metadata": {},
     "output_type": "display_data"
    },
    {
     "data": {
      "text/html": [
       "<style>\n",
       "    table.wandb td:nth-child(1) { padding: 0 10px; text-align: left ; width: auto;} td:nth-child(2) {text-align: left ; width: 100%}\n",
       "    .wandb-row { display: flex; flex-direction: row; flex-wrap: wrap; justify-content: flex-start; width: 100% }\n",
       "    .wandb-col { display: flex; flex-direction: column; flex-basis: 100%; flex: 1; padding: 10px; }\n",
       "    </style>\n",
       "<div class=\"wandb-row\"><div class=\"wandb-col\"><h3>Run history:</h3><br/><table class=\"wandb\"><tr><td>auc_roc</td><td>▁▄▇▆▆▆▇█▇▇</td></tr><tr><td>epoch/accuracy</td><td>▁▅▆▇▇▇▇█▇█</td></tr><tr><td>epoch/epoch</td><td>▁▂▃▃▄▅▆▆▇█</td></tr><tr><td>epoch/learning_rate</td><td>▁▁▁▁▁▁▁▁▁▁</td></tr><tr><td>epoch/loss</td><td>█▄▃▂▂▂▂▁▁▁</td></tr><tr><td>epoch/val_accuracy</td><td>▁▅▇▇▇▇████</td></tr><tr><td>epoch/val_loss</td><td>█▄▃▃▃▃▃▁▁▂</td></tr><tr><td>fmeasure</td><td>▁▃▆▇▇▇▇▇██</td></tr><tr><td>mcc</td><td>▁▄▇▇▇▇█▇██</td></tr></table><br/></div><div class=\"wandb-col\"><h3>Run summary:</h3><br/><table class=\"wandb\"><tr><td>auc_roc</td><td>0.92633</td></tr><tr><td>epoch/accuracy</td><td>0.76254</td></tr><tr><td>epoch/epoch</td><td>9</td></tr><tr><td>epoch/learning_rate</td><td>0.00093</td></tr><tr><td>epoch/loss</td><td>0.56905</td></tr><tr><td>epoch/val_accuracy</td><td>0.77991</td></tr><tr><td>epoch/val_loss</td><td>0.54326</td></tr><tr><td>fmeasure</td><td>0.75179</td></tr><tr><td>mcc</td><td>0.6546</td></tr></table><br/></div></div>"
      ],
      "text/plain": [
       "<IPython.core.display.HTML object>"
      ]
     },
     "metadata": {},
     "output_type": "display_data"
    },
    {
     "data": {
      "text/html": [
       " View run <strong style=\"color:#cdcd00\">ethereal-sweep-21</strong> at: <a href='https://wandb.ai/marcus-lim/PCXR-DenseNet-169-Evaluation/runs/2p0dghxy' target=\"_blank\">https://wandb.ai/marcus-lim/PCXR-DenseNet-169-Evaluation/runs/2p0dghxy</a><br/>Synced 5 W&B file(s), 0 media file(s), 0 artifact file(s) and 0 other file(s)"
      ],
      "text/plain": [
       "<IPython.core.display.HTML object>"
      ]
     },
     "metadata": {},
     "output_type": "display_data"
    },
    {
     "data": {
      "text/html": [
       "Find logs at: <code>.\\wandb\\run-20230916_054951-2p0dghxy\\logs</code>"
      ],
      "text/plain": [
       "<IPython.core.display.HTML object>"
      ]
     },
     "metadata": {},
     "output_type": "display_data"
    },
    {
     "name": "stderr",
     "output_type": "stream",
     "text": [
      "\u001b[34m\u001b[1mwandb\u001b[0m: Agent Starting Run: zgor7jec with config:\n",
      "\u001b[34m\u001b[1mwandb\u001b[0m: \tbatch_size: 32\n",
      "\u001b[34m\u001b[1mwandb\u001b[0m: \tdropout_1: 0.8\n",
      "\u001b[34m\u001b[1mwandb\u001b[0m: \tdropout_2: 0.2\n",
      "\u001b[34m\u001b[1mwandb\u001b[0m: \tdropout_3: 0.6\n",
      "\u001b[34m\u001b[1mwandb\u001b[0m: \tepochs: 10\n",
      "\u001b[34m\u001b[1mwandb\u001b[0m: \tfc_layer_size_1: 16\n",
      "\u001b[34m\u001b[1mwandb\u001b[0m: \tfc_layer_size_2: 512\n",
      "\u001b[34m\u001b[1mwandb\u001b[0m: \tlearning_rate: 0.004858182253523749\n",
      "\u001b[34m\u001b[1mwandb\u001b[0m: \toptimiser: adam\n",
      "Failed to detect the name of this notebook, you can set it manually with the WANDB_NOTEBOOK_NAME environment variable to enable code saving.\n"
     ]
    },
    {
     "data": {
      "text/html": [
       "wandb version 0.15.10 is available!  To upgrade, please run:\n",
       " $ pip install wandb --upgrade"
      ],
      "text/plain": [
       "<IPython.core.display.HTML object>"
      ]
     },
     "metadata": {},
     "output_type": "display_data"
    },
    {
     "data": {
      "text/html": [
       "Tracking run with wandb version 0.15.5"
      ],
      "text/plain": [
       "<IPython.core.display.HTML object>"
      ]
     },
     "metadata": {},
     "output_type": "display_data"
    },
    {
     "data": {
      "text/html": [
       "Run data is saved locally in <code>c:\\Users\\User\\Projects\\pneumonia-xray-classification\\notebooks\\wandb\\run-20230916_060149-zgor7jec</code>"
      ],
      "text/plain": [
       "<IPython.core.display.HTML object>"
      ]
     },
     "metadata": {},
     "output_type": "display_data"
    },
    {
     "data": {
      "text/html": [
       "Syncing run <strong><a href='https://wandb.ai/marcus-lim/PCXR-DenseNet-169-Evaluation/runs/zgor7jec' target=\"_blank\">sage-sweep-22</a></strong> to <a href='https://wandb.ai/marcus-lim/PCXR-DenseNet-169-Evaluation' target=\"_blank\">Weights & Biases</a> (<a href='https://wandb.me/run' target=\"_blank\">docs</a>)<br/>Sweep page: <a href='https://wandb.ai/marcus-lim/PCXR-DenseNet-169-Evaluation/sweeps/8ib2hshg' target=\"_blank\">https://wandb.ai/marcus-lim/PCXR-DenseNet-169-Evaluation/sweeps/8ib2hshg</a>"
      ],
      "text/plain": [
       "<IPython.core.display.HTML object>"
      ]
     },
     "metadata": {},
     "output_type": "display_data"
    },
    {
     "data": {
      "text/html": [
       " View project at <a href='https://wandb.ai/marcus-lim/PCXR-DenseNet-169-Evaluation' target=\"_blank\">https://wandb.ai/marcus-lim/PCXR-DenseNet-169-Evaluation</a>"
      ],
      "text/plain": [
       "<IPython.core.display.HTML object>"
      ]
     },
     "metadata": {},
     "output_type": "display_data"
    },
    {
     "data": {
      "text/html": [
       " View sweep at <a href='https://wandb.ai/marcus-lim/PCXR-DenseNet-169-Evaluation/sweeps/8ib2hshg' target=\"_blank\">https://wandb.ai/marcus-lim/PCXR-DenseNet-169-Evaluation/sweeps/8ib2hshg</a>"
      ],
      "text/plain": [
       "<IPython.core.display.HTML object>"
      ]
     },
     "metadata": {},
     "output_type": "display_data"
    },
    {
     "data": {
      "text/html": [
       " View run at <a href='https://wandb.ai/marcus-lim/PCXR-DenseNet-169-Evaluation/runs/zgor7jec' target=\"_blank\">https://wandb.ai/marcus-lim/PCXR-DenseNet-169-Evaluation/runs/zgor7jec</a>"
      ],
      "text/plain": [
       "<IPython.core.display.HTML object>"
      ]
     },
     "metadata": {},
     "output_type": "display_data"
    },
    {
     "name": "stdout",
     "output_type": "stream",
     "text": [
      "Found 4684 files belonging to 3 classes.\n",
      "Using 3748 files for training.\n",
      "Using 936 files for validation.\n",
      "Found 1172 files belonging to 3 classes.\n",
      "Generating predictions and computing metrics for Epoch 1 \n",
      "30/30 [==============================] - 4s 69ms/step\n",
      "training loss : 0.7441681623458862 , training acc : 0.6643543243408203 , mcc score : 0.609518826007843\n",
      "aucroc score  : 0.924556314945221 , f1 score     : 0.6967794895172119 \n",
      "Generating predictions and computing metrics for Epoch 2 \n",
      "30/30 [==============================] - 2s 68ms/step\n",
      "training loss : 0.6555508375167847 , training acc : 0.720917820930481 , mcc score : 0.6684474945068359\n",
      "aucroc score  : 0.9326923489570618 , f1 score     : 0.7588496208190918 \n",
      "Generating predictions and computing metrics for Epoch 3 \n",
      "30/30 [==============================] - 2s 70ms/step\n",
      "training loss : 0.639710009098053 , training acc : 0.7270544171333313 , mcc score : 0.6721588969230652\n",
      "aucroc score  : 0.9344674348831177 , f1 score     : 0.753612756729126 \n",
      "Generating predictions and computing metrics for Epoch 4 \n",
      "30/30 [==============================] - 2s 67ms/step\n",
      "training loss : 0.6227090358734131 , training acc : 0.7433297634124756 , mcc score : 0.6796016097068787\n",
      "aucroc score  : 0.9275147914886475 , f1 score     : 0.7744013667106628 \n",
      "Generating predictions and computing metrics for Epoch 5 \n",
      "30/30 [==============================] - 2s 67ms/step\n",
      "training loss : 0.5989786982536316 , training acc : 0.7518676519393921 , mcc score : 0.6834959387779236\n",
      "aucroc score  : 0.932988166809082 , f1 score     : 0.76983642578125 \n",
      "Generating predictions and computing metrics for Epoch 6 \n",
      "30/30 [==============================] - 2s 67ms/step\n",
      "training loss : 0.5933279395103455 , training acc : 0.7513340711593628 , mcc score : 0.6737638711929321\n",
      "aucroc score  : 0.9321006536483765 , f1 score     : 0.7722117304801941 \n",
      "Generating predictions and computing metrics for Epoch 7 \n",
      "30/30 [==============================] - 2s 67ms/step\n",
      "training loss : 0.5959605574607849 , training acc : 0.7526680827140808 , mcc score : 0.6789311766624451\n",
      "aucroc score  : 0.932988166809082 , f1 score     : 0.7652985453605652 \n",
      "Generating predictions and computing metrics for Epoch 8 \n",
      "30/30 [==============================] - 2s 67ms/step\n",
      "training loss : 0.5803504586219788 , training acc : 0.7612059712409973 , mcc score : 0.672948956489563\n",
      "aucroc score  : 0.9360947012901306 , f1 score     : 0.7737472057342529 \n",
      "Generating predictions and computing metrics for Epoch 9 \n",
      "30/30 [==============================] - 2s 68ms/step\n",
      "training loss : 0.5939480066299438 , training acc : 0.7574706673622131 , mcc score : 0.6716674566268921\n",
      "aucroc score  : 0.9279585480690002 , f1 score     : 0.7652048468589783 \n",
      "Generating predictions and computing metrics for Epoch 10 \n",
      "30/30 [==============================] - 2s 68ms/step\n",
      "training loss : 0.5855177044868469 , training acc : 0.7529348731040955 , mcc score : 0.6806384325027466\n",
      "aucroc score  : 0.9346153736114502 , f1 score     : 0.7775867581367493 \n"
     ]
    },
    {
     "data": {
      "text/html": [
       "Waiting for W&B process to finish... <strong style=\"color:green\">(success).</strong>"
      ],
      "text/plain": [
       "<IPython.core.display.HTML object>"
      ]
     },
     "metadata": {},
     "output_type": "display_data"
    },
    {
     "data": {
      "text/html": [
       "<style>\n",
       "    table.wandb td:nth-child(1) { padding: 0 10px; text-align: left ; width: auto;} td:nth-child(2) {text-align: left ; width: 100%}\n",
       "    .wandb-row { display: flex; flex-direction: row; flex-wrap: wrap; justify-content: flex-start; width: 100% }\n",
       "    .wandb-col { display: flex; flex-direction: column; flex-basis: 100%; flex: 1; padding: 10px; }\n",
       "    </style>\n",
       "<div class=\"wandb-row\"><div class=\"wandb-col\"><h3>Run history:</h3><br/><table class=\"wandb\"><tr><td>auc_roc</td><td>▁▆▇▃▆▆▆█▃▇</td></tr><tr><td>epoch/accuracy</td><td>▁▅▆▇▇▇▇██▇</td></tr><tr><td>epoch/epoch</td><td>▁▂▃▃▄▅▆▆▇█</td></tr><tr><td>epoch/learning_rate</td><td>▁▁▁▁▁▁▁▁▁▁</td></tr><tr><td>epoch/loss</td><td>█▄▄▃▂▂▂▁▂▁</td></tr><tr><td>epoch/val_accuracy</td><td>▁▇▇██▇█▇▇█</td></tr><tr><td>epoch/val_loss</td><td>█▂▂▁▃▄▁▁▂▂</td></tr><tr><td>fmeasure</td><td>▁▆▆█▇█▇█▇█</td></tr><tr><td>mcc</td><td>▁▇▇██▇█▇▇█</td></tr></table><br/></div><div class=\"wandb-col\"><h3>Run summary:</h3><br/><table class=\"wandb\"><tr><td>auc_roc</td><td>0.93462</td></tr><tr><td>epoch/accuracy</td><td>0.75293</td></tr><tr><td>epoch/epoch</td><td>9</td></tr><tr><td>epoch/learning_rate</td><td>0.00486</td></tr><tr><td>epoch/loss</td><td>0.58552</td></tr><tr><td>epoch/val_accuracy</td><td>0.79701</td></tr><tr><td>epoch/val_loss</td><td>0.51574</td></tr><tr><td>fmeasure</td><td>0.77759</td></tr><tr><td>mcc</td><td>0.68064</td></tr></table><br/></div></div>"
      ],
      "text/plain": [
       "<IPython.core.display.HTML object>"
      ]
     },
     "metadata": {},
     "output_type": "display_data"
    },
    {
     "data": {
      "text/html": [
       " View run <strong style=\"color:#cdcd00\">sage-sweep-22</strong> at: <a href='https://wandb.ai/marcus-lim/PCXR-DenseNet-169-Evaluation/runs/zgor7jec' target=\"_blank\">https://wandb.ai/marcus-lim/PCXR-DenseNet-169-Evaluation/runs/zgor7jec</a><br/>Synced 5 W&B file(s), 0 media file(s), 0 artifact file(s) and 0 other file(s)"
      ],
      "text/plain": [
       "<IPython.core.display.HTML object>"
      ]
     },
     "metadata": {},
     "output_type": "display_data"
    },
    {
     "data": {
      "text/html": [
       "Find logs at: <code>.\\wandb\\run-20230916_060149-zgor7jec\\logs</code>"
      ],
      "text/plain": [
       "<IPython.core.display.HTML object>"
      ]
     },
     "metadata": {},
     "output_type": "display_data"
    },
    {
     "name": "stderr",
     "output_type": "stream",
     "text": [
      "\u001b[34m\u001b[1mwandb\u001b[0m: Sweep Agent: Waiting for job.\n",
      "\u001b[34m\u001b[1mwandb\u001b[0m: Job received.\n",
      "\u001b[34m\u001b[1mwandb\u001b[0m: Agent Starting Run: 6py8i4yt with config:\n",
      "\u001b[34m\u001b[1mwandb\u001b[0m: \tbatch_size: 32\n",
      "\u001b[34m\u001b[1mwandb\u001b[0m: \tdropout_1: 0.6\n",
      "\u001b[34m\u001b[1mwandb\u001b[0m: \tdropout_2: 0.6\n",
      "\u001b[34m\u001b[1mwandb\u001b[0m: \tdropout_3: 0.6\n",
      "\u001b[34m\u001b[1mwandb\u001b[0m: \tepochs: 10\n",
      "\u001b[34m\u001b[1mwandb\u001b[0m: \tfc_layer_size_1: 128\n",
      "\u001b[34m\u001b[1mwandb\u001b[0m: \tfc_layer_size_2: 16\n",
      "\u001b[34m\u001b[1mwandb\u001b[0m: \tlearning_rate: 0.004258267848595509\n",
      "\u001b[34m\u001b[1mwandb\u001b[0m: \toptimiser: adam\n",
      "Failed to detect the name of this notebook, you can set it manually with the WANDB_NOTEBOOK_NAME environment variable to enable code saving.\n"
     ]
    },
    {
     "data": {
      "text/html": [
       "wandb version 0.15.10 is available!  To upgrade, please run:\n",
       " $ pip install wandb --upgrade"
      ],
      "text/plain": [
       "<IPython.core.display.HTML object>"
      ]
     },
     "metadata": {},
     "output_type": "display_data"
    },
    {
     "data": {
      "text/html": [
       "Tracking run with wandb version 0.15.5"
      ],
      "text/plain": [
       "<IPython.core.display.HTML object>"
      ]
     },
     "metadata": {},
     "output_type": "display_data"
    },
    {
     "data": {
      "text/html": [
       "Run data is saved locally in <code>c:\\Users\\User\\Projects\\pneumonia-xray-classification\\notebooks\\wandb\\run-20230916_061357-6py8i4yt</code>"
      ],
      "text/plain": [
       "<IPython.core.display.HTML object>"
      ]
     },
     "metadata": {},
     "output_type": "display_data"
    },
    {
     "data": {
      "text/html": [
       "Syncing run <strong><a href='https://wandb.ai/marcus-lim/PCXR-DenseNet-169-Evaluation/runs/6py8i4yt' target=\"_blank\">skilled-sweep-23</a></strong> to <a href='https://wandb.ai/marcus-lim/PCXR-DenseNet-169-Evaluation' target=\"_blank\">Weights & Biases</a> (<a href='https://wandb.me/run' target=\"_blank\">docs</a>)<br/>Sweep page: <a href='https://wandb.ai/marcus-lim/PCXR-DenseNet-169-Evaluation/sweeps/8ib2hshg' target=\"_blank\">https://wandb.ai/marcus-lim/PCXR-DenseNet-169-Evaluation/sweeps/8ib2hshg</a>"
      ],
      "text/plain": [
       "<IPython.core.display.HTML object>"
      ]
     },
     "metadata": {},
     "output_type": "display_data"
    },
    {
     "data": {
      "text/html": [
       " View project at <a href='https://wandb.ai/marcus-lim/PCXR-DenseNet-169-Evaluation' target=\"_blank\">https://wandb.ai/marcus-lim/PCXR-DenseNet-169-Evaluation</a>"
      ],
      "text/plain": [
       "<IPython.core.display.HTML object>"
      ]
     },
     "metadata": {},
     "output_type": "display_data"
    },
    {
     "data": {
      "text/html": [
       " View sweep at <a href='https://wandb.ai/marcus-lim/PCXR-DenseNet-169-Evaluation/sweeps/8ib2hshg' target=\"_blank\">https://wandb.ai/marcus-lim/PCXR-DenseNet-169-Evaluation/sweeps/8ib2hshg</a>"
      ],
      "text/plain": [
       "<IPython.core.display.HTML object>"
      ]
     },
     "metadata": {},
     "output_type": "display_data"
    },
    {
     "data": {
      "text/html": [
       " View run at <a href='https://wandb.ai/marcus-lim/PCXR-DenseNet-169-Evaluation/runs/6py8i4yt' target=\"_blank\">https://wandb.ai/marcus-lim/PCXR-DenseNet-169-Evaluation/runs/6py8i4yt</a>"
      ],
      "text/plain": [
       "<IPython.core.display.HTML object>"
      ]
     },
     "metadata": {},
     "output_type": "display_data"
    },
    {
     "name": "stdout",
     "output_type": "stream",
     "text": [
      "Found 4684 files belonging to 3 classes.\n",
      "Using 3748 files for training.\n",
      "Using 936 files for validation.\n",
      "Found 1172 files belonging to 3 classes.\n",
      "Generating predictions and computing metrics for Epoch 1 \n",
      "30/30 [==============================] - 4s 71ms/step\n",
      "training loss : 0.6594074964523315 , training acc : 0.7219850420951843 , mcc score : 0.6540052890777588\n",
      "aucroc score  : 0.9170118570327759 , f1 score     : 0.7611047625541687 \n",
      "Generating predictions and computing metrics for Epoch 2 \n",
      "30/30 [==============================] - 2s 68ms/step\n",
      "training loss : 0.5678303837776184 , training acc : 0.7678762078285217 , mcc score : 0.6559246182441711\n",
      "aucroc score  : 0.932988166809082 , f1 score     : 0.7356762290000916 \n",
      "Generating predictions and computing metrics for Epoch 3 \n",
      "30/30 [==============================] - 2s 68ms/step\n",
      "training loss : 0.5412373542785645 , training acc : 0.7817502617835999 , mcc score : 0.6687759757041931\n",
      "aucroc score  : 0.930029571056366 , f1 score     : 0.7660087943077087 \n",
      "Generating predictions and computing metrics for Epoch 4 \n",
      "30/30 [==============================] - 2s 68ms/step\n",
      "training loss : 0.5155638456344604 , training acc : 0.7809498310089111 , mcc score : 0.6674608588218689\n",
      "aucroc score  : 0.9286981821060181 , f1 score     : 0.7673712372779846 \n",
      "Generating predictions and computing metrics for Epoch 5 \n",
      "30/30 [==============================] - 2s 68ms/step\n",
      "training loss : 0.5132820010185242 , training acc : 0.7806830406188965 , mcc score : 0.6806294322013855\n",
      "aucroc score  : 0.9384615421295166 , f1 score     : 0.7683998942375183 \n",
      "Generating predictions and computing metrics for Epoch 6 \n",
      "30/30 [==============================] - 2s 68ms/step\n",
      "training loss : 0.5104067325592041 , training acc : 0.7870864272117615 , mcc score : 0.6679796576499939\n",
      "aucroc score  : 0.9289939999580383 , f1 score     : 0.7649049162864685 \n",
      "Generating predictions and computing metrics for Epoch 7 \n",
      "30/30 [==============================] - 2s 68ms/step\n",
      "training loss : 0.5005136728286743 , training acc : 0.7881537079811096 , mcc score : 0.6822066307067871\n",
      "aucroc score  : 0.9360946416854858 , f1 score     : 0.7792353630065918 \n",
      "Generating predictions and computing metrics for Epoch 8 \n",
      "30/30 [==============================] - 2s 68ms/step\n",
      "training loss : 0.500538170337677 , training acc : 0.7916222214698792 , mcc score : 0.6768136024475098\n",
      "aucroc score  : 0.938017725944519 , f1 score     : 0.7675698399543762 \n",
      "Generating predictions and computing metrics for Epoch 9 \n",
      "30/30 [==============================] - 2s 68ms/step\n",
      "training loss : 0.507552981376648 , training acc : 0.7940234541893005 , mcc score : 0.683754026889801\n",
      "aucroc score  : 0.9414200782775879 , f1 score     : 0.7745916843414307 \n",
      "Generating predictions and computing metrics for Epoch 10 \n",
      "30/30 [==============================] - 2s 68ms/step\n",
      "training loss : 0.48853570222854614 , training acc : 0.8001601099967957 , mcc score : 0.6876650452613831\n",
      "aucroc score  : 0.9415680766105652 , f1 score     : 0.7768268585205078 \n"
     ]
    },
    {
     "data": {
      "text/html": [
       "Waiting for W&B process to finish... <strong style=\"color:green\">(success).</strong>"
      ],
      "text/plain": [
       "<IPython.core.display.HTML object>"
      ]
     },
     "metadata": {},
     "output_type": "display_data"
    },
    {
     "data": {
      "text/html": [
       "<style>\n",
       "    table.wandb td:nth-child(1) { padding: 0 10px; text-align: left ; width: auto;} td:nth-child(2) {text-align: left ; width: 100%}\n",
       "    .wandb-row { display: flex; flex-direction: row; flex-wrap: wrap; justify-content: flex-start; width: 100% }\n",
       "    .wandb-col { display: flex; flex-direction: column; flex-basis: 100%; flex: 1; padding: 10px; }\n",
       "    </style>\n",
       "<div class=\"wandb-row\"><div class=\"wandb-col\"><h3>Run history:</h3><br/><table class=\"wandb\"><tr><td>auc_roc</td><td>▁▆▅▄▇▄▆▇██</td></tr><tr><td>epoch/accuracy</td><td>▁▅▆▆▆▇▇▇▇█</td></tr><tr><td>epoch/epoch</td><td>▁▂▃▃▄▅▆▆▇█</td></tr><tr><td>epoch/learning_rate</td><td>▁▁▁▁▁▁▁▁▁▁</td></tr><tr><td>epoch/loss</td><td>█▄▃▂▂▂▁▁▂▁</td></tr><tr><td>epoch/val_accuracy</td><td>▁▁▃▃▆▃▆▆▇█</td></tr><tr><td>epoch/val_loss</td><td>█▅▅▄▃▅▂▁▁▁</td></tr><tr><td>fmeasure</td><td>▅▁▆▆▆▆█▆▇█</td></tr><tr><td>mcc</td><td>▁▁▄▄▇▄▇▆▇█</td></tr></table><br/></div><div class=\"wandb-col\"><h3>Run summary:</h3><br/><table class=\"wandb\"><tr><td>auc_roc</td><td>0.94157</td></tr><tr><td>epoch/accuracy</td><td>0.80016</td></tr><tr><td>epoch/epoch</td><td>9</td></tr><tr><td>epoch/learning_rate</td><td>0.00426</td></tr><tr><td>epoch/loss</td><td>0.48854</td></tr><tr><td>epoch/val_accuracy</td><td>0.80342</td></tr><tr><td>epoch/val_loss</td><td>0.4869</td></tr><tr><td>fmeasure</td><td>0.77683</td></tr><tr><td>mcc</td><td>0.68767</td></tr></table><br/></div></div>"
      ],
      "text/plain": [
       "<IPython.core.display.HTML object>"
      ]
     },
     "metadata": {},
     "output_type": "display_data"
    },
    {
     "data": {
      "text/html": [
       " View run <strong style=\"color:#cdcd00\">skilled-sweep-23</strong> at: <a href='https://wandb.ai/marcus-lim/PCXR-DenseNet-169-Evaluation/runs/6py8i4yt' target=\"_blank\">https://wandb.ai/marcus-lim/PCXR-DenseNet-169-Evaluation/runs/6py8i4yt</a><br/>Synced 5 W&B file(s), 0 media file(s), 0 artifact file(s) and 0 other file(s)"
      ],
      "text/plain": [
       "<IPython.core.display.HTML object>"
      ]
     },
     "metadata": {},
     "output_type": "display_data"
    },
    {
     "data": {
      "text/html": [
       "Find logs at: <code>.\\wandb\\run-20230916_061357-6py8i4yt\\logs</code>"
      ],
      "text/plain": [
       "<IPython.core.display.HTML object>"
      ]
     },
     "metadata": {},
     "output_type": "display_data"
    },
    {
     "name": "stderr",
     "output_type": "stream",
     "text": [
      "\u001b[34m\u001b[1mwandb\u001b[0m: Sweep Agent: Waiting for job.\n",
      "\u001b[34m\u001b[1mwandb\u001b[0m: Job received.\n",
      "\u001b[34m\u001b[1mwandb\u001b[0m: Agent Starting Run: ojekx9t9 with config:\n",
      "\u001b[34m\u001b[1mwandb\u001b[0m: \tbatch_size: 32\n",
      "\u001b[34m\u001b[1mwandb\u001b[0m: \tdropout_1: 0.2\n",
      "\u001b[34m\u001b[1mwandb\u001b[0m: \tdropout_2: 0.2\n",
      "\u001b[34m\u001b[1mwandb\u001b[0m: \tdropout_3: 0.6\n",
      "\u001b[34m\u001b[1mwandb\u001b[0m: \tepochs: 10\n",
      "\u001b[34m\u001b[1mwandb\u001b[0m: \tfc_layer_size_1: 512\n",
      "\u001b[34m\u001b[1mwandb\u001b[0m: \tfc_layer_size_2: 512\n",
      "\u001b[34m\u001b[1mwandb\u001b[0m: \tlearning_rate: 0.001586171272613302\n",
      "\u001b[34m\u001b[1mwandb\u001b[0m: \toptimiser: adam\n",
      "Failed to detect the name of this notebook, you can set it manually with the WANDB_NOTEBOOK_NAME environment variable to enable code saving.\n"
     ]
    },
    {
     "data": {
      "text/html": [
       "wandb version 0.15.10 is available!  To upgrade, please run:\n",
       " $ pip install wandb --upgrade"
      ],
      "text/plain": [
       "<IPython.core.display.HTML object>"
      ]
     },
     "metadata": {},
     "output_type": "display_data"
    },
    {
     "data": {
      "text/html": [
       "Tracking run with wandb version 0.15.5"
      ],
      "text/plain": [
       "<IPython.core.display.HTML object>"
      ]
     },
     "metadata": {},
     "output_type": "display_data"
    },
    {
     "data": {
      "text/html": [
       "Run data is saved locally in <code>c:\\Users\\User\\Projects\\pneumonia-xray-classification\\notebooks\\wandb\\run-20230916_062602-ojekx9t9</code>"
      ],
      "text/plain": [
       "<IPython.core.display.HTML object>"
      ]
     },
     "metadata": {},
     "output_type": "display_data"
    },
    {
     "data": {
      "text/html": [
       "Syncing run <strong><a href='https://wandb.ai/marcus-lim/PCXR-DenseNet-169-Evaluation/runs/ojekx9t9' target=\"_blank\">stoic-sweep-24</a></strong> to <a href='https://wandb.ai/marcus-lim/PCXR-DenseNet-169-Evaluation' target=\"_blank\">Weights & Biases</a> (<a href='https://wandb.me/run' target=\"_blank\">docs</a>)<br/>Sweep page: <a href='https://wandb.ai/marcus-lim/PCXR-DenseNet-169-Evaluation/sweeps/8ib2hshg' target=\"_blank\">https://wandb.ai/marcus-lim/PCXR-DenseNet-169-Evaluation/sweeps/8ib2hshg</a>"
      ],
      "text/plain": [
       "<IPython.core.display.HTML object>"
      ]
     },
     "metadata": {},
     "output_type": "display_data"
    },
    {
     "data": {
      "text/html": [
       " View project at <a href='https://wandb.ai/marcus-lim/PCXR-DenseNet-169-Evaluation' target=\"_blank\">https://wandb.ai/marcus-lim/PCXR-DenseNet-169-Evaluation</a>"
      ],
      "text/plain": [
       "<IPython.core.display.HTML object>"
      ]
     },
     "metadata": {},
     "output_type": "display_data"
    },
    {
     "data": {
      "text/html": [
       " View sweep at <a href='https://wandb.ai/marcus-lim/PCXR-DenseNet-169-Evaluation/sweeps/8ib2hshg' target=\"_blank\">https://wandb.ai/marcus-lim/PCXR-DenseNet-169-Evaluation/sweeps/8ib2hshg</a>"
      ],
      "text/plain": [
       "<IPython.core.display.HTML object>"
      ]
     },
     "metadata": {},
     "output_type": "display_data"
    },
    {
     "data": {
      "text/html": [
       " View run at <a href='https://wandb.ai/marcus-lim/PCXR-DenseNet-169-Evaluation/runs/ojekx9t9' target=\"_blank\">https://wandb.ai/marcus-lim/PCXR-DenseNet-169-Evaluation/runs/ojekx9t9</a>"
      ],
      "text/plain": [
       "<IPython.core.display.HTML object>"
      ]
     },
     "metadata": {},
     "output_type": "display_data"
    },
    {
     "name": "stdout",
     "output_type": "stream",
     "text": [
      "Found 4684 files belonging to 3 classes.\n",
      "Using 3748 files for training.\n",
      "Using 936 files for validation.\n",
      "Found 1172 files belonging to 3 classes.\n",
      "Generating predictions and computing metrics for Epoch 1 \n",
      "30/30 [==============================] - 4s 71ms/step\n",
      "training loss : 0.6254337430000305 , training acc : 0.7537353038787842 , mcc score : 0.6103020906448364\n",
      "aucroc score  : 0.9124260544776917 , f1 score     : 0.7355310320854187 \n",
      "Generating predictions and computing metrics for Epoch 2 \n",
      "30/30 [==============================] - 2s 67ms/step\n",
      "training loss : 0.5223193764686584 , training acc : 0.7852187752723694 , mcc score : 0.6616048812866211\n",
      "aucroc score  : 0.9366863965988159 , f1 score     : 0.7481279969215393 \n",
      "Generating predictions and computing metrics for Epoch 3 \n",
      "30/30 [==============================] - 2s 67ms/step\n",
      "training loss : 0.48618364334106445 , training acc : 0.8022945523262024 , mcc score : 0.6723199486732483\n",
      "aucroc score  : 0.9374260306358337 , f1 score     : 0.7761838436126709 \n",
      "Generating predictions and computing metrics for Epoch 4 \n",
      "30/30 [==============================] - 2s 68ms/step\n",
      "training loss : 0.45180219411849976 , training acc : 0.8089647889137268 , mcc score : 0.6846621632575989\n",
      "aucroc score  : 0.9356508851051331 , f1 score     : 0.7822275161743164 \n",
      "Generating predictions and computing metrics for Epoch 5 \n",
      "30/30 [==============================] - 2s 67ms/step\n",
      "training loss : 0.4497932493686676 , training acc : 0.8129669427871704 , mcc score : 0.6828650236129761\n",
      "aucroc score  : 0.9427515268325806 , f1 score     : 0.7755113244056702 \n",
      "Generating predictions and computing metrics for Epoch 6 \n",
      "30/30 [==============================] - 2s 68ms/step\n",
      "training loss : 0.44210192561149597 , training acc : 0.8161686062812805 , mcc score : 0.6535953283309937\n",
      "aucroc score  : 0.9304733872413635 , f1 score     : 0.7577483654022217 \n",
      "Generating predictions and computing metrics for Epoch 7 \n",
      "30/30 [==============================] - 2s 67ms/step\n",
      "training loss : 0.42940086126327515 , training acc : 0.8199039697647095 , mcc score : 0.6744722723960876\n",
      "aucroc score  : 0.9356508851051331 , f1 score     : 0.7731640338897705 \n",
      "Generating predictions and computing metrics for Epoch 8 \n",
      "30/30 [==============================] - 2s 67ms/step\n",
      "training loss : 0.42393410205841064 , training acc : 0.8295090794563293 , mcc score : 0.6601362824440002\n",
      "aucroc score  : 0.9371301531791687 , f1 score     : 0.7470391392707825 \n",
      "Generating predictions and computing metrics for Epoch 9 \n",
      "30/30 [==============================] - 2s 67ms/step\n",
      "training loss : 0.41612815856933594 , training acc : 0.8225720524787903 , mcc score : 0.675066351890564\n",
      "aucroc score  : 0.939792811870575 , f1 score     : 0.7741500735282898 \n",
      "Generating predictions and computing metrics for Epoch 10 \n",
      "30/30 [==============================] - 2s 67ms/step\n",
      "training loss : 0.4040849804878235 , training acc : 0.8385805487632751 , mcc score : 0.682769238948822\n",
      "aucroc score  : 0.9323964715003967 , f1 score     : 0.7859165668487549 \n"
     ]
    },
    {
     "data": {
      "text/html": [
       "Waiting for W&B process to finish... <strong style=\"color:green\">(success).</strong>"
      ],
      "text/plain": [
       "<IPython.core.display.HTML object>"
      ]
     },
     "metadata": {},
     "output_type": "display_data"
    },
    {
     "data": {
      "text/html": [
       "<style>\n",
       "    table.wandb td:nth-child(1) { padding: 0 10px; text-align: left ; width: auto;} td:nth-child(2) {text-align: left ; width: 100%}\n",
       "    .wandb-row { display: flex; flex-direction: row; flex-wrap: wrap; justify-content: flex-start; width: 100% }\n",
       "    .wandb-col { display: flex; flex-direction: column; flex-basis: 100%; flex: 1; padding: 10px; }\n",
       "    </style>\n",
       "<div class=\"wandb-row\"><div class=\"wandb-col\"><h3>Run history:</h3><br/><table class=\"wandb\"><tr><td>auc_roc</td><td>▁▇▇▆█▅▆▇▇▆</td></tr><tr><td>epoch/accuracy</td><td>▁▄▅▆▆▆▆▇▇█</td></tr><tr><td>epoch/epoch</td><td>▁▂▃▃▄▅▆▆▇█</td></tr><tr><td>epoch/learning_rate</td><td>▁▁▁▁▁▁▁▁▁▁</td></tr><tr><td>epoch/loss</td><td>█▅▄▃▂▂▂▂▁▁</td></tr><tr><td>epoch/val_accuracy</td><td>▁▆▆██▂▇▆▇█</td></tr><tr><td>epoch/val_loss</td><td>▆▇▂▁▂█▂▂▂▁</td></tr><tr><td>fmeasure</td><td>▁▃▇▇▇▄▆▃▆█</td></tr><tr><td>mcc</td><td>▁▆▇██▅▇▆▇█</td></tr></table><br/></div><div class=\"wandb-col\"><h3>Run summary:</h3><br/><table class=\"wandb\"><tr><td>auc_roc</td><td>0.9324</td></tr><tr><td>epoch/accuracy</td><td>0.83858</td></tr><tr><td>epoch/epoch</td><td>9</td></tr><tr><td>epoch/learning_rate</td><td>0.00159</td></tr><tr><td>epoch/loss</td><td>0.40408</td></tr><tr><td>epoch/val_accuracy</td><td>0.79808</td></tr><tr><td>epoch/val_loss</td><td>0.5015</td></tr><tr><td>fmeasure</td><td>0.78592</td></tr><tr><td>mcc</td><td>0.68277</td></tr></table><br/></div></div>"
      ],
      "text/plain": [
       "<IPython.core.display.HTML object>"
      ]
     },
     "metadata": {},
     "output_type": "display_data"
    },
    {
     "data": {
      "text/html": [
       " View run <strong style=\"color:#cdcd00\">stoic-sweep-24</strong> at: <a href='https://wandb.ai/marcus-lim/PCXR-DenseNet-169-Evaluation/runs/ojekx9t9' target=\"_blank\">https://wandb.ai/marcus-lim/PCXR-DenseNet-169-Evaluation/runs/ojekx9t9</a><br/>Synced 5 W&B file(s), 0 media file(s), 0 artifact file(s) and 0 other file(s)"
      ],
      "text/plain": [
       "<IPython.core.display.HTML object>"
      ]
     },
     "metadata": {},
     "output_type": "display_data"
    },
    {
     "data": {
      "text/html": [
       "Find logs at: <code>.\\wandb\\run-20230916_062602-ojekx9t9\\logs</code>"
      ],
      "text/plain": [
       "<IPython.core.display.HTML object>"
      ]
     },
     "metadata": {},
     "output_type": "display_data"
    },
    {
     "name": "stderr",
     "output_type": "stream",
     "text": [
      "\u001b[34m\u001b[1mwandb\u001b[0m: Sweep Agent: Waiting for job.\n",
      "\u001b[34m\u001b[1mwandb\u001b[0m: Job received.\n",
      "\u001b[34m\u001b[1mwandb\u001b[0m: Agent Starting Run: hxlum7ow with config:\n",
      "\u001b[34m\u001b[1mwandb\u001b[0m: \tbatch_size: 32\n",
      "\u001b[34m\u001b[1mwandb\u001b[0m: \tdropout_1: 0.2\n",
      "\u001b[34m\u001b[1mwandb\u001b[0m: \tdropout_2: 0.6\n",
      "\u001b[34m\u001b[1mwandb\u001b[0m: \tdropout_3: 0.6\n",
      "\u001b[34m\u001b[1mwandb\u001b[0m: \tepochs: 10\n",
      "\u001b[34m\u001b[1mwandb\u001b[0m: \tfc_layer_size_1: 256\n",
      "\u001b[34m\u001b[1mwandb\u001b[0m: \tfc_layer_size_2: 256\n",
      "\u001b[34m\u001b[1mwandb\u001b[0m: \tlearning_rate: 0.003592854906298806\n",
      "\u001b[34m\u001b[1mwandb\u001b[0m: \toptimiser: sgd\n",
      "Failed to detect the name of this notebook, you can set it manually with the WANDB_NOTEBOOK_NAME environment variable to enable code saving.\n"
     ]
    },
    {
     "data": {
      "text/html": [
       "wandb version 0.15.10 is available!  To upgrade, please run:\n",
       " $ pip install wandb --upgrade"
      ],
      "text/plain": [
       "<IPython.core.display.HTML object>"
      ]
     },
     "metadata": {},
     "output_type": "display_data"
    },
    {
     "data": {
      "text/html": [
       "Tracking run with wandb version 0.15.5"
      ],
      "text/plain": [
       "<IPython.core.display.HTML object>"
      ]
     },
     "metadata": {},
     "output_type": "display_data"
    },
    {
     "data": {
      "text/html": [
       "Run data is saved locally in <code>c:\\Users\\User\\Projects\\pneumonia-xray-classification\\notebooks\\wandb\\run-20230916_063808-hxlum7ow</code>"
      ],
      "text/plain": [
       "<IPython.core.display.HTML object>"
      ]
     },
     "metadata": {},
     "output_type": "display_data"
    },
    {
     "data": {
      "text/html": [
       "Syncing run <strong><a href='https://wandb.ai/marcus-lim/PCXR-DenseNet-169-Evaluation/runs/hxlum7ow' target=\"_blank\">warm-sweep-25</a></strong> to <a href='https://wandb.ai/marcus-lim/PCXR-DenseNet-169-Evaluation' target=\"_blank\">Weights & Biases</a> (<a href='https://wandb.me/run' target=\"_blank\">docs</a>)<br/>Sweep page: <a href='https://wandb.ai/marcus-lim/PCXR-DenseNet-169-Evaluation/sweeps/8ib2hshg' target=\"_blank\">https://wandb.ai/marcus-lim/PCXR-DenseNet-169-Evaluation/sweeps/8ib2hshg</a>"
      ],
      "text/plain": [
       "<IPython.core.display.HTML object>"
      ]
     },
     "metadata": {},
     "output_type": "display_data"
    },
    {
     "data": {
      "text/html": [
       " View project at <a href='https://wandb.ai/marcus-lim/PCXR-DenseNet-169-Evaluation' target=\"_blank\">https://wandb.ai/marcus-lim/PCXR-DenseNet-169-Evaluation</a>"
      ],
      "text/plain": [
       "<IPython.core.display.HTML object>"
      ]
     },
     "metadata": {},
     "output_type": "display_data"
    },
    {
     "data": {
      "text/html": [
       " View sweep at <a href='https://wandb.ai/marcus-lim/PCXR-DenseNet-169-Evaluation/sweeps/8ib2hshg' target=\"_blank\">https://wandb.ai/marcus-lim/PCXR-DenseNet-169-Evaluation/sweeps/8ib2hshg</a>"
      ],
      "text/plain": [
       "<IPython.core.display.HTML object>"
      ]
     },
     "metadata": {},
     "output_type": "display_data"
    },
    {
     "data": {
      "text/html": [
       " View run at <a href='https://wandb.ai/marcus-lim/PCXR-DenseNet-169-Evaluation/runs/hxlum7ow' target=\"_blank\">https://wandb.ai/marcus-lim/PCXR-DenseNet-169-Evaluation/runs/hxlum7ow</a>"
      ],
      "text/plain": [
       "<IPython.core.display.HTML object>"
      ]
     },
     "metadata": {},
     "output_type": "display_data"
    },
    {
     "name": "stdout",
     "output_type": "stream",
     "text": [
      "Found 4684 files belonging to 3 classes.\n",
      "Using 3748 files for training.\n",
      "Using 936 files for validation.\n",
      "Found 1172 files belonging to 3 classes.\n",
      "Generating predictions and computing metrics for Epoch 1 \n",
      "30/30 [==============================] - 4s 69ms/step\n",
      "training loss : 0.9747685194015503 , training acc : 0.5373532772064209 , mcc score : 0.5462163090705872\n",
      "aucroc score  : 0.8795857429504395 , f1 score     : 0.649387538433075 \n",
      "Generating predictions and computing metrics for Epoch 2 \n",
      "30/30 [==============================] - 2s 68ms/step\n",
      "training loss : 0.7856658697128296 , training acc : 0.6640875339508057 , mcc score : 0.6121896505355835\n",
      "aucroc score  : 0.9078402519226074 , f1 score     : 0.7276062965393066 \n",
      "Generating predictions and computing metrics for Epoch 3 \n",
      "30/30 [==============================] - 2s 68ms/step\n",
      "training loss : 0.718073308467865 , training acc : 0.6990394592285156 , mcc score : 0.6241486668586731\n",
      "aucroc score  : 0.9107987880706787 , f1 score     : 0.7368855476379395 \n",
      "Generating predictions and computing metrics for Epoch 4 \n",
      "30/30 [==============================] - 2s 68ms/step\n",
      "training loss : 0.6684368252754211 , training acc : 0.7201173901557922 , mcc score : 0.6298810839653015\n",
      "aucroc score  : 0.9125739336013794 , f1 score     : 0.7437043190002441 \n",
      "Generating predictions and computing metrics for Epoch 5 \n",
      "30/30 [==============================] - 2s 74ms/step\n",
      "training loss : 0.6386072039604187 , training acc : 0.7369263768196106 , mcc score : 0.6347849369049072\n",
      "aucroc score  : 0.9152367115020752 , f1 score     : 0.7473673820495605 \n",
      "Generating predictions and computing metrics for Epoch 6 \n",
      "30/30 [==============================] - 2s 68ms/step\n",
      "training loss : 0.6239253282546997 , training acc : 0.7377268075942993 , mcc score : 0.6471579074859619\n",
      "aucroc score  : 0.924556314945221 , f1 score     : 0.7553181052207947 \n",
      "Generating predictions and computing metrics for Epoch 7 \n",
      "30/30 [==============================] - 2s 68ms/step\n",
      "training loss : 0.606227695941925 , training acc : 0.7489327788352966 , mcc score : 0.6515476107597351\n",
      "aucroc score  : 0.9269230961799622 , f1 score     : 0.758261501789093 \n",
      "Generating predictions and computing metrics for Epoch 8 \n",
      "30/30 [==============================] - 2s 69ms/step\n",
      "training loss : 0.5949912071228027 , training acc : 0.7604055404663086 , mcc score : 0.6544211506843567\n",
      "aucroc score  : 0.9295858144760132 , f1 score     : 0.7591206431388855 \n",
      "Generating predictions and computing metrics for Epoch 9 \n",
      "30/30 [==============================] - 2s 68ms/step\n",
      "training loss : 0.5838067531585693 , training acc : 0.7542689442634583 , mcc score : 0.6565732955932617\n",
      "aucroc score  : 0.9275147914886475 , f1 score     : 0.7608828544616699 \n",
      "Generating predictions and computing metrics for Epoch 10 \n",
      "30/30 [==============================] - 2s 68ms/step\n",
      "training loss : 0.5792621970176697 , training acc : 0.7638740539550781 , mcc score : 0.66789311170578\n",
      "aucroc score  : 0.9269230961799622 , f1 score     : 0.7677053809165955 \n"
     ]
    },
    {
     "data": {
      "text/html": [
       "Waiting for W&B process to finish... <strong style=\"color:green\">(success).</strong>"
      ],
      "text/plain": [
       "<IPython.core.display.HTML object>"
      ]
     },
     "metadata": {},
     "output_type": "display_data"
    },
    {
     "data": {
      "text/html": [
       "<style>\n",
       "    table.wandb td:nth-child(1) { padding: 0 10px; text-align: left ; width: auto;} td:nth-child(2) {text-align: left ; width: 100%}\n",
       "    .wandb-row { display: flex; flex-direction: row; flex-wrap: wrap; justify-content: flex-start; width: 100% }\n",
       "    .wandb-col { display: flex; flex-direction: column; flex-basis: 100%; flex: 1; padding: 10px; }\n",
       "    </style>\n",
       "<div class=\"wandb-row\"><div class=\"wandb-col\"><h3>Run history:</h3><br/><table class=\"wandb\"><tr><td>auc_roc</td><td>▁▅▅▆▆▇████</td></tr><tr><td>epoch/accuracy</td><td>▁▅▆▇▇▇████</td></tr><tr><td>epoch/epoch</td><td>▁▂▃▃▄▅▆▆▇█</td></tr><tr><td>epoch/learning_rate</td><td>▁▁▁▁▁▁▁▁▁▁</td></tr><tr><td>epoch/loss</td><td>█▅▃▃▂▂▁▁▁▁</td></tr><tr><td>epoch/val_accuracy</td><td>▁▅▆▆▆▇▇▇▇█</td></tr><tr><td>epoch/val_loss</td><td>█▅▃▃▂▂▂▂▁▁</td></tr><tr><td>fmeasure</td><td>▁▆▆▇▇▇▇▇██</td></tr><tr><td>mcc</td><td>▁▅▅▆▆▇▇▇▇█</td></tr></table><br/></div><div class=\"wandb-col\"><h3>Run summary:</h3><br/><table class=\"wandb\"><tr><td>auc_roc</td><td>0.92692</td></tr><tr><td>epoch/accuracy</td><td>0.76387</td></tr><tr><td>epoch/epoch</td><td>9</td></tr><tr><td>epoch/learning_rate</td><td>0.00359</td></tr><tr><td>epoch/loss</td><td>0.57926</td></tr><tr><td>epoch/val_accuracy</td><td>0.78739</td></tr><tr><td>epoch/val_loss</td><td>0.55048</td></tr><tr><td>fmeasure</td><td>0.76771</td></tr><tr><td>mcc</td><td>0.66789</td></tr></table><br/></div></div>"
      ],
      "text/plain": [
       "<IPython.core.display.HTML object>"
      ]
     },
     "metadata": {},
     "output_type": "display_data"
    },
    {
     "data": {
      "text/html": [
       " View run <strong style=\"color:#cdcd00\">warm-sweep-25</strong> at: <a href='https://wandb.ai/marcus-lim/PCXR-DenseNet-169-Evaluation/runs/hxlum7ow' target=\"_blank\">https://wandb.ai/marcus-lim/PCXR-DenseNet-169-Evaluation/runs/hxlum7ow</a><br/>Synced 5 W&B file(s), 0 media file(s), 0 artifact file(s) and 0 other file(s)"
      ],
      "text/plain": [
       "<IPython.core.display.HTML object>"
      ]
     },
     "metadata": {},
     "output_type": "display_data"
    },
    {
     "data": {
      "text/html": [
       "Find logs at: <code>.\\wandb\\run-20230916_063808-hxlum7ow\\logs</code>"
      ],
      "text/plain": [
       "<IPython.core.display.HTML object>"
      ]
     },
     "metadata": {},
     "output_type": "display_data"
    }
   ],
   "source": [
    "wandb.agent(sweep_id, function=sweep_train, count=25)"
   ]
  },
  {
   "cell_type": "markdown",
   "metadata": {},
   "source": [
    "### Check best parameters:"
   ]
  },
  {
   "cell_type": "code",
   "execution_count": 34,
   "metadata": {},
   "outputs": [
    {
     "name": "stderr",
     "output_type": "stream",
     "text": [
      "\u001b[34m\u001b[1mwandb\u001b[0m: Sorting runs by -summary_metrics.mcc\n"
     ]
    },
    {
     "data": {
      "text/plain": [
       "{'epochs': 10,\n",
       " 'dataset': 'Chest X-Ray Images (Pneumonia)',\n",
       " 'dropout_1': 0.2,\n",
       " 'dropout_2': 0.6,\n",
       " 'dropout_3': 0.8,\n",
       " 'optimiser': 'adam',\n",
       " 'batch_size': 32,\n",
       " 'num_classes': 3,\n",
       " 'architecture': 'DenseNet',\n",
       " 'learning_rate': 0.0017536576826685398,\n",
       " 'fc_layer_size_1': 256,\n",
       " 'fc_layer_size_2': 256}"
      ]
     },
     "execution_count": 34,
     "metadata": {},
     "output_type": "execute_result"
    }
   ],
   "source": [
    "sweep_name = \"PCXR-DenseNet-169-Evaluation/sweeps/8ib2hshg\"\n",
    "best_run_169_normal = wandb.Api().sweep(sweep_name).best_run(order=\"mcc\")\n",
    "opt_params_169_normal = best_run_169_normal.config"
   ]
  },
  {
   "cell_type": "markdown",
   "metadata": {},
   "source": [
    "# **DenseNet-169 Sweep (CLAHE-enhanced):**"
   ]
  },
  {
   "cell_type": "markdown",
   "metadata": {},
   "source": [
    "### Create sweep training function:"
   ]
  },
  {
   "cell_type": "code",
   "execution_count": 37,
   "metadata": {},
   "outputs": [],
   "source": [
    "train_dir = \"..\\\\enhanced\\\\train\"\n",
    "network = \"densenet-169\"\n",
    "\n",
    "def sweep_train(config_defaults=None):\n",
    "    \n",
    "    # Initialise wandb and start run:\n",
    "    with wandb.init(config=config_defaults):\n",
    "        \n",
    "        wandb.config.architecture = \"DenseNet\"\n",
    "        wandb.config.dataset = \"Chest X-Ray Images (Pneumonia)\"\n",
    "        wandb.config.num_classes = 3\n",
    "        wandb.notes = \"Sweeping through DenseNet model variations\"\n",
    "\n",
    "        model = build_network(network=network,\n",
    "                              fc_layer_size_1=wandb.config.fc_layer_size_1,\n",
    "                              fc_layer_size_2=wandb.config.fc_layer_size_2,\n",
    "                              dropout_1=wandb.config.dropout_1,\n",
    "                              dropout_2=wandb.config.dropout_2,\n",
    "                              dropout_3=wandb.config.dropout_3)\n",
    "\n",
    "        train(model=model,\n",
    "              train_dir=train_dir,\n",
    "              batch_size=wandb.config.batch_size,\n",
    "              epochs=wandb.config.epochs, \n",
    "              learning_rate=wandb.config.learning_rate,\n",
    "              optimiser_name=wandb.config.optimiser)"
   ]
  },
  {
   "cell_type": "markdown",
   "metadata": {},
   "source": [
    "### Initialise sweep and run agent:"
   ]
  },
  {
   "cell_type": "code",
   "execution_count": 38,
   "metadata": {},
   "outputs": [
    {
     "name": "stdout",
     "output_type": "stream",
     "text": [
      "Create sweep with ID: tzhu0pmo\n",
      "Sweep URL: https://wandb.ai/marcus-lim/PCXR-DenseNet-169-Evaluation/sweeps/tzhu0pmo\n"
     ]
    }
   ],
   "source": [
    "sweep_id = wandb.sweep(sweep_config, project=\"PCXR-DenseNet-169-Evaluation\")"
   ]
  },
  {
   "cell_type": "code",
   "execution_count": 39,
   "metadata": {},
   "outputs": [
    {
     "name": "stderr",
     "output_type": "stream",
     "text": [
      "\u001b[34m\u001b[1mwandb\u001b[0m: Agent Starting Run: xz0m08nz with config:\n",
      "\u001b[34m\u001b[1mwandb\u001b[0m: \tbatch_size: 32\n",
      "\u001b[34m\u001b[1mwandb\u001b[0m: \tdropout_1: 0.8\n",
      "\u001b[34m\u001b[1mwandb\u001b[0m: \tdropout_2: 0.2\n",
      "\u001b[34m\u001b[1mwandb\u001b[0m: \tdropout_3: 0.8\n",
      "\u001b[34m\u001b[1mwandb\u001b[0m: \tepochs: 10\n",
      "\u001b[34m\u001b[1mwandb\u001b[0m: \tfc_layer_size_1: 32\n",
      "\u001b[34m\u001b[1mwandb\u001b[0m: \tfc_layer_size_2: 16\n",
      "\u001b[34m\u001b[1mwandb\u001b[0m: \tlearning_rate: 0.0031183376245970704\n",
      "\u001b[34m\u001b[1mwandb\u001b[0m: \toptimiser: adam\n",
      "Failed to detect the name of this notebook, you can set it manually with the WANDB_NOTEBOOK_NAME environment variable to enable code saving.\n"
     ]
    },
    {
     "data": {
      "text/html": [
       "wandb version 0.15.10 is available!  To upgrade, please run:\n",
       " $ pip install wandb --upgrade"
      ],
      "text/plain": [
       "<IPython.core.display.HTML object>"
      ]
     },
     "metadata": {},
     "output_type": "display_data"
    },
    {
     "data": {
      "text/html": [
       "Tracking run with wandb version 0.15.5"
      ],
      "text/plain": [
       "<IPython.core.display.HTML object>"
      ]
     },
     "metadata": {},
     "output_type": "display_data"
    },
    {
     "data": {
      "text/html": [
       "Run data is saved locally in <code>c:\\Users\\User\\Projects\\pneumonia-xray-classification\\notebooks\\wandb\\run-20230916_112037-xz0m08nz</code>"
      ],
      "text/plain": [
       "<IPython.core.display.HTML object>"
      ]
     },
     "metadata": {},
     "output_type": "display_data"
    },
    {
     "data": {
      "text/html": [
       "Syncing run <strong><a href='https://wandb.ai/marcus-lim/PCXR-DenseNet-169-Evaluation/runs/xz0m08nz' target=\"_blank\">glorious-sweep-1</a></strong> to <a href='https://wandb.ai/marcus-lim/PCXR-DenseNet-169-Evaluation' target=\"_blank\">Weights & Biases</a> (<a href='https://wandb.me/run' target=\"_blank\">docs</a>)<br/>Sweep page: <a href='https://wandb.ai/marcus-lim/PCXR-DenseNet-169-Evaluation/sweeps/tzhu0pmo' target=\"_blank\">https://wandb.ai/marcus-lim/PCXR-DenseNet-169-Evaluation/sweeps/tzhu0pmo</a>"
      ],
      "text/plain": [
       "<IPython.core.display.HTML object>"
      ]
     },
     "metadata": {},
     "output_type": "display_data"
    },
    {
     "data": {
      "text/html": [
       " View project at <a href='https://wandb.ai/marcus-lim/PCXR-DenseNet-169-Evaluation' target=\"_blank\">https://wandb.ai/marcus-lim/PCXR-DenseNet-169-Evaluation</a>"
      ],
      "text/plain": [
       "<IPython.core.display.HTML object>"
      ]
     },
     "metadata": {},
     "output_type": "display_data"
    },
    {
     "data": {
      "text/html": [
       " View sweep at <a href='https://wandb.ai/marcus-lim/PCXR-DenseNet-169-Evaluation/sweeps/tzhu0pmo' target=\"_blank\">https://wandb.ai/marcus-lim/PCXR-DenseNet-169-Evaluation/sweeps/tzhu0pmo</a>"
      ],
      "text/plain": [
       "<IPython.core.display.HTML object>"
      ]
     },
     "metadata": {},
     "output_type": "display_data"
    },
    {
     "data": {
      "text/html": [
       " View run at <a href='https://wandb.ai/marcus-lim/PCXR-DenseNet-169-Evaluation/runs/xz0m08nz' target=\"_blank\">https://wandb.ai/marcus-lim/PCXR-DenseNet-169-Evaluation/runs/xz0m08nz</a>"
      ],
      "text/plain": [
       "<IPython.core.display.HTML object>"
      ]
     },
     "metadata": {},
     "output_type": "display_data"
    },
    {
     "name": "stdout",
     "output_type": "stream",
     "text": [
      "Found 4684 files belonging to 3 classes.\n",
      "Using 3748 files for training.\n",
      "Using 936 files for validation.\n",
      "Found 1172 files belonging to 3 classes.\n",
      "Generating predictions and computing metrics for Epoch 1 \n",
      "30/30 [==============================] - 4s 72ms/step\n",
      "training loss : 0.9000195264816284 , training acc : 0.5856456756591797 , mcc score : 0.4360939562320709\n",
      "aucroc score  : 0.7494083642959595 , f1 score     : 0.5672735571861267 \n",
      "Generating predictions and computing metrics for Epoch 2 \n",
      "30/30 [==============================] - 2s 69ms/step\n",
      "training loss : 0.7479059100151062 , training acc : 0.6688900589942932 , mcc score : 0.4421291947364807\n",
      "aucroc score  : 0.6653846502304077 , f1 score     : 0.583459198474884 \n",
      "Generating predictions and computing metrics for Epoch 3 \n",
      "30/30 [==============================] - 2s 70ms/step\n",
      "training loss : 0.6996587514877319 , training acc : 0.6977054476737976 , mcc score : 0.5173141360282898\n",
      "aucroc score  : 0.7677514553070068 , f1 score     : 0.6638709902763367 \n",
      "Generating predictions and computing metrics for Epoch 4 \n",
      "30/30 [==============================] - 2s 69ms/step\n",
      "training loss : 0.6834859251976013 , training acc : 0.7097118496894836 , mcc score : 0.5451083779335022\n",
      "aucroc score  : 0.7855030298233032 , f1 score     : 0.6864691376686096 \n",
      "Generating predictions and computing metrics for Epoch 5 \n",
      "30/30 [==============================] - 2s 69ms/step\n",
      "training loss : 0.6628319621086121 , training acc : 0.7150480151176453 , mcc score : 0.5214494466781616\n",
      "aucroc score  : 0.761982262134552 , f1 score     : 0.6649340391159058 \n",
      "Generating predictions and computing metrics for Epoch 6 \n",
      "30/30 [==============================] - 2s 69ms/step\n",
      "training loss : 0.6382783055305481 , training acc : 0.7251867651939392 , mcc score : 0.5993264317512512\n",
      "aucroc score  : 0.8602070808410645 , f1 score     : 0.7323865294456482 \n",
      "Generating predictions and computing metrics for Epoch 7 \n",
      "30/30 [==============================] - 2s 70ms/step\n",
      "training loss : 0.6453367471694946 , training acc : 0.7233191132545471 , mcc score : 0.598506510257721\n",
      "aucroc score  : 0.8578402400016785 , f1 score     : 0.7322016358375549 \n",
      "Generating predictions and computing metrics for Epoch 8 \n",
      "30/30 [==============================] - 2s 70ms/step\n",
      "training loss : 0.6315848231315613 , training acc : 0.7251867651939392 , mcc score : 0.6334043741226196\n",
      "aucroc score  : 0.8911243081092834 , f1 score     : 0.7499570250511169 \n",
      "Generating predictions and computing metrics for Epoch 9 \n",
      "30/30 [==============================] - 2s 70ms/step\n",
      "training loss : 0.62665194272995 , training acc : 0.7302561402320862 , mcc score : 0.5691036581993103\n",
      "aucroc score  : 0.8215976357460022 , f1 score     : 0.7085862755775452 \n",
      "Generating predictions and computing metrics for Epoch 10 \n",
      "30/30 [==============================] - 2s 70ms/step\n",
      "training loss : 0.612743079662323 , training acc : 0.7387940287590027 , mcc score : 0.6125092506408691\n",
      "aucroc score  : 0.8633135557174683 , f1 score     : 0.7395632266998291 \n"
     ]
    },
    {
     "data": {
      "text/html": [
       "Waiting for W&B process to finish... <strong style=\"color:green\">(success).</strong>"
      ],
      "text/plain": [
       "<IPython.core.display.HTML object>"
      ]
     },
     "metadata": {},
     "output_type": "display_data"
    },
    {
     "data": {
      "text/html": [
       "<style>\n",
       "    table.wandb td:nth-child(1) { padding: 0 10px; text-align: left ; width: auto;} td:nth-child(2) {text-align: left ; width: 100%}\n",
       "    .wandb-row { display: flex; flex-direction: row; flex-wrap: wrap; justify-content: flex-start; width: 100% }\n",
       "    .wandb-col { display: flex; flex-direction: column; flex-basis: 100%; flex: 1; padding: 10px; }\n",
       "    </style>\n",
       "<div class=\"wandb-row\"><div class=\"wandb-col\"><h3>Run history:</h3><br/><table class=\"wandb\"><tr><td>auc_roc</td><td>▄▁▄▅▄▇▇█▆▇</td></tr><tr><td>epoch/accuracy</td><td>▁▅▆▇▇▇▇▇██</td></tr><tr><td>epoch/epoch</td><td>▁▂▃▃▄▅▆▆▇█</td></tr><tr><td>epoch/learning_rate</td><td>▁▁▁▁▁▁▁▁▁▁</td></tr><tr><td>epoch/loss</td><td>█▄▃▃▂▂▂▁▁▁</td></tr><tr><td>epoch/val_accuracy</td><td>▁▅▅▇▇▇█▇██</td></tr><tr><td>epoch/val_loss</td><td>█▄▂▂▂▁▁▂▁▁</td></tr><tr><td>fmeasure</td><td>▁▂▅▆▅▇▇█▆█</td></tr><tr><td>mcc</td><td>▁▁▄▅▄▇▇█▆▇</td></tr></table><br/></div><div class=\"wandb-col\"><h3>Run summary:</h3><br/><table class=\"wandb\"><tr><td>auc_roc</td><td>0.86331</td></tr><tr><td>epoch/accuracy</td><td>0.73879</td></tr><tr><td>epoch/epoch</td><td>9</td></tr><tr><td>epoch/learning_rate</td><td>0.00312</td></tr><tr><td>epoch/loss</td><td>0.61274</td></tr><tr><td>epoch/val_accuracy</td><td>0.78419</td></tr><tr><td>epoch/val_loss</td><td>0.51964</td></tr><tr><td>fmeasure</td><td>0.73956</td></tr><tr><td>mcc</td><td>0.61251</td></tr></table><br/></div></div>"
      ],
      "text/plain": [
       "<IPython.core.display.HTML object>"
      ]
     },
     "metadata": {},
     "output_type": "display_data"
    },
    {
     "data": {
      "text/html": [
       " View run <strong style=\"color:#cdcd00\">glorious-sweep-1</strong> at: <a href='https://wandb.ai/marcus-lim/PCXR-DenseNet-169-Evaluation/runs/xz0m08nz' target=\"_blank\">https://wandb.ai/marcus-lim/PCXR-DenseNet-169-Evaluation/runs/xz0m08nz</a><br/>Synced 5 W&B file(s), 0 media file(s), 0 artifact file(s) and 0 other file(s)"
      ],
      "text/plain": [
       "<IPython.core.display.HTML object>"
      ]
     },
     "metadata": {},
     "output_type": "display_data"
    },
    {
     "data": {
      "text/html": [
       "Find logs at: <code>.\\wandb\\run-20230916_112037-xz0m08nz\\logs</code>"
      ],
      "text/plain": [
       "<IPython.core.display.HTML object>"
      ]
     },
     "metadata": {},
     "output_type": "display_data"
    },
    {
     "name": "stderr",
     "output_type": "stream",
     "text": [
      "\u001b[34m\u001b[1mwandb\u001b[0m: Agent Starting Run: kvouijuz with config:\n",
      "\u001b[34m\u001b[1mwandb\u001b[0m: \tbatch_size: 32\n",
      "\u001b[34m\u001b[1mwandb\u001b[0m: \tdropout_1: 0.6\n",
      "\u001b[34m\u001b[1mwandb\u001b[0m: \tdropout_2: 0.6\n",
      "\u001b[34m\u001b[1mwandb\u001b[0m: \tdropout_3: 0.6\n",
      "\u001b[34m\u001b[1mwandb\u001b[0m: \tepochs: 10\n",
      "\u001b[34m\u001b[1mwandb\u001b[0m: \tfc_layer_size_1: 512\n",
      "\u001b[34m\u001b[1mwandb\u001b[0m: \tfc_layer_size_2: 64\n",
      "\u001b[34m\u001b[1mwandb\u001b[0m: \tlearning_rate: 0.0007202837874153242\n",
      "\u001b[34m\u001b[1mwandb\u001b[0m: \toptimiser: adam\n",
      "Failed to detect the name of this notebook, you can set it manually with the WANDB_NOTEBOOK_NAME environment variable to enable code saving.\n"
     ]
    },
    {
     "data": {
      "text/html": [
       "wandb version 0.15.10 is available!  To upgrade, please run:\n",
       " $ pip install wandb --upgrade"
      ],
      "text/plain": [
       "<IPython.core.display.HTML object>"
      ]
     },
     "metadata": {},
     "output_type": "display_data"
    },
    {
     "data": {
      "text/html": [
       "Tracking run with wandb version 0.15.5"
      ],
      "text/plain": [
       "<IPython.core.display.HTML object>"
      ]
     },
     "metadata": {},
     "output_type": "display_data"
    },
    {
     "data": {
      "text/html": [
       "Run data is saved locally in <code>c:\\Users\\User\\Projects\\pneumonia-xray-classification\\notebooks\\wandb\\run-20230916_113253-kvouijuz</code>"
      ],
      "text/plain": [
       "<IPython.core.display.HTML object>"
      ]
     },
     "metadata": {},
     "output_type": "display_data"
    },
    {
     "data": {
      "text/html": [
       "Syncing run <strong><a href='https://wandb.ai/marcus-lim/PCXR-DenseNet-169-Evaluation/runs/kvouijuz' target=\"_blank\">radiant-sweep-2</a></strong> to <a href='https://wandb.ai/marcus-lim/PCXR-DenseNet-169-Evaluation' target=\"_blank\">Weights & Biases</a> (<a href='https://wandb.me/run' target=\"_blank\">docs</a>)<br/>Sweep page: <a href='https://wandb.ai/marcus-lim/PCXR-DenseNet-169-Evaluation/sweeps/tzhu0pmo' target=\"_blank\">https://wandb.ai/marcus-lim/PCXR-DenseNet-169-Evaluation/sweeps/tzhu0pmo</a>"
      ],
      "text/plain": [
       "<IPython.core.display.HTML object>"
      ]
     },
     "metadata": {},
     "output_type": "display_data"
    },
    {
     "data": {
      "text/html": [
       " View project at <a href='https://wandb.ai/marcus-lim/PCXR-DenseNet-169-Evaluation' target=\"_blank\">https://wandb.ai/marcus-lim/PCXR-DenseNet-169-Evaluation</a>"
      ],
      "text/plain": [
       "<IPython.core.display.HTML object>"
      ]
     },
     "metadata": {},
     "output_type": "display_data"
    },
    {
     "data": {
      "text/html": [
       " View sweep at <a href='https://wandb.ai/marcus-lim/PCXR-DenseNet-169-Evaluation/sweeps/tzhu0pmo' target=\"_blank\">https://wandb.ai/marcus-lim/PCXR-DenseNet-169-Evaluation/sweeps/tzhu0pmo</a>"
      ],
      "text/plain": [
       "<IPython.core.display.HTML object>"
      ]
     },
     "metadata": {},
     "output_type": "display_data"
    },
    {
     "data": {
      "text/html": [
       " View run at <a href='https://wandb.ai/marcus-lim/PCXR-DenseNet-169-Evaluation/runs/kvouijuz' target=\"_blank\">https://wandb.ai/marcus-lim/PCXR-DenseNet-169-Evaluation/runs/kvouijuz</a>"
      ],
      "text/plain": [
       "<IPython.core.display.HTML object>"
      ]
     },
     "metadata": {},
     "output_type": "display_data"
    },
    {
     "name": "stdout",
     "output_type": "stream",
     "text": [
      "Found 4684 files belonging to 3 classes.\n",
      "Using 3748 files for training.\n",
      "Using 936 files for validation.\n",
      "Found 1172 files belonging to 3 classes.\n",
      "Generating predictions and computing metrics for Epoch 1 \n",
      "30/30 [==============================] - 4s 73ms/step\n",
      "training loss : 0.7305593490600586 , training acc : 0.6843649744987488 , mcc score : 0.4697391092777252\n",
      "aucroc score  : 0.6857988238334656 , f1 score     : 0.6062870025634766 \n",
      "Generating predictions and computing metrics for Epoch 2 \n",
      "30/30 [==============================] - 2s 70ms/step\n",
      "training loss : 0.59136563539505 , training acc : 0.7489327788352966 , mcc score : 0.5339622497558594\n",
      "aucroc score  : 0.7704142928123474 , f1 score     : 0.6726648807525635 \n",
      "Generating predictions and computing metrics for Epoch 3 \n",
      "30/30 [==============================] - 2s 70ms/step\n",
      "training loss : 0.5674744844436646 , training acc : 0.7566702365875244 , mcc score : 0.6111197471618652\n",
      "aucroc score  : 0.8594674468040466 , f1 score     : 0.7368788123130798 \n",
      "Generating predictions and computing metrics for Epoch 4 \n",
      "30/30 [==============================] - 2s 70ms/step\n",
      "training loss : 0.5484921336174011 , training acc : 0.7756136655807495 , mcc score : 0.605060875415802\n",
      "aucroc score  : 0.8687869906425476 , f1 score     : 0.7347651124000549 \n",
      "Generating predictions and computing metrics for Epoch 5 \n",
      "30/30 [==============================] - 2s 70ms/step\n",
      "training loss : 0.5312690138816833 , training acc : 0.7766808867454529 , mcc score : 0.5652759075164795\n",
      "aucroc score  : 0.7954142093658447 , f1 score     : 0.696582019329071 \n",
      "Generating predictions and computing metrics for Epoch 6 \n",
      "30/30 [==============================] - 2s 70ms/step\n",
      "training loss : 0.5207095742225647 , training acc : 0.7833511233329773 , mcc score : 0.5739812254905701\n",
      "aucroc score  : 0.8227810263633728 , f1 score     : 0.7096913456916809 \n",
      "Generating predictions and computing metrics for Epoch 7 \n",
      "30/30 [==============================] - 2s 70ms/step\n",
      "training loss : 0.5085878968238831 , training acc : 0.7844183444976807 , mcc score : 0.6217955946922302\n",
      "aucroc score  : 0.8853550553321838 , f1 score     : 0.7455618381500244 \n",
      "Generating predictions and computing metrics for Epoch 8 \n",
      "30/30 [==============================] - 2s 71ms/step\n",
      "training loss : 0.5102014541625977 , training acc : 0.7838847637176514 , mcc score : 0.6294764280319214\n",
      "aucroc score  : 0.886686384677887 , f1 score     : 0.7486739754676819 \n",
      "Generating predictions and computing metrics for Epoch 9 \n",
      "30/30 [==============================] - 2s 70ms/step\n",
      "training loss : 0.5020132660865784 , training acc : 0.7881537079811096 , mcc score : 0.6262644529342651\n",
      "aucroc score  : 0.8755917549133301 , f1 score     : 0.7514095306396484 \n",
      "Generating predictions and computing metrics for Epoch 10 \n",
      "30/30 [==============================] - 2s 70ms/step\n",
      "training loss : 0.48317310214042664 , training acc : 0.7934898734092712 , mcc score : 0.6291554570198059\n",
      "aucroc score  : 0.8897929191589355 , f1 score     : 0.7537198066711426 \n"
     ]
    },
    {
     "data": {
      "text/html": [
       "Waiting for W&B process to finish... <strong style=\"color:green\">(success).</strong>"
      ],
      "text/plain": [
       "<IPython.core.display.HTML object>"
      ]
     },
     "metadata": {},
     "output_type": "display_data"
    },
    {
     "data": {
      "text/html": [
       "<style>\n",
       "    table.wandb td:nth-child(1) { padding: 0 10px; text-align: left ; width: auto;} td:nth-child(2) {text-align: left ; width: 100%}\n",
       "    .wandb-row { display: flex; flex-direction: row; flex-wrap: wrap; justify-content: flex-start; width: 100% }\n",
       "    .wandb-col { display: flex; flex-direction: column; flex-basis: 100%; flex: 1; padding: 10px; }\n",
       "    </style>\n",
       "<div class=\"wandb-row\"><div class=\"wandb-col\"><h3>Run history:</h3><br/><table class=\"wandb\"><tr><td>auc_roc</td><td>▁▄▇▇▅▆████</td></tr><tr><td>epoch/accuracy</td><td>▁▅▆▇▇▇▇▇██</td></tr><tr><td>epoch/epoch</td><td>▁▂▃▃▄▅▆▆▇█</td></tr><tr><td>epoch/learning_rate</td><td>▁▁▁▁▁▁▁▁▁▁</td></tr><tr><td>epoch/loss</td><td>█▄▃▃▂▂▂▂▂▁</td></tr><tr><td>epoch/val_accuracy</td><td>▁▅▅▇▄▇▆▅▇█</td></tr><tr><td>epoch/val_loss</td><td>██▅▅▂▁▅▃▂▂</td></tr><tr><td>fmeasure</td><td>▁▄▇▇▅▆████</td></tr><tr><td>mcc</td><td>▁▄▇▇▅▆████</td></tr></table><br/></div><div class=\"wandb-col\"><h3>Run summary:</h3><br/><table class=\"wandb\"><tr><td>auc_roc</td><td>0.88979</td></tr><tr><td>epoch/accuracy</td><td>0.79349</td></tr><tr><td>epoch/epoch</td><td>9</td></tr><tr><td>epoch/learning_rate</td><td>0.00072</td></tr><tr><td>epoch/loss</td><td>0.48317</td></tr><tr><td>epoch/val_accuracy</td><td>0.79274</td></tr><tr><td>epoch/val_loss</td><td>0.50062</td></tr><tr><td>fmeasure</td><td>0.75372</td></tr><tr><td>mcc</td><td>0.62916</td></tr></table><br/></div></div>"
      ],
      "text/plain": [
       "<IPython.core.display.HTML object>"
      ]
     },
     "metadata": {},
     "output_type": "display_data"
    },
    {
     "data": {
      "text/html": [
       " View run <strong style=\"color:#cdcd00\">radiant-sweep-2</strong> at: <a href='https://wandb.ai/marcus-lim/PCXR-DenseNet-169-Evaluation/runs/kvouijuz' target=\"_blank\">https://wandb.ai/marcus-lim/PCXR-DenseNet-169-Evaluation/runs/kvouijuz</a><br/>Synced 5 W&B file(s), 0 media file(s), 0 artifact file(s) and 0 other file(s)"
      ],
      "text/plain": [
       "<IPython.core.display.HTML object>"
      ]
     },
     "metadata": {},
     "output_type": "display_data"
    },
    {
     "data": {
      "text/html": [
       "Find logs at: <code>.\\wandb\\run-20230916_113253-kvouijuz\\logs</code>"
      ],
      "text/plain": [
       "<IPython.core.display.HTML object>"
      ]
     },
     "metadata": {},
     "output_type": "display_data"
    },
    {
     "name": "stderr",
     "output_type": "stream",
     "text": [
      "\u001b[34m\u001b[1mwandb\u001b[0m: Agent Starting Run: x908gxsj with config:\n",
      "\u001b[34m\u001b[1mwandb\u001b[0m: \tbatch_size: 32\n",
      "\u001b[34m\u001b[1mwandb\u001b[0m: \tdropout_1: 0.8\n",
      "\u001b[34m\u001b[1mwandb\u001b[0m: \tdropout_2: 0.6\n",
      "\u001b[34m\u001b[1mwandb\u001b[0m: \tdropout_3: 0.2\n",
      "\u001b[34m\u001b[1mwandb\u001b[0m: \tepochs: 10\n",
      "\u001b[34m\u001b[1mwandb\u001b[0m: \tfc_layer_size_1: 512\n",
      "\u001b[34m\u001b[1mwandb\u001b[0m: \tfc_layer_size_2: 512\n",
      "\u001b[34m\u001b[1mwandb\u001b[0m: \tlearning_rate: 0.004469980582625214\n",
      "\u001b[34m\u001b[1mwandb\u001b[0m: \toptimiser: sgd\n",
      "Failed to detect the name of this notebook, you can set it manually with the WANDB_NOTEBOOK_NAME environment variable to enable code saving.\n"
     ]
    },
    {
     "data": {
      "text/html": [
       "wandb version 0.15.10 is available!  To upgrade, please run:\n",
       " $ pip install wandb --upgrade"
      ],
      "text/plain": [
       "<IPython.core.display.HTML object>"
      ]
     },
     "metadata": {},
     "output_type": "display_data"
    },
    {
     "data": {
      "text/html": [
       "Tracking run with wandb version 0.15.5"
      ],
      "text/plain": [
       "<IPython.core.display.HTML object>"
      ]
     },
     "metadata": {},
     "output_type": "display_data"
    },
    {
     "data": {
      "text/html": [
       "Run data is saved locally in <code>c:\\Users\\User\\Projects\\pneumonia-xray-classification\\notebooks\\wandb\\run-20230916_114504-x908gxsj</code>"
      ],
      "text/plain": [
       "<IPython.core.display.HTML object>"
      ]
     },
     "metadata": {},
     "output_type": "display_data"
    },
    {
     "data": {
      "text/html": [
       "Syncing run <strong><a href='https://wandb.ai/marcus-lim/PCXR-DenseNet-169-Evaluation/runs/x908gxsj' target=\"_blank\">genial-sweep-3</a></strong> to <a href='https://wandb.ai/marcus-lim/PCXR-DenseNet-169-Evaluation' target=\"_blank\">Weights & Biases</a> (<a href='https://wandb.me/run' target=\"_blank\">docs</a>)<br/>Sweep page: <a href='https://wandb.ai/marcus-lim/PCXR-DenseNet-169-Evaluation/sweeps/tzhu0pmo' target=\"_blank\">https://wandb.ai/marcus-lim/PCXR-DenseNet-169-Evaluation/sweeps/tzhu0pmo</a>"
      ],
      "text/plain": [
       "<IPython.core.display.HTML object>"
      ]
     },
     "metadata": {},
     "output_type": "display_data"
    },
    {
     "data": {
      "text/html": [
       " View project at <a href='https://wandb.ai/marcus-lim/PCXR-DenseNet-169-Evaluation' target=\"_blank\">https://wandb.ai/marcus-lim/PCXR-DenseNet-169-Evaluation</a>"
      ],
      "text/plain": [
       "<IPython.core.display.HTML object>"
      ]
     },
     "metadata": {},
     "output_type": "display_data"
    },
    {
     "data": {
      "text/html": [
       " View sweep at <a href='https://wandb.ai/marcus-lim/PCXR-DenseNet-169-Evaluation/sweeps/tzhu0pmo' target=\"_blank\">https://wandb.ai/marcus-lim/PCXR-DenseNet-169-Evaluation/sweeps/tzhu0pmo</a>"
      ],
      "text/plain": [
       "<IPython.core.display.HTML object>"
      ]
     },
     "metadata": {},
     "output_type": "display_data"
    },
    {
     "data": {
      "text/html": [
       " View run at <a href='https://wandb.ai/marcus-lim/PCXR-DenseNet-169-Evaluation/runs/x908gxsj' target=\"_blank\">https://wandb.ai/marcus-lim/PCXR-DenseNet-169-Evaluation/runs/x908gxsj</a>"
      ],
      "text/plain": [
       "<IPython.core.display.HTML object>"
      ]
     },
     "metadata": {},
     "output_type": "display_data"
    },
    {
     "name": "stdout",
     "output_type": "stream",
     "text": [
      "Found 4684 files belonging to 3 classes.\n",
      "Using 3748 files for training.\n",
      "Using 936 files for validation.\n",
      "Found 1172 files belonging to 3 classes.\n",
      "Generating predictions and computing metrics for Epoch 1 \n",
      "30/30 [==============================] - 4s 71ms/step\n",
      "training loss : 1.0431318283081055 , training acc : 0.47011739015579224 , mcc score : 0.4462769031524658\n",
      "aucroc score  : 0.8106508851051331 , f1 score     : 0.5314132571220398 \n",
      "Generating predictions and computing metrics for Epoch 2 \n",
      "30/30 [==============================] - 2s 68ms/step\n",
      "training loss : 0.9196049571037292 , training acc : 0.5725720524787903 , mcc score : 0.5088194608688354\n",
      "aucroc score  : 0.8516272306442261 , f1 score     : 0.5677298307418823 \n",
      "Generating predictions and computing metrics for Epoch 3 \n",
      "30/30 [==============================] - 2s 73ms/step\n",
      "training loss : 0.8567162752151489 , training acc : 0.6307364106178284 , mcc score : 0.5386829376220703\n",
      "aucroc score  : 0.8662722110748291 , f1 score     : 0.5853226780891418 \n",
      "Generating predictions and computing metrics for Epoch 4 \n",
      "30/30 [==============================] - 2s 70ms/step\n",
      "training loss : 0.8091385364532471 , training acc : 0.6520811319351196 , mcc score : 0.53700852394104\n",
      "aucroc score  : 0.8671597242355347 , f1 score     : 0.5759871602058411 \n",
      "Generating predictions and computing metrics for Epoch 5 \n",
      "30/30 [==============================] - 2s 70ms/step\n",
      "training loss : 0.7729803919792175 , training acc : 0.6680896282196045 , mcc score : 0.5511798858642578\n",
      "aucroc score  : 0.8720414638519287 , f1 score     : 0.6037781238555908 \n",
      "Generating predictions and computing metrics for Epoch 6 \n",
      "30/30 [==============================] - 2s 72ms/step\n",
      "training loss : 0.747351884841919 , training acc : 0.6827641129493713 , mcc score : 0.566912829875946\n",
      "aucroc score  : 0.8779585361480713 , f1 score     : 0.6232042908668518 \n",
      "Generating predictions and computing metrics for Epoch 7 \n",
      "30/30 [==============================] - 2s 70ms/step\n",
      "training loss : 0.7371965646743774 , training acc : 0.6832977533340454 , mcc score : 0.5721362829208374\n",
      "aucroc score  : 0.8809170722961426 , f1 score     : 0.6396326422691345 \n",
      "Generating predictions and computing metrics for Epoch 8 \n",
      "30/30 [==============================] - 2s 70ms/step\n",
      "training loss : 0.7151344418525696 , training acc : 0.7033084034919739 , mcc score : 0.5811724066734314\n",
      "aucroc score  : 0.8897928595542908 , f1 score     : 0.6564165949821472 \n",
      "Generating predictions and computing metrics for Epoch 9 \n",
      "30/30 [==============================] - 2s 70ms/step\n",
      "training loss : 0.6953012347221375 , training acc : 0.7102454900741577 , mcc score : 0.5736764073371887\n",
      "aucroc score  : 0.8886094689369202 , f1 score     : 0.6495668292045593 \n",
      "Generating predictions and computing metrics for Epoch 10 \n",
      "30/30 [==============================] - 2s 72ms/step\n",
      "training loss : 0.6817514300346375 , training acc : 0.7118462920188904 , mcc score : 0.5846812129020691\n",
      "aucroc score  : 0.8897928595542908 , f1 score     : 0.6604695916175842 \n"
     ]
    },
    {
     "data": {
      "text/html": [
       "Waiting for W&B process to finish... <strong style=\"color:green\">(success).</strong>"
      ],
      "text/plain": [
       "<IPython.core.display.HTML object>"
      ]
     },
     "metadata": {},
     "output_type": "display_data"
    },
    {
     "data": {
      "text/html": [
       "<style>\n",
       "    table.wandb td:nth-child(1) { padding: 0 10px; text-align: left ; width: auto;} td:nth-child(2) {text-align: left ; width: 100%}\n",
       "    .wandb-row { display: flex; flex-direction: row; flex-wrap: wrap; justify-content: flex-start; width: 100% }\n",
       "    .wandb-col { display: flex; flex-direction: column; flex-basis: 100%; flex: 1; padding: 10px; }\n",
       "    </style>\n",
       "<div class=\"wandb-row\"><div class=\"wandb-col\"><h3>Run history:</h3><br/><table class=\"wandb\"><tr><td>auc_roc</td><td>▁▅▆▆▆▇▇███</td></tr><tr><td>epoch/accuracy</td><td>▁▄▆▆▇▇▇███</td></tr><tr><td>epoch/epoch</td><td>▁▂▃▃▄▅▆▆▇█</td></tr><tr><td>epoch/learning_rate</td><td>▁▁▁▁▁▁▁▁▁▁</td></tr><tr><td>epoch/loss</td><td>█▆▄▃▃▂▂▂▁▁</td></tr><tr><td>epoch/val_accuracy</td><td>▁▂▅▆▆▄▅██▇</td></tr><tr><td>epoch/val_loss</td><td>█▅▃▂▁▂▂▁▁▃</td></tr><tr><td>fmeasure</td><td>▁▃▄▃▅▆▇█▇█</td></tr><tr><td>mcc</td><td>▁▄▆▆▆▇▇█▇█</td></tr></table><br/></div><div class=\"wandb-col\"><h3>Run summary:</h3><br/><table class=\"wandb\"><tr><td>auc_roc</td><td>0.88979</td></tr><tr><td>epoch/accuracy</td><td>0.71185</td></tr><tr><td>epoch/epoch</td><td>9</td></tr><tr><td>epoch/learning_rate</td><td>0.00447</td></tr><tr><td>epoch/loss</td><td>0.68175</td></tr><tr><td>epoch/val_accuracy</td><td>0.66026</td></tr><tr><td>epoch/val_loss</td><td>0.82069</td></tr><tr><td>fmeasure</td><td>0.66047</td></tr><tr><td>mcc</td><td>0.58468</td></tr></table><br/></div></div>"
      ],
      "text/plain": [
       "<IPython.core.display.HTML object>"
      ]
     },
     "metadata": {},
     "output_type": "display_data"
    },
    {
     "data": {
      "text/html": [
       " View run <strong style=\"color:#cdcd00\">genial-sweep-3</strong> at: <a href='https://wandb.ai/marcus-lim/PCXR-DenseNet-169-Evaluation/runs/x908gxsj' target=\"_blank\">https://wandb.ai/marcus-lim/PCXR-DenseNet-169-Evaluation/runs/x908gxsj</a><br/>Synced 5 W&B file(s), 0 media file(s), 0 artifact file(s) and 0 other file(s)"
      ],
      "text/plain": [
       "<IPython.core.display.HTML object>"
      ]
     },
     "metadata": {},
     "output_type": "display_data"
    },
    {
     "data": {
      "text/html": [
       "Find logs at: <code>.\\wandb\\run-20230916_114504-x908gxsj\\logs</code>"
      ],
      "text/plain": [
       "<IPython.core.display.HTML object>"
      ]
     },
     "metadata": {},
     "output_type": "display_data"
    },
    {
     "name": "stderr",
     "output_type": "stream",
     "text": [
      "\u001b[34m\u001b[1mwandb\u001b[0m: Agent Starting Run: x95g2jk3 with config:\n",
      "\u001b[34m\u001b[1mwandb\u001b[0m: \tbatch_size: 32\n",
      "\u001b[34m\u001b[1mwandb\u001b[0m: \tdropout_1: 0.2\n",
      "\u001b[34m\u001b[1mwandb\u001b[0m: \tdropout_2: 0.2\n",
      "\u001b[34m\u001b[1mwandb\u001b[0m: \tdropout_3: 0.8\n",
      "\u001b[34m\u001b[1mwandb\u001b[0m: \tepochs: 10\n",
      "\u001b[34m\u001b[1mwandb\u001b[0m: \tfc_layer_size_1: 16\n",
      "\u001b[34m\u001b[1mwandb\u001b[0m: \tfc_layer_size_2: 256\n",
      "\u001b[34m\u001b[1mwandb\u001b[0m: \tlearning_rate: 0.0008613209748243051\n",
      "\u001b[34m\u001b[1mwandb\u001b[0m: \toptimiser: adam\n",
      "Failed to detect the name of this notebook, you can set it manually with the WANDB_NOTEBOOK_NAME environment variable to enable code saving.\n"
     ]
    },
    {
     "data": {
      "text/html": [
       "wandb version 0.15.10 is available!  To upgrade, please run:\n",
       " $ pip install wandb --upgrade"
      ],
      "text/plain": [
       "<IPython.core.display.HTML object>"
      ]
     },
     "metadata": {},
     "output_type": "display_data"
    },
    {
     "data": {
      "text/html": [
       "Tracking run with wandb version 0.15.5"
      ],
      "text/plain": [
       "<IPython.core.display.HTML object>"
      ]
     },
     "metadata": {},
     "output_type": "display_data"
    },
    {
     "data": {
      "text/html": [
       "Run data is saved locally in <code>c:\\Users\\User\\Projects\\pneumonia-xray-classification\\notebooks\\wandb\\run-20230916_115720-x95g2jk3</code>"
      ],
      "text/plain": [
       "<IPython.core.display.HTML object>"
      ]
     },
     "metadata": {},
     "output_type": "display_data"
    },
    {
     "data": {
      "text/html": [
       "Syncing run <strong><a href='https://wandb.ai/marcus-lim/PCXR-DenseNet-169-Evaluation/runs/x95g2jk3' target=\"_blank\">blooming-sweep-4</a></strong> to <a href='https://wandb.ai/marcus-lim/PCXR-DenseNet-169-Evaluation' target=\"_blank\">Weights & Biases</a> (<a href='https://wandb.me/run' target=\"_blank\">docs</a>)<br/>Sweep page: <a href='https://wandb.ai/marcus-lim/PCXR-DenseNet-169-Evaluation/sweeps/tzhu0pmo' target=\"_blank\">https://wandb.ai/marcus-lim/PCXR-DenseNet-169-Evaluation/sweeps/tzhu0pmo</a>"
      ],
      "text/plain": [
       "<IPython.core.display.HTML object>"
      ]
     },
     "metadata": {},
     "output_type": "display_data"
    },
    {
     "data": {
      "text/html": [
       " View project at <a href='https://wandb.ai/marcus-lim/PCXR-DenseNet-169-Evaluation' target=\"_blank\">https://wandb.ai/marcus-lim/PCXR-DenseNet-169-Evaluation</a>"
      ],
      "text/plain": [
       "<IPython.core.display.HTML object>"
      ]
     },
     "metadata": {},
     "output_type": "display_data"
    },
    {
     "data": {
      "text/html": [
       " View sweep at <a href='https://wandb.ai/marcus-lim/PCXR-DenseNet-169-Evaluation/sweeps/tzhu0pmo' target=\"_blank\">https://wandb.ai/marcus-lim/PCXR-DenseNet-169-Evaluation/sweeps/tzhu0pmo</a>"
      ],
      "text/plain": [
       "<IPython.core.display.HTML object>"
      ]
     },
     "metadata": {},
     "output_type": "display_data"
    },
    {
     "data": {
      "text/html": [
       " View run at <a href='https://wandb.ai/marcus-lim/PCXR-DenseNet-169-Evaluation/runs/x95g2jk3' target=\"_blank\">https://wandb.ai/marcus-lim/PCXR-DenseNet-169-Evaluation/runs/x95g2jk3</a>"
      ],
      "text/plain": [
       "<IPython.core.display.HTML object>"
      ]
     },
     "metadata": {},
     "output_type": "display_data"
    },
    {
     "name": "stdout",
     "output_type": "stream",
     "text": [
      "Found 4684 files belonging to 3 classes.\n",
      "Using 3748 files for training.\n",
      "Using 936 files for validation.\n",
      "Found 1172 files belonging to 3 classes.\n",
      "Generating predictions and computing metrics for Epoch 1 \n",
      "30/30 [==============================] - 4s 72ms/step\n",
      "training loss : 0.8751019835472107 , training acc : 0.5928494930267334 , mcc score : 0.3643009662628174\n",
      "aucroc score  : 0.639644980430603 , f1 score     : 0.4967104196548462 \n",
      "Generating predictions and computing metrics for Epoch 2 \n",
      "30/30 [==============================] - 2s 70ms/step\n",
      "training loss : 0.7045828700065613 , training acc : 0.6971718072891235 , mcc score : 0.34958377480506897\n",
      "aucroc score  : 0.557692289352417 , f1 score     : 0.47252795100212097 \n",
      "Generating predictions and computing metrics for Epoch 3 \n",
      "30/30 [==============================] - 2s 70ms/step\n",
      "training loss : 0.6811651587486267 , training acc : 0.7035752534866333 , mcc score : 0.5983583927154541\n",
      "aucroc score  : 0.8613905310630798 , f1 score     : 0.7280271649360657 \n",
      "Generating predictions and computing metrics for Epoch 4 \n",
      "30/30 [==============================] - 2s 70ms/step\n",
      "training loss : 0.6609561443328857 , training acc : 0.715848445892334 , mcc score : 0.47119003534317017\n",
      "aucroc score  : 0.7088757753372192 , f1 score     : 0.6133343577384949 \n",
      "Generating predictions and computing metrics for Epoch 5 \n",
      "30/30 [==============================] - 2s 70ms/step\n",
      "training loss : 0.6335135698318481 , training acc : 0.7246531248092651 , mcc score : 0.614920973777771\n",
      "aucroc score  : 0.8575443625450134 , f1 score     : 0.7283410429954529 \n",
      "Generating predictions and computing metrics for Epoch 6 \n",
      "30/30 [==============================] - 2s 70ms/step\n",
      "training loss : 0.6324025988578796 , training acc : 0.7334578633308411 , mcc score : 0.606002688407898\n",
      "aucroc score  : 0.8578402400016785 , f1 score     : 0.7320213317871094 \n",
      "Generating predictions and computing metrics for Epoch 7 \n",
      "30/30 [==============================] - 2s 70ms/step\n",
      "training loss : 0.6248264312744141 , training acc : 0.7326574325561523 , mcc score : 0.599313497543335\n",
      "aucroc score  : 0.8350592255592346 , f1 score     : 0.7233038544654846 \n",
      "Generating predictions and computing metrics for Epoch 8 \n",
      "30/30 [==============================] - 2s 73ms/step\n",
      "training loss : 0.621558427810669 , training acc : 0.7321237921714783 , mcc score : 0.6009601950645447\n",
      "aucroc score  : 0.8350592255592346 , f1 score     : 0.7272589206695557 \n",
      "Generating predictions and computing metrics for Epoch 9 \n",
      "30/30 [==============================] - 2s 70ms/step\n",
      "training loss : 0.6016361117362976 , training acc : 0.7382603883743286 , mcc score : 0.5931466817855835\n",
      "aucroc score  : 0.8254438042640686 , f1 score     : 0.7178769111633301 \n",
      "Generating predictions and computing metrics for Epoch 10 \n",
      "30/30 [==============================] - 2s 70ms/step\n",
      "training loss : 0.5888736844062805 , training acc : 0.7572038173675537 , mcc score : 0.6053562164306641\n",
      "aucroc score  : 0.8624261021614075 , f1 score     : 0.7341341972351074 \n"
     ]
    },
    {
     "data": {
      "text/html": [
       "Waiting for W&B process to finish... <strong style=\"color:green\">(success).</strong>"
      ],
      "text/plain": [
       "<IPython.core.display.HTML object>"
      ]
     },
     "metadata": {},
     "output_type": "display_data"
    },
    {
     "data": {
      "text/html": [
       "<style>\n",
       "    table.wandb td:nth-child(1) { padding: 0 10px; text-align: left ; width: auto;} td:nth-child(2) {text-align: left ; width: 100%}\n",
       "    .wandb-row { display: flex; flex-direction: row; flex-wrap: wrap; justify-content: flex-start; width: 100% }\n",
       "    .wandb-col { display: flex; flex-direction: column; flex-basis: 100%; flex: 1; padding: 10px; }\n",
       "    </style>\n",
       "<div class=\"wandb-row\"><div class=\"wandb-col\"><h3>Run history:</h3><br/><table class=\"wandb\"><tr><td>auc_roc</td><td>▃▁█▄██▇▇▇█</td></tr><tr><td>epoch/accuracy</td><td>▁▅▆▆▇▇▇▇▇█</td></tr><tr><td>epoch/epoch</td><td>▁▂▃▃▄▅▆▆▇█</td></tr><tr><td>epoch/learning_rate</td><td>▁▁▁▁▁▁▁▁▁▁</td></tr><tr><td>epoch/loss</td><td>█▄▃▃▂▂▂▂▁▁</td></tr><tr><td>epoch/val_accuracy</td><td>▁▃▇▆▇█████</td></tr><tr><td>epoch/val_loss</td><td>▇█▂▃▂▁▁▂▁▂</td></tr><tr><td>fmeasure</td><td>▂▁█▅██████</td></tr><tr><td>mcc</td><td>▁▁█▄████▇█</td></tr></table><br/></div><div class=\"wandb-col\"><h3>Run summary:</h3><br/><table class=\"wandb\"><tr><td>auc_roc</td><td>0.86243</td></tr><tr><td>epoch/accuracy</td><td>0.7572</td></tr><tr><td>epoch/epoch</td><td>9</td></tr><tr><td>epoch/learning_rate</td><td>0.00086</td></tr><tr><td>epoch/loss</td><td>0.58887</td></tr><tr><td>epoch/val_accuracy</td><td>0.7906</td></tr><tr><td>epoch/val_loss</td><td>0.52986</td></tr><tr><td>fmeasure</td><td>0.73413</td></tr><tr><td>mcc</td><td>0.60536</td></tr></table><br/></div></div>"
      ],
      "text/plain": [
       "<IPython.core.display.HTML object>"
      ]
     },
     "metadata": {},
     "output_type": "display_data"
    },
    {
     "data": {
      "text/html": [
       " View run <strong style=\"color:#cdcd00\">blooming-sweep-4</strong> at: <a href='https://wandb.ai/marcus-lim/PCXR-DenseNet-169-Evaluation/runs/x95g2jk3' target=\"_blank\">https://wandb.ai/marcus-lim/PCXR-DenseNet-169-Evaluation/runs/x95g2jk3</a><br/>Synced 5 W&B file(s), 0 media file(s), 0 artifact file(s) and 0 other file(s)"
      ],
      "text/plain": [
       "<IPython.core.display.HTML object>"
      ]
     },
     "metadata": {},
     "output_type": "display_data"
    },
    {
     "data": {
      "text/html": [
       "Find logs at: <code>.\\wandb\\run-20230916_115720-x95g2jk3\\logs</code>"
      ],
      "text/plain": [
       "<IPython.core.display.HTML object>"
      ]
     },
     "metadata": {},
     "output_type": "display_data"
    },
    {
     "name": "stderr",
     "output_type": "stream",
     "text": [
      "\u001b[34m\u001b[1mwandb\u001b[0m: Agent Starting Run: j2ik34yo with config:\n",
      "\u001b[34m\u001b[1mwandb\u001b[0m: \tbatch_size: 32\n",
      "\u001b[34m\u001b[1mwandb\u001b[0m: \tdropout_1: 0.8\n",
      "\u001b[34m\u001b[1mwandb\u001b[0m: \tdropout_2: 0.2\n",
      "\u001b[34m\u001b[1mwandb\u001b[0m: \tdropout_3: 0.8\n",
      "\u001b[34m\u001b[1mwandb\u001b[0m: \tepochs: 10\n",
      "\u001b[34m\u001b[1mwandb\u001b[0m: \tfc_layer_size_1: 128\n",
      "\u001b[34m\u001b[1mwandb\u001b[0m: \tfc_layer_size_2: 256\n",
      "\u001b[34m\u001b[1mwandb\u001b[0m: \tlearning_rate: 0.0035311977718748247\n",
      "\u001b[34m\u001b[1mwandb\u001b[0m: \toptimiser: sgd\n",
      "Failed to detect the name of this notebook, you can set it manually with the WANDB_NOTEBOOK_NAME environment variable to enable code saving.\n"
     ]
    },
    {
     "data": {
      "text/html": [
       "wandb version 0.15.10 is available!  To upgrade, please run:\n",
       " $ pip install wandb --upgrade"
      ],
      "text/plain": [
       "<IPython.core.display.HTML object>"
      ]
     },
     "metadata": {},
     "output_type": "display_data"
    },
    {
     "data": {
      "text/html": [
       "Tracking run with wandb version 0.15.5"
      ],
      "text/plain": [
       "<IPython.core.display.HTML object>"
      ]
     },
     "metadata": {},
     "output_type": "display_data"
    },
    {
     "data": {
      "text/html": [
       "Run data is saved locally in <code>c:\\Users\\User\\Projects\\pneumonia-xray-classification\\notebooks\\wandb\\run-20230916_120931-j2ik34yo</code>"
      ],
      "text/plain": [
       "<IPython.core.display.HTML object>"
      ]
     },
     "metadata": {},
     "output_type": "display_data"
    },
    {
     "data": {
      "text/html": [
       "Syncing run <strong><a href='https://wandb.ai/marcus-lim/PCXR-DenseNet-169-Evaluation/runs/j2ik34yo' target=\"_blank\">colorful-sweep-5</a></strong> to <a href='https://wandb.ai/marcus-lim/PCXR-DenseNet-169-Evaluation' target=\"_blank\">Weights & Biases</a> (<a href='https://wandb.me/run' target=\"_blank\">docs</a>)<br/>Sweep page: <a href='https://wandb.ai/marcus-lim/PCXR-DenseNet-169-Evaluation/sweeps/tzhu0pmo' target=\"_blank\">https://wandb.ai/marcus-lim/PCXR-DenseNet-169-Evaluation/sweeps/tzhu0pmo</a>"
      ],
      "text/plain": [
       "<IPython.core.display.HTML object>"
      ]
     },
     "metadata": {},
     "output_type": "display_data"
    },
    {
     "data": {
      "text/html": [
       " View project at <a href='https://wandb.ai/marcus-lim/PCXR-DenseNet-169-Evaluation' target=\"_blank\">https://wandb.ai/marcus-lim/PCXR-DenseNet-169-Evaluation</a>"
      ],
      "text/plain": [
       "<IPython.core.display.HTML object>"
      ]
     },
     "metadata": {},
     "output_type": "display_data"
    },
    {
     "data": {
      "text/html": [
       " View sweep at <a href='https://wandb.ai/marcus-lim/PCXR-DenseNet-169-Evaluation/sweeps/tzhu0pmo' target=\"_blank\">https://wandb.ai/marcus-lim/PCXR-DenseNet-169-Evaluation/sweeps/tzhu0pmo</a>"
      ],
      "text/plain": [
       "<IPython.core.display.HTML object>"
      ]
     },
     "metadata": {},
     "output_type": "display_data"
    },
    {
     "data": {
      "text/html": [
       " View run at <a href='https://wandb.ai/marcus-lim/PCXR-DenseNet-169-Evaluation/runs/j2ik34yo' target=\"_blank\">https://wandb.ai/marcus-lim/PCXR-DenseNet-169-Evaluation/runs/j2ik34yo</a>"
      ],
      "text/plain": [
       "<IPython.core.display.HTML object>"
      ]
     },
     "metadata": {},
     "output_type": "display_data"
    },
    {
     "name": "stdout",
     "output_type": "stream",
     "text": [
      "Found 4684 files belonging to 3 classes.\n",
      "Using 3748 files for training.\n",
      "Using 936 files for validation.\n",
      "Found 1172 files belonging to 3 classes.\n",
      "Generating predictions and computing metrics for Epoch 1 \n",
      "30/30 [==============================] - 4s 72ms/step\n",
      "training loss : 1.1163623332977295 , training acc : 0.38580575585365295 , mcc score : 0.1505395472049713\n",
      "aucroc score  : 0.5517751574516296 , f1 score     : 0.33073484897613525 \n",
      "Generating predictions and computing metrics for Epoch 2 \n",
      "30/30 [==============================] - 2s 70ms/step\n",
      "training loss : 1.048515796661377 , training acc : 0.4679829180240631 , mcc score : 0.3303380608558655\n",
      "aucroc score  : 0.6798816919326782 , f1 score     : 0.41619443893432617 \n",
      "Generating predictions and computing metrics for Epoch 3 \n",
      "30/30 [==============================] - 2s 70ms/step\n",
      "training loss : 0.9980545043945312 , training acc : 0.5072038173675537 , mcc score : 0.4234098494052887\n",
      "aucroc score  : 0.7656804919242859 , f1 score     : 0.4793882668018341 \n",
      "Generating predictions and computing metrics for Epoch 4 \n",
      "30/30 [==============================] - 2s 70ms/step\n",
      "training loss : 0.972693920135498 , training acc : 0.5352187752723694 , mcc score : 0.4560663402080536\n",
      "aucroc score  : 0.7977810502052307 , f1 score     : 0.49537286162376404 \n",
      "Generating predictions and computing metrics for Epoch 5 \n",
      "30/30 [==============================] - 2s 70ms/step\n",
      "training loss : 0.93988037109375 , training acc : 0.5557630658149719 , mcc score : 0.47652044892311096\n",
      "aucroc score  : 0.8252958655357361 , f1 score     : 0.5158295035362244 \n",
      "Generating predictions and computing metrics for Epoch 6 \n",
      "30/30 [==============================] - 2s 70ms/step\n",
      "training loss : 0.9127194881439209 , training acc : 0.5765741467475891 , mcc score : 0.5003387928009033\n",
      "aucroc score  : 0.8461538553237915 , f1 score     : 0.5376383662223816 \n",
      "Generating predictions and computing metrics for Epoch 7 \n",
      "30/30 [==============================] - 2s 71ms/step\n",
      "training loss : 0.8959735035896301 , training acc : 0.59178227186203 , mcc score : 0.5207726359367371\n",
      "aucroc score  : 0.8551775217056274 , f1 score     : 0.5604209899902344 \n",
      "Generating predictions and computing metrics for Epoch 8 \n",
      "30/30 [==============================] - 2s 70ms/step\n",
      "training loss : 0.871455192565918 , training acc : 0.6016542315483093 , mcc score : 0.5144819021224976\n",
      "aucroc score  : 0.8532544374465942 , f1 score     : 0.5582745671272278 \n",
      "Generating predictions and computing metrics for Epoch 9 \n",
      "30/30 [==============================] - 2s 69ms/step\n",
      "training loss : 0.851128339767456 , training acc : 0.6080576181411743 , mcc score : 0.5269759297370911\n",
      "aucroc score  : 0.8655325174331665 , f1 score     : 0.5715592503547668 \n",
      "Generating predictions and computing metrics for Epoch 10 \n",
      "30/30 [==============================] - 2s 70ms/step\n",
      "training loss : 0.8265196084976196 , training acc : 0.6334044933319092 , mcc score : 0.5297606587409973\n",
      "aucroc score  : 0.8662721514701843 , f1 score     : 0.579338788986206 \n"
     ]
    },
    {
     "data": {
      "text/html": [
       "Waiting for W&B process to finish... <strong style=\"color:green\">(success).</strong>"
      ],
      "text/plain": [
       "<IPython.core.display.HTML object>"
      ]
     },
     "metadata": {},
     "output_type": "display_data"
    },
    {
     "data": {
      "text/html": [
       "<style>\n",
       "    table.wandb td:nth-child(1) { padding: 0 10px; text-align: left ; width: auto;} td:nth-child(2) {text-align: left ; width: 100%}\n",
       "    .wandb-row { display: flex; flex-direction: row; flex-wrap: wrap; justify-content: flex-start; width: 100% }\n",
       "    .wandb-col { display: flex; flex-direction: column; flex-basis: 100%; flex: 1; padding: 10px; }\n",
       "    </style>\n",
       "<div class=\"wandb-row\"><div class=\"wandb-col\"><h3>Run history:</h3><br/><table class=\"wandb\"><tr><td>auc_roc</td><td>▁▄▆▆▇█████</td></tr><tr><td>epoch/accuracy</td><td>▁▃▄▅▆▆▇▇▇█</td></tr><tr><td>epoch/epoch</td><td>▁▂▃▃▄▅▆▆▇█</td></tr><tr><td>epoch/learning_rate</td><td>▁▁▁▁▁▁▁▁▁▁</td></tr><tr><td>epoch/loss</td><td>█▆▅▅▄▃▃▂▂▁</td></tr><tr><td>epoch/val_accuracy</td><td>▁▅▆▇▇█████</td></tr><tr><td>epoch/val_loss</td><td>█▇▆▅▄▃▃▂▁▁</td></tr><tr><td>fmeasure</td><td>▁▃▅▆▆▇▇▇██</td></tr><tr><td>mcc</td><td>▁▄▆▇▇▇████</td></tr></table><br/></div><div class=\"wandb-col\"><h3>Run summary:</h3><br/><table class=\"wandb\"><tr><td>auc_roc</td><td>0.86627</td></tr><tr><td>epoch/accuracy</td><td>0.6334</td></tr><tr><td>epoch/epoch</td><td>9</td></tr><tr><td>epoch/learning_rate</td><td>0.00353</td></tr><tr><td>epoch/loss</td><td>0.82652</td></tr><tr><td>epoch/val_accuracy</td><td>0.69658</td></tr><tr><td>epoch/val_loss</td><td>0.72159</td></tr><tr><td>fmeasure</td><td>0.57934</td></tr><tr><td>mcc</td><td>0.52976</td></tr></table><br/></div></div>"
      ],
      "text/plain": [
       "<IPython.core.display.HTML object>"
      ]
     },
     "metadata": {},
     "output_type": "display_data"
    },
    {
     "data": {
      "text/html": [
       " View run <strong style=\"color:#cdcd00\">colorful-sweep-5</strong> at: <a href='https://wandb.ai/marcus-lim/PCXR-DenseNet-169-Evaluation/runs/j2ik34yo' target=\"_blank\">https://wandb.ai/marcus-lim/PCXR-DenseNet-169-Evaluation/runs/j2ik34yo</a><br/>Synced 5 W&B file(s), 0 media file(s), 0 artifact file(s) and 0 other file(s)"
      ],
      "text/plain": [
       "<IPython.core.display.HTML object>"
      ]
     },
     "metadata": {},
     "output_type": "display_data"
    },
    {
     "data": {
      "text/html": [
       "Find logs at: <code>.\\wandb\\run-20230916_120931-j2ik34yo\\logs</code>"
      ],
      "text/plain": [
       "<IPython.core.display.HTML object>"
      ]
     },
     "metadata": {},
     "output_type": "display_data"
    },
    {
     "name": "stderr",
     "output_type": "stream",
     "text": [
      "\u001b[34m\u001b[1mwandb\u001b[0m: Agent Starting Run: y28i1g88 with config:\n",
      "\u001b[34m\u001b[1mwandb\u001b[0m: \tbatch_size: 32\n",
      "\u001b[34m\u001b[1mwandb\u001b[0m: \tdropout_1: 0.2\n",
      "\u001b[34m\u001b[1mwandb\u001b[0m: \tdropout_2: 0.2\n",
      "\u001b[34m\u001b[1mwandb\u001b[0m: \tdropout_3: 0.8\n",
      "\u001b[34m\u001b[1mwandb\u001b[0m: \tepochs: 10\n",
      "\u001b[34m\u001b[1mwandb\u001b[0m: \tfc_layer_size_1: 128\n",
      "\u001b[34m\u001b[1mwandb\u001b[0m: \tfc_layer_size_2: 16\n",
      "\u001b[34m\u001b[1mwandb\u001b[0m: \tlearning_rate: 0.003784950477364359\n",
      "\u001b[34m\u001b[1mwandb\u001b[0m: \toptimiser: adam\n",
      "Failed to detect the name of this notebook, you can set it manually with the WANDB_NOTEBOOK_NAME environment variable to enable code saving.\n"
     ]
    },
    {
     "data": {
      "text/html": [
       "wandb version 0.15.10 is available!  To upgrade, please run:\n",
       " $ pip install wandb --upgrade"
      ],
      "text/plain": [
       "<IPython.core.display.HTML object>"
      ]
     },
     "metadata": {},
     "output_type": "display_data"
    },
    {
     "data": {
      "text/html": [
       "Tracking run with wandb version 0.15.5"
      ],
      "text/plain": [
       "<IPython.core.display.HTML object>"
      ]
     },
     "metadata": {},
     "output_type": "display_data"
    },
    {
     "data": {
      "text/html": [
       "Run data is saved locally in <code>c:\\Users\\User\\Projects\\pneumonia-xray-classification\\notebooks\\wandb\\run-20230916_122136-y28i1g88</code>"
      ],
      "text/plain": [
       "<IPython.core.display.HTML object>"
      ]
     },
     "metadata": {},
     "output_type": "display_data"
    },
    {
     "data": {
      "text/html": [
       "Syncing run <strong><a href='https://wandb.ai/marcus-lim/PCXR-DenseNet-169-Evaluation/runs/y28i1g88' target=\"_blank\">bright-sweep-6</a></strong> to <a href='https://wandb.ai/marcus-lim/PCXR-DenseNet-169-Evaluation' target=\"_blank\">Weights & Biases</a> (<a href='https://wandb.me/run' target=\"_blank\">docs</a>)<br/>Sweep page: <a href='https://wandb.ai/marcus-lim/PCXR-DenseNet-169-Evaluation/sweeps/tzhu0pmo' target=\"_blank\">https://wandb.ai/marcus-lim/PCXR-DenseNet-169-Evaluation/sweeps/tzhu0pmo</a>"
      ],
      "text/plain": [
       "<IPython.core.display.HTML object>"
      ]
     },
     "metadata": {},
     "output_type": "display_data"
    },
    {
     "data": {
      "text/html": [
       " View project at <a href='https://wandb.ai/marcus-lim/PCXR-DenseNet-169-Evaluation' target=\"_blank\">https://wandb.ai/marcus-lim/PCXR-DenseNet-169-Evaluation</a>"
      ],
      "text/plain": [
       "<IPython.core.display.HTML object>"
      ]
     },
     "metadata": {},
     "output_type": "display_data"
    },
    {
     "data": {
      "text/html": [
       " View sweep at <a href='https://wandb.ai/marcus-lim/PCXR-DenseNet-169-Evaluation/sweeps/tzhu0pmo' target=\"_blank\">https://wandb.ai/marcus-lim/PCXR-DenseNet-169-Evaluation/sweeps/tzhu0pmo</a>"
      ],
      "text/plain": [
       "<IPython.core.display.HTML object>"
      ]
     },
     "metadata": {},
     "output_type": "display_data"
    },
    {
     "data": {
      "text/html": [
       " View run at <a href='https://wandb.ai/marcus-lim/PCXR-DenseNet-169-Evaluation/runs/y28i1g88' target=\"_blank\">https://wandb.ai/marcus-lim/PCXR-DenseNet-169-Evaluation/runs/y28i1g88</a>"
      ],
      "text/plain": [
       "<IPython.core.display.HTML object>"
      ]
     },
     "metadata": {},
     "output_type": "display_data"
    },
    {
     "name": "stdout",
     "output_type": "stream",
     "text": [
      "Found 4684 files belonging to 3 classes.\n",
      "Using 3748 files for training.\n",
      "Using 936 files for validation.\n",
      "Found 1172 files belonging to 3 classes.\n",
      "Generating predictions and computing metrics for Epoch 1 \n",
      "30/30 [==============================] - 4s 72ms/step\n",
      "training loss : 0.6979168653488159 , training acc : 0.7070437669754028 , mcc score : 0.486093670129776\n",
      "aucroc score  : 0.7031065225601196 , f1 score     : 0.6280443668365479 \n",
      "Generating predictions and computing metrics for Epoch 2 \n",
      "30/30 [==============================] - 2s 70ms/step\n",
      "training loss : 0.5850855708122253 , training acc : 0.7561365962028503 , mcc score : 0.5991896986961365\n",
      "aucroc score  : 0.8590236902236938 , f1 score     : 0.7311586737632751 \n",
      "Generating predictions and computing metrics for Epoch 3 \n",
      "30/30 [==============================] - 2s 70ms/step\n",
      "training loss : 0.560755729675293 , training acc : 0.7676094174385071 , mcc score : 0.5953993201255798\n",
      "aucroc score  : 0.8494082689285278 , f1 score     : 0.7235268950462341 \n",
      "Generating predictions and computing metrics for Epoch 4 \n",
      "30/30 [==============================] - 2s 70ms/step\n",
      "training loss : 0.541521430015564 , training acc : 0.7801494002342224 , mcc score : 0.6372251510620117\n",
      "aucroc score  : 0.8798816204071045 , f1 score     : 0.7508082389831543 \n",
      "Generating predictions and computing metrics for Epoch 5 \n",
      "30/30 [==============================] - 2s 70ms/step\n",
      "training loss : 0.5248517394065857 , training acc : 0.7822839021682739 , mcc score : 0.627417802810669\n",
      "aucroc score  : 0.8887573480606079 , f1 score     : 0.7506954073905945 \n",
      "Generating predictions and computing metrics for Epoch 6 \n",
      "30/30 [==============================] - 2s 70ms/step\n",
      "training loss : 0.5177677869796753 , training acc : 0.7873532772064209 , mcc score : 0.6084756255149841\n",
      "aucroc score  : 0.8748520612716675 , f1 score     : 0.737829864025116 \n",
      "Generating predictions and computing metrics for Epoch 7 \n",
      "30/30 [==============================] - 2s 70ms/step\n",
      "training loss : 0.512607753276825 , training acc : 0.7910885810852051 , mcc score : 0.6105149984359741\n",
      "aucroc score  : 0.8602070808410645 , f1 score     : 0.7384269833564758 \n",
      "Generating predictions and computing metrics for Epoch 8 \n",
      "30/30 [==============================] - 2s 68ms/step\n",
      "training loss : 0.5103803277015686 , training acc : 0.7881537079811096 , mcc score : 0.6519912481307983\n",
      "aucroc score  : 0.8988165855407715 , f1 score     : 0.7622776031494141 \n",
      "Generating predictions and computing metrics for Epoch 9 \n",
      "30/30 [==============================] - 2s 69ms/step\n",
      "training loss : 0.5003419518470764 , training acc : 0.7974919676780701 , mcc score : 0.6059364080429077\n",
      "aucroc score  : 0.8605030179023743 , f1 score     : 0.7348344922065735 \n",
      "Generating predictions and computing metrics for Epoch 10 \n",
      "30/30 [==============================] - 2s 68ms/step\n",
      "training loss : 0.4957216680049896 , training acc : 0.801227331161499 , mcc score : 0.5890746712684631\n",
      "aucroc score  : 0.834319531917572 , f1 score     : 0.7205173373222351 \n"
     ]
    },
    {
     "data": {
      "text/html": [
       "Waiting for W&B process to finish... <strong style=\"color:green\">(success).</strong>"
      ],
      "text/plain": [
       "<IPython.core.display.HTML object>"
      ]
     },
     "metadata": {},
     "output_type": "display_data"
    },
    {
     "data": {
      "text/html": [
       "<style>\n",
       "    table.wandb td:nth-child(1) { padding: 0 10px; text-align: left ; width: auto;} td:nth-child(2) {text-align: left ; width: 100%}\n",
       "    .wandb-row { display: flex; flex-direction: row; flex-wrap: wrap; justify-content: flex-start; width: 100% }\n",
       "    .wandb-col { display: flex; flex-direction: column; flex-basis: 100%; flex: 1; padding: 10px; }\n",
       "    </style>\n",
       "<div class=\"wandb-row\"><div class=\"wandb-col\"><h3>Run history:</h3><br/><table class=\"wandb\"><tr><td>auc_roc</td><td>▁▇▆▇█▇▇█▇▆</td></tr><tr><td>epoch/accuracy</td><td>▁▅▆▆▇▇▇▇██</td></tr><tr><td>epoch/epoch</td><td>▁▂▃▃▄▅▆▆▇█</td></tr><tr><td>epoch/learning_rate</td><td>▁▁▁▁▁▁▁▁▁▁</td></tr><tr><td>epoch/loss</td><td>█▄▃▃▂▂▂▂▁▁</td></tr><tr><td>epoch/val_accuracy</td><td>▁▃▄▇▆▄███▆</td></tr><tr><td>epoch/val_loss</td><td>█▄▂▁▃▃▁▁▁▂</td></tr><tr><td>fmeasure</td><td>▁▆▆▇▇▇▇█▇▆</td></tr><tr><td>mcc</td><td>▁▆▆▇▇▆▆█▆▅</td></tr></table><br/></div><div class=\"wandb-col\"><h3>Run summary:</h3><br/><table class=\"wandb\"><tr><td>auc_roc</td><td>0.83432</td></tr><tr><td>epoch/accuracy</td><td>0.80123</td></tr><tr><td>epoch/epoch</td><td>9</td></tr><tr><td>epoch/learning_rate</td><td>0.00378</td></tr><tr><td>epoch/loss</td><td>0.49572</td></tr><tr><td>epoch/val_accuracy</td><td>0.78846</td></tr><tr><td>epoch/val_loss</td><td>0.50746</td></tr><tr><td>fmeasure</td><td>0.72052</td></tr><tr><td>mcc</td><td>0.58907</td></tr></table><br/></div></div>"
      ],
      "text/plain": [
       "<IPython.core.display.HTML object>"
      ]
     },
     "metadata": {},
     "output_type": "display_data"
    },
    {
     "data": {
      "text/html": [
       " View run <strong style=\"color:#cdcd00\">bright-sweep-6</strong> at: <a href='https://wandb.ai/marcus-lim/PCXR-DenseNet-169-Evaluation/runs/y28i1g88' target=\"_blank\">https://wandb.ai/marcus-lim/PCXR-DenseNet-169-Evaluation/runs/y28i1g88</a><br/>Synced 5 W&B file(s), 0 media file(s), 0 artifact file(s) and 0 other file(s)"
      ],
      "text/plain": [
       "<IPython.core.display.HTML object>"
      ]
     },
     "metadata": {},
     "output_type": "display_data"
    },
    {
     "data": {
      "text/html": [
       "Find logs at: <code>.\\wandb\\run-20230916_122136-y28i1g88\\logs</code>"
      ],
      "text/plain": [
       "<IPython.core.display.HTML object>"
      ]
     },
     "metadata": {},
     "output_type": "display_data"
    },
    {
     "name": "stderr",
     "output_type": "stream",
     "text": [
      "\u001b[34m\u001b[1mwandb\u001b[0m: Agent Starting Run: knye66zn with config:\n",
      "\u001b[34m\u001b[1mwandb\u001b[0m: \tbatch_size: 32\n",
      "\u001b[34m\u001b[1mwandb\u001b[0m: \tdropout_1: 0.6\n",
      "\u001b[34m\u001b[1mwandb\u001b[0m: \tdropout_2: 0.2\n",
      "\u001b[34m\u001b[1mwandb\u001b[0m: \tdropout_3: 0.8\n",
      "\u001b[34m\u001b[1mwandb\u001b[0m: \tepochs: 10\n",
      "\u001b[34m\u001b[1mwandb\u001b[0m: \tfc_layer_size_1: 512\n",
      "\u001b[34m\u001b[1mwandb\u001b[0m: \tfc_layer_size_2: 256\n",
      "\u001b[34m\u001b[1mwandb\u001b[0m: \tlearning_rate: 0.004402370681885556\n",
      "\u001b[34m\u001b[1mwandb\u001b[0m: \toptimiser: adam\n",
      "Failed to detect the name of this notebook, you can set it manually with the WANDB_NOTEBOOK_NAME environment variable to enable code saving.\n"
     ]
    },
    {
     "data": {
      "text/html": [
       "wandb version 0.15.10 is available!  To upgrade, please run:\n",
       " $ pip install wandb --upgrade"
      ],
      "text/plain": [
       "<IPython.core.display.HTML object>"
      ]
     },
     "metadata": {},
     "output_type": "display_data"
    },
    {
     "data": {
      "text/html": [
       "Tracking run with wandb version 0.15.5"
      ],
      "text/plain": [
       "<IPython.core.display.HTML object>"
      ]
     },
     "metadata": {},
     "output_type": "display_data"
    },
    {
     "data": {
      "text/html": [
       "Run data is saved locally in <code>c:\\Users\\User\\Projects\\pneumonia-xray-classification\\notebooks\\wandb\\run-20230916_123341-knye66zn</code>"
      ],
      "text/plain": [
       "<IPython.core.display.HTML object>"
      ]
     },
     "metadata": {},
     "output_type": "display_data"
    },
    {
     "data": {
      "text/html": [
       "Syncing run <strong><a href='https://wandb.ai/marcus-lim/PCXR-DenseNet-169-Evaluation/runs/knye66zn' target=\"_blank\">revived-sweep-7</a></strong> to <a href='https://wandb.ai/marcus-lim/PCXR-DenseNet-169-Evaluation' target=\"_blank\">Weights & Biases</a> (<a href='https://wandb.me/run' target=\"_blank\">docs</a>)<br/>Sweep page: <a href='https://wandb.ai/marcus-lim/PCXR-DenseNet-169-Evaluation/sweeps/tzhu0pmo' target=\"_blank\">https://wandb.ai/marcus-lim/PCXR-DenseNet-169-Evaluation/sweeps/tzhu0pmo</a>"
      ],
      "text/plain": [
       "<IPython.core.display.HTML object>"
      ]
     },
     "metadata": {},
     "output_type": "display_data"
    },
    {
     "data": {
      "text/html": [
       " View project at <a href='https://wandb.ai/marcus-lim/PCXR-DenseNet-169-Evaluation' target=\"_blank\">https://wandb.ai/marcus-lim/PCXR-DenseNet-169-Evaluation</a>"
      ],
      "text/plain": [
       "<IPython.core.display.HTML object>"
      ]
     },
     "metadata": {},
     "output_type": "display_data"
    },
    {
     "data": {
      "text/html": [
       " View sweep at <a href='https://wandb.ai/marcus-lim/PCXR-DenseNet-169-Evaluation/sweeps/tzhu0pmo' target=\"_blank\">https://wandb.ai/marcus-lim/PCXR-DenseNet-169-Evaluation/sweeps/tzhu0pmo</a>"
      ],
      "text/plain": [
       "<IPython.core.display.HTML object>"
      ]
     },
     "metadata": {},
     "output_type": "display_data"
    },
    {
     "data": {
      "text/html": [
       " View run at <a href='https://wandb.ai/marcus-lim/PCXR-DenseNet-169-Evaluation/runs/knye66zn' target=\"_blank\">https://wandb.ai/marcus-lim/PCXR-DenseNet-169-Evaluation/runs/knye66zn</a>"
      ],
      "text/plain": [
       "<IPython.core.display.HTML object>"
      ]
     },
     "metadata": {},
     "output_type": "display_data"
    },
    {
     "name": "stdout",
     "output_type": "stream",
     "text": [
      "Found 4684 files belonging to 3 classes.\n",
      "Using 3748 files for training.\n",
      "Using 936 files for validation.\n",
      "Found 1172 files belonging to 3 classes.\n",
      "Generating predictions and computing metrics for Epoch 1 \n",
      "30/30 [==============================] - 4s 71ms/step\n",
      "training loss : 0.7926528453826904 , training acc : 0.6945037245750427 , mcc score : 0.4632720351219177\n",
      "aucroc score  : 0.7031065225601196 , f1 score     : 0.6125985980033875 \n",
      "Generating predictions and computing metrics for Epoch 2 \n",
      "30/30 [==============================] - 2s 68ms/step\n",
      "training loss : 0.6070472002029419 , training acc : 0.7417289018630981 , mcc score : 0.6745797395706177\n",
      "aucroc score  : 0.9328402876853943 , f1 score     : 0.7707523703575134 \n",
      "Generating predictions and computing metrics for Epoch 3 \n",
      "30/30 [==============================] - 2s 68ms/step\n",
      "training loss : 0.5917704105377197 , training acc : 0.7561365962028503 , mcc score : 0.655549168586731\n",
      "aucroc score  : 0.9344674944877625 , f1 score     : 0.7517681121826172 \n",
      "Generating predictions and computing metrics for Epoch 4 \n",
      "30/30 [==============================] - 2s 68ms/step\n",
      "training loss : 0.5683472156524658 , training acc : 0.7641409039497375 , mcc score : 0.6042961478233337\n",
      "aucroc score  : 0.840976357460022 , f1 score     : 0.7314053177833557 \n",
      "Generating predictions and computing metrics for Epoch 5 \n",
      "30/30 [==============================] - 2s 68ms/step\n",
      "training loss : 0.5530924201011658 , training acc : 0.7750800251960754 , mcc score : 0.5894871354103088\n",
      "aucroc score  : 0.8618342876434326 , f1 score     : 0.7273513674736023 \n",
      "Generating predictions and computing metrics for Epoch 6 \n",
      "30/30 [==============================] - 2s 68ms/step\n",
      "training loss : 0.5548705458641052 , training acc : 0.7724119424819946 , mcc score : 0.6119511127471924\n",
      "aucroc score  : 0.8667159080505371 , f1 score     : 0.7402111887931824 \n",
      "Generating predictions and computing metrics for Epoch 7 \n",
      "30/30 [==============================] - 2s 68ms/step\n",
      "training loss : 0.5371618866920471 , training acc : 0.7793489694595337 , mcc score : 0.6179069876670837\n",
      "aucroc score  : 0.8647928833961487 , f1 score     : 0.742797315120697 \n",
      "Generating predictions and computing metrics for Epoch 8 \n",
      "30/30 [==============================] - 2s 69ms/step\n",
      "training loss : 0.5361915230751038 , training acc : 0.7844183444976807 , mcc score : 0.6232808828353882\n",
      "aucroc score  : 0.9022189378738403 , f1 score     : 0.7511963248252869 \n",
      "Generating predictions and computing metrics for Epoch 9 \n",
      "30/30 [==============================] - 2s 68ms/step\n",
      "training loss : 0.5402970314025879 , training acc : 0.7726787328720093 , mcc score : 0.6270800232887268\n",
      "aucroc score  : 0.8724852204322815 , f1 score     : 0.7440366148948669 \n",
      "Generating predictions and computing metrics for Epoch 10 \n",
      "30/30 [==============================] - 2s 68ms/step\n",
      "training loss : 0.5240669250488281 , training acc : 0.7846851944923401 , mcc score : 0.6188036799430847\n",
      "aucroc score  : 0.8923076391220093 , f1 score     : 0.7464237809181213 \n"
     ]
    },
    {
     "data": {
      "text/html": [
       "Waiting for W&B process to finish... <strong style=\"color:green\">(success).</strong>"
      ],
      "text/plain": [
       "<IPython.core.display.HTML object>"
      ]
     },
     "metadata": {},
     "output_type": "display_data"
    },
    {
     "data": {
      "text/html": [
       "<style>\n",
       "    table.wandb td:nth-child(1) { padding: 0 10px; text-align: left ; width: auto;} td:nth-child(2) {text-align: left ; width: 100%}\n",
       "    .wandb-row { display: flex; flex-direction: row; flex-wrap: wrap; justify-content: flex-start; width: 100% }\n",
       "    .wandb-col { display: flex; flex-direction: column; flex-basis: 100%; flex: 1; padding: 10px; }\n",
       "    </style>\n",
       "<div class=\"wandb-row\"><div class=\"wandb-col\"><h3>Run history:</h3><br/><table class=\"wandb\"><tr><td>auc_roc</td><td>▁██▅▆▆▆▇▆▇</td></tr><tr><td>epoch/accuracy</td><td>▁▅▆▆▇▇██▇█</td></tr><tr><td>epoch/epoch</td><td>▁▂▃▃▄▅▆▆▇█</td></tr><tr><td>epoch/learning_rate</td><td>▁▁▁▁▁▁▁▁▁▁</td></tr><tr><td>epoch/loss</td><td>█▃▃▂▂▂▁▁▁▁</td></tr><tr><td>epoch/val_accuracy</td><td>▁▅▃██▇▇▅▇▇</td></tr><tr><td>epoch/val_loss</td><td>▆▇█▄▃▂▁▄▁▃</td></tr><tr><td>fmeasure</td><td>▁█▇▆▆▇▇▇▇▇</td></tr><tr><td>mcc</td><td>▁█▇▆▅▆▆▆▆▆</td></tr></table><br/></div><div class=\"wandb-col\"><h3>Run summary:</h3><br/><table class=\"wandb\"><tr><td>auc_roc</td><td>0.89231</td></tr><tr><td>epoch/accuracy</td><td>0.78469</td></tr><tr><td>epoch/epoch</td><td>9</td></tr><tr><td>epoch/learning_rate</td><td>0.0044</td></tr><tr><td>epoch/loss</td><td>0.52407</td></tr><tr><td>epoch/val_accuracy</td><td>0.78419</td></tr><tr><td>epoch/val_loss</td><td>0.54646</td></tr><tr><td>fmeasure</td><td>0.74642</td></tr><tr><td>mcc</td><td>0.6188</td></tr></table><br/></div></div>"
      ],
      "text/plain": [
       "<IPython.core.display.HTML object>"
      ]
     },
     "metadata": {},
     "output_type": "display_data"
    },
    {
     "data": {
      "text/html": [
       " View run <strong style=\"color:#cdcd00\">revived-sweep-7</strong> at: <a href='https://wandb.ai/marcus-lim/PCXR-DenseNet-169-Evaluation/runs/knye66zn' target=\"_blank\">https://wandb.ai/marcus-lim/PCXR-DenseNet-169-Evaluation/runs/knye66zn</a><br/>Synced 5 W&B file(s), 0 media file(s), 0 artifact file(s) and 0 other file(s)"
      ],
      "text/plain": [
       "<IPython.core.display.HTML object>"
      ]
     },
     "metadata": {},
     "output_type": "display_data"
    },
    {
     "data": {
      "text/html": [
       "Find logs at: <code>.\\wandb\\run-20230916_123341-knye66zn\\logs</code>"
      ],
      "text/plain": [
       "<IPython.core.display.HTML object>"
      ]
     },
     "metadata": {},
     "output_type": "display_data"
    },
    {
     "name": "stderr",
     "output_type": "stream",
     "text": [
      "\u001b[34m\u001b[1mwandb\u001b[0m: Agent Starting Run: q9w1zscc with config:\n",
      "\u001b[34m\u001b[1mwandb\u001b[0m: \tbatch_size: 32\n",
      "\u001b[34m\u001b[1mwandb\u001b[0m: \tdropout_1: 0.6\n",
      "\u001b[34m\u001b[1mwandb\u001b[0m: \tdropout_2: 0.2\n",
      "\u001b[34m\u001b[1mwandb\u001b[0m: \tdropout_3: 0.8\n",
      "\u001b[34m\u001b[1mwandb\u001b[0m: \tepochs: 10\n",
      "\u001b[34m\u001b[1mwandb\u001b[0m: \tfc_layer_size_1: 256\n",
      "\u001b[34m\u001b[1mwandb\u001b[0m: \tfc_layer_size_2: 512\n",
      "\u001b[34m\u001b[1mwandb\u001b[0m: \tlearning_rate: 0.0039532139179563825\n",
      "\u001b[34m\u001b[1mwandb\u001b[0m: \toptimiser: adam\n",
      "Failed to detect the name of this notebook, you can set it manually with the WANDB_NOTEBOOK_NAME environment variable to enable code saving.\n"
     ]
    },
    {
     "data": {
      "text/html": [
       "wandb version 0.15.10 is available!  To upgrade, please run:\n",
       " $ pip install wandb --upgrade"
      ],
      "text/plain": [
       "<IPython.core.display.HTML object>"
      ]
     },
     "metadata": {},
     "output_type": "display_data"
    },
    {
     "data": {
      "text/html": [
       "Tracking run with wandb version 0.15.5"
      ],
      "text/plain": [
       "<IPython.core.display.HTML object>"
      ]
     },
     "metadata": {},
     "output_type": "display_data"
    },
    {
     "data": {
      "text/html": [
       "Run data is saved locally in <code>c:\\Users\\User\\Projects\\pneumonia-xray-classification\\notebooks\\wandb\\run-20230916_124542-q9w1zscc</code>"
      ],
      "text/plain": [
       "<IPython.core.display.HTML object>"
      ]
     },
     "metadata": {},
     "output_type": "display_data"
    },
    {
     "data": {
      "text/html": [
       "Syncing run <strong><a href='https://wandb.ai/marcus-lim/PCXR-DenseNet-169-Evaluation/runs/q9w1zscc' target=\"_blank\">northern-sweep-8</a></strong> to <a href='https://wandb.ai/marcus-lim/PCXR-DenseNet-169-Evaluation' target=\"_blank\">Weights & Biases</a> (<a href='https://wandb.me/run' target=\"_blank\">docs</a>)<br/>Sweep page: <a href='https://wandb.ai/marcus-lim/PCXR-DenseNet-169-Evaluation/sweeps/tzhu0pmo' target=\"_blank\">https://wandb.ai/marcus-lim/PCXR-DenseNet-169-Evaluation/sweeps/tzhu0pmo</a>"
      ],
      "text/plain": [
       "<IPython.core.display.HTML object>"
      ]
     },
     "metadata": {},
     "output_type": "display_data"
    },
    {
     "data": {
      "text/html": [
       " View project at <a href='https://wandb.ai/marcus-lim/PCXR-DenseNet-169-Evaluation' target=\"_blank\">https://wandb.ai/marcus-lim/PCXR-DenseNet-169-Evaluation</a>"
      ],
      "text/plain": [
       "<IPython.core.display.HTML object>"
      ]
     },
     "metadata": {},
     "output_type": "display_data"
    },
    {
     "data": {
      "text/html": [
       " View sweep at <a href='https://wandb.ai/marcus-lim/PCXR-DenseNet-169-Evaluation/sweeps/tzhu0pmo' target=\"_blank\">https://wandb.ai/marcus-lim/PCXR-DenseNet-169-Evaluation/sweeps/tzhu0pmo</a>"
      ],
      "text/plain": [
       "<IPython.core.display.HTML object>"
      ]
     },
     "metadata": {},
     "output_type": "display_data"
    },
    {
     "data": {
      "text/html": [
       " View run at <a href='https://wandb.ai/marcus-lim/PCXR-DenseNet-169-Evaluation/runs/q9w1zscc' target=\"_blank\">https://wandb.ai/marcus-lim/PCXR-DenseNet-169-Evaluation/runs/q9w1zscc</a>"
      ],
      "text/plain": [
       "<IPython.core.display.HTML object>"
      ]
     },
     "metadata": {},
     "output_type": "display_data"
    },
    {
     "name": "stdout",
     "output_type": "stream",
     "text": [
      "Found 4684 files belonging to 3 classes.\n",
      "Using 3748 files for training.\n",
      "Using 936 files for validation.\n",
      "Found 1172 files belonging to 3 classes.\n",
      "Generating predictions and computing metrics for Epoch 1 \n",
      "30/30 [==============================] - 4s 71ms/step\n",
      "training loss : 0.7533041834831238 , training acc : 0.6840981841087341 , mcc score : 0.5437143445014954\n",
      "aucroc score  : 0.8646450042724609 , f1 score     : 0.6632578372955322 \n",
      "Generating predictions and computing metrics for Epoch 2 \n",
      "30/30 [==============================] - 2s 68ms/step\n",
      "training loss : 0.6255013942718506 , training acc : 0.7337246537208557 , mcc score : 0.5886865258216858\n",
      "aucroc score  : 0.8355029225349426 , f1 score     : 0.7186735272407532 \n",
      "Generating predictions and computing metrics for Epoch 3 \n",
      "30/30 [==============================] - 2s 68ms/step\n",
      "training loss : 0.6228559017181396 , training acc : 0.743596613407135 , mcc score : 0.6513809561729431\n",
      "aucroc score  : 0.9051775336265564 , f1 score     : 0.7627546191215515 \n",
      "Generating predictions and computing metrics for Epoch 4 \n",
      "30/30 [==============================] - 2s 68ms/step\n",
      "training loss : 0.5901439189910889 , training acc : 0.7540021538734436 , mcc score : 0.6155011057853699\n",
      "aucroc score  : 0.8687869906425476 , f1 score     : 0.7417505383491516 \n",
      "Generating predictions and computing metrics for Epoch 5 \n",
      "30/30 [==============================] - 2s 68ms/step\n",
      "training loss : 0.573540449142456 , training acc : 0.7630736231803894 , mcc score : 0.609741747379303\n",
      "aucroc score  : 0.8532544374465942 , f1 score     : 0.7354047894477844 \n",
      "Generating predictions and computing metrics for Epoch 6 \n",
      "30/30 [==============================] - 2s 68ms/step\n",
      "training loss : 0.5840156674385071 , training acc : 0.7617396116256714 , mcc score : 0.5970134139060974\n",
      "aucroc score  : 0.8949704170227051 , f1 score     : 0.7291576862335205 \n",
      "Generating predictions and computing metrics for Epoch 7 \n",
      "30/30 [==============================] - 2s 68ms/step\n",
      "training loss : 0.557644784450531 , training acc : 0.7684098482131958 , mcc score : 0.6169229745864868\n",
      "aucroc score  : 0.8681952953338623 , f1 score     : 0.7426117062568665 \n",
      "Generating predictions and computing metrics for Epoch 8 \n",
      "30/30 [==============================] - 2s 68ms/step\n",
      "training loss : 0.5714373588562012 , training acc : 0.7630736231803894 , mcc score : 0.5799840092658997\n",
      "aucroc score  : 0.8458580374717712 , f1 score     : 0.7193558812141418 \n",
      "Generating predictions and computing metrics for Epoch 9 \n",
      "30/30 [==============================] - 2s 68ms/step\n",
      "training loss : 0.5594364404678345 , training acc : 0.7745464444160461 , mcc score : 0.6321401000022888\n",
      "aucroc score  : 0.8782544136047363 , f1 score     : 0.7498573660850525 \n",
      "Generating predictions and computing metrics for Epoch 10 \n",
      "30/30 [==============================] - 2s 68ms/step\n",
      "training loss : 0.5402379035949707 , training acc : 0.7838847637176514 , mcc score : 0.6647487282752991\n",
      "aucroc score  : 0.9204142093658447 , f1 score     : 0.7701637148857117 \n"
     ]
    },
    {
     "data": {
      "text/html": [
       "Waiting for W&B process to finish... <strong style=\"color:green\">(success).</strong>"
      ],
      "text/plain": [
       "<IPython.core.display.HTML object>"
      ]
     },
     "metadata": {},
     "output_type": "display_data"
    },
    {
     "data": {
      "text/html": [
       "<style>\n",
       "    table.wandb td:nth-child(1) { padding: 0 10px; text-align: left ; width: auto;} td:nth-child(2) {text-align: left ; width: 100%}\n",
       "    .wandb-row { display: flex; flex-direction: row; flex-wrap: wrap; justify-content: flex-start; width: 100% }\n",
       "    .wandb-col { display: flex; flex-direction: column; flex-basis: 100%; flex: 1; padding: 10px; }\n",
       "    </style>\n",
       "<div class=\"wandb-row\"><div class=\"wandb-col\"><h3>Run history:</h3><br/><table class=\"wandb\"><tr><td>auc_roc</td><td>▃▁▇▄▂▆▄▂▅█</td></tr><tr><td>epoch/accuracy</td><td>▁▄▅▆▇▆▇▇▇█</td></tr><tr><td>epoch/epoch</td><td>▁▂▃▃▄▅▆▆▇█</td></tr><tr><td>epoch/learning_rate</td><td>▁▁▁▁▁▁▁▁▁▁</td></tr><tr><td>epoch/loss</td><td>█▄▄▃▂▂▂▂▂▁</td></tr><tr><td>epoch/val_accuracy</td><td>▁▆▅▆█▄▇▆▆▇</td></tr><tr><td>epoch/val_loss</td><td>█▄▅▄▁▅▁▁▂▄</td></tr><tr><td>fmeasure</td><td>▁▅█▆▆▅▆▅▇█</td></tr><tr><td>mcc</td><td>▁▄▇▅▅▄▅▃▆█</td></tr></table><br/></div><div class=\"wandb-col\"><h3>Run summary:</h3><br/><table class=\"wandb\"><tr><td>auc_roc</td><td>0.92041</td></tr><tr><td>epoch/accuracy</td><td>0.78388</td></tr><tr><td>epoch/epoch</td><td>9</td></tr><tr><td>epoch/learning_rate</td><td>0.00395</td></tr><tr><td>epoch/loss</td><td>0.54024</td></tr><tr><td>epoch/val_accuracy</td><td>0.78846</td></tr><tr><td>epoch/val_loss</td><td>0.56045</td></tr><tr><td>fmeasure</td><td>0.77016</td></tr><tr><td>mcc</td><td>0.66475</td></tr></table><br/></div></div>"
      ],
      "text/plain": [
       "<IPython.core.display.HTML object>"
      ]
     },
     "metadata": {},
     "output_type": "display_data"
    },
    {
     "data": {
      "text/html": [
       " View run <strong style=\"color:#cdcd00\">northern-sweep-8</strong> at: <a href='https://wandb.ai/marcus-lim/PCXR-DenseNet-169-Evaluation/runs/q9w1zscc' target=\"_blank\">https://wandb.ai/marcus-lim/PCXR-DenseNet-169-Evaluation/runs/q9w1zscc</a><br/>Synced 5 W&B file(s), 0 media file(s), 0 artifact file(s) and 0 other file(s)"
      ],
      "text/plain": [
       "<IPython.core.display.HTML object>"
      ]
     },
     "metadata": {},
     "output_type": "display_data"
    },
    {
     "data": {
      "text/html": [
       "Find logs at: <code>.\\wandb\\run-20230916_124542-q9w1zscc\\logs</code>"
      ],
      "text/plain": [
       "<IPython.core.display.HTML object>"
      ]
     },
     "metadata": {},
     "output_type": "display_data"
    },
    {
     "name": "stderr",
     "output_type": "stream",
     "text": [
      "\u001b[34m\u001b[1mwandb\u001b[0m: Sweep Agent: Waiting for job.\n",
      "\u001b[34m\u001b[1mwandb\u001b[0m: Job received.\n",
      "\u001b[34m\u001b[1mwandb\u001b[0m: Agent Starting Run: oz0aqcj5 with config:\n",
      "\u001b[34m\u001b[1mwandb\u001b[0m: \tbatch_size: 32\n",
      "\u001b[34m\u001b[1mwandb\u001b[0m: \tdropout_1: 0.6\n",
      "\u001b[34m\u001b[1mwandb\u001b[0m: \tdropout_2: 0.6\n",
      "\u001b[34m\u001b[1mwandb\u001b[0m: \tdropout_3: 0.2\n",
      "\u001b[34m\u001b[1mwandb\u001b[0m: \tepochs: 10\n",
      "\u001b[34m\u001b[1mwandb\u001b[0m: \tfc_layer_size_1: 64\n",
      "\u001b[34m\u001b[1mwandb\u001b[0m: \tfc_layer_size_2: 16\n",
      "\u001b[34m\u001b[1mwandb\u001b[0m: \tlearning_rate: 0.0021761298818152646\n",
      "\u001b[34m\u001b[1mwandb\u001b[0m: \toptimiser: sgd\n",
      "Failed to detect the name of this notebook, you can set it manually with the WANDB_NOTEBOOK_NAME environment variable to enable code saving.\n"
     ]
    },
    {
     "data": {
      "text/html": [
       "wandb version 0.15.10 is available!  To upgrade, please run:\n",
       " $ pip install wandb --upgrade"
      ],
      "text/plain": [
       "<IPython.core.display.HTML object>"
      ]
     },
     "metadata": {},
     "output_type": "display_data"
    },
    {
     "data": {
      "text/html": [
       "Tracking run with wandb version 0.15.5"
      ],
      "text/plain": [
       "<IPython.core.display.HTML object>"
      ]
     },
     "metadata": {},
     "output_type": "display_data"
    },
    {
     "data": {
      "text/html": [
       "Run data is saved locally in <code>c:\\Users\\User\\Projects\\pneumonia-xray-classification\\notebooks\\wandb\\run-20230916_125749-oz0aqcj5</code>"
      ],
      "text/plain": [
       "<IPython.core.display.HTML object>"
      ]
     },
     "metadata": {},
     "output_type": "display_data"
    },
    {
     "data": {
      "text/html": [
       "Syncing run <strong><a href='https://wandb.ai/marcus-lim/PCXR-DenseNet-169-Evaluation/runs/oz0aqcj5' target=\"_blank\">easy-sweep-9</a></strong> to <a href='https://wandb.ai/marcus-lim/PCXR-DenseNet-169-Evaluation' target=\"_blank\">Weights & Biases</a> (<a href='https://wandb.me/run' target=\"_blank\">docs</a>)<br/>Sweep page: <a href='https://wandb.ai/marcus-lim/PCXR-DenseNet-169-Evaluation/sweeps/tzhu0pmo' target=\"_blank\">https://wandb.ai/marcus-lim/PCXR-DenseNet-169-Evaluation/sweeps/tzhu0pmo</a>"
      ],
      "text/plain": [
       "<IPython.core.display.HTML object>"
      ]
     },
     "metadata": {},
     "output_type": "display_data"
    },
    {
     "data": {
      "text/html": [
       " View project at <a href='https://wandb.ai/marcus-lim/PCXR-DenseNet-169-Evaluation' target=\"_blank\">https://wandb.ai/marcus-lim/PCXR-DenseNet-169-Evaluation</a>"
      ],
      "text/plain": [
       "<IPython.core.display.HTML object>"
      ]
     },
     "metadata": {},
     "output_type": "display_data"
    },
    {
     "data": {
      "text/html": [
       " View sweep at <a href='https://wandb.ai/marcus-lim/PCXR-DenseNet-169-Evaluation/sweeps/tzhu0pmo' target=\"_blank\">https://wandb.ai/marcus-lim/PCXR-DenseNet-169-Evaluation/sweeps/tzhu0pmo</a>"
      ],
      "text/plain": [
       "<IPython.core.display.HTML object>"
      ]
     },
     "metadata": {},
     "output_type": "display_data"
    },
    {
     "data": {
      "text/html": [
       " View run at <a href='https://wandb.ai/marcus-lim/PCXR-DenseNet-169-Evaluation/runs/oz0aqcj5' target=\"_blank\">https://wandb.ai/marcus-lim/PCXR-DenseNet-169-Evaluation/runs/oz0aqcj5</a>"
      ],
      "text/plain": [
       "<IPython.core.display.HTML object>"
      ]
     },
     "metadata": {},
     "output_type": "display_data"
    },
    {
     "name": "stdout",
     "output_type": "stream",
     "text": [
      "Found 4684 files belonging to 3 classes.\n",
      "Using 3748 files for training.\n",
      "Using 936 files for validation.\n",
      "Found 1172 files belonging to 3 classes.\n",
      "Generating predictions and computing metrics for Epoch 1 \n",
      "30/30 [==============================] - 4s 71ms/step\n",
      "training loss : 1.117362380027771 , training acc : 0.39247599244117737 , mcc score : 0.16010154783725739\n",
      "aucroc score  : 0.5301775336265564 , f1 score     : 0.37627890706062317 \n",
      "Generating predictions and computing metrics for Epoch 2 \n",
      "30/30 [==============================] - 2s 68ms/step\n",
      "training loss : 1.0005669593811035 , training acc : 0.5026680827140808 , mcc score : 0.3536517024040222\n",
      "aucroc score  : 0.6463017463684082 , f1 score     : 0.540841281414032 \n",
      "Generating predictions and computing metrics for Epoch 3 \n",
      "30/30 [==============================] - 2s 68ms/step\n",
      "training loss : 0.9220191240310669 , training acc : 0.5688366889953613 , mcc score : 0.4431070387363434\n",
      "aucroc score  : 0.7384615540504456 , f1 score     : 0.6175940036773682 \n",
      "Generating predictions and computing metrics for Epoch 4 \n",
      "30/30 [==============================] - 2s 68ms/step\n",
      "training loss : 0.8744423389434814 , training acc : 0.6093916893005371 , mcc score : 0.4966198801994324\n",
      "aucroc score  : 0.7823964357376099 , f1 score     : 0.6546397805213928 \n",
      "Generating predictions and computing metrics for Epoch 5 \n",
      "30/30 [==============================] - 2s 68ms/step\n",
      "training loss : 0.8302379250526428 , training acc : 0.6435432434082031 , mcc score : 0.513282299041748\n",
      "aucroc score  : 0.8001478910446167 , f1 score     : 0.6670807003974915 \n",
      "Generating predictions and computing metrics for Epoch 6 \n",
      "30/30 [==============================] - 2s 68ms/step\n",
      "training loss : 0.78141850233078 , training acc : 0.671558141708374 , mcc score : 0.5370948314666748\n",
      "aucroc score  : 0.8165680170059204 , f1 score     : 0.6836719512939453 \n",
      "Generating predictions and computing metrics for Epoch 7 \n",
      "30/30 [==============================] - 2s 69ms/step\n",
      "training loss : 0.7593498826026917 , training acc : 0.6784951686859131 , mcc score : 0.5428845882415771\n",
      "aucroc score  : 0.8326923251152039 , f1 score     : 0.6883978843688965 \n",
      "Generating predictions and computing metrics for Epoch 8 \n",
      "30/30 [==============================] - 2s 68ms/step\n",
      "training loss : 0.7466500401496887 , training acc : 0.6926360726356506 , mcc score : 0.549171507358551\n",
      "aucroc score  : 0.8399408459663391 , f1 score     : 0.6929243206977844 \n",
      "Generating predictions and computing metrics for Epoch 9 \n",
      "30/30 [==============================] - 2s 68ms/step\n",
      "training loss : 0.7315307259559631 , training acc : 0.6955709457397461 , mcc score : 0.5549836754798889\n",
      "aucroc score  : 0.8445266485214233 , f1 score     : 0.6980392932891846 \n",
      "Generating predictions and computing metrics for Epoch 10 \n",
      "30/30 [==============================] - 2s 68ms/step\n",
      "training loss : 0.71672123670578 , training acc : 0.7059765458106995 , mcc score : 0.5488840341567993\n",
      "aucroc score  : 0.8363905549049377 , f1 score     : 0.6942415833473206 \n"
     ]
    },
    {
     "data": {
      "text/html": [
       "Waiting for W&B process to finish... <strong style=\"color:green\">(success).</strong>"
      ],
      "text/plain": [
       "<IPython.core.display.HTML object>"
      ]
     },
     "metadata": {},
     "output_type": "display_data"
    },
    {
     "data": {
      "text/html": [
       "<style>\n",
       "    table.wandb td:nth-child(1) { padding: 0 10px; text-align: left ; width: auto;} td:nth-child(2) {text-align: left ; width: 100%}\n",
       "    .wandb-row { display: flex; flex-direction: row; flex-wrap: wrap; justify-content: flex-start; width: 100% }\n",
       "    .wandb-col { display: flex; flex-direction: column; flex-basis: 100%; flex: 1; padding: 10px; }\n",
       "    </style>\n",
       "<div class=\"wandb-row\"><div class=\"wandb-col\"><h3>Run history:</h3><br/><table class=\"wandb\"><tr><td>auc_roc</td><td>▁▄▆▇▇▇████</td></tr><tr><td>epoch/accuracy</td><td>▁▃▅▆▇▇▇███</td></tr><tr><td>epoch/epoch</td><td>▁▂▃▃▄▅▆▆▇█</td></tr><tr><td>epoch/learning_rate</td><td>▁▁▁▁▁▁▁▁▁▁</td></tr><tr><td>epoch/loss</td><td>█▆▅▄▃▂▂▂▁▁</td></tr><tr><td>epoch/val_accuracy</td><td>▁▆▆▇▇█████</td></tr><tr><td>epoch/val_loss</td><td>█▆▅▄▃▂▂▂▁▁</td></tr><tr><td>fmeasure</td><td>▁▅▆▇▇█████</td></tr><tr><td>mcc</td><td>▁▄▆▇▇█████</td></tr></table><br/></div><div class=\"wandb-col\"><h3>Run summary:</h3><br/><table class=\"wandb\"><tr><td>auc_roc</td><td>0.83639</td></tr><tr><td>epoch/accuracy</td><td>0.70598</td></tr><tr><td>epoch/epoch</td><td>9</td></tr><tr><td>epoch/learning_rate</td><td>0.00218</td></tr><tr><td>epoch/loss</td><td>0.71672</td></tr><tr><td>epoch/val_accuracy</td><td>0.74573</td></tr><tr><td>epoch/val_loss</td><td>0.63464</td></tr><tr><td>fmeasure</td><td>0.69424</td></tr><tr><td>mcc</td><td>0.54888</td></tr></table><br/></div></div>"
      ],
      "text/plain": [
       "<IPython.core.display.HTML object>"
      ]
     },
     "metadata": {},
     "output_type": "display_data"
    },
    {
     "data": {
      "text/html": [
       " View run <strong style=\"color:#cdcd00\">easy-sweep-9</strong> at: <a href='https://wandb.ai/marcus-lim/PCXR-DenseNet-169-Evaluation/runs/oz0aqcj5' target=\"_blank\">https://wandb.ai/marcus-lim/PCXR-DenseNet-169-Evaluation/runs/oz0aqcj5</a><br/>Synced 5 W&B file(s), 0 media file(s), 0 artifact file(s) and 0 other file(s)"
      ],
      "text/plain": [
       "<IPython.core.display.HTML object>"
      ]
     },
     "metadata": {},
     "output_type": "display_data"
    },
    {
     "data": {
      "text/html": [
       "Find logs at: <code>.\\wandb\\run-20230916_125749-oz0aqcj5\\logs</code>"
      ],
      "text/plain": [
       "<IPython.core.display.HTML object>"
      ]
     },
     "metadata": {},
     "output_type": "display_data"
    },
    {
     "name": "stderr",
     "output_type": "stream",
     "text": [
      "\u001b[34m\u001b[1mwandb\u001b[0m: Agent Starting Run: eqani4ut with config:\n",
      "\u001b[34m\u001b[1mwandb\u001b[0m: \tbatch_size: 32\n",
      "\u001b[34m\u001b[1mwandb\u001b[0m: \tdropout_1: 0.2\n",
      "\u001b[34m\u001b[1mwandb\u001b[0m: \tdropout_2: 0.6\n",
      "\u001b[34m\u001b[1mwandb\u001b[0m: \tdropout_3: 0.6\n",
      "\u001b[34m\u001b[1mwandb\u001b[0m: \tepochs: 10\n",
      "\u001b[34m\u001b[1mwandb\u001b[0m: \tfc_layer_size_1: 512\n",
      "\u001b[34m\u001b[1mwandb\u001b[0m: \tfc_layer_size_2: 16\n",
      "\u001b[34m\u001b[1mwandb\u001b[0m: \tlearning_rate: 0.002301598735076418\n",
      "\u001b[34m\u001b[1mwandb\u001b[0m: \toptimiser: sgd\n",
      "Failed to detect the name of this notebook, you can set it manually with the WANDB_NOTEBOOK_NAME environment variable to enable code saving.\n"
     ]
    },
    {
     "data": {
      "text/html": [
       "wandb version 0.15.10 is available!  To upgrade, please run:\n",
       " $ pip install wandb --upgrade"
      ],
      "text/plain": [
       "<IPython.core.display.HTML object>"
      ]
     },
     "metadata": {},
     "output_type": "display_data"
    },
    {
     "data": {
      "text/html": [
       "Tracking run with wandb version 0.15.5"
      ],
      "text/plain": [
       "<IPython.core.display.HTML object>"
      ]
     },
     "metadata": {},
     "output_type": "display_data"
    },
    {
     "data": {
      "text/html": [
       "Run data is saved locally in <code>c:\\Users\\User\\Projects\\pneumonia-xray-classification\\notebooks\\wandb\\run-20230916_130944-eqani4ut</code>"
      ],
      "text/plain": [
       "<IPython.core.display.HTML object>"
      ]
     },
     "metadata": {},
     "output_type": "display_data"
    },
    {
     "data": {
      "text/html": [
       "Syncing run <strong><a href='https://wandb.ai/marcus-lim/PCXR-DenseNet-169-Evaluation/runs/eqani4ut' target=\"_blank\">iconic-sweep-10</a></strong> to <a href='https://wandb.ai/marcus-lim/PCXR-DenseNet-169-Evaluation' target=\"_blank\">Weights & Biases</a> (<a href='https://wandb.me/run' target=\"_blank\">docs</a>)<br/>Sweep page: <a href='https://wandb.ai/marcus-lim/PCXR-DenseNet-169-Evaluation/sweeps/tzhu0pmo' target=\"_blank\">https://wandb.ai/marcus-lim/PCXR-DenseNet-169-Evaluation/sweeps/tzhu0pmo</a>"
      ],
      "text/plain": [
       "<IPython.core.display.HTML object>"
      ]
     },
     "metadata": {},
     "output_type": "display_data"
    },
    {
     "data": {
      "text/html": [
       " View project at <a href='https://wandb.ai/marcus-lim/PCXR-DenseNet-169-Evaluation' target=\"_blank\">https://wandb.ai/marcus-lim/PCXR-DenseNet-169-Evaluation</a>"
      ],
      "text/plain": [
       "<IPython.core.display.HTML object>"
      ]
     },
     "metadata": {},
     "output_type": "display_data"
    },
    {
     "data": {
      "text/html": [
       " View sweep at <a href='https://wandb.ai/marcus-lim/PCXR-DenseNet-169-Evaluation/sweeps/tzhu0pmo' target=\"_blank\">https://wandb.ai/marcus-lim/PCXR-DenseNet-169-Evaluation/sweeps/tzhu0pmo</a>"
      ],
      "text/plain": [
       "<IPython.core.display.HTML object>"
      ]
     },
     "metadata": {},
     "output_type": "display_data"
    },
    {
     "data": {
      "text/html": [
       " View run at <a href='https://wandb.ai/marcus-lim/PCXR-DenseNet-169-Evaluation/runs/eqani4ut' target=\"_blank\">https://wandb.ai/marcus-lim/PCXR-DenseNet-169-Evaluation/runs/eqani4ut</a>"
      ],
      "text/plain": [
       "<IPython.core.display.HTML object>"
      ]
     },
     "metadata": {},
     "output_type": "display_data"
    },
    {
     "name": "stdout",
     "output_type": "stream",
     "text": [
      "Found 4684 files belonging to 3 classes.\n",
      "Using 3748 files for training.\n",
      "Using 936 files for validation.\n",
      "Found 1172 files belonging to 3 classes.\n",
      "Generating predictions and computing metrics for Epoch 1 \n",
      "30/30 [==============================] - 4s 68ms/step\n",
      "training loss : 1.150408387184143 , training acc : 0.45517608523368835 , mcc score : 0.4896189570426941\n",
      "aucroc score  : 0.8205621242523193 , f1 score     : 0.6464369893074036 \n",
      "Generating predictions and computing metrics for Epoch 2 \n",
      "30/30 [==============================] - 2s 68ms/step\n",
      "training loss : 0.9286518692970276 , training acc : 0.6104589104652405 , mcc score : 0.48204565048217773\n",
      "aucroc score  : 0.7545858025550842 , f1 score     : 0.6299467086791992 \n",
      "Generating predictions and computing metrics for Epoch 3 \n",
      "30/30 [==============================] - 2s 68ms/step\n",
      "training loss : 0.8155524134635925 , training acc : 0.6696904897689819 , mcc score : 0.5312036275863647\n",
      "aucroc score  : 0.7924555540084839 , f1 score     : 0.6740959286689758 \n",
      "Generating predictions and computing metrics for Epoch 4 \n",
      "30/30 [==============================] - 2s 68ms/step\n",
      "training loss : 0.7767860293388367 , training acc : 0.6934365034103394 , mcc score : 0.5209299325942993\n",
      "aucroc score  : 0.7707099914550781 , f1 score     : 0.6622282862663269 \n",
      "Generating predictions and computing metrics for Epoch 5 \n",
      "30/30 [==============================] - 2s 67ms/step\n",
      "training loss : 0.7463277578353882 , training acc : 0.7070437669754028 , mcc score : 0.5339004993438721\n",
      "aucroc score  : 0.7868342995643616 , f1 score     : 0.674233615398407 \n",
      "Generating predictions and computing metrics for Epoch 6 \n",
      "30/30 [==============================] - 2s 68ms/step\n",
      "training loss : 0.7125449180603027 , training acc : 0.7115795016288757 , mcc score : 0.5386459827423096\n",
      "aucroc score  : 0.7844674587249756 , f1 score     : 0.6775481700897217 \n",
      "Generating predictions and computing metrics for Epoch 7 \n",
      "30/30 [==============================] - 2s 68ms/step\n",
      "training loss : 0.7015732526779175 , training acc : 0.714514434337616 , mcc score : 0.537710428237915\n",
      "aucroc score  : 0.7794378995895386 , f1 score     : 0.6759031414985657 \n",
      "Generating predictions and computing metrics for Epoch 8 \n",
      "30/30 [==============================] - 2s 68ms/step\n",
      "training loss : 0.6643734574317932 , training acc : 0.7275880575180054 , mcc score : 0.540481686592102\n",
      "aucroc score  : 0.780917227268219 , f1 score     : 0.6787217259407043 \n",
      "Generating predictions and computing metrics for Epoch 9 \n",
      "30/30 [==============================] - 2s 68ms/step\n",
      "training loss : 0.6567950248718262 , training acc : 0.7259871959686279 , mcc score : 0.5406454801559448\n",
      "aucroc score  : 0.7751478552818298 , f1 score     : 0.6780416369438171 \n",
      "Generating predictions and computing metrics for Epoch 10 \n",
      "30/30 [==============================] - 2s 68ms/step\n",
      "training loss : 0.6300170421600342 , training acc : 0.7414621114730835 , mcc score : 0.5512661337852478\n",
      "aucroc score  : 0.7931952476501465 , f1 score     : 0.6888027191162109 \n"
     ]
    },
    {
     "data": {
      "text/html": [
       "Waiting for W&B process to finish... <strong style=\"color:green\">(success).</strong>"
      ],
      "text/plain": [
       "<IPython.core.display.HTML object>"
      ]
     },
     "metadata": {},
     "output_type": "display_data"
    },
    {
     "data": {
      "text/html": [
       "<style>\n",
       "    table.wandb td:nth-child(1) { padding: 0 10px; text-align: left ; width: auto;} td:nth-child(2) {text-align: left ; width: 100%}\n",
       "    .wandb-row { display: flex; flex-direction: row; flex-wrap: wrap; justify-content: flex-start; width: 100% }\n",
       "    .wandb-col { display: flex; flex-direction: column; flex-basis: 100%; flex: 1; padding: 10px; }\n",
       "    </style>\n",
       "<div class=\"wandb-row\"><div class=\"wandb-col\"><h3>Run history:</h3><br/><table class=\"wandb\"><tr><td>auc_roc</td><td>█▁▅▃▄▄▄▄▃▅</td></tr><tr><td>epoch/accuracy</td><td>▁▅▆▇▇▇▇███</td></tr><tr><td>epoch/epoch</td><td>▁▂▃▃▄▅▆▆▇█</td></tr><tr><td>epoch/learning_rate</td><td>▁▁▁▁▁▁▁▁▁▁</td></tr><tr><td>epoch/loss</td><td>█▅▃▃▃▂▂▁▁▁</td></tr><tr><td>epoch/val_accuracy</td><td>▁▃▅▆▇▇▇███</td></tr><tr><td>epoch/val_loss</td><td>█▆▄▃▃▂▂▂▁▁</td></tr><tr><td>fmeasure</td><td>▃▁▆▅▆▇▆▇▇█</td></tr><tr><td>mcc</td><td>▂▁▆▅▆▇▇▇▇█</td></tr></table><br/></div><div class=\"wandb-col\"><h3>Run summary:</h3><br/><table class=\"wandb\"><tr><td>auc_roc</td><td>0.7932</td></tr><tr><td>epoch/accuracy</td><td>0.74146</td></tr><tr><td>epoch/epoch</td><td>9</td></tr><tr><td>epoch/learning_rate</td><td>0.0023</td></tr><tr><td>epoch/loss</td><td>0.63002</td></tr><tr><td>epoch/val_accuracy</td><td>0.7703</td></tr><tr><td>epoch/val_loss</td><td>0.58712</td></tr><tr><td>fmeasure</td><td>0.6888</td></tr><tr><td>mcc</td><td>0.55127</td></tr></table><br/></div></div>"
      ],
      "text/plain": [
       "<IPython.core.display.HTML object>"
      ]
     },
     "metadata": {},
     "output_type": "display_data"
    },
    {
     "data": {
      "text/html": [
       " View run <strong style=\"color:#cdcd00\">iconic-sweep-10</strong> at: <a href='https://wandb.ai/marcus-lim/PCXR-DenseNet-169-Evaluation/runs/eqani4ut' target=\"_blank\">https://wandb.ai/marcus-lim/PCXR-DenseNet-169-Evaluation/runs/eqani4ut</a><br/>Synced 5 W&B file(s), 0 media file(s), 0 artifact file(s) and 0 other file(s)"
      ],
      "text/plain": [
       "<IPython.core.display.HTML object>"
      ]
     },
     "metadata": {},
     "output_type": "display_data"
    },
    {
     "data": {
      "text/html": [
       "Find logs at: <code>.\\wandb\\run-20230916_130944-eqani4ut\\logs</code>"
      ],
      "text/plain": [
       "<IPython.core.display.HTML object>"
      ]
     },
     "metadata": {},
     "output_type": "display_data"
    },
    {
     "name": "stderr",
     "output_type": "stream",
     "text": [
      "\u001b[34m\u001b[1mwandb\u001b[0m: Agent Starting Run: sdsbv7nu with config:\n",
      "\u001b[34m\u001b[1mwandb\u001b[0m: \tbatch_size: 32\n",
      "\u001b[34m\u001b[1mwandb\u001b[0m: \tdropout_1: 0.2\n",
      "\u001b[34m\u001b[1mwandb\u001b[0m: \tdropout_2: 0.6\n",
      "\u001b[34m\u001b[1mwandb\u001b[0m: \tdropout_3: 0.2\n",
      "\u001b[34m\u001b[1mwandb\u001b[0m: \tepochs: 10\n",
      "\u001b[34m\u001b[1mwandb\u001b[0m: \tfc_layer_size_1: 256\n",
      "\u001b[34m\u001b[1mwandb\u001b[0m: \tfc_layer_size_2: 64\n",
      "\u001b[34m\u001b[1mwandb\u001b[0m: \tlearning_rate: 0.002721756553234293\n",
      "\u001b[34m\u001b[1mwandb\u001b[0m: \toptimiser: sgd\n",
      "Failed to detect the name of this notebook, you can set it manually with the WANDB_NOTEBOOK_NAME environment variable to enable code saving.\n"
     ]
    },
    {
     "data": {
      "text/html": [
       "wandb version 0.15.10 is available!  To upgrade, please run:\n",
       " $ pip install wandb --upgrade"
      ],
      "text/plain": [
       "<IPython.core.display.HTML object>"
      ]
     },
     "metadata": {},
     "output_type": "display_data"
    },
    {
     "data": {
      "text/html": [
       "Tracking run with wandb version 0.15.5"
      ],
      "text/plain": [
       "<IPython.core.display.HTML object>"
      ]
     },
     "metadata": {},
     "output_type": "display_data"
    },
    {
     "data": {
      "text/html": [
       "Run data is saved locally in <code>c:\\Users\\User\\Projects\\pneumonia-xray-classification\\notebooks\\wandb\\run-20230916_132139-sdsbv7nu</code>"
      ],
      "text/plain": [
       "<IPython.core.display.HTML object>"
      ]
     },
     "metadata": {},
     "output_type": "display_data"
    },
    {
     "data": {
      "text/html": [
       "Syncing run <strong><a href='https://wandb.ai/marcus-lim/PCXR-DenseNet-169-Evaluation/runs/sdsbv7nu' target=\"_blank\">dazzling-sweep-11</a></strong> to <a href='https://wandb.ai/marcus-lim/PCXR-DenseNet-169-Evaluation' target=\"_blank\">Weights & Biases</a> (<a href='https://wandb.me/run' target=\"_blank\">docs</a>)<br/>Sweep page: <a href='https://wandb.ai/marcus-lim/PCXR-DenseNet-169-Evaluation/sweeps/tzhu0pmo' target=\"_blank\">https://wandb.ai/marcus-lim/PCXR-DenseNet-169-Evaluation/sweeps/tzhu0pmo</a>"
      ],
      "text/plain": [
       "<IPython.core.display.HTML object>"
      ]
     },
     "metadata": {},
     "output_type": "display_data"
    },
    {
     "data": {
      "text/html": [
       " View project at <a href='https://wandb.ai/marcus-lim/PCXR-DenseNet-169-Evaluation' target=\"_blank\">https://wandb.ai/marcus-lim/PCXR-DenseNet-169-Evaluation</a>"
      ],
      "text/plain": [
       "<IPython.core.display.HTML object>"
      ]
     },
     "metadata": {},
     "output_type": "display_data"
    },
    {
     "data": {
      "text/html": [
       " View sweep at <a href='https://wandb.ai/marcus-lim/PCXR-DenseNet-169-Evaluation/sweeps/tzhu0pmo' target=\"_blank\">https://wandb.ai/marcus-lim/PCXR-DenseNet-169-Evaluation/sweeps/tzhu0pmo</a>"
      ],
      "text/plain": [
       "<IPython.core.display.HTML object>"
      ]
     },
     "metadata": {},
     "output_type": "display_data"
    },
    {
     "data": {
      "text/html": [
       " View run at <a href='https://wandb.ai/marcus-lim/PCXR-DenseNet-169-Evaluation/runs/sdsbv7nu' target=\"_blank\">https://wandb.ai/marcus-lim/PCXR-DenseNet-169-Evaluation/runs/sdsbv7nu</a>"
      ],
      "text/plain": [
       "<IPython.core.display.HTML object>"
      ]
     },
     "metadata": {},
     "output_type": "display_data"
    },
    {
     "name": "stdout",
     "output_type": "stream",
     "text": [
      "Found 4684 files belonging to 3 classes.\n",
      "Using 3748 files for training.\n",
      "Using 936 files for validation.\n",
      "Found 1172 files belonging to 3 classes.\n",
      "Generating predictions and computing metrics for Epoch 1 \n",
      "30/30 [==============================] - 4s 69ms/step\n",
      "training loss : 0.9838644862174988 , training acc : 0.5141409039497375 , mcc score : 0.45070427656173706\n",
      "aucroc score  : 0.7769230604171753 , f1 score     : 0.6284152865409851 \n",
      "Generating predictions and computing metrics for Epoch 2 \n",
      "30/30 [==============================] - 2s 68ms/step\n",
      "training loss : 0.7740462422370911 , training acc : 0.6712913513183594 , mcc score : 0.49329930543899536\n",
      "aucroc score  : 0.7769230604171753 , f1 score     : 0.6563209891319275 \n",
      "Generating predictions and computing metrics for Epoch 3 \n",
      "30/30 [==============================] - 2s 68ms/step\n",
      "training loss : 0.6934950351715088 , training acc : 0.7099786400794983 , mcc score : 0.524945855140686\n",
      "aucroc score  : 0.8035503625869751 , f1 score     : 0.6794173121452332 \n",
      "Generating predictions and computing metrics for Epoch 4 \n",
      "30/30 [==============================] - 2s 68ms/step\n",
      "training loss : 0.6563537120819092 , training acc : 0.7307897806167603 , mcc score : 0.5317246317863464\n",
      "aucroc score  : 0.7976331114768982 , f1 score     : 0.6827775835990906 \n",
      "Generating predictions and computing metrics for Epoch 5 \n",
      "30/30 [==============================] - 2s 68ms/step\n",
      "training loss : 0.633117139339447 , training acc : 0.7430629730224609 , mcc score : 0.511267364025116\n",
      "aucroc score  : 0.7760355472564697 , f1 score     : 0.6660115718841553 \n",
      "Generating predictions and computing metrics for Epoch 6 \n",
      "30/30 [==============================] - 2s 68ms/step\n",
      "training loss : 0.6089033484458923 , training acc : 0.7510672211647034 , mcc score : 0.49949154257774353\n",
      "aucroc score  : 0.7563608884811401 , f1 score     : 0.6540411114692688 \n",
      "Generating predictions and computing metrics for Epoch 7 \n",
      "30/30 [==============================] - 2s 68ms/step\n",
      "training loss : 0.6077920794487 , training acc : 0.7588046789169312 , mcc score : 0.5265702605247498\n",
      "aucroc score  : 0.784023642539978 , f1 score     : 0.6762849688529968 \n",
      "Generating predictions and computing metrics for Epoch 8 \n",
      "30/30 [==============================] - 2s 70ms/step\n",
      "training loss : 0.593453049659729 , training acc : 0.7612059712409973 , mcc score : 0.5169730186462402\n",
      "aucroc score  : 0.7701183557510376 , f1 score     : 0.6665998697280884 \n",
      "Generating predictions and computing metrics for Epoch 9 \n",
      "30/30 [==============================] - 2s 70ms/step\n",
      "training loss : 0.5778395533561707 , training acc : 0.7649412751197815 , mcc score : 0.5342769622802734\n",
      "aucroc score  : 0.7924556136131287 , f1 score     : 0.6832383275032043 \n",
      "Generating predictions and computing metrics for Epoch 10 \n",
      "30/30 [==============================] - 2s 70ms/step\n",
      "training loss : 0.5676405429840088 , training acc : 0.7662753462791443 , mcc score : 0.5423350930213928\n",
      "aucroc score  : 0.7974852323532104 , f1 score     : 0.6884159445762634 \n"
     ]
    },
    {
     "data": {
      "text/html": [
       "Waiting for W&B process to finish... <strong style=\"color:green\">(success).</strong>"
      ],
      "text/plain": [
       "<IPython.core.display.HTML object>"
      ]
     },
     "metadata": {},
     "output_type": "display_data"
    },
    {
     "data": {
      "text/html": [
       "<style>\n",
       "    table.wandb td:nth-child(1) { padding: 0 10px; text-align: left ; width: auto;} td:nth-child(2) {text-align: left ; width: 100%}\n",
       "    .wandb-row { display: flex; flex-direction: row; flex-wrap: wrap; justify-content: flex-start; width: 100% }\n",
       "    .wandb-col { display: flex; flex-direction: column; flex-basis: 100%; flex: 1; padding: 10px; }\n",
       "    </style>\n",
       "<div class=\"wandb-row\"><div class=\"wandb-col\"><h3>Run history:</h3><br/><table class=\"wandb\"><tr><td>auc_roc</td><td>▄▄█▇▄▁▅▃▆▇</td></tr><tr><td>epoch/accuracy</td><td>▁▅▆▇▇█████</td></tr><tr><td>epoch/epoch</td><td>▁▂▃▃▄▅▆▆▇█</td></tr><tr><td>epoch/learning_rate</td><td>▁▁▁▁▁▁▁▁▁▁</td></tr><tr><td>epoch/loss</td><td>█▄▃▂▂▂▂▁▁▁</td></tr><tr><td>epoch/val_accuracy</td><td>▁▄▅▆▇▇▇███</td></tr><tr><td>epoch/val_loss</td><td>█▄▃▃▂▂▂▁▁▁</td></tr><tr><td>fmeasure</td><td>▁▄▇▇▅▄▇▅▇█</td></tr><tr><td>mcc</td><td>▁▄▇▇▆▅▇▆▇█</td></tr></table><br/></div><div class=\"wandb-col\"><h3>Run summary:</h3><br/><table class=\"wandb\"><tr><td>auc_roc</td><td>0.79749</td></tr><tr><td>epoch/accuracy</td><td>0.76628</td></tr><tr><td>epoch/epoch</td><td>9</td></tr><tr><td>epoch/learning_rate</td><td>0.00272</td></tr><tr><td>epoch/loss</td><td>0.56764</td></tr><tr><td>epoch/val_accuracy</td><td>0.78312</td></tr><tr><td>epoch/val_loss</td><td>0.54816</td></tr><tr><td>fmeasure</td><td>0.68842</td></tr><tr><td>mcc</td><td>0.54234</td></tr></table><br/></div></div>"
      ],
      "text/plain": [
       "<IPython.core.display.HTML object>"
      ]
     },
     "metadata": {},
     "output_type": "display_data"
    },
    {
     "data": {
      "text/html": [
       " View run <strong style=\"color:#cdcd00\">dazzling-sweep-11</strong> at: <a href='https://wandb.ai/marcus-lim/PCXR-DenseNet-169-Evaluation/runs/sdsbv7nu' target=\"_blank\">https://wandb.ai/marcus-lim/PCXR-DenseNet-169-Evaluation/runs/sdsbv7nu</a><br/>Synced 5 W&B file(s), 0 media file(s), 0 artifact file(s) and 0 other file(s)"
      ],
      "text/plain": [
       "<IPython.core.display.HTML object>"
      ]
     },
     "metadata": {},
     "output_type": "display_data"
    },
    {
     "data": {
      "text/html": [
       "Find logs at: <code>.\\wandb\\run-20230916_132139-sdsbv7nu\\logs</code>"
      ],
      "text/plain": [
       "<IPython.core.display.HTML object>"
      ]
     },
     "metadata": {},
     "output_type": "display_data"
    },
    {
     "name": "stderr",
     "output_type": "stream",
     "text": [
      "\u001b[34m\u001b[1mwandb\u001b[0m: Sweep Agent: Waiting for job.\n",
      "\u001b[34m\u001b[1mwandb\u001b[0m: Job received.\n",
      "\u001b[34m\u001b[1mwandb\u001b[0m: Agent Starting Run: dj78nzrm with config:\n",
      "\u001b[34m\u001b[1mwandb\u001b[0m: \tbatch_size: 32\n",
      "\u001b[34m\u001b[1mwandb\u001b[0m: \tdropout_1: 0.2\n",
      "\u001b[34m\u001b[1mwandb\u001b[0m: \tdropout_2: 0.2\n",
      "\u001b[34m\u001b[1mwandb\u001b[0m: \tdropout_3: 0.2\n",
      "\u001b[34m\u001b[1mwandb\u001b[0m: \tepochs: 10\n",
      "\u001b[34m\u001b[1mwandb\u001b[0m: \tfc_layer_size_1: 16\n",
      "\u001b[34m\u001b[1mwandb\u001b[0m: \tfc_layer_size_2: 32\n",
      "\u001b[34m\u001b[1mwandb\u001b[0m: \tlearning_rate: 0.003882625385567936\n",
      "\u001b[34m\u001b[1mwandb\u001b[0m: \toptimiser: adam\n",
      "Failed to detect the name of this notebook, you can set it manually with the WANDB_NOTEBOOK_NAME environment variable to enable code saving.\n"
     ]
    },
    {
     "data": {
      "text/html": [
       "wandb version 0.15.10 is available!  To upgrade, please run:\n",
       " $ pip install wandb --upgrade"
      ],
      "text/plain": [
       "<IPython.core.display.HTML object>"
      ]
     },
     "metadata": {},
     "output_type": "display_data"
    },
    {
     "data": {
      "text/html": [
       "Tracking run with wandb version 0.15.5"
      ],
      "text/plain": [
       "<IPython.core.display.HTML object>"
      ]
     },
     "metadata": {},
     "output_type": "display_data"
    },
    {
     "data": {
      "text/html": [
       "Run data is saved locally in <code>c:\\Users\\User\\Projects\\pneumonia-xray-classification\\notebooks\\wandb\\run-20230916_133353-dj78nzrm</code>"
      ],
      "text/plain": [
       "<IPython.core.display.HTML object>"
      ]
     },
     "metadata": {},
     "output_type": "display_data"
    },
    {
     "data": {
      "text/html": [
       "Syncing run <strong><a href='https://wandb.ai/marcus-lim/PCXR-DenseNet-169-Evaluation/runs/dj78nzrm' target=\"_blank\">visionary-sweep-12</a></strong> to <a href='https://wandb.ai/marcus-lim/PCXR-DenseNet-169-Evaluation' target=\"_blank\">Weights & Biases</a> (<a href='https://wandb.me/run' target=\"_blank\">docs</a>)<br/>Sweep page: <a href='https://wandb.ai/marcus-lim/PCXR-DenseNet-169-Evaluation/sweeps/tzhu0pmo' target=\"_blank\">https://wandb.ai/marcus-lim/PCXR-DenseNet-169-Evaluation/sweeps/tzhu0pmo</a>"
      ],
      "text/plain": [
       "<IPython.core.display.HTML object>"
      ]
     },
     "metadata": {},
     "output_type": "display_data"
    },
    {
     "data": {
      "text/html": [
       " View project at <a href='https://wandb.ai/marcus-lim/PCXR-DenseNet-169-Evaluation' target=\"_blank\">https://wandb.ai/marcus-lim/PCXR-DenseNet-169-Evaluation</a>"
      ],
      "text/plain": [
       "<IPython.core.display.HTML object>"
      ]
     },
     "metadata": {},
     "output_type": "display_data"
    },
    {
     "data": {
      "text/html": [
       " View sweep at <a href='https://wandb.ai/marcus-lim/PCXR-DenseNet-169-Evaluation/sweeps/tzhu0pmo' target=\"_blank\">https://wandb.ai/marcus-lim/PCXR-DenseNet-169-Evaluation/sweeps/tzhu0pmo</a>"
      ],
      "text/plain": [
       "<IPython.core.display.HTML object>"
      ]
     },
     "metadata": {},
     "output_type": "display_data"
    },
    {
     "data": {
      "text/html": [
       " View run at <a href='https://wandb.ai/marcus-lim/PCXR-DenseNet-169-Evaluation/runs/dj78nzrm' target=\"_blank\">https://wandb.ai/marcus-lim/PCXR-DenseNet-169-Evaluation/runs/dj78nzrm</a>"
      ],
      "text/plain": [
       "<IPython.core.display.HTML object>"
      ]
     },
     "metadata": {},
     "output_type": "display_data"
    },
    {
     "name": "stdout",
     "output_type": "stream",
     "text": [
      "Found 4684 files belonging to 3 classes.\n",
      "Using 3748 files for training.\n",
      "Using 936 files for validation.\n",
      "Found 1172 files belonging to 3 classes.\n",
      "Generating predictions and computing metrics for Epoch 1 \n",
      "30/30 [==============================] - 4s 72ms/step\n",
      "training loss : 0.6094537973403931 , training acc : 0.7409284710884094 , mcc score : 0.5047388672828674\n",
      "aucroc score  : 0.7434911727905273 , f1 score     : 0.6511605381965637 \n",
      "Generating predictions and computing metrics for Epoch 2 \n",
      "30/30 [==============================] - 2s 70ms/step\n",
      "training loss : 0.5035040378570557 , training acc : 0.79429030418396 , mcc score : 0.6228154301643372\n",
      "aucroc score  : 0.8713017702102661 , f1 score     : 0.7385606169700623 \n",
      "Generating predictions and computing metrics for Epoch 3 \n",
      "30/30 [==============================] - 2s 72ms/step\n",
      "training loss : 0.482080340385437 , training acc : 0.8022945523262024 , mcc score : 0.5934480428695679\n",
      "aucroc score  : 0.8417159914970398 , f1 score     : 0.7265446782112122 \n",
      "Generating predictions and computing metrics for Epoch 4 \n",
      "30/30 [==============================] - 2s 70ms/step\n",
      "training loss : 0.45996522903442383 , training acc : 0.8097652196884155 , mcc score : 0.6024243831634521\n",
      "aucroc score  : 0.8721894025802612 , f1 score     : 0.7341489791870117 \n",
      "Generating predictions and computing metrics for Epoch 5 \n",
      "30/30 [==============================] - 2s 70ms/step\n",
      "training loss : 0.4510565996170044 , training acc : 0.8185698986053467 , mcc score : 0.5688088536262512\n",
      "aucroc score  : 0.8335798978805542 , f1 score     : 0.7094619870185852 \n",
      "Generating predictions and computing metrics for Epoch 6 \n",
      "30/30 [==============================] - 2s 70ms/step\n",
      "training loss : 0.4302302598953247 , training acc : 0.8207044005393982 , mcc score : 0.5997227430343628\n",
      "aucroc score  : 0.9168639183044434 , f1 score     : 0.7234849333763123 \n",
      "Generating predictions and computing metrics for Epoch 7 \n",
      "30/30 [==============================] - 2s 71ms/step\n",
      "training loss : 0.4287719130516052 , training acc : 0.8239060640335083 , mcc score : 0.5862179398536682\n",
      "aucroc score  : 0.8791419267654419 , f1 score     : 0.7213069796562195 \n",
      "Generating predictions and computing metrics for Epoch 8 \n",
      "30/30 [==============================] - 2s 70ms/step\n",
      "training loss : 0.4120742082595825 , training acc : 0.8343116044998169 , mcc score : 0.46961212158203125\n",
      "aucroc score  : 0.779289960861206 , f1 score     : 0.6010469198226929 \n",
      "Generating predictions and computing metrics for Epoch 9 \n",
      "30/30 [==============================] - 2s 70ms/step\n",
      "training loss : 0.4158953130245209 , training acc : 0.8337780237197876 , mcc score : 0.5957674980163574\n",
      "aucroc score  : 0.8733727335929871 , f1 score     : 0.7323601841926575 \n",
      "Generating predictions and computing metrics for Epoch 10 \n",
      "30/30 [==============================] - 2s 71ms/step\n",
      "training loss : 0.4111801087856293 , training acc : 0.833511233329773 , mcc score : 0.5782545208930969\n",
      "aucroc score  : 0.8285502791404724 , f1 score     : 0.7152069211006165 \n"
     ]
    },
    {
     "data": {
      "text/html": [
       "Waiting for W&B process to finish... <strong style=\"color:green\">(success).</strong>"
      ],
      "text/plain": [
       "<IPython.core.display.HTML object>"
      ]
     },
     "metadata": {},
     "output_type": "display_data"
    },
    {
     "data": {
      "text/html": [
       "<style>\n",
       "    table.wandb td:nth-child(1) { padding: 0 10px; text-align: left ; width: auto;} td:nth-child(2) {text-align: left ; width: 100%}\n",
       "    .wandb-row { display: flex; flex-direction: row; flex-wrap: wrap; justify-content: flex-start; width: 100% }\n",
       "    .wandb-col { display: flex; flex-direction: column; flex-basis: 100%; flex: 1; padding: 10px; }\n",
       "    </style>\n",
       "<div class=\"wandb-row\"><div class=\"wandb-col\"><h3>Run history:</h3><br/><table class=\"wandb\"><tr><td>auc_roc</td><td>▁▆▅▆▅█▆▂▆▄</td></tr><tr><td>epoch/accuracy</td><td>▁▅▆▆▇▇▇███</td></tr><tr><td>epoch/epoch</td><td>▁▂▃▃▄▅▆▆▇█</td></tr><tr><td>epoch/learning_rate</td><td>▁▁▁▁▁▁▁▁▁▁</td></tr><tr><td>epoch/loss</td><td>█▄▄▃▂▂▂▁▁▁</td></tr><tr><td>epoch/val_accuracy</td><td>▇▅▇██▄▇▁▇█</td></tr><tr><td>epoch/val_loss</td><td>▄▄▂▁▁█▁▇▂▁</td></tr><tr><td>fmeasure</td><td>▄█▇█▇▇▇▁█▇</td></tr><tr><td>mcc</td><td>▃█▇▇▆▇▆▁▇▆</td></tr></table><br/></div><div class=\"wandb-col\"><h3>Run summary:</h3><br/><table class=\"wandb\"><tr><td>auc_roc</td><td>0.82855</td></tr><tr><td>epoch/accuracy</td><td>0.83351</td></tr><tr><td>epoch/epoch</td><td>9</td></tr><tr><td>epoch/learning_rate</td><td>0.00388</td></tr><tr><td>epoch/loss</td><td>0.41118</td></tr><tr><td>epoch/val_accuracy</td><td>0.79915</td></tr><tr><td>epoch/val_loss</td><td>0.50128</td></tr><tr><td>fmeasure</td><td>0.71521</td></tr><tr><td>mcc</td><td>0.57825</td></tr></table><br/></div></div>"
      ],
      "text/plain": [
       "<IPython.core.display.HTML object>"
      ]
     },
     "metadata": {},
     "output_type": "display_data"
    },
    {
     "data": {
      "text/html": [
       " View run <strong style=\"color:#cdcd00\">visionary-sweep-12</strong> at: <a href='https://wandb.ai/marcus-lim/PCXR-DenseNet-169-Evaluation/runs/dj78nzrm' target=\"_blank\">https://wandb.ai/marcus-lim/PCXR-DenseNet-169-Evaluation/runs/dj78nzrm</a><br/>Synced 5 W&B file(s), 0 media file(s), 0 artifact file(s) and 0 other file(s)"
      ],
      "text/plain": [
       "<IPython.core.display.HTML object>"
      ]
     },
     "metadata": {},
     "output_type": "display_data"
    },
    {
     "data": {
      "text/html": [
       "Find logs at: <code>.\\wandb\\run-20230916_133353-dj78nzrm\\logs</code>"
      ],
      "text/plain": [
       "<IPython.core.display.HTML object>"
      ]
     },
     "metadata": {},
     "output_type": "display_data"
    },
    {
     "name": "stderr",
     "output_type": "stream",
     "text": [
      "\u001b[34m\u001b[1mwandb\u001b[0m: Sweep Agent: Waiting for job.\n",
      "\u001b[34m\u001b[1mwandb\u001b[0m: Job received.\n",
      "\u001b[34m\u001b[1mwandb\u001b[0m: Agent Starting Run: lmoyk238 with config:\n",
      "\u001b[34m\u001b[1mwandb\u001b[0m: \tbatch_size: 32\n",
      "\u001b[34m\u001b[1mwandb\u001b[0m: \tdropout_1: 0.8\n",
      "\u001b[34m\u001b[1mwandb\u001b[0m: \tdropout_2: 0.8\n",
      "\u001b[34m\u001b[1mwandb\u001b[0m: \tdropout_3: 0.2\n",
      "\u001b[34m\u001b[1mwandb\u001b[0m: \tepochs: 10\n",
      "\u001b[34m\u001b[1mwandb\u001b[0m: \tfc_layer_size_1: 128\n",
      "\u001b[34m\u001b[1mwandb\u001b[0m: \tfc_layer_size_2: 256\n",
      "\u001b[34m\u001b[1mwandb\u001b[0m: \tlearning_rate: 0.0014967928502092563\n",
      "\u001b[34m\u001b[1mwandb\u001b[0m: \toptimiser: adam\n",
      "Failed to detect the name of this notebook, you can set it manually with the WANDB_NOTEBOOK_NAME environment variable to enable code saving.\n"
     ]
    },
    {
     "data": {
      "text/html": [
       "wandb version 0.15.10 is available!  To upgrade, please run:\n",
       " $ pip install wandb --upgrade"
      ],
      "text/plain": [
       "<IPython.core.display.HTML object>"
      ]
     },
     "metadata": {},
     "output_type": "display_data"
    },
    {
     "data": {
      "text/html": [
       "Tracking run with wandb version 0.15.5"
      ],
      "text/plain": [
       "<IPython.core.display.HTML object>"
      ]
     },
     "metadata": {},
     "output_type": "display_data"
    },
    {
     "data": {
      "text/html": [
       "Run data is saved locally in <code>c:\\Users\\User\\Projects\\pneumonia-xray-classification\\notebooks\\wandb\\run-20230916_134637-lmoyk238</code>"
      ],
      "text/plain": [
       "<IPython.core.display.HTML object>"
      ]
     },
     "metadata": {},
     "output_type": "display_data"
    },
    {
     "data": {
      "text/html": [
       "Syncing run <strong><a href='https://wandb.ai/marcus-lim/PCXR-DenseNet-169-Evaluation/runs/lmoyk238' target=\"_blank\">glad-sweep-13</a></strong> to <a href='https://wandb.ai/marcus-lim/PCXR-DenseNet-169-Evaluation' target=\"_blank\">Weights & Biases</a> (<a href='https://wandb.me/run' target=\"_blank\">docs</a>)<br/>Sweep page: <a href='https://wandb.ai/marcus-lim/PCXR-DenseNet-169-Evaluation/sweeps/tzhu0pmo' target=\"_blank\">https://wandb.ai/marcus-lim/PCXR-DenseNet-169-Evaluation/sweeps/tzhu0pmo</a>"
      ],
      "text/plain": [
       "<IPython.core.display.HTML object>"
      ]
     },
     "metadata": {},
     "output_type": "display_data"
    },
    {
     "data": {
      "text/html": [
       " View project at <a href='https://wandb.ai/marcus-lim/PCXR-DenseNet-169-Evaluation' target=\"_blank\">https://wandb.ai/marcus-lim/PCXR-DenseNet-169-Evaluation</a>"
      ],
      "text/plain": [
       "<IPython.core.display.HTML object>"
      ]
     },
     "metadata": {},
     "output_type": "display_data"
    },
    {
     "data": {
      "text/html": [
       " View sweep at <a href='https://wandb.ai/marcus-lim/PCXR-DenseNet-169-Evaluation/sweeps/tzhu0pmo' target=\"_blank\">https://wandb.ai/marcus-lim/PCXR-DenseNet-169-Evaluation/sweeps/tzhu0pmo</a>"
      ],
      "text/plain": [
       "<IPython.core.display.HTML object>"
      ]
     },
     "metadata": {},
     "output_type": "display_data"
    },
    {
     "data": {
      "text/html": [
       " View run at <a href='https://wandb.ai/marcus-lim/PCXR-DenseNet-169-Evaluation/runs/lmoyk238' target=\"_blank\">https://wandb.ai/marcus-lim/PCXR-DenseNet-169-Evaluation/runs/lmoyk238</a>"
      ],
      "text/plain": [
       "<IPython.core.display.HTML object>"
      ]
     },
     "metadata": {},
     "output_type": "display_data"
    },
    {
     "name": "stdout",
     "output_type": "stream",
     "text": [
      "Found 4684 files belonging to 3 classes.\n",
      "Using 3748 files for training.\n",
      "Using 936 files for validation.\n",
      "Found 1172 files belonging to 3 classes.\n",
      "Generating predictions and computing metrics for Epoch 1 \n",
      "30/30 [==============================] - 4s 72ms/step\n",
      "training loss : 0.7741560935974121 , training acc : 0.6491461992263794 , mcc score : 0.5168935060501099\n",
      "aucroc score  : 0.7504438161849976 , f1 score     : 0.6542232036590576 \n",
      "Generating predictions and computing metrics for Epoch 2 \n",
      "30/30 [==============================] - 2s 70ms/step\n",
      "training loss : 0.6612555980682373 , training acc : 0.710779070854187 , mcc score : 0.5394905209541321\n",
      "aucroc score  : 0.819378674030304 , f1 score     : 0.6721556186676025 \n",
      "Generating predictions and computing metrics for Epoch 3 \n",
      "30/30 [==============================] - 2s 69ms/step\n",
      "training loss : 0.6218115091323853 , training acc : 0.7355923056602478 , mcc score : 0.6083319783210754\n",
      "aucroc score  : 0.8664201498031616 , f1 score     : 0.7363607287406921 \n",
      "Generating predictions and computing metrics for Epoch 4 \n",
      "30/30 [==============================] - 2s 69ms/step\n",
      "training loss : 0.6094329357147217 , training acc : 0.7390608191490173 , mcc score : 0.6204951405525208\n",
      "aucroc score  : 0.8868343234062195 , f1 score     : 0.7470342516899109 \n",
      "Generating predictions and computing metrics for Epoch 5 \n",
      "30/30 [==============================] - 2s 70ms/step\n",
      "training loss : 0.5820339918136597 , training acc : 0.7585378885269165 , mcc score : 0.609451413154602\n",
      "aucroc score  : 0.8741124272346497 , f1 score     : 0.7395588755607605 \n",
      "Generating predictions and computing metrics for Epoch 6 \n",
      "30/30 [==============================] - 2s 69ms/step\n",
      "training loss : 0.5825369358062744 , training acc : 0.7516008615493774 , mcc score : 0.6321690678596497\n",
      "aucroc score  : 0.8949704170227051 , f1 score     : 0.7552621960639954 \n",
      "Generating predictions and computing metrics for Epoch 7 \n",
      "30/30 [==============================] - 2s 70ms/step\n",
      "training loss : 0.5772866606712341 , training acc : 0.7585378885269165 , mcc score : 0.6175293922424316\n",
      "aucroc score  : 0.8721894025802612 , f1 score     : 0.7439162731170654 \n",
      "Generating predictions and computing metrics for Epoch 8 \n",
      "30/30 [==============================] - 2s 70ms/step\n",
      "training loss : 0.5607433915138245 , training acc : 0.7638740539550781 , mcc score : 0.6408935785293579\n",
      "aucroc score  : 0.8952662944793701 , f1 score     : 0.7611091732978821 \n",
      "Generating predictions and computing metrics for Epoch 9 \n",
      "30/30 [==============================] - 2s 70ms/step\n",
      "training loss : 0.5703132748603821 , training acc : 0.7641409039497375 , mcc score : 0.623658299446106\n",
      "aucroc score  : 0.8872780799865723 , f1 score     : 0.7478850483894348 \n",
      "Generating predictions and computing metrics for Epoch 10 \n",
      "30/30 [==============================] - 2s 70ms/step\n",
      "training loss : 0.5484364032745361 , training acc : 0.7750800251960754 , mcc score : 0.6373811364173889\n",
      "aucroc score  : 0.9075443744659424 , f1 score     : 0.7557773590087891 \n"
     ]
    },
    {
     "data": {
      "text/html": [
       "Waiting for W&B process to finish... <strong style=\"color:green\">(success).</strong>"
      ],
      "text/plain": [
       "<IPython.core.display.HTML object>"
      ]
     },
     "metadata": {},
     "output_type": "display_data"
    },
    {
     "data": {
      "text/html": [
       "<style>\n",
       "    table.wandb td:nth-child(1) { padding: 0 10px; text-align: left ; width: auto;} td:nth-child(2) {text-align: left ; width: 100%}\n",
       "    .wandb-row { display: flex; flex-direction: row; flex-wrap: wrap; justify-content: flex-start; width: 100% }\n",
       "    .wandb-col { display: flex; flex-direction: column; flex-basis: 100%; flex: 1; padding: 10px; }\n",
       "    </style>\n",
       "<div class=\"wandb-row\"><div class=\"wandb-col\"><h3>Run history:</h3><br/><table class=\"wandb\"><tr><td>auc_roc</td><td>▁▄▆▇▇▇▆▇▇█</td></tr><tr><td>epoch/accuracy</td><td>▁▄▆▆▇▇▇▇▇█</td></tr><tr><td>epoch/epoch</td><td>▁▂▃▃▄▅▆▆▇█</td></tr><tr><td>epoch/learning_rate</td><td>▁▁▁▁▁▁▁▁▁▁</td></tr><tr><td>epoch/loss</td><td>█▄▃▃▂▂▂▁▂▁</td></tr><tr><td>epoch/val_accuracy</td><td>▂▁▇▆▆▇██▇▅</td></tr><tr><td>epoch/val_loss</td><td>█▆▂▃▂▄▁▃▃█</td></tr><tr><td>fmeasure</td><td>▁▂▆▇▇█▇█▇█</td></tr><tr><td>mcc</td><td>▁▂▆▇▆█▇█▇█</td></tr></table><br/></div><div class=\"wandb-col\"><h3>Run summary:</h3><br/><table class=\"wandb\"><tr><td>auc_roc</td><td>0.90754</td></tr><tr><td>epoch/accuracy</td><td>0.77508</td></tr><tr><td>epoch/epoch</td><td>9</td></tr><tr><td>epoch/learning_rate</td><td>0.0015</td></tr><tr><td>epoch/loss</td><td>0.54844</td></tr><tr><td>epoch/val_accuracy</td><td>0.76709</td></tr><tr><td>epoch/val_loss</td><td>0.61146</td></tr><tr><td>fmeasure</td><td>0.75578</td></tr><tr><td>mcc</td><td>0.63738</td></tr></table><br/></div></div>"
      ],
      "text/plain": [
       "<IPython.core.display.HTML object>"
      ]
     },
     "metadata": {},
     "output_type": "display_data"
    },
    {
     "data": {
      "text/html": [
       " View run <strong style=\"color:#cdcd00\">glad-sweep-13</strong> at: <a href='https://wandb.ai/marcus-lim/PCXR-DenseNet-169-Evaluation/runs/lmoyk238' target=\"_blank\">https://wandb.ai/marcus-lim/PCXR-DenseNet-169-Evaluation/runs/lmoyk238</a><br/>Synced 5 W&B file(s), 0 media file(s), 0 artifact file(s) and 0 other file(s)"
      ],
      "text/plain": [
       "<IPython.core.display.HTML object>"
      ]
     },
     "metadata": {},
     "output_type": "display_data"
    },
    {
     "data": {
      "text/html": [
       "Find logs at: <code>.\\wandb\\run-20230916_134637-lmoyk238\\logs</code>"
      ],
      "text/plain": [
       "<IPython.core.display.HTML object>"
      ]
     },
     "metadata": {},
     "output_type": "display_data"
    },
    {
     "name": "stderr",
     "output_type": "stream",
     "text": [
      "\u001b[34m\u001b[1mwandb\u001b[0m: Agent Starting Run: dl2a09am with config:\n",
      "\u001b[34m\u001b[1mwandb\u001b[0m: \tbatch_size: 32\n",
      "\u001b[34m\u001b[1mwandb\u001b[0m: \tdropout_1: 0.8\n",
      "\u001b[34m\u001b[1mwandb\u001b[0m: \tdropout_2: 0.2\n",
      "\u001b[34m\u001b[1mwandb\u001b[0m: \tdropout_3: 0.6\n",
      "\u001b[34m\u001b[1mwandb\u001b[0m: \tepochs: 10\n",
      "\u001b[34m\u001b[1mwandb\u001b[0m: \tfc_layer_size_1: 64\n",
      "\u001b[34m\u001b[1mwandb\u001b[0m: \tfc_layer_size_2: 256\n",
      "\u001b[34m\u001b[1mwandb\u001b[0m: \tlearning_rate: 0.0006992462593856618\n",
      "\u001b[34m\u001b[1mwandb\u001b[0m: \toptimiser: sgd\n",
      "Failed to detect the name of this notebook, you can set it manually with the WANDB_NOTEBOOK_NAME environment variable to enable code saving.\n"
     ]
    },
    {
     "data": {
      "text/html": [
       "wandb version 0.15.10 is available!  To upgrade, please run:\n",
       " $ pip install wandb --upgrade"
      ],
      "text/plain": [
       "<IPython.core.display.HTML object>"
      ]
     },
     "metadata": {},
     "output_type": "display_data"
    },
    {
     "data": {
      "text/html": [
       "Tracking run with wandb version 0.15.5"
      ],
      "text/plain": [
       "<IPython.core.display.HTML object>"
      ]
     },
     "metadata": {},
     "output_type": "display_data"
    },
    {
     "data": {
      "text/html": [
       "Run data is saved locally in <code>c:\\Users\\User\\Projects\\pneumonia-xray-classification\\notebooks\\wandb\\run-20230916_135845-dl2a09am</code>"
      ],
      "text/plain": [
       "<IPython.core.display.HTML object>"
      ]
     },
     "metadata": {},
     "output_type": "display_data"
    },
    {
     "data": {
      "text/html": [
       "Syncing run <strong><a href='https://wandb.ai/marcus-lim/PCXR-DenseNet-169-Evaluation/runs/dl2a09am' target=\"_blank\">visionary-sweep-14</a></strong> to <a href='https://wandb.ai/marcus-lim/PCXR-DenseNet-169-Evaluation' target=\"_blank\">Weights & Biases</a> (<a href='https://wandb.me/run' target=\"_blank\">docs</a>)<br/>Sweep page: <a href='https://wandb.ai/marcus-lim/PCXR-DenseNet-169-Evaluation/sweeps/tzhu0pmo' target=\"_blank\">https://wandb.ai/marcus-lim/PCXR-DenseNet-169-Evaluation/sweeps/tzhu0pmo</a>"
      ],
      "text/plain": [
       "<IPython.core.display.HTML object>"
      ]
     },
     "metadata": {},
     "output_type": "display_data"
    },
    {
     "data": {
      "text/html": [
       " View project at <a href='https://wandb.ai/marcus-lim/PCXR-DenseNet-169-Evaluation' target=\"_blank\">https://wandb.ai/marcus-lim/PCXR-DenseNet-169-Evaluation</a>"
      ],
      "text/plain": [
       "<IPython.core.display.HTML object>"
      ]
     },
     "metadata": {},
     "output_type": "display_data"
    },
    {
     "data": {
      "text/html": [
       " View sweep at <a href='https://wandb.ai/marcus-lim/PCXR-DenseNet-169-Evaluation/sweeps/tzhu0pmo' target=\"_blank\">https://wandb.ai/marcus-lim/PCXR-DenseNet-169-Evaluation/sweeps/tzhu0pmo</a>"
      ],
      "text/plain": [
       "<IPython.core.display.HTML object>"
      ]
     },
     "metadata": {},
     "output_type": "display_data"
    },
    {
     "data": {
      "text/html": [
       " View run at <a href='https://wandb.ai/marcus-lim/PCXR-DenseNet-169-Evaluation/runs/dl2a09am' target=\"_blank\">https://wandb.ai/marcus-lim/PCXR-DenseNet-169-Evaluation/runs/dl2a09am</a>"
      ],
      "text/plain": [
       "<IPython.core.display.HTML object>"
      ]
     },
     "metadata": {},
     "output_type": "display_data"
    },
    {
     "name": "stdout",
     "output_type": "stream",
     "text": [
      "Found 4684 files belonging to 3 classes.\n",
      "Using 3748 files for training.\n",
      "Using 936 files for validation.\n",
      "Found 1172 files belonging to 3 classes.\n",
      "Generating predictions and computing metrics for Epoch 1 \n",
      "30/30 [==============================] - 4s 73ms/step\n",
      "training loss : 1.0952242612838745 , training acc : 0.4445037245750427 , mcc score : 0.03321193903684616\n",
      "aucroc score  : 0.5 , f1 score     : 0.2944854497909546 \n",
      "Generating predictions and computing metrics for Epoch 2 \n",
      "30/30 [==============================] - 2s 70ms/step\n",
      "training loss : 1.0777816772460938 , training acc : 0.4455709755420685 , mcc score : 0.04400097578763962\n",
      "aucroc score  : 0.5 , f1 score     : 0.2817395031452179 \n",
      "Generating predictions and computing metrics for Epoch 3 \n",
      "30/30 [==============================] - 2s 70ms/step\n",
      "training loss : 1.0763601064682007 , training acc : 0.4471718370914459 , mcc score : 0.04756230115890503\n",
      "aucroc score  : 0.5 , f1 score     : 0.26143380999565125 \n",
      "Generating predictions and computing metrics for Epoch 4 \n",
      "30/30 [==============================] - 2s 70ms/step\n",
      "training loss : 1.0718716382980347 , training acc : 0.454108864068985 , mcc score : 0.04516424611210823\n",
      "aucroc score  : 0.5 , f1 score     : 0.24582260847091675 \n",
      "Generating predictions and computing metrics for Epoch 5 \n",
      "30/30 [==============================] - 2s 70ms/step\n",
      "training loss : 1.0632907152175903 , training acc : 0.46371397376060486 , mcc score : 0.04239296168088913\n",
      "aucroc score  : 0.5 , f1 score     : 0.23697306215763092 \n",
      "Generating predictions and computing metrics for Epoch 6 \n",
      "30/30 [==============================] - 2s 70ms/step\n",
      "training loss : 1.052240252494812 , training acc : 0.46104589104652405 , mcc score : 0.02856437861919403\n",
      "aucroc score  : 0.5 , f1 score     : 0.22879819571971893 \n",
      "Generating predictions and computing metrics for Epoch 7 \n",
      "30/30 [==============================] - 2s 70ms/step\n",
      "training loss : 1.0517997741699219 , training acc : 0.46905016899108887 , mcc score : 0.04322241246700287\n",
      "aucroc score  : 0.5 , f1 score     : 0.2297700047492981 \n",
      "Generating predictions and computing metrics for Epoch 8 \n",
      "30/30 [==============================] - 2s 68ms/step\n",
      "training loss : 1.0424952507019043 , training acc : 0.4805229604244232 , mcc score : 0.05817607045173645\n",
      "aucroc score  : 0.5 , f1 score     : 0.23273135721683502 \n",
      "Generating predictions and computing metrics for Epoch 9 \n",
      "30/30 [==============================] - 2s 68ms/step\n",
      "training loss : 1.0343408584594727 , training acc : 0.4791888892650604 , mcc score : 0.058461807668209076\n",
      "aucroc score  : 0.5 , f1 score     : 0.23263204097747803 \n",
      "Generating predictions and computing metrics for Epoch 10 \n",
      "30/30 [==============================] - 2s 68ms/step\n",
      "training loss : 1.0342656373977661 , training acc : 0.4797225296497345 , mcc score : 0.050058476626873016\n",
      "aucroc score  : 0.5 , f1 score     : 0.2322465032339096 \n"
     ]
    },
    {
     "data": {
      "text/html": [
       "Waiting for W&B process to finish... <strong style=\"color:green\">(success).</strong>"
      ],
      "text/plain": [
       "<IPython.core.display.HTML object>"
      ]
     },
     "metadata": {},
     "output_type": "display_data"
    },
    {
     "data": {
      "text/html": [
       "<style>\n",
       "    table.wandb td:nth-child(1) { padding: 0 10px; text-align: left ; width: auto;} td:nth-child(2) {text-align: left ; width: 100%}\n",
       "    .wandb-row { display: flex; flex-direction: row; flex-wrap: wrap; justify-content: flex-start; width: 100% }\n",
       "    .wandb-col { display: flex; flex-direction: column; flex-basis: 100%; flex: 1; padding: 10px; }\n",
       "    </style>\n",
       "<div class=\"wandb-row\"><div class=\"wandb-col\"><h3>Run history:</h3><br/><table class=\"wandb\"><tr><td>auc_roc</td><td>▁▁▁▁▁▁▁▁▁▁</td></tr><tr><td>epoch/accuracy</td><td>▁▁▂▃▅▄▆███</td></tr><tr><td>epoch/epoch</td><td>▁▂▃▃▄▅▆▆▇█</td></tr><tr><td>epoch/learning_rate</td><td>▁▁▁▁▁▁▁▁▁▁</td></tr><tr><td>epoch/loss</td><td>█▆▆▅▄▃▃▂▁▁</td></tr><tr><td>epoch/val_accuracy</td><td>▁▃▆▆▇▇▇███</td></tr><tr><td>epoch/val_loss</td><td>█▇▆▅▄▃▃▂▂▁</td></tr><tr><td>fmeasure</td><td>█▇▄▃▂▁▁▁▁▁</td></tr><tr><td>mcc</td><td>▂▅▅▅▄▁▄██▆</td></tr></table><br/></div><div class=\"wandb-col\"><h3>Run summary:</h3><br/><table class=\"wandb\"><tr><td>auc_roc</td><td>0.5</td></tr><tr><td>epoch/accuracy</td><td>0.47972</td></tr><tr><td>epoch/epoch</td><td>9</td></tr><tr><td>epoch/learning_rate</td><td>0.0007</td></tr><tr><td>epoch/loss</td><td>1.03427</td></tr><tr><td>epoch/val_accuracy</td><td>0.48184</td></tr><tr><td>epoch/val_loss</td><td>1.03912</td></tr><tr><td>fmeasure</td><td>0.23225</td></tr><tr><td>mcc</td><td>0.05006</td></tr></table><br/></div></div>"
      ],
      "text/plain": [
       "<IPython.core.display.HTML object>"
      ]
     },
     "metadata": {},
     "output_type": "display_data"
    },
    {
     "data": {
      "text/html": [
       " View run <strong style=\"color:#cdcd00\">visionary-sweep-14</strong> at: <a href='https://wandb.ai/marcus-lim/PCXR-DenseNet-169-Evaluation/runs/dl2a09am' target=\"_blank\">https://wandb.ai/marcus-lim/PCXR-DenseNet-169-Evaluation/runs/dl2a09am</a><br/>Synced 5 W&B file(s), 0 media file(s), 0 artifact file(s) and 0 other file(s)"
      ],
      "text/plain": [
       "<IPython.core.display.HTML object>"
      ]
     },
     "metadata": {},
     "output_type": "display_data"
    },
    {
     "data": {
      "text/html": [
       "Find logs at: <code>.\\wandb\\run-20230916_135845-dl2a09am\\logs</code>"
      ],
      "text/plain": [
       "<IPython.core.display.HTML object>"
      ]
     },
     "metadata": {},
     "output_type": "display_data"
    },
    {
     "name": "stderr",
     "output_type": "stream",
     "text": [
      "\u001b[34m\u001b[1mwandb\u001b[0m: Agent Starting Run: wja96sqf with config:\n",
      "\u001b[34m\u001b[1mwandb\u001b[0m: \tbatch_size: 32\n",
      "\u001b[34m\u001b[1mwandb\u001b[0m: \tdropout_1: 0.6\n",
      "\u001b[34m\u001b[1mwandb\u001b[0m: \tdropout_2: 0.6\n",
      "\u001b[34m\u001b[1mwandb\u001b[0m: \tdropout_3: 0.8\n",
      "\u001b[34m\u001b[1mwandb\u001b[0m: \tepochs: 10\n",
      "\u001b[34m\u001b[1mwandb\u001b[0m: \tfc_layer_size_1: 64\n",
      "\u001b[34m\u001b[1mwandb\u001b[0m: \tfc_layer_size_2: 32\n",
      "\u001b[34m\u001b[1mwandb\u001b[0m: \tlearning_rate: 0.003838503272791841\n",
      "\u001b[34m\u001b[1mwandb\u001b[0m: \toptimiser: sgd\n",
      "Failed to detect the name of this notebook, you can set it manually with the WANDB_NOTEBOOK_NAME environment variable to enable code saving.\n"
     ]
    },
    {
     "data": {
      "text/html": [
       "wandb version 0.15.10 is available!  To upgrade, please run:\n",
       " $ pip install wandb --upgrade"
      ],
      "text/plain": [
       "<IPython.core.display.HTML object>"
      ]
     },
     "metadata": {},
     "output_type": "display_data"
    },
    {
     "data": {
      "text/html": [
       "Tracking run with wandb version 0.15.5"
      ],
      "text/plain": [
       "<IPython.core.display.HTML object>"
      ]
     },
     "metadata": {},
     "output_type": "display_data"
    },
    {
     "data": {
      "text/html": [
       "Run data is saved locally in <code>c:\\Users\\User\\Projects\\pneumonia-xray-classification\\notebooks\\wandb\\run-20230916_141051-wja96sqf</code>"
      ],
      "text/plain": [
       "<IPython.core.display.HTML object>"
      ]
     },
     "metadata": {},
     "output_type": "display_data"
    },
    {
     "data": {
      "text/html": [
       "Syncing run <strong><a href='https://wandb.ai/marcus-lim/PCXR-DenseNet-169-Evaluation/runs/wja96sqf' target=\"_blank\">eternal-sweep-15</a></strong> to <a href='https://wandb.ai/marcus-lim/PCXR-DenseNet-169-Evaluation' target=\"_blank\">Weights & Biases</a> (<a href='https://wandb.me/run' target=\"_blank\">docs</a>)<br/>Sweep page: <a href='https://wandb.ai/marcus-lim/PCXR-DenseNet-169-Evaluation/sweeps/tzhu0pmo' target=\"_blank\">https://wandb.ai/marcus-lim/PCXR-DenseNet-169-Evaluation/sweeps/tzhu0pmo</a>"
      ],
      "text/plain": [
       "<IPython.core.display.HTML object>"
      ]
     },
     "metadata": {},
     "output_type": "display_data"
    },
    {
     "data": {
      "text/html": [
       " View project at <a href='https://wandb.ai/marcus-lim/PCXR-DenseNet-169-Evaluation' target=\"_blank\">https://wandb.ai/marcus-lim/PCXR-DenseNet-169-Evaluation</a>"
      ],
      "text/plain": [
       "<IPython.core.display.HTML object>"
      ]
     },
     "metadata": {},
     "output_type": "display_data"
    },
    {
     "data": {
      "text/html": [
       " View sweep at <a href='https://wandb.ai/marcus-lim/PCXR-DenseNet-169-Evaluation/sweeps/tzhu0pmo' target=\"_blank\">https://wandb.ai/marcus-lim/PCXR-DenseNet-169-Evaluation/sweeps/tzhu0pmo</a>"
      ],
      "text/plain": [
       "<IPython.core.display.HTML object>"
      ]
     },
     "metadata": {},
     "output_type": "display_data"
    },
    {
     "data": {
      "text/html": [
       " View run at <a href='https://wandb.ai/marcus-lim/PCXR-DenseNet-169-Evaluation/runs/wja96sqf' target=\"_blank\">https://wandb.ai/marcus-lim/PCXR-DenseNet-169-Evaluation/runs/wja96sqf</a>"
      ],
      "text/plain": [
       "<IPython.core.display.HTML object>"
      ]
     },
     "metadata": {},
     "output_type": "display_data"
    },
    {
     "name": "stdout",
     "output_type": "stream",
     "text": [
      "Found 4684 files belonging to 3 classes.\n",
      "Using 3748 files for training.\n",
      "Using 936 files for validation.\n",
      "Found 1172 files belonging to 3 classes.\n",
      "Generating predictions and computing metrics for Epoch 1 \n",
      "30/30 [==============================] - 4s 70ms/step\n",
      "training loss : 1.1813125610351562 , training acc : 0.38393810391426086 , mcc score : 0.4131636321544647\n",
      "aucroc score  : 0.8019230365753174 , f1 score     : 0.53533536195755 \n",
      "Generating predictions and computing metrics for Epoch 2 \n",
      "30/30 [==============================] - 2s 67ms/step\n",
      "training loss : 1.0543301105499268 , training acc : 0.47732123732566833 , mcc score : 0.3731120526790619\n",
      "aucroc score  : 0.7190828323364258 , f1 score     : 0.4509327709674835 \n",
      "Generating predictions and computing metrics for Epoch 3 \n",
      "30/30 [==============================] - 2s 67ms/step\n",
      "training loss : 0.9654155373573303 , training acc : 0.5373532772064209 , mcc score : 0.39093273878097534\n",
      "aucroc score  : 0.7341715097427368 , f1 score     : 0.49231258034706116 \n",
      "Generating predictions and computing metrics for Epoch 4 \n",
      "30/30 [==============================] - 2s 67ms/step\n",
      "training loss : 0.9345184564590454 , training acc : 0.5557630658149719 , mcc score : 0.41438645124435425\n",
      "aucroc score  : 0.7594674825668335 , f1 score     : 0.5150049328804016 \n",
      "Generating predictions and computing metrics for Epoch 5 \n",
      "30/30 [==============================] - 2s 67ms/step\n",
      "training loss : 0.9050734043121338 , training acc : 0.5736392736434937 , mcc score : 0.4387153089046478\n",
      "aucroc score  : 0.7832839488983154 , f1 score     : 0.5246447324752808 \n",
      "Generating predictions and computing metrics for Epoch 6 \n",
      "30/30 [==============================] - 2s 67ms/step\n",
      "training loss : 0.8602944612503052 , training acc : 0.6048558950424194 , mcc score : 0.44283542037010193\n",
      "aucroc score  : 0.7889053225517273 , f1 score     : 0.5347707867622375 \n",
      "Generating predictions and computing metrics for Epoch 7 \n",
      "30/30 [==============================] - 2s 68ms/step\n",
      "training loss : 0.8540244698524475 , training acc : 0.6077908277511597 , mcc score : 0.4604741930961609\n",
      "aucroc score  : 0.8038461208343506 , f1 score     : 0.5571224093437195 \n",
      "Generating predictions and computing metrics for Epoch 8 \n",
      "30/30 [==============================] - 2s 68ms/step\n",
      "training loss : 0.8331936597824097 , training acc : 0.624599814414978 , mcc score : 0.48339593410491943\n",
      "aucroc score  : 0.8270710110664368 , f1 score     : 0.5699126720428467 \n",
      "Generating predictions and computing metrics for Epoch 9 \n",
      "30/30 [==============================] - 2s 69ms/step\n",
      "training loss : 0.8220343589782715 , training acc : 0.6227321028709412 , mcc score : 0.4896041750907898\n",
      "aucroc score  : 0.8344674706459045 , f1 score     : 0.5650466084480286 \n",
      "Generating predictions and computing metrics for Epoch 10 \n",
      "30/30 [==============================] - 2s 67ms/step\n",
      "training loss : 0.8072726130485535 , training acc : 0.6320704221725464 , mcc score : 0.5004434585571289\n",
      "aucroc score  : 0.8390532732009888 , f1 score     : 0.5773328542709351 \n"
     ]
    },
    {
     "data": {
      "text/html": [
       "Waiting for W&B process to finish... <strong style=\"color:green\">(success).</strong>"
      ],
      "text/plain": [
       "<IPython.core.display.HTML object>"
      ]
     },
     "metadata": {},
     "output_type": "display_data"
    },
    {
     "data": {
      "text/html": [
       "<style>\n",
       "    table.wandb td:nth-child(1) { padding: 0 10px; text-align: left ; width: auto;} td:nth-child(2) {text-align: left ; width: 100%}\n",
       "    .wandb-row { display: flex; flex-direction: row; flex-wrap: wrap; justify-content: flex-start; width: 100% }\n",
       "    .wandb-col { display: flex; flex-direction: column; flex-basis: 100%; flex: 1; padding: 10px; }\n",
       "    </style>\n",
       "<div class=\"wandb-row\"><div class=\"wandb-col\"><h3>Run history:</h3><br/><table class=\"wandb\"><tr><td>auc_roc</td><td>▆▁▂▃▅▅▆▇██</td></tr><tr><td>epoch/accuracy</td><td>▁▄▅▆▆▇▇███</td></tr><tr><td>epoch/epoch</td><td>▁▂▃▃▄▅▆▆▇█</td></tr><tr><td>epoch/learning_rate</td><td>▁▁▁▁▁▁▁▁▁▁</td></tr><tr><td>epoch/loss</td><td>█▆▄▃▃▂▂▁▁▁</td></tr><tr><td>epoch/val_accuracy</td><td>▂▁▃▅▆▆▇███</td></tr><tr><td>epoch/val_loss</td><td>█▆▅▄▃▂▂▂▁▁</td></tr><tr><td>fmeasure</td><td>▆▁▃▅▅▆▇█▇█</td></tr><tr><td>mcc</td><td>▃▁▂▃▅▅▆▇▇█</td></tr></table><br/></div><div class=\"wandb-col\"><h3>Run summary:</h3><br/><table class=\"wandb\"><tr><td>auc_roc</td><td>0.83905</td></tr><tr><td>epoch/accuracy</td><td>0.63207</td></tr><tr><td>epoch/epoch</td><td>9</td></tr><tr><td>epoch/learning_rate</td><td>0.00384</td></tr><tr><td>epoch/loss</td><td>0.80727</td></tr><tr><td>epoch/val_accuracy</td><td>0.70513</td></tr><tr><td>epoch/val_loss</td><td>0.63691</td></tr><tr><td>fmeasure</td><td>0.57733</td></tr><tr><td>mcc</td><td>0.50044</td></tr></table><br/></div></div>"
      ],
      "text/plain": [
       "<IPython.core.display.HTML object>"
      ]
     },
     "metadata": {},
     "output_type": "display_data"
    },
    {
     "data": {
      "text/html": [
       " View run <strong style=\"color:#cdcd00\">eternal-sweep-15</strong> at: <a href='https://wandb.ai/marcus-lim/PCXR-DenseNet-169-Evaluation/runs/wja96sqf' target=\"_blank\">https://wandb.ai/marcus-lim/PCXR-DenseNet-169-Evaluation/runs/wja96sqf</a><br/>Synced 5 W&B file(s), 0 media file(s), 0 artifact file(s) and 0 other file(s)"
      ],
      "text/plain": [
       "<IPython.core.display.HTML object>"
      ]
     },
     "metadata": {},
     "output_type": "display_data"
    },
    {
     "data": {
      "text/html": [
       "Find logs at: <code>.\\wandb\\run-20230916_141051-wja96sqf\\logs</code>"
      ],
      "text/plain": [
       "<IPython.core.display.HTML object>"
      ]
     },
     "metadata": {},
     "output_type": "display_data"
    }
   ],
   "source": [
    "wandb.agent(sweep_id, function=sweep_train, count=15)"
   ]
  },
  {
   "cell_type": "code",
   "execution_count": 41,
   "metadata": {},
   "outputs": [
    {
     "name": "stderr",
     "output_type": "stream",
     "text": [
      "\u001b[34m\u001b[1mwandb\u001b[0m: Sorting runs by -summary_metrics.mcc\n"
     ]
    },
    {
     "name": "stdout",
     "output_type": "stream",
     "text": [
      "{'epochs': 10, 'dataset': 'Chest X-Ray Images (Pneumonia)', 'dropout_1': 0.6, 'dropout_2': 0.2, 'dropout_3': 0.8, 'optimiser': 'adam', 'batch_size': 32, 'num_classes': 3, 'architecture': 'DenseNet', 'learning_rate': 0.0039532139179563825, 'fc_layer_size_1': 256, 'fc_layer_size_2': 512}\n"
     ]
    }
   ],
   "source": [
    "sweep_name = \"PCXR-DenseNet-169-Evaluation/sweeps/tzhu0pmo\"\n",
    "best_run_169_clahe = wandb.Api().sweep(sweep_name).best_run(order=\"mcc\")\n",
    "opt_params_169_clahe = best_run_169_clahe.config\n",
    "print(opt_params_169_clahe)"
   ]
  },
  {
   "cell_type": "markdown",
   "metadata": {},
   "source": [
    "# **DenseNet-121 Sweep (unenhanced):**"
   ]
  },
  {
   "cell_type": "markdown",
   "metadata": {},
   "source": [
    "### Create sweep training function:"
   ]
  },
  {
   "cell_type": "code",
   "execution_count": 42,
   "metadata": {},
   "outputs": [],
   "source": [
    "train_dir = \"..\\\\artifacts\\\\train\"\n",
    "network = \"densenet-121\"\n",
    "\n",
    "def sweep_train(config_defaults=None):\n",
    "    \n",
    "    # Initialise wandb and start run:\n",
    "    with wandb.init(config=config_defaults):\n",
    "        \n",
    "        wandb.config.architecture = \"DenseNet\"\n",
    "        wandb.config.dataset = \"Chest X-Ray Images (Pneumonia)\"\n",
    "        wandb.config.num_classes = 3\n",
    "        wandb.notes = \"Sweeping through DenseNet model variations\"\n",
    "\n",
    "        model = build_network(network=network,\n",
    "                              fc_layer_size_1=wandb.config.fc_layer_size_1,\n",
    "                              fc_layer_size_2=wandb.config.fc_layer_size_2,\n",
    "                              dropout_1=wandb.config.dropout_1,\n",
    "                              dropout_2=wandb.config.dropout_2,\n",
    "                              dropout_3=wandb.config.dropout_3)\n",
    "\n",
    "        train(model=model,\n",
    "              train_dir=train_dir,\n",
    "              batch_size=wandb.config.batch_size,\n",
    "              epochs=wandb.config.epochs, \n",
    "              learning_rate=wandb.config.learning_rate,\n",
    "              optimiser_name=wandb.config.optimiser)"
   ]
  },
  {
   "cell_type": "markdown",
   "metadata": {},
   "source": [
    "### Initialise sweep and run agent:"
   ]
  },
  {
   "cell_type": "code",
   "execution_count": 43,
   "metadata": {},
   "outputs": [
    {
     "name": "stdout",
     "output_type": "stream",
     "text": [
      "Create sweep with ID: jxdr1xzz\n",
      "Sweep URL: https://wandb.ai/marcus-lim/PCXR-DenseNet-121-Evaluation/sweeps/jxdr1xzz\n"
     ]
    }
   ],
   "source": [
    "sweep_id = wandb.sweep(sweep_config, project=\"PCXR-DenseNet-121-Evaluation\")"
   ]
  },
  {
   "cell_type": "code",
   "execution_count": 44,
   "metadata": {},
   "outputs": [
    {
     "name": "stderr",
     "output_type": "stream",
     "text": [
      "\u001b[34m\u001b[1mwandb\u001b[0m: Agent Starting Run: vjw23h8y with config:\n",
      "\u001b[34m\u001b[1mwandb\u001b[0m: \tbatch_size: 32\n",
      "\u001b[34m\u001b[1mwandb\u001b[0m: \tdropout_1: 0.6\n",
      "\u001b[34m\u001b[1mwandb\u001b[0m: \tdropout_2: 0.8\n",
      "\u001b[34m\u001b[1mwandb\u001b[0m: \tdropout_3: 0.2\n",
      "\u001b[34m\u001b[1mwandb\u001b[0m: \tepochs: 10\n",
      "\u001b[34m\u001b[1mwandb\u001b[0m: \tfc_layer_size_1: 16\n",
      "\u001b[34m\u001b[1mwandb\u001b[0m: \tfc_layer_size_2: 32\n",
      "\u001b[34m\u001b[1mwandb\u001b[0m: \tlearning_rate: 0.004918367455482324\n",
      "\u001b[34m\u001b[1mwandb\u001b[0m: \toptimiser: sgd\n",
      "Failed to detect the name of this notebook, you can set it manually with the WANDB_NOTEBOOK_NAME environment variable to enable code saving.\n"
     ]
    },
    {
     "data": {
      "text/html": [
       "wandb version 0.15.10 is available!  To upgrade, please run:\n",
       " $ pip install wandb --upgrade"
      ],
      "text/plain": [
       "<IPython.core.display.HTML object>"
      ]
     },
     "metadata": {},
     "output_type": "display_data"
    },
    {
     "data": {
      "text/html": [
       "Tracking run with wandb version 0.15.5"
      ],
      "text/plain": [
       "<IPython.core.display.HTML object>"
      ]
     },
     "metadata": {},
     "output_type": "display_data"
    },
    {
     "data": {
      "text/html": [
       "Run data is saved locally in <code>c:\\Users\\User\\Projects\\pneumonia-xray-classification\\notebooks\\wandb\\run-20230916_145114-vjw23h8y</code>"
      ],
      "text/plain": [
       "<IPython.core.display.HTML object>"
      ]
     },
     "metadata": {},
     "output_type": "display_data"
    },
    {
     "data": {
      "text/html": [
       "Syncing run <strong><a href='https://wandb.ai/marcus-lim/PCXR-DenseNet-121-Evaluation/runs/vjw23h8y' target=\"_blank\">feasible-sweep-1</a></strong> to <a href='https://wandb.ai/marcus-lim/PCXR-DenseNet-121-Evaluation' target=\"_blank\">Weights & Biases</a> (<a href='https://wandb.me/run' target=\"_blank\">docs</a>)<br/>Sweep page: <a href='https://wandb.ai/marcus-lim/PCXR-DenseNet-121-Evaluation/sweeps/jxdr1xzz' target=\"_blank\">https://wandb.ai/marcus-lim/PCXR-DenseNet-121-Evaluation/sweeps/jxdr1xzz</a>"
      ],
      "text/plain": [
       "<IPython.core.display.HTML object>"
      ]
     },
     "metadata": {},
     "output_type": "display_data"
    },
    {
     "data": {
      "text/html": [
       " View project at <a href='https://wandb.ai/marcus-lim/PCXR-DenseNet-121-Evaluation' target=\"_blank\">https://wandb.ai/marcus-lim/PCXR-DenseNet-121-Evaluation</a>"
      ],
      "text/plain": [
       "<IPython.core.display.HTML object>"
      ]
     },
     "metadata": {},
     "output_type": "display_data"
    },
    {
     "data": {
      "text/html": [
       " View sweep at <a href='https://wandb.ai/marcus-lim/PCXR-DenseNet-121-Evaluation/sweeps/jxdr1xzz' target=\"_blank\">https://wandb.ai/marcus-lim/PCXR-DenseNet-121-Evaluation/sweeps/jxdr1xzz</a>"
      ],
      "text/plain": [
       "<IPython.core.display.HTML object>"
      ]
     },
     "metadata": {},
     "output_type": "display_data"
    },
    {
     "data": {
      "text/html": [
       " View run at <a href='https://wandb.ai/marcus-lim/PCXR-DenseNet-121-Evaluation/runs/vjw23h8y' target=\"_blank\">https://wandb.ai/marcus-lim/PCXR-DenseNet-121-Evaluation/runs/vjw23h8y</a>"
      ],
      "text/plain": [
       "<IPython.core.display.HTML object>"
      ]
     },
     "metadata": {},
     "output_type": "display_data"
    },
    {
     "name": "stdout",
     "output_type": "stream",
     "text": [
      "Downloading data from https://storage.googleapis.com/tensorflow/keras-applications/densenet/densenet121_weights_tf_dim_ordering_tf_kernels_notop.h5\n",
      "29084464/29084464 [==============================] - 3s 0us/step\n",
      "Found 4684 files belonging to 3 classes.\n",
      "Using 3748 files for training.\n",
      "Using 936 files for validation.\n",
      "Found 1172 files belonging to 3 classes.\n",
      "Generating predictions and computing metrics for Epoch 1 \n",
      "30/30 [==============================] - 3s 63ms/step\n",
      "training loss : 1.1423308849334717 , training acc : 0.3292422592639923 , mcc score : 0.28604450821876526\n",
      "aucroc score  : 0.7828402519226074 , f1 score     : 0.48401129245758057 \n",
      "Generating predictions and computing metrics for Epoch 2 \n",
      "30/30 [==============================] - 2s 59ms/step\n",
      "training loss : 1.0350245237350464 , training acc : 0.4573105573654175 , mcc score : 0.40780484676361084\n",
      "aucroc score  : 0.8276627063751221 , f1 score     : 0.5583050847053528 \n",
      "Generating predictions and computing metrics for Epoch 3 \n",
      "30/30 [==============================] - 2s 60ms/step\n",
      "training loss : 0.9712847471237183 , training acc : 0.5469583868980408 , mcc score : 0.4456445574760437\n",
      "aucroc score  : 0.812278151512146 , f1 score     : 0.5346521735191345 \n",
      "Generating predictions and computing metrics for Epoch 4 \n",
      "30/30 [==============================] - 2s 60ms/step\n",
      "training loss : 0.9269858598709106 , training acc : 0.5755069255828857 , mcc score : 0.4821341633796692\n",
      "aucroc score  : 0.8551775217056274 , f1 score     : 0.5520736575126648 \n",
      "Generating predictions and computing metrics for Epoch 5 \n",
      "30/30 [==============================] - 2s 61ms/step\n",
      "training loss : 0.8810621500015259 , training acc : 0.5965848565101624 , mcc score : 0.5034304857254028\n",
      "aucroc score  : 0.8640532493591309 , f1 score     : 0.5489227175712585 \n",
      "Generating predictions and computing metrics for Epoch 6 \n",
      "30/30 [==============================] - 2s 59ms/step\n",
      "training loss : 0.8539894223213196 , training acc : 0.6109925508499146 , mcc score : 0.5180571675300598\n",
      "aucroc score  : 0.8788461685180664 , f1 score     : 0.5632137060165405 \n",
      "Generating predictions and computing metrics for Epoch 7 \n",
      "30/30 [==============================] - 2s 59ms/step\n",
      "training loss : 0.8250802755355835 , training acc : 0.6328708529472351 , mcc score : 0.5309500098228455\n",
      "aucroc score  : 0.8825443983078003 , f1 score     : 0.5827500224113464 \n",
      "Generating predictions and computing metrics for Epoch 8 \n",
      "30/30 [==============================] - 2s 60ms/step\n",
      "training loss : 0.8053938150405884 , training acc : 0.637406587600708 , mcc score : 0.5369656085968018\n",
      "aucroc score  : 0.9026627540588379 , f1 score     : 0.5776512026786804 \n",
      "Generating predictions and computing metrics for Epoch 9 \n",
      "30/30 [==============================] - 2s 61ms/step\n",
      "training loss : 0.7839019298553467 , training acc : 0.6403415203094482 , mcc score : 0.5422042608261108\n",
      "aucroc score  : 0.9072484970092773 , f1 score     : 0.5826438665390015 \n",
      "Generating predictions and computing metrics for Epoch 10 \n",
      "30/30 [==============================] - 2s 60ms/step\n",
      "training loss : 0.7690996527671814 , training acc : 0.6526147127151489 , mcc score : 0.5530272126197815\n",
      "aucroc score  : 0.8998521566390991 , f1 score     : 0.6186615824699402 \n"
     ]
    },
    {
     "data": {
      "text/html": [
       "Waiting for W&B process to finish... <strong style=\"color:green\">(success).</strong>"
      ],
      "text/plain": [
       "<IPython.core.display.HTML object>"
      ]
     },
     "metadata": {},
     "output_type": "display_data"
    },
    {
     "data": {
      "text/html": [
       "<style>\n",
       "    table.wandb td:nth-child(1) { padding: 0 10px; text-align: left ; width: auto;} td:nth-child(2) {text-align: left ; width: 100%}\n",
       "    .wandb-row { display: flex; flex-direction: row; flex-wrap: wrap; justify-content: flex-start; width: 100% }\n",
       "    .wandb-col { display: flex; flex-direction: column; flex-basis: 100%; flex: 1; padding: 10px; }\n",
       "    </style>\n",
       "<div class=\"wandb-row\"><div class=\"wandb-col\"><h3>Run history:</h3><br/><table class=\"wandb\"><tr><td>auc_roc</td><td>▁▄▃▅▆▆▇███</td></tr><tr><td>epoch/accuracy</td><td>▁▄▆▆▇▇████</td></tr><tr><td>epoch/epoch</td><td>▁▂▃▃▄▅▆▆▇█</td></tr><tr><td>epoch/learning_rate</td><td>▁▁▁▁▁▁▁▁▁▁</td></tr><tr><td>epoch/loss</td><td>█▆▅▄▃▃▂▂▁▁</td></tr><tr><td>epoch/val_accuracy</td><td>▁▅▆▇▇▇▇███</td></tr><tr><td>epoch/val_loss</td><td>█▇▆▄▄▃▂▂▁▁</td></tr><tr><td>fmeasure</td><td>▁▅▄▅▄▅▆▆▆█</td></tr><tr><td>mcc</td><td>▁▄▅▆▇▇▇███</td></tr></table><br/></div><div class=\"wandb-col\"><h3>Run summary:</h3><br/><table class=\"wandb\"><tr><td>auc_roc</td><td>0.89985</td></tr><tr><td>epoch/accuracy</td><td>0.65261</td></tr><tr><td>epoch/epoch</td><td>9</td></tr><tr><td>epoch/learning_rate</td><td>0.00492</td></tr><tr><td>epoch/loss</td><td>0.7691</td></tr><tr><td>epoch/val_accuracy</td><td>0.71581</td></tr><tr><td>epoch/val_loss</td><td>0.64844</td></tr><tr><td>fmeasure</td><td>0.61866</td></tr><tr><td>mcc</td><td>0.55303</td></tr></table><br/></div></div>"
      ],
      "text/plain": [
       "<IPython.core.display.HTML object>"
      ]
     },
     "metadata": {},
     "output_type": "display_data"
    },
    {
     "data": {
      "text/html": [
       " View run <strong style=\"color:#cdcd00\">feasible-sweep-1</strong> at: <a href='https://wandb.ai/marcus-lim/PCXR-DenseNet-121-Evaluation/runs/vjw23h8y' target=\"_blank\">https://wandb.ai/marcus-lim/PCXR-DenseNet-121-Evaluation/runs/vjw23h8y</a><br/>Synced 5 W&B file(s), 0 media file(s), 0 artifact file(s) and 0 other file(s)"
      ],
      "text/plain": [
       "<IPython.core.display.HTML object>"
      ]
     },
     "metadata": {},
     "output_type": "display_data"
    },
    {
     "data": {
      "text/html": [
       "Find logs at: <code>.\\wandb\\run-20230916_145114-vjw23h8y\\logs</code>"
      ],
      "text/plain": [
       "<IPython.core.display.HTML object>"
      ]
     },
     "metadata": {},
     "output_type": "display_data"
    },
    {
     "name": "stderr",
     "output_type": "stream",
     "text": [
      "\u001b[34m\u001b[1mwandb\u001b[0m: Agent Starting Run: tcfmhdub with config:\n",
      "\u001b[34m\u001b[1mwandb\u001b[0m: \tbatch_size: 32\n",
      "\u001b[34m\u001b[1mwandb\u001b[0m: \tdropout_1: 0.6\n",
      "\u001b[34m\u001b[1mwandb\u001b[0m: \tdropout_2: 0.2\n",
      "\u001b[34m\u001b[1mwandb\u001b[0m: \tdropout_3: 0.8\n",
      "\u001b[34m\u001b[1mwandb\u001b[0m: \tepochs: 10\n",
      "\u001b[34m\u001b[1mwandb\u001b[0m: \tfc_layer_size_1: 64\n",
      "\u001b[34m\u001b[1mwandb\u001b[0m: \tfc_layer_size_2: 16\n",
      "\u001b[34m\u001b[1mwandb\u001b[0m: \tlearning_rate: 0.0012376997304229006\n",
      "\u001b[34m\u001b[1mwandb\u001b[0m: \toptimiser: adam\n",
      "Failed to detect the name of this notebook, you can set it manually with the WANDB_NOTEBOOK_NAME environment variable to enable code saving.\n"
     ]
    },
    {
     "data": {
      "text/html": [
       "wandb version 0.15.10 is available!  To upgrade, please run:\n",
       " $ pip install wandb --upgrade"
      ],
      "text/plain": [
       "<IPython.core.display.HTML object>"
      ]
     },
     "metadata": {},
     "output_type": "display_data"
    },
    {
     "data": {
      "text/html": [
       "Tracking run with wandb version 0.15.5"
      ],
      "text/plain": [
       "<IPython.core.display.HTML object>"
      ]
     },
     "metadata": {},
     "output_type": "display_data"
    },
    {
     "data": {
      "text/html": [
       "Run data is saved locally in <code>c:\\Users\\User\\Projects\\pneumonia-xray-classification\\notebooks\\wandb\\run-20230916_150314-tcfmhdub</code>"
      ],
      "text/plain": [
       "<IPython.core.display.HTML object>"
      ]
     },
     "metadata": {},
     "output_type": "display_data"
    },
    {
     "data": {
      "text/html": [
       "Syncing run <strong><a href='https://wandb.ai/marcus-lim/PCXR-DenseNet-121-Evaluation/runs/tcfmhdub' target=\"_blank\">wobbly-sweep-2</a></strong> to <a href='https://wandb.ai/marcus-lim/PCXR-DenseNet-121-Evaluation' target=\"_blank\">Weights & Biases</a> (<a href='https://wandb.me/run' target=\"_blank\">docs</a>)<br/>Sweep page: <a href='https://wandb.ai/marcus-lim/PCXR-DenseNet-121-Evaluation/sweeps/jxdr1xzz' target=\"_blank\">https://wandb.ai/marcus-lim/PCXR-DenseNet-121-Evaluation/sweeps/jxdr1xzz</a>"
      ],
      "text/plain": [
       "<IPython.core.display.HTML object>"
      ]
     },
     "metadata": {},
     "output_type": "display_data"
    },
    {
     "data": {
      "text/html": [
       " View project at <a href='https://wandb.ai/marcus-lim/PCXR-DenseNet-121-Evaluation' target=\"_blank\">https://wandb.ai/marcus-lim/PCXR-DenseNet-121-Evaluation</a>"
      ],
      "text/plain": [
       "<IPython.core.display.HTML object>"
      ]
     },
     "metadata": {},
     "output_type": "display_data"
    },
    {
     "data": {
      "text/html": [
       " View sweep at <a href='https://wandb.ai/marcus-lim/PCXR-DenseNet-121-Evaluation/sweeps/jxdr1xzz' target=\"_blank\">https://wandb.ai/marcus-lim/PCXR-DenseNet-121-Evaluation/sweeps/jxdr1xzz</a>"
      ],
      "text/plain": [
       "<IPython.core.display.HTML object>"
      ]
     },
     "metadata": {},
     "output_type": "display_data"
    },
    {
     "data": {
      "text/html": [
       " View run at <a href='https://wandb.ai/marcus-lim/PCXR-DenseNet-121-Evaluation/runs/tcfmhdub' target=\"_blank\">https://wandb.ai/marcus-lim/PCXR-DenseNet-121-Evaluation/runs/tcfmhdub</a>"
      ],
      "text/plain": [
       "<IPython.core.display.HTML object>"
      ]
     },
     "metadata": {},
     "output_type": "display_data"
    },
    {
     "name": "stdout",
     "output_type": "stream",
     "text": [
      "Found 4684 files belonging to 3 classes.\n",
      "Using 3748 files for training.\n",
      "Using 936 files for validation.\n",
      "Found 1172 files belonging to 3 classes.\n",
      "Generating predictions and computing metrics for Epoch 1 \n",
      "30/30 [==============================] - 3s 59ms/step\n",
      "training loss : 0.9412326812744141 , training acc : 0.5621665120124817 , mcc score : 0.5948848128318787\n",
      "aucroc score  : 0.9229289889335632 , f1 score     : 0.6468175649642944 \n",
      "Generating predictions and computing metrics for Epoch 2 \n",
      "30/30 [==============================] - 2s 60ms/step\n",
      "training loss : 0.7150144577026367 , training acc : 0.6910352110862732 , mcc score : 0.6218174695968628\n",
      "aucroc score  : 0.9142012000083923 , f1 score     : 0.7165684700012207 \n",
      "Generating predictions and computing metrics for Epoch 3 \n",
      "30/30 [==============================] - 2s 59ms/step\n",
      "training loss : 0.6559638977050781 , training acc : 0.720917820930481 , mcc score : 0.625676155090332\n",
      "aucroc score  : 0.9065088629722595 , f1 score     : 0.7305943965911865 \n",
      "Generating predictions and computing metrics for Epoch 4 \n",
      "30/30 [==============================] - 2s 60ms/step\n",
      "training loss : 0.626914381980896 , training acc : 0.7345250844955444 , mcc score : 0.6433528661727905\n",
      "aucroc score  : 0.9343194961547852 , f1 score     : 0.7237672209739685 \n",
      "Generating predictions and computing metrics for Epoch 5 \n",
      "30/30 [==============================] - 2s 59ms/step\n",
      "training loss : 0.6090725064277649 , training acc : 0.7433297634124756 , mcc score : 0.6425660848617554\n",
      "aucroc score  : 0.9362425804138184 , f1 score     : 0.7136452794075012 \n",
      "Generating predictions and computing metrics for Epoch 6 \n",
      "30/30 [==============================] - 2s 60ms/step\n",
      "training loss : 0.6032058000564575 , training acc : 0.7425293326377869 , mcc score : 0.661110520362854\n",
      "aucroc score  : 0.9284023642539978 , f1 score     : 0.7608098387718201 \n",
      "Generating predictions and computing metrics for Epoch 7 \n",
      "30/30 [==============================] - 2s 60ms/step\n",
      "training loss : 0.5755442976951599 , training acc : 0.7609391808509827 , mcc score : 0.6613464951515198\n",
      "aucroc score  : 0.9326923489570618 , f1 score     : 0.7570347785949707 \n",
      "Generating predictions and computing metrics for Epoch 8 \n",
      "30/30 [==============================] - 2s 60ms/step\n",
      "training loss : 0.5782145261764526 , training acc : 0.7617396116256714 , mcc score : 0.6626563668251038\n",
      "aucroc score  : 0.9286982417106628 , f1 score     : 0.7681297659873962 \n",
      "Generating predictions and computing metrics for Epoch 9 \n",
      "30/30 [==============================] - 2s 60ms/step\n",
      "training loss : 0.56805419921875 , training acc : 0.761472761631012 , mcc score : 0.6839103698730469\n",
      "aucroc score  : 0.9426035284996033 , f1 score     : 0.7734784483909607 \n",
      "Generating predictions and computing metrics for Epoch 10 \n",
      "30/30 [==============================] - 2s 60ms/step\n",
      "training loss : 0.5675302743911743 , training acc : 0.7686766386032104 , mcc score : 0.6716108322143555\n",
      "aucroc score  : 0.9368342757225037 , f1 score     : 0.7658720016479492 \n"
     ]
    },
    {
     "data": {
      "text/html": [
       "Waiting for W&B process to finish... <strong style=\"color:green\">(success).</strong>"
      ],
      "text/plain": [
       "<IPython.core.display.HTML object>"
      ]
     },
     "metadata": {},
     "output_type": "display_data"
    },
    {
     "data": {
      "text/html": [
       "<style>\n",
       "    table.wandb td:nth-child(1) { padding: 0 10px; text-align: left ; width: auto;} td:nth-child(2) {text-align: left ; width: 100%}\n",
       "    .wandb-row { display: flex; flex-direction: row; flex-wrap: wrap; justify-content: flex-start; width: 100% }\n",
       "    .wandb-col { display: flex; flex-direction: column; flex-basis: 100%; flex: 1; padding: 10px; }\n",
       "    </style>\n",
       "<div class=\"wandb-row\"><div class=\"wandb-col\"><h3>Run history:</h3><br/><table class=\"wandb\"><tr><td>auc_roc</td><td>▄▂▁▆▇▅▆▅█▇</td></tr><tr><td>epoch/accuracy</td><td>▁▅▆▇▇▇████</td></tr><tr><td>epoch/epoch</td><td>▁▂▃▃▄▅▆▆▇█</td></tr><tr><td>epoch/learning_rate</td><td>▁▁▁▁▁▁▁▁▁▁</td></tr><tr><td>epoch/loss</td><td>█▄▃▂▂▂▁▁▁▁</td></tr><tr><td>epoch/val_accuracy</td><td>▁▄▄▅▅▇▆▇█▇</td></tr><tr><td>epoch/val_loss</td><td>█▅▄▂▃▁▁▁▁▁</td></tr><tr><td>fmeasure</td><td>▁▅▆▅▅▇▇███</td></tr><tr><td>mcc</td><td>▁▃▃▅▅▆▆▆█▇</td></tr></table><br/></div><div class=\"wandb-col\"><h3>Run summary:</h3><br/><table class=\"wandb\"><tr><td>auc_roc</td><td>0.93683</td></tr><tr><td>epoch/accuracy</td><td>0.76868</td></tr><tr><td>epoch/epoch</td><td>9</td></tr><tr><td>epoch/learning_rate</td><td>0.00124</td></tr><tr><td>epoch/loss</td><td>0.56753</td></tr><tr><td>epoch/val_accuracy</td><td>0.79274</td></tr><tr><td>epoch/val_loss</td><td>0.49901</td></tr><tr><td>fmeasure</td><td>0.76587</td></tr><tr><td>mcc</td><td>0.67161</td></tr></table><br/></div></div>"
      ],
      "text/plain": [
       "<IPython.core.display.HTML object>"
      ]
     },
     "metadata": {},
     "output_type": "display_data"
    },
    {
     "data": {
      "text/html": [
       " View run <strong style=\"color:#cdcd00\">wobbly-sweep-2</strong> at: <a href='https://wandb.ai/marcus-lim/PCXR-DenseNet-121-Evaluation/runs/tcfmhdub' target=\"_blank\">https://wandb.ai/marcus-lim/PCXR-DenseNet-121-Evaluation/runs/tcfmhdub</a><br/>Synced 5 W&B file(s), 0 media file(s), 0 artifact file(s) and 0 other file(s)"
      ],
      "text/plain": [
       "<IPython.core.display.HTML object>"
      ]
     },
     "metadata": {},
     "output_type": "display_data"
    },
    {
     "data": {
      "text/html": [
       "Find logs at: <code>.\\wandb\\run-20230916_150314-tcfmhdub\\logs</code>"
      ],
      "text/plain": [
       "<IPython.core.display.HTML object>"
      ]
     },
     "metadata": {},
     "output_type": "display_data"
    },
    {
     "name": "stderr",
     "output_type": "stream",
     "text": [
      "\u001b[34m\u001b[1mwandb\u001b[0m: Sweep Agent: Waiting for job.\n",
      "\u001b[34m\u001b[1mwandb\u001b[0m: Job received.\n",
      "\u001b[34m\u001b[1mwandb\u001b[0m: Agent Starting Run: kp8c5xbq with config:\n",
      "\u001b[34m\u001b[1mwandb\u001b[0m: \tbatch_size: 32\n",
      "\u001b[34m\u001b[1mwandb\u001b[0m: \tdropout_1: 0.8\n",
      "\u001b[34m\u001b[1mwandb\u001b[0m: \tdropout_2: 0.2\n",
      "\u001b[34m\u001b[1mwandb\u001b[0m: \tdropout_3: 0.2\n",
      "\u001b[34m\u001b[1mwandb\u001b[0m: \tepochs: 10\n",
      "\u001b[34m\u001b[1mwandb\u001b[0m: \tfc_layer_size_1: 32\n",
      "\u001b[34m\u001b[1mwandb\u001b[0m: \tfc_layer_size_2: 256\n",
      "\u001b[34m\u001b[1mwandb\u001b[0m: \tlearning_rate: 0.002022793295632536\n",
      "\u001b[34m\u001b[1mwandb\u001b[0m: \toptimiser: adam\n",
      "Failed to detect the name of this notebook, you can set it manually with the WANDB_NOTEBOOK_NAME environment variable to enable code saving.\n"
     ]
    },
    {
     "data": {
      "text/html": [
       "wandb version 0.15.10 is available!  To upgrade, please run:\n",
       " $ pip install wandb --upgrade"
      ],
      "text/plain": [
       "<IPython.core.display.HTML object>"
      ]
     },
     "metadata": {},
     "output_type": "display_data"
    },
    {
     "data": {
      "text/html": [
       "Tracking run with wandb version 0.15.5"
      ],
      "text/plain": [
       "<IPython.core.display.HTML object>"
      ]
     },
     "metadata": {},
     "output_type": "display_data"
    },
    {
     "data": {
      "text/html": [
       "Run data is saved locally in <code>c:\\Users\\User\\Projects\\pneumonia-xray-classification\\notebooks\\wandb\\run-20230916_151514-kp8c5xbq</code>"
      ],
      "text/plain": [
       "<IPython.core.display.HTML object>"
      ]
     },
     "metadata": {},
     "output_type": "display_data"
    },
    {
     "data": {
      "text/html": [
       "Syncing run <strong><a href='https://wandb.ai/marcus-lim/PCXR-DenseNet-121-Evaluation/runs/kp8c5xbq' target=\"_blank\">glowing-sweep-3</a></strong> to <a href='https://wandb.ai/marcus-lim/PCXR-DenseNet-121-Evaluation' target=\"_blank\">Weights & Biases</a> (<a href='https://wandb.me/run' target=\"_blank\">docs</a>)<br/>Sweep page: <a href='https://wandb.ai/marcus-lim/PCXR-DenseNet-121-Evaluation/sweeps/jxdr1xzz' target=\"_blank\">https://wandb.ai/marcus-lim/PCXR-DenseNet-121-Evaluation/sweeps/jxdr1xzz</a>"
      ],
      "text/plain": [
       "<IPython.core.display.HTML object>"
      ]
     },
     "metadata": {},
     "output_type": "display_data"
    },
    {
     "data": {
      "text/html": [
       " View project at <a href='https://wandb.ai/marcus-lim/PCXR-DenseNet-121-Evaluation' target=\"_blank\">https://wandb.ai/marcus-lim/PCXR-DenseNet-121-Evaluation</a>"
      ],
      "text/plain": [
       "<IPython.core.display.HTML object>"
      ]
     },
     "metadata": {},
     "output_type": "display_data"
    },
    {
     "data": {
      "text/html": [
       " View sweep at <a href='https://wandb.ai/marcus-lim/PCXR-DenseNet-121-Evaluation/sweeps/jxdr1xzz' target=\"_blank\">https://wandb.ai/marcus-lim/PCXR-DenseNet-121-Evaluation/sweeps/jxdr1xzz</a>"
      ],
      "text/plain": [
       "<IPython.core.display.HTML object>"
      ]
     },
     "metadata": {},
     "output_type": "display_data"
    },
    {
     "data": {
      "text/html": [
       " View run at <a href='https://wandb.ai/marcus-lim/PCXR-DenseNet-121-Evaluation/runs/kp8c5xbq' target=\"_blank\">https://wandb.ai/marcus-lim/PCXR-DenseNet-121-Evaluation/runs/kp8c5xbq</a>"
      ],
      "text/plain": [
       "<IPython.core.display.HTML object>"
      ]
     },
     "metadata": {},
     "output_type": "display_data"
    },
    {
     "name": "stdout",
     "output_type": "stream",
     "text": [
      "Found 4684 files belonging to 3 classes.\n",
      "Using 3748 files for training.\n",
      "Using 936 files for validation.\n",
      "Found 1172 files belonging to 3 classes.\n",
      "Generating predictions and computing metrics for Epoch 1 \n",
      "30/30 [==============================] - 3s 59ms/step\n",
      "training loss : 0.698093056678772 , training acc : 0.6969050168991089 , mcc score : 0.6398783922195435\n",
      "aucroc score  : 0.9213017821311951 , f1 score     : 0.7497245669364929 \n",
      "Generating predictions and computing metrics for Epoch 2 \n",
      "30/30 [==============================] - 2s 61ms/step\n",
      "training loss : 0.5911341309547424 , training acc : 0.7582710981369019 , mcc score : 0.6511117219924927\n",
      "aucroc score  : 0.9251478910446167 , f1 score     : 0.7528007626533508 \n",
      "Generating predictions and computing metrics for Epoch 3 \n",
      "30/30 [==============================] - 2s 59ms/step\n",
      "training loss : 0.5748903751373291 , training acc : 0.7596051096916199 , mcc score : 0.6511437296867371\n",
      "aucroc score  : 0.9128698110580444 , f1 score     : 0.7652778625488281 \n",
      "Generating predictions and computing metrics for Epoch 4 \n",
      "30/30 [==============================] - 2s 59ms/step\n",
      "training loss : 0.5569804906845093 , training acc : 0.767075777053833 , mcc score : 0.6711291670799255\n",
      "aucroc score  : 0.9319526553153992 , f1 score     : 0.7569942474365234 \n",
      "Generating predictions and computing metrics for Epoch 5 \n",
      "30/30 [==============================] - 2s 59ms/step\n",
      "training loss : 0.5539680123329163 , training acc : 0.7729455828666687 , mcc score : 0.6461332440376282\n",
      "aucroc score  : 0.9297337532043457 , f1 score     : 0.7276571393013 \n",
      "Generating predictions and computing metrics for Epoch 6 \n",
      "30/30 [==============================] - 2s 60ms/step\n",
      "training loss : 0.559002697467804 , training acc : 0.7676094174385071 , mcc score : 0.6542482376098633\n",
      "aucroc score  : 0.9294378161430359 , f1 score     : 0.7544527053833008 \n",
      "Generating predictions and computing metrics for Epoch 7 \n",
      "30/30 [==============================] - 2s 59ms/step\n",
      "training loss : 0.5394423604011536 , training acc : 0.7825506925582886 , mcc score : 0.6539305448532104\n",
      "aucroc score  : 0.9244083166122437 , f1 score     : 0.7600874304771423 \n",
      "Generating predictions and computing metrics for Epoch 8 \n",
      "30/30 [==============================] - 2s 59ms/step\n",
      "training loss : 0.5439530611038208 , training acc : 0.7769476771354675 , mcc score : 0.6674467921257019\n",
      "aucroc score  : 0.9292899370193481 , f1 score     : 0.7671104073524475 \n",
      "Generating predictions and computing metrics for Epoch 9 \n",
      "30/30 [==============================] - 2s 59ms/step\n",
      "training loss : 0.5365947484970093 , training acc : 0.7793489694595337 , mcc score : 0.664018452167511\n",
      "aucroc score  : 0.9325443506240845 , f1 score     : 0.7585470676422119 \n",
      "Generating predictions and computing metrics for Epoch 10 \n",
      "30/30 [==============================] - 2s 59ms/step\n",
      "training loss : 0.5379031300544739 , training acc : 0.777214527130127 , mcc score : 0.6451833844184875\n",
      "aucroc score  : 0.9241123795509338 , f1 score     : 0.745963990688324 \n"
     ]
    },
    {
     "data": {
      "text/html": [
       "Waiting for W&B process to finish... <strong style=\"color:green\">(success).</strong>"
      ],
      "text/plain": [
       "<IPython.core.display.HTML object>"
      ]
     },
     "metadata": {},
     "output_type": "display_data"
    },
    {
     "data": {
      "text/html": [
       "<style>\n",
       "    table.wandb td:nth-child(1) { padding: 0 10px; text-align: left ; width: auto;} td:nth-child(2) {text-align: left ; width: 100%}\n",
       "    .wandb-row { display: flex; flex-direction: row; flex-wrap: wrap; justify-content: flex-start; width: 100% }\n",
       "    .wandb-col { display: flex; flex-direction: column; flex-basis: 100%; flex: 1; padding: 10px; }\n",
       "    </style>\n",
       "<div class=\"wandb-row\"><div class=\"wandb-col\"><h3>Run history:</h3><br/><table class=\"wandb\"><tr><td>auc_roc</td><td>▄▅▁█▇▇▅▇█▅</td></tr><tr><td>epoch/accuracy</td><td>▁▆▆▇▇▇████</td></tr><tr><td>epoch/epoch</td><td>▁▂▃▃▄▅▆▆▇█</td></tr><tr><td>epoch/learning_rate</td><td>▁▁▁▁▁▁▁▁▁▁</td></tr><tr><td>epoch/loss</td><td>█▃▃▂▂▂▁▁▁▁</td></tr><tr><td>epoch/val_accuracy</td><td>▁▄▃█▂▄▅▇▆▁</td></tr><tr><td>epoch/val_loss</td><td>▅▄▅▃▃▄▁▃▄█</td></tr><tr><td>fmeasure</td><td>▅▅█▆▁▆▇█▆▄</td></tr><tr><td>mcc</td><td>▁▄▄█▂▄▄▇▆▂</td></tr></table><br/></div><div class=\"wandb-col\"><h3>Run summary:</h3><br/><table class=\"wandb\"><tr><td>auc_roc</td><td>0.92411</td></tr><tr><td>epoch/accuracy</td><td>0.77721</td></tr><tr><td>epoch/epoch</td><td>9</td></tr><tr><td>epoch/learning_rate</td><td>0.00202</td></tr><tr><td>epoch/loss</td><td>0.5379</td></tr><tr><td>epoch/val_accuracy</td><td>0.7735</td></tr><tr><td>epoch/val_loss</td><td>0.56917</td></tr><tr><td>fmeasure</td><td>0.74596</td></tr><tr><td>mcc</td><td>0.64518</td></tr></table><br/></div></div>"
      ],
      "text/plain": [
       "<IPython.core.display.HTML object>"
      ]
     },
     "metadata": {},
     "output_type": "display_data"
    },
    {
     "data": {
      "text/html": [
       " View run <strong style=\"color:#cdcd00\">glowing-sweep-3</strong> at: <a href='https://wandb.ai/marcus-lim/PCXR-DenseNet-121-Evaluation/runs/kp8c5xbq' target=\"_blank\">https://wandb.ai/marcus-lim/PCXR-DenseNet-121-Evaluation/runs/kp8c5xbq</a><br/>Synced 5 W&B file(s), 0 media file(s), 0 artifact file(s) and 0 other file(s)"
      ],
      "text/plain": [
       "<IPython.core.display.HTML object>"
      ]
     },
     "metadata": {},
     "output_type": "display_data"
    },
    {
     "data": {
      "text/html": [
       "Find logs at: <code>.\\wandb\\run-20230916_151514-kp8c5xbq\\logs</code>"
      ],
      "text/plain": [
       "<IPython.core.display.HTML object>"
      ]
     },
     "metadata": {},
     "output_type": "display_data"
    },
    {
     "name": "stderr",
     "output_type": "stream",
     "text": [
      "\u001b[34m\u001b[1mwandb\u001b[0m: Agent Starting Run: ya2b77ns with config:\n",
      "\u001b[34m\u001b[1mwandb\u001b[0m: \tbatch_size: 32\n",
      "\u001b[34m\u001b[1mwandb\u001b[0m: \tdropout_1: 0.2\n",
      "\u001b[34m\u001b[1mwandb\u001b[0m: \tdropout_2: 0.6\n",
      "\u001b[34m\u001b[1mwandb\u001b[0m: \tdropout_3: 0.6\n",
      "\u001b[34m\u001b[1mwandb\u001b[0m: \tepochs: 10\n",
      "\u001b[34m\u001b[1mwandb\u001b[0m: \tfc_layer_size_1: 256\n",
      "\u001b[34m\u001b[1mwandb\u001b[0m: \tfc_layer_size_2: 256\n",
      "\u001b[34m\u001b[1mwandb\u001b[0m: \tlearning_rate: 0.0038941987040447034\n",
      "\u001b[34m\u001b[1mwandb\u001b[0m: \toptimiser: adam\n",
      "Failed to detect the name of this notebook, you can set it manually with the WANDB_NOTEBOOK_NAME environment variable to enable code saving.\n"
     ]
    },
    {
     "data": {
      "text/html": [
       "wandb version 0.15.10 is available!  To upgrade, please run:\n",
       " $ pip install wandb --upgrade"
      ],
      "text/plain": [
       "<IPython.core.display.HTML object>"
      ]
     },
     "metadata": {},
     "output_type": "display_data"
    },
    {
     "data": {
      "text/html": [
       "Tracking run with wandb version 0.15.5"
      ],
      "text/plain": [
       "<IPython.core.display.HTML object>"
      ]
     },
     "metadata": {},
     "output_type": "display_data"
    },
    {
     "data": {
      "text/html": [
       "Run data is saved locally in <code>c:\\Users\\User\\Projects\\pneumonia-xray-classification\\notebooks\\wandb\\run-20230916_152710-ya2b77ns</code>"
      ],
      "text/plain": [
       "<IPython.core.display.HTML object>"
      ]
     },
     "metadata": {},
     "output_type": "display_data"
    },
    {
     "data": {
      "text/html": [
       "Syncing run <strong><a href='https://wandb.ai/marcus-lim/PCXR-DenseNet-121-Evaluation/runs/ya2b77ns' target=\"_blank\">hearty-sweep-4</a></strong> to <a href='https://wandb.ai/marcus-lim/PCXR-DenseNet-121-Evaluation' target=\"_blank\">Weights & Biases</a> (<a href='https://wandb.me/run' target=\"_blank\">docs</a>)<br/>Sweep page: <a href='https://wandb.ai/marcus-lim/PCXR-DenseNet-121-Evaluation/sweeps/jxdr1xzz' target=\"_blank\">https://wandb.ai/marcus-lim/PCXR-DenseNet-121-Evaluation/sweeps/jxdr1xzz</a>"
      ],
      "text/plain": [
       "<IPython.core.display.HTML object>"
      ]
     },
     "metadata": {},
     "output_type": "display_data"
    },
    {
     "data": {
      "text/html": [
       " View project at <a href='https://wandb.ai/marcus-lim/PCXR-DenseNet-121-Evaluation' target=\"_blank\">https://wandb.ai/marcus-lim/PCXR-DenseNet-121-Evaluation</a>"
      ],
      "text/plain": [
       "<IPython.core.display.HTML object>"
      ]
     },
     "metadata": {},
     "output_type": "display_data"
    },
    {
     "data": {
      "text/html": [
       " View sweep at <a href='https://wandb.ai/marcus-lim/PCXR-DenseNet-121-Evaluation/sweeps/jxdr1xzz' target=\"_blank\">https://wandb.ai/marcus-lim/PCXR-DenseNet-121-Evaluation/sweeps/jxdr1xzz</a>"
      ],
      "text/plain": [
       "<IPython.core.display.HTML object>"
      ]
     },
     "metadata": {},
     "output_type": "display_data"
    },
    {
     "data": {
      "text/html": [
       " View run at <a href='https://wandb.ai/marcus-lim/PCXR-DenseNet-121-Evaluation/runs/ya2b77ns' target=\"_blank\">https://wandb.ai/marcus-lim/PCXR-DenseNet-121-Evaluation/runs/ya2b77ns</a>"
      ],
      "text/plain": [
       "<IPython.core.display.HTML object>"
      ]
     },
     "metadata": {},
     "output_type": "display_data"
    },
    {
     "name": "stdout",
     "output_type": "stream",
     "text": [
      "Found 4684 files belonging to 3 classes.\n",
      "Using 3748 files for training.\n",
      "Using 936 files for validation.\n",
      "Found 1172 files belonging to 3 classes.\n",
      "Generating predictions and computing metrics for Epoch 1 \n",
      "30/30 [==============================] - 3s 53ms/step\n",
      "training loss : 0.6585791707038879 , training acc : 0.7219850420951843 , mcc score : 0.6528027653694153\n",
      "aucroc score  : 0.9057691693305969 , f1 score     : 0.7602662444114685 \n",
      "Generating predictions and computing metrics for Epoch 2 \n",
      "30/30 [==============================] - 2s 53ms/step\n",
      "training loss : 0.5564844608306885 , training acc : 0.7702775001525879 , mcc score : 0.6524763703346252\n",
      "aucroc score  : 0.9323964715003967 , f1 score     : 0.7572727203369141 \n",
      "Generating predictions and computing metrics for Epoch 3 \n",
      "30/30 [==============================] - 2s 52ms/step\n",
      "training loss : 0.5311547517776489 , training acc : 0.7868196368217468 , mcc score : 0.6557100415229797\n",
      "aucroc score  : 0.9316568374633789 , f1 score     : 0.7508153319358826 \n",
      "Generating predictions and computing metrics for Epoch 4 \n",
      "30/30 [==============================] - 2s 52ms/step\n",
      "training loss : 0.5047683119773865 , training acc : 0.79429030418396 , mcc score : 0.670368492603302\n",
      "aucroc score  : 0.939644992351532 , f1 score     : 0.7690427899360657 \n",
      "Generating predictions and computing metrics for Epoch 5 \n",
      "30/30 [==============================] - 2s 53ms/step\n",
      "training loss : 0.49567297101020813 , training acc : 0.7974919676780701 , mcc score : 0.6701464056968689\n",
      "aucroc score  : 0.936982274055481 , f1 score     : 0.770416259765625 \n",
      "Generating predictions and computing metrics for Epoch 6 \n",
      "30/30 [==============================] - 2s 52ms/step\n",
      "training loss : 0.4911353886127472 , training acc : 0.7980256080627441 , mcc score : 0.5916081666946411\n",
      "aucroc score  : 0.8869822025299072 , f1 score     : 0.7020082473754883 \n",
      "Generating predictions and computing metrics for Epoch 7 \n",
      "30/30 [==============================] - 2s 52ms/step\n",
      "training loss : 0.4755145311355591 , training acc : 0.8001601099967957 , mcc score : 0.6919178366661072\n",
      "aucroc score  : 0.947485089302063 , f1 score     : 0.7863485813140869 \n",
      "Generating predictions and computing metrics for Epoch 8 \n",
      "30/30 [==============================] - 2s 53ms/step\n",
      "training loss : 0.4862461984157562 , training acc : 0.8028281927108765 , mcc score : 0.6368822455406189\n",
      "aucroc score  : 0.928402304649353 , f1 score     : 0.7443346381187439 \n",
      "Generating predictions and computing metrics for Epoch 9 \n",
      "30/30 [==============================] - 2s 52ms/step\n",
      "training loss : 0.4778123199939728 , training acc : 0.8009605407714844 , mcc score : 0.6673421859741211\n",
      "aucroc score  : 0.9318046569824219 , f1 score     : 0.769411027431488 \n",
      "Generating predictions and computing metrics for Epoch 10 \n",
      "30/30 [==============================] - 2s 52ms/step\n",
      "training loss : 0.4708167314529419 , training acc : 0.8121665120124817 , mcc score : 0.6885314583778381\n",
      "aucroc score  : 0.946597695350647 , f1 score     : 0.781436026096344 \n"
     ]
    },
    {
     "data": {
      "text/html": [
       "Waiting for W&B process to finish... <strong style=\"color:green\">(success).</strong>"
      ],
      "text/plain": [
       "<IPython.core.display.HTML object>"
      ]
     },
     "metadata": {},
     "output_type": "display_data"
    },
    {
     "data": {
      "text/html": [
       "<style>\n",
       "    table.wandb td:nth-child(1) { padding: 0 10px; text-align: left ; width: auto;} td:nth-child(2) {text-align: left ; width: 100%}\n",
       "    .wandb-row { display: flex; flex-direction: row; flex-wrap: wrap; justify-content: flex-start; width: 100% }\n",
       "    .wandb-col { display: flex; flex-direction: column; flex-basis: 100%; flex: 1; padding: 10px; }\n",
       "    </style>\n",
       "<div class=\"wandb-row\"><div class=\"wandb-col\"><h3>Run history:</h3><br/><table class=\"wandb\"><tr><td>auc_roc</td><td>▃▆▆▇▇▁█▆▆█</td></tr><tr><td>epoch/accuracy</td><td>▁▅▆▇▇▇▇▇▇█</td></tr><tr><td>epoch/epoch</td><td>▁▂▃▃▄▅▆▆▇█</td></tr><tr><td>epoch/learning_rate</td><td>▁▁▁▁▁▁▁▁▁▁</td></tr><tr><td>epoch/loss</td><td>█▄▃▂▂▂▁▂▁▁</td></tr><tr><td>epoch/val_accuracy</td><td>▆▆▆▇▇▁█▄▇█</td></tr><tr><td>epoch/val_loss</td><td>▂▂▃▂▁█▁▅▁▁</td></tr><tr><td>fmeasure</td><td>▆▆▅▇▇▁█▅▇█</td></tr><tr><td>mcc</td><td>▅▅▅▆▆▁█▄▆█</td></tr></table><br/></div><div class=\"wandb-col\"><h3>Run summary:</h3><br/><table class=\"wandb\"><tr><td>auc_roc</td><td>0.9466</td></tr><tr><td>epoch/accuracy</td><td>0.81217</td></tr><tr><td>epoch/epoch</td><td>9</td></tr><tr><td>epoch/learning_rate</td><td>0.00389</td></tr><tr><td>epoch/loss</td><td>0.47082</td></tr><tr><td>epoch/val_accuracy</td><td>0.80342</td></tr><tr><td>epoch/val_loss</td><td>0.51227</td></tr><tr><td>fmeasure</td><td>0.78144</td></tr><tr><td>mcc</td><td>0.68853</td></tr></table><br/></div></div>"
      ],
      "text/plain": [
       "<IPython.core.display.HTML object>"
      ]
     },
     "metadata": {},
     "output_type": "display_data"
    },
    {
     "data": {
      "text/html": [
       " View run <strong style=\"color:#cdcd00\">hearty-sweep-4</strong> at: <a href='https://wandb.ai/marcus-lim/PCXR-DenseNet-121-Evaluation/runs/ya2b77ns' target=\"_blank\">https://wandb.ai/marcus-lim/PCXR-DenseNet-121-Evaluation/runs/ya2b77ns</a><br/>Synced 5 W&B file(s), 0 media file(s), 0 artifact file(s) and 0 other file(s)"
      ],
      "text/plain": [
       "<IPython.core.display.HTML object>"
      ]
     },
     "metadata": {},
     "output_type": "display_data"
    },
    {
     "data": {
      "text/html": [
       "Find logs at: <code>.\\wandb\\run-20230916_152710-ya2b77ns\\logs</code>"
      ],
      "text/plain": [
       "<IPython.core.display.HTML object>"
      ]
     },
     "metadata": {},
     "output_type": "display_data"
    },
    {
     "name": "stderr",
     "output_type": "stream",
     "text": [
      "\u001b[34m\u001b[1mwandb\u001b[0m: Agent Starting Run: 2b8gmtzo with config:\n",
      "\u001b[34m\u001b[1mwandb\u001b[0m: \tbatch_size: 32\n",
      "\u001b[34m\u001b[1mwandb\u001b[0m: \tdropout_1: 0.8\n",
      "\u001b[34m\u001b[1mwandb\u001b[0m: \tdropout_2: 0.8\n",
      "\u001b[34m\u001b[1mwandb\u001b[0m: \tdropout_3: 0.2\n",
      "\u001b[34m\u001b[1mwandb\u001b[0m: \tepochs: 10\n",
      "\u001b[34m\u001b[1mwandb\u001b[0m: \tfc_layer_size_1: 256\n",
      "\u001b[34m\u001b[1mwandb\u001b[0m: \tfc_layer_size_2: 256\n",
      "\u001b[34m\u001b[1mwandb\u001b[0m: \tlearning_rate: 0.00417684688849371\n",
      "\u001b[34m\u001b[1mwandb\u001b[0m: \toptimiser: sgd\n",
      "Failed to detect the name of this notebook, you can set it manually with the WANDB_NOTEBOOK_NAME environment variable to enable code saving.\n"
     ]
    },
    {
     "data": {
      "text/html": [
       "wandb version 0.15.10 is available!  To upgrade, please run:\n",
       " $ pip install wandb --upgrade"
      ],
      "text/plain": [
       "<IPython.core.display.HTML object>"
      ]
     },
     "metadata": {},
     "output_type": "display_data"
    },
    {
     "data": {
      "text/html": [
       "Tracking run with wandb version 0.15.5"
      ],
      "text/plain": [
       "<IPython.core.display.HTML object>"
      ]
     },
     "metadata": {},
     "output_type": "display_data"
    },
    {
     "data": {
      "text/html": [
       "Run data is saved locally in <code>c:\\Users\\User\\Projects\\pneumonia-xray-classification\\notebooks\\wandb\\run-20230916_153852-2b8gmtzo</code>"
      ],
      "text/plain": [
       "<IPython.core.display.HTML object>"
      ]
     },
     "metadata": {},
     "output_type": "display_data"
    },
    {
     "data": {
      "text/html": [
       "Syncing run <strong><a href='https://wandb.ai/marcus-lim/PCXR-DenseNet-121-Evaluation/runs/2b8gmtzo' target=\"_blank\">zesty-sweep-5</a></strong> to <a href='https://wandb.ai/marcus-lim/PCXR-DenseNet-121-Evaluation' target=\"_blank\">Weights & Biases</a> (<a href='https://wandb.me/run' target=\"_blank\">docs</a>)<br/>Sweep page: <a href='https://wandb.ai/marcus-lim/PCXR-DenseNet-121-Evaluation/sweeps/jxdr1xzz' target=\"_blank\">https://wandb.ai/marcus-lim/PCXR-DenseNet-121-Evaluation/sweeps/jxdr1xzz</a>"
      ],
      "text/plain": [
       "<IPython.core.display.HTML object>"
      ]
     },
     "metadata": {},
     "output_type": "display_data"
    },
    {
     "data": {
      "text/html": [
       " View project at <a href='https://wandb.ai/marcus-lim/PCXR-DenseNet-121-Evaluation' target=\"_blank\">https://wandb.ai/marcus-lim/PCXR-DenseNet-121-Evaluation</a>"
      ],
      "text/plain": [
       "<IPython.core.display.HTML object>"
      ]
     },
     "metadata": {},
     "output_type": "display_data"
    },
    {
     "data": {
      "text/html": [
       " View sweep at <a href='https://wandb.ai/marcus-lim/PCXR-DenseNet-121-Evaluation/sweeps/jxdr1xzz' target=\"_blank\">https://wandb.ai/marcus-lim/PCXR-DenseNet-121-Evaluation/sweeps/jxdr1xzz</a>"
      ],
      "text/plain": [
       "<IPython.core.display.HTML object>"
      ]
     },
     "metadata": {},
     "output_type": "display_data"
    },
    {
     "data": {
      "text/html": [
       " View run at <a href='https://wandb.ai/marcus-lim/PCXR-DenseNet-121-Evaluation/runs/2b8gmtzo' target=\"_blank\">https://wandb.ai/marcus-lim/PCXR-DenseNet-121-Evaluation/runs/2b8gmtzo</a>"
      ],
      "text/plain": [
       "<IPython.core.display.HTML object>"
      ]
     },
     "metadata": {},
     "output_type": "display_data"
    },
    {
     "name": "stdout",
     "output_type": "stream",
     "text": [
      "Found 4684 files belonging to 3 classes.\n",
      "Using 3748 files for training.\n",
      "Using 936 files for validation.\n",
      "Found 1172 files belonging to 3 classes.\n",
      "Generating predictions and computing metrics for Epoch 1 \n",
      "30/30 [==============================] - 3s 57ms/step\n",
      "training loss : 1.118567943572998 , training acc : 0.41141942143440247 , mcc score : 0.23828920722007751\n",
      "aucroc score  : 0.5202662944793701 , f1 score     : 0.35933271050453186 \n",
      "Generating predictions and computing metrics for Epoch 2 \n",
      "30/30 [==============================] - 2s 57ms/step\n",
      "training loss : 1.0227103233337402 , training acc : 0.5037353038787842 , mcc score : 0.2631043791770935\n",
      "aucroc score  : 0.5011834502220154 , f1 score     : 0.3749818801879883 \n",
      "Generating predictions and computing metrics for Epoch 3 \n",
      "30/30 [==============================] - 2s 60ms/step\n",
      "training loss : 0.9654483199119568 , training acc : 0.5280149579048157 , mcc score : 0.24170087277889252\n",
      "aucroc score  : 0.5031065344810486 , f1 score     : 0.36885860562324524 \n",
      "Generating predictions and computing metrics for Epoch 4 \n",
      "30/30 [==============================] - 2s 57ms/step\n",
      "training loss : 0.9296011924743652 , training acc : 0.568303108215332 , mcc score : 0.2558467388153076\n",
      "aucroc score  : 0.5127218961715698 , f1 score     : 0.3845999240875244 \n",
      "Generating predictions and computing metrics for Epoch 5 \n",
      "30/30 [==============================] - 2s 57ms/step\n",
      "training loss : 0.886601984500885 , training acc : 0.5949839949607849 , mcc score : 0.2928602695465088\n",
      "aucroc score  : 0.5434911251068115 , f1 score     : 0.4298981726169586 \n",
      "Generating predictions and computing metrics for Epoch 6 \n",
      "30/30 [==============================] - 2s 57ms/step\n",
      "training loss : 0.8599376678466797 , training acc : 0.6051227450370789 , mcc score : 0.318400502204895\n",
      "aucroc score  : 0.5742603540420532 , f1 score     : 0.46582677960395813 \n",
      "Generating predictions and computing metrics for Epoch 7 \n",
      "30/30 [==============================] - 2s 57ms/step\n",
      "training loss : 0.8397488594055176 , training acc : 0.6128602027893066 , mcc score : 0.4057428240776062\n",
      "aucroc score  : 0.6127219200134277 , f1 score     : 0.5337375998497009 \n",
      "Generating predictions and computing metrics for Epoch 8 \n",
      "30/30 [==============================] - 2s 57ms/step\n",
      "training loss : 0.8286574482917786 , training acc : 0.6213980913162231 , mcc score : 0.4328625202178955\n",
      "aucroc score  : 0.6511834859848022 , f1 score     : 0.5695433616638184 \n",
      "Generating predictions and computing metrics for Epoch 9 \n",
      "30/30 [==============================] - 2s 57ms/step\n",
      "training loss : 0.8069247007369995 , training acc : 0.6379402279853821 , mcc score : 0.45788994431495667\n",
      "aucroc score  : 0.6838757395744324 , f1 score     : 0.5991407632827759 \n",
      "Generating predictions and computing metrics for Epoch 10 \n",
      "30/30 [==============================] - 2s 57ms/step\n",
      "training loss : 0.7975680232048035 , training acc : 0.6392742991447449 , mcc score : 0.4874873161315918\n",
      "aucroc score  : 0.7196745872497559 , f1 score     : 0.629817545413971 \n"
     ]
    },
    {
     "data": {
      "text/html": [
       "Waiting for W&B process to finish... <strong style=\"color:green\">(success).</strong>"
      ],
      "text/plain": [
       "<IPython.core.display.HTML object>"
      ]
     },
     "metadata": {},
     "output_type": "display_data"
    },
    {
     "data": {
      "text/html": [
       "<style>\n",
       "    table.wandb td:nth-child(1) { padding: 0 10px; text-align: left ; width: auto;} td:nth-child(2) {text-align: left ; width: 100%}\n",
       "    .wandb-row { display: flex; flex-direction: row; flex-wrap: wrap; justify-content: flex-start; width: 100% }\n",
       "    .wandb-col { display: flex; flex-direction: column; flex-basis: 100%; flex: 1; padding: 10px; }\n",
       "    </style>\n",
       "<div class=\"wandb-row\"><div class=\"wandb-col\"><h3>Run history:</h3><br/><table class=\"wandb\"><tr><td>auc_roc</td><td>▂▁▁▁▂▃▅▆▇█</td></tr><tr><td>epoch/accuracy</td><td>▁▄▅▆▇▇▇▇██</td></tr><tr><td>epoch/epoch</td><td>▁▂▃▃▄▅▆▆▇█</td></tr><tr><td>epoch/learning_rate</td><td>▁▁▁▁▁▁▁▁▁▁</td></tr><tr><td>epoch/loss</td><td>█▆▅▄▃▂▂▂▁▁</td></tr><tr><td>epoch/val_accuracy</td><td>▁▃▃▄▄▅▆▇▇█</td></tr><tr><td>epoch/val_loss</td><td>█▇▆▅▄▄▃▂▂▁</td></tr><tr><td>fmeasure</td><td>▁▁▁▂▃▄▆▆▇█</td></tr><tr><td>mcc</td><td>▁▂▁▁▃▃▆▆▇█</td></tr></table><br/></div><div class=\"wandb-col\"><h3>Run summary:</h3><br/><table class=\"wandb\"><tr><td>auc_roc</td><td>0.71967</td></tr><tr><td>epoch/accuracy</td><td>0.63927</td></tr><tr><td>epoch/epoch</td><td>9</td></tr><tr><td>epoch/learning_rate</td><td>0.00418</td></tr><tr><td>epoch/loss</td><td>0.79757</td></tr><tr><td>epoch/val_accuracy</td><td>0.65278</td></tr><tr><td>epoch/val_loss</td><td>0.77363</td></tr><tr><td>fmeasure</td><td>0.62982</td></tr><tr><td>mcc</td><td>0.48749</td></tr></table><br/></div></div>"
      ],
      "text/plain": [
       "<IPython.core.display.HTML object>"
      ]
     },
     "metadata": {},
     "output_type": "display_data"
    },
    {
     "data": {
      "text/html": [
       " View run <strong style=\"color:#cdcd00\">zesty-sweep-5</strong> at: <a href='https://wandb.ai/marcus-lim/PCXR-DenseNet-121-Evaluation/runs/2b8gmtzo' target=\"_blank\">https://wandb.ai/marcus-lim/PCXR-DenseNet-121-Evaluation/runs/2b8gmtzo</a><br/>Synced 5 W&B file(s), 0 media file(s), 0 artifact file(s) and 0 other file(s)"
      ],
      "text/plain": [
       "<IPython.core.display.HTML object>"
      ]
     },
     "metadata": {},
     "output_type": "display_data"
    },
    {
     "data": {
      "text/html": [
       "Find logs at: <code>.\\wandb\\run-20230916_153852-2b8gmtzo\\logs</code>"
      ],
      "text/plain": [
       "<IPython.core.display.HTML object>"
      ]
     },
     "metadata": {},
     "output_type": "display_data"
    },
    {
     "name": "stderr",
     "output_type": "stream",
     "text": [
      "\u001b[34m\u001b[1mwandb\u001b[0m: Agent Starting Run: p8cez57u with config:\n",
      "\u001b[34m\u001b[1mwandb\u001b[0m: \tbatch_size: 32\n",
      "\u001b[34m\u001b[1mwandb\u001b[0m: \tdropout_1: 0.2\n",
      "\u001b[34m\u001b[1mwandb\u001b[0m: \tdropout_2: 0.2\n",
      "\u001b[34m\u001b[1mwandb\u001b[0m: \tdropout_3: 0.8\n",
      "\u001b[34m\u001b[1mwandb\u001b[0m: \tepochs: 10\n",
      "\u001b[34m\u001b[1mwandb\u001b[0m: \tfc_layer_size_1: 64\n",
      "\u001b[34m\u001b[1mwandb\u001b[0m: \tfc_layer_size_2: 32\n",
      "\u001b[34m\u001b[1mwandb\u001b[0m: \tlearning_rate: 0.00028468912006538404\n",
      "\u001b[34m\u001b[1mwandb\u001b[0m: \toptimiser: adam\n",
      "Failed to detect the name of this notebook, you can set it manually with the WANDB_NOTEBOOK_NAME environment variable to enable code saving.\n"
     ]
    },
    {
     "data": {
      "text/html": [
       "wandb version 0.15.10 is available!  To upgrade, please run:\n",
       " $ pip install wandb --upgrade"
      ],
      "text/plain": [
       "<IPython.core.display.HTML object>"
      ]
     },
     "metadata": {},
     "output_type": "display_data"
    },
    {
     "data": {
      "text/html": [
       "Tracking run with wandb version 0.15.5"
      ],
      "text/plain": [
       "<IPython.core.display.HTML object>"
      ]
     },
     "metadata": {},
     "output_type": "display_data"
    },
    {
     "data": {
      "text/html": [
       "Run data is saved locally in <code>c:\\Users\\User\\Projects\\pneumonia-xray-classification\\notebooks\\wandb\\run-20230916_155032-p8cez57u</code>"
      ],
      "text/plain": [
       "<IPython.core.display.HTML object>"
      ]
     },
     "metadata": {},
     "output_type": "display_data"
    },
    {
     "data": {
      "text/html": [
       "Syncing run <strong><a href='https://wandb.ai/marcus-lim/PCXR-DenseNet-121-Evaluation/runs/p8cez57u' target=\"_blank\">autumn-sweep-6</a></strong> to <a href='https://wandb.ai/marcus-lim/PCXR-DenseNet-121-Evaluation' target=\"_blank\">Weights & Biases</a> (<a href='https://wandb.me/run' target=\"_blank\">docs</a>)<br/>Sweep page: <a href='https://wandb.ai/marcus-lim/PCXR-DenseNet-121-Evaluation/sweeps/jxdr1xzz' target=\"_blank\">https://wandb.ai/marcus-lim/PCXR-DenseNet-121-Evaluation/sweeps/jxdr1xzz</a>"
      ],
      "text/plain": [
       "<IPython.core.display.HTML object>"
      ]
     },
     "metadata": {},
     "output_type": "display_data"
    },
    {
     "data": {
      "text/html": [
       " View project at <a href='https://wandb.ai/marcus-lim/PCXR-DenseNet-121-Evaluation' target=\"_blank\">https://wandb.ai/marcus-lim/PCXR-DenseNet-121-Evaluation</a>"
      ],
      "text/plain": [
       "<IPython.core.display.HTML object>"
      ]
     },
     "metadata": {},
     "output_type": "display_data"
    },
    {
     "data": {
      "text/html": [
       " View sweep at <a href='https://wandb.ai/marcus-lim/PCXR-DenseNet-121-Evaluation/sweeps/jxdr1xzz' target=\"_blank\">https://wandb.ai/marcus-lim/PCXR-DenseNet-121-Evaluation/sweeps/jxdr1xzz</a>"
      ],
      "text/plain": [
       "<IPython.core.display.HTML object>"
      ]
     },
     "metadata": {},
     "output_type": "display_data"
    },
    {
     "data": {
      "text/html": [
       " View run at <a href='https://wandb.ai/marcus-lim/PCXR-DenseNet-121-Evaluation/runs/p8cez57u' target=\"_blank\">https://wandb.ai/marcus-lim/PCXR-DenseNet-121-Evaluation/runs/p8cez57u</a>"
      ],
      "text/plain": [
       "<IPython.core.display.HTML object>"
      ]
     },
     "metadata": {},
     "output_type": "display_data"
    },
    {
     "name": "stdout",
     "output_type": "stream",
     "text": [
      "Found 4684 files belonging to 3 classes.\n",
      "Using 3748 files for training.\n",
      "Using 936 files for validation.\n",
      "Found 1172 files belonging to 3 classes.\n",
      "Generating predictions and computing metrics for Epoch 1 \n",
      "30/30 [==============================] - 3s 60ms/step\n",
      "training loss : 0.9736765623092651 , training acc : 0.5394877195358276 , mcc score : 0.5680407881736755\n",
      "aucroc score  : 0.8883135318756104 , f1 score     : 0.6739453673362732 \n",
      "Generating predictions and computing metrics for Epoch 2 \n",
      "30/30 [==============================] - 2s 57ms/step\n",
      "training loss : 0.7882755994796753 , training acc : 0.6614194512367249 , mcc score : 0.6088681817054749\n",
      "aucroc score  : 0.9210059642791748 , f1 score     : 0.71213299036026 \n",
      "Generating predictions and computing metrics for Epoch 3 \n",
      "30/30 [==============================] - 2s 57ms/step\n",
      "training loss : 0.7342991232872009 , training acc : 0.687299907207489 , mcc score : 0.6395111680030823\n",
      "aucroc score  : 0.9165681004524231 , f1 score     : 0.7502442002296448 \n",
      "Generating predictions and computing metrics for Epoch 4 \n",
      "30/30 [==============================] - 2s 57ms/step\n",
      "training loss : 0.6920508146286011 , training acc : 0.7014407515525818 , mcc score : 0.6304066181182861\n",
      "aucroc score  : 0.9107987880706787 , f1 score     : 0.7473277449607849 \n",
      "Generating predictions and computing metrics for Epoch 5 \n",
      "30/30 [==============================] - 2s 57ms/step\n",
      "training loss : 0.6469684839248657 , training acc : 0.7318570017814636 , mcc score : 0.6404950618743896\n",
      "aucroc score  : 0.920710027217865 , f1 score     : 0.7464654445648193 \n",
      "Generating predictions and computing metrics for Epoch 6 \n",
      "30/30 [==============================] - 2s 58ms/step\n",
      "training loss : 0.6347141861915588 , training acc : 0.738527238368988 , mcc score : 0.6500624418258667\n",
      "aucroc score  : 0.9233728051185608 , f1 score     : 0.7563768029212952 \n",
      "Generating predictions and computing metrics for Epoch 7 \n",
      "30/30 [==============================] - 2s 59ms/step\n",
      "training loss : 0.6191713809967041 , training acc : 0.7358590960502625 , mcc score : 0.6382562518119812\n",
      "aucroc score  : 0.9180473685264587 , f1 score     : 0.745143711566925 \n",
      "Generating predictions and computing metrics for Epoch 8 \n",
      "30/30 [==============================] - 2s 60ms/step\n",
      "training loss : 0.5939205288887024 , training acc : 0.7454642653465271 , mcc score : 0.658078670501709\n",
      "aucroc score  : 0.9303253889083862 , f1 score     : 0.7595279812812805 \n",
      "Generating predictions and computing metrics for Epoch 9 \n",
      "30/30 [==============================] - 2s 60ms/step\n",
      "training loss : 0.5919994711875916 , training acc : 0.7540021538734436 , mcc score : 0.6600051522254944\n",
      "aucroc score  : 0.925591766834259 , f1 score     : 0.7640544772148132 \n",
      "Generating predictions and computing metrics for Epoch 10 \n",
      "30/30 [==============================] - 2s 59ms/step\n",
      "training loss : 0.5764045119285583 , training acc : 0.7540021538734436 , mcc score : 0.6603467464447021\n",
      "aucroc score  : 0.9251478910446167 , f1 score     : 0.7614209651947021 \n"
     ]
    },
    {
     "data": {
      "text/html": [
       "Waiting for W&B process to finish... <strong style=\"color:green\">(success).</strong>"
      ],
      "text/plain": [
       "<IPython.core.display.HTML object>"
      ]
     },
     "metadata": {},
     "output_type": "display_data"
    },
    {
     "data": {
      "text/html": [
       "<style>\n",
       "    table.wandb td:nth-child(1) { padding: 0 10px; text-align: left ; width: auto;} td:nth-child(2) {text-align: left ; width: 100%}\n",
       "    .wandb-row { display: flex; flex-direction: row; flex-wrap: wrap; justify-content: flex-start; width: 100% }\n",
       "    .wandb-col { display: flex; flex-direction: column; flex-basis: 100%; flex: 1; padding: 10px; }\n",
       "    </style>\n",
       "<div class=\"wandb-row\"><div class=\"wandb-col\"><h3>Run history:</h3><br/><table class=\"wandb\"><tr><td>auc_roc</td><td>▁▆▆▅▆▇▆█▇▇</td></tr><tr><td>epoch/accuracy</td><td>▁▅▆▆▇▇▇███</td></tr><tr><td>epoch/epoch</td><td>▁▂▃▃▄▅▆▆▇█</td></tr><tr><td>epoch/learning_rate</td><td>▁▁▁▁▁▁▁▁▁▁</td></tr><tr><td>epoch/loss</td><td>█▅▄▃▂▂▂▁▁▁</td></tr><tr><td>epoch/val_accuracy</td><td>▁▅▇▆▇▇▇███</td></tr><tr><td>epoch/val_loss</td><td>█▄▃▃▂▂▁▁▁▁</td></tr><tr><td>fmeasure</td><td>▁▄▇▇▇▇▇███</td></tr><tr><td>mcc</td><td>▁▄▆▆▆▇▆███</td></tr></table><br/></div><div class=\"wandb-col\"><h3>Run summary:</h3><br/><table class=\"wandb\"><tr><td>auc_roc</td><td>0.92515</td></tr><tr><td>epoch/accuracy</td><td>0.754</td></tr><tr><td>epoch/epoch</td><td>9</td></tr><tr><td>epoch/learning_rate</td><td>0.00028</td></tr><tr><td>epoch/loss</td><td>0.5764</td></tr><tr><td>epoch/val_accuracy</td><td>0.78419</td></tr><tr><td>epoch/val_loss</td><td>0.51557</td></tr><tr><td>fmeasure</td><td>0.76142</td></tr><tr><td>mcc</td><td>0.66035</td></tr></table><br/></div></div>"
      ],
      "text/plain": [
       "<IPython.core.display.HTML object>"
      ]
     },
     "metadata": {},
     "output_type": "display_data"
    },
    {
     "data": {
      "text/html": [
       " View run <strong style=\"color:#cdcd00\">autumn-sweep-6</strong> at: <a href='https://wandb.ai/marcus-lim/PCXR-DenseNet-121-Evaluation/runs/p8cez57u' target=\"_blank\">https://wandb.ai/marcus-lim/PCXR-DenseNet-121-Evaluation/runs/p8cez57u</a><br/>Synced 5 W&B file(s), 0 media file(s), 0 artifact file(s) and 0 other file(s)"
      ],
      "text/plain": [
       "<IPython.core.display.HTML object>"
      ]
     },
     "metadata": {},
     "output_type": "display_data"
    },
    {
     "data": {
      "text/html": [
       "Find logs at: <code>.\\wandb\\run-20230916_155032-p8cez57u\\logs</code>"
      ],
      "text/plain": [
       "<IPython.core.display.HTML object>"
      ]
     },
     "metadata": {},
     "output_type": "display_data"
    },
    {
     "name": "stderr",
     "output_type": "stream",
     "text": [
      "\u001b[34m\u001b[1mwandb\u001b[0m: Agent Starting Run: j9d8kvit with config:\n",
      "\u001b[34m\u001b[1mwandb\u001b[0m: \tbatch_size: 32\n",
      "\u001b[34m\u001b[1mwandb\u001b[0m: \tdropout_1: 0.8\n",
      "\u001b[34m\u001b[1mwandb\u001b[0m: \tdropout_2: 0.2\n",
      "\u001b[34m\u001b[1mwandb\u001b[0m: \tdropout_3: 0.8\n",
      "\u001b[34m\u001b[1mwandb\u001b[0m: \tepochs: 10\n",
      "\u001b[34m\u001b[1mwandb\u001b[0m: \tfc_layer_size_1: 64\n",
      "\u001b[34m\u001b[1mwandb\u001b[0m: \tfc_layer_size_2: 32\n",
      "\u001b[34m\u001b[1mwandb\u001b[0m: \tlearning_rate: 0.0015122038366602597\n",
      "\u001b[34m\u001b[1mwandb\u001b[0m: \toptimiser: adam\n",
      "Failed to detect the name of this notebook, you can set it manually with the WANDB_NOTEBOOK_NAME environment variable to enable code saving.\n"
     ]
    },
    {
     "data": {
      "text/html": [
       "wandb version 0.15.10 is available!  To upgrade, please run:\n",
       " $ pip install wandb --upgrade"
      ],
      "text/plain": [
       "<IPython.core.display.HTML object>"
      ]
     },
     "metadata": {},
     "output_type": "display_data"
    },
    {
     "data": {
      "text/html": [
       "Tracking run with wandb version 0.15.5"
      ],
      "text/plain": [
       "<IPython.core.display.HTML object>"
      ]
     },
     "metadata": {},
     "output_type": "display_data"
    },
    {
     "data": {
      "text/html": [
       "Run data is saved locally in <code>c:\\Users\\User\\Projects\\pneumonia-xray-classification\\notebooks\\wandb\\run-20230916_160220-j9d8kvit</code>"
      ],
      "text/plain": [
       "<IPython.core.display.HTML object>"
      ]
     },
     "metadata": {},
     "output_type": "display_data"
    },
    {
     "data": {
      "text/html": [
       "Syncing run <strong><a href='https://wandb.ai/marcus-lim/PCXR-DenseNet-121-Evaluation/runs/j9d8kvit' target=\"_blank\">sleek-sweep-7</a></strong> to <a href='https://wandb.ai/marcus-lim/PCXR-DenseNet-121-Evaluation' target=\"_blank\">Weights & Biases</a> (<a href='https://wandb.me/run' target=\"_blank\">docs</a>)<br/>Sweep page: <a href='https://wandb.ai/marcus-lim/PCXR-DenseNet-121-Evaluation/sweeps/jxdr1xzz' target=\"_blank\">https://wandb.ai/marcus-lim/PCXR-DenseNet-121-Evaluation/sweeps/jxdr1xzz</a>"
      ],
      "text/plain": [
       "<IPython.core.display.HTML object>"
      ]
     },
     "metadata": {},
     "output_type": "display_data"
    },
    {
     "data": {
      "text/html": [
       " View project at <a href='https://wandb.ai/marcus-lim/PCXR-DenseNet-121-Evaluation' target=\"_blank\">https://wandb.ai/marcus-lim/PCXR-DenseNet-121-Evaluation</a>"
      ],
      "text/plain": [
       "<IPython.core.display.HTML object>"
      ]
     },
     "metadata": {},
     "output_type": "display_data"
    },
    {
     "data": {
      "text/html": [
       " View sweep at <a href='https://wandb.ai/marcus-lim/PCXR-DenseNet-121-Evaluation/sweeps/jxdr1xzz' target=\"_blank\">https://wandb.ai/marcus-lim/PCXR-DenseNet-121-Evaluation/sweeps/jxdr1xzz</a>"
      ],
      "text/plain": [
       "<IPython.core.display.HTML object>"
      ]
     },
     "metadata": {},
     "output_type": "display_data"
    },
    {
     "data": {
      "text/html": [
       " View run at <a href='https://wandb.ai/marcus-lim/PCXR-DenseNet-121-Evaluation/runs/j9d8kvit' target=\"_blank\">https://wandb.ai/marcus-lim/PCXR-DenseNet-121-Evaluation/runs/j9d8kvit</a>"
      ],
      "text/plain": [
       "<IPython.core.display.HTML object>"
      ]
     },
     "metadata": {},
     "output_type": "display_data"
    },
    {
     "name": "stdout",
     "output_type": "stream",
     "text": [
      "Found 4684 files belonging to 3 classes.\n",
      "Using 3748 files for training.\n",
      "Using 936 files for validation.\n",
      "Found 1172 files belonging to 3 classes.\n",
      "Generating predictions and computing metrics for Epoch 1 \n",
      "30/30 [==============================] - 3s 60ms/step\n",
      "training loss : 0.9136976599693298 , training acc : 0.5768409967422485 , mcc score : 0.5535948276519775\n",
      "aucroc score  : 0.8982248902320862 , f1 score     : 0.6381034851074219 \n",
      "Generating predictions and computing metrics for Epoch 2 \n",
      "30/30 [==============================] - 2s 59ms/step\n",
      "training loss : 0.7287105321884155 , training acc : 0.671558141708374 , mcc score : 0.609687864780426\n",
      "aucroc score  : 0.920710027217865 , f1 score     : 0.7337457537651062 \n",
      "Generating predictions and computing metrics for Epoch 3 \n",
      "30/30 [==============================] - 2s 60ms/step\n",
      "training loss : 0.6961930394172668 , training acc : 0.6945037245750427 , mcc score : 0.6308304667472839\n",
      "aucroc score  : 0.9312130212783813 , f1 score     : 0.7450840473175049 \n",
      "Generating predictions and computing metrics for Epoch 4 \n",
      "30/30 [==============================] - 2s 59ms/step\n",
      "training loss : 0.682925820350647 , training acc : 0.7035752534866333 , mcc score : 0.6355661749839783\n",
      "aucroc score  : 0.931065022945404 , f1 score     : 0.7487300038337708 \n",
      "Generating predictions and computing metrics for Epoch 5 \n",
      "30/30 [==============================] - 2s 59ms/step\n",
      "training loss : 0.6543479561805725 , training acc : 0.7166488766670227 , mcc score : 0.642807126045227\n",
      "aucroc score  : 0.9328401684761047 , f1 score     : 0.7524611353874207 \n",
      "Generating predictions and computing metrics for Epoch 6 \n",
      "30/30 [==============================] - 2s 59ms/step\n",
      "training loss : 0.635212242603302 , training acc : 0.7302561402320862 , mcc score : 0.646842896938324\n",
      "aucroc score  : 0.9298816323280334 , f1 score     : 0.7548842430114746 \n",
      "Generating predictions and computing metrics for Epoch 7 \n",
      "30/30 [==============================] - 2s 76ms/step\n",
      "training loss : 0.6345841288566589 , training acc : 0.7241195440292358 , mcc score : 0.6375884413719177\n",
      "aucroc score  : 0.923372745513916 , f1 score     : 0.7467473149299622 \n",
      "Generating predictions and computing metrics for Epoch 8 \n",
      "30/30 [==============================] - 2s 59ms/step\n",
      "training loss : 0.6338505744934082 , training acc : 0.7281216382980347 , mcc score : 0.635658860206604\n",
      "aucroc score  : 0.9241123795509338 , f1 score     : 0.7409250140190125 \n",
      "Generating predictions and computing metrics for Epoch 9 \n",
      "30/30 [==============================] - 2s 59ms/step\n",
      "training loss : 0.6113622188568115 , training acc : 0.7401280403137207 , mcc score : 0.6512905359268188\n",
      "aucroc score  : 0.9325444102287292 , f1 score     : 0.7574319839477539 \n",
      "Generating predictions and computing metrics for Epoch 10 \n",
      "30/30 [==============================] - 2s 59ms/step\n",
      "training loss : 0.6133246421813965 , training acc : 0.7366595268249512 , mcc score : 0.6429427862167358\n",
      "aucroc score  : 0.9273668527603149 , f1 score     : 0.7497541904449463 \n"
     ]
    },
    {
     "data": {
      "text/html": [
       "Waiting for W&B process to finish... <strong style=\"color:green\">(success).</strong>"
      ],
      "text/plain": [
       "<IPython.core.display.HTML object>"
      ]
     },
     "metadata": {},
     "output_type": "display_data"
    },
    {
     "data": {
      "text/html": [
       "<style>\n",
       "    table.wandb td:nth-child(1) { padding: 0 10px; text-align: left ; width: auto;} td:nth-child(2) {text-align: left ; width: 100%}\n",
       "    .wandb-row { display: flex; flex-direction: row; flex-wrap: wrap; justify-content: flex-start; width: 100% }\n",
       "    .wandb-col { display: flex; flex-direction: column; flex-basis: 100%; flex: 1; padding: 10px; }\n",
       "    </style>\n",
       "<div class=\"wandb-row\"><div class=\"wandb-col\"><h3>Run history:</h3><br/><table class=\"wandb\"><tr><td>auc_roc</td><td>▁▆███▇▆▆█▇</td></tr><tr><td>epoch/accuracy</td><td>▁▅▆▆▇█▇▇██</td></tr><tr><td>epoch/epoch</td><td>▁▂▃▃▄▅▆▆▇█</td></tr><tr><td>epoch/learning_rate</td><td>▁▁▁▁▁▁▁▁▁▁</td></tr><tr><td>epoch/loss</td><td>█▄▃▃▂▂▂▂▁▁</td></tr><tr><td>epoch/val_accuracy</td><td>▁▅▇▇▇█▇▇█▇</td></tr><tr><td>epoch/val_loss</td><td>█▃▂▃▁▂▂▂▁▁</td></tr><tr><td>fmeasure</td><td>▁▇▇▇██▇▇██</td></tr><tr><td>mcc</td><td>▁▅▇▇▇█▇▇█▇</td></tr></table><br/></div><div class=\"wandb-col\"><h3>Run summary:</h3><br/><table class=\"wandb\"><tr><td>auc_roc</td><td>0.92737</td></tr><tr><td>epoch/accuracy</td><td>0.73666</td></tr><tr><td>epoch/epoch</td><td>9</td></tr><tr><td>epoch/learning_rate</td><td>0.00151</td></tr><tr><td>epoch/loss</td><td>0.61332</td></tr><tr><td>epoch/val_accuracy</td><td>0.77137</td></tr><tr><td>epoch/val_loss</td><td>0.53378</td></tr><tr><td>fmeasure</td><td>0.74975</td></tr><tr><td>mcc</td><td>0.64294</td></tr></table><br/></div></div>"
      ],
      "text/plain": [
       "<IPython.core.display.HTML object>"
      ]
     },
     "metadata": {},
     "output_type": "display_data"
    },
    {
     "data": {
      "text/html": [
       " View run <strong style=\"color:#cdcd00\">sleek-sweep-7</strong> at: <a href='https://wandb.ai/marcus-lim/PCXR-DenseNet-121-Evaluation/runs/j9d8kvit' target=\"_blank\">https://wandb.ai/marcus-lim/PCXR-DenseNet-121-Evaluation/runs/j9d8kvit</a><br/>Synced 5 W&B file(s), 0 media file(s), 0 artifact file(s) and 0 other file(s)"
      ],
      "text/plain": [
       "<IPython.core.display.HTML object>"
      ]
     },
     "metadata": {},
     "output_type": "display_data"
    },
    {
     "data": {
      "text/html": [
       "Find logs at: <code>.\\wandb\\run-20230916_160220-j9d8kvit\\logs</code>"
      ],
      "text/plain": [
       "<IPython.core.display.HTML object>"
      ]
     },
     "metadata": {},
     "output_type": "display_data"
    },
    {
     "name": "stderr",
     "output_type": "stream",
     "text": [
      "\u001b[34m\u001b[1mwandb\u001b[0m: Agent Starting Run: dro5fygg with config:\n",
      "\u001b[34m\u001b[1mwandb\u001b[0m: \tbatch_size: 32\n",
      "\u001b[34m\u001b[1mwandb\u001b[0m: \tdropout_1: 0.8\n",
      "\u001b[34m\u001b[1mwandb\u001b[0m: \tdropout_2: 0.6\n",
      "\u001b[34m\u001b[1mwandb\u001b[0m: \tdropout_3: 0.6\n",
      "\u001b[34m\u001b[1mwandb\u001b[0m: \tepochs: 10\n",
      "\u001b[34m\u001b[1mwandb\u001b[0m: \tfc_layer_size_1: 64\n",
      "\u001b[34m\u001b[1mwandb\u001b[0m: \tfc_layer_size_2: 16\n",
      "\u001b[34m\u001b[1mwandb\u001b[0m: \tlearning_rate: 0.0037926394342561393\n",
      "\u001b[34m\u001b[1mwandb\u001b[0m: \toptimiser: sgd\n",
      "Failed to detect the name of this notebook, you can set it manually with the WANDB_NOTEBOOK_NAME environment variable to enable code saving.\n"
     ]
    },
    {
     "data": {
      "text/html": [
       "wandb version 0.15.10 is available!  To upgrade, please run:\n",
       " $ pip install wandb --upgrade"
      ],
      "text/plain": [
       "<IPython.core.display.HTML object>"
      ]
     },
     "metadata": {},
     "output_type": "display_data"
    },
    {
     "data": {
      "text/html": [
       "Tracking run with wandb version 0.15.5"
      ],
      "text/plain": [
       "<IPython.core.display.HTML object>"
      ]
     },
     "metadata": {},
     "output_type": "display_data"
    },
    {
     "data": {
      "text/html": [
       "Run data is saved locally in <code>c:\\Users\\User\\Projects\\pneumonia-xray-classification\\notebooks\\wandb\\run-20230916_161406-dro5fygg</code>"
      ],
      "text/plain": [
       "<IPython.core.display.HTML object>"
      ]
     },
     "metadata": {},
     "output_type": "display_data"
    },
    {
     "data": {
      "text/html": [
       "Syncing run <strong><a href='https://wandb.ai/marcus-lim/PCXR-DenseNet-121-Evaluation/runs/dro5fygg' target=\"_blank\">sweet-sweep-8</a></strong> to <a href='https://wandb.ai/marcus-lim/PCXR-DenseNet-121-Evaluation' target=\"_blank\">Weights & Biases</a> (<a href='https://wandb.me/run' target=\"_blank\">docs</a>)<br/>Sweep page: <a href='https://wandb.ai/marcus-lim/PCXR-DenseNet-121-Evaluation/sweeps/jxdr1xzz' target=\"_blank\">https://wandb.ai/marcus-lim/PCXR-DenseNet-121-Evaluation/sweeps/jxdr1xzz</a>"
      ],
      "text/plain": [
       "<IPython.core.display.HTML object>"
      ]
     },
     "metadata": {},
     "output_type": "display_data"
    },
    {
     "data": {
      "text/html": [
       " View project at <a href='https://wandb.ai/marcus-lim/PCXR-DenseNet-121-Evaluation' target=\"_blank\">https://wandb.ai/marcus-lim/PCXR-DenseNet-121-Evaluation</a>"
      ],
      "text/plain": [
       "<IPython.core.display.HTML object>"
      ]
     },
     "metadata": {},
     "output_type": "display_data"
    },
    {
     "data": {
      "text/html": [
       " View sweep at <a href='https://wandb.ai/marcus-lim/PCXR-DenseNet-121-Evaluation/sweeps/jxdr1xzz' target=\"_blank\">https://wandb.ai/marcus-lim/PCXR-DenseNet-121-Evaluation/sweeps/jxdr1xzz</a>"
      ],
      "text/plain": [
       "<IPython.core.display.HTML object>"
      ]
     },
     "metadata": {},
     "output_type": "display_data"
    },
    {
     "data": {
      "text/html": [
       " View run at <a href='https://wandb.ai/marcus-lim/PCXR-DenseNet-121-Evaluation/runs/dro5fygg' target=\"_blank\">https://wandb.ai/marcus-lim/PCXR-DenseNet-121-Evaluation/runs/dro5fygg</a>"
      ],
      "text/plain": [
       "<IPython.core.display.HTML object>"
      ]
     },
     "metadata": {},
     "output_type": "display_data"
    },
    {
     "name": "stdout",
     "output_type": "stream",
     "text": [
      "Found 4684 files belonging to 3 classes.\n",
      "Using 3748 files for training.\n",
      "Using 936 files for validation.\n",
      "Found 1172 files belonging to 3 classes.\n",
      "Generating predictions and computing metrics for Epoch 1 \n",
      "30/30 [==============================] - 3s 60ms/step\n",
      "training loss : 1.1887706518173218 , training acc : 0.3436499536037445 , mcc score : 0.15580980479717255\n",
      "aucroc score  : 0.4992603659629822 , f1 score     : 0.32715365290641785 \n",
      "Generating predictions and computing metrics for Epoch 2 \n",
      "30/30 [==============================] - 2s 59ms/step\n",
      "training loss : 1.1027854681015015 , training acc : 0.42369264364242554 , mcc score : 0.10559134185314178\n",
      "aucroc score  : 0.5038461685180664 , f1 score     : 0.27892690896987915 \n",
      "Generating predictions and computing metrics for Epoch 3 \n",
      "30/30 [==============================] - 2s 59ms/step\n",
      "training loss : 1.0384443998336792 , training acc : 0.4703842103481293 , mcc score : 0.10369301587343216\n",
      "aucroc score  : 0.5288461446762085 , f1 score     : 0.2675265073776245 \n",
      "Generating predictions and computing metrics for Epoch 4 \n",
      "30/30 [==============================] - 2s 59ms/step\n",
      "training loss : 0.9986270070075989 , training acc : 0.5128068327903748 , mcc score : 0.2379150092601776\n",
      "aucroc score  : 0.6011834144592285 , f1 score     : 0.34330007433891296 \n",
      "Generating predictions and computing metrics for Epoch 5 \n",
      "30/30 [==============================] - 2s 60ms/step\n",
      "training loss : 0.9587719440460205 , training acc : 0.5413553714752197 , mcc score : 0.36209389567375183\n",
      "aucroc score  : 0.7008876204490662 , f1 score     : 0.43054071068763733 \n",
      "Generating predictions and computing metrics for Epoch 6 \n",
      "30/30 [==============================] - 2s 58ms/step\n",
      "training loss : 0.9368211627006531 , training acc : 0.5565634965896606 , mcc score : 0.4186510145664215\n",
      "aucroc score  : 0.7532544136047363 , f1 score     : 0.4683619737625122 \n",
      "Generating predictions and computing metrics for Epoch 7 \n",
      "30/30 [==============================] - 2s 58ms/step\n",
      "training loss : 0.9079704880714417 , training acc : 0.5685698986053467 , mcc score : 0.45231008529663086\n",
      "aucroc score  : 0.7911242842674255 , f1 score     : 0.4949592351913452 \n",
      "Generating predictions and computing metrics for Epoch 8 \n",
      "30/30 [==============================] - 2s 59ms/step\n",
      "training loss : 0.8859699964523315 , training acc : 0.6016542315483093 , mcc score : 0.47248125076293945\n",
      "aucroc score  : 0.8181952834129333 , f1 score     : 0.5066975355148315 \n",
      "Generating predictions and computing metrics for Epoch 9 \n",
      "30/30 [==============================] - 2s 59ms/step\n",
      "training loss : 0.8706892728805542 , training acc : 0.5987192988395691 , mcc score : 0.47712329030036926\n",
      "aucroc score  : 0.8241124153137207 , f1 score     : 0.5124358534812927 \n",
      "Generating predictions and computing metrics for Epoch 10 \n",
      "30/30 [==============================] - 2s 60ms/step\n",
      "training loss : 0.8581387996673584 , training acc : 0.6117929816246033 , mcc score : 0.49688100814819336\n",
      "aucroc score  : 0.8439348936080933 , f1 score     : 0.536297082901001 \n"
     ]
    },
    {
     "data": {
      "text/html": [
       "Waiting for W&B process to finish... <strong style=\"color:green\">(success).</strong>"
      ],
      "text/plain": [
       "<IPython.core.display.HTML object>"
      ]
     },
     "metadata": {},
     "output_type": "display_data"
    },
    {
     "data": {
      "text/html": [
       "<style>\n",
       "    table.wandb td:nth-child(1) { padding: 0 10px; text-align: left ; width: auto;} td:nth-child(2) {text-align: left ; width: 100%}\n",
       "    .wandb-row { display: flex; flex-direction: row; flex-wrap: wrap; justify-content: flex-start; width: 100% }\n",
       "    .wandb-col { display: flex; flex-direction: column; flex-basis: 100%; flex: 1; padding: 10px; }\n",
       "    </style>\n",
       "<div class=\"wandb-row\"><div class=\"wandb-col\"><h3>Run history:</h3><br/><table class=\"wandb\"><tr><td>auc_roc</td><td>▁▁▂▃▅▆▇▇██</td></tr><tr><td>epoch/accuracy</td><td>▁▃▄▅▆▇▇███</td></tr><tr><td>epoch/epoch</td><td>▁▂▃▃▄▅▆▆▇█</td></tr><tr><td>epoch/learning_rate</td><td>▁▁▁▁▁▁▁▁▁▁</td></tr><tr><td>epoch/loss</td><td>█▆▅▄▃▃▂▂▁▁</td></tr><tr><td>epoch/val_accuracy</td><td>▁▃▃▄▆▇▇▇██</td></tr><tr><td>epoch/val_loss</td><td>█▇▆▅▄▄▃▂▁▁</td></tr><tr><td>fmeasure</td><td>▃▁▁▃▅▆▇▇▇█</td></tr><tr><td>mcc</td><td>▂▁▁▃▆▇▇███</td></tr></table><br/></div><div class=\"wandb-col\"><h3>Run summary:</h3><br/><table class=\"wandb\"><tr><td>auc_roc</td><td>0.84393</td></tr><tr><td>epoch/accuracy</td><td>0.61179</td></tr><tr><td>epoch/epoch</td><td>9</td></tr><tr><td>epoch/learning_rate</td><td>0.00379</td></tr><tr><td>epoch/loss</td><td>0.85814</td></tr><tr><td>epoch/val_accuracy</td><td>0.67415</td></tr><tr><td>epoch/val_loss</td><td>0.76459</td></tr><tr><td>fmeasure</td><td>0.5363</td></tr><tr><td>mcc</td><td>0.49688</td></tr></table><br/></div></div>"
      ],
      "text/plain": [
       "<IPython.core.display.HTML object>"
      ]
     },
     "metadata": {},
     "output_type": "display_data"
    },
    {
     "data": {
      "text/html": [
       " View run <strong style=\"color:#cdcd00\">sweet-sweep-8</strong> at: <a href='https://wandb.ai/marcus-lim/PCXR-DenseNet-121-Evaluation/runs/dro5fygg' target=\"_blank\">https://wandb.ai/marcus-lim/PCXR-DenseNet-121-Evaluation/runs/dro5fygg</a><br/>Synced 5 W&B file(s), 0 media file(s), 0 artifact file(s) and 0 other file(s)"
      ],
      "text/plain": [
       "<IPython.core.display.HTML object>"
      ]
     },
     "metadata": {},
     "output_type": "display_data"
    },
    {
     "data": {
      "text/html": [
       "Find logs at: <code>.\\wandb\\run-20230916_161406-dro5fygg\\logs</code>"
      ],
      "text/plain": [
       "<IPython.core.display.HTML object>"
      ]
     },
     "metadata": {},
     "output_type": "display_data"
    },
    {
     "name": "stderr",
     "output_type": "stream",
     "text": [
      "\u001b[34m\u001b[1mwandb\u001b[0m: Sweep Agent: Waiting for job.\n",
      "\u001b[34m\u001b[1mwandb\u001b[0m: Job received.\n",
      "\u001b[34m\u001b[1mwandb\u001b[0m: Agent Starting Run: evdnoalb with config:\n",
      "\u001b[34m\u001b[1mwandb\u001b[0m: \tbatch_size: 32\n",
      "\u001b[34m\u001b[1mwandb\u001b[0m: \tdropout_1: 0.8\n",
      "\u001b[34m\u001b[1mwandb\u001b[0m: \tdropout_2: 0.8\n",
      "\u001b[34m\u001b[1mwandb\u001b[0m: \tdropout_3: 0.6\n",
      "\u001b[34m\u001b[1mwandb\u001b[0m: \tepochs: 10\n",
      "\u001b[34m\u001b[1mwandb\u001b[0m: \tfc_layer_size_1: 64\n",
      "\u001b[34m\u001b[1mwandb\u001b[0m: \tfc_layer_size_2: 256\n",
      "\u001b[34m\u001b[1mwandb\u001b[0m: \tlearning_rate: 0.0028516738919743224\n",
      "\u001b[34m\u001b[1mwandb\u001b[0m: \toptimiser: adam\n",
      "Failed to detect the name of this notebook, you can set it manually with the WANDB_NOTEBOOK_NAME environment variable to enable code saving.\n"
     ]
    },
    {
     "data": {
      "text/html": [
       "wandb version 0.15.10 is available!  To upgrade, please run:\n",
       " $ pip install wandb --upgrade"
      ],
      "text/plain": [
       "<IPython.core.display.HTML object>"
      ]
     },
     "metadata": {},
     "output_type": "display_data"
    },
    {
     "data": {
      "text/html": [
       "Tracking run with wandb version 0.15.5"
      ],
      "text/plain": [
       "<IPython.core.display.HTML object>"
      ]
     },
     "metadata": {},
     "output_type": "display_data"
    },
    {
     "data": {
      "text/html": [
       "Run data is saved locally in <code>c:\\Users\\User\\Projects\\pneumonia-xray-classification\\notebooks\\wandb\\run-20230916_162602-evdnoalb</code>"
      ],
      "text/plain": [
       "<IPython.core.display.HTML object>"
      ]
     },
     "metadata": {},
     "output_type": "display_data"
    },
    {
     "data": {
      "text/html": [
       "Syncing run <strong><a href='https://wandb.ai/marcus-lim/PCXR-DenseNet-121-Evaluation/runs/evdnoalb' target=\"_blank\">azure-sweep-9</a></strong> to <a href='https://wandb.ai/marcus-lim/PCXR-DenseNet-121-Evaluation' target=\"_blank\">Weights & Biases</a> (<a href='https://wandb.me/run' target=\"_blank\">docs</a>)<br/>Sweep page: <a href='https://wandb.ai/marcus-lim/PCXR-DenseNet-121-Evaluation/sweeps/jxdr1xzz' target=\"_blank\">https://wandb.ai/marcus-lim/PCXR-DenseNet-121-Evaluation/sweeps/jxdr1xzz</a>"
      ],
      "text/plain": [
       "<IPython.core.display.HTML object>"
      ]
     },
     "metadata": {},
     "output_type": "display_data"
    },
    {
     "data": {
      "text/html": [
       " View project at <a href='https://wandb.ai/marcus-lim/PCXR-DenseNet-121-Evaluation' target=\"_blank\">https://wandb.ai/marcus-lim/PCXR-DenseNet-121-Evaluation</a>"
      ],
      "text/plain": [
       "<IPython.core.display.HTML object>"
      ]
     },
     "metadata": {},
     "output_type": "display_data"
    },
    {
     "data": {
      "text/html": [
       " View sweep at <a href='https://wandb.ai/marcus-lim/PCXR-DenseNet-121-Evaluation/sweeps/jxdr1xzz' target=\"_blank\">https://wandb.ai/marcus-lim/PCXR-DenseNet-121-Evaluation/sweeps/jxdr1xzz</a>"
      ],
      "text/plain": [
       "<IPython.core.display.HTML object>"
      ]
     },
     "metadata": {},
     "output_type": "display_data"
    },
    {
     "data": {
      "text/html": [
       " View run at <a href='https://wandb.ai/marcus-lim/PCXR-DenseNet-121-Evaluation/runs/evdnoalb' target=\"_blank\">https://wandb.ai/marcus-lim/PCXR-DenseNet-121-Evaluation/runs/evdnoalb</a>"
      ],
      "text/plain": [
       "<IPython.core.display.HTML object>"
      ]
     },
     "metadata": {},
     "output_type": "display_data"
    },
    {
     "name": "stdout",
     "output_type": "stream",
     "text": [
      "Found 4684 files belonging to 3 classes.\n",
      "Using 3748 files for training.\n",
      "Using 936 files for validation.\n",
      "Found 1172 files belonging to 3 classes.\n",
      "Generating predictions and computing metrics for Epoch 1 \n",
      "30/30 [==============================] - 3s 63ms/step\n",
      "training loss : 0.884172797203064 , training acc : 0.5811099410057068 , mcc score : 0.5699986219406128\n",
      "aucroc score  : 0.9019230604171753 , f1 score     : 0.6587533354759216 \n",
      "Generating predictions and computing metrics for Epoch 2 \n",
      "30/30 [==============================] - 2s 61ms/step\n",
      "training loss : 0.7490556836128235 , training acc : 0.6635538935661316 , mcc score : 0.6337310075759888\n",
      "aucroc score  : 0.9272189140319824 , f1 score     : 0.7457454800605774 \n",
      "Generating predictions and computing metrics for Epoch 3 \n",
      "30/30 [==============================] - 2s 61ms/step\n",
      "training loss : 0.7322834730148315 , training acc : 0.6768943667411804 , mcc score : 0.6442615985870361\n",
      "aucroc score  : 0.9318047761917114 , f1 score     : 0.7553191184997559 \n",
      "Generating predictions and computing metrics for Epoch 4 \n",
      "30/30 [==============================] - 2s 60ms/step\n",
      "training loss : 0.683505654335022 , training acc : 0.697438657283783 , mcc score : 0.6392237544059753\n",
      "aucroc score  : 0.9218934774398804 , f1 score     : 0.7428078651428223 \n",
      "Generating predictions and computing metrics for Epoch 5 \n",
      "30/30 [==============================] - 2s 59ms/step\n",
      "training loss : 0.6816899180412292 , training acc : 0.7051761150360107 , mcc score : 0.6400877833366394\n",
      "aucroc score  : 0.9269230961799622 , f1 score     : 0.7327703833580017 \n",
      "Generating predictions and computing metrics for Epoch 6 \n",
      "30/30 [==============================] - 2s 59ms/step\n",
      "training loss : 0.675119936466217 , training acc : 0.7065101265907288 , mcc score : 0.6454922556877136\n",
      "aucroc score  : 0.930325448513031 , f1 score     : 0.7520732283592224 \n",
      "Generating predictions and computing metrics for Epoch 7 \n",
      "30/30 [==============================] - 2s 61ms/step\n",
      "training loss : 0.6625144481658936 , training acc : 0.714514434337616 , mcc score : 0.6410409212112427\n",
      "aucroc score  : 0.9227810502052307 , f1 score     : 0.752962589263916 \n",
      "Generating predictions and computing metrics for Epoch 8 \n",
      "30/30 [==============================] - 2s 59ms/step\n",
      "training loss : 0.6556625366210938 , training acc : 0.7187833786010742 , mcc score : 0.6555274724960327\n",
      "aucroc score  : 0.9239645600318909 , f1 score     : 0.7643544673919678 \n",
      "Generating predictions and computing metrics for Epoch 9 \n",
      "30/30 [==============================] - 2s 59ms/step\n",
      "training loss : 0.6558852791786194 , training acc : 0.7187833786010742 , mcc score : 0.6517943739891052\n",
      "aucroc score  : 0.9306212663650513 , f1 score     : 0.7569980621337891 \n",
      "Generating predictions and computing metrics for Epoch 10 \n",
      "30/30 [==============================] - 2s 60ms/step\n",
      "training loss : 0.6379888653755188 , training acc : 0.7233191132545471 , mcc score : 0.6552321910858154\n",
      "aucroc score  : 0.9332839846611023 , f1 score     : 0.7569434642791748 \n"
     ]
    },
    {
     "data": {
      "text/html": [
       "Waiting for W&B process to finish... <strong style=\"color:green\">(success).</strong>"
      ],
      "text/plain": [
       "<IPython.core.display.HTML object>"
      ]
     },
     "metadata": {},
     "output_type": "display_data"
    },
    {
     "data": {
      "text/html": [
       "<style>\n",
       "    table.wandb td:nth-child(1) { padding: 0 10px; text-align: left ; width: auto;} td:nth-child(2) {text-align: left ; width: 100%}\n",
       "    .wandb-row { display: flex; flex-direction: row; flex-wrap: wrap; justify-content: flex-start; width: 100% }\n",
       "    .wandb-col { display: flex; flex-direction: column; flex-basis: 100%; flex: 1; padding: 10px; }\n",
       "    </style>\n",
       "<div class=\"wandb-row\"><div class=\"wandb-col\"><h3>Run history:</h3><br/><table class=\"wandb\"><tr><td>auc_roc</td><td>▁▇█▅▇▇▆▆▇█</td></tr><tr><td>epoch/accuracy</td><td>▁▅▆▇▇▇████</td></tr><tr><td>epoch/epoch</td><td>▁▂▃▃▄▅▆▆▇█</td></tr><tr><td>epoch/learning_rate</td><td>▁▁▁▁▁▁▁▁▁▁</td></tr><tr><td>epoch/loss</td><td>█▄▄▂▂▂▂▂▂▁</td></tr><tr><td>epoch/val_accuracy</td><td>▁▆▇▇▇▇▇███</td></tr><tr><td>epoch/val_loss</td><td>█▃▄▃▃▂▂▂▁▁</td></tr><tr><td>fmeasure</td><td>▁▇▇▇▆▇▇███</td></tr><tr><td>mcc</td><td>▁▆▇▇▇▇▇███</td></tr></table><br/></div><div class=\"wandb-col\"><h3>Run summary:</h3><br/><table class=\"wandb\"><tr><td>auc_roc</td><td>0.93328</td></tr><tr><td>epoch/accuracy</td><td>0.72332</td></tr><tr><td>epoch/epoch</td><td>9</td></tr><tr><td>epoch/learning_rate</td><td>0.00285</td></tr><tr><td>epoch/loss</td><td>0.63799</td></tr><tr><td>epoch/val_accuracy</td><td>0.78098</td></tr><tr><td>epoch/val_loss</td><td>0.52715</td></tr><tr><td>fmeasure</td><td>0.75694</td></tr><tr><td>mcc</td><td>0.65523</td></tr></table><br/></div></div>"
      ],
      "text/plain": [
       "<IPython.core.display.HTML object>"
      ]
     },
     "metadata": {},
     "output_type": "display_data"
    },
    {
     "data": {
      "text/html": [
       " View run <strong style=\"color:#cdcd00\">azure-sweep-9</strong> at: <a href='https://wandb.ai/marcus-lim/PCXR-DenseNet-121-Evaluation/runs/evdnoalb' target=\"_blank\">https://wandb.ai/marcus-lim/PCXR-DenseNet-121-Evaluation/runs/evdnoalb</a><br/>Synced 5 W&B file(s), 0 media file(s), 0 artifact file(s) and 0 other file(s)"
      ],
      "text/plain": [
       "<IPython.core.display.HTML object>"
      ]
     },
     "metadata": {},
     "output_type": "display_data"
    },
    {
     "data": {
      "text/html": [
       "Find logs at: <code>.\\wandb\\run-20230916_162602-evdnoalb\\logs</code>"
      ],
      "text/plain": [
       "<IPython.core.display.HTML object>"
      ]
     },
     "metadata": {},
     "output_type": "display_data"
    },
    {
     "name": "stderr",
     "output_type": "stream",
     "text": [
      "\u001b[34m\u001b[1mwandb\u001b[0m: Agent Starting Run: brw9idur with config:\n",
      "\u001b[34m\u001b[1mwandb\u001b[0m: \tbatch_size: 32\n",
      "\u001b[34m\u001b[1mwandb\u001b[0m: \tdropout_1: 0.8\n",
      "\u001b[34m\u001b[1mwandb\u001b[0m: \tdropout_2: 0.8\n",
      "\u001b[34m\u001b[1mwandb\u001b[0m: \tdropout_3: 0.8\n",
      "\u001b[34m\u001b[1mwandb\u001b[0m: \tepochs: 10\n",
      "\u001b[34m\u001b[1mwandb\u001b[0m: \tfc_layer_size_1: 32\n",
      "\u001b[34m\u001b[1mwandb\u001b[0m: \tfc_layer_size_2: 32\n",
      "\u001b[34m\u001b[1mwandb\u001b[0m: \tlearning_rate: 0.0015659531611559804\n",
      "\u001b[34m\u001b[1mwandb\u001b[0m: \toptimiser: adam\n",
      "Failed to detect the name of this notebook, you can set it manually with the WANDB_NOTEBOOK_NAME environment variable to enable code saving.\n"
     ]
    },
    {
     "data": {
      "text/html": [
       "wandb version 0.15.10 is available!  To upgrade, please run:\n",
       " $ pip install wandb --upgrade"
      ],
      "text/plain": [
       "<IPython.core.display.HTML object>"
      ]
     },
     "metadata": {},
     "output_type": "display_data"
    },
    {
     "data": {
      "text/html": [
       "Tracking run with wandb version 0.15.5"
      ],
      "text/plain": [
       "<IPython.core.display.HTML object>"
      ]
     },
     "metadata": {},
     "output_type": "display_data"
    },
    {
     "data": {
      "text/html": [
       "Run data is saved locally in <code>c:\\Users\\User\\Projects\\pneumonia-xray-classification\\notebooks\\wandb\\run-20230916_163753-brw9idur</code>"
      ],
      "text/plain": [
       "<IPython.core.display.HTML object>"
      ]
     },
     "metadata": {},
     "output_type": "display_data"
    },
    {
     "data": {
      "text/html": [
       "Syncing run <strong><a href='https://wandb.ai/marcus-lim/PCXR-DenseNet-121-Evaluation/runs/brw9idur' target=\"_blank\">absurd-sweep-10</a></strong> to <a href='https://wandb.ai/marcus-lim/PCXR-DenseNet-121-Evaluation' target=\"_blank\">Weights & Biases</a> (<a href='https://wandb.me/run' target=\"_blank\">docs</a>)<br/>Sweep page: <a href='https://wandb.ai/marcus-lim/PCXR-DenseNet-121-Evaluation/sweeps/jxdr1xzz' target=\"_blank\">https://wandb.ai/marcus-lim/PCXR-DenseNet-121-Evaluation/sweeps/jxdr1xzz</a>"
      ],
      "text/plain": [
       "<IPython.core.display.HTML object>"
      ]
     },
     "metadata": {},
     "output_type": "display_data"
    },
    {
     "data": {
      "text/html": [
       " View project at <a href='https://wandb.ai/marcus-lim/PCXR-DenseNet-121-Evaluation' target=\"_blank\">https://wandb.ai/marcus-lim/PCXR-DenseNet-121-Evaluation</a>"
      ],
      "text/plain": [
       "<IPython.core.display.HTML object>"
      ]
     },
     "metadata": {},
     "output_type": "display_data"
    },
    {
     "data": {
      "text/html": [
       " View sweep at <a href='https://wandb.ai/marcus-lim/PCXR-DenseNet-121-Evaluation/sweeps/jxdr1xzz' target=\"_blank\">https://wandb.ai/marcus-lim/PCXR-DenseNet-121-Evaluation/sweeps/jxdr1xzz</a>"
      ],
      "text/plain": [
       "<IPython.core.display.HTML object>"
      ]
     },
     "metadata": {},
     "output_type": "display_data"
    },
    {
     "data": {
      "text/html": [
       " View run at <a href='https://wandb.ai/marcus-lim/PCXR-DenseNet-121-Evaluation/runs/brw9idur' target=\"_blank\">https://wandb.ai/marcus-lim/PCXR-DenseNet-121-Evaluation/runs/brw9idur</a>"
      ],
      "text/plain": [
       "<IPython.core.display.HTML object>"
      ]
     },
     "metadata": {},
     "output_type": "display_data"
    },
    {
     "name": "stdout",
     "output_type": "stream",
     "text": [
      "Found 4684 files belonging to 3 classes.\n",
      "Using 3748 files for training.\n",
      "Using 936 files for validation.\n",
      "Found 1172 files belonging to 3 classes.\n",
      "Generating predictions and computing metrics for Epoch 1 \n",
      "30/30 [==============================] - 3s 62ms/step\n",
      "training loss : 1.126798391342163 , training acc : 0.43409818410873413 , mcc score : 0.4874242842197418\n",
      "aucroc score  : 0.8451183438301086 , f1 score     : 0.6275282502174377 \n",
      "Generating predictions and computing metrics for Epoch 2 \n",
      "30/30 [==============================] - 2s 59ms/step\n",
      "training loss : 1.0147595405578613 , training acc : 0.4933297634124756 , mcc score : 0.478607177734375\n",
      "aucroc score  : 0.8624260425567627 , f1 score     : 0.596422016620636 \n",
      "Generating predictions and computing metrics for Epoch 3 \n",
      "30/30 [==============================] - 2s 59ms/step\n",
      "training loss : 0.9373583197593689 , training acc : 0.5485592484474182 , mcc score : 0.5206946730613708\n",
      "aucroc score  : 0.9118342995643616 , f1 score     : 0.5296229124069214 \n",
      "Generating predictions and computing metrics for Epoch 4 \n",
      "30/30 [==============================] - 2s 60ms/step\n",
      "training loss : 0.8856199383735657 , training acc : 0.5920491218566895 , mcc score : 0.5384763479232788\n",
      "aucroc score  : 0.9031064510345459 , f1 score     : 0.5397956371307373 \n",
      "Generating predictions and computing metrics for Epoch 5 \n",
      "30/30 [==============================] - 2s 59ms/step\n",
      "training loss : 0.844931423664093 , training acc : 0.612593412399292 , mcc score : 0.5630091428756714\n",
      "aucroc score  : 0.9328401684761047 , f1 score     : 0.5715962052345276 \n",
      "Generating predictions and computing metrics for Epoch 6 \n",
      "30/30 [==============================] - 2s 71ms/step\n",
      "training loss : 0.8191526532173157 , training acc : 0.6296691298484802 , mcc score : 0.5623847246170044\n",
      "aucroc score  : 0.9357988238334656 , f1 score     : 0.6172875761985779 \n",
      "Generating predictions and computing metrics for Epoch 7 \n",
      "30/30 [==============================] - 2s 60ms/step\n",
      "training loss : 0.8133466243743896 , training acc : 0.624066174030304 , mcc score : 0.555448055267334\n",
      "aucroc score  : 0.9260355234146118 , f1 score     : 0.5509240031242371 \n",
      "Generating predictions and computing metrics for Epoch 8 \n",
      "30/30 [==============================] - 2s 59ms/step\n",
      "training loss : 0.7926321029663086 , training acc : 0.6326040625572205 , mcc score : 0.5612887740135193\n",
      "aucroc score  : 0.9244081974029541 , f1 score     : 0.5581226944923401 \n",
      "Generating predictions and computing metrics for Epoch 9 \n",
      "30/30 [==============================] - 2s 59ms/step\n",
      "training loss : 0.7768121361732483 , training acc : 0.6496798396110535 , mcc score : 0.5804777145385742\n",
      "aucroc score  : 0.9386094212532043 , f1 score     : 0.5903695225715637 \n",
      "Generating predictions and computing metrics for Epoch 10 \n",
      "30/30 [==============================] - 2s 57ms/step\n",
      "training loss : 0.7747600078582764 , training acc : 0.6419423818588257 , mcc score : 0.5735737681388855\n",
      "aucroc score  : 0.9350591897964478 , f1 score     : 0.5833112001419067 \n"
     ]
    },
    {
     "data": {
      "text/html": [
       "Waiting for W&B process to finish... <strong style=\"color:green\">(success).</strong>"
      ],
      "text/plain": [
       "<IPython.core.display.HTML object>"
      ]
     },
     "metadata": {},
     "output_type": "display_data"
    },
    {
     "data": {
      "text/html": [
       "<style>\n",
       "    table.wandb td:nth-child(1) { padding: 0 10px; text-align: left ; width: auto;} td:nth-child(2) {text-align: left ; width: 100%}\n",
       "    .wandb-row { display: flex; flex-direction: row; flex-wrap: wrap; justify-content: flex-start; width: 100% }\n",
       "    .wandb-col { display: flex; flex-direction: column; flex-basis: 100%; flex: 1; padding: 10px; }\n",
       "    </style>\n",
       "<div class=\"wandb-row\"><div class=\"wandb-col\"><h3>Run history:</h3><br/><table class=\"wandb\"><tr><td>auc_roc</td><td>▁▂▆▅██▇▇██</td></tr><tr><td>epoch/accuracy</td><td>▁▃▅▆▇▇▇▇██</td></tr><tr><td>epoch/epoch</td><td>▁▂▃▃▄▅▆▆▇█</td></tr><tr><td>epoch/learning_rate</td><td>▁▁▁▁▁▁▁▁▁▁</td></tr><tr><td>epoch/loss</td><td>█▆▄▃▂▂▂▁▁▁</td></tr><tr><td>epoch/val_accuracy</td><td>▂▁▃▄▆▇▅▆█▇</td></tr><tr><td>epoch/val_loss</td><td>█▅▃▃▂▂▁▁▁▁</td></tr><tr><td>fmeasure</td><td>█▆▁▂▄▇▃▃▅▅</td></tr><tr><td>mcc</td><td>▂▁▄▅▇▇▆▇██</td></tr></table><br/></div><div class=\"wandb-col\"><h3>Run summary:</h3><br/><table class=\"wandb\"><tr><td>auc_roc</td><td>0.93506</td></tr><tr><td>epoch/accuracy</td><td>0.64194</td></tr><tr><td>epoch/epoch</td><td>9</td></tr><tr><td>epoch/learning_rate</td><td>0.00157</td></tr><tr><td>epoch/loss</td><td>0.77476</td></tr><tr><td>epoch/val_accuracy</td><td>0.72115</td></tr><tr><td>epoch/val_loss</td><td>0.59724</td></tr><tr><td>fmeasure</td><td>0.58331</td></tr><tr><td>mcc</td><td>0.57357</td></tr></table><br/></div></div>"
      ],
      "text/plain": [
       "<IPython.core.display.HTML object>"
      ]
     },
     "metadata": {},
     "output_type": "display_data"
    },
    {
     "data": {
      "text/html": [
       " View run <strong style=\"color:#cdcd00\">absurd-sweep-10</strong> at: <a href='https://wandb.ai/marcus-lim/PCXR-DenseNet-121-Evaluation/runs/brw9idur' target=\"_blank\">https://wandb.ai/marcus-lim/PCXR-DenseNet-121-Evaluation/runs/brw9idur</a><br/>Synced 5 W&B file(s), 0 media file(s), 0 artifact file(s) and 0 other file(s)"
      ],
      "text/plain": [
       "<IPython.core.display.HTML object>"
      ]
     },
     "metadata": {},
     "output_type": "display_data"
    },
    {
     "data": {
      "text/html": [
       "Find logs at: <code>.\\wandb\\run-20230916_163753-brw9idur\\logs</code>"
      ],
      "text/plain": [
       "<IPython.core.display.HTML object>"
      ]
     },
     "metadata": {},
     "output_type": "display_data"
    },
    {
     "name": "stderr",
     "output_type": "stream",
     "text": [
      "\u001b[34m\u001b[1mwandb\u001b[0m: Agent Starting Run: ez884e0t with config:\n",
      "\u001b[34m\u001b[1mwandb\u001b[0m: \tbatch_size: 32\n",
      "\u001b[34m\u001b[1mwandb\u001b[0m: \tdropout_1: 0.8\n",
      "\u001b[34m\u001b[1mwandb\u001b[0m: \tdropout_2: 0.2\n",
      "\u001b[34m\u001b[1mwandb\u001b[0m: \tdropout_3: 0.6\n",
      "\u001b[34m\u001b[1mwandb\u001b[0m: \tepochs: 10\n",
      "\u001b[34m\u001b[1mwandb\u001b[0m: \tfc_layer_size_1: 256\n",
      "\u001b[34m\u001b[1mwandb\u001b[0m: \tfc_layer_size_2: 64\n",
      "\u001b[34m\u001b[1mwandb\u001b[0m: \tlearning_rate: 0.003481721402854007\n",
      "\u001b[34m\u001b[1mwandb\u001b[0m: \toptimiser: sgd\n",
      "Failed to detect the name of this notebook, you can set it manually with the WANDB_NOTEBOOK_NAME environment variable to enable code saving.\n"
     ]
    },
    {
     "data": {
      "text/html": [
       "wandb version 0.15.10 is available!  To upgrade, please run:\n",
       " $ pip install wandb --upgrade"
      ],
      "text/plain": [
       "<IPython.core.display.HTML object>"
      ]
     },
     "metadata": {},
     "output_type": "display_data"
    },
    {
     "data": {
      "text/html": [
       "Tracking run with wandb version 0.15.5"
      ],
      "text/plain": [
       "<IPython.core.display.HTML object>"
      ]
     },
     "metadata": {},
     "output_type": "display_data"
    },
    {
     "data": {
      "text/html": [
       "Run data is saved locally in <code>c:\\Users\\User\\Projects\\pneumonia-xray-classification\\notebooks\\wandb\\run-20230916_164948-ez884e0t</code>"
      ],
      "text/plain": [
       "<IPython.core.display.HTML object>"
      ]
     },
     "metadata": {},
     "output_type": "display_data"
    },
    {
     "data": {
      "text/html": [
       "Syncing run <strong><a href='https://wandb.ai/marcus-lim/PCXR-DenseNet-121-Evaluation/runs/ez884e0t' target=\"_blank\">neat-sweep-11</a></strong> to <a href='https://wandb.ai/marcus-lim/PCXR-DenseNet-121-Evaluation' target=\"_blank\">Weights & Biases</a> (<a href='https://wandb.me/run' target=\"_blank\">docs</a>)<br/>Sweep page: <a href='https://wandb.ai/marcus-lim/PCXR-DenseNet-121-Evaluation/sweeps/jxdr1xzz' target=\"_blank\">https://wandb.ai/marcus-lim/PCXR-DenseNet-121-Evaluation/sweeps/jxdr1xzz</a>"
      ],
      "text/plain": [
       "<IPython.core.display.HTML object>"
      ]
     },
     "metadata": {},
     "output_type": "display_data"
    },
    {
     "data": {
      "text/html": [
       " View project at <a href='https://wandb.ai/marcus-lim/PCXR-DenseNet-121-Evaluation' target=\"_blank\">https://wandb.ai/marcus-lim/PCXR-DenseNet-121-Evaluation</a>"
      ],
      "text/plain": [
       "<IPython.core.display.HTML object>"
      ]
     },
     "metadata": {},
     "output_type": "display_data"
    },
    {
     "data": {
      "text/html": [
       " View sweep at <a href='https://wandb.ai/marcus-lim/PCXR-DenseNet-121-Evaluation/sweeps/jxdr1xzz' target=\"_blank\">https://wandb.ai/marcus-lim/PCXR-DenseNet-121-Evaluation/sweeps/jxdr1xzz</a>"
      ],
      "text/plain": [
       "<IPython.core.display.HTML object>"
      ]
     },
     "metadata": {},
     "output_type": "display_data"
    },
    {
     "data": {
      "text/html": [
       " View run at <a href='https://wandb.ai/marcus-lim/PCXR-DenseNet-121-Evaluation/runs/ez884e0t' target=\"_blank\">https://wandb.ai/marcus-lim/PCXR-DenseNet-121-Evaluation/runs/ez884e0t</a>"
      ],
      "text/plain": [
       "<IPython.core.display.HTML object>"
      ]
     },
     "metadata": {},
     "output_type": "display_data"
    },
    {
     "name": "stdout",
     "output_type": "stream",
     "text": [
      "Found 4684 files belonging to 3 classes.\n",
      "Using 3748 files for training.\n",
      "Using 936 files for validation.\n",
      "Found 1172 files belonging to 3 classes.\n",
      "Generating predictions and computing metrics for Epoch 1 \n",
      "30/30 [==============================] - 3s 59ms/step\n",
      "training loss : 1.0852376222610474 , training acc : 0.4284951984882355 , mcc score : 0.3926115036010742\n",
      "aucroc score  : 0.843343198299408 , f1 score     : 0.4800543487071991 \n",
      "Generating predictions and computing metrics for Epoch 2 \n",
      "30/30 [==============================] - 2s 57ms/step\n",
      "training loss : 0.9985498189926147 , training acc : 0.5066702365875244 , mcc score : 0.47012919187545776\n",
      "aucroc score  : 0.8539940714836121 , f1 score     : 0.5145334601402283 \n",
      "Generating predictions and computing metrics for Epoch 3 \n",
      "30/30 [==============================] - 2s 58ms/step\n",
      "training loss : 0.9458935856819153 , training acc : 0.552561342716217 , mcc score : 0.474219411611557\n",
      "aucroc score  : 0.8427515029907227 , f1 score     : 0.5135135054588318 \n",
      "Generating predictions and computing metrics for Epoch 4 \n",
      "30/30 [==============================] - 2s 57ms/step\n",
      "training loss : 0.9118791818618774 , training acc : 0.5829775929450989 , mcc score : 0.4763839840888977\n",
      "aucroc score  : 0.8439348936080933 , f1 score     : 0.514026939868927 \n",
      "Generating predictions and computing metrics for Epoch 5 \n",
      "30/30 [==============================] - 2s 58ms/step\n",
      "training loss : 0.8739556074142456 , training acc : 0.6077908277511597 , mcc score : 0.4804721176624298\n",
      "aucroc score  : 0.8528106212615967 , f1 score     : 0.5181583762168884 \n",
      "Generating predictions and computing metrics for Epoch 6 \n",
      "30/30 [==============================] - 2s 58ms/step\n",
      "training loss : 0.8373748064041138 , training acc : 0.6176627278327942 , mcc score : 0.4777713418006897\n",
      "aucroc score  : 0.8539941310882568 , f1 score     : 0.5215140581130981 \n",
      "Generating predictions and computing metrics for Epoch 7 \n",
      "30/30 [==============================] - 2s 58ms/step\n",
      "training loss : 0.8167703151702881 , training acc : 0.631003201007843 , mcc score : 0.4836363196372986\n",
      "aucroc score  : 0.8602071404457092 , f1 score     : 0.5357639789581299 \n",
      "Generating predictions and computing metrics for Epoch 8 \n",
      "30/30 [==============================] - 2s 58ms/step\n",
      "training loss : 0.8055999279022217 , training acc : 0.641141951084137 , mcc score : 0.4921780526638031\n",
      "aucroc score  : 0.8616864085197449 , f1 score     : 0.5557594299316406 \n",
      "Generating predictions and computing metrics for Epoch 9 \n",
      "30/30 [==============================] - 2s 58ms/step\n",
      "training loss : 0.7800824046134949 , training acc : 0.6571505069732666 , mcc score : 0.49749624729156494\n",
      "aucroc score  : 0.8628697991371155 , f1 score     : 0.5685476660728455 \n",
      "Generating predictions and computing metrics for Epoch 10 \n",
      "30/30 [==============================] - 2s 58ms/step\n",
      "training loss : 0.7762926816940308 , training acc : 0.6526147127151489 , mcc score : 0.5147225260734558\n",
      "aucroc score  : 0.8705621957778931 , f1 score     : 0.5858923196792603 \n"
     ]
    },
    {
     "data": {
      "text/html": [
       "Waiting for W&B process to finish... <strong style=\"color:green\">(success).</strong>"
      ],
      "text/plain": [
       "<IPython.core.display.HTML object>"
      ]
     },
     "metadata": {},
     "output_type": "display_data"
    },
    {
     "data": {
      "text/html": [
       "<style>\n",
       "    table.wandb td:nth-child(1) { padding: 0 10px; text-align: left ; width: auto;} td:nth-child(2) {text-align: left ; width: 100%}\n",
       "    .wandb-row { display: flex; flex-direction: row; flex-wrap: wrap; justify-content: flex-start; width: 100% }\n",
       "    .wandb-col { display: flex; flex-direction: column; flex-basis: 100%; flex: 1; padding: 10px; }\n",
       "    </style>\n",
       "<div class=\"wandb-row\"><div class=\"wandb-col\"><h3>Run history:</h3><br/><table class=\"wandb\"><tr><td>auc_roc</td><td>▁▄▁▁▄▄▅▆▆█</td></tr><tr><td>epoch/accuracy</td><td>▁▃▅▆▆▇▇███</td></tr><tr><td>epoch/epoch</td><td>▁▂▃▃▄▅▆▆▇█</td></tr><tr><td>epoch/learning_rate</td><td>▁▁▁▁▁▁▁▁▁▁</td></tr><tr><td>epoch/loss</td><td>█▆▅▄▃▂▂▂▁▁</td></tr><tr><td>epoch/val_accuracy</td><td>▁▅▅▅▆▆▆▇▇█</td></tr><tr><td>epoch/val_loss</td><td>█▆▅▄▃▂▂▂▁▁</td></tr><tr><td>fmeasure</td><td>▁▃▃▃▄▄▅▆▇█</td></tr><tr><td>mcc</td><td>▁▅▆▆▆▆▆▇▇█</td></tr></table><br/></div><div class=\"wandb-col\"><h3>Run summary:</h3><br/><table class=\"wandb\"><tr><td>auc_roc</td><td>0.87056</td></tr><tr><td>epoch/accuracy</td><td>0.65261</td></tr><tr><td>epoch/epoch</td><td>9</td></tr><tr><td>epoch/learning_rate</td><td>0.00348</td></tr><tr><td>epoch/loss</td><td>0.77629</td></tr><tr><td>epoch/val_accuracy</td><td>0.69338</td></tr><tr><td>epoch/val_loss</td><td>0.66868</td></tr><tr><td>fmeasure</td><td>0.58589</td></tr><tr><td>mcc</td><td>0.51472</td></tr></table><br/></div></div>"
      ],
      "text/plain": [
       "<IPython.core.display.HTML object>"
      ]
     },
     "metadata": {},
     "output_type": "display_data"
    },
    {
     "data": {
      "text/html": [
       " View run <strong style=\"color:#cdcd00\">neat-sweep-11</strong> at: <a href='https://wandb.ai/marcus-lim/PCXR-DenseNet-121-Evaluation/runs/ez884e0t' target=\"_blank\">https://wandb.ai/marcus-lim/PCXR-DenseNet-121-Evaluation/runs/ez884e0t</a><br/>Synced 5 W&B file(s), 0 media file(s), 0 artifact file(s) and 0 other file(s)"
      ],
      "text/plain": [
       "<IPython.core.display.HTML object>"
      ]
     },
     "metadata": {},
     "output_type": "display_data"
    },
    {
     "data": {
      "text/html": [
       "Find logs at: <code>.\\wandb\\run-20230916_164948-ez884e0t\\logs</code>"
      ],
      "text/plain": [
       "<IPython.core.display.HTML object>"
      ]
     },
     "metadata": {},
     "output_type": "display_data"
    },
    {
     "name": "stderr",
     "output_type": "stream",
     "text": [
      "\u001b[34m\u001b[1mwandb\u001b[0m: Sweep Agent: Waiting for job.\n",
      "\u001b[34m\u001b[1mwandb\u001b[0m: Job received.\n",
      "\u001b[34m\u001b[1mwandb\u001b[0m: Agent Starting Run: m3ecj6dp with config:\n",
      "\u001b[34m\u001b[1mwandb\u001b[0m: \tbatch_size: 32\n",
      "\u001b[34m\u001b[1mwandb\u001b[0m: \tdropout_1: 0.2\n",
      "\u001b[34m\u001b[1mwandb\u001b[0m: \tdropout_2: 0.8\n",
      "\u001b[34m\u001b[1mwandb\u001b[0m: \tdropout_3: 0.6\n",
      "\u001b[34m\u001b[1mwandb\u001b[0m: \tepochs: 10\n",
      "\u001b[34m\u001b[1mwandb\u001b[0m: \tfc_layer_size_1: 64\n",
      "\u001b[34m\u001b[1mwandb\u001b[0m: \tfc_layer_size_2: 16\n",
      "\u001b[34m\u001b[1mwandb\u001b[0m: \tlearning_rate: 0.003697834317934528\n",
      "\u001b[34m\u001b[1mwandb\u001b[0m: \toptimiser: adam\n",
      "Failed to detect the name of this notebook, you can set it manually with the WANDB_NOTEBOOK_NAME environment variable to enable code saving.\n"
     ]
    },
    {
     "data": {
      "text/html": [
       "wandb version 0.15.10 is available!  To upgrade, please run:\n",
       " $ pip install wandb --upgrade"
      ],
      "text/plain": [
       "<IPython.core.display.HTML object>"
      ]
     },
     "metadata": {},
     "output_type": "display_data"
    },
    {
     "data": {
      "text/html": [
       "Tracking run with wandb version 0.15.5"
      ],
      "text/plain": [
       "<IPython.core.display.HTML object>"
      ]
     },
     "metadata": {},
     "output_type": "display_data"
    },
    {
     "data": {
      "text/html": [
       "Run data is saved locally in <code>c:\\Users\\User\\Projects\\pneumonia-xray-classification\\notebooks\\wandb\\run-20230916_170135-m3ecj6dp</code>"
      ],
      "text/plain": [
       "<IPython.core.display.HTML object>"
      ]
     },
     "metadata": {},
     "output_type": "display_data"
    },
    {
     "data": {
      "text/html": [
       "Syncing run <strong><a href='https://wandb.ai/marcus-lim/PCXR-DenseNet-121-Evaluation/runs/m3ecj6dp' target=\"_blank\">vivid-sweep-12</a></strong> to <a href='https://wandb.ai/marcus-lim/PCXR-DenseNet-121-Evaluation' target=\"_blank\">Weights & Biases</a> (<a href='https://wandb.me/run' target=\"_blank\">docs</a>)<br/>Sweep page: <a href='https://wandb.ai/marcus-lim/PCXR-DenseNet-121-Evaluation/sweeps/jxdr1xzz' target=\"_blank\">https://wandb.ai/marcus-lim/PCXR-DenseNet-121-Evaluation/sweeps/jxdr1xzz</a>"
      ],
      "text/plain": [
       "<IPython.core.display.HTML object>"
      ]
     },
     "metadata": {},
     "output_type": "display_data"
    },
    {
     "data": {
      "text/html": [
       " View project at <a href='https://wandb.ai/marcus-lim/PCXR-DenseNet-121-Evaluation' target=\"_blank\">https://wandb.ai/marcus-lim/PCXR-DenseNet-121-Evaluation</a>"
      ],
      "text/plain": [
       "<IPython.core.display.HTML object>"
      ]
     },
     "metadata": {},
     "output_type": "display_data"
    },
    {
     "data": {
      "text/html": [
       " View sweep at <a href='https://wandb.ai/marcus-lim/PCXR-DenseNet-121-Evaluation/sweeps/jxdr1xzz' target=\"_blank\">https://wandb.ai/marcus-lim/PCXR-DenseNet-121-Evaluation/sweeps/jxdr1xzz</a>"
      ],
      "text/plain": [
       "<IPython.core.display.HTML object>"
      ]
     },
     "metadata": {},
     "output_type": "display_data"
    },
    {
     "data": {
      "text/html": [
       " View run at <a href='https://wandb.ai/marcus-lim/PCXR-DenseNet-121-Evaluation/runs/m3ecj6dp' target=\"_blank\">https://wandb.ai/marcus-lim/PCXR-DenseNet-121-Evaluation/runs/m3ecj6dp</a>"
      ],
      "text/plain": [
       "<IPython.core.display.HTML object>"
      ]
     },
     "metadata": {},
     "output_type": "display_data"
    },
    {
     "name": "stdout",
     "output_type": "stream",
     "text": [
      "Found 4684 files belonging to 3 classes.\n",
      "Using 3748 files for training.\n",
      "Using 936 files for validation.\n",
      "Found 1172 files belonging to 3 classes.\n",
      "Generating predictions and computing metrics for Epoch 1 \n",
      "30/30 [==============================] - 3s 60ms/step\n",
      "training loss : 0.7241494059562683 , training acc : 0.6808964610099792 , mcc score : 0.6408838033676147\n",
      "aucroc score  : 0.9189349412918091 , f1 score     : 0.7418935894966125 \n",
      "Generating predictions and computing metrics for Epoch 2 \n",
      "30/30 [==============================] - 2s 57ms/step\n",
      "training loss : 0.6068518161773682 , training acc : 0.7318570017814636 , mcc score : 0.666348397731781\n",
      "aucroc score  : 0.9275147914886475 , f1 score     : 0.770733654499054 \n",
      "Generating predictions and computing metrics for Epoch 3 \n",
      "30/30 [==============================] - 2s 57ms/step\n",
      "training loss : 0.5754014253616333 , training acc : 0.7740128040313721 , mcc score : 0.6665340065956116\n",
      "aucroc score  : 0.9344674944877625 , f1 score     : 0.7617529034614563 \n",
      "Generating predictions and computing metrics for Epoch 4 \n",
      "30/30 [==============================] - 2s 57ms/step\n",
      "training loss : 0.5488070845603943 , training acc : 0.7673425674438477 , mcc score : 0.6597674489021301\n",
      "aucroc score  : 0.9264792799949646 , f1 score     : 0.7592976093292236 \n",
      "Generating predictions and computing metrics for Epoch 5 \n",
      "30/30 [==============================] - 2s 58ms/step\n",
      "training loss : 0.5486677885055542 , training acc : 0.7750800251960754 , mcc score : 0.6697483658790588\n",
      "aucroc score  : 0.9458580017089844 , f1 score     : 0.7554386258125305 \n",
      "Generating predictions and computing metrics for Epoch 6 \n",
      "30/30 [==============================] - 2s 58ms/step\n",
      "training loss : 0.5367248058319092 , training acc : 0.7761473059654236 , mcc score : 0.6522079110145569\n",
      "aucroc score  : 0.925295889377594 , f1 score     : 0.7655413746833801 \n",
      "Generating predictions and computing metrics for Epoch 7 \n",
      "30/30 [==============================] - 2s 57ms/step\n",
      "training loss : 0.5239483118057251 , training acc : 0.7902881503105164 , mcc score : 0.6752966642379761\n",
      "aucroc score  : 0.9431952834129333 , f1 score     : 0.7582767605781555 \n",
      "Generating predictions and computing metrics for Epoch 8 \n",
      "30/30 [==============================] - 2s 58ms/step\n",
      "training loss : 0.5273109078407288 , training acc : 0.784151554107666 , mcc score : 0.6691920161247253\n",
      "aucroc score  : 0.9371300935745239 , f1 score     : 0.7669868469238281 \n",
      "Generating predictions and computing metrics for Epoch 9 \n",
      "30/30 [==============================] - 2s 58ms/step\n",
      "training loss : 0.5251736640930176 , training acc : 0.7796158194541931 , mcc score : 0.6592136025428772\n",
      "aucroc score  : 0.9380177855491638 , f1 score     : 0.7634499073028564 \n",
      "Generating predictions and computing metrics for Epoch 10 \n",
      "30/30 [==============================] - 2s 57ms/step\n",
      "training loss : 0.5260119438171387 , training acc : 0.7822839021682739 , mcc score : 0.6788561940193176\n",
      "aucroc score  : 0.9409763216972351 , f1 score     : 0.7755816578865051 \n"
     ]
    },
    {
     "data": {
      "text/html": [
       "Waiting for W&B process to finish... <strong style=\"color:green\">(success).</strong>"
      ],
      "text/plain": [
       "<IPython.core.display.HTML object>"
      ]
     },
     "metadata": {},
     "output_type": "display_data"
    },
    {
     "data": {
      "text/html": [
       "<style>\n",
       "    table.wandb td:nth-child(1) { padding: 0 10px; text-align: left ; width: auto;} td:nth-child(2) {text-align: left ; width: 100%}\n",
       "    .wandb-row { display: flex; flex-direction: row; flex-wrap: wrap; justify-content: flex-start; width: 100% }\n",
       "    .wandb-col { display: flex; flex-direction: column; flex-basis: 100%; flex: 1; padding: 10px; }\n",
       "    </style>\n",
       "<div class=\"wandb-row\"><div class=\"wandb-col\"><h3>Run history:</h3><br/><table class=\"wandb\"><tr><td>auc_roc</td><td>▁▃▅▃█▃▇▆▆▇</td></tr><tr><td>epoch/accuracy</td><td>▁▄▇▇▇▇██▇▇</td></tr><tr><td>epoch/epoch</td><td>▁▂▃▃▄▅▆▆▇█</td></tr><tr><td>epoch/learning_rate</td><td>▁▁▁▁▁▁▁▁▁▁</td></tr><tr><td>epoch/loss</td><td>█▄▃▂▂▁▁▁▁▁</td></tr><tr><td>epoch/val_accuracy</td><td>▁▅▅▅▇▁█▆▃█</td></tr><tr><td>epoch/val_loss</td><td>▇▃█▃▃▅▁▅█▅</td></tr><tr><td>fmeasure</td><td>▁▇▅▅▄▆▄▆▅█</td></tr><tr><td>mcc</td><td>▁▆▆▄▆▃▇▆▄█</td></tr></table><br/></div><div class=\"wandb-col\"><h3>Run summary:</h3><br/><table class=\"wandb\"><tr><td>auc_roc</td><td>0.94098</td></tr><tr><td>epoch/accuracy</td><td>0.78228</td></tr><tr><td>epoch/epoch</td><td>9</td></tr><tr><td>epoch/learning_rate</td><td>0.0037</td></tr><tr><td>epoch/loss</td><td>0.52601</td></tr><tr><td>epoch/val_accuracy</td><td>0.79487</td></tr><tr><td>epoch/val_loss</td><td>0.52697</td></tr><tr><td>fmeasure</td><td>0.77558</td></tr><tr><td>mcc</td><td>0.67886</td></tr></table><br/></div></div>"
      ],
      "text/plain": [
       "<IPython.core.display.HTML object>"
      ]
     },
     "metadata": {},
     "output_type": "display_data"
    },
    {
     "data": {
      "text/html": [
       " View run <strong style=\"color:#cdcd00\">vivid-sweep-12</strong> at: <a href='https://wandb.ai/marcus-lim/PCXR-DenseNet-121-Evaluation/runs/m3ecj6dp' target=\"_blank\">https://wandb.ai/marcus-lim/PCXR-DenseNet-121-Evaluation/runs/m3ecj6dp</a><br/>Synced 5 W&B file(s), 0 media file(s), 0 artifact file(s) and 0 other file(s)"
      ],
      "text/plain": [
       "<IPython.core.display.HTML object>"
      ]
     },
     "metadata": {},
     "output_type": "display_data"
    },
    {
     "data": {
      "text/html": [
       "Find logs at: <code>.\\wandb\\run-20230916_170135-m3ecj6dp\\logs</code>"
      ],
      "text/plain": [
       "<IPython.core.display.HTML object>"
      ]
     },
     "metadata": {},
     "output_type": "display_data"
    },
    {
     "name": "stderr",
     "output_type": "stream",
     "text": [
      "\u001b[34m\u001b[1mwandb\u001b[0m: Agent Starting Run: jpzb1osp with config:\n",
      "\u001b[34m\u001b[1mwandb\u001b[0m: \tbatch_size: 32\n",
      "\u001b[34m\u001b[1mwandb\u001b[0m: \tdropout_1: 0.6\n",
      "\u001b[34m\u001b[1mwandb\u001b[0m: \tdropout_2: 0.6\n",
      "\u001b[34m\u001b[1mwandb\u001b[0m: \tdropout_3: 0.8\n",
      "\u001b[34m\u001b[1mwandb\u001b[0m: \tepochs: 10\n",
      "\u001b[34m\u001b[1mwandb\u001b[0m: \tfc_layer_size_1: 256\n",
      "\u001b[34m\u001b[1mwandb\u001b[0m: \tfc_layer_size_2: 512\n",
      "\u001b[34m\u001b[1mwandb\u001b[0m: \tlearning_rate: 0.001585813323086763\n",
      "\u001b[34m\u001b[1mwandb\u001b[0m: \toptimiser: adam\n",
      "Failed to detect the name of this notebook, you can set it manually with the WANDB_NOTEBOOK_NAME environment variable to enable code saving.\n"
     ]
    },
    {
     "data": {
      "text/html": [
       "wandb version 0.15.10 is available!  To upgrade, please run:\n",
       " $ pip install wandb --upgrade"
      ],
      "text/plain": [
       "<IPython.core.display.HTML object>"
      ]
     },
     "metadata": {},
     "output_type": "display_data"
    },
    {
     "data": {
      "text/html": [
       "Tracking run with wandb version 0.15.5"
      ],
      "text/plain": [
       "<IPython.core.display.HTML object>"
      ]
     },
     "metadata": {},
     "output_type": "display_data"
    },
    {
     "data": {
      "text/html": [
       "Run data is saved locally in <code>c:\\Users\\User\\Projects\\pneumonia-xray-classification\\notebooks\\wandb\\run-20230916_171315-jpzb1osp</code>"
      ],
      "text/plain": [
       "<IPython.core.display.HTML object>"
      ]
     },
     "metadata": {},
     "output_type": "display_data"
    },
    {
     "data": {
      "text/html": [
       "Syncing run <strong><a href='https://wandb.ai/marcus-lim/PCXR-DenseNet-121-Evaluation/runs/jpzb1osp' target=\"_blank\">decent-sweep-13</a></strong> to <a href='https://wandb.ai/marcus-lim/PCXR-DenseNet-121-Evaluation' target=\"_blank\">Weights & Biases</a> (<a href='https://wandb.me/run' target=\"_blank\">docs</a>)<br/>Sweep page: <a href='https://wandb.ai/marcus-lim/PCXR-DenseNet-121-Evaluation/sweeps/jxdr1xzz' target=\"_blank\">https://wandb.ai/marcus-lim/PCXR-DenseNet-121-Evaluation/sweeps/jxdr1xzz</a>"
      ],
      "text/plain": [
       "<IPython.core.display.HTML object>"
      ]
     },
     "metadata": {},
     "output_type": "display_data"
    },
    {
     "data": {
      "text/html": [
       " View project at <a href='https://wandb.ai/marcus-lim/PCXR-DenseNet-121-Evaluation' target=\"_blank\">https://wandb.ai/marcus-lim/PCXR-DenseNet-121-Evaluation</a>"
      ],
      "text/plain": [
       "<IPython.core.display.HTML object>"
      ]
     },
     "metadata": {},
     "output_type": "display_data"
    },
    {
     "data": {
      "text/html": [
       " View sweep at <a href='https://wandb.ai/marcus-lim/PCXR-DenseNet-121-Evaluation/sweeps/jxdr1xzz' target=\"_blank\">https://wandb.ai/marcus-lim/PCXR-DenseNet-121-Evaluation/sweeps/jxdr1xzz</a>"
      ],
      "text/plain": [
       "<IPython.core.display.HTML object>"
      ]
     },
     "metadata": {},
     "output_type": "display_data"
    },
    {
     "data": {
      "text/html": [
       " View run at <a href='https://wandb.ai/marcus-lim/PCXR-DenseNet-121-Evaluation/runs/jpzb1osp' target=\"_blank\">https://wandb.ai/marcus-lim/PCXR-DenseNet-121-Evaluation/runs/jpzb1osp</a>"
      ],
      "text/plain": [
       "<IPython.core.display.HTML object>"
      ]
     },
     "metadata": {},
     "output_type": "display_data"
    },
    {
     "name": "stdout",
     "output_type": "stream",
     "text": [
      "Found 4684 files belonging to 3 classes.\n",
      "Using 3748 files for training.\n",
      "Using 936 files for validation.\n",
      "Found 1172 files belonging to 3 classes.\n",
      "Generating predictions and computing metrics for Epoch 1 \n",
      "30/30 [==============================] - 3s 59ms/step\n",
      "training loss : 0.831109881401062 , training acc : 0.6472785472869873 , mcc score : 0.6387861967086792\n",
      "aucroc score  : 0.930325448513031 , f1 score     : 0.735041081905365 \n",
      "Generating predictions and computing metrics for Epoch 2 \n",
      "30/30 [==============================] - 2s 57ms/step\n",
      "training loss : 0.7043966054916382 , training acc : 0.6926360726356506 , mcc score : 0.6355682015419006\n",
      "aucroc score  : 0.9235207438468933 , f1 score     : 0.7357425093650818 \n",
      "Generating predictions and computing metrics for Epoch 3 \n",
      "30/30 [==============================] - 2s 57ms/step\n",
      "training loss : 0.6580920815467834 , training acc : 0.7225186824798584 , mcc score : 0.6603097915649414\n",
      "aucroc score  : 0.940384566783905 , f1 score     : 0.7486564517021179 \n",
      "Generating predictions and computing metrics for Epoch 4 \n",
      "30/30 [==============================] - 2s 57ms/step\n",
      "training loss : 0.6172858476638794 , training acc : 0.7377268075942993 , mcc score : 0.6632397770881653\n",
      "aucroc score  : 0.9340236783027649 , f1 score     : 0.7665085792541504 \n",
      "Generating predictions and computing metrics for Epoch 5 \n",
      "30/30 [==============================] - 2s 57ms/step\n",
      "training loss : 0.5978938341140747 , training acc : 0.7508004307746887 , mcc score : 0.6682108044624329\n",
      "aucroc score  : 0.9318046569824219 , f1 score     : 0.7687501907348633 \n",
      "Generating predictions and computing metrics for Epoch 6 \n",
      "30/30 [==============================] - 2s 57ms/step\n",
      "training loss : 0.5957092046737671 , training acc : 0.743596613407135 , mcc score : 0.6435637474060059\n",
      "aucroc score  : 0.9270709753036499 , f1 score     : 0.7553961277008057 \n",
      "Generating predictions and computing metrics for Epoch 7 \n",
      "30/30 [==============================] - 2s 57ms/step\n",
      "training loss : 0.572145938873291 , training acc : 0.760138750076294 , mcc score : 0.6786518096923828\n",
      "aucroc score  : 0.9400887489318848 , f1 score     : 0.7724825739860535 \n",
      "Generating predictions and computing metrics for Epoch 8 \n",
      "30/30 [==============================] - 2s 57ms/step\n",
      "training loss : 0.5911204814910889 , training acc : 0.7521344423294067 , mcc score : 0.6738304495811462\n",
      "aucroc score  : 0.9331361651420593 , f1 score     : 0.7754549980163574 \n",
      "Generating predictions and computing metrics for Epoch 9 \n",
      "30/30 [==============================] - 2s 58ms/step\n",
      "training loss : 0.5722797513008118 , training acc : 0.7574706673622131 , mcc score : 0.6574594378471375\n",
      "aucroc score  : 0.9378698468208313 , f1 score     : 0.749112606048584 \n",
      "Generating predictions and computing metrics for Epoch 10 \n",
      "30/30 [==============================] - 2s 58ms/step\n",
      "training loss : 0.5769213438034058 , training acc : 0.7673425674438477 , mcc score : 0.6558879017829895\n",
      "aucroc score  : 0.9199703931808472 , f1 score     : 0.762488842010498 \n"
     ]
    },
    {
     "data": {
      "text/html": [
       "Waiting for W&B process to finish... <strong style=\"color:green\">(success).</strong>"
      ],
      "text/plain": [
       "<IPython.core.display.HTML object>"
      ]
     },
     "metadata": {},
     "output_type": "display_data"
    },
    {
     "data": {
      "text/html": [
       "<style>\n",
       "    table.wandb td:nth-child(1) { padding: 0 10px; text-align: left ; width: auto;} td:nth-child(2) {text-align: left ; width: 100%}\n",
       "    .wandb-row { display: flex; flex-direction: row; flex-wrap: wrap; justify-content: flex-start; width: 100% }\n",
       "    .wandb-col { display: flex; flex-direction: column; flex-basis: 100%; flex: 1; padding: 10px; }\n",
       "    </style>\n",
       "<div class=\"wandb-row\"><div class=\"wandb-col\"><h3>Run history:</h3><br/><table class=\"wandb\"><tr><td>auc_roc</td><td>▅▂█▆▅▃█▆▇▁</td></tr><tr><td>epoch/accuracy</td><td>▁▄▅▆▇▇█▇▇█</td></tr><tr><td>epoch/epoch</td><td>▁▂▃▃▄▅▆▆▇█</td></tr><tr><td>epoch/learning_rate</td><td>▁▁▁▁▁▁▁▁▁▁</td></tr><tr><td>epoch/loss</td><td>█▅▃▂▂▂▁▂▁▁</td></tr><tr><td>epoch/val_accuracy</td><td>▂▁▅▅▇▂█▇▅▄</td></tr><tr><td>epoch/val_loss</td><td>▇█▂▄▁▅▂▂▃▆</td></tr><tr><td>fmeasure</td><td>▁▁▃▆▇▅▇█▃▆</td></tr><tr><td>mcc</td><td>▂▁▅▅▆▂█▇▅▄</td></tr></table><br/></div><div class=\"wandb-col\"><h3>Run summary:</h3><br/><table class=\"wandb\"><tr><td>auc_roc</td><td>0.91997</td></tr><tr><td>epoch/accuracy</td><td>0.76734</td></tr><tr><td>epoch/epoch</td><td>9</td></tr><tr><td>epoch/learning_rate</td><td>0.00159</td></tr><tr><td>epoch/loss</td><td>0.57692</td></tr><tr><td>epoch/val_accuracy</td><td>0.77778</td></tr><tr><td>epoch/val_loss</td><td>0.56096</td></tr><tr><td>fmeasure</td><td>0.76249</td></tr><tr><td>mcc</td><td>0.65589</td></tr></table><br/></div></div>"
      ],
      "text/plain": [
       "<IPython.core.display.HTML object>"
      ]
     },
     "metadata": {},
     "output_type": "display_data"
    },
    {
     "data": {
      "text/html": [
       " View run <strong style=\"color:#cdcd00\">decent-sweep-13</strong> at: <a href='https://wandb.ai/marcus-lim/PCXR-DenseNet-121-Evaluation/runs/jpzb1osp' target=\"_blank\">https://wandb.ai/marcus-lim/PCXR-DenseNet-121-Evaluation/runs/jpzb1osp</a><br/>Synced 5 W&B file(s), 0 media file(s), 0 artifact file(s) and 0 other file(s)"
      ],
      "text/plain": [
       "<IPython.core.display.HTML object>"
      ]
     },
     "metadata": {},
     "output_type": "display_data"
    },
    {
     "data": {
      "text/html": [
       "Find logs at: <code>.\\wandb\\run-20230916_171315-jpzb1osp\\logs</code>"
      ],
      "text/plain": [
       "<IPython.core.display.HTML object>"
      ]
     },
     "metadata": {},
     "output_type": "display_data"
    },
    {
     "name": "stderr",
     "output_type": "stream",
     "text": [
      "\u001b[34m\u001b[1mwandb\u001b[0m: Agent Starting Run: 14umeagy with config:\n",
      "\u001b[34m\u001b[1mwandb\u001b[0m: \tbatch_size: 32\n",
      "\u001b[34m\u001b[1mwandb\u001b[0m: \tdropout_1: 0.8\n",
      "\u001b[34m\u001b[1mwandb\u001b[0m: \tdropout_2: 0.8\n",
      "\u001b[34m\u001b[1mwandb\u001b[0m: \tdropout_3: 0.8\n",
      "\u001b[34m\u001b[1mwandb\u001b[0m: \tepochs: 10\n",
      "\u001b[34m\u001b[1mwandb\u001b[0m: \tfc_layer_size_1: 64\n",
      "\u001b[34m\u001b[1mwandb\u001b[0m: \tfc_layer_size_2: 128\n",
      "\u001b[34m\u001b[1mwandb\u001b[0m: \tlearning_rate: 0.0024965659625663253\n",
      "\u001b[34m\u001b[1mwandb\u001b[0m: \toptimiser: sgd\n",
      "Failed to detect the name of this notebook, you can set it manually with the WANDB_NOTEBOOK_NAME environment variable to enable code saving.\n"
     ]
    },
    {
     "data": {
      "text/html": [
       "wandb version 0.15.10 is available!  To upgrade, please run:\n",
       " $ pip install wandb --upgrade"
      ],
      "text/plain": [
       "<IPython.core.display.HTML object>"
      ]
     },
     "metadata": {},
     "output_type": "display_data"
    },
    {
     "data": {
      "text/html": [
       "Tracking run with wandb version 0.15.5"
      ],
      "text/plain": [
       "<IPython.core.display.HTML object>"
      ]
     },
     "metadata": {},
     "output_type": "display_data"
    },
    {
     "data": {
      "text/html": [
       "Run data is saved locally in <code>c:\\Users\\User\\Projects\\pneumonia-xray-classification\\notebooks\\wandb\\run-20230916_172456-14umeagy</code>"
      ],
      "text/plain": [
       "<IPython.core.display.HTML object>"
      ]
     },
     "metadata": {},
     "output_type": "display_data"
    },
    {
     "data": {
      "text/html": [
       "Syncing run <strong><a href='https://wandb.ai/marcus-lim/PCXR-DenseNet-121-Evaluation/runs/14umeagy' target=\"_blank\">peach-sweep-14</a></strong> to <a href='https://wandb.ai/marcus-lim/PCXR-DenseNet-121-Evaluation' target=\"_blank\">Weights & Biases</a> (<a href='https://wandb.me/run' target=\"_blank\">docs</a>)<br/>Sweep page: <a href='https://wandb.ai/marcus-lim/PCXR-DenseNet-121-Evaluation/sweeps/jxdr1xzz' target=\"_blank\">https://wandb.ai/marcus-lim/PCXR-DenseNet-121-Evaluation/sweeps/jxdr1xzz</a>"
      ],
      "text/plain": [
       "<IPython.core.display.HTML object>"
      ]
     },
     "metadata": {},
     "output_type": "display_data"
    },
    {
     "data": {
      "text/html": [
       " View project at <a href='https://wandb.ai/marcus-lim/PCXR-DenseNet-121-Evaluation' target=\"_blank\">https://wandb.ai/marcus-lim/PCXR-DenseNet-121-Evaluation</a>"
      ],
      "text/plain": [
       "<IPython.core.display.HTML object>"
      ]
     },
     "metadata": {},
     "output_type": "display_data"
    },
    {
     "data": {
      "text/html": [
       " View sweep at <a href='https://wandb.ai/marcus-lim/PCXR-DenseNet-121-Evaluation/sweeps/jxdr1xzz' target=\"_blank\">https://wandb.ai/marcus-lim/PCXR-DenseNet-121-Evaluation/sweeps/jxdr1xzz</a>"
      ],
      "text/plain": [
       "<IPython.core.display.HTML object>"
      ]
     },
     "metadata": {},
     "output_type": "display_data"
    },
    {
     "data": {
      "text/html": [
       " View run at <a href='https://wandb.ai/marcus-lim/PCXR-DenseNet-121-Evaluation/runs/14umeagy' target=\"_blank\">https://wandb.ai/marcus-lim/PCXR-DenseNet-121-Evaluation/runs/14umeagy</a>"
      ],
      "text/plain": [
       "<IPython.core.display.HTML object>"
      ]
     },
     "metadata": {},
     "output_type": "display_data"
    },
    {
     "name": "stdout",
     "output_type": "stream",
     "text": [
      "Found 4684 files belonging to 3 classes.\n",
      "Using 3748 files for training.\n",
      "Using 936 files for validation.\n",
      "Found 1172 files belonging to 3 classes.\n",
      "Generating predictions and computing metrics for Epoch 1 \n",
      "30/30 [==============================] - 3s 59ms/step\n",
      "training loss : 1.232548475265503 , training acc : 0.37673425674438477 , mcc score : 0.06460757553577423\n",
      "aucroc score  : 0.5241124033927917 , f1 score     : 0.2679474353790283 \n",
      "Generating predictions and computing metrics for Epoch 2 \n",
      "30/30 [==============================] - 2s 58ms/step\n",
      "training loss : 1.1608966588974 , training acc : 0.41969048976898193 , mcc score : 0.07753854244947433\n",
      "aucroc score  : 0.5195266604423523 , f1 score     : 0.25348395109176636 \n",
      "Generating predictions and computing metrics for Epoch 3 \n",
      "30/30 [==============================] - 2s 57ms/step\n",
      "training loss : 1.1264264583587646 , training acc : 0.4287620186805725 , mcc score : 0.11026015132665634\n",
      "aucroc score  : 0.5306212902069092 , f1 score     : 0.26572516560554504 \n",
      "Generating predictions and computing metrics for Epoch 4 \n",
      "30/30 [==============================] - 2s 57ms/step\n",
      "training loss : 1.1164294481277466 , training acc : 0.43489861488342285 , mcc score : 0.17381398379802704\n",
      "aucroc score  : 0.5520709753036499 , f1 score     : 0.2956410348415375 \n",
      "Generating predictions and computing metrics for Epoch 5 \n",
      "30/30 [==============================] - 2s 57ms/step\n",
      "training loss : 1.0903130769729614 , training acc : 0.45304161310195923 , mcc score : 0.26907816529273987\n",
      "aucroc score  : 0.6036982536315918 , f1 score     : 0.3822847902774811 \n",
      "Generating predictions and computing metrics for Epoch 6 \n",
      "30/30 [==============================] - 2s 69ms/step\n",
      "training loss : 1.0830861330032349 , training acc : 0.4581109881401062 , mcc score : 0.2587001323699951\n",
      "aucroc score  : 0.5994082689285278 , f1 score     : 0.36904433369636536 \n",
      "Generating predictions and computing metrics for Epoch 7 \n",
      "30/30 [==============================] - 2s 57ms/step\n",
      "training loss : 1.0628645420074463 , training acc : 0.4751867651939392 , mcc score : 0.3344602882862091\n",
      "aucroc score  : 0.65133136510849 , f1 score     : 0.45988550782203674 \n",
      "Generating predictions and computing metrics for Epoch 8 \n",
      "30/30 [==============================] - 2s 58ms/step\n",
      "training loss : 1.0832563638687134 , training acc : 0.4503735303878784 , mcc score : 0.35661983489990234\n",
      "aucroc score  : 0.6698224544525146 , f1 score     : 0.4800601899623871 \n",
      "Generating predictions and computing metrics for Epoch 9 \n",
      "30/30 [==============================] - 2s 57ms/step\n",
      "training loss : 1.0577747821807861 , training acc : 0.46638205647468567 , mcc score : 0.36543262004852295\n",
      "aucroc score  : 0.6909763216972351 , f1 score     : 0.46152356266975403 \n",
      "Generating predictions and computing metrics for Epoch 10 \n",
      "30/30 [==============================] - 2s 57ms/step\n",
      "training loss : 1.0432908535003662 , training acc : 0.4815901815891266 , mcc score : 0.3784939646720886\n",
      "aucroc score  : 0.7171597480773926 , f1 score     : 0.45881202816963196 \n"
     ]
    },
    {
     "data": {
      "text/html": [
       "Waiting for W&B process to finish... <strong style=\"color:green\">(success).</strong>"
      ],
      "text/plain": [
       "<IPython.core.display.HTML object>"
      ]
     },
     "metadata": {},
     "output_type": "display_data"
    },
    {
     "data": {
      "text/html": [
       "<style>\n",
       "    table.wandb td:nth-child(1) { padding: 0 10px; text-align: left ; width: auto;} td:nth-child(2) {text-align: left ; width: 100%}\n",
       "    .wandb-row { display: flex; flex-direction: row; flex-wrap: wrap; justify-content: flex-start; width: 100% }\n",
       "    .wandb-col { display: flex; flex-direction: column; flex-basis: 100%; flex: 1; padding: 10px; }\n",
       "    </style>\n",
       "<div class=\"wandb-row\"><div class=\"wandb-col\"><h3>Run history:</h3><br/><table class=\"wandb\"><tr><td>auc_roc</td><td>▁▁▁▂▄▄▆▆▇█</td></tr><tr><td>epoch/accuracy</td><td>▁▄▄▅▆▆█▆▇█</td></tr><tr><td>epoch/epoch</td><td>▁▂▃▃▄▅▆▆▇█</td></tr><tr><td>epoch/learning_rate</td><td>▁▁▁▁▁▁▁▁▁▁</td></tr><tr><td>epoch/loss</td><td>█▅▄▄▃▂▂▂▂▁</td></tr><tr><td>epoch/val_accuracy</td><td>▁▁▂▂▅▄▇███</td></tr><tr><td>epoch/val_loss</td><td>█▇▆▅▄▄▃▃▂▁</td></tr><tr><td>fmeasure</td><td>▁▁▁▂▅▅▇█▇▇</td></tr><tr><td>mcc</td><td>▁▁▂▃▆▅▇███</td></tr></table><br/></div><div class=\"wandb-col\"><h3>Run summary:</h3><br/><table class=\"wandb\"><tr><td>auc_roc</td><td>0.71716</td></tr><tr><td>epoch/accuracy</td><td>0.48159</td></tr><tr><td>epoch/epoch</td><td>9</td></tr><tr><td>epoch/learning_rate</td><td>0.0025</td></tr><tr><td>epoch/loss</td><td>1.04329</td></tr><tr><td>epoch/val_accuracy</td><td>0.60363</td></tr><tr><td>epoch/val_loss</td><td>0.96485</td></tr><tr><td>fmeasure</td><td>0.45881</td></tr><tr><td>mcc</td><td>0.37849</td></tr></table><br/></div></div>"
      ],
      "text/plain": [
       "<IPython.core.display.HTML object>"
      ]
     },
     "metadata": {},
     "output_type": "display_data"
    },
    {
     "data": {
      "text/html": [
       " View run <strong style=\"color:#cdcd00\">peach-sweep-14</strong> at: <a href='https://wandb.ai/marcus-lim/PCXR-DenseNet-121-Evaluation/runs/14umeagy' target=\"_blank\">https://wandb.ai/marcus-lim/PCXR-DenseNet-121-Evaluation/runs/14umeagy</a><br/>Synced 5 W&B file(s), 0 media file(s), 0 artifact file(s) and 0 other file(s)"
      ],
      "text/plain": [
       "<IPython.core.display.HTML object>"
      ]
     },
     "metadata": {},
     "output_type": "display_data"
    },
    {
     "data": {
      "text/html": [
       "Find logs at: <code>.\\wandb\\run-20230916_172456-14umeagy\\logs</code>"
      ],
      "text/plain": [
       "<IPython.core.display.HTML object>"
      ]
     },
     "metadata": {},
     "output_type": "display_data"
    },
    {
     "name": "stderr",
     "output_type": "stream",
     "text": [
      "\u001b[34m\u001b[1mwandb\u001b[0m: Agent Starting Run: 1zvrp87b with config:\n",
      "\u001b[34m\u001b[1mwandb\u001b[0m: \tbatch_size: 32\n",
      "\u001b[34m\u001b[1mwandb\u001b[0m: \tdropout_1: 0.6\n",
      "\u001b[34m\u001b[1mwandb\u001b[0m: \tdropout_2: 0.8\n",
      "\u001b[34m\u001b[1mwandb\u001b[0m: \tdropout_3: 0.6\n",
      "\u001b[34m\u001b[1mwandb\u001b[0m: \tepochs: 10\n",
      "\u001b[34m\u001b[1mwandb\u001b[0m: \tfc_layer_size_1: 256\n",
      "\u001b[34m\u001b[1mwandb\u001b[0m: \tfc_layer_size_2: 128\n",
      "\u001b[34m\u001b[1mwandb\u001b[0m: \tlearning_rate: 0.0012706830419633183\n",
      "\u001b[34m\u001b[1mwandb\u001b[0m: \toptimiser: adam\n",
      "Failed to detect the name of this notebook, you can set it manually with the WANDB_NOTEBOOK_NAME environment variable to enable code saving.\n"
     ]
    },
    {
     "data": {
      "text/html": [
       "wandb version 0.15.10 is available!  To upgrade, please run:\n",
       " $ pip install wandb --upgrade"
      ],
      "text/plain": [
       "<IPython.core.display.HTML object>"
      ]
     },
     "metadata": {},
     "output_type": "display_data"
    },
    {
     "data": {
      "text/html": [
       "Tracking run with wandb version 0.15.5"
      ],
      "text/plain": [
       "<IPython.core.display.HTML object>"
      ]
     },
     "metadata": {},
     "output_type": "display_data"
    },
    {
     "data": {
      "text/html": [
       "Run data is saved locally in <code>c:\\Users\\User\\Projects\\pneumonia-xray-classification\\notebooks\\wandb\\run-20230916_173640-1zvrp87b</code>"
      ],
      "text/plain": [
       "<IPython.core.display.HTML object>"
      ]
     },
     "metadata": {},
     "output_type": "display_data"
    },
    {
     "data": {
      "text/html": [
       "Syncing run <strong><a href='https://wandb.ai/marcus-lim/PCXR-DenseNet-121-Evaluation/runs/1zvrp87b' target=\"_blank\">icy-sweep-15</a></strong> to <a href='https://wandb.ai/marcus-lim/PCXR-DenseNet-121-Evaluation' target=\"_blank\">Weights & Biases</a> (<a href='https://wandb.me/run' target=\"_blank\">docs</a>)<br/>Sweep page: <a href='https://wandb.ai/marcus-lim/PCXR-DenseNet-121-Evaluation/sweeps/jxdr1xzz' target=\"_blank\">https://wandb.ai/marcus-lim/PCXR-DenseNet-121-Evaluation/sweeps/jxdr1xzz</a>"
      ],
      "text/plain": [
       "<IPython.core.display.HTML object>"
      ]
     },
     "metadata": {},
     "output_type": "display_data"
    },
    {
     "data": {
      "text/html": [
       " View project at <a href='https://wandb.ai/marcus-lim/PCXR-DenseNet-121-Evaluation' target=\"_blank\">https://wandb.ai/marcus-lim/PCXR-DenseNet-121-Evaluation</a>"
      ],
      "text/plain": [
       "<IPython.core.display.HTML object>"
      ]
     },
     "metadata": {},
     "output_type": "display_data"
    },
    {
     "data": {
      "text/html": [
       " View sweep at <a href='https://wandb.ai/marcus-lim/PCXR-DenseNet-121-Evaluation/sweeps/jxdr1xzz' target=\"_blank\">https://wandb.ai/marcus-lim/PCXR-DenseNet-121-Evaluation/sweeps/jxdr1xzz</a>"
      ],
      "text/plain": [
       "<IPython.core.display.HTML object>"
      ]
     },
     "metadata": {},
     "output_type": "display_data"
    },
    {
     "data": {
      "text/html": [
       " View run at <a href='https://wandb.ai/marcus-lim/PCXR-DenseNet-121-Evaluation/runs/1zvrp87b' target=\"_blank\">https://wandb.ai/marcus-lim/PCXR-DenseNet-121-Evaluation/runs/1zvrp87b</a>"
      ],
      "text/plain": [
       "<IPython.core.display.HTML object>"
      ]
     },
     "metadata": {},
     "output_type": "display_data"
    },
    {
     "name": "stdout",
     "output_type": "stream",
     "text": [
      "Found 4684 files belonging to 3 classes.\n",
      "Using 3748 files for training.\n",
      "Using 936 files for validation.\n",
      "Found 1172 files belonging to 3 classes.\n",
      "Generating predictions and computing metrics for Epoch 1 \n",
      "30/30 [==============================] - 3s 57ms/step\n",
      "training loss : 0.8153708577156067 , training acc : 0.6371397972106934 , mcc score : 0.6423927545547485\n",
      "aucroc score  : 0.9220414161682129 , f1 score     : 0.7386756539344788 \n",
      "Generating predictions and computing metrics for Epoch 2 \n",
      "30/30 [==============================] - 2s 58ms/step\n",
      "training loss : 0.6907751560211182 , training acc : 0.7027748227119446 , mcc score : 0.6466158628463745\n",
      "aucroc score  : 0.9312129616737366 , f1 score     : 0.742360532283783 \n",
      "Generating predictions and computing metrics for Epoch 3 \n",
      "30/30 [==============================] - 2s 57ms/step\n",
      "training loss : 0.642311692237854 , training acc : 0.7254535555839539 , mcc score : 0.6528003811836243\n",
      "aucroc score  : 0.9245562553405762 , f1 score     : 0.757912814617157 \n",
      "Generating predictions and computing metrics for Epoch 4 \n",
      "30/30 [==============================] - 2s 57ms/step\n",
      "training loss : 0.623545229434967 , training acc : 0.7323905825614929 , mcc score : 0.6595278978347778\n",
      "aucroc score  : 0.9363905191421509 , f1 score     : 0.7535322308540344 \n",
      "Generating predictions and computing metrics for Epoch 5 \n",
      "30/30 [==============================] - 2s 57ms/step\n",
      "training loss : 0.6024854779243469 , training acc : 0.7454642653465271 , mcc score : 0.6582030057907104\n",
      "aucroc score  : 0.9307692050933838 , f1 score     : 0.7552111148834229 \n",
      "Generating predictions and computing metrics for Epoch 6 \n",
      "30/30 [==============================] - 2s 57ms/step\n",
      "training loss : 0.5857153534889221 , training acc : 0.7588046789169312 , mcc score : 0.6637890934944153\n",
      "aucroc score  : 0.9307692050933838 , f1 score     : 0.767469584941864 \n",
      "Generating predictions and computing metrics for Epoch 7 \n",
      "30/30 [==============================] - 2s 57ms/step\n",
      "training loss : 0.5798707604408264 , training acc : 0.7590715289115906 , mcc score : 0.6631502509117126\n",
      "aucroc score  : 0.9227810502052307 , f1 score     : 0.764570415019989 \n",
      "Generating predictions and computing metrics for Epoch 8 \n",
      "30/30 [==============================] - 2s 57ms/step\n",
      "training loss : 0.5743712782859802 , training acc : 0.761472761631012 , mcc score : 0.6500468850135803\n",
      "aucroc score  : 0.9190828204154968 , f1 score     : 0.7565531134605408 \n",
      "Generating predictions and computing metrics for Epoch 9 \n",
      "30/30 [==============================] - 2s 57ms/step\n",
      "training loss : 0.5569064021110535 , training acc : 0.7641409039497375 , mcc score : 0.6659864783287048\n",
      "aucroc score  : 0.930325448513031 , f1 score     : 0.7637107968330383 \n",
      "Generating predictions and computing metrics for Epoch 10 \n",
      "30/30 [==============================] - 2s 58ms/step\n",
      "training loss : 0.5593613386154175 , training acc : 0.7702775001525879 , mcc score : 0.6681393384933472\n",
      "aucroc score  : 0.9312130808830261 , f1 score     : 0.7687576413154602 \n"
     ]
    },
    {
     "data": {
      "text/html": [
       "Waiting for W&B process to finish... <strong style=\"color:green\">(success).</strong>"
      ],
      "text/plain": [
       "<IPython.core.display.HTML object>"
      ]
     },
     "metadata": {},
     "output_type": "display_data"
    },
    {
     "data": {
      "text/html": [
       "<style>\n",
       "    table.wandb td:nth-child(1) { padding: 0 10px; text-align: left ; width: auto;} td:nth-child(2) {text-align: left ; width: 100%}\n",
       "    .wandb-row { display: flex; flex-direction: row; flex-wrap: wrap; justify-content: flex-start; width: 100% }\n",
       "    .wandb-col { display: flex; flex-direction: column; flex-basis: 100%; flex: 1; padding: 10px; }\n",
       "    </style>\n",
       "<div class=\"wandb-row\"><div class=\"wandb-col\"><h3>Run history:</h3><br/><table class=\"wandb\"><tr><td>auc_roc</td><td>▂▆▃█▆▆▂▁▆▆</td></tr><tr><td>epoch/accuracy</td><td>▁▄▆▆▇▇▇███</td></tr><tr><td>epoch/epoch</td><td>▁▂▃▃▄▅▆▆▇█</td></tr><tr><td>epoch/learning_rate</td><td>▁▁▁▁▁▁▁▁▁▁</td></tr><tr><td>epoch/loss</td><td>█▅▃▃▂▂▂▁▁▁</td></tr><tr><td>epoch/val_accuracy</td><td>▁▁▃▅▅▇▆▂▇█</td></tr><tr><td>epoch/val_loss</td><td>█▇▃▅▂▂▄▄▄▁</td></tr><tr><td>fmeasure</td><td>▁▂▅▄▅█▇▅▇█</td></tr><tr><td>mcc</td><td>▁▂▄▆▅▇▇▃▇█</td></tr></table><br/></div><div class=\"wandb-col\"><h3>Run summary:</h3><br/><table class=\"wandb\"><tr><td>auc_roc</td><td>0.93121</td></tr><tr><td>epoch/accuracy</td><td>0.77028</td></tr><tr><td>epoch/epoch</td><td>9</td></tr><tr><td>epoch/learning_rate</td><td>0.00127</td></tr><tr><td>epoch/loss</td><td>0.55936</td></tr><tr><td>epoch/val_accuracy</td><td>0.7906</td></tr><tr><td>epoch/val_loss</td><td>0.50125</td></tr><tr><td>fmeasure</td><td>0.76876</td></tr><tr><td>mcc</td><td>0.66814</td></tr></table><br/></div></div>"
      ],
      "text/plain": [
       "<IPython.core.display.HTML object>"
      ]
     },
     "metadata": {},
     "output_type": "display_data"
    },
    {
     "data": {
      "text/html": [
       " View run <strong style=\"color:#cdcd00\">icy-sweep-15</strong> at: <a href='https://wandb.ai/marcus-lim/PCXR-DenseNet-121-Evaluation/runs/1zvrp87b' target=\"_blank\">https://wandb.ai/marcus-lim/PCXR-DenseNet-121-Evaluation/runs/1zvrp87b</a><br/>Synced 5 W&B file(s), 0 media file(s), 0 artifact file(s) and 0 other file(s)"
      ],
      "text/plain": [
       "<IPython.core.display.HTML object>"
      ]
     },
     "metadata": {},
     "output_type": "display_data"
    },
    {
     "data": {
      "text/html": [
       "Find logs at: <code>.\\wandb\\run-20230916_173640-1zvrp87b\\logs</code>"
      ],
      "text/plain": [
       "<IPython.core.display.HTML object>"
      ]
     },
     "metadata": {},
     "output_type": "display_data"
    }
   ],
   "source": [
    "wandb.agent(sweep_id, function=sweep_train, count=15)"
   ]
  },
  {
   "cell_type": "code",
   "execution_count": 45,
   "metadata": {},
   "outputs": [
    {
     "name": "stdout",
     "output_type": "stream",
     "text": [
      "Create sweep with ID: 5k5asc7o\n",
      "Sweep URL: https://wandb.ai/marcus-lim/PCXR-DenseNet-121-Evaluation/sweeps/5k5asc7o\n"
     ]
    },
    {
     "name": "stderr",
     "output_type": "stream",
     "text": [
      "\u001b[34m\u001b[1mwandb\u001b[0m: Agent Starting Run: fmernvmk with config:\n",
      "\u001b[34m\u001b[1mwandb\u001b[0m: \tbatch_size: 32\n",
      "\u001b[34m\u001b[1mwandb\u001b[0m: \tdropout_1: 0.8\n",
      "\u001b[34m\u001b[1mwandb\u001b[0m: \tdropout_2: 0.2\n",
      "\u001b[34m\u001b[1mwandb\u001b[0m: \tdropout_3: 0.6\n",
      "\u001b[34m\u001b[1mwandb\u001b[0m: \tepochs: 10\n",
      "\u001b[34m\u001b[1mwandb\u001b[0m: \tfc_layer_size_1: 512\n",
      "\u001b[34m\u001b[1mwandb\u001b[0m: \tfc_layer_size_2: 128\n",
      "\u001b[34m\u001b[1mwandb\u001b[0m: \tlearning_rate: 0.0022575741070088506\n",
      "\u001b[34m\u001b[1mwandb\u001b[0m: \toptimiser: adam\n",
      "Failed to detect the name of this notebook, you can set it manually with the WANDB_NOTEBOOK_NAME environment variable to enable code saving.\n"
     ]
    },
    {
     "data": {
      "text/html": [
       "wandb version 0.15.10 is available!  To upgrade, please run:\n",
       " $ pip install wandb --upgrade"
      ],
      "text/plain": [
       "<IPython.core.display.HTML object>"
      ]
     },
     "metadata": {},
     "output_type": "display_data"
    },
    {
     "data": {
      "text/html": [
       "Tracking run with wandb version 0.15.5"
      ],
      "text/plain": [
       "<IPython.core.display.HTML object>"
      ]
     },
     "metadata": {},
     "output_type": "display_data"
    },
    {
     "data": {
      "text/html": [
       "Run data is saved locally in <code>c:\\Users\\User\\Projects\\pneumonia-xray-classification\\notebooks\\wandb\\run-20230916_180716-fmernvmk</code>"
      ],
      "text/plain": [
       "<IPython.core.display.HTML object>"
      ]
     },
     "metadata": {},
     "output_type": "display_data"
    },
    {
     "data": {
      "text/html": [
       "Syncing run <strong><a href='https://wandb.ai/marcus-lim/PCXR-DenseNet-121-Evaluation/runs/fmernvmk' target=\"_blank\">good-sweep-1</a></strong> to <a href='https://wandb.ai/marcus-lim/PCXR-DenseNet-121-Evaluation' target=\"_blank\">Weights & Biases</a> (<a href='https://wandb.me/run' target=\"_blank\">docs</a>)<br/>Sweep page: <a href='https://wandb.ai/marcus-lim/PCXR-DenseNet-121-Evaluation/sweeps/5k5asc7o' target=\"_blank\">https://wandb.ai/marcus-lim/PCXR-DenseNet-121-Evaluation/sweeps/5k5asc7o</a>"
      ],
      "text/plain": [
       "<IPython.core.display.HTML object>"
      ]
     },
     "metadata": {},
     "output_type": "display_data"
    },
    {
     "data": {
      "text/html": [
       " View project at <a href='https://wandb.ai/marcus-lim/PCXR-DenseNet-121-Evaluation' target=\"_blank\">https://wandb.ai/marcus-lim/PCXR-DenseNet-121-Evaluation</a>"
      ],
      "text/plain": [
       "<IPython.core.display.HTML object>"
      ]
     },
     "metadata": {},
     "output_type": "display_data"
    },
    {
     "data": {
      "text/html": [
       " View sweep at <a href='https://wandb.ai/marcus-lim/PCXR-DenseNet-121-Evaluation/sweeps/5k5asc7o' target=\"_blank\">https://wandb.ai/marcus-lim/PCXR-DenseNet-121-Evaluation/sweeps/5k5asc7o</a>"
      ],
      "text/plain": [
       "<IPython.core.display.HTML object>"
      ]
     },
     "metadata": {},
     "output_type": "display_data"
    },
    {
     "data": {
      "text/html": [
       " View run at <a href='https://wandb.ai/marcus-lim/PCXR-DenseNet-121-Evaluation/runs/fmernvmk' target=\"_blank\">https://wandb.ai/marcus-lim/PCXR-DenseNet-121-Evaluation/runs/fmernvmk</a>"
      ],
      "text/plain": [
       "<IPython.core.display.HTML object>"
      ]
     },
     "metadata": {},
     "output_type": "display_data"
    },
    {
     "name": "stdout",
     "output_type": "stream",
     "text": [
      "Found 4684 files belonging to 3 classes.\n",
      "Using 3748 files for training.\n",
      "Using 936 files for validation.\n",
      "Found 1172 files belonging to 3 classes.\n",
      "Generating predictions and computing metrics for Epoch 1 \n",
      "30/30 [==============================] - 3s 62ms/step\n",
      "training loss : 0.712390124797821 , training acc : 0.6966382265090942 , mcc score : 0.3451113998889923\n",
      "aucroc score  : 0.5480769276618958 , f1 score     : 0.4620908796787262 \n",
      "Generating predictions and computing metrics for Epoch 2 \n",
      "30/30 [==============================] - 2s 61ms/step\n",
      "training loss : 0.6390401721000671 , training acc : 0.7291889190673828 , mcc score : 0.5753392577171326\n",
      "aucroc score  : 0.807396411895752 , f1 score     : 0.703420102596283 \n",
      "Generating predictions and computing metrics for Epoch 3 \n",
      "30/30 [==============================] - 2s 61ms/step\n",
      "training loss : 0.5973035097122192 , training acc : 0.7422625422477722 , mcc score : 0.5336883068084717\n",
      "aucroc score  : 0.7408283948898315 , f1 score     : 0.6660935878753662 \n",
      "Generating predictions and computing metrics for Epoch 4 \n",
      "30/30 [==============================] - 2s 60ms/step\n",
      "training loss : 0.5821213126182556 , training acc : 0.7521344423294067 , mcc score : 0.5388416647911072\n",
      "aucroc score  : 0.7562130093574524 , f1 score     : 0.6714675426483154 \n",
      "Generating predictions and computing metrics for Epoch 5 \n",
      "30/30 [==============================] - 2s 59ms/step\n",
      "training loss : 0.5778536200523376 , training acc : 0.7566702365875244 , mcc score : 0.5313482284545898\n",
      "aucroc score  : 0.7766271829605103 , f1 score     : 0.6635844111442566 \n",
      "Generating predictions and computing metrics for Epoch 6 \n",
      "30/30 [==============================] - 2s 59ms/step\n",
      "training loss : 0.5742489099502563 , training acc : 0.7604055404663086 , mcc score : 0.4822576940059662\n",
      "aucroc score  : 0.6903846263885498 , f1 score     : 0.6178970336914062 \n",
      "Generating predictions and computing metrics for Epoch 7 \n",
      "30/30 [==============================] - 2s 60ms/step\n",
      "training loss : 0.5732662677764893 , training acc : 0.7612059712409973 , mcc score : 0.39193493127822876\n",
      "aucroc score  : 0.5884615182876587 , f1 score     : 0.5164359211921692 \n",
      "Generating predictions and computing metrics for Epoch 8 \n",
      "30/30 [==============================] - 2s 59ms/step\n",
      "training loss : 0.5529678463935852 , training acc : 0.7726787328720093 , mcc score : 0.45402008295059204\n",
      "aucroc score  : 0.681952714920044 , f1 score     : 0.5955402255058289 \n",
      "Generating predictions and computing metrics for Epoch 9 \n",
      "30/30 [==============================] - 2s 60ms/step\n",
      "training loss : 0.563401997089386 , training acc : 0.7652081251144409 , mcc score : 0.4501641094684601\n",
      "aucroc score  : 0.6615384817123413 , f1 score     : 0.5858520865440369 \n",
      "Generating predictions and computing metrics for Epoch 10 \n",
      "30/30 [==============================] - 2s 59ms/step\n",
      "training loss : 0.5567775368690491 , training acc : 0.7737460136413574 , mcc score : 0.5232470035552979\n",
      "aucroc score  : 0.7377219200134277 , f1 score     : 0.6564927697181702 \n"
     ]
    },
    {
     "data": {
      "text/html": [
       "Waiting for W&B process to finish... <strong style=\"color:green\">(success).</strong>"
      ],
      "text/plain": [
       "<IPython.core.display.HTML object>"
      ]
     },
     "metadata": {},
     "output_type": "display_data"
    },
    {
     "data": {
      "text/html": [
       "<style>\n",
       "    table.wandb td:nth-child(1) { padding: 0 10px; text-align: left ; width: auto;} td:nth-child(2) {text-align: left ; width: 100%}\n",
       "    .wandb-row { display: flex; flex-direction: row; flex-wrap: wrap; justify-content: flex-start; width: 100% }\n",
       "    .wandb-col { display: flex; flex-direction: column; flex-basis: 100%; flex: 1; padding: 10px; }\n",
       "    </style>\n",
       "<div class=\"wandb-row\"><div class=\"wandb-col\"><h3>Run history:</h3><br/><table class=\"wandb\"><tr><td>auc_roc</td><td>▁█▆▇▇▅▂▅▄▆</td></tr><tr><td>epoch/accuracy</td><td>▁▄▅▆▆▇▇█▇█</td></tr><tr><td>epoch/epoch</td><td>▁▂▃▃▄▅▆▆▇█</td></tr><tr><td>epoch/learning_rate</td><td>▁▁▁▁▁▁▁▁▁▁</td></tr><tr><td>epoch/loss</td><td>█▅▃▂▂▂▂▁▁▁</td></tr><tr><td>epoch/val_accuracy</td><td>▁▆▇▇▆█▆▇▇█</td></tr><tr><td>epoch/val_loss</td><td>█▃▁▂▂▁▂▂▂▁</td></tr><tr><td>fmeasure</td><td>▁█▇▇▇▆▃▅▅▇</td></tr><tr><td>mcc</td><td>▁█▇▇▇▅▂▄▄▆</td></tr></table><br/></div><div class=\"wandb-col\"><h3>Run summary:</h3><br/><table class=\"wandb\"><tr><td>auc_roc</td><td>0.73772</td></tr><tr><td>epoch/accuracy</td><td>0.77375</td></tr><tr><td>epoch/epoch</td><td>9</td></tr><tr><td>epoch/learning_rate</td><td>0.00226</td></tr><tr><td>epoch/loss</td><td>0.55678</td></tr><tr><td>epoch/val_accuracy</td><td>0.79274</td></tr><tr><td>epoch/val_loss</td><td>0.51206</td></tr><tr><td>fmeasure</td><td>0.65649</td></tr><tr><td>mcc</td><td>0.52325</td></tr></table><br/></div></div>"
      ],
      "text/plain": [
       "<IPython.core.display.HTML object>"
      ]
     },
     "metadata": {},
     "output_type": "display_data"
    },
    {
     "data": {
      "text/html": [
       " View run <strong style=\"color:#cdcd00\">good-sweep-1</strong> at: <a href='https://wandb.ai/marcus-lim/PCXR-DenseNet-121-Evaluation/runs/fmernvmk' target=\"_blank\">https://wandb.ai/marcus-lim/PCXR-DenseNet-121-Evaluation/runs/fmernvmk</a><br/>Synced 5 W&B file(s), 0 media file(s), 0 artifact file(s) and 0 other file(s)"
      ],
      "text/plain": [
       "<IPython.core.display.HTML object>"
      ]
     },
     "metadata": {},
     "output_type": "display_data"
    },
    {
     "data": {
      "text/html": [
       "Find logs at: <code>.\\wandb\\run-20230916_180716-fmernvmk\\logs</code>"
      ],
      "text/plain": [
       "<IPython.core.display.HTML object>"
      ]
     },
     "metadata": {},
     "output_type": "display_data"
    },
    {
     "name": "stderr",
     "output_type": "stream",
     "text": [
      "\u001b[34m\u001b[1mwandb\u001b[0m: Agent Starting Run: cq1fs2a3 with config:\n",
      "\u001b[34m\u001b[1mwandb\u001b[0m: \tbatch_size: 32\n",
      "\u001b[34m\u001b[1mwandb\u001b[0m: \tdropout_1: 0.2\n",
      "\u001b[34m\u001b[1mwandb\u001b[0m: \tdropout_2: 0.8\n",
      "\u001b[34m\u001b[1mwandb\u001b[0m: \tdropout_3: 0.6\n",
      "\u001b[34m\u001b[1mwandb\u001b[0m: \tepochs: 10\n",
      "\u001b[34m\u001b[1mwandb\u001b[0m: \tfc_layer_size_1: 128\n",
      "\u001b[34m\u001b[1mwandb\u001b[0m: \tfc_layer_size_2: 512\n",
      "\u001b[34m\u001b[1mwandb\u001b[0m: \tlearning_rate: 0.003350671904688304\n",
      "\u001b[34m\u001b[1mwandb\u001b[0m: \toptimiser: sgd\n",
      "Failed to detect the name of this notebook, you can set it manually with the WANDB_NOTEBOOK_NAME environment variable to enable code saving.\n"
     ]
    },
    {
     "data": {
      "text/html": [
       "wandb version 0.15.10 is available!  To upgrade, please run:\n",
       " $ pip install wandb --upgrade"
      ],
      "text/plain": [
       "<IPython.core.display.HTML object>"
      ]
     },
     "metadata": {},
     "output_type": "display_data"
    },
    {
     "data": {
      "text/html": [
       "Tracking run with wandb version 0.15.5"
      ],
      "text/plain": [
       "<IPython.core.display.HTML object>"
      ]
     },
     "metadata": {},
     "output_type": "display_data"
    },
    {
     "data": {
      "text/html": [
       "Run data is saved locally in <code>c:\\Users\\User\\Projects\\pneumonia-xray-classification\\notebooks\\wandb\\run-20230916_181911-cq1fs2a3</code>"
      ],
      "text/plain": [
       "<IPython.core.display.HTML object>"
      ]
     },
     "metadata": {},
     "output_type": "display_data"
    },
    {
     "data": {
      "text/html": [
       "Syncing run <strong><a href='https://wandb.ai/marcus-lim/PCXR-DenseNet-121-Evaluation/runs/cq1fs2a3' target=\"_blank\">super-sweep-2</a></strong> to <a href='https://wandb.ai/marcus-lim/PCXR-DenseNet-121-Evaluation' target=\"_blank\">Weights & Biases</a> (<a href='https://wandb.me/run' target=\"_blank\">docs</a>)<br/>Sweep page: <a href='https://wandb.ai/marcus-lim/PCXR-DenseNet-121-Evaluation/sweeps/5k5asc7o' target=\"_blank\">https://wandb.ai/marcus-lim/PCXR-DenseNet-121-Evaluation/sweeps/5k5asc7o</a>"
      ],
      "text/plain": [
       "<IPython.core.display.HTML object>"
      ]
     },
     "metadata": {},
     "output_type": "display_data"
    },
    {
     "data": {
      "text/html": [
       " View project at <a href='https://wandb.ai/marcus-lim/PCXR-DenseNet-121-Evaluation' target=\"_blank\">https://wandb.ai/marcus-lim/PCXR-DenseNet-121-Evaluation</a>"
      ],
      "text/plain": [
       "<IPython.core.display.HTML object>"
      ]
     },
     "metadata": {},
     "output_type": "display_data"
    },
    {
     "data": {
      "text/html": [
       " View sweep at <a href='https://wandb.ai/marcus-lim/PCXR-DenseNet-121-Evaluation/sweeps/5k5asc7o' target=\"_blank\">https://wandb.ai/marcus-lim/PCXR-DenseNet-121-Evaluation/sweeps/5k5asc7o</a>"
      ],
      "text/plain": [
       "<IPython.core.display.HTML object>"
      ]
     },
     "metadata": {},
     "output_type": "display_data"
    },
    {
     "data": {
      "text/html": [
       " View run at <a href='https://wandb.ai/marcus-lim/PCXR-DenseNet-121-Evaluation/runs/cq1fs2a3' target=\"_blank\">https://wandb.ai/marcus-lim/PCXR-DenseNet-121-Evaluation/runs/cq1fs2a3</a>"
      ],
      "text/plain": [
       "<IPython.core.display.HTML object>"
      ]
     },
     "metadata": {},
     "output_type": "display_data"
    },
    {
     "name": "stdout",
     "output_type": "stream",
     "text": [
      "Found 4684 files belonging to 3 classes.\n",
      "Using 3748 files for training.\n",
      "Using 936 files for validation.\n",
      "Found 1172 files belonging to 3 classes.\n",
      "Generating predictions and computing metrics for Epoch 1 \n",
      "30/30 [==============================] - 3s 61ms/step\n",
      "training loss : 1.0587882995605469 , training acc : 0.4757203757762909 , mcc score : 0.40981319546699524\n",
      "aucroc score  : 0.7732248902320862 , f1 score     : 0.5525335669517517 \n",
      "Generating predictions and computing metrics for Epoch 2 \n",
      "30/30 [==============================] - 2s 59ms/step\n",
      "training loss : 0.9398683309555054 , training acc : 0.5610992312431335 , mcc score : 0.5145742893218994\n",
      "aucroc score  : 0.8218934535980225 , f1 score     : 0.6771652102470398 \n",
      "Generating predictions and computing metrics for Epoch 3 \n",
      "30/30 [==============================] - 2s 59ms/step\n",
      "training loss : 0.8753142356872559 , training acc : 0.5979188680648804 , mcc score : 0.5124879479408264\n",
      "aucroc score  : 0.8063609600067139 , f1 score     : 0.6722552180290222 \n",
      "Generating predictions and computing metrics for Epoch 4 \n",
      "30/30 [==============================] - 2s 60ms/step\n",
      "training loss : 0.8254156112670898 , training acc : 0.6302027702331543 , mcc score : 0.4975736439228058\n",
      "aucroc score  : 0.7779586315155029 , f1 score     : 0.6574259400367737 \n",
      "Generating predictions and computing metrics for Epoch 5 \n",
      "30/30 [==============================] - 2s 60ms/step\n",
      "training loss : 0.7999616265296936 , training acc : 0.642475962638855 , mcc score : 0.524853527545929\n",
      "aucroc score  : 0.7918639183044434 , f1 score     : 0.6752188801765442 \n",
      "Generating predictions and computing metrics for Epoch 6 \n",
      "30/30 [==============================] - 2s 59ms/step\n",
      "training loss : 0.7542492747306824 , training acc : 0.6675560474395752 , mcc score : 0.5312191247940063\n",
      "aucroc score  : 0.788017749786377 , f1 score     : 0.678074836730957 \n",
      "Generating predictions and computing metrics for Epoch 7 \n",
      "30/30 [==============================] - 2s 59ms/step\n",
      "training loss : 0.7536027431488037 , training acc : 0.6656883955001831 , mcc score : 0.4970473051071167\n",
      "aucroc score  : 0.768639087677002 , f1 score     : 0.6525833606719971 \n",
      "Generating predictions and computing metrics for Epoch 8 \n",
      "30/30 [==============================] - 2s 58ms/step\n",
      "training loss : 0.7251269817352295 , training acc : 0.6854322552680969 , mcc score : 0.512934684753418\n",
      "aucroc score  : 0.7705621719360352 , f1 score     : 0.6623792052268982 \n",
      "Generating predictions and computing metrics for Epoch 9 \n",
      "30/30 [==============================] - 2s 59ms/step\n",
      "training loss : 0.7056335210800171 , training acc : 0.6926360726356506 , mcc score : 0.528885543346405\n",
      "aucroc score  : 0.785946786403656 , f1 score     : 0.6747190356254578 \n",
      "Generating predictions and computing metrics for Epoch 10 \n",
      "30/30 [==============================] - 2s 58ms/step\n",
      "training loss : 0.694995641708374 , training acc : 0.6977054476737976 , mcc score : 0.5269007682800293\n",
      "aucroc score  : 0.785946786403656 , f1 score     : 0.6732578277587891 \n"
     ]
    },
    {
     "data": {
      "text/html": [
       "Waiting for W&B process to finish... <strong style=\"color:green\">(success).</strong>"
      ],
      "text/plain": [
       "<IPython.core.display.HTML object>"
      ]
     },
     "metadata": {},
     "output_type": "display_data"
    },
    {
     "data": {
      "text/html": [
       "<style>\n",
       "    table.wandb td:nth-child(1) { padding: 0 10px; text-align: left ; width: auto;} td:nth-child(2) {text-align: left ; width: 100%}\n",
       "    .wandb-row { display: flex; flex-direction: row; flex-wrap: wrap; justify-content: flex-start; width: 100% }\n",
       "    .wandb-col { display: flex; flex-direction: column; flex-basis: 100%; flex: 1; padding: 10px; }\n",
       "    </style>\n",
       "<div class=\"wandb-row\"><div class=\"wandb-col\"><h3>Run history:</h3><br/><table class=\"wandb\"><tr><td>auc_roc</td><td>▂█▆▂▄▄▁▁▃▃</td></tr><tr><td>epoch/accuracy</td><td>▁▄▅▆▆▇▇███</td></tr><tr><td>epoch/epoch</td><td>▁▂▃▃▄▅▆▆▇█</td></tr><tr><td>epoch/learning_rate</td><td>▁▁▁▁▁▁▁▁▁▁</td></tr><tr><td>epoch/loss</td><td>█▆▄▄▃▂▂▂▁▁</td></tr><tr><td>epoch/val_accuracy</td><td>▁▄▅▇▇▇▇▇██</td></tr><tr><td>epoch/val_loss</td><td>█▆▅▃▃▂▂▁▁▁</td></tr><tr><td>fmeasure</td><td>▁██▇██▇▇██</td></tr><tr><td>mcc</td><td>▁▇▇▆██▆▇██</td></tr></table><br/></div><div class=\"wandb-col\"><h3>Run summary:</h3><br/><table class=\"wandb\"><tr><td>auc_roc</td><td>0.78595</td></tr><tr><td>epoch/accuracy</td><td>0.69771</td></tr><tr><td>epoch/epoch</td><td>9</td></tr><tr><td>epoch/learning_rate</td><td>0.00335</td></tr><tr><td>epoch/loss</td><td>0.695</td></tr><tr><td>epoch/val_accuracy</td><td>0.74893</td></tr><tr><td>epoch/val_loss</td><td>0.60613</td></tr><tr><td>fmeasure</td><td>0.67326</td></tr><tr><td>mcc</td><td>0.5269</td></tr></table><br/></div></div>"
      ],
      "text/plain": [
       "<IPython.core.display.HTML object>"
      ]
     },
     "metadata": {},
     "output_type": "display_data"
    },
    {
     "data": {
      "text/html": [
       " View run <strong style=\"color:#cdcd00\">super-sweep-2</strong> at: <a href='https://wandb.ai/marcus-lim/PCXR-DenseNet-121-Evaluation/runs/cq1fs2a3' target=\"_blank\">https://wandb.ai/marcus-lim/PCXR-DenseNet-121-Evaluation/runs/cq1fs2a3</a><br/>Synced 5 W&B file(s), 0 media file(s), 0 artifact file(s) and 0 other file(s)"
      ],
      "text/plain": [
       "<IPython.core.display.HTML object>"
      ]
     },
     "metadata": {},
     "output_type": "display_data"
    },
    {
     "data": {
      "text/html": [
       "Find logs at: <code>.\\wandb\\run-20230916_181911-cq1fs2a3\\logs</code>"
      ],
      "text/plain": [
       "<IPython.core.display.HTML object>"
      ]
     },
     "metadata": {},
     "output_type": "display_data"
    },
    {
     "name": "stderr",
     "output_type": "stream",
     "text": [
      "\u001b[34m\u001b[1mwandb\u001b[0m: Agent Starting Run: dhsli6cd with config:\n",
      "\u001b[34m\u001b[1mwandb\u001b[0m: \tbatch_size: 32\n",
      "\u001b[34m\u001b[1mwandb\u001b[0m: \tdropout_1: 0.6\n",
      "\u001b[34m\u001b[1mwandb\u001b[0m: \tdropout_2: 0.2\n",
      "\u001b[34m\u001b[1mwandb\u001b[0m: \tdropout_3: 0.8\n",
      "\u001b[34m\u001b[1mwandb\u001b[0m: \tepochs: 10\n",
      "\u001b[34m\u001b[1mwandb\u001b[0m: \tfc_layer_size_1: 128\n",
      "\u001b[34m\u001b[1mwandb\u001b[0m: \tfc_layer_size_2: 512\n",
      "\u001b[34m\u001b[1mwandb\u001b[0m: \tlearning_rate: 0.0032756134452200008\n",
      "\u001b[34m\u001b[1mwandb\u001b[0m: \toptimiser: sgd\n",
      "Failed to detect the name of this notebook, you can set it manually with the WANDB_NOTEBOOK_NAME environment variable to enable code saving.\n"
     ]
    },
    {
     "data": {
      "text/html": [
       "wandb version 0.15.10 is available!  To upgrade, please run:\n",
       " $ pip install wandb --upgrade"
      ],
      "text/plain": [
       "<IPython.core.display.HTML object>"
      ]
     },
     "metadata": {},
     "output_type": "display_data"
    },
    {
     "data": {
      "text/html": [
       "Tracking run with wandb version 0.15.5"
      ],
      "text/plain": [
       "<IPython.core.display.HTML object>"
      ]
     },
     "metadata": {},
     "output_type": "display_data"
    },
    {
     "data": {
      "text/html": [
       "Run data is saved locally in <code>c:\\Users\\User\\Projects\\pneumonia-xray-classification\\notebooks\\wandb\\run-20230916_183101-dhsli6cd</code>"
      ],
      "text/plain": [
       "<IPython.core.display.HTML object>"
      ]
     },
     "metadata": {},
     "output_type": "display_data"
    },
    {
     "data": {
      "text/html": [
       "Syncing run <strong><a href='https://wandb.ai/marcus-lim/PCXR-DenseNet-121-Evaluation/runs/dhsli6cd' target=\"_blank\">exalted-sweep-3</a></strong> to <a href='https://wandb.ai/marcus-lim/PCXR-DenseNet-121-Evaluation' target=\"_blank\">Weights & Biases</a> (<a href='https://wandb.me/run' target=\"_blank\">docs</a>)<br/>Sweep page: <a href='https://wandb.ai/marcus-lim/PCXR-DenseNet-121-Evaluation/sweeps/5k5asc7o' target=\"_blank\">https://wandb.ai/marcus-lim/PCXR-DenseNet-121-Evaluation/sweeps/5k5asc7o</a>"
      ],
      "text/plain": [
       "<IPython.core.display.HTML object>"
      ]
     },
     "metadata": {},
     "output_type": "display_data"
    },
    {
     "data": {
      "text/html": [
       " View project at <a href='https://wandb.ai/marcus-lim/PCXR-DenseNet-121-Evaluation' target=\"_blank\">https://wandb.ai/marcus-lim/PCXR-DenseNet-121-Evaluation</a>"
      ],
      "text/plain": [
       "<IPython.core.display.HTML object>"
      ]
     },
     "metadata": {},
     "output_type": "display_data"
    },
    {
     "data": {
      "text/html": [
       " View sweep at <a href='https://wandb.ai/marcus-lim/PCXR-DenseNet-121-Evaluation/sweeps/5k5asc7o' target=\"_blank\">https://wandb.ai/marcus-lim/PCXR-DenseNet-121-Evaluation/sweeps/5k5asc7o</a>"
      ],
      "text/plain": [
       "<IPython.core.display.HTML object>"
      ]
     },
     "metadata": {},
     "output_type": "display_data"
    },
    {
     "data": {
      "text/html": [
       " View run at <a href='https://wandb.ai/marcus-lim/PCXR-DenseNet-121-Evaluation/runs/dhsli6cd' target=\"_blank\">https://wandb.ai/marcus-lim/PCXR-DenseNet-121-Evaluation/runs/dhsli6cd</a>"
      ],
      "text/plain": [
       "<IPython.core.display.HTML object>"
      ]
     },
     "metadata": {},
     "output_type": "display_data"
    },
    {
     "name": "stdout",
     "output_type": "stream",
     "text": [
      "Found 4684 files belonging to 3 classes.\n",
      "Using 3748 files for training.\n",
      "Using 936 files for validation.\n",
      "Found 1172 files belonging to 3 classes.\n",
      "Generating predictions and computing metrics for Epoch 1 \n",
      "30/30 [==============================] - 3s 58ms/step\n",
      "training loss : 1.0832895040512085 , training acc : 0.4212913513183594 , mcc score : 0.08978579938411713\n",
      "aucroc score  : 0.5038461685180664 , f1 score     : 0.2790316343307495 \n",
      "Generating predictions and computing metrics for Epoch 2 \n",
      "30/30 [==============================] - 2s 58ms/step\n",
      "training loss : 1.011960506439209 , training acc : 0.5040021538734436 , mcc score : 0.10012862086296082\n",
      "aucroc score  : 0.509615421295166 , f1 score     : 0.2712078392505646 \n",
      "Generating predictions and computing metrics for Epoch 3 \n",
      "30/30 [==============================] - 2s 58ms/step\n",
      "training loss : 0.9807451367378235 , training acc : 0.529082179069519 , mcc score : 0.15674175322055817\n",
      "aucroc score  : 0.5454142093658447 , f1 score     : 0.3282776176929474 \n",
      "Generating predictions and computing metrics for Epoch 4 \n",
      "30/30 [==============================] - 2s 58ms/step\n",
      "training loss : 0.9490304589271545 , training acc : 0.5632337331771851 , mcc score : 0.2383335679769516\n",
      "aucroc score  : 0.5997041463851929 , f1 score     : 0.3921051323413849 \n",
      "Generating predictions and computing metrics for Epoch 5 \n",
      "30/30 [==============================] - 2s 58ms/step\n",
      "training loss : 0.9094699025154114 , training acc : 0.5896478295326233 , mcc score : 0.29494524002075195\n",
      "aucroc score  : 0.6439349055290222 , f1 score     : 0.4503572881221771 \n",
      "Generating predictions and computing metrics for Epoch 6 \n",
      "30/30 [==============================] - 2s 58ms/step\n",
      "training loss : 0.8844007849693298 , training acc : 0.6051227450370789 , mcc score : 0.348397821187973\n",
      "aucroc score  : 0.6724852323532104 , f1 score     : 0.509853184223175 \n",
      "Generating predictions and computing metrics for Epoch 7 \n",
      "30/30 [==============================] - 2s 58ms/step\n",
      "training loss : 0.8523251414299011 , training acc : 0.6179295778274536 , mcc score : 0.3672972321510315\n",
      "aucroc score  : 0.6847633123397827 , f1 score     : 0.5363085269927979 \n",
      "Generating predictions and computing metrics for Epoch 8 \n",
      "30/30 [==============================] - 2s 58ms/step\n",
      "training loss : 0.8369559645652771 , training acc : 0.6315368413925171 , mcc score : 0.3910500109195709\n",
      "aucroc score  : 0.7001479268074036 , f1 score     : 0.5622948408126831 \n",
      "Generating predictions and computing metrics for Epoch 9 \n",
      "30/30 [==============================] - 2s 58ms/step\n",
      "training loss : 0.8186097145080566 , training acc : 0.6320704221725464 , mcc score : 0.4121049642562866\n",
      "aucroc score  : 0.7255917191505432 , f1 score     : 0.579684853553772 \n",
      "Generating predictions and computing metrics for Epoch 10 \n",
      "30/30 [==============================] - 2s 58ms/step\n",
      "training loss : 0.8010942339897156 , training acc : 0.6470117568969727 , mcc score : 0.4449022710323334\n",
      "aucroc score  : 0.7301775217056274 , f1 score     : 0.6053870320320129 \n"
     ]
    },
    {
     "data": {
      "text/html": [
       "Waiting for W&B process to finish... <strong style=\"color:green\">(success).</strong>"
      ],
      "text/plain": [
       "<IPython.core.display.HTML object>"
      ]
     },
     "metadata": {},
     "output_type": "display_data"
    },
    {
     "data": {
      "text/html": [
       "<style>\n",
       "    table.wandb td:nth-child(1) { padding: 0 10px; text-align: left ; width: auto;} td:nth-child(2) {text-align: left ; width: 100%}\n",
       "    .wandb-row { display: flex; flex-direction: row; flex-wrap: wrap; justify-content: flex-start; width: 100% }\n",
       "    .wandb-col { display: flex; flex-direction: column; flex-basis: 100%; flex: 1; padding: 10px; }\n",
       "    </style>\n",
       "<div class=\"wandb-row\"><div class=\"wandb-col\"><h3>Run history:</h3><br/><table class=\"wandb\"><tr><td>auc_roc</td><td>▁▁▂▄▅▆▇▇██</td></tr><tr><td>epoch/accuracy</td><td>▁▄▄▅▆▇▇███</td></tr><tr><td>epoch/epoch</td><td>▁▂▃▃▄▅▆▆▇█</td></tr><tr><td>epoch/learning_rate</td><td>▁▁▁▁▁▁▁▁▁▁</td></tr><tr><td>epoch/loss</td><td>█▆▅▅▄▃▂▂▁▁</td></tr><tr><td>epoch/val_accuracy</td><td>▁▂▄▅▆▇▇███</td></tr><tr><td>epoch/val_loss</td><td>█▇▆▅▄▃▂▂▁▁</td></tr><tr><td>fmeasure</td><td>▁▁▂▄▅▆▇▇▇█</td></tr><tr><td>mcc</td><td>▁▁▂▄▅▆▆▇▇█</td></tr></table><br/></div><div class=\"wandb-col\"><h3>Run summary:</h3><br/><table class=\"wandb\"><tr><td>auc_roc</td><td>0.73018</td></tr><tr><td>epoch/accuracy</td><td>0.64701</td></tr><tr><td>epoch/epoch</td><td>9</td></tr><tr><td>epoch/learning_rate</td><td>0.00328</td></tr><tr><td>epoch/loss</td><td>0.80109</td></tr><tr><td>epoch/val_accuracy</td><td>0.74466</td></tr><tr><td>epoch/val_loss</td><td>0.65866</td></tr><tr><td>fmeasure</td><td>0.60539</td></tr><tr><td>mcc</td><td>0.4449</td></tr></table><br/></div></div>"
      ],
      "text/plain": [
       "<IPython.core.display.HTML object>"
      ]
     },
     "metadata": {},
     "output_type": "display_data"
    },
    {
     "data": {
      "text/html": [
       " View run <strong style=\"color:#cdcd00\">exalted-sweep-3</strong> at: <a href='https://wandb.ai/marcus-lim/PCXR-DenseNet-121-Evaluation/runs/dhsli6cd' target=\"_blank\">https://wandb.ai/marcus-lim/PCXR-DenseNet-121-Evaluation/runs/dhsli6cd</a><br/>Synced 5 W&B file(s), 0 media file(s), 0 artifact file(s) and 0 other file(s)"
      ],
      "text/plain": [
       "<IPython.core.display.HTML object>"
      ]
     },
     "metadata": {},
     "output_type": "display_data"
    },
    {
     "data": {
      "text/html": [
       "Find logs at: <code>.\\wandb\\run-20230916_183101-dhsli6cd\\logs</code>"
      ],
      "text/plain": [
       "<IPython.core.display.HTML object>"
      ]
     },
     "metadata": {},
     "output_type": "display_data"
    },
    {
     "name": "stderr",
     "output_type": "stream",
     "text": [
      "\u001b[34m\u001b[1mwandb\u001b[0m: Agent Starting Run: 8jwi6ej4 with config:\n",
      "\u001b[34m\u001b[1mwandb\u001b[0m: \tbatch_size: 32\n",
      "\u001b[34m\u001b[1mwandb\u001b[0m: \tdropout_1: 0.2\n",
      "\u001b[34m\u001b[1mwandb\u001b[0m: \tdropout_2: 0.6\n",
      "\u001b[34m\u001b[1mwandb\u001b[0m: \tdropout_3: 0.8\n",
      "\u001b[34m\u001b[1mwandb\u001b[0m: \tepochs: 10\n",
      "\u001b[34m\u001b[1mwandb\u001b[0m: \tfc_layer_size_1: 64\n",
      "\u001b[34m\u001b[1mwandb\u001b[0m: \tfc_layer_size_2: 32\n",
      "\u001b[34m\u001b[1mwandb\u001b[0m: \tlearning_rate: 0.00436289401291732\n",
      "\u001b[34m\u001b[1mwandb\u001b[0m: \toptimiser: adam\n",
      "Failed to detect the name of this notebook, you can set it manually with the WANDB_NOTEBOOK_NAME environment variable to enable code saving.\n"
     ]
    },
    {
     "data": {
      "text/html": [
       "wandb version 0.15.10 is available!  To upgrade, please run:\n",
       " $ pip install wandb --upgrade"
      ],
      "text/plain": [
       "<IPython.core.display.HTML object>"
      ]
     },
     "metadata": {},
     "output_type": "display_data"
    },
    {
     "data": {
      "text/html": [
       "Tracking run with wandb version 0.15.5"
      ],
      "text/plain": [
       "<IPython.core.display.HTML object>"
      ]
     },
     "metadata": {},
     "output_type": "display_data"
    },
    {
     "data": {
      "text/html": [
       "Run data is saved locally in <code>c:\\Users\\User\\Projects\\pneumonia-xray-classification\\notebooks\\wandb\\run-20230916_184246-8jwi6ej4</code>"
      ],
      "text/plain": [
       "<IPython.core.display.HTML object>"
      ]
     },
     "metadata": {},
     "output_type": "display_data"
    },
    {
     "data": {
      "text/html": [
       "Syncing run <strong><a href='https://wandb.ai/marcus-lim/PCXR-DenseNet-121-Evaluation/runs/8jwi6ej4' target=\"_blank\">decent-sweep-4</a></strong> to <a href='https://wandb.ai/marcus-lim/PCXR-DenseNet-121-Evaluation' target=\"_blank\">Weights & Biases</a> (<a href='https://wandb.me/run' target=\"_blank\">docs</a>)<br/>Sweep page: <a href='https://wandb.ai/marcus-lim/PCXR-DenseNet-121-Evaluation/sweeps/5k5asc7o' target=\"_blank\">https://wandb.ai/marcus-lim/PCXR-DenseNet-121-Evaluation/sweeps/5k5asc7o</a>"
      ],
      "text/plain": [
       "<IPython.core.display.HTML object>"
      ]
     },
     "metadata": {},
     "output_type": "display_data"
    },
    {
     "data": {
      "text/html": [
       " View project at <a href='https://wandb.ai/marcus-lim/PCXR-DenseNet-121-Evaluation' target=\"_blank\">https://wandb.ai/marcus-lim/PCXR-DenseNet-121-Evaluation</a>"
      ],
      "text/plain": [
       "<IPython.core.display.HTML object>"
      ]
     },
     "metadata": {},
     "output_type": "display_data"
    },
    {
     "data": {
      "text/html": [
       " View sweep at <a href='https://wandb.ai/marcus-lim/PCXR-DenseNet-121-Evaluation/sweeps/5k5asc7o' target=\"_blank\">https://wandb.ai/marcus-lim/PCXR-DenseNet-121-Evaluation/sweeps/5k5asc7o</a>"
      ],
      "text/plain": [
       "<IPython.core.display.HTML object>"
      ]
     },
     "metadata": {},
     "output_type": "display_data"
    },
    {
     "data": {
      "text/html": [
       " View run at <a href='https://wandb.ai/marcus-lim/PCXR-DenseNet-121-Evaluation/runs/8jwi6ej4' target=\"_blank\">https://wandb.ai/marcus-lim/PCXR-DenseNet-121-Evaluation/runs/8jwi6ej4</a>"
      ],
      "text/plain": [
       "<IPython.core.display.HTML object>"
      ]
     },
     "metadata": {},
     "output_type": "display_data"
    },
    {
     "name": "stdout",
     "output_type": "stream",
     "text": [
      "Found 4684 files belonging to 3 classes.\n",
      "Using 3748 files for training.\n",
      "Using 936 files for validation.\n",
      "Found 1172 files belonging to 3 classes.\n",
      "Generating predictions and computing metrics for Epoch 1 \n",
      "30/30 [==============================] - 3s 59ms/step\n",
      "training loss : 0.8068054914474487 , training acc : 0.6408751606941223 , mcc score : 0.34852898120880127\n",
      "aucroc score  : 0.5365384817123413 , f1 score     : 0.4459812641143799 \n",
      "Generating predictions and computing metrics for Epoch 2 \n",
      "30/30 [==============================] - 2s 58ms/step\n",
      "training loss : 0.6611018776893616 , training acc : 0.715848445892334 , mcc score : 0.5755376219749451\n",
      "aucroc score  : 0.8085799217224121 , f1 score     : 0.7067157626152039 \n",
      "Generating predictions and computing metrics for Epoch 3 \n",
      "30/30 [==============================] - 2s 59ms/step\n",
      "training loss : 0.6337156295776367 , training acc : 0.7411953210830688 , mcc score : 0.5009320378303528\n",
      "aucroc score  : 0.7492603659629822 , f1 score     : 0.6463046669960022 \n",
      "Generating predictions and computing metrics for Epoch 4 \n",
      "30/30 [==============================] - 2s 59ms/step\n",
      "training loss : 0.6222767233848572 , training acc : 0.7427961826324463 , mcc score : 0.5918899178504944\n",
      "aucroc score  : 0.8278107047080994 , f1 score     : 0.7089100480079651 \n",
      "Generating predictions and computing metrics for Epoch 5 \n",
      "30/30 [==============================] - 2s 59ms/step\n",
      "training loss : 0.5929754972457886 , training acc : 0.7473319172859192 , mcc score : 0.5988610982894897\n",
      "aucroc score  : 0.8347632884979248 , f1 score     : 0.7272744178771973 \n",
      "Generating predictions and computing metrics for Epoch 6 \n",
      "30/30 [==============================] - 2s 59ms/step\n",
      "training loss : 0.6015890836715698 , training acc : 0.7483991384506226 , mcc score : 0.6082013845443726\n",
      "aucroc score  : 0.8825443387031555 , f1 score     : 0.740156352519989 \n",
      "Generating predictions and computing metrics for Epoch 7 \n",
      "30/30 [==============================] - 2s 60ms/step\n",
      "training loss : 0.5855414271354675 , training acc : 0.7561365962028503 , mcc score : 0.5359823107719421\n",
      "aucroc score  : 0.7754437923431396 , f1 score     : 0.6796903610229492 \n",
      "Generating predictions and computing metrics for Epoch 8 \n",
      "30/30 [==============================] - 2s 59ms/step\n",
      "training loss : 0.5740021467208862 , training acc : 0.7590715289115906 , mcc score : 0.5650029182434082\n",
      "aucroc score  : 0.7946745753288269 , f1 score     : 0.6972432136535645 \n",
      "Generating predictions and computing metrics for Epoch 9 \n",
      "30/30 [==============================] - 2s 59ms/step\n",
      "training loss : 0.5763145089149475 , training acc : 0.7673425674438477 , mcc score : 0.5997777581214905\n",
      "aucroc score  : 0.8420118093490601 , f1 score     : 0.7293952107429504 \n",
      "Generating predictions and computing metrics for Epoch 10 \n",
      "30/30 [==============================] - 2s 60ms/step\n",
      "training loss : 0.5671005845069885 , training acc : 0.7662753462791443 , mcc score : 0.5027337074279785\n",
      "aucroc score  : 0.7357988357543945 , f1 score     : 0.6439260840415955 \n"
     ]
    },
    {
     "data": {
      "text/html": [
       "Waiting for W&B process to finish... <strong style=\"color:green\">(success).</strong>"
      ],
      "text/plain": [
       "<IPython.core.display.HTML object>"
      ]
     },
     "metadata": {},
     "output_type": "display_data"
    },
    {
     "data": {
      "text/html": [
       "<style>\n",
       "    table.wandb td:nth-child(1) { padding: 0 10px; text-align: left ; width: auto;} td:nth-child(2) {text-align: left ; width: 100%}\n",
       "    .wandb-row { display: flex; flex-direction: row; flex-wrap: wrap; justify-content: flex-start; width: 100% }\n",
       "    .wandb-col { display: flex; flex-direction: column; flex-basis: 100%; flex: 1; padding: 10px; }\n",
       "    </style>\n",
       "<div class=\"wandb-row\"><div class=\"wandb-col\"><h3>Run history:</h3><br/><table class=\"wandb\"><tr><td>auc_roc</td><td>▁▇▅▇▇█▆▆▇▅</td></tr><tr><td>epoch/accuracy</td><td>▁▅▇▇▇▇▇███</td></tr><tr><td>epoch/epoch</td><td>▁▂▃▃▄▅▆▆▇█</td></tr><tr><td>epoch/learning_rate</td><td>▁▁▁▁▁▁▁▁▁▁</td></tr><tr><td>epoch/loss</td><td>█▄▃▃▂▂▂▁▁▁</td></tr><tr><td>epoch/val_accuracy</td><td>▁▆▆▆▆▄█▇▇▆</td></tr><tr><td>epoch/val_loss</td><td>█▃▂▁▂▅▁▁▁▂</td></tr><tr><td>fmeasure</td><td>▁▇▆▇██▇▇█▆</td></tr><tr><td>mcc</td><td>▁▇▅███▆▇█▅</td></tr></table><br/></div><div class=\"wandb-col\"><h3>Run summary:</h3><br/><table class=\"wandb\"><tr><td>auc_roc</td><td>0.7358</td></tr><tr><td>epoch/accuracy</td><td>0.76628</td></tr><tr><td>epoch/epoch</td><td>9</td></tr><tr><td>epoch/learning_rate</td><td>0.00436</td></tr><tr><td>epoch/loss</td><td>0.5671</td></tr><tr><td>epoch/val_accuracy</td><td>0.77991</td></tr><tr><td>epoch/val_loss</td><td>0.5049</td></tr><tr><td>fmeasure</td><td>0.64393</td></tr><tr><td>mcc</td><td>0.50273</td></tr></table><br/></div></div>"
      ],
      "text/plain": [
       "<IPython.core.display.HTML object>"
      ]
     },
     "metadata": {},
     "output_type": "display_data"
    },
    {
     "data": {
      "text/html": [
       " View run <strong style=\"color:#cdcd00\">decent-sweep-4</strong> at: <a href='https://wandb.ai/marcus-lim/PCXR-DenseNet-121-Evaluation/runs/8jwi6ej4' target=\"_blank\">https://wandb.ai/marcus-lim/PCXR-DenseNet-121-Evaluation/runs/8jwi6ej4</a><br/>Synced 5 W&B file(s), 0 media file(s), 0 artifact file(s) and 0 other file(s)"
      ],
      "text/plain": [
       "<IPython.core.display.HTML object>"
      ]
     },
     "metadata": {},
     "output_type": "display_data"
    },
    {
     "data": {
      "text/html": [
       "Find logs at: <code>.\\wandb\\run-20230916_184246-8jwi6ej4\\logs</code>"
      ],
      "text/plain": [
       "<IPython.core.display.HTML object>"
      ]
     },
     "metadata": {},
     "output_type": "display_data"
    },
    {
     "name": "stderr",
     "output_type": "stream",
     "text": [
      "\u001b[34m\u001b[1mwandb\u001b[0m: Agent Starting Run: b90rhfkp with config:\n",
      "\u001b[34m\u001b[1mwandb\u001b[0m: \tbatch_size: 32\n",
      "\u001b[34m\u001b[1mwandb\u001b[0m: \tdropout_1: 0.2\n",
      "\u001b[34m\u001b[1mwandb\u001b[0m: \tdropout_2: 0.6\n",
      "\u001b[34m\u001b[1mwandb\u001b[0m: \tdropout_3: 0.8\n",
      "\u001b[34m\u001b[1mwandb\u001b[0m: \tepochs: 10\n",
      "\u001b[34m\u001b[1mwandb\u001b[0m: \tfc_layer_size_1: 32\n",
      "\u001b[34m\u001b[1mwandb\u001b[0m: \tfc_layer_size_2: 16\n",
      "\u001b[34m\u001b[1mwandb\u001b[0m: \tlearning_rate: 0.0033913295959368877\n",
      "\u001b[34m\u001b[1mwandb\u001b[0m: \toptimiser: adam\n",
      "Failed to detect the name of this notebook, you can set it manually with the WANDB_NOTEBOOK_NAME environment variable to enable code saving.\n"
     ]
    },
    {
     "data": {
      "text/html": [
       "wandb version 0.15.10 is available!  To upgrade, please run:\n",
       " $ pip install wandb --upgrade"
      ],
      "text/plain": [
       "<IPython.core.display.HTML object>"
      ]
     },
     "metadata": {},
     "output_type": "display_data"
    },
    {
     "data": {
      "text/html": [
       "Tracking run with wandb version 0.15.5"
      ],
      "text/plain": [
       "<IPython.core.display.HTML object>"
      ]
     },
     "metadata": {},
     "output_type": "display_data"
    },
    {
     "data": {
      "text/html": [
       "Run data is saved locally in <code>c:\\Users\\User\\Projects\\pneumonia-xray-classification\\notebooks\\wandb\\run-20230916_185437-b90rhfkp</code>"
      ],
      "text/plain": [
       "<IPython.core.display.HTML object>"
      ]
     },
     "metadata": {},
     "output_type": "display_data"
    },
    {
     "data": {
      "text/html": [
       "Syncing run <strong><a href='https://wandb.ai/marcus-lim/PCXR-DenseNet-121-Evaluation/runs/b90rhfkp' target=\"_blank\">solar-sweep-5</a></strong> to <a href='https://wandb.ai/marcus-lim/PCXR-DenseNet-121-Evaluation' target=\"_blank\">Weights & Biases</a> (<a href='https://wandb.me/run' target=\"_blank\">docs</a>)<br/>Sweep page: <a href='https://wandb.ai/marcus-lim/PCXR-DenseNet-121-Evaluation/sweeps/5k5asc7o' target=\"_blank\">https://wandb.ai/marcus-lim/PCXR-DenseNet-121-Evaluation/sweeps/5k5asc7o</a>"
      ],
      "text/plain": [
       "<IPython.core.display.HTML object>"
      ]
     },
     "metadata": {},
     "output_type": "display_data"
    },
    {
     "data": {
      "text/html": [
       " View project at <a href='https://wandb.ai/marcus-lim/PCXR-DenseNet-121-Evaluation' target=\"_blank\">https://wandb.ai/marcus-lim/PCXR-DenseNet-121-Evaluation</a>"
      ],
      "text/plain": [
       "<IPython.core.display.HTML object>"
      ]
     },
     "metadata": {},
     "output_type": "display_data"
    },
    {
     "data": {
      "text/html": [
       " View sweep at <a href='https://wandb.ai/marcus-lim/PCXR-DenseNet-121-Evaluation/sweeps/5k5asc7o' target=\"_blank\">https://wandb.ai/marcus-lim/PCXR-DenseNet-121-Evaluation/sweeps/5k5asc7o</a>"
      ],
      "text/plain": [
       "<IPython.core.display.HTML object>"
      ]
     },
     "metadata": {},
     "output_type": "display_data"
    },
    {
     "data": {
      "text/html": [
       " View run at <a href='https://wandb.ai/marcus-lim/PCXR-DenseNet-121-Evaluation/runs/b90rhfkp' target=\"_blank\">https://wandb.ai/marcus-lim/PCXR-DenseNet-121-Evaluation/runs/b90rhfkp</a>"
      ],
      "text/plain": [
       "<IPython.core.display.HTML object>"
      ]
     },
     "metadata": {},
     "output_type": "display_data"
    },
    {
     "name": "stdout",
     "output_type": "stream",
     "text": [
      "Found 4684 files belonging to 3 classes.\n",
      "Using 3748 files for training.\n",
      "Using 936 files for validation.\n",
      "Found 1172 files belonging to 3 classes.\n",
      "Generating predictions and computing metrics for Epoch 1 \n",
      "30/30 [==============================] - 3s 59ms/step\n",
      "training loss : 0.9113479852676392 , training acc : 0.5725720524787903 , mcc score : 0.32201912999153137\n",
      "aucroc score  : 0.5788461565971375 , f1 score     : 0.44252249598503113 \n",
      "Generating predictions and computing metrics for Epoch 2 \n",
      "30/30 [==============================] - 2s 59ms/step\n",
      "training loss : 0.7287980914115906 , training acc : 0.6787620186805725 , mcc score : 0.46294349431991577\n",
      "aucroc score  : 0.6692307591438293 , f1 score     : 0.6074636578559875 \n",
      "Generating predictions and computing metrics for Epoch 3 \n",
      "30/30 [==============================] - 2s 59ms/step\n",
      "training loss : 0.6727274656295776 , training acc : 0.7059765458106995 , mcc score : 0.5236257314682007\n",
      "aucroc score  : 0.7427514791488647 , f1 score     : 0.6596145033836365 \n",
      "Generating predictions and computing metrics for Epoch 4 \n",
      "30/30 [==============================] - 2s 59ms/step\n",
      "training loss : 0.6555972695350647 , training acc : 0.7123799324035645 , mcc score : 0.6199067831039429\n",
      "aucroc score  : 0.8616864085197449 , f1 score     : 0.743812084197998 \n",
      "Generating predictions and computing metrics for Epoch 5 \n",
      "30/30 [==============================] - 2s 60ms/step\n",
      "training loss : 0.6350279450416565 , training acc : 0.7294557094573975 , mcc score : 0.5384434461593628\n",
      "aucroc score  : 0.7727810740470886 , f1 score     : 0.6763081550598145 \n",
      "Generating predictions and computing metrics for Epoch 6 \n",
      "30/30 [==============================] - 2s 61ms/step\n",
      "training loss : 0.6281504034996033 , training acc : 0.7262539863586426 , mcc score : 0.5995587110519409\n",
      "aucroc score  : 0.8251479268074036 , f1 score     : 0.7254777550697327 \n",
      "Generating predictions and computing metrics for Epoch 7 \n",
      "30/30 [==============================] - 2s 59ms/step\n",
      "training loss : 0.6236565113067627 , training acc : 0.7323905825614929 , mcc score : 0.4509221017360687\n",
      "aucroc score  : 0.6519230604171753 , f1 score     : 0.5877725481987 \n",
      "Generating predictions and computing metrics for Epoch 8 \n",
      "30/30 [==============================] - 2s 59ms/step\n",
      "training loss : 0.6088440418243408 , training acc : 0.7427961826324463 , mcc score : 0.5382851958274841\n",
      "aucroc score  : 0.7639052867889404 , f1 score     : 0.6778609156608582 \n",
      "Generating predictions and computing metrics for Epoch 9 \n",
      "30/30 [==============================] - 2s 60ms/step\n",
      "training loss : 0.6102184653282166 , training acc : 0.7430629730224609 , mcc score : 0.5879794955253601\n",
      "aucroc score  : 0.8170117735862732 , f1 score     : 0.71652752161026 \n",
      "Generating predictions and computing metrics for Epoch 10 \n",
      "30/30 [==============================] - 2s 57ms/step\n",
      "training loss : 0.5988996028900146 , training acc : 0.7545357346534729 , mcc score : 0.6210237145423889\n",
      "aucroc score  : 0.8573964238166809 , f1 score     : 0.7437374591827393 \n"
     ]
    },
    {
     "data": {
      "text/html": [
       "Waiting for W&B process to finish... <strong style=\"color:green\">(success).</strong>"
      ],
      "text/plain": [
       "<IPython.core.display.HTML object>"
      ]
     },
     "metadata": {},
     "output_type": "display_data"
    },
    {
     "data": {
      "text/html": [
       "<style>\n",
       "    table.wandb td:nth-child(1) { padding: 0 10px; text-align: left ; width: auto;} td:nth-child(2) {text-align: left ; width: 100%}\n",
       "    .wandb-row { display: flex; flex-direction: row; flex-wrap: wrap; justify-content: flex-start; width: 100% }\n",
       "    .wandb-col { display: flex; flex-direction: column; flex-basis: 100%; flex: 1; padding: 10px; }\n",
       "    </style>\n",
       "<div class=\"wandb-row\"><div class=\"wandb-col\"><h3>Run history:</h3><br/><table class=\"wandb\"><tr><td>auc_roc</td><td>▁▃▅█▆▇▃▆▇█</td></tr><tr><td>epoch/accuracy</td><td>▁▅▆▆▇▇▇███</td></tr><tr><td>epoch/epoch</td><td>▁▂▃▃▄▅▆▆▇█</td></tr><tr><td>epoch/learning_rate</td><td>▁▁▁▁▁▁▁▁▁▁</td></tr><tr><td>epoch/loss</td><td>█▄▃▂▂▂▂▁▁▁</td></tr><tr><td>epoch/val_accuracy</td><td>▁▇▆▆▆▇██▇▇</td></tr><tr><td>epoch/val_loss</td><td>█▃▃▃▂▃▂▁▂▂</td></tr><tr><td>fmeasure</td><td>▁▅▆█▆█▄▆▇█</td></tr><tr><td>mcc</td><td>▁▄▆█▆▇▄▆▇█</td></tr></table><br/></div><div class=\"wandb-col\"><h3>Run summary:</h3><br/><table class=\"wandb\"><tr><td>auc_roc</td><td>0.8574</td></tr><tr><td>epoch/accuracy</td><td>0.75454</td></tr><tr><td>epoch/epoch</td><td>9</td></tr><tr><td>epoch/learning_rate</td><td>0.00339</td></tr><tr><td>epoch/loss</td><td>0.5989</td></tr><tr><td>epoch/val_accuracy</td><td>0.78632</td></tr><tr><td>epoch/val_loss</td><td>0.50336</td></tr><tr><td>fmeasure</td><td>0.74374</td></tr><tr><td>mcc</td><td>0.62102</td></tr></table><br/></div></div>"
      ],
      "text/plain": [
       "<IPython.core.display.HTML object>"
      ]
     },
     "metadata": {},
     "output_type": "display_data"
    },
    {
     "data": {
      "text/html": [
       " View run <strong style=\"color:#cdcd00\">solar-sweep-5</strong> at: <a href='https://wandb.ai/marcus-lim/PCXR-DenseNet-121-Evaluation/runs/b90rhfkp' target=\"_blank\">https://wandb.ai/marcus-lim/PCXR-DenseNet-121-Evaluation/runs/b90rhfkp</a><br/>Synced 5 W&B file(s), 0 media file(s), 0 artifact file(s) and 0 other file(s)"
      ],
      "text/plain": [
       "<IPython.core.display.HTML object>"
      ]
     },
     "metadata": {},
     "output_type": "display_data"
    },
    {
     "data": {
      "text/html": [
       "Find logs at: <code>.\\wandb\\run-20230916_185437-b90rhfkp\\logs</code>"
      ],
      "text/plain": [
       "<IPython.core.display.HTML object>"
      ]
     },
     "metadata": {},
     "output_type": "display_data"
    },
    {
     "name": "stderr",
     "output_type": "stream",
     "text": [
      "\u001b[34m\u001b[1mwandb\u001b[0m: Sweep Agent: Waiting for job.\n",
      "\u001b[34m\u001b[1mwandb\u001b[0m: Job received.\n",
      "\u001b[34m\u001b[1mwandb\u001b[0m: Agent Starting Run: qed4puv7 with config:\n",
      "\u001b[34m\u001b[1mwandb\u001b[0m: \tbatch_size: 32\n",
      "\u001b[34m\u001b[1mwandb\u001b[0m: \tdropout_1: 0.2\n",
      "\u001b[34m\u001b[1mwandb\u001b[0m: \tdropout_2: 0.6\n",
      "\u001b[34m\u001b[1mwandb\u001b[0m: \tdropout_3: 0.8\n",
      "\u001b[34m\u001b[1mwandb\u001b[0m: \tepochs: 10\n",
      "\u001b[34m\u001b[1mwandb\u001b[0m: \tfc_layer_size_1: 32\n",
      "\u001b[34m\u001b[1mwandb\u001b[0m: \tfc_layer_size_2: 256\n",
      "\u001b[34m\u001b[1mwandb\u001b[0m: \tlearning_rate: 0.004155411786040333\n",
      "\u001b[34m\u001b[1mwandb\u001b[0m: \toptimiser: adam\n",
      "Failed to detect the name of this notebook, you can set it manually with the WANDB_NOTEBOOK_NAME environment variable to enable code saving.\n"
     ]
    },
    {
     "data": {
      "text/html": [
       "wandb version 0.15.10 is available!  To upgrade, please run:\n",
       " $ pip install wandb --upgrade"
      ],
      "text/plain": [
       "<IPython.core.display.HTML object>"
      ]
     },
     "metadata": {},
     "output_type": "display_data"
    },
    {
     "data": {
      "text/html": [
       "Tracking run with wandb version 0.15.5"
      ],
      "text/plain": [
       "<IPython.core.display.HTML object>"
      ]
     },
     "metadata": {},
     "output_type": "display_data"
    },
    {
     "data": {
      "text/html": [
       "Run data is saved locally in <code>c:\\Users\\User\\Projects\\pneumonia-xray-classification\\notebooks\\wandb\\run-20230916_190637-qed4puv7</code>"
      ],
      "text/plain": [
       "<IPython.core.display.HTML object>"
      ]
     },
     "metadata": {},
     "output_type": "display_data"
    },
    {
     "data": {
      "text/html": [
       "Syncing run <strong><a href='https://wandb.ai/marcus-lim/PCXR-DenseNet-121-Evaluation/runs/qed4puv7' target=\"_blank\">true-sweep-6</a></strong> to <a href='https://wandb.ai/marcus-lim/PCXR-DenseNet-121-Evaluation' target=\"_blank\">Weights & Biases</a> (<a href='https://wandb.me/run' target=\"_blank\">docs</a>)<br/>Sweep page: <a href='https://wandb.ai/marcus-lim/PCXR-DenseNet-121-Evaluation/sweeps/5k5asc7o' target=\"_blank\">https://wandb.ai/marcus-lim/PCXR-DenseNet-121-Evaluation/sweeps/5k5asc7o</a>"
      ],
      "text/plain": [
       "<IPython.core.display.HTML object>"
      ]
     },
     "metadata": {},
     "output_type": "display_data"
    },
    {
     "data": {
      "text/html": [
       " View project at <a href='https://wandb.ai/marcus-lim/PCXR-DenseNet-121-Evaluation' target=\"_blank\">https://wandb.ai/marcus-lim/PCXR-DenseNet-121-Evaluation</a>"
      ],
      "text/plain": [
       "<IPython.core.display.HTML object>"
      ]
     },
     "metadata": {},
     "output_type": "display_data"
    },
    {
     "data": {
      "text/html": [
       " View sweep at <a href='https://wandb.ai/marcus-lim/PCXR-DenseNet-121-Evaluation/sweeps/5k5asc7o' target=\"_blank\">https://wandb.ai/marcus-lim/PCXR-DenseNet-121-Evaluation/sweeps/5k5asc7o</a>"
      ],
      "text/plain": [
       "<IPython.core.display.HTML object>"
      ]
     },
     "metadata": {},
     "output_type": "display_data"
    },
    {
     "data": {
      "text/html": [
       " View run at <a href='https://wandb.ai/marcus-lim/PCXR-DenseNet-121-Evaluation/runs/qed4puv7' target=\"_blank\">https://wandb.ai/marcus-lim/PCXR-DenseNet-121-Evaluation/runs/qed4puv7</a>"
      ],
      "text/plain": [
       "<IPython.core.display.HTML object>"
      ]
     },
     "metadata": {},
     "output_type": "display_data"
    },
    {
     "name": "stdout",
     "output_type": "stream",
     "text": [
      "Found 4684 files belonging to 3 classes.\n",
      "Using 3748 files for training.\n",
      "Using 936 files for validation.\n",
      "Found 1172 files belonging to 3 classes.\n",
      "Generating predictions and computing metrics for Epoch 1 \n",
      "30/30 [==============================] - 3s 59ms/step\n",
      "training loss : 0.8150992393493652 , training acc : 0.6307364106178284 , mcc score : 0.31741252541542053\n",
      "aucroc score  : 0.5192307829856873 , f1 score     : 0.4176129400730133 \n",
      "Generating predictions and computing metrics for Epoch 2 \n",
      "30/30 [==============================] - 2s 58ms/step\n",
      "training loss : 0.7130924463272095 , training acc : 0.6870330572128296 , mcc score : 0.32122689485549927\n",
      "aucroc score  : 0.6057692170143127 , f1 score     : 0.4683097302913666 \n",
      "Generating predictions and computing metrics for Epoch 3 \n",
      "30/30 [==============================] - 2s 58ms/step\n",
      "training loss : 0.6728081703186035 , training acc : 0.7099786400794983 , mcc score : 0.6213011145591736\n",
      "aucroc score  : 0.8748520612716675 , f1 score     : 0.7421605587005615 \n",
      "Generating predictions and computing metrics for Epoch 4 \n",
      "30/30 [==============================] - 2s 58ms/step\n",
      "training loss : 0.6487735509872437 , training acc : 0.7182497382164001 , mcc score : 0.5062806606292725\n",
      "aucroc score  : 0.7823964953422546 , f1 score     : 0.631566047668457 \n",
      "Generating predictions and computing metrics for Epoch 5 \n",
      "30/30 [==============================] - 2s 58ms/step\n",
      "training loss : 0.6299571394920349 , training acc : 0.7353255152702332 , mcc score : 0.5916551947593689\n",
      "aucroc score  : 0.8309171199798584 , f1 score     : 0.6986990571022034 \n",
      "Generating predictions and computing metrics for Epoch 6 \n",
      "30/30 [==============================] - 2s 59ms/step\n",
      "training loss : 0.6246611475944519 , training acc : 0.7321237921714783 , mcc score : 0.47711941599845886\n",
      "aucroc score  : 0.747337281703949 , f1 score     : 0.6219215393066406 \n",
      "Generating predictions and computing metrics for Epoch 7 \n",
      "30/30 [==============================] - 2s 58ms/step\n",
      "training loss : 0.6246089935302734 , training acc : 0.7361259460449219 , mcc score : 0.5050602555274963\n",
      "aucroc score  : 0.7292898893356323 , f1 score     : 0.6444242596626282 \n",
      "Generating predictions and computing metrics for Epoch 8 \n",
      "30/30 [==============================] - 2s 58ms/step\n",
      "training loss : 0.6210604906082153 , training acc : 0.7374599575996399 , mcc score : 0.620095431804657\n",
      "aucroc score  : 0.8566567897796631 , f1 score     : 0.7437706589698792 \n",
      "Generating predictions and computing metrics for Epoch 9 \n",
      "30/30 [==============================] - 2s 58ms/step\n",
      "training loss : 0.6186668872833252 , training acc : 0.7297224998474121 , mcc score : 0.5655645132064819\n",
      "aucroc score  : 0.8035503029823303 , f1 score     : 0.6836385130882263 \n",
      "Generating predictions and computing metrics for Epoch 10 \n",
      "30/30 [==============================] - 2s 58ms/step\n",
      "training loss : 0.6058160066604614 , training acc : 0.738527238368988 , mcc score : 0.4823721945285797\n",
      "aucroc score  : 0.7165680527687073 , f1 score     : 0.6216916441917419 \n"
     ]
    },
    {
     "data": {
      "text/html": [
       "Waiting for W&B process to finish... <strong style=\"color:green\">(success).</strong>"
      ],
      "text/plain": [
       "<IPython.core.display.HTML object>"
      ]
     },
     "metadata": {},
     "output_type": "display_data"
    },
    {
     "data": {
      "text/html": [
       "<style>\n",
       "    table.wandb td:nth-child(1) { padding: 0 10px; text-align: left ; width: auto;} td:nth-child(2) {text-align: left ; width: 100%}\n",
       "    .wandb-row { display: flex; flex-direction: row; flex-wrap: wrap; justify-content: flex-start; width: 100% }\n",
       "    .wandb-col { display: flex; flex-direction: column; flex-basis: 100%; flex: 1; padding: 10px; }\n",
       "    </style>\n",
       "<div class=\"wandb-row\"><div class=\"wandb-col\"><h3>Run history:</h3><br/><table class=\"wandb\"><tr><td>auc_roc</td><td>▁▃█▆▇▅▅█▇▅</td></tr><tr><td>epoch/accuracy</td><td>▁▅▆▇████▇█</td></tr><tr><td>epoch/epoch</td><td>▁▂▃▃▄▅▆▆▇█</td></tr><tr><td>epoch/learning_rate</td><td>▁▁▁▁▁▁▁▁▁▁</td></tr><tr><td>epoch/loss</td><td>█▅▃▂▂▂▂▂▁▁</td></tr><tr><td>epoch/val_accuracy</td><td>▁▅▆▆▅▇██▇▇</td></tr><tr><td>epoch/val_loss</td><td>█▃▄▂▂▂▂▂▁▂</td></tr><tr><td>fmeasure</td><td>▁▂█▆▇▅▆█▇▅</td></tr><tr><td>mcc</td><td>▁▁█▅▇▅▅█▇▅</td></tr></table><br/></div><div class=\"wandb-col\"><h3>Run summary:</h3><br/><table class=\"wandb\"><tr><td>auc_roc</td><td>0.71657</td></tr><tr><td>epoch/accuracy</td><td>0.73853</td></tr><tr><td>epoch/epoch</td><td>9</td></tr><tr><td>epoch/learning_rate</td><td>0.00416</td></tr><tr><td>epoch/loss</td><td>0.60582</td></tr><tr><td>epoch/val_accuracy</td><td>0.77564</td></tr><tr><td>epoch/val_loss</td><td>0.52315</td></tr><tr><td>fmeasure</td><td>0.62169</td></tr><tr><td>mcc</td><td>0.48237</td></tr></table><br/></div></div>"
      ],
      "text/plain": [
       "<IPython.core.display.HTML object>"
      ]
     },
     "metadata": {},
     "output_type": "display_data"
    },
    {
     "data": {
      "text/html": [
       " View run <strong style=\"color:#cdcd00\">true-sweep-6</strong> at: <a href='https://wandb.ai/marcus-lim/PCXR-DenseNet-121-Evaluation/runs/qed4puv7' target=\"_blank\">https://wandb.ai/marcus-lim/PCXR-DenseNet-121-Evaluation/runs/qed4puv7</a><br/>Synced 5 W&B file(s), 0 media file(s), 0 artifact file(s) and 0 other file(s)"
      ],
      "text/plain": [
       "<IPython.core.display.HTML object>"
      ]
     },
     "metadata": {},
     "output_type": "display_data"
    },
    {
     "data": {
      "text/html": [
       "Find logs at: <code>.\\wandb\\run-20230916_190637-qed4puv7\\logs</code>"
      ],
      "text/plain": [
       "<IPython.core.display.HTML object>"
      ]
     },
     "metadata": {},
     "output_type": "display_data"
    },
    {
     "name": "stderr",
     "output_type": "stream",
     "text": [
      "\u001b[34m\u001b[1mwandb\u001b[0m: Agent Starting Run: 6f83uz6c with config:\n",
      "\u001b[34m\u001b[1mwandb\u001b[0m: \tbatch_size: 32\n",
      "\u001b[34m\u001b[1mwandb\u001b[0m: \tdropout_1: 0.6\n",
      "\u001b[34m\u001b[1mwandb\u001b[0m: \tdropout_2: 0.2\n",
      "\u001b[34m\u001b[1mwandb\u001b[0m: \tdropout_3: 0.2\n",
      "\u001b[34m\u001b[1mwandb\u001b[0m: \tepochs: 10\n",
      "\u001b[34m\u001b[1mwandb\u001b[0m: \tfc_layer_size_1: 64\n",
      "\u001b[34m\u001b[1mwandb\u001b[0m: \tfc_layer_size_2: 256\n",
      "\u001b[34m\u001b[1mwandb\u001b[0m: \tlearning_rate: 0.004694663633692506\n",
      "\u001b[34m\u001b[1mwandb\u001b[0m: \toptimiser: sgd\n",
      "Failed to detect the name of this notebook, you can set it manually with the WANDB_NOTEBOOK_NAME environment variable to enable code saving.\n"
     ]
    },
    {
     "data": {
      "text/html": [
       "wandb version 0.15.10 is available!  To upgrade, please run:\n",
       " $ pip install wandb --upgrade"
      ],
      "text/plain": [
       "<IPython.core.display.HTML object>"
      ]
     },
     "metadata": {},
     "output_type": "display_data"
    },
    {
     "data": {
      "text/html": [
       "Tracking run with wandb version 0.15.5"
      ],
      "text/plain": [
       "<IPython.core.display.HTML object>"
      ]
     },
     "metadata": {},
     "output_type": "display_data"
    },
    {
     "data": {
      "text/html": [
       "Run data is saved locally in <code>c:\\Users\\User\\Projects\\pneumonia-xray-classification\\notebooks\\wandb\\run-20230916_191822-6f83uz6c</code>"
      ],
      "text/plain": [
       "<IPython.core.display.HTML object>"
      ]
     },
     "metadata": {},
     "output_type": "display_data"
    },
    {
     "data": {
      "text/html": [
       "Syncing run <strong><a href='https://wandb.ai/marcus-lim/PCXR-DenseNet-121-Evaluation/runs/6f83uz6c' target=\"_blank\">winter-sweep-7</a></strong> to <a href='https://wandb.ai/marcus-lim/PCXR-DenseNet-121-Evaluation' target=\"_blank\">Weights & Biases</a> (<a href='https://wandb.me/run' target=\"_blank\">docs</a>)<br/>Sweep page: <a href='https://wandb.ai/marcus-lim/PCXR-DenseNet-121-Evaluation/sweeps/5k5asc7o' target=\"_blank\">https://wandb.ai/marcus-lim/PCXR-DenseNet-121-Evaluation/sweeps/5k5asc7o</a>"
      ],
      "text/plain": [
       "<IPython.core.display.HTML object>"
      ]
     },
     "metadata": {},
     "output_type": "display_data"
    },
    {
     "data": {
      "text/html": [
       " View project at <a href='https://wandb.ai/marcus-lim/PCXR-DenseNet-121-Evaluation' target=\"_blank\">https://wandb.ai/marcus-lim/PCXR-DenseNet-121-Evaluation</a>"
      ],
      "text/plain": [
       "<IPython.core.display.HTML object>"
      ]
     },
     "metadata": {},
     "output_type": "display_data"
    },
    {
     "data": {
      "text/html": [
       " View sweep at <a href='https://wandb.ai/marcus-lim/PCXR-DenseNet-121-Evaluation/sweeps/5k5asc7o' target=\"_blank\">https://wandb.ai/marcus-lim/PCXR-DenseNet-121-Evaluation/sweeps/5k5asc7o</a>"
      ],
      "text/plain": [
       "<IPython.core.display.HTML object>"
      ]
     },
     "metadata": {},
     "output_type": "display_data"
    },
    {
     "data": {
      "text/html": [
       " View run at <a href='https://wandb.ai/marcus-lim/PCXR-DenseNet-121-Evaluation/runs/6f83uz6c' target=\"_blank\">https://wandb.ai/marcus-lim/PCXR-DenseNet-121-Evaluation/runs/6f83uz6c</a>"
      ],
      "text/plain": [
       "<IPython.core.display.HTML object>"
      ]
     },
     "metadata": {},
     "output_type": "display_data"
    },
    {
     "name": "stdout",
     "output_type": "stream",
     "text": [
      "Found 4684 files belonging to 3 classes.\n",
      "Using 3748 files for training.\n",
      "Using 936 files for validation.\n",
      "Found 1172 files belonging to 3 classes.\n",
      "Generating predictions and computing metrics for Epoch 1 \n",
      "30/30 [==============================] - 3s 58ms/step\n",
      "training loss : 1.0957796573638916 , training acc : 0.3721984922885895 , mcc score : 0.030110258609056473\n",
      "aucroc score  : 0.5076923370361328 , f1 score     : 0.24873526394367218 \n",
      "Generating predictions and computing metrics for Epoch 2 \n",
      "30/30 [==============================] - 2s 58ms/step\n",
      "training loss : 1.0056869983673096 , training acc : 0.5165421366691589 , mcc score : 0.17959806323051453\n",
      "aucroc score  : 0.572041392326355 , f1 score     : 0.33159005641937256 \n",
      "Generating predictions and computing metrics for Epoch 3 \n",
      "30/30 [==============================] - 2s 58ms/step\n",
      "training loss : 0.935387909412384 , training acc : 0.5840448141098022 , mcc score : 0.3021894693374634\n",
      "aucroc score  : 0.6721893548965454 , f1 score     : 0.42768993973731995 \n",
      "Generating predictions and computing metrics for Epoch 4 \n",
      "30/30 [==============================] - 2s 58ms/step\n",
      "training loss : 0.8811979293823242 , training acc : 0.6278014779090881 , mcc score : 0.37522393465042114\n",
      "aucroc score  : 0.7291420102119446 , f1 score     : 0.48294878005981445 \n",
      "Generating predictions and computing metrics for Epoch 5 \n",
      "30/30 [==============================] - 2s 58ms/step\n",
      "training loss : 0.8224872350692749 , training acc : 0.6574172973632812 , mcc score : 0.41691797971725464\n",
      "aucroc score  : 0.752662718296051 , f1 score     : 0.5301685929298401 \n",
      "Generating predictions and computing metrics for Epoch 6 \n",
      "30/30 [==============================] - 2s 58ms/step\n",
      "training loss : 0.7753806710243225 , training acc : 0.6726254224777222 , mcc score : 0.41406410932540894\n",
      "aucroc score  : 0.7457100749015808 , f1 score     : 0.561894953250885 \n",
      "Generating predictions and computing metrics for Epoch 7 \n",
      "30/30 [==============================] - 2s 58ms/step\n",
      "training loss : 0.7338398098945618 , training acc : 0.6918356418609619 , mcc score : 0.4385148286819458\n",
      "aucroc score  : 0.7433432340621948 , f1 score     : 0.5912153124809265 \n",
      "Generating predictions and computing metrics for Epoch 8 \n",
      "30/30 [==============================] - 2s 58ms/step\n",
      "training loss : 0.7129650115966797 , training acc : 0.7041088342666626 , mcc score : 0.4586361348628998\n",
      "aucroc score  : 0.7321006059646606 , f1 score     : 0.6102383732795715 \n",
      "Generating predictions and computing metrics for Epoch 9 \n",
      "30/30 [==============================] - 2s 58ms/step\n",
      "training loss : 0.6910743713378906 , training acc : 0.7019743919372559 , mcc score : 0.4694612920284271\n",
      "aucroc score  : 0.7304733395576477 , f1 score     : 0.6227038502693176 \n",
      "Generating predictions and computing metrics for Epoch 10 \n",
      "30/30 [==============================] - 2s 59ms/step\n",
      "training loss : 0.6756634712219238 , training acc : 0.7139807939529419 , mcc score : 0.47893330454826355\n",
      "aucroc score  : 0.7309171557426453 , f1 score     : 0.6294266581535339 \n"
     ]
    },
    {
     "data": {
      "text/html": [
       "Waiting for W&B process to finish... <strong style=\"color:green\">(success).</strong>"
      ],
      "text/plain": [
       "<IPython.core.display.HTML object>"
      ]
     },
     "metadata": {},
     "output_type": "display_data"
    },
    {
     "data": {
      "text/html": [
       "<style>\n",
       "    table.wandb td:nth-child(1) { padding: 0 10px; text-align: left ; width: auto;} td:nth-child(2) {text-align: left ; width: 100%}\n",
       "    .wandb-row { display: flex; flex-direction: row; flex-wrap: wrap; justify-content: flex-start; width: 100% }\n",
       "    .wandb-col { display: flex; flex-direction: column; flex-basis: 100%; flex: 1; padding: 10px; }\n",
       "    </style>\n",
       "<div class=\"wandb-row\"><div class=\"wandb-col\"><h3>Run history:</h3><br/><table class=\"wandb\"><tr><td>auc_roc</td><td>▁▃▆▇███▇▇▇</td></tr><tr><td>epoch/accuracy</td><td>▁▄▅▆▇▇████</td></tr><tr><td>epoch/epoch</td><td>▁▂▃▃▄▅▆▆▇█</td></tr><tr><td>epoch/learning_rate</td><td>▁▁▁▁▁▁▁▁▁▁</td></tr><tr><td>epoch/loss</td><td>█▆▅▄▃▃▂▂▁▁</td></tr><tr><td>epoch/val_accuracy</td><td>▁▅▆▇▇█████</td></tr><tr><td>epoch/val_loss</td><td>█▇▅▄▃▂▂▁▁▁</td></tr><tr><td>fmeasure</td><td>▁▃▄▅▆▇▇███</td></tr><tr><td>mcc</td><td>▁▃▅▆▇▇▇███</td></tr></table><br/></div><div class=\"wandb-col\"><h3>Run summary:</h3><br/><table class=\"wandb\"><tr><td>auc_roc</td><td>0.73092</td></tr><tr><td>epoch/accuracy</td><td>0.71398</td></tr><tr><td>epoch/epoch</td><td>9</td></tr><tr><td>epoch/learning_rate</td><td>0.00469</td></tr><tr><td>epoch/loss</td><td>0.67566</td></tr><tr><td>epoch/val_accuracy</td><td>0.75107</td></tr><tr><td>epoch/val_loss</td><td>0.59674</td></tr><tr><td>fmeasure</td><td>0.62943</td></tr><tr><td>mcc</td><td>0.47893</td></tr></table><br/></div></div>"
      ],
      "text/plain": [
       "<IPython.core.display.HTML object>"
      ]
     },
     "metadata": {},
     "output_type": "display_data"
    },
    {
     "data": {
      "text/html": [
       " View run <strong style=\"color:#cdcd00\">winter-sweep-7</strong> at: <a href='https://wandb.ai/marcus-lim/PCXR-DenseNet-121-Evaluation/runs/6f83uz6c' target=\"_blank\">https://wandb.ai/marcus-lim/PCXR-DenseNet-121-Evaluation/runs/6f83uz6c</a><br/>Synced 5 W&B file(s), 0 media file(s), 0 artifact file(s) and 0 other file(s)"
      ],
      "text/plain": [
       "<IPython.core.display.HTML object>"
      ]
     },
     "metadata": {},
     "output_type": "display_data"
    },
    {
     "data": {
      "text/html": [
       "Find logs at: <code>.\\wandb\\run-20230916_191822-6f83uz6c\\logs</code>"
      ],
      "text/plain": [
       "<IPython.core.display.HTML object>"
      ]
     },
     "metadata": {},
     "output_type": "display_data"
    },
    {
     "name": "stderr",
     "output_type": "stream",
     "text": [
      "\u001b[34m\u001b[1mwandb\u001b[0m: Agent Starting Run: fo6k5nt4 with config:\n",
      "\u001b[34m\u001b[1mwandb\u001b[0m: \tbatch_size: 32\n",
      "\u001b[34m\u001b[1mwandb\u001b[0m: \tdropout_1: 0.8\n",
      "\u001b[34m\u001b[1mwandb\u001b[0m: \tdropout_2: 0.8\n",
      "\u001b[34m\u001b[1mwandb\u001b[0m: \tdropout_3: 0.8\n",
      "\u001b[34m\u001b[1mwandb\u001b[0m: \tepochs: 10\n",
      "\u001b[34m\u001b[1mwandb\u001b[0m: \tfc_layer_size_1: 32\n",
      "\u001b[34m\u001b[1mwandb\u001b[0m: \tfc_layer_size_2: 32\n",
      "\u001b[34m\u001b[1mwandb\u001b[0m: \tlearning_rate: 0.004623338194221671\n",
      "\u001b[34m\u001b[1mwandb\u001b[0m: \toptimiser: adam\n",
      "Failed to detect the name of this notebook, you can set it manually with the WANDB_NOTEBOOK_NAME environment variable to enable code saving.\n"
     ]
    },
    {
     "data": {
      "text/html": [
       "wandb version 0.15.10 is available!  To upgrade, please run:\n",
       " $ pip install wandb --upgrade"
      ],
      "text/plain": [
       "<IPython.core.display.HTML object>"
      ]
     },
     "metadata": {},
     "output_type": "display_data"
    },
    {
     "data": {
      "text/html": [
       "Tracking run with wandb version 0.15.5"
      ],
      "text/plain": [
       "<IPython.core.display.HTML object>"
      ]
     },
     "metadata": {},
     "output_type": "display_data"
    },
    {
     "data": {
      "text/html": [
       "Run data is saved locally in <code>c:\\Users\\User\\Projects\\pneumonia-xray-classification\\notebooks\\wandb\\run-20230916_193003-fo6k5nt4</code>"
      ],
      "text/plain": [
       "<IPython.core.display.HTML object>"
      ]
     },
     "metadata": {},
     "output_type": "display_data"
    },
    {
     "data": {
      "text/html": [
       "Syncing run <strong><a href='https://wandb.ai/marcus-lim/PCXR-DenseNet-121-Evaluation/runs/fo6k5nt4' target=\"_blank\">peachy-sweep-8</a></strong> to <a href='https://wandb.ai/marcus-lim/PCXR-DenseNet-121-Evaluation' target=\"_blank\">Weights & Biases</a> (<a href='https://wandb.me/run' target=\"_blank\">docs</a>)<br/>Sweep page: <a href='https://wandb.ai/marcus-lim/PCXR-DenseNet-121-Evaluation/sweeps/5k5asc7o' target=\"_blank\">https://wandb.ai/marcus-lim/PCXR-DenseNet-121-Evaluation/sweeps/5k5asc7o</a>"
      ],
      "text/plain": [
       "<IPython.core.display.HTML object>"
      ]
     },
     "metadata": {},
     "output_type": "display_data"
    },
    {
     "data": {
      "text/html": [
       " View project at <a href='https://wandb.ai/marcus-lim/PCXR-DenseNet-121-Evaluation' target=\"_blank\">https://wandb.ai/marcus-lim/PCXR-DenseNet-121-Evaluation</a>"
      ],
      "text/plain": [
       "<IPython.core.display.HTML object>"
      ]
     },
     "metadata": {},
     "output_type": "display_data"
    },
    {
     "data": {
      "text/html": [
       " View sweep at <a href='https://wandb.ai/marcus-lim/PCXR-DenseNet-121-Evaluation/sweeps/5k5asc7o' target=\"_blank\">https://wandb.ai/marcus-lim/PCXR-DenseNet-121-Evaluation/sweeps/5k5asc7o</a>"
      ],
      "text/plain": [
       "<IPython.core.display.HTML object>"
      ]
     },
     "metadata": {},
     "output_type": "display_data"
    },
    {
     "data": {
      "text/html": [
       " View run at <a href='https://wandb.ai/marcus-lim/PCXR-DenseNet-121-Evaluation/runs/fo6k5nt4' target=\"_blank\">https://wandb.ai/marcus-lim/PCXR-DenseNet-121-Evaluation/runs/fo6k5nt4</a>"
      ],
      "text/plain": [
       "<IPython.core.display.HTML object>"
      ]
     },
     "metadata": {},
     "output_type": "display_data"
    },
    {
     "name": "stdout",
     "output_type": "stream",
     "text": [
      "Found 4684 files belonging to 3 classes.\n",
      "Using 3748 files for training.\n",
      "Using 936 files for validation.\n",
      "Found 1172 files belonging to 3 classes.\n",
      "Generating predictions and computing metrics for Epoch 1 \n",
      "30/30 [==============================] - 3s 58ms/step\n",
      "training loss : 1.0795904397964478 , training acc : 0.4645144045352936 , mcc score : 0.3629150092601776\n",
      "aucroc score  : 0.7471894025802612 , f1 score     : 0.4633052349090576 \n",
      "Generating predictions and computing metrics for Epoch 2 \n",
      "30/30 [==============================] - 2s 58ms/step\n",
      "training loss : 0.9268532395362854 , training acc : 0.5653681755065918 , mcc score : 0.31627291440963745\n",
      "aucroc score  : 0.6442307829856873 , f1 score     : 0.3787536323070526 \n",
      "Generating predictions and computing metrics for Epoch 3 \n",
      "30/30 [==============================] - 2s 58ms/step\n",
      "training loss : 0.8539429903030396 , training acc : 0.6045891046524048 , mcc score : 0.5027706027030945\n",
      "aucroc score  : 0.8341715931892395 , f1 score     : 0.5160018801689148 \n",
      "Generating predictions and computing metrics for Epoch 4 \n",
      "30/30 [==============================] - 2s 63ms/step\n",
      "training loss : 0.8441108465194702 , training acc : 0.6099252700805664 , mcc score : 0.44042643904685974\n",
      "aucroc score  : 0.7655326128005981 , f1 score     : 0.4718042314052582 \n",
      "Generating predictions and computing metrics for Epoch 5 \n",
      "30/30 [==============================] - 2s 58ms/step\n",
      "training loss : 0.8074121475219727 , training acc : 0.6280683279037476 , mcc score : 0.3769585192203522\n",
      "aucroc score  : 0.7011834383010864 , f1 score     : 0.42578616738319397 \n",
      "Generating predictions and computing metrics for Epoch 6 \n",
      "30/30 [==============================] - 2s 58ms/step\n",
      "training loss : 0.7936924695968628 , training acc : 0.6440768241882324 , mcc score : 0.44102081656455994\n",
      "aucroc score  : 0.7547337412834167 , f1 score     : 0.48051097989082336 \n",
      "Generating predictions and computing metrics for Epoch 7 \n",
      "30/30 [==============================] - 2s 58ms/step\n",
      "training loss : 0.7767150402069092 , training acc : 0.6467449069023132 , mcc score : 0.4822791814804077\n",
      "aucroc score  : 0.8097633123397827 , f1 score     : 0.503718912601471 \n",
      "Generating predictions and computing metrics for Epoch 8 \n",
      "30/30 [==============================] - 2s 58ms/step\n",
      "training loss : 0.7816424369812012 , training acc : 0.6443436741828918 , mcc score : 0.45482057332992554\n",
      "aucroc score  : 0.7797337770462036 , f1 score     : 0.5301795601844788 \n",
      "Generating predictions and computing metrics for Epoch 9 \n",
      "30/30 [==============================] - 2s 58ms/step\n",
      "training loss : 0.7619679570198059 , training acc : 0.6566168665885925 , mcc score : 0.4236869812011719\n",
      "aucroc score  : 0.7374260425567627 , f1 score     : 0.4894648492336273 \n",
      "Generating predictions and computing metrics for Epoch 10 \n",
      "30/30 [==============================] - 2s 58ms/step\n",
      "training loss : 0.7638583779335022 , training acc : 0.6520811319351196 , mcc score : 0.4486038386821747\n",
      "aucroc score  : 0.7720414400100708 , f1 score     : 0.4767073690891266 \n"
     ]
    },
    {
     "data": {
      "text/html": [
       "Waiting for W&B process to finish... <strong style=\"color:green\">(success).</strong>"
      ],
      "text/plain": [
       "<IPython.core.display.HTML object>"
      ]
     },
     "metadata": {},
     "output_type": "display_data"
    },
    {
     "data": {
      "text/html": [
       "<style>\n",
       "    table.wandb td:nth-child(1) { padding: 0 10px; text-align: left ; width: auto;} td:nth-child(2) {text-align: left ; width: 100%}\n",
       "    .wandb-row { display: flex; flex-direction: row; flex-wrap: wrap; justify-content: flex-start; width: 100% }\n",
       "    .wandb-col { display: flex; flex-direction: column; flex-basis: 100%; flex: 1; padding: 10px; }\n",
       "    </style>\n",
       "<div class=\"wandb-row\"><div class=\"wandb-col\"><h3>Run history:</h3><br/><table class=\"wandb\"><tr><td>auc_roc</td><td>▅▁█▅▃▅▇▆▄▆</td></tr><tr><td>epoch/accuracy</td><td>▁▅▆▆▇█████</td></tr><tr><td>epoch/epoch</td><td>▁▂▃▃▄▅▆▆▇█</td></tr><tr><td>epoch/learning_rate</td><td>▁▁▁▁▁▁▁▁▁▁</td></tr><tr><td>epoch/loss</td><td>█▅▃▃▂▂▁▁▁▁</td></tr><tr><td>epoch/val_accuracy</td><td>▁▃▄▅▅▅▆██▆</td></tr><tr><td>epoch/val_loss</td><td>█▄▃▂▂▂▂▁▁▁</td></tr><tr><td>fmeasure</td><td>▅▁▇▅▃▆▇█▆▆</td></tr><tr><td>mcc</td><td>▃▁█▆▃▆▇▆▅▆</td></tr></table><br/></div><div class=\"wandb-col\"><h3>Run summary:</h3><br/><table class=\"wandb\"><tr><td>auc_roc</td><td>0.77204</td></tr><tr><td>epoch/accuracy</td><td>0.65208</td></tr><tr><td>epoch/epoch</td><td>9</td></tr><tr><td>epoch/learning_rate</td><td>0.00462</td></tr><tr><td>epoch/loss</td><td>0.76386</td></tr><tr><td>epoch/val_accuracy</td><td>0.71368</td></tr><tr><td>epoch/val_loss</td><td>0.57889</td></tr><tr><td>fmeasure</td><td>0.47671</td></tr><tr><td>mcc</td><td>0.4486</td></tr></table><br/></div></div>"
      ],
      "text/plain": [
       "<IPython.core.display.HTML object>"
      ]
     },
     "metadata": {},
     "output_type": "display_data"
    },
    {
     "data": {
      "text/html": [
       " View run <strong style=\"color:#cdcd00\">peachy-sweep-8</strong> at: <a href='https://wandb.ai/marcus-lim/PCXR-DenseNet-121-Evaluation/runs/fo6k5nt4' target=\"_blank\">https://wandb.ai/marcus-lim/PCXR-DenseNet-121-Evaluation/runs/fo6k5nt4</a><br/>Synced 5 W&B file(s), 0 media file(s), 0 artifact file(s) and 0 other file(s)"
      ],
      "text/plain": [
       "<IPython.core.display.HTML object>"
      ]
     },
     "metadata": {},
     "output_type": "display_data"
    },
    {
     "data": {
      "text/html": [
       "Find logs at: <code>.\\wandb\\run-20230916_193003-fo6k5nt4\\logs</code>"
      ],
      "text/plain": [
       "<IPython.core.display.HTML object>"
      ]
     },
     "metadata": {},
     "output_type": "display_data"
    },
    {
     "name": "stderr",
     "output_type": "stream",
     "text": [
      "\u001b[34m\u001b[1mwandb\u001b[0m: Agent Starting Run: btzdcxie with config:\n",
      "\u001b[34m\u001b[1mwandb\u001b[0m: \tbatch_size: 32\n",
      "\u001b[34m\u001b[1mwandb\u001b[0m: \tdropout_1: 0.6\n",
      "\u001b[34m\u001b[1mwandb\u001b[0m: \tdropout_2: 0.8\n",
      "\u001b[34m\u001b[1mwandb\u001b[0m: \tdropout_3: 0.2\n",
      "\u001b[34m\u001b[1mwandb\u001b[0m: \tepochs: 10\n",
      "\u001b[34m\u001b[1mwandb\u001b[0m: \tfc_layer_size_1: 512\n",
      "\u001b[34m\u001b[1mwandb\u001b[0m: \tfc_layer_size_2: 512\n",
      "\u001b[34m\u001b[1mwandb\u001b[0m: \tlearning_rate: 0.0019631430520092043\n",
      "\u001b[34m\u001b[1mwandb\u001b[0m: \toptimiser: adam\n",
      "Failed to detect the name of this notebook, you can set it manually with the WANDB_NOTEBOOK_NAME environment variable to enable code saving.\n"
     ]
    },
    {
     "data": {
      "text/html": [
       "wandb version 0.15.10 is available!  To upgrade, please run:\n",
       " $ pip install wandb --upgrade"
      ],
      "text/plain": [
       "<IPython.core.display.HTML object>"
      ]
     },
     "metadata": {},
     "output_type": "display_data"
    },
    {
     "data": {
      "text/html": [
       "Tracking run with wandb version 0.15.5"
      ],
      "text/plain": [
       "<IPython.core.display.HTML object>"
      ]
     },
     "metadata": {},
     "output_type": "display_data"
    },
    {
     "data": {
      "text/html": [
       "Run data is saved locally in <code>c:\\Users\\User\\Projects\\pneumonia-xray-classification\\notebooks\\wandb\\run-20230916_194147-btzdcxie</code>"
      ],
      "text/plain": [
       "<IPython.core.display.HTML object>"
      ]
     },
     "metadata": {},
     "output_type": "display_data"
    },
    {
     "data": {
      "text/html": [
       "Syncing run <strong><a href='https://wandb.ai/marcus-lim/PCXR-DenseNet-121-Evaluation/runs/btzdcxie' target=\"_blank\">pretty-sweep-9</a></strong> to <a href='https://wandb.ai/marcus-lim/PCXR-DenseNet-121-Evaluation' target=\"_blank\">Weights & Biases</a> (<a href='https://wandb.me/run' target=\"_blank\">docs</a>)<br/>Sweep page: <a href='https://wandb.ai/marcus-lim/PCXR-DenseNet-121-Evaluation/sweeps/5k5asc7o' target=\"_blank\">https://wandb.ai/marcus-lim/PCXR-DenseNet-121-Evaluation/sweeps/5k5asc7o</a>"
      ],
      "text/plain": [
       "<IPython.core.display.HTML object>"
      ]
     },
     "metadata": {},
     "output_type": "display_data"
    },
    {
     "data": {
      "text/html": [
       " View project at <a href='https://wandb.ai/marcus-lim/PCXR-DenseNet-121-Evaluation' target=\"_blank\">https://wandb.ai/marcus-lim/PCXR-DenseNet-121-Evaluation</a>"
      ],
      "text/plain": [
       "<IPython.core.display.HTML object>"
      ]
     },
     "metadata": {},
     "output_type": "display_data"
    },
    {
     "data": {
      "text/html": [
       " View sweep at <a href='https://wandb.ai/marcus-lim/PCXR-DenseNet-121-Evaluation/sweeps/5k5asc7o' target=\"_blank\">https://wandb.ai/marcus-lim/PCXR-DenseNet-121-Evaluation/sweeps/5k5asc7o</a>"
      ],
      "text/plain": [
       "<IPython.core.display.HTML object>"
      ]
     },
     "metadata": {},
     "output_type": "display_data"
    },
    {
     "data": {
      "text/html": [
       " View run at <a href='https://wandb.ai/marcus-lim/PCXR-DenseNet-121-Evaluation/runs/btzdcxie' target=\"_blank\">https://wandb.ai/marcus-lim/PCXR-DenseNet-121-Evaluation/runs/btzdcxie</a>"
      ],
      "text/plain": [
       "<IPython.core.display.HTML object>"
      ]
     },
     "metadata": {},
     "output_type": "display_data"
    },
    {
     "name": "stdout",
     "output_type": "stream",
     "text": [
      "Found 4684 files belonging to 3 classes.\n",
      "Using 3748 files for training.\n",
      "Using 936 files for validation.\n",
      "Found 1172 files belonging to 3 classes.\n",
      "Generating predictions and computing metrics for Epoch 1 \n",
      "30/30 [==============================] - 3s 60ms/step\n",
      "training loss : 0.7542015314102173 , training acc : 0.6902347803115845 , mcc score : 0.41305768489837646\n",
      "aucroc score  : 0.6211538314819336 , f1 score     : 0.5428279042243958 \n",
      "Generating predictions and computing metrics for Epoch 2 \n",
      "30/30 [==============================] - 2s 70ms/step\n",
      "training loss : 0.5996271371841431 , training acc : 0.755069375038147 , mcc score : 0.5363894701004028\n",
      "aucroc score  : 0.768934965133667 , f1 score     : 0.676539421081543 \n",
      "Generating predictions and computing metrics for Epoch 3 \n",
      "30/30 [==============================] - 2s 60ms/step\n",
      "training loss : 0.5924009084701538 , training acc : 0.7513340711593628 , mcc score : 0.5531471967697144\n",
      "aucroc score  : 0.7754437923431396 , f1 score     : 0.6846717000007629 \n",
      "Generating predictions and computing metrics for Epoch 4 \n",
      "30/30 [==============================] - 2s 61ms/step\n",
      "training loss : 0.5710663795471191 , training acc : 0.7694770693778992 , mcc score : 0.6030298471450806\n",
      "aucroc score  : 0.8355029225349426 , f1 score     : 0.7281492352485657 \n",
      "Generating predictions and computing metrics for Epoch 5 \n",
      "30/30 [==============================] - 2s 59ms/step\n",
      "training loss : 0.5536805391311646 , training acc : 0.7708110809326172 , mcc score : 0.5328207612037659\n",
      "aucroc score  : 0.7977810502052307 , f1 score     : 0.6743698716163635 \n",
      "Generating predictions and computing metrics for Epoch 6 \n",
      "30/30 [==============================] - 2s 65ms/step\n",
      "training loss : 0.5409543514251709 , training acc : 0.7793489694595337 , mcc score : 0.5195707082748413\n",
      "aucroc score  : 0.8155325651168823 , f1 score     : 0.6665578484535217 \n",
      "Generating predictions and computing metrics for Epoch 7 \n",
      "30/30 [==============================] - 2s 59ms/step\n",
      "training loss : 0.5381923317909241 , training acc : 0.7825506925582886 , mcc score : 0.550611138343811\n",
      "aucroc score  : 0.779289960861206 , f1 score     : 0.6863533854484558 \n",
      "Generating predictions and computing metrics for Epoch 8 \n",
      "30/30 [==============================] - 2s 59ms/step\n",
      "training loss : 0.5390662550926208 , training acc : 0.7822839021682739 , mcc score : 0.5471634864807129\n",
      "aucroc score  : 0.7927514910697937 , f1 score     : 0.6868112683296204 \n",
      "Generating predictions and computing metrics for Epoch 9 \n",
      "30/30 [==============================] - 2s 59ms/step\n",
      "training loss : 0.5366128087043762 , training acc : 0.7788153886795044 , mcc score : 0.5867673754692078\n",
      "aucroc score  : 0.823964536190033 , f1 score     : 0.7169675230979919 \n",
      "Generating predictions and computing metrics for Epoch 10 \n",
      "30/30 [==============================] - 2s 59ms/step\n",
      "training loss : 0.5197638869285583 , training acc : 0.7828174829483032 , mcc score : 0.5810974836349487\n",
      "aucroc score  : 0.8232247829437256 , f1 score     : 0.7155202031135559 \n"
     ]
    },
    {
     "data": {
      "text/html": [
       "Waiting for W&B process to finish... <strong style=\"color:green\">(success).</strong>"
      ],
      "text/plain": [
       "<IPython.core.display.HTML object>"
      ]
     },
     "metadata": {},
     "output_type": "display_data"
    },
    {
     "data": {
      "text/html": [
       "<style>\n",
       "    table.wandb td:nth-child(1) { padding: 0 10px; text-align: left ; width: auto;} td:nth-child(2) {text-align: left ; width: 100%}\n",
       "    .wandb-row { display: flex; flex-direction: row; flex-wrap: wrap; justify-content: flex-start; width: 100% }\n",
       "    .wandb-col { display: flex; flex-direction: column; flex-basis: 100%; flex: 1; padding: 10px; }\n",
       "    </style>\n",
       "<div class=\"wandb-row\"><div class=\"wandb-col\"><h3>Run history:</h3><br/><table class=\"wandb\"><tr><td>auc_roc</td><td>▁▆▆█▇▇▆▇██</td></tr><tr><td>epoch/accuracy</td><td>▁▆▆▇▇█████</td></tr><tr><td>epoch/epoch</td><td>▁▂▃▃▄▅▆▆▇█</td></tr><tr><td>epoch/learning_rate</td><td>▁▁▁▁▁▁▁▁▁▁</td></tr><tr><td>epoch/loss</td><td>█▃▃▃▂▂▂▂▂▁</td></tr><tr><td>epoch/val_accuracy</td><td>▁▅▅▇▅▃█▆▇▆</td></tr><tr><td>epoch/val_loss</td><td>█▄▃▃▃▅▁▂▃▂</td></tr><tr><td>fmeasure</td><td>▁▆▆█▆▆▆▆██</td></tr><tr><td>mcc</td><td>▁▆▆█▅▅▆▆▇▇</td></tr></table><br/></div><div class=\"wandb-col\"><h3>Run summary:</h3><br/><table class=\"wandb\"><tr><td>auc_roc</td><td>0.82322</td></tr><tr><td>epoch/accuracy</td><td>0.78282</td></tr><tr><td>epoch/epoch</td><td>9</td></tr><tr><td>epoch/learning_rate</td><td>0.00196</td></tr><tr><td>epoch/loss</td><td>0.51976</td></tr><tr><td>epoch/val_accuracy</td><td>0.78632</td></tr><tr><td>epoch/val_loss</td><td>0.49972</td></tr><tr><td>fmeasure</td><td>0.71552</td></tr><tr><td>mcc</td><td>0.5811</td></tr></table><br/></div></div>"
      ],
      "text/plain": [
       "<IPython.core.display.HTML object>"
      ]
     },
     "metadata": {},
     "output_type": "display_data"
    },
    {
     "data": {
      "text/html": [
       " View run <strong style=\"color:#cdcd00\">pretty-sweep-9</strong> at: <a href='https://wandb.ai/marcus-lim/PCXR-DenseNet-121-Evaluation/runs/btzdcxie' target=\"_blank\">https://wandb.ai/marcus-lim/PCXR-DenseNet-121-Evaluation/runs/btzdcxie</a><br/>Synced 5 W&B file(s), 0 media file(s), 0 artifact file(s) and 0 other file(s)"
      ],
      "text/plain": [
       "<IPython.core.display.HTML object>"
      ]
     },
     "metadata": {},
     "output_type": "display_data"
    },
    {
     "data": {
      "text/html": [
       "Find logs at: <code>.\\wandb\\run-20230916_194147-btzdcxie\\logs</code>"
      ],
      "text/plain": [
       "<IPython.core.display.HTML object>"
      ]
     },
     "metadata": {},
     "output_type": "display_data"
    },
    {
     "name": "stderr",
     "output_type": "stream",
     "text": [
      "\u001b[34m\u001b[1mwandb\u001b[0m: Agent Starting Run: mt63eq9t with config:\n",
      "\u001b[34m\u001b[1mwandb\u001b[0m: \tbatch_size: 32\n",
      "\u001b[34m\u001b[1mwandb\u001b[0m: \tdropout_1: 0.2\n",
      "\u001b[34m\u001b[1mwandb\u001b[0m: \tdropout_2: 0.2\n",
      "\u001b[34m\u001b[1mwandb\u001b[0m: \tdropout_3: 0.2\n",
      "\u001b[34m\u001b[1mwandb\u001b[0m: \tepochs: 10\n",
      "\u001b[34m\u001b[1mwandb\u001b[0m: \tfc_layer_size_1: 128\n",
      "\u001b[34m\u001b[1mwandb\u001b[0m: \tfc_layer_size_2: 256\n",
      "\u001b[34m\u001b[1mwandb\u001b[0m: \tlearning_rate: 0.0010220551146562708\n",
      "\u001b[34m\u001b[1mwandb\u001b[0m: \toptimiser: sgd\n",
      "Failed to detect the name of this notebook, you can set it manually with the WANDB_NOTEBOOK_NAME environment variable to enable code saving.\n"
     ]
    },
    {
     "data": {
      "text/html": [
       "wandb version 0.15.10 is available!  To upgrade, please run:\n",
       " $ pip install wandb --upgrade"
      ],
      "text/plain": [
       "<IPython.core.display.HTML object>"
      ]
     },
     "metadata": {},
     "output_type": "display_data"
    },
    {
     "data": {
      "text/html": [
       "Tracking run with wandb version 0.15.5"
      ],
      "text/plain": [
       "<IPython.core.display.HTML object>"
      ]
     },
     "metadata": {},
     "output_type": "display_data"
    },
    {
     "data": {
      "text/html": [
       "Run data is saved locally in <code>c:\\Users\\User\\Projects\\pneumonia-xray-classification\\notebooks\\wandb\\run-20230916_195340-mt63eq9t</code>"
      ],
      "text/plain": [
       "<IPython.core.display.HTML object>"
      ]
     },
     "metadata": {},
     "output_type": "display_data"
    },
    {
     "data": {
      "text/html": [
       "Syncing run <strong><a href='https://wandb.ai/marcus-lim/PCXR-DenseNet-121-Evaluation/runs/mt63eq9t' target=\"_blank\">exalted-sweep-10</a></strong> to <a href='https://wandb.ai/marcus-lim/PCXR-DenseNet-121-Evaluation' target=\"_blank\">Weights & Biases</a> (<a href='https://wandb.me/run' target=\"_blank\">docs</a>)<br/>Sweep page: <a href='https://wandb.ai/marcus-lim/PCXR-DenseNet-121-Evaluation/sweeps/5k5asc7o' target=\"_blank\">https://wandb.ai/marcus-lim/PCXR-DenseNet-121-Evaluation/sweeps/5k5asc7o</a>"
      ],
      "text/plain": [
       "<IPython.core.display.HTML object>"
      ]
     },
     "metadata": {},
     "output_type": "display_data"
    },
    {
     "data": {
      "text/html": [
       " View project at <a href='https://wandb.ai/marcus-lim/PCXR-DenseNet-121-Evaluation' target=\"_blank\">https://wandb.ai/marcus-lim/PCXR-DenseNet-121-Evaluation</a>"
      ],
      "text/plain": [
       "<IPython.core.display.HTML object>"
      ]
     },
     "metadata": {},
     "output_type": "display_data"
    },
    {
     "data": {
      "text/html": [
       " View sweep at <a href='https://wandb.ai/marcus-lim/PCXR-DenseNet-121-Evaluation/sweeps/5k5asc7o' target=\"_blank\">https://wandb.ai/marcus-lim/PCXR-DenseNet-121-Evaluation/sweeps/5k5asc7o</a>"
      ],
      "text/plain": [
       "<IPython.core.display.HTML object>"
      ]
     },
     "metadata": {},
     "output_type": "display_data"
    },
    {
     "data": {
      "text/html": [
       " View run at <a href='https://wandb.ai/marcus-lim/PCXR-DenseNet-121-Evaluation/runs/mt63eq9t' target=\"_blank\">https://wandb.ai/marcus-lim/PCXR-DenseNet-121-Evaluation/runs/mt63eq9t</a>"
      ],
      "text/plain": [
       "<IPython.core.display.HTML object>"
      ]
     },
     "metadata": {},
     "output_type": "display_data"
    },
    {
     "name": "stdout",
     "output_type": "stream",
     "text": [
      "Found 4684 files belonging to 3 classes.\n",
      "Using 3748 files for training.\n",
      "Using 936 files for validation.\n",
      "Found 1172 files belonging to 3 classes.\n",
      "Generating predictions and computing metrics for Epoch 1 \n",
      "30/30 [==============================] - 3s 60ms/step\n",
      "training loss : 1.0311094522476196 , training acc : 0.4978655278682709 , mcc score : 0.2957068383693695\n",
      "aucroc score  : 0.6260354518890381 , f1 score     : 0.5035702586174011 \n",
      "Generating predictions and computing metrics for Epoch 2 \n",
      "30/30 [==============================] - 2s 59ms/step\n",
      "training loss : 0.9550648331642151 , training acc : 0.607524037361145 , mcc score : 0.3582257032394409\n",
      "aucroc score  : 0.6769230961799622 , f1 score     : 0.5550286173820496 \n",
      "Generating predictions and computing metrics for Epoch 3 \n",
      "30/30 [==============================] - 2s 63ms/step\n",
      "training loss : 0.9030935764312744 , training acc : 0.6496798396110535 , mcc score : 0.41337111592292786\n",
      "aucroc score  : 0.7153846025466919 , f1 score     : 0.5891120433807373 \n",
      "Generating predictions and computing metrics for Epoch 4 \n",
      "30/30 [==============================] - 2s 60ms/step\n",
      "training loss : 0.8661131858825684 , training acc : 0.6632871031761169 , mcc score : 0.4287683069705963\n",
      "aucroc score  : 0.7275147438049316 , f1 score     : 0.598391056060791 \n",
      "Generating predictions and computing metrics for Epoch 5 \n",
      "30/30 [==============================] - 2s 60ms/step\n",
      "training loss : 0.8288739919662476 , training acc : 0.6819637417793274 , mcc score : 0.44369035959243774\n",
      "aucroc score  : 0.7343195080757141 , f1 score     : 0.6068205833435059 \n",
      "Generating predictions and computing metrics for Epoch 6 \n",
      "30/30 [==============================] - 2s 60ms/step\n",
      "training loss : 0.7915894389152527 , training acc : 0.6921024322509766 , mcc score : 0.4534883499145508\n",
      "aucroc score  : 0.7423076629638672 , f1 score     : 0.6133875846862793 \n",
      "Generating predictions and computing metrics for Epoch 7 \n",
      "30/30 [==============================] - 2s 61ms/step\n",
      "training loss : 0.7688325047492981 , training acc : 0.7003735303878784 , mcc score : 0.4535619616508484\n",
      "aucroc score  : 0.7392011880874634 , f1 score     : 0.6154921650886536 \n",
      "Generating predictions and computing metrics for Epoch 8 \n",
      "30/30 [==============================] - 2s 60ms/step\n",
      "training loss : 0.7460401654243469 , training acc : 0.709445059299469 , mcc score : 0.4698945879936218\n",
      "aucroc score  : 0.7480769157409668 , f1 score     : 0.6285342574119568 \n",
      "Generating predictions and computing metrics for Epoch 9 \n",
      "30/30 [==============================] - 2s 59ms/step\n",
      "training loss : 0.7251831293106079 , training acc : 0.7161152362823486 , mcc score : 0.4731096923351288\n",
      "aucroc score  : 0.7454142570495605 , f1 score     : 0.6299238204956055 \n",
      "Generating predictions and computing metrics for Epoch 10 \n",
      "30/30 [==============================] - 2s 62ms/step\n",
      "training loss : 0.7033665776252747 , training acc : 0.7241195440292358 , mcc score : 0.4780334532260895\n",
      "aucroc score  : 0.7468935251235962 , f1 score     : 0.6335234045982361 \n"
     ]
    },
    {
     "data": {
      "text/html": [
       "Waiting for W&B process to finish... <strong style=\"color:green\">(success).</strong>"
      ],
      "text/plain": [
       "<IPython.core.display.HTML object>"
      ]
     },
     "metadata": {},
     "output_type": "display_data"
    },
    {
     "data": {
      "text/html": [
       "<style>\n",
       "    table.wandb td:nth-child(1) { padding: 0 10px; text-align: left ; width: auto;} td:nth-child(2) {text-align: left ; width: 100%}\n",
       "    .wandb-row { display: flex; flex-direction: row; flex-wrap: wrap; justify-content: flex-start; width: 100% }\n",
       "    .wandb-col { display: flex; flex-direction: column; flex-basis: 100%; flex: 1; padding: 10px; }\n",
       "    </style>\n",
       "<div class=\"wandb-row\"><div class=\"wandb-col\"><h3>Run history:</h3><br/><table class=\"wandb\"><tr><td>auc_roc</td><td>▁▄▆▇▇█▇███</td></tr><tr><td>epoch/accuracy</td><td>▁▄▆▆▇▇▇███</td></tr><tr><td>epoch/epoch</td><td>▁▂▃▃▄▅▆▆▇█</td></tr><tr><td>epoch/learning_rate</td><td>▁▁▁▁▁▁▁▁▁▁</td></tr><tr><td>epoch/loss</td><td>█▆▅▄▄▃▂▂▁▁</td></tr><tr><td>epoch/val_accuracy</td><td>▁▆▆▇▇█████</td></tr><tr><td>epoch/val_loss</td><td>█▆▅▄▃▃▂▂▁▁</td></tr><tr><td>fmeasure</td><td>▁▄▆▆▇▇▇███</td></tr><tr><td>mcc</td><td>▁▃▆▆▇▇▇███</td></tr></table><br/></div><div class=\"wandb-col\"><h3>Run summary:</h3><br/><table class=\"wandb\"><tr><td>auc_roc</td><td>0.74689</td></tr><tr><td>epoch/accuracy</td><td>0.72412</td></tr><tr><td>epoch/epoch</td><td>9</td></tr><tr><td>epoch/learning_rate</td><td>0.00102</td></tr><tr><td>epoch/loss</td><td>0.70337</td></tr><tr><td>epoch/val_accuracy</td><td>0.74466</td></tr><tr><td>epoch/val_loss</td><td>0.6462</td></tr><tr><td>fmeasure</td><td>0.63352</td></tr><tr><td>mcc</td><td>0.47803</td></tr></table><br/></div></div>"
      ],
      "text/plain": [
       "<IPython.core.display.HTML object>"
      ]
     },
     "metadata": {},
     "output_type": "display_data"
    },
    {
     "data": {
      "text/html": [
       " View run <strong style=\"color:#cdcd00\">exalted-sweep-10</strong> at: <a href='https://wandb.ai/marcus-lim/PCXR-DenseNet-121-Evaluation/runs/mt63eq9t' target=\"_blank\">https://wandb.ai/marcus-lim/PCXR-DenseNet-121-Evaluation/runs/mt63eq9t</a><br/>Synced 5 W&B file(s), 0 media file(s), 0 artifact file(s) and 0 other file(s)"
      ],
      "text/plain": [
       "<IPython.core.display.HTML object>"
      ]
     },
     "metadata": {},
     "output_type": "display_data"
    },
    {
     "data": {
      "text/html": [
       "Find logs at: <code>.\\wandb\\run-20230916_195340-mt63eq9t\\logs</code>"
      ],
      "text/plain": [
       "<IPython.core.display.HTML object>"
      ]
     },
     "metadata": {},
     "output_type": "display_data"
    },
    {
     "name": "stderr",
     "output_type": "stream",
     "text": [
      "\u001b[34m\u001b[1mwandb\u001b[0m: Agent Starting Run: c6ejgrt2 with config:\n",
      "\u001b[34m\u001b[1mwandb\u001b[0m: \tbatch_size: 32\n",
      "\u001b[34m\u001b[1mwandb\u001b[0m: \tdropout_1: 0.6\n",
      "\u001b[34m\u001b[1mwandb\u001b[0m: \tdropout_2: 0.8\n",
      "\u001b[34m\u001b[1mwandb\u001b[0m: \tdropout_3: 0.6\n",
      "\u001b[34m\u001b[1mwandb\u001b[0m: \tepochs: 10\n",
      "\u001b[34m\u001b[1mwandb\u001b[0m: \tfc_layer_size_1: 512\n",
      "\u001b[34m\u001b[1mwandb\u001b[0m: \tfc_layer_size_2: 256\n",
      "\u001b[34m\u001b[1mwandb\u001b[0m: \tlearning_rate: 0.0008914019353585136\n",
      "\u001b[34m\u001b[1mwandb\u001b[0m: \toptimiser: adam\n",
      "Failed to detect the name of this notebook, you can set it manually with the WANDB_NOTEBOOK_NAME environment variable to enable code saving.\n"
     ]
    },
    {
     "data": {
      "text/html": [
       "wandb version 0.15.10 is available!  To upgrade, please run:\n",
       " $ pip install wandb --upgrade"
      ],
      "text/plain": [
       "<IPython.core.display.HTML object>"
      ]
     },
     "metadata": {},
     "output_type": "display_data"
    },
    {
     "data": {
      "text/html": [
       "Tracking run with wandb version 0.15.5"
      ],
      "text/plain": [
       "<IPython.core.display.HTML object>"
      ]
     },
     "metadata": {},
     "output_type": "display_data"
    },
    {
     "data": {
      "text/html": [
       "Run data is saved locally in <code>c:\\Users\\User\\Projects\\pneumonia-xray-classification\\notebooks\\wandb\\run-20230916_200537-c6ejgrt2</code>"
      ],
      "text/plain": [
       "<IPython.core.display.HTML object>"
      ]
     },
     "metadata": {},
     "output_type": "display_data"
    },
    {
     "data": {
      "text/html": [
       "Syncing run <strong><a href='https://wandb.ai/marcus-lim/PCXR-DenseNet-121-Evaluation/runs/c6ejgrt2' target=\"_blank\">floral-sweep-11</a></strong> to <a href='https://wandb.ai/marcus-lim/PCXR-DenseNet-121-Evaluation' target=\"_blank\">Weights & Biases</a> (<a href='https://wandb.me/run' target=\"_blank\">docs</a>)<br/>Sweep page: <a href='https://wandb.ai/marcus-lim/PCXR-DenseNet-121-Evaluation/sweeps/5k5asc7o' target=\"_blank\">https://wandb.ai/marcus-lim/PCXR-DenseNet-121-Evaluation/sweeps/5k5asc7o</a>"
      ],
      "text/plain": [
       "<IPython.core.display.HTML object>"
      ]
     },
     "metadata": {},
     "output_type": "display_data"
    },
    {
     "data": {
      "text/html": [
       " View project at <a href='https://wandb.ai/marcus-lim/PCXR-DenseNet-121-Evaluation' target=\"_blank\">https://wandb.ai/marcus-lim/PCXR-DenseNet-121-Evaluation</a>"
      ],
      "text/plain": [
       "<IPython.core.display.HTML object>"
      ]
     },
     "metadata": {},
     "output_type": "display_data"
    },
    {
     "data": {
      "text/html": [
       " View sweep at <a href='https://wandb.ai/marcus-lim/PCXR-DenseNet-121-Evaluation/sweeps/5k5asc7o' target=\"_blank\">https://wandb.ai/marcus-lim/PCXR-DenseNet-121-Evaluation/sweeps/5k5asc7o</a>"
      ],
      "text/plain": [
       "<IPython.core.display.HTML object>"
      ]
     },
     "metadata": {},
     "output_type": "display_data"
    },
    {
     "data": {
      "text/html": [
       " View run at <a href='https://wandb.ai/marcus-lim/PCXR-DenseNet-121-Evaluation/runs/c6ejgrt2' target=\"_blank\">https://wandb.ai/marcus-lim/PCXR-DenseNet-121-Evaluation/runs/c6ejgrt2</a>"
      ],
      "text/plain": [
       "<IPython.core.display.HTML object>"
      ]
     },
     "metadata": {},
     "output_type": "display_data"
    },
    {
     "name": "stdout",
     "output_type": "stream",
     "text": [
      "Found 4684 files belonging to 3 classes.\n",
      "Using 3748 files for training.\n",
      "Using 936 files for validation.\n",
      "Found 1172 files belonging to 3 classes.\n",
      "Generating predictions and computing metrics for Epoch 1 \n",
      "30/30 [==============================] - 3s 59ms/step\n",
      "training loss : 0.8416165709495544 , training acc : 0.6352721452713013 , mcc score : 0.49471181631088257\n",
      "aucroc score  : 0.7434911727905273 , f1 score     : 0.6440863013267517 \n",
      "Generating predictions and computing metrics for Epoch 2 \n",
      "30/30 [==============================] - 2s 59ms/step\n",
      "training loss : 0.7076644897460938 , training acc : 0.6966382265090942 , mcc score : 0.505678653717041\n",
      "aucroc score  : 0.7357988357543945 , f1 score     : 0.6430874466896057 \n",
      "Generating predictions and computing metrics for Epoch 3 \n",
      "30/30 [==============================] - 2s 60ms/step\n",
      "training loss : 0.6671392917633057 , training acc : 0.7206510305404663 , mcc score : 0.5666919946670532\n",
      "aucroc score  : 0.8047337532043457 , f1 score     : 0.7013123035430908 \n",
      "Generating predictions and computing metrics for Epoch 4 \n",
      "30/30 [==============================] - 2s 60ms/step\n",
      "training loss : 0.6276454925537109 , training acc : 0.7267876267433167 , mcc score : 0.5334100127220154\n",
      "aucroc score  : 0.7504438161849976 , f1 score     : 0.6690369248390198 \n",
      "Generating predictions and computing metrics for Epoch 5 \n",
      "30/30 [==============================] - 2s 59ms/step\n",
      "training loss : 0.6211945414543152 , training acc : 0.737993597984314 , mcc score : 0.620753288269043\n",
      "aucroc score  : 0.8520709872245789 , f1 score     : 0.7424284815788269 \n",
      "Generating predictions and computing metrics for Epoch 6 \n",
      "30/30 [==============================] - 2s 59ms/step\n",
      "training loss : 0.5900124311447144 , training acc : 0.7561365962028503 , mcc score : 0.6029513478279114\n",
      "aucroc score  : 0.8393491506576538 , f1 score     : 0.7301516532897949 \n",
      "Generating predictions and computing metrics for Epoch 7 \n",
      "30/30 [==============================] - 2s 60ms/step\n",
      "training loss : 0.6034681797027588 , training acc : 0.7475987076759338 , mcc score : 0.5490649342536926\n",
      "aucroc score  : 0.7900887131690979 , f1 score     : 0.6875229477882385 \n",
      "Generating predictions and computing metrics for Epoch 8 \n",
      "30/30 [==============================] - 2s 60ms/step\n",
      "training loss : 0.5716931819915771 , training acc : 0.7625400424003601 , mcc score : 0.6301500201225281\n",
      "aucroc score  : 0.8859467506408691 , f1 score     : 0.753641664981842 \n",
      "Generating predictions and computing metrics for Epoch 9 \n",
      "30/30 [==============================] - 2s 60ms/step\n",
      "training loss : 0.5704542994499207 , training acc : 0.7588046789169312 , mcc score : 0.598890483379364\n",
      "aucroc score  : 0.8405325412750244 , f1 score     : 0.7241415977478027 \n",
      "Generating predictions and computing metrics for Epoch 10 \n",
      "30/30 [==============================] - 2s 60ms/step\n",
      "training loss : 0.5589408278465271 , training acc : 0.7724119424819946 , mcc score : 0.6392362713813782\n",
      "aucroc score  : 0.8902366161346436 , f1 score     : 0.7558755874633789 \n"
     ]
    },
    {
     "data": {
      "text/html": [
       "Waiting for W&B process to finish... <strong style=\"color:green\">(success).</strong>"
      ],
      "text/plain": [
       "<IPython.core.display.HTML object>"
      ]
     },
     "metadata": {},
     "output_type": "display_data"
    },
    {
     "data": {
      "text/html": [
       "<style>\n",
       "    table.wandb td:nth-child(1) { padding: 0 10px; text-align: left ; width: auto;} td:nth-child(2) {text-align: left ; width: 100%}\n",
       "    .wandb-row { display: flex; flex-direction: row; flex-wrap: wrap; justify-content: flex-start; width: 100% }\n",
       "    .wandb-col { display: flex; flex-direction: column; flex-basis: 100%; flex: 1; padding: 10px; }\n",
       "    </style>\n",
       "<div class=\"wandb-row\"><div class=\"wandb-col\"><h3>Run history:</h3><br/><table class=\"wandb\"><tr><td>auc_roc</td><td>▁▁▄▂▆▆▃█▆█</td></tr><tr><td>epoch/accuracy</td><td>▁▄▅▆▆▇▇▇▇█</td></tr><tr><td>epoch/epoch</td><td>▁▂▃▃▄▅▆▆▇█</td></tr><tr><td>epoch/learning_rate</td><td>▁▁▁▁▁▁▁▁▁▁</td></tr><tr><td>epoch/loss</td><td>█▅▄▃▃▂▂▁▁▁</td></tr><tr><td>epoch/val_accuracy</td><td>▂▁▅▇▇▅█▇▇▇</td></tr><tr><td>epoch/val_loss</td><td>▇█▅▁▄▄▁▄▄▅</td></tr><tr><td>fmeasure</td><td>▁▁▅▃▇▆▄█▆█</td></tr><tr><td>mcc</td><td>▁▂▄▃▇▆▄█▆█</td></tr></table><br/></div><div class=\"wandb-col\"><h3>Run summary:</h3><br/><table class=\"wandb\"><tr><td>auc_roc</td><td>0.89024</td></tr><tr><td>epoch/accuracy</td><td>0.77241</td></tr><tr><td>epoch/epoch</td><td>9</td></tr><tr><td>epoch/learning_rate</td><td>0.00089</td></tr><tr><td>epoch/loss</td><td>0.55894</td></tr><tr><td>epoch/val_accuracy</td><td>0.78098</td></tr><tr><td>epoch/val_loss</td><td>0.53489</td></tr><tr><td>fmeasure</td><td>0.75588</td></tr><tr><td>mcc</td><td>0.63924</td></tr></table><br/></div></div>"
      ],
      "text/plain": [
       "<IPython.core.display.HTML object>"
      ]
     },
     "metadata": {},
     "output_type": "display_data"
    },
    {
     "data": {
      "text/html": [
       " View run <strong style=\"color:#cdcd00\">floral-sweep-11</strong> at: <a href='https://wandb.ai/marcus-lim/PCXR-DenseNet-121-Evaluation/runs/c6ejgrt2' target=\"_blank\">https://wandb.ai/marcus-lim/PCXR-DenseNet-121-Evaluation/runs/c6ejgrt2</a><br/>Synced 5 W&B file(s), 0 media file(s), 0 artifact file(s) and 0 other file(s)"
      ],
      "text/plain": [
       "<IPython.core.display.HTML object>"
      ]
     },
     "metadata": {},
     "output_type": "display_data"
    },
    {
     "data": {
      "text/html": [
       "Find logs at: <code>.\\wandb\\run-20230916_200537-c6ejgrt2\\logs</code>"
      ],
      "text/plain": [
       "<IPython.core.display.HTML object>"
      ]
     },
     "metadata": {},
     "output_type": "display_data"
    },
    {
     "name": "stderr",
     "output_type": "stream",
     "text": [
      "\u001b[34m\u001b[1mwandb\u001b[0m: Agent Starting Run: 6g91w3o5 with config:\n",
      "\u001b[34m\u001b[1mwandb\u001b[0m: \tbatch_size: 32\n",
      "\u001b[34m\u001b[1mwandb\u001b[0m: \tdropout_1: 0.6\n",
      "\u001b[34m\u001b[1mwandb\u001b[0m: \tdropout_2: 0.2\n",
      "\u001b[34m\u001b[1mwandb\u001b[0m: \tdropout_3: 0.2\n",
      "\u001b[34m\u001b[1mwandb\u001b[0m: \tepochs: 10\n",
      "\u001b[34m\u001b[1mwandb\u001b[0m: \tfc_layer_size_1: 64\n",
      "\u001b[34m\u001b[1mwandb\u001b[0m: \tfc_layer_size_2: 512\n",
      "\u001b[34m\u001b[1mwandb\u001b[0m: \tlearning_rate: 0.0024881395410352083\n",
      "\u001b[34m\u001b[1mwandb\u001b[0m: \toptimiser: adam\n",
      "Failed to detect the name of this notebook, you can set it manually with the WANDB_NOTEBOOK_NAME environment variable to enable code saving.\n"
     ]
    },
    {
     "data": {
      "text/html": [
       "wandb version 0.15.10 is available!  To upgrade, please run:\n",
       " $ pip install wandb --upgrade"
      ],
      "text/plain": [
       "<IPython.core.display.HTML object>"
      ]
     },
     "metadata": {},
     "output_type": "display_data"
    },
    {
     "data": {
      "text/html": [
       "Tracking run with wandb version 0.15.5"
      ],
      "text/plain": [
       "<IPython.core.display.HTML object>"
      ]
     },
     "metadata": {},
     "output_type": "display_data"
    },
    {
     "data": {
      "text/html": [
       "Run data is saved locally in <code>c:\\Users\\User\\Projects\\pneumonia-xray-classification\\notebooks\\wandb\\run-20230916_201727-6g91w3o5</code>"
      ],
      "text/plain": [
       "<IPython.core.display.HTML object>"
      ]
     },
     "metadata": {},
     "output_type": "display_data"
    },
    {
     "data": {
      "text/html": [
       "Syncing run <strong><a href='https://wandb.ai/marcus-lim/PCXR-DenseNet-121-Evaluation/runs/6g91w3o5' target=\"_blank\">laced-sweep-12</a></strong> to <a href='https://wandb.ai/marcus-lim/PCXR-DenseNet-121-Evaluation' target=\"_blank\">Weights & Biases</a> (<a href='https://wandb.me/run' target=\"_blank\">docs</a>)<br/>Sweep page: <a href='https://wandb.ai/marcus-lim/PCXR-DenseNet-121-Evaluation/sweeps/5k5asc7o' target=\"_blank\">https://wandb.ai/marcus-lim/PCXR-DenseNet-121-Evaluation/sweeps/5k5asc7o</a>"
      ],
      "text/plain": [
       "<IPython.core.display.HTML object>"
      ]
     },
     "metadata": {},
     "output_type": "display_data"
    },
    {
     "data": {
      "text/html": [
       " View project at <a href='https://wandb.ai/marcus-lim/PCXR-DenseNet-121-Evaluation' target=\"_blank\">https://wandb.ai/marcus-lim/PCXR-DenseNet-121-Evaluation</a>"
      ],
      "text/plain": [
       "<IPython.core.display.HTML object>"
      ]
     },
     "metadata": {},
     "output_type": "display_data"
    },
    {
     "data": {
      "text/html": [
       " View sweep at <a href='https://wandb.ai/marcus-lim/PCXR-DenseNet-121-Evaluation/sweeps/5k5asc7o' target=\"_blank\">https://wandb.ai/marcus-lim/PCXR-DenseNet-121-Evaluation/sweeps/5k5asc7o</a>"
      ],
      "text/plain": [
       "<IPython.core.display.HTML object>"
      ]
     },
     "metadata": {},
     "output_type": "display_data"
    },
    {
     "data": {
      "text/html": [
       " View run at <a href='https://wandb.ai/marcus-lim/PCXR-DenseNet-121-Evaluation/runs/6g91w3o5' target=\"_blank\">https://wandb.ai/marcus-lim/PCXR-DenseNet-121-Evaluation/runs/6g91w3o5</a>"
      ],
      "text/plain": [
       "<IPython.core.display.HTML object>"
      ]
     },
     "metadata": {},
     "output_type": "display_data"
    },
    {
     "name": "stdout",
     "output_type": "stream",
     "text": [
      "Found 4684 files belonging to 3 classes.\n",
      "Using 3748 files for training.\n",
      "Using 936 files for validation.\n",
      "Found 1172 files belonging to 3 classes.\n",
      "Generating predictions and computing metrics for Epoch 1 \n",
      "30/30 [==============================] - 3s 60ms/step\n",
      "training loss : 0.6303972005844116 , training acc : 0.7310565710067749 , mcc score : 0.444705069065094\n",
      "aucroc score  : 0.7312129735946655 , f1 score     : 0.5782033801078796 \n",
      "Generating predictions and computing metrics for Epoch 2 \n",
      "30/30 [==============================] - 2s 58ms/step\n",
      "training loss : 0.5394710898399353 , training acc : 0.7833511233329773 , mcc score : 0.6317824721336365\n",
      "aucroc score  : 0.9039939641952515 , f1 score     : 0.7546462416648865 \n",
      "Generating predictions and computing metrics for Epoch 3 \n",
      "30/30 [==============================] - 2s 58ms/step\n",
      "training loss : 0.5393046140670776 , training acc : 0.7814834713935852 , mcc score : 0.4339434504508972\n",
      "aucroc score  : 0.6538461446762085 , f1 score     : 0.576915979385376 \n",
      "Generating predictions and computing metrics for Epoch 4 \n",
      "30/30 [==============================] - 2s 58ms/step\n",
      "training loss : 0.5145226120948792 , training acc : 0.7873532772064209 , mcc score : 0.5242682695388794\n",
      "aucroc score  : 0.7434911727905273 , f1 score     : 0.6601549983024597 \n",
      "Generating predictions and computing metrics for Epoch 5 \n",
      "30/30 [==============================] - 2s 58ms/step\n",
      "training loss : 0.5110671520233154 , training acc : 0.7937566637992859 , mcc score : 0.48408979177474976\n",
      "aucroc score  : 0.6915680170059204 , f1 score     : 0.6198949217796326 \n",
      "Generating predictions and computing metrics for Epoch 6 \n",
      "30/30 [==============================] - 2s 58ms/step\n",
      "training loss : 0.49895042181015015 , training acc : 0.7897545099258423 , mcc score : 0.5967581272125244\n",
      "aucroc score  : 0.839053213596344 , f1 score     : 0.7272409796714783 \n",
      "Generating predictions and computing metrics for Epoch 7 \n",
      "30/30 [==============================] - 2s 58ms/step\n",
      "training loss : 0.4948958456516266 , training acc : 0.7900213599205017 , mcc score : 0.48580843210220337\n",
      "aucroc score  : 0.7150887250900269 , f1 score     : 0.638908863067627 \n",
      "Generating predictions and computing metrics for Epoch 8 \n",
      "30/30 [==============================] - 2s 58ms/step\n",
      "training loss : 0.48746994137763977 , training acc : 0.7998932600021362 , mcc score : 0.5451493859291077\n",
      "aucroc score  : 0.7908283472061157 , f1 score     : 0.6896112561225891 \n",
      "Generating predictions and computing metrics for Epoch 9 \n",
      "30/30 [==============================] - 2s 58ms/step\n",
      "training loss : 0.493955135345459 , training acc : 0.7953575253486633 , mcc score : 0.5316241979598999\n",
      "aucroc score  : 0.7739644646644592 , f1 score     : 0.6795080304145813 \n",
      "Generating predictions and computing metrics for Epoch 10 \n",
      "30/30 [==============================] - 2s 61ms/step\n",
      "training loss : 0.47717785835266113 , training acc : 0.8049626350402832 , mcc score : 0.5578907132148743\n",
      "aucroc score  : 0.7977810502052307 , f1 score     : 0.6957072615623474 \n"
     ]
    },
    {
     "data": {
      "text/html": [
       "Waiting for W&B process to finish... <strong style=\"color:green\">(success).</strong>"
      ],
      "text/plain": [
       "<IPython.core.display.HTML object>"
      ]
     },
     "metadata": {},
     "output_type": "display_data"
    },
    {
     "data": {
      "text/html": [
       "<style>\n",
       "    table.wandb td:nth-child(1) { padding: 0 10px; text-align: left ; width: auto;} td:nth-child(2) {text-align: left ; width: 100%}\n",
       "    .wandb-row { display: flex; flex-direction: row; flex-wrap: wrap; justify-content: flex-start; width: 100% }\n",
       "    .wandb-col { display: flex; flex-direction: column; flex-basis: 100%; flex: 1; padding: 10px; }\n",
       "    </style>\n",
       "<div class=\"wandb-row\"><div class=\"wandb-col\"><h3>Run history:</h3><br/><table class=\"wandb\"><tr><td>auc_roc</td><td>▃█▁▄▂▆▃▅▄▅</td></tr><tr><td>epoch/accuracy</td><td>▁▆▆▆▇▇▇█▇█</td></tr><tr><td>epoch/epoch</td><td>▁▂▃▃▄▅▆▆▇█</td></tr><tr><td>epoch/learning_rate</td><td>▁▁▁▁▁▁▁▁▁▁</td></tr><tr><td>epoch/loss</td><td>█▄▄▃▃▂▂▁▂▁</td></tr><tr><td>epoch/val_accuracy</td><td>▁▅▅▇█▇▆▇▇▇</td></tr><tr><td>epoch/val_loss</td><td>█▅▃▃▁▁▂▂▂▂</td></tr><tr><td>fmeasure</td><td>▁█▁▄▃▇▃▅▅▆</td></tr><tr><td>mcc</td><td>▁█▁▄▃▇▃▅▄▅</td></tr></table><br/></div><div class=\"wandb-col\"><h3>Run summary:</h3><br/><table class=\"wandb\"><tr><td>auc_roc</td><td>0.79778</td></tr><tr><td>epoch/accuracy</td><td>0.80496</td></tr><tr><td>epoch/epoch</td><td>9</td></tr><tr><td>epoch/learning_rate</td><td>0.00249</td></tr><tr><td>epoch/loss</td><td>0.47718</td></tr><tr><td>epoch/val_accuracy</td><td>0.79167</td></tr><tr><td>epoch/val_loss</td><td>0.50067</td></tr><tr><td>fmeasure</td><td>0.69571</td></tr><tr><td>mcc</td><td>0.55789</td></tr></table><br/></div></div>"
      ],
      "text/plain": [
       "<IPython.core.display.HTML object>"
      ]
     },
     "metadata": {},
     "output_type": "display_data"
    },
    {
     "data": {
      "text/html": [
       " View run <strong style=\"color:#cdcd00\">laced-sweep-12</strong> at: <a href='https://wandb.ai/marcus-lim/PCXR-DenseNet-121-Evaluation/runs/6g91w3o5' target=\"_blank\">https://wandb.ai/marcus-lim/PCXR-DenseNet-121-Evaluation/runs/6g91w3o5</a><br/>Synced 5 W&B file(s), 0 media file(s), 0 artifact file(s) and 0 other file(s)"
      ],
      "text/plain": [
       "<IPython.core.display.HTML object>"
      ]
     },
     "metadata": {},
     "output_type": "display_data"
    },
    {
     "data": {
      "text/html": [
       "Find logs at: <code>.\\wandb\\run-20230916_201727-6g91w3o5\\logs</code>"
      ],
      "text/plain": [
       "<IPython.core.display.HTML object>"
      ]
     },
     "metadata": {},
     "output_type": "display_data"
    },
    {
     "name": "stderr",
     "output_type": "stream",
     "text": [
      "\u001b[34m\u001b[1mwandb\u001b[0m: Agent Starting Run: r57jqk9h with config:\n",
      "\u001b[34m\u001b[1mwandb\u001b[0m: \tbatch_size: 32\n",
      "\u001b[34m\u001b[1mwandb\u001b[0m: \tdropout_1: 0.2\n",
      "\u001b[34m\u001b[1mwandb\u001b[0m: \tdropout_2: 0.2\n",
      "\u001b[34m\u001b[1mwandb\u001b[0m: \tdropout_3: 0.8\n",
      "\u001b[34m\u001b[1mwandb\u001b[0m: \tepochs: 10\n",
      "\u001b[34m\u001b[1mwandb\u001b[0m: \tfc_layer_size_1: 128\n",
      "\u001b[34m\u001b[1mwandb\u001b[0m: \tfc_layer_size_2: 64\n",
      "\u001b[34m\u001b[1mwandb\u001b[0m: \tlearning_rate: 0.0033968957251172406\n",
      "\u001b[34m\u001b[1mwandb\u001b[0m: \toptimiser: sgd\n",
      "Failed to detect the name of this notebook, you can set it manually with the WANDB_NOTEBOOK_NAME environment variable to enable code saving.\n"
     ]
    },
    {
     "data": {
      "text/html": [
       "wandb version 0.15.10 is available!  To upgrade, please run:\n",
       " $ pip install wandb --upgrade"
      ],
      "text/plain": [
       "<IPython.core.display.HTML object>"
      ]
     },
     "metadata": {},
     "output_type": "display_data"
    },
    {
     "data": {
      "text/html": [
       "Tracking run with wandb version 0.15.5"
      ],
      "text/plain": [
       "<IPython.core.display.HTML object>"
      ]
     },
     "metadata": {},
     "output_type": "display_data"
    },
    {
     "data": {
      "text/html": [
       "Run data is saved locally in <code>c:\\Users\\User\\Projects\\pneumonia-xray-classification\\notebooks\\wandb\\run-20230916_202913-r57jqk9h</code>"
      ],
      "text/plain": [
       "<IPython.core.display.HTML object>"
      ]
     },
     "metadata": {},
     "output_type": "display_data"
    },
    {
     "data": {
      "text/html": [
       "Syncing run <strong><a href='https://wandb.ai/marcus-lim/PCXR-DenseNet-121-Evaluation/runs/r57jqk9h' target=\"_blank\">smart-sweep-13</a></strong> to <a href='https://wandb.ai/marcus-lim/PCXR-DenseNet-121-Evaluation' target=\"_blank\">Weights & Biases</a> (<a href='https://wandb.me/run' target=\"_blank\">docs</a>)<br/>Sweep page: <a href='https://wandb.ai/marcus-lim/PCXR-DenseNet-121-Evaluation/sweeps/5k5asc7o' target=\"_blank\">https://wandb.ai/marcus-lim/PCXR-DenseNet-121-Evaluation/sweeps/5k5asc7o</a>"
      ],
      "text/plain": [
       "<IPython.core.display.HTML object>"
      ]
     },
     "metadata": {},
     "output_type": "display_data"
    },
    {
     "data": {
      "text/html": [
       " View project at <a href='https://wandb.ai/marcus-lim/PCXR-DenseNet-121-Evaluation' target=\"_blank\">https://wandb.ai/marcus-lim/PCXR-DenseNet-121-Evaluation</a>"
      ],
      "text/plain": [
       "<IPython.core.display.HTML object>"
      ]
     },
     "metadata": {},
     "output_type": "display_data"
    },
    {
     "data": {
      "text/html": [
       " View sweep at <a href='https://wandb.ai/marcus-lim/PCXR-DenseNet-121-Evaluation/sweeps/5k5asc7o' target=\"_blank\">https://wandb.ai/marcus-lim/PCXR-DenseNet-121-Evaluation/sweeps/5k5asc7o</a>"
      ],
      "text/plain": [
       "<IPython.core.display.HTML object>"
      ]
     },
     "metadata": {},
     "output_type": "display_data"
    },
    {
     "data": {
      "text/html": [
       " View run at <a href='https://wandb.ai/marcus-lim/PCXR-DenseNet-121-Evaluation/runs/r57jqk9h' target=\"_blank\">https://wandb.ai/marcus-lim/PCXR-DenseNet-121-Evaluation/runs/r57jqk9h</a>"
      ],
      "text/plain": [
       "<IPython.core.display.HTML object>"
      ]
     },
     "metadata": {},
     "output_type": "display_data"
    },
    {
     "name": "stdout",
     "output_type": "stream",
     "text": [
      "Found 4684 files belonging to 3 classes.\n",
      "Using 3748 files for training.\n",
      "Using 936 files for validation.\n",
      "Found 1172 files belonging to 3 classes.\n",
      "Generating predictions and computing metrics for Epoch 1 \n",
      "30/30 [==============================] - 3s 62ms/step\n",
      "training loss : 1.1219009160995483 , training acc : 0.4255602955818176 , mcc score : 0.17530114948749542\n",
      "aucroc score  : 0.5600591897964478 , f1 score     : 0.3760264813899994 \n",
      "Generating predictions and computing metrics for Epoch 2 \n",
      "30/30 [==============================] - 2s 60ms/step\n",
      "training loss : 0.9598714113235474 , training acc : 0.5474919676780701 , mcc score : 0.40259841084480286\n",
      "aucroc score  : 0.7081360816955566 , f1 score     : 0.5886145234107971 \n"
     ]
    }
   ],
   "source": [
    "train_dir = \"..\\\\enhanced\\\\train\"\n",
    "network = \"densenet-121\"\n",
    "\n",
    "def sweep_train(config_defaults=None):\n",
    "    \n",
    "    # Initialise wandb and start run:\n",
    "    with wandb.init(config=config_defaults):\n",
    "        \n",
    "        wandb.config.architecture = \"DenseNet\"\n",
    "        wandb.config.dataset = \"Chest X-Ray Images (Pneumonia)\"\n",
    "        wandb.config.num_classes = 3\n",
    "        wandb.notes = \"Sweeping through DenseNet model variations\"\n",
    "\n",
    "        model = build_network(network=network,\n",
    "                              fc_layer_size_1=wandb.config.fc_layer_size_1,\n",
    "                              fc_layer_size_2=wandb.config.fc_layer_size_2,\n",
    "                              dropout_1=wandb.config.dropout_1,\n",
    "                              dropout_2=wandb.config.dropout_2,\n",
    "                              dropout_3=wandb.config.dropout_3)\n",
    "\n",
    "        train(model=model,\n",
    "              train_dir=train_dir,\n",
    "              batch_size=wandb.config.batch_size,\n",
    "              epochs=wandb.config.epochs, \n",
    "              learning_rate=wandb.config.learning_rate,\n",
    "              optimiser_name=wandb.config.optimiser)\n",
    "        \n",
    "sweep_id = wandb.sweep(sweep_config, project=\"PCXR-DenseNet-121-Evaluation\")\n",
    "\n",
    "wandb.agent(sweep_id, function=sweep_train, count=15)"
   ]
  },
  {
   "cell_type": "code",
   "execution_count": null,
   "metadata": {},
   "outputs": [],
   "source": [
    "train_dir = \"..\\\\artifacts\\\\train\"\n",
    "network = \"densenet-201\"\n",
    "\n",
    "def sweep_train(config_defaults=None):\n",
    "    \n",
    "    # Initialise wandb and start run:\n",
    "    with wandb.init(config=config_defaults):\n",
    "        \n",
    "        wandb.config.architecture = \"DenseNet\"\n",
    "        wandb.config.dataset = \"Chest X-Ray Images (Pneumonia)\"\n",
    "        wandb.config.num_classes = 3\n",
    "        wandb.notes = \"Sweeping through DenseNet model variations\"\n",
    "\n",
    "        model = build_network(network=network,\n",
    "                              fc_layer_size_1=wandb.config.fc_layer_size_1,\n",
    "                              fc_layer_size_2=wandb.config.fc_layer_size_2,\n",
    "                              dropout_1=wandb.config.dropout_1,\n",
    "                              dropout_2=wandb.config.dropout_2,\n",
    "                              dropout_3=wandb.config.dropout_3)\n",
    "\n",
    "        train(model=model,\n",
    "              train_dir=train_dir,\n",
    "              batch_size=wandb.config.batch_size,\n",
    "              epochs=wandb.config.epochs, \n",
    "              learning_rate=wandb.config.learning_rate,\n",
    "              optimiser_name=wandb.config.optimiser)\n",
    "        \n",
    "sweep_id = wandb.sweep(sweep_config, project=\"PCXR-DenseNet-201-Evaluation\")\n",
    "\n",
    "wandb.agent(sweep_id, function=sweep_train, count=15)"
   ]
  },
  {
   "cell_type": "code",
   "execution_count": null,
   "metadata": {},
   "outputs": [],
   "source": [
    "train_dir = \"..\\\\enhanced\\\\train\"\n",
    "network = \"densenet-201\"\n",
    "\n",
    "def sweep_train(config_defaults=None):\n",
    "    \n",
    "    # Initialise wandb and start run:\n",
    "    with wandb.init(config=config_defaults):\n",
    "        \n",
    "        wandb.config.architecture = \"DenseNet\"\n",
    "        wandb.config.dataset = \"Chest X-Ray Images (Pneumonia)\"\n",
    "        wandb.config.num_classes = 3\n",
    "        wandb.notes = \"Sweeping through DenseNet model variations\"\n",
    "\n",
    "        model = build_network(network=network,\n",
    "                              fc_layer_size_1=wandb.config.fc_layer_size_1,\n",
    "                              fc_layer_size_2=wandb.config.fc_layer_size_2,\n",
    "                              dropout_1=wandb.config.dropout_1,\n",
    "                              dropout_2=wandb.config.dropout_2,\n",
    "                              dropout_3=wandb.config.dropout_3)\n",
    "\n",
    "        train(model=model,\n",
    "              train_dir=train_dir,\n",
    "              batch_size=wandb.config.batch_size,\n",
    "              epochs=wandb.config.epochs, \n",
    "              learning_rate=wandb.config.learning_rate,\n",
    "              optimiser_name=wandb.config.optimiser)\n",
    "        \n",
    "sweep_id = wandb.sweep(sweep_config, project=\"PCXR-DenseNet-201-Evaluation\")\n",
    "\n",
    "wandb.agent(sweep_id, function=sweep_train, count=15)"
   ]
  },
  {
   "cell_type": "code",
   "execution_count": 70,
   "metadata": {},
   "outputs": [],
   "source": [
    "# Close WandB run:\n",
    "wandb.finish()"
   ]
  }
 ],
 "metadata": {
  "kernelspec": {
   "display_name": "Python 3",
   "language": "python",
   "name": "python3"
  },
  "language_info": {
   "codemirror_mode": {
    "name": "ipython",
    "version": 3
   },
   "file_extension": ".py",
   "mimetype": "text/x-python",
   "name": "python",
   "nbconvert_exporter": "python",
   "pygments_lexer": "ipython3",
   "version": "3.8.0"
  },
  "orig_nbformat": 4
 },
 "nbformat": 4,
 "nbformat_minor": 2
}
