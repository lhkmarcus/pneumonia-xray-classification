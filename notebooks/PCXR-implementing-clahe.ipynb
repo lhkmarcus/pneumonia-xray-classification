{
 "cells": [
  {
   "cell_type": "markdown",
   "metadata": {},
   "source": [
    "# Implementing Contrast Limited Adaptive Histogram Equalisation on CXR Images\n",
    "\n",
    "### Objectives\n",
    "\n",
    "The aim of this notebook is to implement the **CLAHE** technique on the CXR images to evaluate whether the increased contrast will benefit model generalisability to new data. Image segmentation will be evaluated as well, if feasible.\n",
    " \n",
    "Once trained and evaluated, each version of the network will be further evaluated with the **GRAD-CAM** framework to visualise the regions of importance in the images. This will be observed in a separate notebook.\n",
    "\n",
    "The experiment tracking will be conducted with the *Weights and Biases* platform. \n",
    "\n",
    "### Machine Configurations\n",
    "\n",
    "`GPU` : NVIDIA GeForce RTX 4090;\n",
    "`CPU` : AMD Ryzen 7 3700X 8-Core Processor;\n",
    "`VRAM` : 24.0 GB"
   ]
  },
  {
   "cell_type": "code",
   "execution_count": null,
   "metadata": {},
   "outputs": [],
   "source": []
  }
 ],
 "metadata": {
  "kernelspec": {
   "display_name": "Python 3",
   "language": "python",
   "name": "python3"
  },
  "language_info": {
   "name": "python",
   "version": "3.8.0"
  },
  "orig_nbformat": 4
 },
 "nbformat": 4,
 "nbformat_minor": 2
}
