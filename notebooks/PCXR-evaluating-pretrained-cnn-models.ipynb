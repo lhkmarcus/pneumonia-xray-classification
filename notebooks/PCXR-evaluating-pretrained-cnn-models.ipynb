{
 "cells": [
  {
   "attachments": {},
   "cell_type": "markdown",
   "metadata": {},
   "source": [
    "# **DenseNet-169 for multi-class classification of CXR images**\n",
    "\n",
    "### Objectives\n",
    "\n",
    "The aim of this notebook is to train a selected pretrained network [TBD] on the Chest X-ray (Pneumonia) data set sourced from Kaggle. The images are composed of CXR scans representing normal lungs, bacterial pneumonia, and viral pneumonia.\n",
    "\n",
    "A **classification head** will be built on top of the chosen network, in which various architectures are developed and evaluated. Several preprocessing techniques are applied, each of which will be evaluated based on the model performance when trained on them. Once trained and evaluated, each version of the network will be further evaluated with the **GRAD-CAM** framework to visualise the regions of importance in the images.\n",
    "\n",
    "The experiment tracking will be conducted with the *Weights and Biases* platform. \n",
    "\n",
    "### Machine Configurations\n",
    "\n",
    "`GPU` : NVIDIA GeForce RTX 4090;\n",
    "`CPU` : AMD Ryzen 7 3700X 8-Core Processor;\n",
    "`VRAM` : 24.0 GB"
   ]
  },
  {
   "cell_type": "markdown",
   "metadata": {},
   "source": [
    "### Load all required libraries:"
   ]
  },
  {
   "cell_type": "code",
   "execution_count": 2,
   "metadata": {},
   "outputs": [
    {
     "name": "stdout",
     "output_type": "stream",
     "text": [
      "TensorFlow version :  2.10.1\n",
      "[PhysicalDevice(name='/physical_device:GPU:0', device_type='GPU')]\n"
     ]
    }
   ],
   "source": [
    "import os\n",
    "import matplotlib.pyplot as plt\n",
    "\n",
    "import tensorflow as tf\n",
    "\n",
    "# Suppress TensorFlow messages:\n",
    "os.environ[\"TF_CPP_MIN_LOG_LEVEL\"] = \"3\"\n",
    "import logging\n",
    "logger = tf.get_logger()\n",
    "logger.setLevel(logging.ERROR)\n",
    "\n",
    "print(\"TensorFlow version : \", tf.__version__)  # check TensorFlow version\n",
    "gpu = tf.config.list_physical_devices(\"GPU\")    # check if TensorFlow is using the GPU\n",
    "print(gpu)\n",
    "\n",
    "# Enable memory growth for GPU:\n",
    "try:\n",
    "   tf.config.experimental.set_memory_growth(gpu[0], True)\n",
    "   print(\"Memory growth set.\")\n",
    "except:\n",
    "    print(\"GPU runtime already initialised.\")\n",
    "\n",
    "# Configure notebook name for WandB:\n",
    "%env \"WANDB_NOTEBOOK_NAME\" \"PCXR-evaluating-pretrained-cnn-model\"\n",
    "import wandb\n",
    "from wandb.keras import WandbCallback\n",
    "wandb.login()"
   ]
  },
  {
   "cell_type": "markdown",
   "metadata": {},
   "source": [
    "### Configure experiment:"
   ]
  },
  {
   "cell_type": "code",
   "execution_count": null,
   "metadata": {},
   "outputs": [],
   "source": [
    "sweep_config = {\n",
    "    \"method\": \"bayes\"\n",
    "    }"
   ]
  },
  {
   "cell_type": "code",
   "execution_count": null,
   "metadata": {},
   "outputs": [],
   "source": [
    "metric = {\n",
    "    \"name\": \"val_loss\",\n",
    "    \"goal\": \"minimize\"   \n",
    "    }\n",
    "\n",
    "sweep_config[\"metric\"] = metric"
   ]
  },
  {
   "cell_type": "code",
   "execution_count": null,
   "metadata": {},
   "outputs": [],
   "source": [
    "param_dict = {\n",
    "    \"batch_size\": {\n",
    "        \"values\": [16, 32, 64]\n",
    "        },\n",
    "    \"optimiser\": {\n",
    "        \"values\": [\"adam\", \"sgd\"]\n",
    "        },\n",
    "    \"fc_layer_size\": {\n",
    "        \"values\": [128, 256, 512]\n",
    "        },\n",
    "    \"dropout\": {\n",
    "        \"values\": [0.3, 0.4, 0.5]\n",
    "        },\n",
    "    }\n",
    "\n",
    "sweep_config['parameters'] = param_dict"
   ]
  },
  {
   "cell_type": "code",
   "execution_count": null,
   "metadata": {},
   "outputs": [],
   "source": [
    "param_dict.update({\n",
    "    \"epochs\": {\n",
    "        'value': 10}\n",
    "    })"
   ]
  },
  {
   "cell_type": "code",
   "execution_count": null,
   "metadata": {},
   "outputs": [],
   "source": [
    "param_dict.update({\n",
    "    'learning_rate': {\n",
    "        \"distribution\": \"uniform\",               # uniform distribution:\n",
    "        \"min\": 0.0001,\n",
    "        \"max\": 0.005\n",
    "      }\n",
    "    })"
   ]
  },
  {
   "cell_type": "code",
   "execution_count": null,
   "metadata": {},
   "outputs": [],
   "source": [
    "config = dict(\n",
    "    learning_rate = 0.0001,\n",
    "    architecture = \"DENSENET-169\",\n",
    "    dataset      = \"Chest X-Ray Images (Pneumonia)\",\n",
    "    class_names  = [\"normal\", \"bacteria\", \"virus\"],\n",
    "    num_classes  = 3,\n",
    "    val_split    = 0.2,\n",
    "    init_epochs  = 10,  # initial epochs\n",
    "    fine_epochs  = 30,  # fine-tuning epochs\n",
    "    batch_size   = 32,\n",
    "    image_size   = (300, 300),\n",
    "    dropout_rate = 0.2,\n",
    "    activation   = \"softmax\"\n",
    ")\n",
    "\n",
    "# Start wandb run and instantiate project\n",
    "wandb.init(\n",
    "    project=\"PCXR-project\", \n",
    "    name=\"custom-logger-test\",\n",
    "    notes=\"testing custom metrics through callback\",\n",
    "    config=config\n",
    ")"
   ]
  }
 ],
 "metadata": {
  "kernelspec": {
   "display_name": "Python 3",
   "language": "python",
   "name": "python3"
  },
  "language_info": {
   "codemirror_mode": {
    "name": "ipython",
    "version": 3
   },
   "file_extension": ".py",
   "mimetype": "text/x-python",
   "name": "python",
   "nbconvert_exporter": "python",
   "pygments_lexer": "ipython3",
   "version": "3.8.0"
  },
  "orig_nbformat": 4
 },
 "nbformat": 4,
 "nbformat_minor": 2
}
